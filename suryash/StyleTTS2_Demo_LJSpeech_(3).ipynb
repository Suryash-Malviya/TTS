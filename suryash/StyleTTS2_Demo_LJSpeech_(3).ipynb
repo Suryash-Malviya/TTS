{
  "nbformat": 4,
  "nbformat_minor": 0,
  "metadata": {
    "colab": {
      "provenance": [],
      "include_colab_link": true
    },
    "kernelspec": {
      "name": "python3",
      "display_name": "Python 3"
    },
    "language_info": {
      "name": "python"
    },
    "widgets": {
      "application/vnd.jupyter.widget-state+json": {
        "2855afdabf944407a64c348dd764176b": {
          "model_module": "@jupyter-widgets/controls",
          "model_name": "HBoxModel",
          "model_module_version": "1.5.0",
          "state": {
            "_dom_classes": [],
            "_model_module": "@jupyter-widgets/controls",
            "_model_module_version": "1.5.0",
            "_model_name": "HBoxModel",
            "_view_count": null,
            "_view_module": "@jupyter-widgets/controls",
            "_view_module_version": "1.5.0",
            "_view_name": "HBoxView",
            "box_style": "",
            "children": [
              "IPY_MODEL_6b97f8e18c564f4ca0bfc8ccfd2ec4b7",
              "IPY_MODEL_824823c43ac2475f9bf3d6d1bcfd7327",
              "IPY_MODEL_c9bc19d02c5646dea1618caba5d6434b"
            ],
            "layout": "IPY_MODEL_ee70caac7e0a49fb8d8bb417a0b1a24f"
          }
        },
        "6b97f8e18c564f4ca0bfc8ccfd2ec4b7": {
          "model_module": "@jupyter-widgets/controls",
          "model_name": "HTMLModel",
          "model_module_version": "1.5.0",
          "state": {
            "_dom_classes": [],
            "_model_module": "@jupyter-widgets/controls",
            "_model_module_version": "1.5.0",
            "_model_name": "HTMLModel",
            "_view_count": null,
            "_view_module": "@jupyter-widgets/controls",
            "_view_module_version": "1.5.0",
            "_view_name": "HTMLView",
            "description": "",
            "description_tooltip": null,
            "layout": "IPY_MODEL_11378668428f45cd93530642d362da52",
            "placeholder": "​",
            "style": "IPY_MODEL_68eb583aab704fd9a1b589fc99ec1745",
            "value": "Resolving data files: 100%"
          }
        },
        "824823c43ac2475f9bf3d6d1bcfd7327": {
          "model_module": "@jupyter-widgets/controls",
          "model_name": "FloatProgressModel",
          "model_module_version": "1.5.0",
          "state": {
            "_dom_classes": [],
            "_model_module": "@jupyter-widgets/controls",
            "_model_module_version": "1.5.0",
            "_model_name": "FloatProgressModel",
            "_view_count": null,
            "_view_module": "@jupyter-widgets/controls",
            "_view_module_version": "1.5.0",
            "_view_name": "ProgressView",
            "bar_style": "success",
            "description": "",
            "description_tooltip": null,
            "layout": "IPY_MODEL_444965ce3d3442a9915b7225f5a6bebf",
            "max": 48,
            "min": 0,
            "orientation": "horizontal",
            "style": "IPY_MODEL_61f887606bd64d59bdb08918febcf6ba",
            "value": 48
          }
        },
        "c9bc19d02c5646dea1618caba5d6434b": {
          "model_module": "@jupyter-widgets/controls",
          "model_name": "HTMLModel",
          "model_module_version": "1.5.0",
          "state": {
            "_dom_classes": [],
            "_model_module": "@jupyter-widgets/controls",
            "_model_module_version": "1.5.0",
            "_model_name": "HTMLModel",
            "_view_count": null,
            "_view_module": "@jupyter-widgets/controls",
            "_view_module_version": "1.5.0",
            "_view_name": "HTMLView",
            "description": "",
            "description_tooltip": null,
            "layout": "IPY_MODEL_7e54e75d3418407d9a3214c7d5efc1a7",
            "placeholder": "​",
            "style": "IPY_MODEL_d5c44668697447bc8fa45f9e720d6740",
            "value": " 48/48 [00:00&lt;00:00, 63.99it/s]"
          }
        },
        "ee70caac7e0a49fb8d8bb417a0b1a24f": {
          "model_module": "@jupyter-widgets/base",
          "model_name": "LayoutModel",
          "model_module_version": "1.2.0",
          "state": {
            "_model_module": "@jupyter-widgets/base",
            "_model_module_version": "1.2.0",
            "_model_name": "LayoutModel",
            "_view_count": null,
            "_view_module": "@jupyter-widgets/base",
            "_view_module_version": "1.2.0",
            "_view_name": "LayoutView",
            "align_content": null,
            "align_items": null,
            "align_self": null,
            "border": null,
            "bottom": null,
            "display": null,
            "flex": null,
            "flex_flow": null,
            "grid_area": null,
            "grid_auto_columns": null,
            "grid_auto_flow": null,
            "grid_auto_rows": null,
            "grid_column": null,
            "grid_gap": null,
            "grid_row": null,
            "grid_template_areas": null,
            "grid_template_columns": null,
            "grid_template_rows": null,
            "height": null,
            "justify_content": null,
            "justify_items": null,
            "left": null,
            "margin": null,
            "max_height": null,
            "max_width": null,
            "min_height": null,
            "min_width": null,
            "object_fit": null,
            "object_position": null,
            "order": null,
            "overflow": null,
            "overflow_x": null,
            "overflow_y": null,
            "padding": null,
            "right": null,
            "top": null,
            "visibility": null,
            "width": null
          }
        },
        "11378668428f45cd93530642d362da52": {
          "model_module": "@jupyter-widgets/base",
          "model_name": "LayoutModel",
          "model_module_version": "1.2.0",
          "state": {
            "_model_module": "@jupyter-widgets/base",
            "_model_module_version": "1.2.0",
            "_model_name": "LayoutModel",
            "_view_count": null,
            "_view_module": "@jupyter-widgets/base",
            "_view_module_version": "1.2.0",
            "_view_name": "LayoutView",
            "align_content": null,
            "align_items": null,
            "align_self": null,
            "border": null,
            "bottom": null,
            "display": null,
            "flex": null,
            "flex_flow": null,
            "grid_area": null,
            "grid_auto_columns": null,
            "grid_auto_flow": null,
            "grid_auto_rows": null,
            "grid_column": null,
            "grid_gap": null,
            "grid_row": null,
            "grid_template_areas": null,
            "grid_template_columns": null,
            "grid_template_rows": null,
            "height": null,
            "justify_content": null,
            "justify_items": null,
            "left": null,
            "margin": null,
            "max_height": null,
            "max_width": null,
            "min_height": null,
            "min_width": null,
            "object_fit": null,
            "object_position": null,
            "order": null,
            "overflow": null,
            "overflow_x": null,
            "overflow_y": null,
            "padding": null,
            "right": null,
            "top": null,
            "visibility": null,
            "width": null
          }
        },
        "68eb583aab704fd9a1b589fc99ec1745": {
          "model_module": "@jupyter-widgets/controls",
          "model_name": "DescriptionStyleModel",
          "model_module_version": "1.5.0",
          "state": {
            "_model_module": "@jupyter-widgets/controls",
            "_model_module_version": "1.5.0",
            "_model_name": "DescriptionStyleModel",
            "_view_count": null,
            "_view_module": "@jupyter-widgets/base",
            "_view_module_version": "1.2.0",
            "_view_name": "StyleView",
            "description_width": ""
          }
        },
        "444965ce3d3442a9915b7225f5a6bebf": {
          "model_module": "@jupyter-widgets/base",
          "model_name": "LayoutModel",
          "model_module_version": "1.2.0",
          "state": {
            "_model_module": "@jupyter-widgets/base",
            "_model_module_version": "1.2.0",
            "_model_name": "LayoutModel",
            "_view_count": null,
            "_view_module": "@jupyter-widgets/base",
            "_view_module_version": "1.2.0",
            "_view_name": "LayoutView",
            "align_content": null,
            "align_items": null,
            "align_self": null,
            "border": null,
            "bottom": null,
            "display": null,
            "flex": null,
            "flex_flow": null,
            "grid_area": null,
            "grid_auto_columns": null,
            "grid_auto_flow": null,
            "grid_auto_rows": null,
            "grid_column": null,
            "grid_gap": null,
            "grid_row": null,
            "grid_template_areas": null,
            "grid_template_columns": null,
            "grid_template_rows": null,
            "height": null,
            "justify_content": null,
            "justify_items": null,
            "left": null,
            "margin": null,
            "max_height": null,
            "max_width": null,
            "min_height": null,
            "min_width": null,
            "object_fit": null,
            "object_position": null,
            "order": null,
            "overflow": null,
            "overflow_x": null,
            "overflow_y": null,
            "padding": null,
            "right": null,
            "top": null,
            "visibility": null,
            "width": null
          }
        },
        "61f887606bd64d59bdb08918febcf6ba": {
          "model_module": "@jupyter-widgets/controls",
          "model_name": "ProgressStyleModel",
          "model_module_version": "1.5.0",
          "state": {
            "_model_module": "@jupyter-widgets/controls",
            "_model_module_version": "1.5.0",
            "_model_name": "ProgressStyleModel",
            "_view_count": null,
            "_view_module": "@jupyter-widgets/base",
            "_view_module_version": "1.2.0",
            "_view_name": "StyleView",
            "bar_color": null,
            "description_width": ""
          }
        },
        "7e54e75d3418407d9a3214c7d5efc1a7": {
          "model_module": "@jupyter-widgets/base",
          "model_name": "LayoutModel",
          "model_module_version": "1.2.0",
          "state": {
            "_model_module": "@jupyter-widgets/base",
            "_model_module_version": "1.2.0",
            "_model_name": "LayoutModel",
            "_view_count": null,
            "_view_module": "@jupyter-widgets/base",
            "_view_module_version": "1.2.0",
            "_view_name": "LayoutView",
            "align_content": null,
            "align_items": null,
            "align_self": null,
            "border": null,
            "bottom": null,
            "display": null,
            "flex": null,
            "flex_flow": null,
            "grid_area": null,
            "grid_auto_columns": null,
            "grid_auto_flow": null,
            "grid_auto_rows": null,
            "grid_column": null,
            "grid_gap": null,
            "grid_row": null,
            "grid_template_areas": null,
            "grid_template_columns": null,
            "grid_template_rows": null,
            "height": null,
            "justify_content": null,
            "justify_items": null,
            "left": null,
            "margin": null,
            "max_height": null,
            "max_width": null,
            "min_height": null,
            "min_width": null,
            "object_fit": null,
            "object_position": null,
            "order": null,
            "overflow": null,
            "overflow_x": null,
            "overflow_y": null,
            "padding": null,
            "right": null,
            "top": null,
            "visibility": null,
            "width": null
          }
        },
        "d5c44668697447bc8fa45f9e720d6740": {
          "model_module": "@jupyter-widgets/controls",
          "model_name": "DescriptionStyleModel",
          "model_module_version": "1.5.0",
          "state": {
            "_model_module": "@jupyter-widgets/controls",
            "_model_module_version": "1.5.0",
            "_model_name": "DescriptionStyleModel",
            "_view_count": null,
            "_view_module": "@jupyter-widgets/base",
            "_view_module_version": "1.2.0",
            "_view_name": "StyleView",
            "description_width": ""
          }
        },
        "5c9b3272b59c41b183b467b06108edcb": {
          "model_module": "@jupyter-widgets/controls",
          "model_name": "HBoxModel",
          "model_module_version": "1.5.0",
          "state": {
            "_dom_classes": [],
            "_model_module": "@jupyter-widgets/controls",
            "_model_module_version": "1.5.0",
            "_model_name": "HBoxModel",
            "_view_count": null,
            "_view_module": "@jupyter-widgets/controls",
            "_view_module_version": "1.5.0",
            "_view_name": "HBoxView",
            "box_style": "",
            "children": [
              "IPY_MODEL_54f6492beefd4e758df815c7b6f80988",
              "IPY_MODEL_031a238233ba4759b610bfc689a0960f",
              "IPY_MODEL_c9cae3aec2f34dd4a152867e8ca78868"
            ],
            "layout": "IPY_MODEL_408d307a203941d6ada36a6f3134de9a"
          }
        },
        "54f6492beefd4e758df815c7b6f80988": {
          "model_module": "@jupyter-widgets/controls",
          "model_name": "HTMLModel",
          "model_module_version": "1.5.0",
          "state": {
            "_dom_classes": [],
            "_model_module": "@jupyter-widgets/controls",
            "_model_module_version": "1.5.0",
            "_model_name": "HTMLModel",
            "_view_count": null,
            "_view_module": "@jupyter-widgets/controls",
            "_view_module_version": "1.5.0",
            "_view_name": "HTMLView",
            "description": "",
            "description_tooltip": null,
            "layout": "IPY_MODEL_a1a68cec63a44af5b9627d2ae6d9c2ba",
            "placeholder": "​",
            "style": "IPY_MODEL_5cce8e6263d24d32b11498d7103844e1",
            "value": "Resolving data files: 100%"
          }
        },
        "031a238233ba4759b610bfc689a0960f": {
          "model_module": "@jupyter-widgets/controls",
          "model_name": "FloatProgressModel",
          "model_module_version": "1.5.0",
          "state": {
            "_dom_classes": [],
            "_model_module": "@jupyter-widgets/controls",
            "_model_module_version": "1.5.0",
            "_model_name": "FloatProgressModel",
            "_view_count": null,
            "_view_module": "@jupyter-widgets/controls",
            "_view_module_version": "1.5.0",
            "_view_name": "ProgressView",
            "bar_style": "success",
            "description": "",
            "description_tooltip": null,
            "layout": "IPY_MODEL_b6e518d8f583463f83c40609708b7117",
            "max": 63,
            "min": 0,
            "orientation": "horizontal",
            "style": "IPY_MODEL_5bf52e3c87844856a58c9cc939cf93f2",
            "value": 63
          }
        },
        "c9cae3aec2f34dd4a152867e8ca78868": {
          "model_module": "@jupyter-widgets/controls",
          "model_name": "HTMLModel",
          "model_module_version": "1.5.0",
          "state": {
            "_dom_classes": [],
            "_model_module": "@jupyter-widgets/controls",
            "_model_module_version": "1.5.0",
            "_model_name": "HTMLModel",
            "_view_count": null,
            "_view_module": "@jupyter-widgets/controls",
            "_view_module_version": "1.5.0",
            "_view_name": "HTMLView",
            "description": "",
            "description_tooltip": null,
            "layout": "IPY_MODEL_038848be59624faabfe5ade59682c0aa",
            "placeholder": "​",
            "style": "IPY_MODEL_5ad8c703425c4ac5a2d17ba99f17031e",
            "value": " 63/63 [00:00&lt;00:00,  6.16it/s]"
          }
        },
        "408d307a203941d6ada36a6f3134de9a": {
          "model_module": "@jupyter-widgets/base",
          "model_name": "LayoutModel",
          "model_module_version": "1.2.0",
          "state": {
            "_model_module": "@jupyter-widgets/base",
            "_model_module_version": "1.2.0",
            "_model_name": "LayoutModel",
            "_view_count": null,
            "_view_module": "@jupyter-widgets/base",
            "_view_module_version": "1.2.0",
            "_view_name": "LayoutView",
            "align_content": null,
            "align_items": null,
            "align_self": null,
            "border": null,
            "bottom": null,
            "display": null,
            "flex": null,
            "flex_flow": null,
            "grid_area": null,
            "grid_auto_columns": null,
            "grid_auto_flow": null,
            "grid_auto_rows": null,
            "grid_column": null,
            "grid_gap": null,
            "grid_row": null,
            "grid_template_areas": null,
            "grid_template_columns": null,
            "grid_template_rows": null,
            "height": null,
            "justify_content": null,
            "justify_items": null,
            "left": null,
            "margin": null,
            "max_height": null,
            "max_width": null,
            "min_height": null,
            "min_width": null,
            "object_fit": null,
            "object_position": null,
            "order": null,
            "overflow": null,
            "overflow_x": null,
            "overflow_y": null,
            "padding": null,
            "right": null,
            "top": null,
            "visibility": null,
            "width": null
          }
        },
        "a1a68cec63a44af5b9627d2ae6d9c2ba": {
          "model_module": "@jupyter-widgets/base",
          "model_name": "LayoutModel",
          "model_module_version": "1.2.0",
          "state": {
            "_model_module": "@jupyter-widgets/base",
            "_model_module_version": "1.2.0",
            "_model_name": "LayoutModel",
            "_view_count": null,
            "_view_module": "@jupyter-widgets/base",
            "_view_module_version": "1.2.0",
            "_view_name": "LayoutView",
            "align_content": null,
            "align_items": null,
            "align_self": null,
            "border": null,
            "bottom": null,
            "display": null,
            "flex": null,
            "flex_flow": null,
            "grid_area": null,
            "grid_auto_columns": null,
            "grid_auto_flow": null,
            "grid_auto_rows": null,
            "grid_column": null,
            "grid_gap": null,
            "grid_row": null,
            "grid_template_areas": null,
            "grid_template_columns": null,
            "grid_template_rows": null,
            "height": null,
            "justify_content": null,
            "justify_items": null,
            "left": null,
            "margin": null,
            "max_height": null,
            "max_width": null,
            "min_height": null,
            "min_width": null,
            "object_fit": null,
            "object_position": null,
            "order": null,
            "overflow": null,
            "overflow_x": null,
            "overflow_y": null,
            "padding": null,
            "right": null,
            "top": null,
            "visibility": null,
            "width": null
          }
        },
        "5cce8e6263d24d32b11498d7103844e1": {
          "model_module": "@jupyter-widgets/controls",
          "model_name": "DescriptionStyleModel",
          "model_module_version": "1.5.0",
          "state": {
            "_model_module": "@jupyter-widgets/controls",
            "_model_module_version": "1.5.0",
            "_model_name": "DescriptionStyleModel",
            "_view_count": null,
            "_view_module": "@jupyter-widgets/base",
            "_view_module_version": "1.2.0",
            "_view_name": "StyleView",
            "description_width": ""
          }
        },
        "b6e518d8f583463f83c40609708b7117": {
          "model_module": "@jupyter-widgets/base",
          "model_name": "LayoutModel",
          "model_module_version": "1.2.0",
          "state": {
            "_model_module": "@jupyter-widgets/base",
            "_model_module_version": "1.2.0",
            "_model_name": "LayoutModel",
            "_view_count": null,
            "_view_module": "@jupyter-widgets/base",
            "_view_module_version": "1.2.0",
            "_view_name": "LayoutView",
            "align_content": null,
            "align_items": null,
            "align_self": null,
            "border": null,
            "bottom": null,
            "display": null,
            "flex": null,
            "flex_flow": null,
            "grid_area": null,
            "grid_auto_columns": null,
            "grid_auto_flow": null,
            "grid_auto_rows": null,
            "grid_column": null,
            "grid_gap": null,
            "grid_row": null,
            "grid_template_areas": null,
            "grid_template_columns": null,
            "grid_template_rows": null,
            "height": null,
            "justify_content": null,
            "justify_items": null,
            "left": null,
            "margin": null,
            "max_height": null,
            "max_width": null,
            "min_height": null,
            "min_width": null,
            "object_fit": null,
            "object_position": null,
            "order": null,
            "overflow": null,
            "overflow_x": null,
            "overflow_y": null,
            "padding": null,
            "right": null,
            "top": null,
            "visibility": null,
            "width": null
          }
        },
        "5bf52e3c87844856a58c9cc939cf93f2": {
          "model_module": "@jupyter-widgets/controls",
          "model_name": "ProgressStyleModel",
          "model_module_version": "1.5.0",
          "state": {
            "_model_module": "@jupyter-widgets/controls",
            "_model_module_version": "1.5.0",
            "_model_name": "ProgressStyleModel",
            "_view_count": null,
            "_view_module": "@jupyter-widgets/base",
            "_view_module_version": "1.2.0",
            "_view_name": "StyleView",
            "bar_color": null,
            "description_width": ""
          }
        },
        "038848be59624faabfe5ade59682c0aa": {
          "model_module": "@jupyter-widgets/base",
          "model_name": "LayoutModel",
          "model_module_version": "1.2.0",
          "state": {
            "_model_module": "@jupyter-widgets/base",
            "_model_module_version": "1.2.0",
            "_model_name": "LayoutModel",
            "_view_count": null,
            "_view_module": "@jupyter-widgets/base",
            "_view_module_version": "1.2.0",
            "_view_name": "LayoutView",
            "align_content": null,
            "align_items": null,
            "align_self": null,
            "border": null,
            "bottom": null,
            "display": null,
            "flex": null,
            "flex_flow": null,
            "grid_area": null,
            "grid_auto_columns": null,
            "grid_auto_flow": null,
            "grid_auto_rows": null,
            "grid_column": null,
            "grid_gap": null,
            "grid_row": null,
            "grid_template_areas": null,
            "grid_template_columns": null,
            "grid_template_rows": null,
            "height": null,
            "justify_content": null,
            "justify_items": null,
            "left": null,
            "margin": null,
            "max_height": null,
            "max_width": null,
            "min_height": null,
            "min_width": null,
            "object_fit": null,
            "object_position": null,
            "order": null,
            "overflow": null,
            "overflow_x": null,
            "overflow_y": null,
            "padding": null,
            "right": null,
            "top": null,
            "visibility": null,
            "width": null
          }
        },
        "5ad8c703425c4ac5a2d17ba99f17031e": {
          "model_module": "@jupyter-widgets/controls",
          "model_name": "DescriptionStyleModel",
          "model_module_version": "1.5.0",
          "state": {
            "_model_module": "@jupyter-widgets/controls",
            "_model_module_version": "1.5.0",
            "_model_name": "DescriptionStyleModel",
            "_view_count": null,
            "_view_module": "@jupyter-widgets/base",
            "_view_module_version": "1.2.0",
            "_view_name": "StyleView",
            "description_width": ""
          }
        }
      }
    }
  },
  "cells": [
    {
      "cell_type": "markdown",
      "metadata": {
        "id": "view-in-github",
        "colab_type": "text"
      },
      "source": [
        "<a href=\"https://colab.research.google.com/github/Suryash-Malviya/TTS/blob/main/suryash/StyleTTS2_Demo_LJSpeech_(3).ipynb\" target=\"_parent\"><img src=\"https://colab.research.google.com/assets/colab-badge.svg\" alt=\"Open In Colab\"/></a>"
      ]
    },
    {
      "cell_type": "markdown",
      "source": [
        "### Install packages and download models"
      ],
      "metadata": {
        "id": "nm653VK4CG9F"
      }
    },
    {
      "cell_type": "code",
      "source": [
        "# This is a new part for testing"
      ],
      "metadata": {
        "id": "56OsJTblNYcC"
      },
      "execution_count": 53,
      "outputs": []
    },
    {
      "cell_type": "code",
      "source": [
        "from google.colab import drive\n",
        "drive.mount('/content/drive')\n"
      ],
      "metadata": {
        "id": "DRtJp4cd2EiK",
        "colab": {
          "base_uri": "https://localhost:8080/"
        },
        "outputId": "73f4ee16-20be-45a6-db72-4ab39778adc7"
      },
      "execution_count": 54,
      "outputs": [
        {
          "output_type": "stream",
          "name": "stdout",
          "text": [
            "Drive already mounted at /content/drive; to attempt to forcibly remount, call drive.mount(\"/content/drive\", force_remount=True).\n"
          ]
        }
      ]
    },
    {
      "cell_type": "code",
      "source": [
        "%%shell\n",
        "# Setup the project directory and ensure that we do not repeat cloning or installations if they already exist\n",
        "mkdir -p /content/drive/MyDrive/StyleTTS2\n",
        "cd /content/drive/MyDrive/StyleTTS2\n",
        "\n",
        "# Clone the repository if it doesn't already exist and setup the environment\n",
        "if [ ! -d \"StyleTTS2\" ]; then\n",
        "    git clone https://github.com/yl4579/StyleTTS2.git\n",
        "    cd StyleTTS2\n",
        "else\n",
        "    cd StyleTTS2\n",
        "fi\n",
        "\n",
        "# Check if dependencies are already installed, install if not\n",
        "pip freeze | grep SoundFile || pip install SoundFile torchaudio munch torch pydub pyyaml librosa nltk matplotlib accelerate transformers phonemizer datasets einops einops-exts tqdm typing-extensions git+https://github.com/resemble-ai/monotonic_align.git\n",
        "dpkg -l | grep espeak-ng || sudo apt-get install espeak-ng\n",
        "\n",
        "# Download models using git-lfs if they aren't already downloaded\n",
        "if [ ! -d \"Models\" ]; then\n",
        "    git-lfs clone https://huggingface.co/yl4579/StyleTTS2-LJSpeech\n",
        "    mv StyleTTS2-LJSpeech/Models .\n",
        "fi\n"
      ],
      "metadata": {
        "collapsed": true,
        "id": "IDFdg_sW2Bh3",
        "colab": {
          "base_uri": "https://localhost:8080/"
        },
        "outputId": "19814233-2cd2-4532-c58f-c94f3ad138ea"
      },
      "execution_count": 55,
      "outputs": [
        {
          "output_type": "stream",
          "name": "stdout",
          "text": [
            "Collecting git+https://github.com/resemble-ai/monotonic_align.git\n",
            "  Cloning https://github.com/resemble-ai/monotonic_align.git to /tmp/pip-req-build-tghd1h6e\n",
            "  Running command git clone --filter=blob:none --quiet https://github.com/resemble-ai/monotonic_align.git /tmp/pip-req-build-tghd1h6e\n",
            "  Resolved https://github.com/resemble-ai/monotonic_align.git to commit 78b985be210a03d08bc3acc01c4df0442105366f\n",
            "  Installing build dependencies ... \u001b[?25l\u001b[?25hdone\n",
            "  Getting requirements to build wheel ... \u001b[?25l\u001b[?25hdone\n",
            "  Preparing metadata (pyproject.toml) ... \u001b[?25l\u001b[?25hdone\n",
            "Requirement already satisfied: SoundFile in /usr/local/lib/python3.10/dist-packages (0.12.1)\n",
            "Requirement already satisfied: torchaudio in /usr/local/lib/python3.10/dist-packages (2.5.1+cu121)\n",
            "Requirement already satisfied: munch in /usr/local/lib/python3.10/dist-packages (4.0.0)\n",
            "Requirement already satisfied: torch in /usr/local/lib/python3.10/dist-packages (2.5.1+cu121)\n",
            "Requirement already satisfied: pydub in /usr/local/lib/python3.10/dist-packages (0.25.1)\n",
            "Requirement already satisfied: pyyaml in /usr/local/lib/python3.10/dist-packages (6.0.2)\n",
            "Requirement already satisfied: librosa in /usr/local/lib/python3.10/dist-packages (0.10.2.post1)\n",
            "Requirement already satisfied: nltk in /usr/local/lib/python3.10/dist-packages (3.9.1)\n",
            "Requirement already satisfied: matplotlib in /usr/local/lib/python3.10/dist-packages (3.8.0)\n",
            "Requirement already satisfied: accelerate in /usr/local/lib/python3.10/dist-packages (1.1.1)\n",
            "Requirement already satisfied: transformers in /usr/local/lib/python3.10/dist-packages (4.46.3)\n",
            "Requirement already satisfied: phonemizer in /usr/local/lib/python3.10/dist-packages (3.3.0)\n",
            "Requirement already satisfied: datasets in /usr/local/lib/python3.10/dist-packages (3.2.0)\n",
            "Requirement already satisfied: einops in /usr/local/lib/python3.10/dist-packages (0.8.0)\n",
            "Requirement already satisfied: einops-exts in /usr/local/lib/python3.10/dist-packages (0.0.4)\n",
            "Requirement already satisfied: tqdm in /usr/local/lib/python3.10/dist-packages (4.66.6)\n",
            "Requirement already satisfied: typing-extensions in /usr/local/lib/python3.10/dist-packages (4.12.2)\n",
            "Requirement already satisfied: cffi>=1.0 in /usr/local/lib/python3.10/dist-packages (from SoundFile) (1.17.1)\n",
            "Requirement already satisfied: filelock in /usr/local/lib/python3.10/dist-packages (from torch) (3.16.1)\n",
            "Requirement already satisfied: networkx in /usr/local/lib/python3.10/dist-packages (from torch) (3.4.2)\n",
            "Requirement already satisfied: jinja2 in /usr/local/lib/python3.10/dist-packages (from torch) (3.1.4)\n",
            "Requirement already satisfied: fsspec in /usr/local/lib/python3.10/dist-packages (from torch) (2024.9.0)\n",
            "Requirement already satisfied: sympy==1.13.1 in /usr/local/lib/python3.10/dist-packages (from torch) (1.13.1)\n",
            "Requirement already satisfied: mpmath<1.4,>=1.1.0 in /usr/local/lib/python3.10/dist-packages (from sympy==1.13.1->torch) (1.3.0)\n",
            "Requirement already satisfied: audioread>=2.1.9 in /usr/local/lib/python3.10/dist-packages (from librosa) (3.0.1)\n",
            "Requirement already satisfied: numpy!=1.22.0,!=1.22.1,!=1.22.2,>=1.20.3 in /usr/local/lib/python3.10/dist-packages (from librosa) (1.26.4)\n",
            "Requirement already satisfied: scipy>=1.2.0 in /usr/local/lib/python3.10/dist-packages (from librosa) (1.13.1)\n",
            "Requirement already satisfied: scikit-learn>=0.20.0 in /usr/local/lib/python3.10/dist-packages (from librosa) (1.5.2)\n",
            "Requirement already satisfied: joblib>=0.14 in /usr/local/lib/python3.10/dist-packages (from librosa) (1.4.2)\n",
            "Requirement already satisfied: decorator>=4.3.0 in /usr/local/lib/python3.10/dist-packages (from librosa) (4.4.2)\n",
            "Requirement already satisfied: numba>=0.51.0 in /usr/local/lib/python3.10/dist-packages (from librosa) (0.60.0)\n",
            "Requirement already satisfied: pooch>=1.1 in /usr/local/lib/python3.10/dist-packages (from librosa) (1.8.2)\n",
            "Requirement already satisfied: soxr>=0.3.2 in /usr/local/lib/python3.10/dist-packages (from librosa) (0.5.0.post1)\n",
            "Requirement already satisfied: lazy-loader>=0.1 in /usr/local/lib/python3.10/dist-packages (from librosa) (0.4)\n",
            "Requirement already satisfied: msgpack>=1.0 in /usr/local/lib/python3.10/dist-packages (from librosa) (1.1.0)\n",
            "Requirement already satisfied: click in /usr/local/lib/python3.10/dist-packages (from nltk) (8.1.7)\n",
            "Requirement already satisfied: regex>=2021.8.3 in /usr/local/lib/python3.10/dist-packages (from nltk) (2024.9.11)\n",
            "Requirement already satisfied: contourpy>=1.0.1 in /usr/local/lib/python3.10/dist-packages (from matplotlib) (1.3.1)\n",
            "Requirement already satisfied: cycler>=0.10 in /usr/local/lib/python3.10/dist-packages (from matplotlib) (0.12.1)\n",
            "Requirement already satisfied: fonttools>=4.22.0 in /usr/local/lib/python3.10/dist-packages (from matplotlib) (4.55.1)\n",
            "Requirement already satisfied: kiwisolver>=1.0.1 in /usr/local/lib/python3.10/dist-packages (from matplotlib) (1.4.7)\n",
            "Requirement already satisfied: packaging>=20.0 in /usr/local/lib/python3.10/dist-packages (from matplotlib) (24.2)\n",
            "Requirement already satisfied: pillow>=6.2.0 in /usr/local/lib/python3.10/dist-packages (from matplotlib) (11.0.0)\n",
            "Requirement already satisfied: pyparsing>=2.3.1 in /usr/local/lib/python3.10/dist-packages (from matplotlib) (3.2.0)\n",
            "Requirement already satisfied: python-dateutil>=2.7 in /usr/local/lib/python3.10/dist-packages (from matplotlib) (2.8.2)\n",
            "Requirement already satisfied: huggingface-hub>=0.21.0 in /usr/local/lib/python3.10/dist-packages (from accelerate) (0.26.3)\n",
            "Requirement already satisfied: psutil in /usr/local/lib/python3.10/dist-packages (from accelerate) (5.9.5)\n",
            "Requirement already satisfied: safetensors>=0.4.3 in /usr/local/lib/python3.10/dist-packages (from accelerate) (0.4.5)\n",
            "Requirement already satisfied: requests in /usr/local/lib/python3.10/dist-packages (from transformers) (2.32.3)\n",
            "Requirement already satisfied: tokenizers<0.21,>=0.20 in /usr/local/lib/python3.10/dist-packages (from transformers) (0.20.3)\n",
            "Requirement already satisfied: segments in /usr/local/lib/python3.10/dist-packages (from phonemizer) (2.2.1)\n",
            "Requirement already satisfied: attrs>=18.1 in /usr/local/lib/python3.10/dist-packages (from phonemizer) (24.2.0)\n",
            "Requirement already satisfied: dlinfo in /usr/local/lib/python3.10/dist-packages (from phonemizer) (1.2.1)\n",
            "Requirement already satisfied: pyarrow>=15.0.0 in /usr/local/lib/python3.10/dist-packages (from datasets) (17.0.0)\n",
            "Requirement already satisfied: dill<0.3.9,>=0.3.0 in /usr/local/lib/python3.10/dist-packages (from datasets) (0.3.8)\n",
            "Requirement already satisfied: pandas in /usr/local/lib/python3.10/dist-packages (from datasets) (2.2.2)\n",
            "Requirement already satisfied: xxhash in /usr/local/lib/python3.10/dist-packages (from datasets) (3.5.0)\n",
            "Requirement already satisfied: multiprocess<0.70.17 in /usr/local/lib/python3.10/dist-packages (from datasets) (0.70.16)\n",
            "Requirement already satisfied: aiohttp in /usr/local/lib/python3.10/dist-packages (from datasets) (3.11.9)\n",
            "Requirement already satisfied: pycparser in /usr/local/lib/python3.10/dist-packages (from cffi>=1.0->SoundFile) (2.22)\n",
            "Requirement already satisfied: aiohappyeyeballs>=2.3.0 in /usr/local/lib/python3.10/dist-packages (from aiohttp->datasets) (2.4.4)\n",
            "Requirement already satisfied: aiosignal>=1.1.2 in /usr/local/lib/python3.10/dist-packages (from aiohttp->datasets) (1.3.1)\n",
            "Requirement already satisfied: async-timeout<6.0,>=4.0 in /usr/local/lib/python3.10/dist-packages (from aiohttp->datasets) (4.0.3)\n",
            "Requirement already satisfied: frozenlist>=1.1.1 in /usr/local/lib/python3.10/dist-packages (from aiohttp->datasets) (1.5.0)\n",
            "Requirement already satisfied: multidict<7.0,>=4.5 in /usr/local/lib/python3.10/dist-packages (from aiohttp->datasets) (6.1.0)\n",
            "Requirement already satisfied: propcache>=0.2.0 in /usr/local/lib/python3.10/dist-packages (from aiohttp->datasets) (0.2.1)\n",
            "Requirement already satisfied: yarl<2.0,>=1.17.0 in /usr/local/lib/python3.10/dist-packages (from aiohttp->datasets) (1.18.3)\n",
            "Requirement already satisfied: llvmlite<0.44,>=0.43.0dev0 in /usr/local/lib/python3.10/dist-packages (from numba>=0.51.0->librosa) (0.43.0)\n",
            "Requirement already satisfied: platformdirs>=2.5.0 in /usr/local/lib/python3.10/dist-packages (from pooch>=1.1->librosa) (4.3.6)\n",
            "Requirement already satisfied: six>=1.5 in /usr/local/lib/python3.10/dist-packages (from python-dateutil>=2.7->matplotlib) (1.16.0)\n",
            "Requirement already satisfied: charset-normalizer<4,>=2 in /usr/local/lib/python3.10/dist-packages (from requests->transformers) (3.4.0)\n",
            "Requirement already satisfied: idna<4,>=2.5 in /usr/local/lib/python3.10/dist-packages (from requests->transformers) (3.10)\n",
            "Requirement already satisfied: urllib3<3,>=1.21.1 in /usr/local/lib/python3.10/dist-packages (from requests->transformers) (2.2.3)\n",
            "Requirement already satisfied: certifi>=2017.4.17 in /usr/local/lib/python3.10/dist-packages (from requests->transformers) (2024.8.30)\n",
            "Requirement already satisfied: threadpoolctl>=3.1.0 in /usr/local/lib/python3.10/dist-packages (from scikit-learn>=0.20.0->librosa) (3.5.0)\n",
            "Requirement already satisfied: MarkupSafe>=2.0 in /usr/local/lib/python3.10/dist-packages (from jinja2->torch) (3.0.2)\n",
            "Requirement already satisfied: pytz>=2020.1 in /usr/local/lib/python3.10/dist-packages (from pandas->datasets) (2024.2)\n",
            "Requirement already satisfied: tzdata>=2022.7 in /usr/local/lib/python3.10/dist-packages (from pandas->datasets) (2024.2)\n",
            "Requirement already satisfied: clldutils>=1.7.3 in /usr/local/lib/python3.10/dist-packages (from segments->phonemizer) (3.24.0)\n",
            "Requirement already satisfied: csvw>=1.5.6 in /usr/local/lib/python3.10/dist-packages (from segments->phonemizer) (3.5.1)\n",
            "Requirement already satisfied: tabulate>=0.7.7 in /usr/local/lib/python3.10/dist-packages (from clldutils>=1.7.3->segments->phonemizer) (0.9.0)\n",
            "Requirement already satisfied: colorlog in /usr/local/lib/python3.10/dist-packages (from clldutils>=1.7.3->segments->phonemizer) (6.9.0)\n",
            "Requirement already satisfied: bibtexparser>=2.0.0b4 in /usr/local/lib/python3.10/dist-packages (from clldutils>=1.7.3->segments->phonemizer) (2.0.0b8)\n",
            "Requirement already satisfied: pylatexenc in /usr/local/lib/python3.10/dist-packages (from clldutils>=1.7.3->segments->phonemizer) (2.10)\n",
            "Requirement already satisfied: markdown in /usr/local/lib/python3.10/dist-packages (from clldutils>=1.7.3->segments->phonemizer) (3.7)\n",
            "Requirement already satisfied: lxml in /usr/local/lib/python3.10/dist-packages (from clldutils>=1.7.3->segments->phonemizer) (5.3.0)\n",
            "Requirement already satisfied: isodate in /usr/local/lib/python3.10/dist-packages (from csvw>=1.5.6->segments->phonemizer) (0.7.2)\n",
            "Requirement already satisfied: rfc3986<2 in /usr/local/lib/python3.10/dist-packages (from csvw>=1.5.6->segments->phonemizer) (1.5.0)\n",
            "Requirement already satisfied: uritemplate>=3.0.0 in /usr/local/lib/python3.10/dist-packages (from csvw>=1.5.6->segments->phonemizer) (4.1.1)\n",
            "Requirement already satisfied: babel in /usr/local/lib/python3.10/dist-packages (from csvw>=1.5.6->segments->phonemizer) (2.16.0)\n",
            "Requirement already satisfied: language-tags in /usr/local/lib/python3.10/dist-packages (from csvw>=1.5.6->segments->phonemizer) (1.2.0)\n",
            "Requirement already satisfied: rdflib in /usr/local/lib/python3.10/dist-packages (from csvw>=1.5.6->segments->phonemizer) (7.1.1)\n",
            "Requirement already satisfied: colorama in /usr/local/lib/python3.10/dist-packages (from csvw>=1.5.6->segments->phonemizer) (0.4.6)\n",
            "Requirement already satisfied: jsonschema in /usr/local/lib/python3.10/dist-packages (from csvw>=1.5.6->segments->phonemizer) (4.23.0)\n",
            "Requirement already satisfied: jsonschema-specifications>=2023.03.6 in /usr/local/lib/python3.10/dist-packages (from jsonschema->csvw>=1.5.6->segments->phonemizer) (2024.10.1)\n",
            "Requirement already satisfied: referencing>=0.28.4 in /usr/local/lib/python3.10/dist-packages (from jsonschema->csvw>=1.5.6->segments->phonemizer) (0.35.1)\n",
            "Requirement already satisfied: rpds-py>=0.7.1 in /usr/local/lib/python3.10/dist-packages (from jsonschema->csvw>=1.5.6->segments->phonemizer) (0.22.3)\n",
            "ii  espeak-ng                              1.50+dfsg-10ubuntu0.1                   amd64        Multi-lingual software speech synthesizer\n",
            "ii  espeak-ng-data:amd64                   1.50+dfsg-10ubuntu0.1                   amd64        Multi-lingual software speech synthesizer: speech data files\n",
            "ii  libespeak-ng1:amd64                    1.50+dfsg-10ubuntu0.1                   amd64        Multi-lingual software speech synthesizer: shared library\n"
          ]
        },
        {
          "output_type": "execute_result",
          "data": {
            "text/plain": []
          },
          "metadata": {},
          "execution_count": 55
        }
      ]
    },
    {
      "cell_type": "code",
      "source": [
        "%%shell\n",
        "git clone https://github.com/yl4579/StyleTTS2.git\n",
        "cd StyleTTS2\n",
        "pip install SoundFile torchaudio munch torch pydub pyyaml librosa nltk matplotlib accelerate transformers phonemizer datasets einops einops-exts tqdm typing-extensions git+https://github.com/resemble-ai/monotonic_align.git\n",
        "sudo apt-get install espeak-ng\n",
        "git-lfs clone https://huggingface.co/yl4579/StyleTTS2-LJSpeech\n",
        "mv StyleTTS2-LJSpeech/Models ."
      ],
      "metadata": {
        "id": "gciBKMqCCLvT",
        "collapsed": true,
        "colab": {
          "base_uri": "https://localhost:8080/"
        },
        "outputId": "aee60774-68d8-4d30-bf3a-9681e0acf915"
      },
      "execution_count": 81,
      "outputs": [
        {
          "output_type": "stream",
          "name": "stdout",
          "text": [
            "Cloning into 'StyleTTS2'...\n",
            "remote: Enumerating objects: 372, done.\u001b[K\n",
            "remote: Total 372 (delta 0), reused 0 (delta 0), pack-reused 372 (from 1)\u001b[K\n",
            "Receiving objects: 100% (372/372), 133.98 MiB | 24.16 MiB/s, done.\n",
            "Resolving deltas: 100% (199/199), done.\n",
            "Updating files: 100% (48/48), done.\n",
            "Collecting git+https://github.com/resemble-ai/monotonic_align.git\n",
            "  Cloning https://github.com/resemble-ai/monotonic_align.git to /tmp/pip-req-build-zy2125mf\n",
            "  Running command git clone --filter=blob:none --quiet https://github.com/resemble-ai/monotonic_align.git /tmp/pip-req-build-zy2125mf\n",
            "  Resolved https://github.com/resemble-ai/monotonic_align.git to commit 78b985be210a03d08bc3acc01c4df0442105366f\n",
            "  Installing build dependencies ... \u001b[?25l\u001b[?25hdone\n",
            "  Getting requirements to build wheel ... \u001b[?25l\u001b[?25hdone\n",
            "  Preparing metadata (pyproject.toml) ... \u001b[?25l\u001b[?25hdone\n",
            "Requirement already satisfied: SoundFile in /usr/local/lib/python3.10/dist-packages (0.12.1)\n",
            "Requirement already satisfied: torchaudio in /usr/local/lib/python3.10/dist-packages (2.5.1+cu121)\n",
            "Requirement already satisfied: munch in /usr/local/lib/python3.10/dist-packages (4.0.0)\n",
            "Requirement already satisfied: torch in /usr/local/lib/python3.10/dist-packages (2.5.1+cu121)\n",
            "Requirement already satisfied: pydub in /usr/local/lib/python3.10/dist-packages (0.25.1)\n",
            "Requirement already satisfied: pyyaml in /usr/local/lib/python3.10/dist-packages (6.0.2)\n",
            "Requirement already satisfied: librosa in /usr/local/lib/python3.10/dist-packages (0.10.2.post1)\n",
            "Requirement already satisfied: nltk in /usr/local/lib/python3.10/dist-packages (3.9.1)\n",
            "Requirement already satisfied: matplotlib in /usr/local/lib/python3.10/dist-packages (3.8.0)\n",
            "Requirement already satisfied: accelerate in /usr/local/lib/python3.10/dist-packages (1.1.1)\n",
            "Requirement already satisfied: transformers in /usr/local/lib/python3.10/dist-packages (4.46.3)\n",
            "Requirement already satisfied: phonemizer in /usr/local/lib/python3.10/dist-packages (3.3.0)\n",
            "Requirement already satisfied: datasets in /usr/local/lib/python3.10/dist-packages (3.2.0)\n",
            "Requirement already satisfied: einops in /usr/local/lib/python3.10/dist-packages (0.8.0)\n",
            "Requirement already satisfied: einops-exts in /usr/local/lib/python3.10/dist-packages (0.0.4)\n",
            "Requirement already satisfied: tqdm in /usr/local/lib/python3.10/dist-packages (4.66.6)\n",
            "Requirement already satisfied: typing-extensions in /usr/local/lib/python3.10/dist-packages (4.12.2)\n",
            "Requirement already satisfied: cffi>=1.0 in /usr/local/lib/python3.10/dist-packages (from SoundFile) (1.17.1)\n",
            "Requirement already satisfied: filelock in /usr/local/lib/python3.10/dist-packages (from torch) (3.16.1)\n",
            "Requirement already satisfied: networkx in /usr/local/lib/python3.10/dist-packages (from torch) (3.4.2)\n",
            "Requirement already satisfied: jinja2 in /usr/local/lib/python3.10/dist-packages (from torch) (3.1.4)\n",
            "Requirement already satisfied: fsspec in /usr/local/lib/python3.10/dist-packages (from torch) (2024.9.0)\n",
            "Requirement already satisfied: sympy==1.13.1 in /usr/local/lib/python3.10/dist-packages (from torch) (1.13.1)\n",
            "Requirement already satisfied: mpmath<1.4,>=1.1.0 in /usr/local/lib/python3.10/dist-packages (from sympy==1.13.1->torch) (1.3.0)\n",
            "Requirement already satisfied: audioread>=2.1.9 in /usr/local/lib/python3.10/dist-packages (from librosa) (3.0.1)\n",
            "Requirement already satisfied: numpy!=1.22.0,!=1.22.1,!=1.22.2,>=1.20.3 in /usr/local/lib/python3.10/dist-packages (from librosa) (1.26.4)\n",
            "Requirement already satisfied: scipy>=1.2.0 in /usr/local/lib/python3.10/dist-packages (from librosa) (1.13.1)\n",
            "Requirement already satisfied: scikit-learn>=0.20.0 in /usr/local/lib/python3.10/dist-packages (from librosa) (1.5.2)\n",
            "Requirement already satisfied: joblib>=0.14 in /usr/local/lib/python3.10/dist-packages (from librosa) (1.4.2)\n",
            "Requirement already satisfied: decorator>=4.3.0 in /usr/local/lib/python3.10/dist-packages (from librosa) (4.4.2)\n",
            "Requirement already satisfied: numba>=0.51.0 in /usr/local/lib/python3.10/dist-packages (from librosa) (0.60.0)\n",
            "Requirement already satisfied: pooch>=1.1 in /usr/local/lib/python3.10/dist-packages (from librosa) (1.8.2)\n",
            "Requirement already satisfied: soxr>=0.3.2 in /usr/local/lib/python3.10/dist-packages (from librosa) (0.5.0.post1)\n",
            "Requirement already satisfied: lazy-loader>=0.1 in /usr/local/lib/python3.10/dist-packages (from librosa) (0.4)\n",
            "Requirement already satisfied: msgpack>=1.0 in /usr/local/lib/python3.10/dist-packages (from librosa) (1.1.0)\n",
            "Requirement already satisfied: click in /usr/local/lib/python3.10/dist-packages (from nltk) (8.1.7)\n",
            "Requirement already satisfied: regex>=2021.8.3 in /usr/local/lib/python3.10/dist-packages (from nltk) (2024.9.11)\n",
            "Requirement already satisfied: contourpy>=1.0.1 in /usr/local/lib/python3.10/dist-packages (from matplotlib) (1.3.1)\n",
            "Requirement already satisfied: cycler>=0.10 in /usr/local/lib/python3.10/dist-packages (from matplotlib) (0.12.1)\n",
            "Requirement already satisfied: fonttools>=4.22.0 in /usr/local/lib/python3.10/dist-packages (from matplotlib) (4.55.1)\n",
            "Requirement already satisfied: kiwisolver>=1.0.1 in /usr/local/lib/python3.10/dist-packages (from matplotlib) (1.4.7)\n",
            "Requirement already satisfied: packaging>=20.0 in /usr/local/lib/python3.10/dist-packages (from matplotlib) (24.2)\n",
            "Requirement already satisfied: pillow>=6.2.0 in /usr/local/lib/python3.10/dist-packages (from matplotlib) (11.0.0)\n",
            "Requirement already satisfied: pyparsing>=2.3.1 in /usr/local/lib/python3.10/dist-packages (from matplotlib) (3.2.0)\n",
            "Requirement already satisfied: python-dateutil>=2.7 in /usr/local/lib/python3.10/dist-packages (from matplotlib) (2.8.2)\n",
            "Requirement already satisfied: huggingface-hub>=0.21.0 in /usr/local/lib/python3.10/dist-packages (from accelerate) (0.26.3)\n",
            "Requirement already satisfied: psutil in /usr/local/lib/python3.10/dist-packages (from accelerate) (5.9.5)\n",
            "Requirement already satisfied: safetensors>=0.4.3 in /usr/local/lib/python3.10/dist-packages (from accelerate) (0.4.5)\n",
            "Requirement already satisfied: requests in /usr/local/lib/python3.10/dist-packages (from transformers) (2.32.3)\n",
            "Requirement already satisfied: tokenizers<0.21,>=0.20 in /usr/local/lib/python3.10/dist-packages (from transformers) (0.20.3)\n",
            "Requirement already satisfied: segments in /usr/local/lib/python3.10/dist-packages (from phonemizer) (2.2.1)\n",
            "Requirement already satisfied: attrs>=18.1 in /usr/local/lib/python3.10/dist-packages (from phonemizer) (24.2.0)\n",
            "Requirement already satisfied: dlinfo in /usr/local/lib/python3.10/dist-packages (from phonemizer) (1.2.1)\n",
            "Requirement already satisfied: pyarrow>=15.0.0 in /usr/local/lib/python3.10/dist-packages (from datasets) (17.0.0)\n",
            "Requirement already satisfied: dill<0.3.9,>=0.3.0 in /usr/local/lib/python3.10/dist-packages (from datasets) (0.3.8)\n",
            "Requirement already satisfied: pandas in /usr/local/lib/python3.10/dist-packages (from datasets) (2.2.2)\n",
            "Requirement already satisfied: xxhash in /usr/local/lib/python3.10/dist-packages (from datasets) (3.5.0)\n",
            "Requirement already satisfied: multiprocess<0.70.17 in /usr/local/lib/python3.10/dist-packages (from datasets) (0.70.16)\n",
            "Requirement already satisfied: aiohttp in /usr/local/lib/python3.10/dist-packages (from datasets) (3.11.9)\n",
            "Requirement already satisfied: pycparser in /usr/local/lib/python3.10/dist-packages (from cffi>=1.0->SoundFile) (2.22)\n",
            "Requirement already satisfied: aiohappyeyeballs>=2.3.0 in /usr/local/lib/python3.10/dist-packages (from aiohttp->datasets) (2.4.4)\n",
            "Requirement already satisfied: aiosignal>=1.1.2 in /usr/local/lib/python3.10/dist-packages (from aiohttp->datasets) (1.3.1)\n",
            "Requirement already satisfied: async-timeout<6.0,>=4.0 in /usr/local/lib/python3.10/dist-packages (from aiohttp->datasets) (4.0.3)\n",
            "Requirement already satisfied: frozenlist>=1.1.1 in /usr/local/lib/python3.10/dist-packages (from aiohttp->datasets) (1.5.0)\n",
            "Requirement already satisfied: multidict<7.0,>=4.5 in /usr/local/lib/python3.10/dist-packages (from aiohttp->datasets) (6.1.0)\n",
            "Requirement already satisfied: propcache>=0.2.0 in /usr/local/lib/python3.10/dist-packages (from aiohttp->datasets) (0.2.1)\n",
            "Requirement already satisfied: yarl<2.0,>=1.17.0 in /usr/local/lib/python3.10/dist-packages (from aiohttp->datasets) (1.18.3)\n",
            "Requirement already satisfied: llvmlite<0.44,>=0.43.0dev0 in /usr/local/lib/python3.10/dist-packages (from numba>=0.51.0->librosa) (0.43.0)\n",
            "Requirement already satisfied: platformdirs>=2.5.0 in /usr/local/lib/python3.10/dist-packages (from pooch>=1.1->librosa) (4.3.6)\n",
            "Requirement already satisfied: six>=1.5 in /usr/local/lib/python3.10/dist-packages (from python-dateutil>=2.7->matplotlib) (1.16.0)\n",
            "Requirement already satisfied: charset-normalizer<4,>=2 in /usr/local/lib/python3.10/dist-packages (from requests->transformers) (3.4.0)\n",
            "Requirement already satisfied: idna<4,>=2.5 in /usr/local/lib/python3.10/dist-packages (from requests->transformers) (3.10)\n",
            "Requirement already satisfied: urllib3<3,>=1.21.1 in /usr/local/lib/python3.10/dist-packages (from requests->transformers) (2.2.3)\n",
            "Requirement already satisfied: certifi>=2017.4.17 in /usr/local/lib/python3.10/dist-packages (from requests->transformers) (2024.8.30)\n",
            "Requirement already satisfied: threadpoolctl>=3.1.0 in /usr/local/lib/python3.10/dist-packages (from scikit-learn>=0.20.0->librosa) (3.5.0)\n",
            "Requirement already satisfied: MarkupSafe>=2.0 in /usr/local/lib/python3.10/dist-packages (from jinja2->torch) (3.0.2)\n",
            "Requirement already satisfied: pytz>=2020.1 in /usr/local/lib/python3.10/dist-packages (from pandas->datasets) (2024.2)\n",
            "Requirement already satisfied: tzdata>=2022.7 in /usr/local/lib/python3.10/dist-packages (from pandas->datasets) (2024.2)\n",
            "Requirement already satisfied: clldutils>=1.7.3 in /usr/local/lib/python3.10/dist-packages (from segments->phonemizer) (3.24.0)\n",
            "Requirement already satisfied: csvw>=1.5.6 in /usr/local/lib/python3.10/dist-packages (from segments->phonemizer) (3.5.1)\n",
            "Requirement already satisfied: tabulate>=0.7.7 in /usr/local/lib/python3.10/dist-packages (from clldutils>=1.7.3->segments->phonemizer) (0.9.0)\n",
            "Requirement already satisfied: colorlog in /usr/local/lib/python3.10/dist-packages (from clldutils>=1.7.3->segments->phonemizer) (6.9.0)\n",
            "Requirement already satisfied: bibtexparser>=2.0.0b4 in /usr/local/lib/python3.10/dist-packages (from clldutils>=1.7.3->segments->phonemizer) (2.0.0b8)\n",
            "Requirement already satisfied: pylatexenc in /usr/local/lib/python3.10/dist-packages (from clldutils>=1.7.3->segments->phonemizer) (2.10)\n",
            "Requirement already satisfied: markdown in /usr/local/lib/python3.10/dist-packages (from clldutils>=1.7.3->segments->phonemizer) (3.7)\n",
            "Requirement already satisfied: lxml in /usr/local/lib/python3.10/dist-packages (from clldutils>=1.7.3->segments->phonemizer) (5.3.0)\n",
            "Requirement already satisfied: isodate in /usr/local/lib/python3.10/dist-packages (from csvw>=1.5.6->segments->phonemizer) (0.7.2)\n",
            "Requirement already satisfied: rfc3986<2 in /usr/local/lib/python3.10/dist-packages (from csvw>=1.5.6->segments->phonemizer) (1.5.0)\n",
            "Requirement already satisfied: uritemplate>=3.0.0 in /usr/local/lib/python3.10/dist-packages (from csvw>=1.5.6->segments->phonemizer) (4.1.1)\n",
            "Requirement already satisfied: babel in /usr/local/lib/python3.10/dist-packages (from csvw>=1.5.6->segments->phonemizer) (2.16.0)\n",
            "Requirement already satisfied: language-tags in /usr/local/lib/python3.10/dist-packages (from csvw>=1.5.6->segments->phonemizer) (1.2.0)\n",
            "Requirement already satisfied: rdflib in /usr/local/lib/python3.10/dist-packages (from csvw>=1.5.6->segments->phonemizer) (7.1.1)\n",
            "Requirement already satisfied: colorama in /usr/local/lib/python3.10/dist-packages (from csvw>=1.5.6->segments->phonemizer) (0.4.6)\n",
            "Requirement already satisfied: jsonschema in /usr/local/lib/python3.10/dist-packages (from csvw>=1.5.6->segments->phonemizer) (4.23.0)\n",
            "Requirement already satisfied: jsonschema-specifications>=2023.03.6 in /usr/local/lib/python3.10/dist-packages (from jsonschema->csvw>=1.5.6->segments->phonemizer) (2024.10.1)\n",
            "Requirement already satisfied: referencing>=0.28.4 in /usr/local/lib/python3.10/dist-packages (from jsonschema->csvw>=1.5.6->segments->phonemizer) (0.35.1)\n",
            "Requirement already satisfied: rpds-py>=0.7.1 in /usr/local/lib/python3.10/dist-packages (from jsonschema->csvw>=1.5.6->segments->phonemizer) (0.22.3)\n",
            "Reading package lists... Done\n",
            "Building dependency tree... Done\n",
            "Reading state information... Done\n",
            "espeak-ng is already the newest version (1.50+dfsg-10ubuntu0.1).\n",
            "0 upgraded, 0 newly installed, 0 to remove and 49 not upgraded.\n",
            "WARNING: 'git lfs clone' is deprecated and will not be updated\n",
            "          with new flags from 'git clone'\n",
            "\n",
            "'git clone' has been updated in upstream Git to have comparable\n",
            "speeds to 'git lfs clone'.\n",
            "Cloning into 'StyleTTS2-LJSpeech'...\n",
            "remote: Enumerating objects: 20, done.\u001b[K\n",
            "remote: Total 20 (delta 0), reused 0 (delta 0), pack-reused 20 (from 1)\u001b[K\n",
            "Unpacking objects: 100% (20/20), 3.08 KiB | 631.00 KiB/s, done.\n"
          ]
        },
        {
          "output_type": "execute_result",
          "data": {
            "text/plain": []
          },
          "metadata": {},
          "execution_count": 81
        }
      ]
    },
    {
      "cell_type": "markdown",
      "source": [
        "### Load models"
      ],
      "metadata": {
        "id": "OAA8lx-XCQnM"
      }
    },
    {
      "cell_type": "code",
      "source": [
        "!pip install datasets transformers\n",
        "%pip install munch\n"
      ],
      "metadata": {
        "id": "fwMW5xHea8YY",
        "collapsed": true,
        "colab": {
          "base_uri": "https://localhost:8080/"
        },
        "outputId": "c8045ea6-c9f7-4c47-ce30-b1fa70f65609"
      },
      "execution_count": 57,
      "outputs": [
        {
          "output_type": "stream",
          "name": "stdout",
          "text": [
            "Requirement already satisfied: datasets in /usr/local/lib/python3.10/dist-packages (3.2.0)\n",
            "Requirement already satisfied: transformers in /usr/local/lib/python3.10/dist-packages (4.46.3)\n",
            "Requirement already satisfied: filelock in /usr/local/lib/python3.10/dist-packages (from datasets) (3.16.1)\n",
            "Requirement already satisfied: numpy>=1.17 in /usr/local/lib/python3.10/dist-packages (from datasets) (1.26.4)\n",
            "Requirement already satisfied: pyarrow>=15.0.0 in /usr/local/lib/python3.10/dist-packages (from datasets) (17.0.0)\n",
            "Requirement already satisfied: dill<0.3.9,>=0.3.0 in /usr/local/lib/python3.10/dist-packages (from datasets) (0.3.8)\n",
            "Requirement already satisfied: pandas in /usr/local/lib/python3.10/dist-packages (from datasets) (2.2.2)\n",
            "Requirement already satisfied: requests>=2.32.2 in /usr/local/lib/python3.10/dist-packages (from datasets) (2.32.3)\n",
            "Requirement already satisfied: tqdm>=4.66.3 in /usr/local/lib/python3.10/dist-packages (from datasets) (4.66.6)\n",
            "Requirement already satisfied: xxhash in /usr/local/lib/python3.10/dist-packages (from datasets) (3.5.0)\n",
            "Requirement already satisfied: multiprocess<0.70.17 in /usr/local/lib/python3.10/dist-packages (from datasets) (0.70.16)\n",
            "Requirement already satisfied: fsspec<=2024.9.0,>=2023.1.0 in /usr/local/lib/python3.10/dist-packages (from fsspec[http]<=2024.9.0,>=2023.1.0->datasets) (2024.9.0)\n",
            "Requirement already satisfied: aiohttp in /usr/local/lib/python3.10/dist-packages (from datasets) (3.11.9)\n",
            "Requirement already satisfied: huggingface-hub>=0.23.0 in /usr/local/lib/python3.10/dist-packages (from datasets) (0.26.3)\n",
            "Requirement already satisfied: packaging in /usr/local/lib/python3.10/dist-packages (from datasets) (24.2)\n",
            "Requirement already satisfied: pyyaml>=5.1 in /usr/local/lib/python3.10/dist-packages (from datasets) (6.0.2)\n",
            "Requirement already satisfied: regex!=2019.12.17 in /usr/local/lib/python3.10/dist-packages (from transformers) (2024.9.11)\n",
            "Requirement already satisfied: tokenizers<0.21,>=0.20 in /usr/local/lib/python3.10/dist-packages (from transformers) (0.20.3)\n",
            "Requirement already satisfied: safetensors>=0.4.1 in /usr/local/lib/python3.10/dist-packages (from transformers) (0.4.5)\n",
            "Requirement already satisfied: aiohappyeyeballs>=2.3.0 in /usr/local/lib/python3.10/dist-packages (from aiohttp->datasets) (2.4.4)\n",
            "Requirement already satisfied: aiosignal>=1.1.2 in /usr/local/lib/python3.10/dist-packages (from aiohttp->datasets) (1.3.1)\n",
            "Requirement already satisfied: async-timeout<6.0,>=4.0 in /usr/local/lib/python3.10/dist-packages (from aiohttp->datasets) (4.0.3)\n",
            "Requirement already satisfied: attrs>=17.3.0 in /usr/local/lib/python3.10/dist-packages (from aiohttp->datasets) (24.2.0)\n",
            "Requirement already satisfied: frozenlist>=1.1.1 in /usr/local/lib/python3.10/dist-packages (from aiohttp->datasets) (1.5.0)\n",
            "Requirement already satisfied: multidict<7.0,>=4.5 in /usr/local/lib/python3.10/dist-packages (from aiohttp->datasets) (6.1.0)\n",
            "Requirement already satisfied: propcache>=0.2.0 in /usr/local/lib/python3.10/dist-packages (from aiohttp->datasets) (0.2.1)\n",
            "Requirement already satisfied: yarl<2.0,>=1.17.0 in /usr/local/lib/python3.10/dist-packages (from aiohttp->datasets) (1.18.3)\n",
            "Requirement already satisfied: typing-extensions>=3.7.4.3 in /usr/local/lib/python3.10/dist-packages (from huggingface-hub>=0.23.0->datasets) (4.12.2)\n",
            "Requirement already satisfied: charset-normalizer<4,>=2 in /usr/local/lib/python3.10/dist-packages (from requests>=2.32.2->datasets) (3.4.0)\n",
            "Requirement already satisfied: idna<4,>=2.5 in /usr/local/lib/python3.10/dist-packages (from requests>=2.32.2->datasets) (3.10)\n",
            "Requirement already satisfied: urllib3<3,>=1.21.1 in /usr/local/lib/python3.10/dist-packages (from requests>=2.32.2->datasets) (2.2.3)\n",
            "Requirement already satisfied: certifi>=2017.4.17 in /usr/local/lib/python3.10/dist-packages (from requests>=2.32.2->datasets) (2024.8.30)\n",
            "Requirement already satisfied: python-dateutil>=2.8.2 in /usr/local/lib/python3.10/dist-packages (from pandas->datasets) (2.8.2)\n",
            "Requirement already satisfied: pytz>=2020.1 in /usr/local/lib/python3.10/dist-packages (from pandas->datasets) (2024.2)\n",
            "Requirement already satisfied: tzdata>=2022.7 in /usr/local/lib/python3.10/dist-packages (from pandas->datasets) (2024.2)\n",
            "Requirement already satisfied: six>=1.5 in /usr/local/lib/python3.10/dist-packages (from python-dateutil>=2.8.2->pandas->datasets) (1.16.0)\n",
            "Requirement already satisfied: munch in /usr/local/lib/python3.10/dist-packages (4.0.0)\n"
          ]
        }
      ]
    },
    {
      "cell_type": "code",
      "source": [
        "%pwd"
      ],
      "metadata": {
        "id": "ATd0oy2F3W74",
        "colab": {
          "base_uri": "https://localhost:8080/",
          "height": 35
        },
        "outputId": "cc1490a4-917e-4422-e8f6-1d33eecefff9"
      },
      "execution_count": 58,
      "outputs": [
        {
          "output_type": "execute_result",
          "data": {
            "text/plain": [
              "'/content/StyleTTS2'"
            ],
            "application/vnd.google.colaboratory.intrinsic+json": {
              "type": "string"
            }
          },
          "metadata": {},
          "execution_count": 58
        }
      ]
    },
    {
      "cell_type": "code",
      "source": [
        "%cd StyleTTS2\n",
        "\n",
        "import torch\n",
        "torch.manual_seed(0)\n",
        "torch.backends.cudnn.benchmark = False\n",
        "torch.backends.cudnn.deterministic = True\n",
        "\n",
        "import random\n",
        "random.seed(0)\n",
        "\n",
        "import numpy as np\n",
        "np.random.seed(0)\n",
        "\n",
        "import nltk\n",
        "nltk.download('punkt_tab')\n",
        "\n",
        "# load packages\n",
        "import time\n",
        "import random\n",
        "import yaml\n",
        "from munch import Munch\n",
        "import numpy as np\n",
        "import torch\n",
        "from torch import nn\n",
        "import torch.nn.functional as F\n",
        "import torchaudio\n",
        "import librosa\n",
        "from nltk.tokenize import word_tokenize\n",
        "\n",
        "from models import *\n",
        "from utils import *\n",
        "from text_utils import TextCleaner\n",
        "textclenaer = TextCleaner()"
      ],
      "metadata": {
        "colab": {
          "base_uri": "https://localhost:8080/"
        },
        "id": "dGllbd0SJICi",
        "outputId": "aa2ecc16-980d-49dd-e671-5b1055fd5794"
      },
      "execution_count": 59,
      "outputs": [
        {
          "output_type": "stream",
          "name": "stdout",
          "text": [
            "[Errno 2] No such file or directory: 'StyleTTS2'\n",
            "/content/StyleTTS2\n",
            "177\n"
          ]
        },
        {
          "output_type": "stream",
          "name": "stderr",
          "text": [
            "[nltk_data] Downloading package punkt_tab to /root/nltk_data...\n",
            "[nltk_data]   Package punkt_tab is already up-to-date!\n"
          ]
        }
      ]
    },
    {
      "cell_type": "code",
      "source": [
        "\n",
        "%matplotlib inline\n",
        "\n",
        "device = 'cuda' if torch.cuda.is_available() else 'cpu'\n",
        "\n",
        "to_mel = torchaudio.transforms.MelSpectrogram(\n",
        "    n_mels=80, n_fft=2048, win_length=1200, hop_length=300)\n",
        "mean, std = -4, 4"
      ],
      "metadata": {
        "id": "rvPoghXFJKqo"
      },
      "execution_count": 60,
      "outputs": []
    },
    {
      "cell_type": "code",
      "source": [
        "\n",
        "def length_to_mask(lengths):\n",
        "    mask = torch.arange(lengths.max()).unsqueeze(0).expand(lengths.shape[0], -1).type_as(lengths)\n",
        "    mask = torch.gt(mask+1, lengths.unsqueeze(1))\n",
        "    return mask\n",
        "\n",
        "def preprocess(wave):\n",
        "    wave_tensor = torch.from_numpy(wave).float()\n",
        "    mel_tensor = to_mel(wave_tensor)\n",
        "    mel_tensor = (torch.log(1e-5 + mel_tensor.unsqueeze(0)) - mean) / std\n",
        "    return mel_tensor\n",
        "\n",
        "def compute_style(ref_dicts):\n",
        "    reference_embeddings = {}\n",
        "    for key, path in ref_dicts.items():\n",
        "        wave, sr = librosa.load(path, sr=24000)\n",
        "        audio, index = librosa.effects.trim(wave, top_db=30)\n",
        "        if sr != 24000:\n",
        "            audio = librosa.resample(audio, sr, 24000)\n",
        "        mel_tensor = preprocess(audio).to(device)\n",
        "\n",
        "        with torch.no_grad():\n",
        "            ref = model.style_encoder(mel_tensor.unsqueeze(1))\n",
        "        reference_embeddings[key] = (ref.squeeze(1), audio)\n",
        "\n",
        "    return reference_embeddings\n",
        "\n",
        "# load phonemizer\n",
        "import phonemizer\n",
        "global_phonemizer = phonemizer.backend.EspeakBackend(language='en-us', preserve_punctuation=True, with_stress=True, words_mismatch='ignore')\n",
        "\n",
        "config = yaml.safe_load(open(\"Models/LJSpeech/config.yml\"))\n",
        "\n",
        "# load pretrained ASR model\n",
        "ASR_config = config.get('ASR_config', False)\n",
        "ASR_path = config.get('ASR_path', False)\n",
        "text_aligner = load_ASR_models(ASR_path, ASR_config)\n",
        "\n",
        "# load pretrained F0 model\n",
        "F0_path = config.get('F0_path', False)\n",
        "pitch_extractor = load_F0_models(F0_path)\n",
        "\n",
        "# load BERT model\n",
        "from Utils.PLBERT.util import load_plbert\n",
        "BERT_path = config.get('PLBERT_dir', False)\n",
        "plbert = load_plbert(BERT_path)\n",
        "\n",
        "model = build_model(recursive_munch(config['model_params']), text_aligner, pitch_extractor, plbert)\n",
        "_ = [model[key].eval() for key in model]\n",
        "_ = [model[key].to(device) for key in model]\n",
        "\n",
        "params_whole = torch.load(\"Models/LJSpeech/epoch_2nd_00100.pth\", map_location='cpu')\n",
        "params = params_whole['net']\n",
        "\n",
        "for key in model:\n",
        "    if key in params:\n",
        "        print('%s loaded' % key)\n",
        "        try:\n",
        "            model[key].load_state_dict(params[key])\n",
        "        except:\n",
        "            from collections import OrderedDict\n",
        "            state_dict = params[key]\n",
        "            new_state_dict = OrderedDict()\n",
        "            for k, v in state_dict.items():\n",
        "                name = k[7:] # remove `module.`\n",
        "                new_state_dict[name] = v\n",
        "            # load params\n",
        "            model[key].load_state_dict(new_state_dict, strict=False)\n",
        "#             except:\n",
        "#                 _load(params[key], model[key])\n",
        "_ = [model[key].eval() for key in model]\n",
        "\n",
        "from Modules.diffusion.sampler import DiffusionSampler, ADPM2Sampler, KarrasSchedule\n",
        "\n",
        "sampler = DiffusionSampler(\n",
        "    model.diffusion.diffusion,\n",
        "    sampler=ADPM2Sampler(),\n",
        "    sigma_schedule=KarrasSchedule(sigma_min=0.0001, sigma_max=3.0, rho=9.0), # empirical parameters\n",
        "    clamp=False\n",
        ")\n",
        "\n",
        "def inference(text, noise, diffusion_steps=5, embedding_scale=1):\n",
        "    text = text.strip()\n",
        "    text = text.replace('\"', '')\n",
        "    ps = global_phonemizer.phonemize([text])\n",
        "    ps = word_tokenize(ps[0])\n",
        "    ps = ' '.join(ps)\n",
        "\n",
        "    tokens = textclenaer(ps)\n",
        "    tokens.insert(0, 0)\n",
        "    tokens = torch.LongTensor(tokens).to(device).unsqueeze(0)\n",
        "\n",
        "    with torch.no_grad():\n",
        "        input_lengths = torch.LongTensor([tokens.shape[-1]]).to(tokens.device)\n",
        "        text_mask = length_to_mask(input_lengths).to(tokens.device)\n",
        "\n",
        "        t_en = model.text_encoder(tokens, input_lengths, text_mask)\n",
        "        bert_dur = model.bert(tokens, attention_mask=(~text_mask).int())\n",
        "        d_en = model.bert_encoder(bert_dur).transpose(-1, -2)\n",
        "\n",
        "        s_pred = sampler(noise,\n",
        "              embedding=bert_dur[0].unsqueeze(0), num_steps=diffusion_steps,\n",
        "              embedding_scale=embedding_scale).squeeze(0)\n",
        "\n",
        "        s = s_pred[:, 128:]\n",
        "        ref = s_pred[:, :128]\n",
        "\n",
        "        d = model.predictor.text_encoder(d_en, s, input_lengths, text_mask)\n",
        "\n",
        "        x, _ = model.predictor.lstm(d)\n",
        "        duration = model.predictor.duration_proj(x)\n",
        "        duration = torch.sigmoid(duration).sum(axis=-1)\n",
        "        pred_dur = torch.round(duration.squeeze()).clamp(min=1)\n",
        "\n",
        "        pred_dur[-1] += 5\n",
        "\n",
        "        pred_aln_trg = torch.zeros(input_lengths, int(pred_dur.sum().data))\n",
        "        c_frame = 0\n",
        "        for i in range(pred_aln_trg.size(0)):\n",
        "            pred_aln_trg[i, c_frame:c_frame + int(pred_dur[i].data)] = 1\n",
        "            c_frame += int(pred_dur[i].data)\n",
        "\n",
        "        # encode prosody\n",
        "        en = (d.transpose(-1, -2) @ pred_aln_trg.unsqueeze(0).to(device))\n",
        "        F0_pred, N_pred = model.predictor.F0Ntrain(en, s)\n",
        "        out = model.decoder((t_en @ pred_aln_trg.unsqueeze(0).to(device)),\n",
        "                                F0_pred, N_pred, ref.squeeze().unsqueeze(0))\n",
        "\n",
        "    return out.squeeze().cpu().numpy()\n",
        "\n",
        "def LFinference(text, s_prev, noise, alpha=0.7, diffusion_steps=5, embedding_scale=1):\n",
        "  text = text.strip()\n",
        "  text = text.replace('\"', '')\n",
        "  ps = global_phonemizer.phonemize([text])\n",
        "  ps = word_tokenize(ps[0])\n",
        "  ps = ' '.join(ps)\n",
        "\n",
        "  tokens = textclenaer(ps)\n",
        "  tokens.insert(0, 0)\n",
        "  tokens = torch.LongTensor(tokens).to(device).unsqueeze(0)\n",
        "\n",
        "  with torch.no_grad():\n",
        "      input_lengths = torch.LongTensor([tokens.shape[-1]]).to(tokens.device)\n",
        "      text_mask = length_to_mask(input_lengths).to(tokens.device)\n",
        "\n",
        "      t_en = model.text_encoder(tokens, input_lengths, text_mask)\n",
        "      bert_dur = model.bert(tokens, attention_mask=(~text_mask).int())\n",
        "      d_en = model.bert_encoder(bert_dur).transpose(-1, -2)\n",
        "\n",
        "      s_pred = sampler(noise,\n",
        "            embedding=bert_dur[0].unsqueeze(0), num_steps=diffusion_steps,\n",
        "            embedding_scale=embedding_scale).squeeze(0)\n",
        "\n",
        "      if s_prev is not None:\n",
        "          # convex combination of previous and current style\n",
        "          s_pred = alpha * s_prev + (1 - alpha) * s_pred\n",
        "\n",
        "      s = s_pred[:, 128:]\n",
        "      ref = s_pred[:, :128]\n",
        "\n",
        "      d = model.predictor.text_encoder(d_en, s, input_lengths, text_mask)\n",
        "\n",
        "      x, _ = model.predictor.lstm(d)\n",
        "      duration = model.predictor.duration_proj(x)\n",
        "      duration = torch.sigmoid(duration).sum(axis=-1)\n",
        "      pred_dur = torch.round(duration.squeeze()).clamp(min=1)\n",
        "\n",
        "      pred_aln_trg = torch.zeros(input_lengths, int(pred_dur.sum().data))\n",
        "      c_frame = 0\n",
        "      for i in range(pred_aln_trg.size(0)):\n",
        "          pred_aln_trg[i, c_frame:c_frame + int(pred_dur[i].data)] = 1\n",
        "          c_frame += int(pred_dur[i].data)\n",
        "\n",
        "      # encode prosody\n",
        "      en = (d.transpose(-1, -2) @ pred_aln_trg.unsqueeze(0).to(device))\n",
        "      F0_pred, N_pred = model.predictor.F0Ntrain(en,\n",
        "      s)\n",
        "      out = model.decoder((t_en @ pred_aln_trg.unsqueeze(0).to(device)),\n",
        "                              F0_pred, N_pred, ref.squeeze().unsqueeze(0))\n",
        "\n",
        "  return out.squeeze().cpu().numpy(), s_pred"
      ],
      "metadata": {
        "id": "m0XRpbxSCSix",
        "collapsed": true,
        "colab": {
          "base_uri": "https://localhost:8080/"
        },
        "outputId": "77f00bc0-37d8-41ef-c07a-0a0b7ed787cd"
      },
      "execution_count": 61,
      "outputs": [
        {
          "output_type": "stream",
          "name": "stderr",
          "text": [
            "/content/StyleTTS2/models.py:604: FutureWarning: You are using `torch.load` with `weights_only=False` (the current default value), which uses the default pickle module implicitly. It is possible to construct malicious pickle data which will execute arbitrary code during unpickling (See https://github.com/pytorch/pytorch/blob/main/SECURITY.md#untrusted-models for more details). In a future release, the default value for `weights_only` will be flipped to `True`. This limits the functions that could be executed during unpickling. Arbitrary objects will no longer be allowed to be loaded via this mode unless they are explicitly allowlisted by the user via `torch.serialization.add_safe_globals`. We recommend you start setting `weights_only=True` for any use case where you don't have full control of the loaded file. Please open an issue on GitHub for any issues related to this experimental feature.\n",
            "  params = torch.load(model_path, map_location='cpu')['model']\n",
            "/content/StyleTTS2/models.py:588: FutureWarning: You are using `torch.load` with `weights_only=False` (the current default value), which uses the default pickle module implicitly. It is possible to construct malicious pickle data which will execute arbitrary code during unpickling (See https://github.com/pytorch/pytorch/blob/main/SECURITY.md#untrusted-models for more details). In a future release, the default value for `weights_only` will be flipped to `True`. This limits the functions that could be executed during unpickling. Arbitrary objects will no longer be allowed to be loaded via this mode unless they are explicitly allowlisted by the user via `torch.serialization.add_safe_globals`. We recommend you start setting `weights_only=True` for any use case where you don't have full control of the loaded file. Please open an issue on GitHub for any issues related to this experimental feature.\n",
            "  params = torch.load(path, map_location='cpu')['net']\n",
            "/content/StyleTTS2/Utils/PLBERT/util.py:30: FutureWarning: You are using `torch.load` with `weights_only=False` (the current default value), which uses the default pickle module implicitly. It is possible to construct malicious pickle data which will execute arbitrary code during unpickling (See https://github.com/pytorch/pytorch/blob/main/SECURITY.md#untrusted-models for more details). In a future release, the default value for `weights_only` will be flipped to `True`. This limits the functions that could be executed during unpickling. Arbitrary objects will no longer be allowed to be loaded via this mode unless they are explicitly allowlisted by the user via `torch.serialization.add_safe_globals`. We recommend you start setting `weights_only=True` for any use case where you don't have full control of the loaded file. Please open an issue on GitHub for any issues related to this experimental feature.\n",
            "  checkpoint = torch.load(log_dir + \"/step_\" + str(iters) + \".t7\", map_location='cpu')\n",
            "/usr/local/lib/python3.10/dist-packages/torch/nn/utils/weight_norm.py:143: FutureWarning: `torch.nn.utils.weight_norm` is deprecated in favor of `torch.nn.utils.parametrizations.weight_norm`.\n",
            "  WeightNorm.apply(module, name, dim)\n",
            "/usr/local/lib/python3.10/dist-packages/torch/nn/modules/rnn.py:123: UserWarning: dropout option adds dropout after all but last recurrent layer, so non-zero dropout expects num_layers greater than 1, but got dropout=0.2 and num_layers=1\n",
            "  warnings.warn(\n",
            "<ipython-input-61-798bbfb27cf4>:51: FutureWarning: You are using `torch.load` with `weights_only=False` (the current default value), which uses the default pickle module implicitly. It is possible to construct malicious pickle data which will execute arbitrary code during unpickling (See https://github.com/pytorch/pytorch/blob/main/SECURITY.md#untrusted-models for more details). In a future release, the default value for `weights_only` will be flipped to `True`. This limits the functions that could be executed during unpickling. Arbitrary objects will no longer be allowed to be loaded via this mode unless they are explicitly allowlisted by the user via `torch.serialization.add_safe_globals`. We recommend you start setting `weights_only=True` for any use case where you don't have full control of the loaded file. Please open an issue on GitHub for any issues related to this experimental feature.\n",
            "  params_whole = torch.load(\"Models/LJSpeech/epoch_2nd_00100.pth\", map_location='cpu')\n"
          ]
        },
        {
          "output_type": "stream",
          "name": "stdout",
          "text": [
            "bert loaded\n",
            "bert_encoder loaded\n",
            "predictor loaded\n",
            "decoder loaded\n",
            "text_encoder loaded\n",
            "predictor_encoder loaded\n",
            "style_encoder loaded\n",
            "diffusion loaded\n",
            "text_aligner loaded\n",
            "pitch_extractor loaded\n",
            "mpd loaded\n",
            "msd loaded\n",
            "wd loaded\n"
          ]
        }
      ]
    },
    {
      "cell_type": "code",
      "source": [
        "def inference_accent(text, noise, diffusion_steps=5, embedding_scale=1, accent=None):\n",
        "    # Process the text\n",
        "    text = text.strip()\n",
        "    text = text.replace('\"', '')\n",
        "\n",
        "    # Phonemize the text (considering accent)\n",
        "    ps = global_phonemizer.phonemize([text], accent=accent)  # Adjust phonemization based on accent\n",
        "    ps = word_tokenize(ps[0])\n",
        "    ps = ' '.join(ps)\n",
        "\n",
        "    tokens = textclenaer(ps)\n",
        "    tokens.insert(0, 0)\n",
        "    tokens = torch.LongTensor(tokens).to(device).unsqueeze(0)\n",
        "\n",
        "    # Use accent to adjust embedding scale or other parameters (if necessary)\n",
        "    if accent:\n",
        "        accent_map = {\n",
        "            'german': 0.8,  # Example scale factor for german accent\n",
        "            'english': 1.2,  # Example scale factor for english accent\n",
        "            # Add other accents and their respective adjustments here\n",
        "        }\n",
        "        embedding_scale *= accent_map.get(accent, 1)  # Adjust embedding scale based on accent\n",
        "\n",
        "    with torch.no_grad():\n",
        "        input_lengths = torch.LongTensor([tokens.shape[-1]]).to(tokens.device)\n",
        "        text_mask = length_to_mask(input_lengths).to(tokens.device)\n",
        "\n",
        "        t_en = model.text_encoder(tokens, input_lengths, text_mask)\n",
        "        bert_dur = model.bert(tokens, attention_mask=(~text_mask).int())\n",
        "        d_en = model.bert_encoder(bert_dur).transpose(-1, -2)\n",
        "\n",
        "        s_pred = sampler(noise,\n",
        "                          embedding=bert_dur[0].unsqueeze(0), num_steps=diffusion_steps,\n",
        "                          embedding_scale=embedding_scale).squeeze(0)\n",
        "\n",
        "        s = s_pred[:, 128:]\n",
        "        ref = s_pred[:, :128]\n",
        "\n",
        "        d = model.predictor.text_encoder(d_en, s, input_lengths, text_mask)\n",
        "\n",
        "        x, _ = model.predictor.lstm(d)\n",
        "        duration = model.predictor.duration_proj(x)\n",
        "        duration = torch.sigmoid(duration).sum(axis=-1)\n",
        "        pred_dur = torch.round(duration.squeeze()).clamp(min=1)\n",
        "\n",
        "        pred_dur[-1] += 5\n",
        "\n",
        "        pred_aln_trg = torch.zeros(input_lengths, int(pred_dur.sum().data))\n",
        "        c_frame = 0\n",
        "        for i in range(pred_aln_trg.size(0)):\n",
        "            pred_aln_trg[i, c_frame:c_frame + int(pred_dur[i].data)] = 1\n",
        "            c_frame += int(pred_dur[i].data)\n",
        "\n",
        "        # encode prosody\n",
        "        en = (d.transpose(-1, -2) @ pred_aln_trg.unsqueeze(0).to(device))\n",
        "        F0_pred, N_pred = model.predictor.F0Ntrain(en, s)\n",
        "        out = model.decoder((t_en @ pred_aln_trg.unsqueeze(0).to(device)),\n",
        "                            F0_pred, N_pred, ref.squeeze().unsqueeze(0))\n",
        "\n",
        "    return out.squeeze().cpu().numpy()\n"
      ],
      "metadata": {
        "id": "Cav0kxBvJpSY"
      },
      "execution_count": 62,
      "outputs": []
    },
    {
      "cell_type": "code",
      "source": [
        "!pip install nltk\n",
        "import nltk\n",
        "nltk.download('punkt_tab') # download the 'punkt_tab' data package for sentence tokenization"
      ],
      "metadata": {
        "id": "qbs0dOMCJg0n",
        "collapsed": true,
        "colab": {
          "base_uri": "https://localhost:8080/"
        },
        "outputId": "672ea71f-2d62-41d8-ce92-c50fa7101b06"
      },
      "execution_count": 63,
      "outputs": [
        {
          "output_type": "stream",
          "name": "stdout",
          "text": [
            "Requirement already satisfied: nltk in /usr/local/lib/python3.10/dist-packages (3.9.1)\n",
            "Requirement already satisfied: click in /usr/local/lib/python3.10/dist-packages (from nltk) (8.1.7)\n",
            "Requirement already satisfied: joblib in /usr/local/lib/python3.10/dist-packages (from nltk) (1.4.2)\n",
            "Requirement already satisfied: regex>=2021.8.3 in /usr/local/lib/python3.10/dist-packages (from nltk) (2024.9.11)\n",
            "Requirement already satisfied: tqdm in /usr/local/lib/python3.10/dist-packages (from nltk) (4.66.6)\n"
          ]
        },
        {
          "output_type": "stream",
          "name": "stderr",
          "text": [
            "[nltk_data] Downloading package punkt_tab to /root/nltk_data...\n",
            "[nltk_data]   Package punkt_tab is already up-to-date!\n"
          ]
        },
        {
          "output_type": "execute_result",
          "data": {
            "text/plain": [
              "True"
            ]
          },
          "metadata": {},
          "execution_count": 63
        }
      ]
    },
    {
      "cell_type": "markdown",
      "source": [
        "### Synthesize speech"
      ],
      "metadata": {
        "id": "vuCbS0gdArgJ"
      }
    },
    {
      "cell_type": "code",
      "source": [
        "# @title Input Text { display-mode: \"form\" }\n",
        "# synthesize a text\n",
        "text = \"we needed to install nltk!\" # @param {type:\"string\"}\n"
      ],
      "metadata": {
        "id": "7Ud1Y-kbBPTw"
      },
      "execution_count": 64,
      "outputs": []
    },
    {
      "cell_type": "markdown",
      "source": [
        "#### Basic synthesis (5 diffusion steps)"
      ],
      "metadata": {
        "id": "TM2NjuM7B6sz"
      }
    },
    {
      "cell_type": "code",
      "source": [
        "!grep -r \"def inference\" .\n"
      ],
      "metadata": {
        "id": "pEj0Wola6QtA",
        "colab": {
          "base_uri": "https://localhost:8080/"
        },
        "outputId": "8317abc5-4837-4889-c481-d2253fe6daa6"
      },
      "execution_count": 65,
      "outputs": [
        {
          "output_type": "stream",
          "name": "stdout",
          "text": [
            "./models.py:    def inference(self, x):\n",
            "./models.py:    def inference(self, x, style):\n",
            "./Demo/Inference_LJSpeech.ipynb:    \"def inference(text, noise, diffusion_steps=5, embedding_scale=1):\\n\",\n",
            "./Demo/Inference_LibriTTS.ipynb:    \"def inference(text, ref_s, alpha = 0.3, beta = 0.7, diffusion_steps=5, embedding_scale=1):\\n\",\n",
            "./Colab/StyleTTS2_Demo_LibriTTS.ipynb:        \"def inference(text, ref_s, alpha = 0.3, beta = 0.7, diffusion_steps=5, embedding_scale=1):\\n\",\n",
            "./Colab/StyleTTS2_Demo_LJSpeech.ipynb:        \"def inference(text, noise, diffusion_steps=5, embedding_scale=1):\\n\",\n",
            "./Colab/StyleTTS2_Finetune_Demo.ipynb:        \"def inference(text, ref_s, alpha = 0.3, beta = 0.7, diffusion_steps=5, embedding_scale=1):\\n\",\n"
          ]
        }
      ]
    },
    {
      "cell_type": "markdown",
      "source": [],
      "metadata": {
        "id": "a2RAbMbL7aTj"
      }
    },
    {
      "cell_type": "code",
      "source": [
        "import time\n",
        "\n",
        "start = time.time()\n",
        "noise = torch.randn(1,1,256).to(device)\n",
        "wav = inference(text, noise, diffusion_steps=5, embedding_scale=1)\n",
        "rtf = (time.time() - start) / (len(wav) / 24000)\n",
        "print(f\"RTF = {rtf:5f}\")\n",
        "import IPython.display as ipd\n",
        "display(ipd.Audio(wav, rate=24000))"
      ],
      "metadata": {
        "id": "KILqC-V-Ay5e",
        "colab": {
          "base_uri": "https://localhost:8080/",
          "height": 93
        },
        "outputId": "e5caa07d-2dd1-4510-9f73-6a9d2f2d35c8"
      },
      "execution_count": 66,
      "outputs": [
        {
          "output_type": "stream",
          "name": "stdout",
          "text": [
            "RTF = 4.896541\n"
          ]
        },
        {
          "output_type": "display_data",
          "data": {
            "text/plain": [
              "<IPython.lib.display.Audio object>"
            ],
            "text/html": [
              "\n",
              "                <audio  controls=\"controls\" >\n",
              "                    <source src=\"data:audio/wav;base64,UklGRuRqAgBXQVZFZm10IBAAAAABAAEAwF0AAIC7AAACABAAZGF0YcBqAgAAAAAAAAAAAAAAAAAAAAAAAAAAAAAAAAAAAAAAAAAAAAAAAAAAAAAAAAAAAAAAAAAAAAAAAAAAAAAAAAAAAAAAAAAAAAAAAAAAAAAAAAAAAAAAAAAAAAAAAAAAAAAAAAAAAAAAAAAAAAAAAAAAAAAAAAAAAAAAAAAAAAAAAAAAAAAAAAAAAAAAAAAAAAAAAAAAAAAAAAAAAAAAAAAAAAAAAAAAAAAAAAAAAAAAAAAAAAAAAAAAAAAAAAAAAAAAAAAAAAAAAAAAAAAAAAAAAAAAAAAAAAAAAAAAAAAAAAAAAAAAAAAAAAAAAAAAAAAAAAAAAAAAAAAAAAAAAAAAAAAAAAAAAAAAAAAAAAAAAAAAAAAAAAAAAAAAAAAAAAAAAAAAAAAAAAAAAAAAAAAAAAAAAAAAAAAAAAAAAAAAAAAAAAAAAAAAAAAAAAAAAAAAAAAAAAAAAAAAAAAAAAAAAAAAAAAAAAAAAAAAAAAAAAAAAAAAAAAAAAAAAAAAAAAAAAAAAAAAAAAAAAAAAAAAAAAAAAAAAAAAAAAAAAAAAAAAAAAAAAAAAAAAAAAAAAAAAAAAAAAAAAAAAAAAAAAAAAAAAAAAAAAAAAAAAAAAAAAAAAAAAAAAAAAAAAAAAAAAAAAAAAAAAAAAAAAAAAAAAAAAAAAAAAAAAAAAAAAAAAAAAAAAAAAAAAAAAAAAAAAAAAAAAAAAAAAAAAAAAAAAAAAAAAAAAAAAAAAAAAAAAAAAAAAAAAAAAAAAAAAAAAAAAAAAAAAAAAAAAAAAAAAAAAAAAAAAAAAAAAAAAAAAAAAAAAAAAAAAAAAAAAAAAAAAAAAAAAAAAAAAAAAAAAAAAAAAAAAAAAAAAAAAAAAAAAAAAAAAAAAAAAAAAAAAAAAAAAAAAAAAAAAAAAAAAAAAAAAAAAAAAAAAAAAAAAAAAAAAAAAAAAAAAAAAAAAAAAAAAAAAAAAAAAAAAAAAAAAAAAAAAAAAAAAAAAAAAAAAAAAAAAAAAAAAAAAAAAAAAAAAAAAAAAAAAAAAAAAAAAAAAAAAAAAAAAAAAAAAAAAAAAAAAAAAAAAAAAAAAAAAAAAAAAAAAAAAAAAAAAAAAAAAAAAAAAAAAAAAAAAAAAAAAAAAAAAAAAAAAAAAAAAAAAAAAAAAAAAAAAAAAAAAAAAAAAAAAAAAAAAAAAAAAAAAAAAAAAAAAAAAAAAAAAAAAAAAAAAAAAAAAAAAAAAAAAAAAAAAAAAAAAAAAAAAAAAAAAAAAAAAAAAAAAAAAAAAAAAAAAAAAAAAAAAAAAAAAAAAAAAAAAAAAAAAAAAAAAAAAAAAAAAAAAAAAAAAAAAAAAAAAAAAAAAAAAAAAAAAAAAAAAAAAAAAAAAAAAAAAAAAAAAAAAAAAAAAAAAAAAAAAAAAAAAAAAAAAAAAAAAAAAAAAAAAAAAAAAAAAAAAAAAAAAAAAAAAAAAAAAAAAAAAAAAAAAAAAAAAAAAAAAAAAAAAAAAAAAAAAAAAAAAAAAAAAAAAAAAAAAAAAAAAAAAAAAAAAAAAAAAAAAAAAAAAAAAAAAAAAAAAAAAAAAAAAAAAAAAAAAAAAAAAAAAAAAAAAAAAAAAAAAAAAAAAAAAAAAAAAAAAAAAAAAAAAAAAAAAAAAAAAAAAAAAAAAAAAAAAAAAAAAAAAAAAAAAAAAAAAAAAAAAAAAAAAAAAAAAAAAAAAAAAAAAAAAAAAAAAAAAAAAAAAAAAAAAAAAAAAAAAAAAAAAAAAAAAAAAAAAAAAAAAAAAAAAAAAAAAAAAAAAAAAAAAAAAAAAAAAAAAAAAAAAAAAAAAAAAAAAAAAAAAAAAAAAAAAAAAAAAAAAAAAAAAAAAAAAAAAAAAAAAAAAAAAAAAAAAAAAAAAAAAAAAAAAAAAAAAAAAAAAAAAAAAAAAAAAAAAAAAAAAAAAAAAAAAAAAAAAAAAAAAAAAAAAAAAAAAAAAAAAAAAAAAAAAAAAAAAAAAAAAAAAAAAAAAAAAAAAAAAAAAAAAAAAAAAAAAAAAAAAAAAAAAAAAAAAAAAAAAAAAAAAAAAAAAAAAAAAAAAAAAAAAAAAAAAAAAAAAAAAAAAAAAAAAAAAAAAAAAAAAAAAAAAAAAAAAAAAAAAAAAAAAAAAAAAAAAAAAAAAAAAAAAAAAAAAAAAAAAAAAAAAAAAAAAAAAAAAAAAAAAAAAAAAAAAAAAAAAAAAAAAAAAAAAAAAAAAAAAAAAAAAAAAAAAAAAAAAAAAAAAAAAAAAAAAAAAAAAAAAAAAAAAAAAAAAAAAAAAAAAAAAAAAAAAAAAAAAAAAAAAAAAAAAAAAAAAAAAAAAAAAAAAAAAAAAAAAAAAAAAAAAAAAAAAAAAAAAAAAAAAAAAAAAAAAAAAAAAAAAAAAAAAAAAAAAAAAAAAAAAAAAAAAAAAAAAAAAAAAAAAAAAAAAAAAAAAAAAAAAAAAAAAAAAAAAAAAAAAAAAAAAAAAAAAAAAAAAAAAAAAAAAAAAAAAAAAAAAAAAAAAAAAAAAAAAAAAAAAAAAAAAAAAAAAAAAAAAAAAAAAAAAAAAAAAAAAAAAAAAAAAAAAAAAAAAAAAAAAAAAAAAAAAAAAAAAAAAAAAAAAAAAAAAAAAAAAAAAAAAAAAAAAAAAAAAAAAAAAAAAAAAAAAAAAAAAAAAAAAAAAAAAAAAAAAAAAAAAAAAAAAAAAAAAAAAAAAAAAAAAAAAAAAAAAAAAAAAAAAAAAAAAAAAAAAAAAAAAAAAAAAAAAAAAAAAAAAAAAAAAAAAAAAAAAAAAAAAAAAAAAAAAAAAAAAAAAAAAAAAAAAAAAAAAAAAAAAAAAAAAAAAAAAAAAAAAAAAAAAAAAAAAAAAAAAAAAAAAAAAAAAAAAAAAAAAAAAAAAAAAAAAAAAAAAAAAAAAAAAAAAAAAAAAAAAAAAAAAAAAAAAAAAAAAAAAAAAAAAAAAAAAAAAAAAAAAAAAAAAAAAAAAAAAAAAAAAAAAAAAAAAAAAAAAAAAAAAAAAAAAAAAAAAAAAAAAAAAAAAAAAAAAAAAAAAAAAAAAAAAAAAAAAAAAAAAAAAAAAAAAAAAAAAAAAAAAAAAAAAAAAAAAAAAAAAAAAAAAAAAAAAAAAAAAAAAAAAAAAAAAAAAAAAAAAAAAAAAAAAAAAAAAAAAAAAAAAAAAAAAAAAAAAAAAAAAAAAAAAAAAAAAAAAAAAAAAAAAAAAAAAAAAAAAAAAAAAAAAAAAAAAAAAAAAAAAAAAAAAAAAAAAAAAAAAAAAAAAAAAAAAAAAAAAAAAAAAAAAAAAAAAAAAAAAAAAAAAAAAAAAAAAAAAAAAAAAAAAAAAAAAAAAAAAAAAAAAAAAAAAAAAAAAAAAAAAAAAAAAAAAAAAAAAAAAAAAAAAAAAAAAAAAAAAAAAAAAAAAAAAAAAAAAAAAAAAAAAAAAAAAAAAAAAAAAAAAAAAAAAAAAAAAAAAAAAAAAAAAAAAAAAAAAAAAAAAAAAAAAAAAAAAAAAAAAAAAAAAAAAAAAAAAAAAAAAAAAAAAAAAAAAAAAAAAAAAAAAAAAAAAAAAAAAAAAAAAAAAAAAAAAAAAAAAAAAAAAAAAAAAAAAAAAAAAAAAAAAAAAAAAAAAAAAAAAAAAAAAAAAAAAAAAAAAAAAAAAAAAAAAAAAAAAAAAAAAAAAAAAAAAAAAAAAAAAAAAAAAAAAAAAAAAAAAAAAAAAAAAAAAAAAAAAAAAAAAAAAAAAAAAAAAAAAAAAAAAAAAAAAAAAAAAAAAAAAAAAAAAAAAAAAAAAAAAAAAAAAAAAAAAAAAAAAAAAAAAAAAAAAAAAAAAAAAAAAAAAAAAAAAAAAAAAAAAAAAAAAAAAAAAAAAAAAAAAAAAAAAAAAAAAAAAAAAAAAAAAAAAAAAAAAAAAAAAAAAAAAAAAAAAAAAAAAAAAAAAAAAAAAAAAAAAAAAAAAAAAAAAAAAAAAAAAAAAAAAAAAAAAAAAAAAAAAAAAAAAAAAAAAAAAAAAAAAAAAAAAAAAAAAAAAAAAAAAAAAAAAAAAAAAAAAAAAAAAAAAAAAAAAAAAAAAAAAAAAAAAAAAAAAAAAAAAAAAAAAAAAAAAAAAAAAAAAAAAAAAAAAAAAAAAAAAAAAAAAAAAAAAAAAAAAAAAAAAAAAAAAAAAAAAAAAAAAAAAAAAAAAAAAAAAAAAAAAAAAAAAAAAAAAAAAAAAAAAAAAAAAAAAAAAAAAAAAAAAAAAAAAAAAAAAAAAAAAAAAAAAAAAAAAAAAAAAAAAAAAAAAAAAAAAAAAAAAAAAAAAAAAAAAAAAAAAAAAAAAAAAAAAAAAAAAAAAAAAAAAAAAAAAAAAAAAAAAAAAAAAAAAAAAAAAAAAAAAAAAAAAAAAAAAAAAAAAAAAAAAAAAAAAAAAAAAAAAAAAAAAAAAAAAAAAAAAAAAAAAAAAAAAAAAAAAAAAAAAAAAAAAAAAAAAAAAAAAAAAAAAAAAAAAAAAAAAAAAAAAAAAAAAAAAAAAAAAAAAAAAAAAAAAAAAAAAAAAAAAAAAAAAAAAAAAAAAAAAAAAAAAAAAAAAAAAAAAAAAAAAAAAAAAAAAAAAAAAAAAAAAAAAAAAAAAAAAAAAAAAAAAAAAAAAAAAAAAAAAAAAAAAAAAAAAAAAAAAAAAAAAAAAAAAAAAAAAAAAAAAAAAAAAAAAAAAAAAAAAAAAAAAAAAAAAAAAAAAAAAAAAAAAAAAAAAAAAAAAAAAAAAAAAAAAAAAAAAAAAAAAAAAAAAAAAAAAAAAAAAAAAAAAAAAAAAAAAAAAAAAAAAAAAAAAAAAAAAAAAAAAAAAAAAAAAAAAAAAAAAAAAAAAAAAAAAAAAAAAAAAAAAAAAAAAAAAAAAAAAAAAAAAAAAAAAAAAAAAAAAAAAAAAAAAAAAAAAAAAAAAAAAAAAAAAAAAAAAAAAAAAAAAAAAAAAAAAAAAAAAAAAAAAAAAAAAAAAAAAAAAAAAAAAAAAAAAAAAAAAAAAAAAAAAAAAAAAAAAAAAAAAAAAAAAAAAAAAAAAAAAAAAAAAAAAAAAAAAAAAAAAAAAAAAAAAAAAAAAAAAAAAAAAAAAAAAAAAAAAAAAAAAAAAAAAAAAAAAAAAAAAAAAAAAAAAAAAAAAAAAAAAAAAAAAAAAAAAAAAAAAAAAAAAAAAAAAAAAAAAAAAAAAAAAAAAAAAAAAAAAAAAAAAAAAAAAAAAAAAAAAAAAAAAAAAAAAAAAAAAAAAAAAAAAAAAAAAAAAAAAAAAAAAAAAAAAAAAAAAAAAAAAAAAAAAAAAAAAAAAAAAAAAAAAAAAAAAAAAAAAAAAAAAAAAAAAAAAAAAAAAAAAAAAAAAAAAAAAAAAAAAAAAAAAAAAAAAAAAAAAAAAAAAAAAAAAAAAAAAAAAAAAAAAAAAAAAAAAAAAAAAAAAAAAAAAAAAAAAAAAAAAAAAAAAAAAAAAAAAAAAAAAAAAAAAAAAAAAAAAAAAAAAAAAAAAAAAAAAAAAAAAAAAAAAAAAAAAAAAAAAAAAAAAAAAAAAAAAAAAAAAAAAAAAAAAAAAAAAAAAAAAAAAAAAAAAAAAAAAAAAAAAAAAAAAAAAAAAAAAAAAAAAAAAAAAAAAAAAAAAAAAAAAAAAAAAAAAAAAAAAAAAAAAAAAAAAAAAAAAAAAAAAAAAAAAAAAAAAAAAAAAAAAAAAAAAAAAAAAAAAAAAAAAAAAAAAAAAAAAAAAAAAAAAAAAAAAAAAAAAAAAAAAAAAAAAAAAAAAAAAAAAAAAAAAAAAAAAAAAAAAAAAAAAAAAAAAAAAAAAAAAAAAAAAAAAAAAAAAAAAAAAAAAAAAAAAAAAAAAAAAAAAAAAAAAAAAAAAAAAAAAAAAAAAAAAAAAAAAAAAAAAAAAAAAAAAAAAAAAAAAAAAAAAAAAAAAAAAAAAAAAAAAAAAAAAAAAAAAAAAAAAAAAAAAAAAAAAAAAAAAAAAAAAAAAAAAAAAAAAAAAAAAAAAAAAAAAAAAAAAAAAAAAAAAAAAAAAAAAAAAAAAAAAAAAAAAAAAAAAAAAAAAAAAAAAAAAAAAAAAAAAAAAAAAAAAAAAAAAAAAAAAAAAAAAAAAAAAAAAAAAAAAAAAAAAAAAAAAAAAAAAAAAAAAAAAAAAAAAAAAAAAAAAAAAAAAAAAAAAAAAAAAAAAAAAAAAAAAAAAAAAAAAAAAAAAAAAAAAAAAAAAAAAAAAAAAAAAAAAAAAAAAAAAAAAAAAAAAAAAAAAAAAAAAAAAAAAAAAAAAAAAAAAAAAAAAAAAAAAAAAAAAAAAAAAAAAAAAAAAAAAAAAAAAAAAAAAAAAAAAAAAAAAAAAAAAAAAAAAAAAAAAAAAAAAAAAAAAAAAAAAAAAAAAAAAAAAAAAAAAAAAAAAAAAAAAAAAAAAAAAAAAAAAAAAAAAAAAAAAAAAAAAAAAAAAAAAAAAAAAAAAAAAAAAAAAAAAAAAAAAAAAAAAAAAAAAAAAAAAAAAAAAAAAAAAAAAAAAAAAAAAAAAAAAAAAAAAAAAAAAAAAAAAAAAAAAAAAAAAAAAAAAAAAAAAAAAAAAAAAAAAAAAAAAAAAAAAAAAAAAAAAAAAAAAAAAAAAAAAAAAAAAAAAAAAAAAAAAAAAAAAAAAAAAAAAAAAAAAAAAAAAAAAAAAAAAAAAAAAAAAAAAAAAAAAAAAAAAAAAAAAAAAAAAAAAAAAAAAAAAAAAAAAAAAAAAAAAAAAAAAAAAAAAAAAAAAAAAAAAAAAAAAAAAAAAAAAAAAAAAAAAAAAAAAAAAAAAAAAAAAAAAAAAAAAAAAAAAAAAAAAAAAAAAAAAAAAAAAAAAAAAAAAAAAAAAAAAAAAAAAAAAAAAAAAAAAAAAAAAAAAAAAAAAAAAAAAAAAAAAAAAAAAAAAAAAAAAAAAAAAAAAAAAAAAAAAAAAAAAAAAAAAAAAAAAAAAAAAAAAAAAAAAAAAAAAAAAAAAAAAAAAAAAAAAAAAAAAAAAAAAAAAAAAAAAAAAAAAAAAAAAAAAAAAAAAAAAAAAAAAAAAAAAAAAAAAAAAAAAAAAAAAAAAAAAAAAAAAAAAAAAAAAAAAAAAAAAAAAAAAAAAAAAAAAAAAAAAAAAAAAAAAAAAAAAAAAAAAAAAAAAAAAAAAAAAAAAAAAAAAAAAAAAAAAAAAAAAAAAAAAAAAAAAAAAAAAAAAAAAAAAAAAAAAAAAAAAAAAAAAAAAAAAAAAAAAAAAAAAAAAAAAAAAAAAAAAAAAAAAAAAAAAAAAAAAAAAAAAAAAAAAAAAAAAAAAAAAAAAAAAAAAAAAAAAAAAAAAAAAAAAAAAAAAAAAAAAAAAAAAAAAAAAAAAAAAAAAAAAAAAAAAAAAAAAAAAAAAAAAAAAAAAAAAAAAAAAAAAAAAAAAAAAAAAAAAAAAAAAAAAAAAAAAAAAAAAAAAAAAAAAAAAAAAAAAAAAAAAAAAAAAAAAAAAAAAAAAAAAAAAAAAAAAAAAAAAAAAAAAAAAAAAAAAAAAAAAAAAAAAAAAAAAAAAAAAAAAAAAAAAAAAAAAAAAAAAAAAAAAAAAAAAAAAAAAAAAAAAAAAAAAAAAAAAAAAAAAAAAAAAAAAAAAAAAAAAAAAAAAAAAAAAAAAAAAAAAAAAAAAAAAAAAAAAAAAAAAAAAAAAAAAAAAAAAAAAAAAAAAAAAAAAAAAAAAAAAAAAAAAAAAAAAAAAAAAAAAAAAAAAAAAAAAAAAAAAAAAAAAAAAAAAAAAAAAAAAAAAAAAAAAAAAAAAAAAAAAAAAAAAAAAAAAAAAAAAAAAAAAAAAAAAAAAAAAAAAAAAAAAAAAAAAAAAAAAAAAAAAAAAAAAAAAAAAAAAAAAAAAAAAAAAAAAAAAAAAAAAAAAAAAAAAAAAAAAAAAAAAAAAAAAAAAAAAAAAAAAAAAAAAAAAAAAAAAAAAAAAAAAAAAAAAAAAAAAAAAAAAAAAAAAAAAAAAAAAAAAAAAAAAAAAAAAAAAAAAAAAAAAAAAAAAAAAAAAAAAAAAAAAAAAAAAAAAAAAAAAAAAAAAAAAAAAAAAAAAAAAAAAAAAAAAAAAAAAAAAAAAAAAAAAAAAAAAAAAAAAAAAAAAAAAAAAAAAAAAAAAAAAAAAAAAAAAAAAAAAAAAAAAAAAAAAAAAAAAAAAAAAAAAAAAAAAAAAAAAAAAAAAAAAAAAAAAAAAAAAAAAAAAAAAAAAAAAAAAAAAAAAAAAAAAAAAAAAAAAAAAAAAAAAAAAAAAAAAAAAAAAAAAAAAAAAAAAAAAAAAAAAAAAAAAAAAAAAAAAAAAAAAAAAAAAAAAAAAAAAAAAAAAAAAAAAAAAAAAAAAAAAAAAAAAAAAAAAAAAAAAAAAAAAAAAAAAAAAAAAAAAAAAAAAAAAAAAAAAAAAAAAAAAAAAAAAAAAAAAAAAAAAAAAAAAAAAAAAAAAAAAAAAAAAAAAAAAAAAAAAAAAAAAAAAAAAAAAAAAAAAAAAAAAAAAAAAAAAAAAAAAAAAAAAAAAAAAAAAAAAAAAAAAAAAAAAAAAAAAAAAAAAAAAAAAAAAAAAAAAAAAAAAAAAAAAAAAAAAAAAAAAAAAAAAAAAAAAAAAAAAAAAAAAAAAAAAAAAAAAAAAAAAAAAAAAAAAAAAAAAAAAAAAAAAAAAAAAAAAAAAAAAAAAAAAAAAAAAAAAAAAAAAAAAAAAAAAAAAAAAAAAAAAAAAAAAAAAAAAAAAAAAAAAAAAAAAAAAAAAAAAAAAAAAAAAAAAAAAAAAAAAAAAAAAAAAAAAAAAAAAAAAAAAAAAAAAAAAAAAAAAAAAAAAAAAAAAAAAAAAAAAAAAAAAAAAAAAAAAAAAAAAAAAAAAAAAAAAAAAAAAAAAAAAAAAAAAAAAAAAAAAAAAAAAAAAAAAAAAAAAAAAAAAAAAAAAAAAAAAAAAAAAAAAAAAAAAAAAAAAAAAAAAAAAAAAAAAAAAAAAAAAAAAAAAAAAAAAAAAAAAAAAAAAAAAAAAAAAAAAAAAAAAAAAAAAAAAAAAAAAAAAAAAAAAAAAAAAAAAAAAAAAAAAAAAAAAAAAAAAAAAAAAAAAAAAAAAAAAAAAAAAAAAAAAAAAAAAAAAAAAAAAAAAAAAAAAAAAAAAAAAAAAAAAAAAAAAAAAAAAAAAAAAAAAAAAAAAAAAAAAAAAAAAAAAAAAAAAAAAAAAAAAAAAAAAAAAAAAAAAAAAAAAAAAAAAAAAAAAAAAAAAAAAAAAAAAAAAAAAAAAAAAAAAAAAAAAAAAAAAAAAAAAAAAAAAAAAAAAAAAAAAAAAAAAAAAAAAAAAAAAAAAAAAAAAAAAAAAAAAAAAAAAAAAAAAAAAAAAAAAAAAAAAAAAAAAAAAAAAAAAAAAAAAAAAAAAAAAAAAAAAAAAAAAAAAAAAAAAAAAAAAAAAAAAAAAAAAAAAAAAAAAAAAAAAAAAAAAAAAAAAAAAAAAAAAAAAAAAAAAAAAAAAAAAAAAAAAAAAAAAAAAAAAAAAAAAAAAAAAAAAAAAAAAAAAAAAAAAAAAAAAAAAAAAAAAAAAAAAAAAAAAAAAAAAAAAAAAAAAAAAAAAAAAAAAAAAAAAAAAAAAAAAAAAAAAAAAAAAAAAAAAAAAAAAAAAAAAAAAAAAAAAAAAAAAAAAAAAAAAAAAAAAAAAAAAAAAAAAAAAAAAAAAAAAAAAAAAAAAAAAAAAAAAAAAAAAAAAAAAAAAAAAAAAAAAAAAAAAAAAAAAAAAAAAAAAAAAAAAAAAAAAAAAAAAAAAAAAAAAAAAAAAAAAAAAAAAAAAAAAAAAAAAAAAAAAAAAAAAAAAAAAAAAAAAAAAAAAAAAAAAAAAAAAAAAAAAAAAAAAAAAAAAAAAAAAAAAAAAAAAAAAAAAAAAAAAAAAAAAAAAAAAAAAAAAAAAAAAAAAAAAAAAAAAAAAAAAAAAAAAAAAAAAAAAAAAAAAAAAAAAAAAAAAAAAAAAAAAAAAAAAAAAAAAAAAAAAAAAAAAAAAAAAAAAAAAAAAAAAAAAAAAAAAAAAAAAAAAAAAAAAAAAAAAAAAAAAAAAAAAAAAAAAAAAAAAAAAAAAAAAAAAAAAAAAAAAAAAAAAAAAAAAAAAAAAAAAAAAAAAAAAAAAAAAAAAAAAAAAAAAAAAAAAAAAAAAAAAAAAAAAAAAAAAAAAAAAAAAAAAAAAAAAAAAAAAAAAAAAAAAAAAAAAAAAAAAAAAAAAAAAAAAAAAAAAAAAAAAAAAAAAAAAAAAAAAAAAAAAAAAAAAAAAAAAAAAAAAAAAAAAAAAAAAAAAAAAAAAAAAAAAAAAAAAAAAAAAAAAAAAAAAAAAAAAAAAAAAAAAAAAAAAAAAAAAAAAAAAAAAAAAAAAAAAAAAAAAAAAAAAAAAAAAAAAAAAAAAAAAAAAAAAAAAAAAAAAAAAAAAAAAAAAAAAAAAAAAAAAAAAAAAAAAAAAAAAAAAAAAAAAAAAAAAAAAAAAAAAAAAAAAAAAAAAAAAAAAAAAAAAAAAAAAAAAAAAAAAAAAAAAAAAAAAAAAAAAAAAAAAAAAAAAAAAAAAAAAAAAAAAAAAAAAAAAAAAAAAAAAAAAAAAAAAAAAAAAAAAAAAAAAAAAAAAAAAAAAAAAAAAAAAAAAAAAAAAAAAAAAAAAAAAAAAAAAAAAAAAAAAAAAAAAAAAAAAAAAAAAAAAAAAAAAAAAAAAAAAAAAAAAAAAAAAAAAAAAAAAAAAAAAAAAAAAAAAAAAAAAAAAAAAAAAAAAAAAAAAAAAAAAAAAAAAAAAAAAAAAAAAAAAAAAAAAAAAAAAAAAAAAAAAAAAAAAAAAAAAAAAAAAAAAAAAAAAAAAAAAAAAAAAAAAAAAAAAAAAAAAAAAAAAAAAAAAAAAAAAAAAAAAAAAAAAAAAAAAAAAAAAAAAAAAAAAAAAAAAAAAAAAAAAAAAAAAAAAAAAAAAAAAAAAAAAAAAAAAAAAAAAAAAAAAAAAAAAAAAAAAAAAAAAAAAAAAAAAAAAAAAAAAAAAAAAAAAAAAAAAAAAAAAAAAAAAAAAAAAAAAAAAAAAAAAAAAAAAAAAAAAAAAAAAAAAAAAAAAAAAAAAAAAAAAAAAAAAAAAAAAAAAAAAAAAAAAAAAAAAAAAAAAAAAAAAAAAAAAAAAAAAAAAAAAAAAAAAAAAAAAAAAAAAAAAAAAAAAAAAAAAAAAAAAAAAAAAAAAAAAAAAAAAAAAAAAAAAAAAAAAAAAAAAAAAAAAAAAAAAAAAAAAAAAAAAAAAAAAAAAAAAAAAAAAAAAAAAAAAAAAAAAAAAAAAAAAAAAAAAAAAAAAAAAAAAAAAAAAAAAAAAAAAAAAAAAAAAAAAAAAAAAAAAAAAAAAAAAAAAAAAAAAAAAAAAAAAAAAAAAAAAAAAAAAAAAAAAAAAAAAAAAAAAAAAAAAAAAAAAAAAAAAAAAAAAAAAAAAAAAAAAAAAAAAAAAAAAAAAAAAAAAAAAAAAAAAAAAAAAAAAAAAAAAAAAAAAAAAAAAAAAAAAAAAAAAAAAAAAAAAAAAAAAAAAAAAAAAAAAAAAAAAAAAAAAAAAAAAAAAAAAAAAAAAAAAAAAAAAAAAAAAAAAAAAAAAAAAAAAAAAAAAAAAAAAAAAAAAAAAAAAAAAAAAAAAAAAAAAAAAAAAAAAAAAAAAAAAAAAAAAAAAAAAAAAAAAAAAAAAAAAAAAAAAAAAAAAAAAAAAAAAAAAAAAAAAAAAAAAAAAAAAAAAAAAAAAAAAAAAAAAAAAAAAAAAAAAAAAAAAAAAAAAAAAAAAAAAAAAAAAAAAAAAAAAAAAAAAAAAAAAAAAAAAAAAAAAAAAAAAAAAAAAAAAAAAAAAAAAAAAAAAAAAAAAAAAAAAAAAAAAAAAAAAAAAAAAAAAAAAAAAAAAAAAAAAAAAAAAAAAAAAAAAAAAAAAAAAAAAAAAAAAAAAAAAAAAAAAAAAAAAAAAAAAAAAAAAAAAAAAAAAAAAAAAAAAAAAAAAAAAAAAAAAAAAAAAAAAAAAAAAAAAAAAAAAAAAAAAAAAAAAAAAAAAAAAAAAAAAAAAAAAAAAAAAAAAAAAAAAAAAAAAAAAAAAAAAAAAAAAAAAAAAAAAAAAAAAAAAAAAAAAAAAAAAAAAAAAAAAAAAAAAAAAAAAAAAAAAAAAAAAAAAAAAAAAAAAAAAAAAAAAAAAAAAAAAAAAAAAAAAAAAAAAAAAAAAAAAAAAAAAAAAAAAAAAAAAAAAAAAAAAAAAAAAAAAAAAAAAAAAAAAAAAAAAAAAAAAAAAAAAAAAAAAAAAAAAAAAAAAAAAAAAAAAAAAAAAAAAAAAAAAAAAAAAAAAAAAAAAAAAAAAAAAAAAAAAAAAAAAAAAAAAAAAAAAAAAAAAAAAAAAAAAAAAAAAAAAAAAAAAAAAAAAAAAAAAAAAAAAAAAAAAAAAAAAAAAAAAAAAAAAAAAAAAAAAAAAAAAAAAAAAAAAAAAAAAAAAAAAAAAAAAAAAAAAAAAAAAAAAAAAAAAAAAAAAAAAAAAAAAAAAAAAAAAAAAAAAAAAAAAAAAAAAAAAAAAAAAAAAAAAAAAAAAAAAAAAAAAAAAAAAAAAAAAAAAAAAAAAAAAAAAAAAAAAAAAAAAAAAAAAAAAAAAAAAAAAAAAAAAAAAAAAAAAAAAAAAAAAAAAAAAAAAAAAAAAAAAAAAAAAAAAAAAAAAAAAAAAAAAAAAAAAAAAAAAAAAAAAAAAAAAAAAAAAAAAAAAAAAAAAAAAAAAAAAAAAAAAAAAAAAAAAAAAAAAAAAAAAAAAAAAAAAAAAAAAAAAAAAAAAAAAAAAAAAAAAAAAAAAAAAAAAAAAAAAAAAAAAAAAAAAAAAAAAAAAAAAAAAAAAAAAAAAAAAAAAAAAAAAAAAAAAAAAAAAAAAAAAAAAAAAAAAAAAAAAAAAAAAAAAAAAAAAAAAAAAAAAAAAAAAAAAAAAAAAAAAAAAAAAAAAAAAAAAAAAAAAAAAAAAAAAAAAAAAAAAAAAAAAAAAAAAAAAAAAAAAAAAAAAAAAAAAAAAAAAAAAAAAAAAAAAAAAAAAAAAAAAAAAAAAAAAAAAAAAAAAAAAAAAAAAAAAAAAAAAAAAAAAAAAAAAAAAAAAAAAAAAAAAAAAAAAAAAAAAAAAAAAAAAAAAAAAAAAAAAAAAAAAAAAAAAAAAAAAAAAAAAAAAAAAAAAAAAAAAAAAAAAAAAAAAAAAAAAAAAAAAAAAAAAAAAAAAAAAAAAAAAAAAAAAAAAAAAAAAAAAAAAAAAAAAAAAAAAAAAAAAAAAAAAAAAAAAAAAAAAAAAAAAAAAAAAAAAA//8AAP/////+//7//v/+//3//P/8//z//P/6//r/+f/6//v/+f/6//r//f///////v8AAAQACAAGAAQABAALAA8ACgAEAAMACAALAAgA///8/wEACQACAPD/5v/u//X/8P/l/9v/5f/7/wIA+P/r/+3/AwAFAP//7P/w////9v/t/+D/3f/u////8f/c//D/CwALAP3/7f/0/wUAIgAfAA4AEAAcAC0ANgAxAC0ANQA3ADYALwAuADUALgAmABcADQAMAAsAAgDq/97/3//W/87/x//K/8T/xP/E/8X/wf/D/87/xf/O/9T/zP/d/+D/4v/n/+f/8P/1//z//v/+/wwAEAAQABEAFAAeACIAHwAhACQAHAAhACkAGwAcABsAFQARABEAGgAQAA4AEQARAA8AEQAYAAcAAAAMAAAABQAKAAUADgAJAAcACgAKABYAEwANABgAFgAeACAAHwAmACYAJgAfACQAIgAbACYAIQAbACAAHgAXABIAEgALAA4AEgAOABAABQABAAsACwALAAcAAwABAP3/+P/9/wAAAQANAAwAAgAHAAgA///4//b/8f/u/+j/4//l/9r/xP+9/8X/tP+q/6v/nP+e/5H/hv+H/3v/hP+A/4D/gf91/4T/hv95/3X/Z/9k/2b/aP9n/1z/Wf9Q/0r/T/9H/0f/TP9P/0z/R/9P/0v/T/9c/1T/Xf9e/2H/dP92/4L/iv+R/6L/qP+0/8H/0//k/+//AAAIABIAHAAjADIAQABaAHIAdQB+AJIAlACUAKAArAC3AMMAzADYAOkA8gD7AA0BFAEoAUQBYAF4AYsBuAHWAe8BGQI1AmICkgK9AuECBwM/A18DfgOmA8AD0gPmA/QD8APsA98DuwOUA1ID/gKwAlMC5QFxAeoAYwDV/zb/mf73/WL9y/w2/Lr7Nfu7+lH68/mz+XH5R/k2+Sv5MPk8+V/5jPnB+fb5L/p++sn6GPtk+6b7+vtM/Jn84Pwd/Wb9uv0D/kP+jf7f/ij/dv/O/xQAYAC2AAQBTwGfAeIBDwJCAm0CeQJ9Am8CWAI6AgoCyQF5ASYBzgBuAAcAnf8//+z+nf5Q/iT+Df4T/kX+i/4C/5z/WgBBAUACZgOdBOMFMAeICOYJGgtADFENMw7zDnoPwA/XD7oPTw+mDtoN0wyRCyIKjwjrBjIFbgOgAdX/JP5+/O76f/kz+B33LfZo9cr0VvQZ9PPz9/MT9ET0m/T59G716vVX9tn2UPe59yz4jPjz+Fz5t/kt+qP6Hfup+0H86vyR/VD+E//T/6UAWgH+AaQCNAOnA/sDLwQwBBEE1gNZA74CBAIhAS4AHv8J/vL80vvc+vH5KPmT+Av4sveR95T3yvct+Kv4RvkH+tT6r/uP/Fr9If7i/pX/MQC+AD8BsAEkApcC/AJ6AwQEngRfBTIGJAcnCD0JcQqkC+EMIw5ND08QMhHzEXESvRK+EnMS5xEHEeIPdg7MDPEK7wjMBpcEcQJtAHn+kfzi+nP5Svhb95/2L/b19fH1IfZv9s/2Nfev9xz4evjJ+AP5MPk9+UX5MfkR+Q35+Pjo+Pr4EflZ+dD5W/oa+/P7+vwe/jz/fACuAd8CCQQABfAFkgYKB1sHUgc0B9MGIwZYBVsECwOsAUoAs/4u/Zr7Avqu+Gb3TvZw9cP0W/Q29FL0hPTs9KT1ZvY99z74PflH+jn7A/zX/G391/0f/iP+Fv7H/WH9+Pxi/OX7dfsk+wj7Fftq+w/8Dv1w/igAIAJQBMMGZgkmDP0OuBFLFK8Wvhh6Gtwbwxw2HS8doByJGxwaWRguFrwTDhE8DloLgwi6BQ0DhgAr/gz8LfqJ+CT3+PXy9BL0W/PB8lby6vFz8QXxlvA18NDvf+8v7+Xuue6W7sLuB+947zPwDvE58o/zMvUW9yv5fvvO/T0AvwJRBcgHBgoYDN0Ndg+hEGoR2xG+EVERfBBKD9QNFQwYCvEHtAVsAy4B4f7I/Mz67Phn9+b1svS189XyP/Kh8UnxDPHq8ADxBPE68XHxuPEj8njy9PJo8/vzp/Q19ej1ePYu9+v3hvhC+dz5lvpW+yz8IP0F/kP/oQBCAiEEDwZBCHgK8QxxD/4RrhQpF5oZthuSHS4fTiAbIWMhPyGZIGsf4x3yG50Z1xb+E/wQwQ2zCn0HXwRoAYL+B/y5+bf36PVO9PXyxfHi8ArwZe+87g/uf+3U7Gfs1+tc6/jqcepO6jTqbOrQ6l/rdeyt7XDvgvHl87D2hPm//AwAaAO9BusJ7QxzD8gRixPEFKIVwRVfFWIU/hJbEU4P/QyECvkHZwUTA7wAiv6t/OX6f/ka+AL3B/YI9Wv0QfNe8mLxJ/CB7zjuf+277OTr0Osl63XrqesA7DHtqe0O7z/wefEo8zL0sPXM9hn4gvmF+sn7yfw7/iIAQgKPBCoHLApCDdUQoRRwGDcc5x8fIxImyiiSKvEraCwILBgrWylRJ1UkGCFoHRkZTxVrEcUNPwrJBrADzQCh/pb8svrX+Nr2/fTy8gnxzu5b7Lvp3OZf5L3hc9+H3bDbmNoQ2lbaVdvz3Djf5uFU5S3pZ+0Z8pP2/vpy/6YDpQdMC4IOGhExEwkVURYjF6kXnBdSF+0WSRaPFXgUURMTEpgQXQ/KDUAMbQpNCEEGfAMyATL+3vr79zr0BvFU7S7qC+e24/vhjd+v3kLeDd5A3+vfh+Ky5Gbn2+r67EHwiPLL9Nb2/Pc4+Yz5Rfp++r76+PpX+7L8g/7DARwFCglmDfsRmRcXHc8iuyf4K5MvfDLWNJA1oTWJNKkyQzD2LH0pLiXEIDUcrBfqEy8QzAxkCecFtALK/3L95voy+CP1f/EV7nvqwuYB4xPff9t/2HPWvNSe01DTZtOw1BXXOdqB3fXgmeT65xjsSPDm8273mvp9/XgAcQMdBtEIVgvkDbQQjBNSFq8Y6RqNHAYeVB81IDogHR+hHawaQhhFFVER8g2xCMkEHgC5+1n4NvPj8Ffsmund5/njFOQA4bHgIeB43rLgot4b4Xzhl+FX5ZDkgOi56Xbroe7u7mvyJvKZ9Kv2pvZK+fv4SvpG/BgATAR+CK4O9hFcF/4dgyNEKZIu4TF6M3g22DZ/NrQ1jTK1L9QsLyvvJwAlzSGmHLIacxhMFr8UXREMDVUIqwS2/2j7WveU8ATr4OWB4Jzcd9nV1RHT+NI500rU0tbm1/nYYtyA38Xir+aN6OXpcess7crurfBA82X0Qvfk+kb+fwOzB5AMnhGZFjMcKCARJFQlySQVJcsiPyF6H2cafxZZEcoMEwp4Bg0F+gAU//79KPpR+/z25/Nz8WDr8ep95eLjgN+U2X3abtSc183XydZF3KzaLeGE4x3n6Oza7IXyefEO9CX25fOV9iz0BvOk8wv31fqSANgJBg1oEwgcSiLpKPgwfzSjM9Q3EDdfNbc1+zE2LwctDy5CLcEs9iyDKIon9SXFI2gigh7tGF4RUwv8AkH8Fvj173nqVOaG4ePeAN4Z3DXZ5Nno2bfZituF2kPYsNe419XX3Nme21jcqt644SLlSOlp7k3yA/fv/LoAywVxCXULbQ7pEAIUhhbCGQgblRqDHEocOh1pH0YeeR0bG7MYsxb8EtYQaQtEB7oDVP5j/Xv2nPKI78Hoveny5d/l0uKo3t/ga9rn3XDdBNt03u/aSODB33Hhv+bd5Kjo/+mW7Zbv9vCf89rxBPG18qX6gf3eBR8RZA++FTcfCiPGKOkwyDKuMG02yzfDNXs2ozRaM7wzFjcGOZs22DOfL8opwyWVIt4dVRiDENEIswIo+1D3FvW77ufqfelO5SDiI+Hy2wfWa9XL04HSntNn0qXQB9El1P/WFtsE4Jfi3OaZ6rjt3fCt8iP1zPcX/CwApwTbCOoK0Q7/EnYX9BtZHzMg5B7gHocdWRxAG2YZPxaFE8sSFg/WDUQL/gZzBKMARv5x+Nz1TO9c6OznluDI4WTf0Nzf3sPZfN943breF+Of3u3j1OB84ujkc+EH5izlI+jK6lbs9O8j8E318P5cB+0MVBegGKgWLSHfItgjcyqyK9Arpy9iNdE1hTbmOYE7+Dz+Pkk/2jkWMgEsqiQ6HWwaSBdnEcsMnwf9AyMBLf3V+q707+yd6Wbkh9zq1mrSpM0qzX/RjdOn1I3XUNly2fnabd6I3ujeBeKF4mPjA+cT67zuc/SR+6ABSwcnDHwPwg+IEKMSmROkFOYVzhbMFX8XzRktGgEbFhtiGggW5BSYEDgJpgYeAG388/jB92T0e/DA8aXpAuwv6Q/kIOij3svgXN7G2sjf09ue36PfBuHh4rLi9OQg5Y3okeXb6NvnZOc09ff7DgVrDcARJRHRFh8hOB75JVUrzylbMfs2ZjlCOZo7gTz6PII/uj+7PIc1dy9lKMcjLSL5IBMfQBk/FIcOVAmWAsP8BPem7MHp2ubj3yvceNjJ1HbThNbp12zWEtWX0yLRR9BU1CDW/dja3tvi0uYc6qDtQu//8MH04/gU/SgAYgQTB/UJQQ/kFEMYDxpxHK0Z0RhbGdEXYhcFFvAWqRS2FB8ToA3sCgYEnQHE/X36o/Yi8tTwcei97XjqU+YP7XPiCOVl4qndzOIS3K7eQN/g3qHh4+Lg5NXkAObp4gbme+WR7bv+zP9xCB4O7QlpDSkYHxzzG1Yo8CpdLek35DiDOeQ5Qjo6PA0+0j2DPFM20yzvKqko/ScaKSInKyFbFjwPCwhGADj6Efcy8urrI+6R6jrj094J2KnUZ9Sv1jHW+dIC0SnQMdGs03bZT90h38zgyeKI4x3iBef+6uPtSvcC/2oCrAXCB0YHJwnuDKgRmxRYFooZfxlsGngbjxwbG9QXuhduFDERYAw8ChMFe/+WA6b+svsc+XHyt+6I6d7qMuhZ5ibk1OEX4m7dLeCi3QPcl9s62hHfHdwM30jfptzj3Ufowvq2/dML8A6h/uME0wrXDbUZayY+LPoycjsjOXo5VTXvMEQ2ajfPPWlE9T9ROUEzSi2/K4ItxCwoJ+YbpRP0DXMGsgOQAO75WfWb8vLr5+NN3sDVhNK81YDXC9rL2HLUUNDCzAnOjdGs1G7ZXt253QXgJOIl4mDm8+ox8gL6M/4UA1cDjAQCCMEMvxLvFGgZChjUF+sZ0xaOGUoXiBcPGaIUsxPXD24LMAbIBs4DlQFMAhr3Uvf37k/q1e795HTqVudo48/lDuAj4ufcztxr3V3cuN6j29/bp9VX2EXngvP3ABAJkv/y9Nb8KP8NCtwgfiihMAg3YDbaMj0udSsCLiU1ij2IS+9LrULrOD4oRSOSJlws7i+7KVgkLR38EtELigizATL5xvjF9FntlOnO4mfbkNbh1nXZwtYd1NbQ5Mm7yn3QsdNx2W/cYNyv2zzZDNoD3ADiMeuv85D6y/zy/dT7+vxOAnIHpQ9+FIUWBRamFz8X2BRyF4sVCRb6FEIVgRMwDAQOBgedBBYFoP96//324fST8X3tG+56613tTOfX5/nmg98U4CPd+d4W3iTdYt6L1U/UBeZs9B34WwR2/HHoKfCq/GAGzhgNKsMrNC6xLmcmGSetIoYpDzmHPlhNhFF2QZkwZCZ5IL0lyjU4O1U2hivUH3gUcgsuCbEC9f+IAbn+1Pla8oTpvN2H1+3ZHdvZ2nrbdNgl0IDMl9Dr0z7Uvthh2zDYs9tA33zf7OKd6NXwd/Ng9GL3Afmx+zAA9goADZQLmRG2DnEQ5hMcFmgaIxa+FIAT5xLjDDYLCA+IBSoJKwkCBKj/QvQF94nupeyL9QXyuu/L6OznkOAZ17Tb/9wF3kzfpt8C2qbUbuIj9xv5/PmT+rvjhOSD/d0KJx6bMhQxryQqJE4drxs9JzAsND9/TcNQylAMOOsgSR2iIIAt+kIbS8I+dy1EGZAHaQGwBTYOGg4VCKoF3Pww7rjh19f+1a7aIOSm5lbeVdjP0DzLFck9zTnYvtoX2zfautcf2Tnc/+Lp57HqJvGE+IT1JPO3+z8BRQbwCJUKdwyJDScVkBfyEkoR9RboFQUQkBLTEHkPaQzGCpQI0v7E/t/7SPar82v0CPhm8I7s3ugZ4Wvgpt8A4kTjMd0z3dXYz8jX1DHw6PUL+tv5iuJG1Z7sbv+BEXssAypSJfYfsxbUG0sbTCo7Q95MnVK1Ub8/ACOkGVEheS6fSAxXikoPMZwYMQiQBOgOexklHJUZ4RIYA6jstt7x2GTZQOJH64rt0uUh2ULMm8Mkxc7N/tae3NDe49o01jTUB9JC1y3goOnK8ojzK/Ar733wbfWe/VwEvgokDtsO3xAaEIMQhhFMEkwTPxbqGpYXMxEcC5oHJQXLBX4JNQRMAAb72Par9InuevCO6lflA+g+5H7l8uJP24fY7cuWz7PzMPkI82D70d/UzKrhb/szDHsfRCvTFyETzRRKD+0ZPSGwNSRGhkbDSoo8jh8VFiUkJTBURZRYSUtqMa4ZCw2QCtoS3B8TH5sa0BQ2B8L0u+M+3c3gLeif84b20ejT3IvRi8gMywvTq9vG32/hZd3N10TUMNCK1GXdierd9mf2ae806grpqu0Y+QUDQgnwCxIMyQvyCA4L8gzBC9AOChX5GFkWsBBECPUCeAIqBEAEYwKWAyn9KPcJ9GHuTOvW5xTqMuyT6uTmS+GO1FfI2dUZ8TwB5fjL8rjgzsXN5Rz+lwpKLKQjlRJoDN8KURO8GMIkbTSQRWRJ9UNyNBoXSxO3JVU5Kkx9Uy9BCiZNF2cLZA1GHDgkXiL3F5gNJQPf88Hn8eTI6CHybfm18yDjcNTuzJHLD9b+3vrgRuRK4dva3tPK0G3SgNYg40Hw7fYD9CLpGOJS5vDxef5wBVwG8AggBu4EWgkrCR0JUQobEXMUKhQeEtoIiASHAlQFLAbsBfMDMfk8+i74T/Iq8Snt4OzG8M7vreO75JLXBcfM58n+Jv26/iTr0cvZ1XPyIwGKH7IjwBbvDwP/0Q3jFmcYgTH4OuQ/R0KBNesh4hBjGeMxbUaCVKVE1yPyFg8Pdg8PHZojZCe3IHIPygMo9h/pRel+7vr20QB1+/Dpydlv0FLPv9ge5mLo0uQN43TeCtkv1mLUQdqe5izulfIL8DfpbORa4xHu1PuvAxEE1AFgANcATwZaBlAGpgiqCmMRcBTYDuAFuQHt/8kCkgXyBZMHxP/s+Yzza++s8eTtxu8j8FrsI+nj4PfPhtG68r0Akvqv8srnjdIp2O8HXAcLEnkx1wxeA5APOgjYGy0rCDG0O2I9IDf3KkgWYxObLvtA90X2RJowSBoWFmMVIBG7Gy8mQyDBF/oGzPX68QfusO2u9Gz6mfxn8iLe6NAj1LrcruFp5rTlfuQc5Bfdr9aG1SLaGuN+7BHyMPJT7fflleOc6d32GQJvBSUB6/yRAO4CEQRYBAcFNgs2EEwOnwdcBR0CYf98/qT+jgQ4AXr8QfZV7dXt+eww7m3vg+uD6P7nMdsHzNfct/uLAMntjfFD4Y3LbvuRBUwHjy3lGncIYQeiBjsYgSYEMLQ5hUDgNWww+ibnFC0oMkDsRU1I4TzbI78ZbxyPFFgaqSelJicdZQnI+XD46PZV8kX01fdQ+kb2vOSU1HXU19uc35Ll3+RX4cjipty81wzX9tpX4nTnoez07RztxOmR5RPoqPLf/eEDQQH8/EgBWwM/BjoH6gUkDB0PHA+mDE4LYQi2A20BkwBWBiUFewJ3+xTyX/Eb7BXvIvAu6dzoTuV/01PL9uRt+0v2BubU5EfTdc28ABUEHgjkJcMGmvrxAQIGAx6UKwUxEDSYM1Is4ShcIL4ZvzP+RRtEE0DGLWMb+x6/JCofjSV/K9civxoLC3T8Lf7Q/On5q/wh/Pv71fNN4nvXddoX467m+Oj35CTg3d+82VrVQtdM3D/iguhY6/vnQ+T04KDfPuYJ9c/+sv/y+of3efo6/dwEHAYmBfgLwgwTDE8KQAm+BBkB8gIlBYQNOwpz/RP39faF83n2kPud6gzvYfBA0O3Wnf/ZA+fvS+zX1ofRB+34/ioTuwq7Cz4Loet3A5gXeBWxLoEveSHhIbgntCbhHRAekCuuPpZE2zRWHwcWAx85KgAm7h1dH6EdYxNaCjUAlvoy/0EANv+O/6D6FfAX4+3aS91q6rTzFO8w5Dzctd2W4E7f9t5n4YPnaO1Z63njw+CR4nLnL++U93T/u/wF9U3yi/b8AKYIJAoJBmIEbgZLCe8H6wMTA7D9qAQzBjP+KwQf+ULyLvZQ87D4cfcS7bzildov0sH2LRKz5/LvcuudxF7qUQO8CoAZMBNABgL1QQF9FIkeYyj8LWMyvyLbIwIqwhxgJ8A0djV4OFA4xSxOHKwZvB2gISYoKCcxGSwNVAdiARf/tPoy/KYDDgBW9rnom9pw3JXoDOuu69fq3eFw3y/cG9f+3RnmYeXF44/kvObT6JbiKN+N45zuwv12/ej3tPNx8ND2F/1tApcJtwqeBW4DtwHDAlgEhwAIBXoHgATsA138GPdg9GruSfhR/Abv7vF/5GzTW+Rd+10G8vCV6GPl9tRI9KAMiwvEFMwUuf4l8x8OzBpaJLgz5SbNIZMmfiaEJu4fkyTKOXw6xjV+MW0XDxeGJfwhkh9sIPsfWxZrCoP+V/q9Ao8GQQJq+O/1vvTc6jrkxuSK7Vj0hfD55WPeWeNk6OfjMOH34rHkvejg6aHjh+GB5NHmR+oT7573pflV8y/ui+vF9PkAOgRMAEv7yP1Q/hT8HP0c/Pj7IwL9AIP4sfin9HPwHfMC78/yiPU86gzl3dal4esNYP136ID18t5s4dwBJAvvEFEawROoAQoF7hOAI24pBivUNcEpyiIgKocjaiU6Mxg5fjJEMGorCiAsHY8d9B7vHrQghxulCo3/fPzn/xsA8fz//LP5EvUd6jfemuIQ8JD3zvP06HTiiebS6+Lp6OVe6QHxOfCL7B7r7+zl8Zfv1Oy18Gv4rP7j+/vyYe+/9pr9pAFq//z5XP5q/mD6Q/Xz75L4xv7s+f/2EO+q517ssut46GnrgOyC7J7fpMxn4dcHJPlY7VTvTs+I6JYOSgdhFCEUFw2OCKMFZxhqH94s6z5ENrUilSA0K9ksJDRiOEUzYzVYN4ksBhmAF48lgSnpIgcZkQyYBv0FAf+h+Az5eQBeAnX1QuUT3Dfie+6C8hHuZOYp43zlDeeW5Sfmp+0Q9Z7uTOXk5r/u6vQD82HxuvLd9Uf8vPvc9Tf4VP+9AF4BbAA5/0wEDwSy/Tn58PVN+2wBFfpb9/r0dOvp61/nXeYC7ObjAeby39XK2N3v/I7wA+DZ4jzUI9z4AA0FJAxKEbECcwCC/HUO2yWCKr84hDVGJZwiFCgwLtQzQzzcPG884zlqLJIihyP5K0wt9yU8IHgXhQ/4CssETQGUAdcDLgJC+O7tu+UM41Dpm+9d8EzsR+d64q7exOEy5S7muurW6tblbeR051LqNeoN7bnx5/Kf9EL1pvQv+Dj63/pr/hAAfwKbBT0D6f7B+xr7fAFABHP+LP33+BbzpPJH7s/wafDX5sLnK9iV2PsFiPth2mXoSdsX0iP2pQhNBUsM9gZZ8Dn2VQiGF/YktSWnLJcjwxXLHZ0goyZwOG4/UTWxLfondR/SI2sqTSjNJpsnYSGHFPAKpgX5BCQI6gdnBagErf4V8pLmU+ij9IH5jPe/8H7oCehI6u3neOa27KTwXO0S6Wjk/+Pe6dfsbO6s8Ujy6PIs7mrrKfKL9rH5M/we/WP9P/z99o/y2/OK+BYCN/3G9Yv0g+rC7gPyW+qI6xTsO+D013vv9QTn9o3hBeDI2vvfxwxhEL8Guhi2/hXyugMcDUUlejJcLC4l9h3nGa4g3SdCKaU4MkDAMvknPhsCFkAn7S7ZIsgdFBv0FbwR/QJD+3sEgAamAwQAT/d19bPwTOUA5QrwzPiG+Abyguan45/ooOm+7171IvRL8uHtQ+cG6J/u0PIL9jD4vfiK9nDzwe5577j5pf8aA0MCBvx/9570qfKi9If/fwPr+o/z1vA46xXuvfSq5iTrrfHO1VfeUwMd+/vpVuo/2gzg3vq+CO0Qjwe0C8oEefNDEDQbZxw5NOsu6xuvGLMe/yT/KFguDzS9NmwyHiG/EGcXVCVHKS4iIhTWD8cN0gW1AQj8Of1bBS7/d/aZ8ZbsNe2E7AntLPD48yn1aexv5YHmHO3C9HP0qfHS8VHxtPDU7XDtv/Vh+Y74m/kB+WL5bvjO9k34EP6cAt8D6QDE+jX6Gvk0/Pr6AvdW/9n6UvN38FXqI+5m8lPqHOVX4wfUb+ozBpXsNepr6lLUz+PFAtMJFA4LFZgCWf1gB2oMjSNdKEIrWTc9JYwbZSGvH1UsAj0UOkwxQymxH18YRBhrICoj5yDyGoQMXQL6/NX78/+B+z/5XfuF8lDsyedY4bPmDO/370vtBOp05snmIucT5sPsrvT89DfwB+3u7AXwKvOh83j3tvqP/Ur8Wvau9+X6hP8bAy8B3gB+Adn9j/o0+tb5q/8U/uf29PRZ71jyh/Dn6VPsYOmX5/fcC9de9Y0Ceejt5t/lFdc7+EQMWgEJEbgTugYvBHEIOxUGJbovjDIAMGYlaCF1JZ8jCS5wQexACjIkJWAYoRpCJzki+BudHaEZ/hDe/5XytvjjAEcBIvyr8FfqIuuo5uvg++bu7Z/tXuzv5CzhCOd46froP+r27SLxc+9X6wrq/u3A9FH1S/TL9y/5Lfvw99/1WP2zAF4CCgKd/8wABQHB+z358Psw/ZwAZPmb84T0p+zB8fnvj+WM7X7r0NuN3U/yOPsU7sfj1OMT3gnvGA5fAvkFXhfmAqUBEQrQDc4k+jNiMyIsbCOTIXMmgSdaLqVAOkSBNw8oBBuxGeAodzDuIfUblxvHEbsJGf03+X8E/gX2/pjzTekT7NDuj+jz5OXprOu16FXmxeEX5evq/+dO5mjofuth7iDtFuma6eTt3PHN8ibzAPbh9SD2IvQk9N36xv0cACP/Jv2L/Gv6hvhr9lH8OAD7+7f1IPJg77LtrPQi7TTpbvCx3+DcNfK6+LLy4+ss5PHj3vCkAYIKXQadDQwS2gJwCHQSGRoOL1A0vCznJHchJCalKOMrXTbTPpU5nysCHoYZxCEMKronaBylFnIUVgvOA2P9P/39BHIEHvs48Lnscu8r77frV+nD7ZfwY+2e6evmOukQ7Jnqvugn6/XuuvCh7mLpK+ry7I7v0vI685H0zvTV9JnyP/J79376av1D/QL7evc+9FL04PRU+ur61vXJ8TPuN+337RzvuOlM65zqC+Fq7hL57PRL9PDri+cL8n8ALAlqDuAQXRApD8cJRRCDHPIjJTGTMN8nxyajIwwm1CtUL0E0aDbvMU8mBhzEG00gLyEFH78YuBD8DHAHCABl+x/8tv8r/Br20vFV7gvvJfBq7XzrJe9Z8W3vtu167HfuUu/T6/Pqx+2Z8E/y4/CC7OrrO+5+7xDyqPPb8+X17PWg8aTxjfay+LP6jfog9hrzwvFr8ZrxMfPt9Jjz3O626E3otut362vqEuy46Izkpu8P+Hj3vvpC9TTze/uGAg0PQBcKF2AYzBgpFeUW+SAkJrYqBzDyLrUrASajI54miidMKTctvCl+IJ0aqhY0FAQRWBDjDxQIqQRbAoD6DvXF9Fv3rPQE8V3xq+/u6zrsXO8x7cLsKvCp8Hzvw+4Y8uLxBO648E/zQPHY8Rv12fOE8vf0GPZO9ST3gPtj+pr3rfYH+Bj8Mfqi+gv9gff08yj0KPIz8bf0fvQs8Mbt4Osa7CTrk+uH7Z3sweuR6UHvNvfK+bQBpwBV+pv/DwQTClQUMhj2Gpwerh1pHMIcGB5PJM0pzCmvKRcoaiO/H+YfIyK9IQwglxwvFrkRbw+hDPwIAAetBNL/6Pwc+c/0//P782H0ifIs72zvX/Ap8N3w2O+n73ryWvKE8y/2LPXj9XD1KfOM9dD3Pfgi+Mb2E/mY+/H6cftC+2P7lvxG/QP+ef3Z/On8cf08/eL7rvhh9c31XfXS9Fj1k/Pq8D3uFe1e7Obsy+yp6yLu0O4h7tzu2vFy96f5Ifx5/34AhwNZB6kKDA94EpgUhxbBFfkWrxseG60bwx7vHBkc5BvQGvAakhrPGc4WzxNgEvUQUg/OCyEJ4gY+A3MBFAE9/tD7SfwZ+jT5svmB92n41vcR92j6K/s3+4P7svoE+xL8bv2Q/u79YP0c/sT8kPv7+nT59vlV+jv7Ufw5+oH4RPc/9sn3M/lc+EP3vvbS9bH0YfPm8Z7wKvDV787ube4f7YLryutD69jpaulV6gjrretF7hbvIu8u8Sbzg/ZL+sP+DQPIAz8GQAowDPwPCRVEGOIZ0xmLGVgaexpgHQ8isyDTH8EgqBy/GtYa1hi1GD0Z4BiAFgYRnAs4CEEGmwZDB0YFVALX/Wn70/sQ+gX7GPzv+V75fPkD+mf5f/jV+Rv7Bvtq+9/7gPmL+HT5jvnJ+R75F/lA91n1gPVn9P7zMPPW9G32t/RB9uv0NvHE8Rnyk/JM9Kb08PMx85vwq+4X71ju1O5w8NfxEvNd8c/vfe5t7abwYvN49A/3kvhf+kL8qv2hASwEpAYWDPIOexBpE7UVgRcLGe0ZKRuOHAUdBR7pHiMfDx86HUAbBhqzGVIZAxfLFO8ScxCtDaoLFAm/BcQEngL//23/6P0i/d/7z/mj+dX52vka+hj6Y/hl9zv4i/hj+YX6R/pL+Fn3FPd59q730PZM9en0lPP+8+zzlfMF9V/13PS49Gf0UvR+9Wn2b/Zs9VL0DfQu8iLyhfMe8qHxQfEG8EjwCPA47+TuRO/+8IryXfIE8qHyefMe9Wv42fvj/V8A5gNYBuAIkwzND54RVRMQFzIZDxkDG7UbEhsEHZIeBR7DHGQc+Bz9GwoayBi0FvQT6RK7EsEQ5A0zCxYHWwS2A6sBWgAA/2b9gP2f+9L5V/mI96r3tvj790b4EPib9oT30vd997H4pPel9ir3X/di92z1y/NX8wTz4PQK9gT1dfSQ82bzP/UZ9ij3U/gv98v2bfbn9K70sfSH9CL1M/a59XTz1/Et8Knv/fEZ81HzNfR+8vbwZPEl8QnySvSx99f6w/xN/yL/5P/jBEgIHwytEP4SpBRCFCQU6RZTGEYa1x3MHa4dBx7BG10aLBkbGhEcrBm1GI0YPhQkEfQPsAxzCnoLTwsaCFoEoQGM/pT79fuy/M37tfqm+Bv3+vVd9UL2RPaZ9un3I/iY96T21vVq9QX19/S49Tn23PXi9MzyZvKU8wT1w/ex+IT4EfjF9lL2xvbg+ar7Mvo2+RP3wfTW9Nf1I/am9rv2pvW+87vw4vAy8vvxL/OC8z7zNvIk8GnwavIi9jj7fP3R/bz/owALAkMF1AfNDF8QnxB2EsoSvBHkE2YXyhmsG2McBxvqGFwYkRlCGt4aVRsEGjQYjhY2FFARjQ4hDZwMEAvGCN0FsgGY/aL7aPs0+wb7Nvp3+B/2gvSb9Jz09PVV+Gz5mflO+Hf2b/R880/1Xff299z3sPbo9Pn0mPXd9ub4L/nb+Yj52vjv+dP5Ofp8+hD6/Ppn+nT4tfcB96T2HvgE+Fn2J/VP86nyzfEw8VXyAvH/7nPuUu477x3xgvI38inz1/Wu9+r57fxM/28BOAS5BjEJPAwwD2IRoBIoFXgXCxg0GcAZXRqgG4gclh0UHagcXh3dG8oZohjAFcgSPBEuD+8MVQqSByQFyQFZ/17+MfzC+Qz5q/hR94L2jPZT9fr00/Zx9w74FPmQ+A/4gff09xz6O/uw+3f88/vB+tb6LPty+4v8k/3A/V79pPxN+2b6UvrF+gT8Sfw++6b5NvdY9dT0H/Xr9RH2qvX09LTymPBC7z3uQe8x8P3vqO/67ffsnu3I7b7uUPGO89P1xvh2+339Uv+YAT8E6wdxDPAPpREzEnITSRXOFmwZIhxyHUEeOB5dHcEcIhzyGw4c4RoiGX0WWhI4D0UNXAucCaYHHAXuAQz/zPxu+uT4q/iB+Bn4OPfM9Q71KvVN9Sj2zvct+T76CPtG+1n72fs2/IH8kf2S/jL/nv8u/xb+8PwK/OD7o/w6/X392/yw+gv51Pex93X5wPmg+KD3FfaZ9PfzZPNr8mbylvIo8o3xvfAt8Ojum+0/7YDtme4K75Du2+3o7X3v4/Fg9Jf2vPni/I3/8QK2BU0IGAtfDWQPKBKpFbkXhxj2GLAZxhprG+QbFxy1HPIcDhxTGgoY7hYHFq4UGhOZEGMN6gnJB70GswVjBLwB/v0p+2f6xfkh+ev4ofd/9iv2PvYn93n4Nvmh+WH62/r9+2L9tv0W/jP+2P2e/Vf9g/yb+437kfua+8j7f/sj+xD7Bvt2+gr6yvma+Tj6Mvp9+Xn4rvbz9LHzu/M19AH0nfN18jHxlfAZ8GPvLO+w79PvKe+a7ensbe2s7mvxtvO69c/32vg0+l38AgBPBCYHTQm5C4INfg7qD24RgxPKFgYZ0BiUF6cXThiEGDkZcBngGEUYpBcwF8kWDhbBExYQjg1sDGMLFwooCKwFLgN5AMX92fsD+037KvuO+Qv4FPeq9nD3vfh5+u377/t7+zv7kPub/Pr8n/yB/AX9xP2P/cr8Xvwi/P374/vM+wf8cfyk/ID8D/xA+wD6qPgu+L34WPkl+df3zvWS8wjysfHF8Vjy1PLf8T7wUe787FvtWu6u73Hwuu947jvt6u0p8Vz0yPbE+NX5Tvt8/YP/cQK0BcEImgs2DfQOrBBgEaUSmhTbFsUYMxnzGC8ZSBoBHMwcIBxfG8caLBpAGXEXeBVTE+IQ5A70DNgKcwjIBSUDiwBv/oL8OfrM+Hz4BPg79yT22vRH9LL08vWC98X4i/kw+Wj4r/jP+S37Q/zm/D393Pwf/IL7EvvQ+9X8k/zl+0D76vr0+qb6M/q4+Tz5yviM9wT2mfVe9VT0JvMg8prxSfGn8M3v0e6h7q/uz+1B7WHtiu1t7WrswOsf7azvNvJ19Fj2XfiD+vH8FQCaA7MHNgtADUcPaxFnE8MVSRirGhEdAx9AH0QeVh2OHRIfjSCFIdEgHh4eG4oY2xYeFkIVWBN0EAoNZgm2BXYCagC7/uH8Jvvc+Bf2PPNV8SDxvPGM8s3yLPLf8YLyjvOY9KP1lvZT9/f3CPkj+tH6PPvL+kb64/oG/Dr9vv2w/YH90PxU/P/7Hvw//Z/9vPw8+4X5lPgu+KP3I/d89r31nPSA8h/x2PA38PXvzO8z74nuL+0s7CTsxOwt7ovuJO707q/wnvPa9iD5gfvc/T8AYANcBowJVQ2UEPwSvRREFu0XMxmfGpMcIR5jH8Mf+R6eHt4eJh8JHwse1xxbG3AZVRdxFG4R1g5VDAIKeQfaBCgCDv9Q/P75Ofhm95z2Y/Uw9IvzZ/NZ81/zq/NG9Br17vV39sf2APc29/D3N/nT+hT86vvb+iP6U/q3+139Mf5M/nH9Zfwe/Pf7//t1/KH8AvzD+kf5CPh39yT3bvZx9ab0DPQD87zxkfCa73nvwO9u79zuGu6D7artyO3q7QbuLO537yfxSvMz9n/4VfpM/L/+RgIHBi8JAgx3DvsQqRPKFZgX/hhaGjoc3B3aHgEfRR6+HUkeLh99H8se5hx6Gj0YshaxFTAU0xGaDiALPQjLBYoDJQGt/pb8kPpx+H72r/Rv8wjzBPPB8jryy/G98Yjy0PMk9Wr20Pa69uX2hve0+Lr5YfqT+nz6jvqg+u/6Yvvc+038WPxP/Pv7dvs1+9D6XPoJ+sL5Wvl2+Ff3QvZp9QL1w/Rm9ObzT/OT8r7xIfHv8OTws/Cs8LzwnPB28DjwVfAQ8TXyrPMp9SD3h/nh+0r+kwD5ArAFuAgNDD0PCRJEFIAVERb0Fo0Y4hrVHHQdRB1sHNEbzxvzG3QcdhykGwcaihdUFX8TehFPD+EMfQpOCKcFjQLC/5P9IvzK+jj51feO9o71dPRQ8/PyG/PJ84j0pvT19FT1YPXO9aH29veF+TD6Lfoc+l/6Tfv++//7//sg/JL85/x4/Bf89Pv5+3X8lvwv/HT7Lfof+bH4sfgE+bn40Pc29232jvXs9D30IfSH9OT0jvRH8z3yzfHl8Z7yHvMz8xPztvKi8izzPfTz9SL4cPrS/Oz+qACGAp4ELQc/Cl0NCRCeEcAS7BPoFCgWdReBGHEZ2xnEGUoZvBjaGD4ZORmhGDIXixUXFKASJhE0D/UMwQo0CLAFnAOZAaj/d/00+5r5LvjR9m71DvR980jzDPPH8p3yQPNc9GP1IvZk9rL2gfdA+A35Cvqm+kv7ifuf+0T8qvww/XD9if1R/p/+d/7+/Un9av3U/Zn9wvyU+7P6WPrg+Xz5I/lP+Jb3lvaF9RT1hvRs9J30bfR89NLzgvL58ULyXPN79Kz0aPQB9M/zhPTG9X735vk5/D3+EQCbAXEDggUpCKELtQ74ENsRnhEEEj8TKBVpF9gYeBlIGScYABdYFpgWnhc/GAkYqRY0FJAR3w7uDPUL3AqoCa0HpQSrAar+5vsh+g/5k/gA+Iz2y/QM89fx2/Gp8vXzQPUY9qv25vZq93v4kPmu+sH7oPxd/ab92f1//gn/av+Q/z//If8x/2H/f/8l/77+Bf4m/bP8VPwM/Ob7lPsA+2L6r/nI+OL3Vfde91f3KvfQ9rT1svQq9PzzLPRC9Fz0TvTc80PzqfJJ8mTyEfMf9H31C/ev+Ev65vve/UsAGgPoBXEIpAqmDIQOsw+6EOIRFxPHFBgWwBYUF9kWERZqFVcVnxUNFtIV2BSBE84RNxB8DrYMCgtmCc0HygWYA10BH/9A/er79/ri+aH4S/c09qX1lfUW9q/2Mvdu95H3L/jX+IP5NPrK+mr7w/sT/Hj88Py+/Xj+2P7N/pL+W/5P/tD+Yv+o/3//r/6s/dn8nfzi/Pb8ovy8+3b6M/k3+LX3iveL93T3FPdO9oH10PQa9A30WvSG9LH0cvQc9Mzzb/Nc8yvz/fIq82nz8PPb9BX2wvd6+Rv74Py4/tkAOAODBdoHFQoADIUNWg5BD5gQ1hFNE4UUAhVOFVQVRRVHFWEVuxW/FVkVqRRaE9YRjRACD0sNoQvdCWUIqAbDBCwDdAEjALT+E/3u+9z6R/q9+RL55fip+Ej42vet91X4Q/nB+f/5Jfo3+oP6pfoC+wT8+/wj/tz+v/7H/pL+MP5u/gj/yf9YABEAUf9//o/9Kf39/MX85vyu/OL71Pqd+cb4HPjE9yv4U/jo9/X2X/Vi9Cr0SPTt9CX1BvWn9IrzkfLL8YPx8PE58rTy8fLT8mXzKfR59aj3x/kv/IL+LABOAnQEbAYBCRoLCg0NDzcQpxH7EtwTJBX7FZQW9xarFpcWkBa1FjIX0BbWFa8U1xIMEVoP5Q02DSUMZwo9CMIFlAOoAToAQP9Z/lz9vvvs+YX4fPcS91L3svc/+Kz4Z/gv+DD4p/iW+Sr6+fqY+5771fvT+yb83Pw2/eH9iP6Z/ob+Lv4d/qD+3f40/07/1f6p/vX9F/29/BP8wPtU+2H66vlE+Tf4Ive89fX0tvT783DzxPKt8fbw5O8W7xbv0u7h7uXuaO6D7nPuiu7h72XxWvOI9eP2jPhp+m38b/8HAmYEBwfSCNkK+gx/DpUQnBLjFJYX+RjiGcMaHRvYG2EcdRyxHCUcIxs4GkoYDxYJFMwRKxC9DhoNAAsECJYFsgP/AekAV/+R/RP8ovru+Qr5SPft9er12vZi9xf3hPah9pf3lPhj+UT6kvvm/Hf9FP1d/Of8l/6R/47/jv/l/8D/rv6z/Zj9Vv52/2r/m/2q+637h/xO+0z5ofig+CL4I/dQ9jv1TPTq88Xy4vC976TwmvH/7+/t+e397bTru+nV6svsyuwl603pe+o58hr8tf1/9m3xTPOb+Jv+HwUeDvYVWRZ3EQUNSAtXDhwYUiJDJ1gq3SmrIZUYpxdQHhglXScoJx0lah6HF48VbBO0DwAPtQ1xBzcCIwIeAuD+4vmU9D7wFu0766XrluwN7ant+urr5E/i/ORn6ALr8+y47SfvOPFv8qvzYfZ++5EAXQILA7IFSwiBCewLlA7yD90ROhNxEY8PuhDjETgQMQz1CTkKWQgrBgkEAAB9/Ur8//gO9Kjxe/EM8ZvvNesK6ATn3OME4vfi1+LF4mTjBuCm3UngI+GB4fHeYdZp2hrvtPoH/Gf86+1U40jzhASNEOohjSjYIN8ZZhR1FcQjszDyN+095TxxNoUsRCAEIHIvujmLNncu/SKlGUMXMRS5D2sRkBFSBxX+HPt5+HT18e+k6PvkNePg36HdT95h4GLfEtle0i/R4tUw3Fbi2ubJ5/nkKOAN4Z3pg/QO/j8CaAFDAeMDSgZ9CowRKxg1HR4d1Rn6GWAceB0WH4UfsRzQG6AZ2xXzFNESNQ9rCucEhAC4/h79hfgR9Yrw1ush6S7jfN6C36nhp+Bv3cjXcNP803bU0Nbg2vrcv9s81gzPstKx7SUAQveK8FbqUOO89WQROBhfIbgszBtyD08ZdiNMM3o/RTxqO38+eDcTLh4p+SuVPPtCejahK8glyyC3Hd0a4BIODxoRbQqtALn7NvhK8HTmu+Fa4GLkL+ct4PTVYdF+0ibRKtEc1fLZ99/93xHbwdaz1tjdvuiQ89n5pfuj+XL3m/vYA9kMKBQ1GNsYNxl+G3McpR27HzAhCCMTJWsiIRyVGlYZchYcFfEQfQvgCPQFegDm/Jr4jPEG7gTtxOpV5ifiut7v2WLYptpE2DfUetQo1HPVO9XN00/Vhsx6y+vlQPYG8JnzoOtI1+3t4QpZESgjiSheHNAVZhVhISA02D5PQxNDQDv8OCg35yziMOxASUQ3PAQ0uyjlH5Iffh3kGJwV3BLDCgwBb/0G+KfvkeUH4AzjZeXS5A3ct8/CzDzOVc6vzkDRldUm2IXWItNY0/nX3t2b5MrsBPQD93L1GfQF+UAEtw4/FN8W8RfIGbsbTBvAHQkksSexKMgmuiJtIH8dCxsIGlwZhBeeEUwLfgRMAET/0vrQ9Arwk+5/64jkH91R2f7ahNtX2k3Ux9Cp0VjORNAX0c7R/Nbf07vJfs0n7Yb/OvHX6OvnL+NZ+MwaRxzaITYvhxqhD/sdGCxXPkhIj0AVPZs+LTpbOCQvxC7tRKFI3zheLM4jjiG7I9UcdA77DE0QLwvrAaX2se8D66jixt1N4HLkReVL25vLTMjWzSbQVtER1bvYR9t92hDVRNML2FvhZ+yv9Pr4l/hq9175T/+HB90PJBi6G88bQByJHGYeEyF3I9EmpimPJ6sh5BtOGb8adBnJFQwSKw1LCAICivvw9k71ofE/7S7rcuet49/ck9iE1cnU/ttv2JPRP9Kt0cPRhNNn0VLTRtcvyhDYKPpi9nT0f/Jk21LjOwe7FoMfQSw7IpIZaBb+F7svyTqxQPFH3jvpNeU3ly9ELGk5AEN4QMw2GCqhISYeWx9sGhUU9xMvDhAHpP5X9pHyXOmn4ZPi1eT85+zkR9V4y2nNsM6TzzTSRNiX3dHb19XK0FzUad6k5nztvvPX9q/3WfeM+KMBrAt8EhEY+Bj/GmodaxxDHTYhISYPKYAn6SJjH6AdmBy7GZAXwxZCEt4M3gWHANr92/mE9ofxAe+i7OjmR+B623bbL9r52drXO9US1K3PpdF50Z/PMtRC11DTbslM0+jydvyj6zzrneet3mcBzxUDFBgrgCnsFUURZRWcKmY/BUMmQ2E/pjfjOS8zOSe6NSJIEUdPOw4sTiEoJBEnVRtRFGUWYhV9D/n/P/VN94DyGejz4/bjy+a15SfZOs4E0GLSvNEy0oDRoNZw3cnZj9Kf0L/WMeMa6/rtkPIR9Yn1ivZc+egCYRD7FoYVyxTpFZEYCxzTHfghuiZXJkwhbxymG3IczBxaG9MUnBAFDxoJSwTK/jT71vof9v/vTOxM64nmUuAu2pbYBN8F3snYI9Qg1MPULdL+1KLRVNVq34rU2cic3ZL8m/428nHm/OKO7DkF5R5dGh8krC6EEYANIh4iKrJBJ0nXPCY2lTWgN081USs/MalDokZvOwAr3h0EIBMoXyDvEgITiRU2D9UCJPVf78rx0O8a6TDjTuIe5TregtDTy8PREtfv1yvVGdMH2TPb+NUI0rLUaOEk7aLxlfAf7yvxnvWs/HUC7QpoFOkV7BEnD6YSJhrmH34g8SBvImMgORxjF7oW7xg8G8sYNhGJDZAHiQLEAOP73vrf+V3zAu7f60Xo8uTo3yLbu9454fveNdmI1WrYm9VG1a3aedcY3gPi0svw1jT4TPyZ+gDtdOT36t36EhhCG7Md7CfXG0EP4RNKJ2k1WkP2RWsz8y6tNF80qTBkMeM6IUTNQGAwrx7hGewlrikZHmgTfREsEqkHPPqa8A/x2feB8sXmnd553s3fj9nY0ZbP59Sk2MbUodAq0XrWCNqy1U3SZ9hf5PTshewB6zjtjfFy+Kz9mwKiCu8QWRBnDNcNnxRTHEEgfB63Hc8e6xy7GYMXexiBHG0bihOWDGMKzwgdBnIC5vww/Bz6i/I17s/q7+q16fbic9663W3hCuGL2hTXp9e114va7dzO2CPect7SzunZ0/jS/RL4KPK349fpLP8VFFYhux+AJJAaoQz+GlsojTPYQeRCoTbSMMMzwzAjMJ80oTxtQoI9my8AH4obpSPaJo4eTBV0EmANwQTc+njydfHU9Gnw1eeI48DefNrE1CDRrtOv1dbVftK/z2XRa9Rd1dPTINVh2hzjDOlq6Ejpreym8I/2Hv0LBA4LcQ6FDIULPhDUFkYcmx+KIDohzCBnHtcb/hoVHTQf0B0LGYESFQ+PDT4JsAWXASX/Dv4h96PwYO677eHqguUm4Dnek+Fg4VXd8NhB2NXYfdjk2zralNzA3yrVttJ75iH9Bf+x8/DozOUx7x0HSR7FG68fqSI+DbcRuSJZKQQ6SUHUOOkz1DIoMSAwsy7iNV5C7UAyNY4nbxzrHTUmViJoGM0WFxPtCTgA0fXs8W/06vIM7UzoRuS83yLXqM5o0OTWz9kI19vQhc7n0CrTQNLf0hDZA+A15aDm/uO45HbqrfBO90r+bQRzCC8HZwVGCQ8QUxdtG9waSRt/HcId5xurGgkdACBxH0sc2RbXE3QTBhB3DHYJtgd9BgwB8Pl59db0tfT+8dDrv+eF5izjy+JL4ZbfJ+B73aTci9vg2jDd2t2K2erTWNsR9WAC4e9u6ozoauDA/2ES6RHWIg8eExD+C5UQECN3M8A4VDjINGwslSyvK98kkzFPQl1BkjaPJ8Aa1h4+J6QhcR2EHAcZBRKQAvD3OPr++7L3v/O57mrrV+jm23LS+NV43BLeDtvw1DjS5tRV01TRTdT02KnfjePP4dHffuK852zsKfKn+CP/SAJ0AI3/GwSiDFsTYhYDFxoX6RhZGT8YtBryHv8fEB81G50X1hiNFmASGBHbD3YOjgqIBLr+OPw4+6D5tfYl84bw8ugV5fPkseSc6bfl69xm3NPdit3D4JLdetnS3VPR/tmY/ff81/Jr72Xd4N4u/1QPKhXhIaQX0A9pDOcIDiElLvMzQD/hMQMosCszJk4mxDGqOrE+9DmzLDkdfxfAH4sjpCL8HyMXrQ7yA/j7Mvsf+FT23/ZJ8eDsCOpC3AjSQ9Z+2xzei92N2WvVGdK0z53PJdZH3ZvfMeCo4N/i+ePa5BDprvDo+cz/CgCB/cL/tAXaC/wRnxROFrEXtRccGMQaXh7QHrgdKh1RHGUb8hrHFmQTrBOXEb0P4gmcBOEDAAAU/ID4Hvfu9fzxZOoX5ermf+Wo5LLgo9x33tDb/9tm23rZ2dxd3dPUctF95uD+b/uC5lzkeOLg528NFRCADp8iNROtCHcJHA4QJ/Y1xDYiMzkrzSWQKssoPiUsN29D3D4TM0ggZxf6Ig8sxyO/H4YdeBciEZMARviM/jkB6/1m9XfsyOo46QPeyNZJ2wHgGeJA3TfTk9Kl13TW9tTf1kTa7uHB5DDh5OBN5BHqQ+3V8CX43v6mAnH/nv3KAmYL7BOiFTwUkhRkF8AY6xetGhAe2iDnH/gZXBezF5UWLRU3EyASKRE9DHoGef91/Nv+OPy19wb08/Ba7NLlF+J24i/mcuXy3vTY7tlK227bLd0r2EPd9N6ozyba//Wo+6n2GewO29Pmvf06DakcpBP5FpYZMARqD/EdtyfJPns96i2AJvwmyCn8K4Ax4TigPlY7ByspGa0WCiFuKzcoGhkEE88OtgZ3AvL6nflG/8L6rvFa65bl4+IX4ArbMNuB34HhLN481xvUkdVi2D/a5dys4ETideSW5C7klucB69LvMPaU+z/9XP2p/uwALgeJDGsPxxGpEsATahTXFfgW4hfQGjsc9hrhGOAU6BKfFCoScQ+rDnUMiQm8A7H+Xvvd+tP6nvgV9Y7vG+2r56Pj5uOY49jni+X63pncitzI3UrfR94h3Z3gm9ed3wH9wvs69YjxWeKX5lUAIRIGGPYeQRe8DvMNegxmH/4rDTOqPl8uDyPYJ78k0Si0MFY2ijqQNrUsGx1OFdscISM3JXAh9hWaDI4FxwBZ/lL5s/jW/Bz53vDO6JPe2Nsh4CbgjN/24IfgDd1U1Y3QeNQ83GLiwuEI31/h+ORg5kPlROau7UX3Ov0b/Ej4hvmjAPQHTAt5DcEP1BHGEg8RQRH9FREaaBrkGSwYyxZyFm0SERCyEecRcxAoDfYHDASCAfX9Fvwi+qv33/b48/LvDOzA58bjxuTJ50nncOY64TXeMODk3oXgAOMX437kJt3A30z7Fv6+9Yr4Wues7oIFxwz1GVUaYxp9FsYNihagHngppDUIObUvBSYqKdYntijnLQsxlzafNvMsAx2aE1MZiiJpIpYcBxPGCv8HzQBj+R/2vPh//VH3Gezm4pXeL+DO4AXeHtwZ3jLeqNnw01PRpdbe3SneitrK2sbh3udk5u/iu+Oo66/2G/th+hj6jfx1AeoD3gb/DK0SjRX2EgsQ4BFeFjMZdRjFGHcaKRqUFowRaQ+/EdwTrRDUC54IAwWcAcP/0vzH+uT51fa084nv5+1i7G3mZOQk5nfoj+fV4m3g594a3lfh1uLI4Rvm+ePk2lrmOfzE/vz6g/Sg6GLyVgRGEa0arBhbHS0XfgtHFVsdNCoWOuU3cCw2JiYp9CgRJ1AqJzFwOpU7XC5rGvYRNxxCJi0ibBmFFOYQjgqZ/kb0mvVb/Rj+efRz6cnj9uIW4XfbANoE3trfvtxs1ZbRW9Yl2zHaItY51q3eHudw5y3jROLf5m7u2PRq9/n65P/8AIkAIwE8BpsPExXgFDcSLRIEFlEXYRaoF6sawx1iHKAWCROGERQTIhUDEqsObgtBB8MDrP9w/SX+Tv0O+W/0Ze+f7fnskegQ513mDecf6MbiDt+q3cHbF9/v40jmwObc4t/dtNww7EgB4/6H+Uj0VOtl9sYH/BOxGoghhx38CoQO7xk8JSYzsjI4M8Eu9ylQKz0i9CP/M/k6VTlBMdMioBlEGoEdXR5KHtkc/RVOCqX9mPjr+gb8tPqV9cDwsO0H5nPc4tgZ3aXiQeOk22jS+NMz2T3YftXF1CLZAN+Q4OHg5OBT4r/mN+jm6HvxFfzh/uz7ufib+tMDnw0eEGEPYRHgE4gV5xS2E2AX+x0HIBEcxBffFHQUrxXEFJIUhhQQEWYLNANg/uwBIgRFAK36l/SB8Hfwc+9Y7DnrOOfb4xDlDeNQ42vjGt9B35Te/d565IrkYOOt4h3eMeaV+kYAuPut+YHuDe9XBJ0P7xnrIuMdVxjOEI4UcCJfKcM0nzkvMTYtdivZJaUlky3cM/s2qjYhLoAfjRX6Fw8fhyF1HX0VoA1ABk//Nvkl9uv4YvxY+A7v7uXD3pDc0t1z3h3fFt/y24zX/NMf0hLVOtoT2zTaRtxq4LrjrePr4ZXivOie8jD5xfmJ+Kf59vwYAUkGvQv2D0ES8RG2ECkSehWxF50YhxkRG4kbcRlvFbkS0BIZFNgUUhFmDNUJ1gU2AhoAr/55/i/7zfUM8r7vFe997d3o8eWP5lbneuZP4gbfnd+m4F3iteN05BLmk+WZ4Ene/OkSAI4II/zi9OTwPPDvBiQVfxjrJIsfORJuD70TzSKpLssxczOSL0cqhCleJDUgTyvjN204LjOAJzwZphdGG6YaSxxaG6cXQxCzAQr5vvhN+ff4oPfF9Cnxhus638XWN9r34M/kjuGD2hjXONZ+1SnVCdfB23TgUuLT4c7gOeG24wrmTOqX8pz5q/uS+J/1ufjq/4kIhQ2gDW4O1A9/D0APgxHHFM8YXRscGQ0XQRZgFPkSZhIUE4AU3hIGDTwH7wQHBfUD6QDm/Gb6VPl79Z3xZfDj73/u/ekE5QflOuiC6KrkTeHE4kjkPOUs5objAuc/6Yrgk+X2+kYFyQNa+qvs4/E1/1YPMCCPGpId0B5AC3AR0x2AI6I0NzhLMFsrrieCJeAiDiX9Lh45BDkAKxAbmxMiFhUfVR5YFkwWGBKTBzz/Z/V29Mv6+Pkh9p7wx+lX5O/cINiL26vhA+Nr3pDXe9RM1rfXvNcx2Uvd0uHv44XjaeLv4i/laurR8Yv3vfpM+mn4ifnF/sAFJQqyDCcOSA7aD3cRSxGgEgUWDxg7GRYY+BP+EtMTqhOiE3QRoQ/kDrAKrwZyBdsEXQTVAMj74fi/90r3EvU/8tnwmO+H7fvpJ+eS6N3qLupb5pnjMucR6fTo7efs5OfoAuUT46f48AUzAyYAgvGK52b7GQ7uFUQhWx2VGQ8WJQoGFRsheynTOrU0OygfJ0QhyR6fIUwpbzPcNTkwxh4rEEgTLxlyHAobGBQpEeEK9AD++4/1YPUj+4r3ufMR8R3o5+DS3V7dW98V4UjhMt/P207aB9k313bYAtvn3q7j3+Xr5efjneIY5MDpxPJE+O/47fdl+EL7aP8bA88FHQp7Db8OfQ8NELgQLBFcE94VThgqGHEUyBNNFH4UxxPWEOAP5g4+DLkJQgdFBocEIQCN/H35ifh5+QD2JfIe8W/vEO3m6R7nNOhI65rqA+Yv43Lmq+j452rn1uVJ6sXo5+FB8YMDjgP4AbP1sueu94AHtRAcHokYKxphGGcHwQ/tF24gpDXaMyQqqCYdINccaRxyItYuyDcxN10mLxMOEa8Xkh7xHqwXjBZ7E1MJHgFJ92v3bwDa/oH6Ivbb7cbnqOJT33LgzeSp5q7h6ttN2qraPdq62J3Ys9xF4ijlHeRm4YjhGuR46Pbtw/IC9u323vej+Hz7ZgHlBHgHLwosDE0PdBG0D+wOwxJMFmsZwxgHFCoUVBUUFSoUEhIEE3kR5QxBCqgGhga0B3UDsP/r+2f5tvmV9WfyIPPl8R3wwuyl5r/lP+mY6X/ofOVS5BLl3uPb5VnloObH7B3nn99x6nL+ewleAWPx3e7V8AoALRjwE2gaiychE4AKhAuIEK8pNDXoNPQweyY8JHAfoRedIDY0Bj+GOHonvRaOEGIZwh3nGNUbGx1uFm8LzvrH9Rr8tP3r/Fb40PJT8drqVd+42srfcORI49Le3NtM3QTeWtmg1GnW4tud4nzl7eMN5bnkq+Ri5pvop/DD+K77A/p3+Nf7HwDXAswFLwnnDeQS6xB4DfUOfhHtFscYURbvFkEWDRSdEgUSCBQPFTkRWAyxCKMHegk9BxUCP/8P/mn8fvhJ9Vnzu/Go8Vrx8e2H6fXne+d650LnHefs5hflMeZr5uvkueiU66Dn1OEy5RT6IwwWBIb6APXS6b/4IwzLENwi7ShjG6wNJwUVECUfqCi1M7817jHrLDQgOBK1FbcrtzkzOnU0CCRgGJcVCRIxFG0atyBUH0QQGwK3/fH6PvZz9mP5Qvv4+ijvf9+W23zfwuK04UTeFN6W3xjeOtkZ1KjTUNhv3efgIeRZ5/zmyuJc4F7jN+zy9cf5A/lt+Tb8v/6OAOUBAQUyDM0RMxN1EjMQBhFtE+YT/BWsGE0aKRnUFBUSQBGXEvYSrA9jDYkLlgm3BgYCh/9Q/iP9Gfyc+IH0ZfLq78TtmO2p7SzsvecE5Vbmyecr6IXlKuNV5YbmMed36W7o4ulQ6MHfcuwCAgwIwwcs+DTsCPU7ASkSDR18IDIkWByNEAwPoRb1IqIy8Dg0NDoyhyvvHzUa2By+Kk07RT4bMS0eBxILFKoY/RYLF8EZ8Rh3EGYCtPQ28R33kviT9t/zs+566BzgQdqE2jvd292p2rLXlNih287bCdeC0vnSGdmB4Rzl7eNz4yHk/uVt6rnuffJD9wj6AfxQ/3YCPwWxBvAH8ws/EmYW7hQ0Eo0TnhY3GZYZ3RfnF+YXgReXFRwSQhPJE7cPpwuQCJEHmAZSA6P/Tfzy+nb6UPYG8eHvMPFo7/zrE+sd6vLnTeWl5IblSuY76XnnP+OC5Y3o5upG7Svszera5xzn7/gaC60KNgk4/27ujPWzCv8XoyPqKsciehfrEdoSRxv0IpsvRzuBNxMyiilbGP4UsCGVLVc28ji/L/Md2RDbD/cRrRQaF7IUThDmCkQEn/kr7vPtyfOs9KvxEOub45nh1+H43W3YptX71fjYeNuE3Gfd5Npr1Q3Sy9Q+3kfoDev75nTkhefZ7NXw//I19nf8sAIkBTgEcQMlBskKRA+uE4cWJBduFRUU/hW0GI4bNBy/GOsVqRUoF4AWGhOQEXMPjAt/CDgHeAUFAuMAQP/a+cb1qfRb8hHv/+8s8RztF+mU6PbnJOUk5NPmhOY05KXniOhe5CHmten66ijsLu3t7kLqiud7+d4KAwkqCNECFvIh90AMXhfEISwoKCQeHGwTDRZhHt8hlS0wO146EzRoKwccURa3Ie0uIDYdNZwsESHcFLEOEBDyEtoTOBJzD1MKFgEx9lbu6OxD8ETyeu1P41fdnd9D4PXb4tf10jLP8dBX1pDaTtsi2oLWztLn1K3b2eAx40fndux37oHu9+908X3zu/vCBIEHkAjkCeIKhgzQD8MUpRc9GVob/hpcGoMcnR47HFUZRxs3G3YY2BYrFecU3xJ1DjYKsgX5A9MDFgGa/UP7S/ht8+/uEu0Z7O3rpOuu6O3l6OTq42TineET4UnhaOSy5UDkCOT65pHqDeyw7Fbs5u7U7hLuTvv6CT4R3REmA0b36AHCEFwbVSZGKbsreikcHY8aaB1HJM0yiznYOZw4FzAnIQ4Z7R3LJxQwui/oJuYdvRciEkMMYgfcBfEI5wjgBFP+UvIj66nph+ht5zvijt5M3xjgGN/K2lnVh9Hsz7DQ4NXC29rdI97p257an9yM3tjfIeNP673zxvdO9yX1IvY0+t3/PwTPBygNjxA0EQ0SQxNbFK0WVRjBGOgavxxhHYgbFRn3GakYxRXXE58RrxEkEscP+wlGBCQCiAAl/pb7EPm59tLzJvA97EzpguhQ6fnoteci5iDjUOGQ4TjiBeTy5ZjlVuX85nvopuoK7ZLug/A+85D30PuL/JT30/cnCcoYuhkGFwcOugWJD4Uc6CCrJ3kuTS8tK4sjIx/THwojdSndMHI0dDGKKMUcpRY5G5MfJB2wGTUWLRSkEgQL6wIVAI3+IPzi9o7xHe8I7WTsrOvW5xLjO9031xzWOto33nzej90D3Yfamtjo2RvbON2z48DpQuvb6+7sle3j76T00PmZ/AH+GwJVBqQGggcAC6QM0A0WEUoSGBJJFP0VZhUlFUAVpxPQEWMSeBSDFD4QAQzXC7gLbwl1B38FCwNrAS3/7fp5+Ib5SfjH9EX0vfNH8Q7uuuvo7cTvte4m7pTtuO127rDuxu3V7RfyT/Wp9GL0rPTo9Pr3G/xx/NL77f2CAREEqQSVBMQCVwLWCIsR/RQiEwgQ6w0CD3AS8xMsFWAYiBvXGwwa6BjZFq4UCBWeF0kaGhl9FRgTZxI4E64SrQ7RCtUJywijBq4E3QIpAfb+m/z1+R/22/IV8Wfw9fAC8Rvvq+zk6ujpgel66Qvqkur26u/rWu1z7sjuDe8P8JzxVfMb9ez2mvio+YL6E/wV/nv/p/8GAH4BNQM4BB0EtwQ/BuoGzwa4BpoGmQZaB5cHvQYvBhgGFAa7BdUFBwasBC0DqQJTAs4BKgGKAFoA3AB/AK/+sPw6+yn7HfwR/WH9Lvxd+lP5KPki+Sb5fPnP+Vv6WPpy+bL4SPgb+cf6l/tg+xT7NvtU+5D7V/xn/QP+cv70/sj+Lv8YAGgAFAEqAn4DFQRiA/UCcAOoBCwG/AbjBh8HEAgiCIAHjgdjCD0J2AkaCr8Jwgn3CfcJhgqoCvQJzAjgBxYItwggCWsI1gaTBeMEvQQoBGQDqQKUAeEAUQCb/yL/x/5G/pP9g/y3+4X7Mvu7+4H81/sZ+3v6gvlO+a75xfkj+iH75fvX+436vPgB+Lz4svqS/N38/Pvz+kL6Dvpz+pH7m/wL/Sb9H/3h/FD85PuJ/B3+fP8WAHv/XP5Z/u7+f/8UAHoA3QAZATwBAwFPANL/3v+9AMYBIwK0ATwA7v4c/73/IgACAWMB2ABdAEH/9P3V/WX+If87AEoB4wAc/579NP0N/rv/pwAiAIX/D/9e/ir+hv4m/5f/y/+7/93+GP5E/g//OAAxAUUBaACp//L//QBLAssD8ARPBVwFJwXzBGoFkgYNCBUJnwnICXEJBAmfCLoI/QjlCAkJRgmLCTcJlAfqBSUFBQUiBdoE4gPyAuUBRwDw/kX+6v2P/Tb9svy3+4T6GPkm+Gz4WvkV+rr5hvi093D3UPe496v4pvm3+jD7b/pS+RL5AvpM+4b8gf3L/YL9J/1E/er9xf5y/7P/3f9EAKIAYADY/wwA6gCpAcUBWQHOAK0AUAHdAckB0AHpAWoBuQDgAFUBawGXAVsBhgANAA0Ax/90/8H/HgDC/+3+S/7A/UP9gP30/Qn+Jf7f/ev8HPy9+6T7JPwz/Sb+Uv6K/Yz82/vB+5/8yv23/jf/3f4u/sr9wf0d/tX+vf+wAKIB+gF+AQ0BSQEDAioDkQQzBSAFNQVjBakFZAYiB1oHYAeDB8AHLAgZCIoHJwf1BhcHEgdjBpsFKwXVBEIEfwOeAvsBzwFrAcgADQAI/wP+O/3n/Oz8qvz2+xP7ifqX+pf6C/qc+cb5MvqB+m/6Mfon+pb6OPus+1X8+fw3/WT95P2z/jX/a/8TAEMBTAK/Ak0CXwFkAZcC9wO+BLcEJgRBA6kC2gIqA0MDYgNiA/wCWAJeAQ8AVv+x/1UAlgBFACT/f/1Z/BL8SPy3/A79Av1Z/Ef7QPp/+bH5/fqE/C/9pPx/+0/6CPpP+xv9Zf7u/sD+EP6R/dH9sv4AAD4B8wHjAS8BdgAbAGUAhQEJA7IDCwPtAdQAcAAhAQ8ChwJSAroB3gD8/9X/VwAIAaABxQFEAUYAd/9h/x0AYwGQAtoCIgJRARABQAHIAZ8CTgOgA5wDDAMsAqoB8AGsAkcDiAMiAy4CcAEjAUMBkAGdAY8BggFYAfgATgDT//D/dQDmAPsAyQBgAOf/i/9e/4j/5v8tAFoAXAAlAJj/uv4L/gr+i/4z/4j/KP9y/rf9/fyX/KX8C/14/Yv9X/3t/FP8Dfwv/Hf83vxf/Yz9cP1h/V39jP0G/sX+m/8PACUACAAAAGMAAQGTARUCagKHAp4CwQLkAu8C9QL1Ar8CcgJKAkMCMAIIArsBLQGNAPj/kP9L/w7/JP8s/9T+Ov5o/bb8bvyG/LX80Pzv/P/8+vzd/Kz8ffyj/CP91/2l/uj+aP7E/aP9Dv6e/jX/4P97ANIAEAEHAWwACAAeAKAAbQHwARMC3AFYARQBOQFkAWYBcQGuAd4B3wHoAewBCAJMApIC0AKuAnwCsAL8AhwDOANiA0sDJQMRA78CjwK/AsICcgIVAuYBxgE2AacARQDo/9D/KwD2AAwBvQB0AKz/Nv8j/0kA4gA9/wMBZgZQCMMEKP5V+az6OQEyCPQHwv/4+/oAywQPAqT84/mo+p38Vv5+/jz9NP25/jj+Jvq29rX40/y+/dL8hvu5+qD7hfyX+7v4FfdI+WL7svnZ99356f0y//H7qviG+cb8Lf8vAMQBGAP4AdAAlgG7AsoDRwVIBnAG4AdyCgkKrwbjBAsGkQdXB4IGRwbFBd0FnwegCP4GfQQXA4MC6QGMAXkBUwE+AQkBcgBM/9D9zfwR/Vf+Fv5d/Cv8Mf2D/Zj8fPuM+/r7i/uX+j/6Eftd/CX95Ptb+ZP5R/yh/XX9S/0z/rn/FgBc/zX/mQA0AjoC1wFIA9cF8QYHBqQEhAQnBQYF+QQzBZAFkAbiBhgG0gSwAzcDaAKUAbcBUALqArYCWQFz/6H9sPxc/ND7evvh+z78V/uy+Q75E/kG+Az24vQI9ej1Gve99wj3CPVr81zz5PMo9DPzcfKO9GL3FfjG9+H3ifgd+e34jPgW+Cf3Zvfb/DgJjhQOFUAKifxv+OIBeQ6hFNQWjRodH78fqRjaDJUFaApSGGAjhCTuHvQYlhQCEh8R+g5uDLUMcQ4BDxAN2wipA57/Nf4r/Rz5PPNg7wvvZfIo9v705+7p50bjSuEr4WDiFOR657Hs0u/D7eDnfuJv4SDmHe4h9Vv5Qvs7/Mr9X//R/v79hwB2BpsNyhH0EccRARMBFSMWGhUaE7sSfRTBFtoYDxpzGQAXeRNhDyEL/wfZBgAIBAogChYHfQEs+yb2H/Oa8V7xd/EE8YXwQ+/W667mNeNP4+/kdeb65sTm9+bk5xnp8uhp5yDncOgE6g3tqPBN8gf0c/be92P47/gi+jH5FfdE/O8KkhqWIq8edQ+cAo0G2hRJICwnyCxcMSoz9i6jI2cYGhd7ISoumDMJMq8roiLjG2wYVRWqEvkQpA73DEYNFws/A5T6nfU68tntzOaP3r/bJeB05qPnNOFK2JPQQsvkyjrON9Nz2oDh3+Mq4aHcHdk32Knc7+aX8Zj4dfxK/nj/VAF4BIsHHgoyD7oWLRyIHikgaCHTIkwk/yPQIkoiSSLuIu4jBCRSIrYeJRlxE4UPSAy9CaYIewYBAoL9ufjQ8jruSetw6O7lL+Ti4mngPN0H3OLbJ9wq3UnciNoE2yjd1N+f4bfinOQl533qzu3L7lzvZvJp9Vz3JPop/IX6WfmABC4ZESfeKSEgOAw0BMkScSSgLXU1vjsQPgM9NjMSIuQXjx//MXk+HD8JN4gpCx5TGc8VlRH3EVwUfBOCEC0KhP6T8lDsmus36+nmp99y2MfUNtfh2uDYktIHzT/JtsaexqDI7Mx61Bncvd9I3dLXr9WF2Mrg3+wl92H+MgMPBnsIVgktCmcNgxOyHTInrirOKagnJCfjKKAqiCvlKrUpeioWKucmqSIkHYMYhxQqEGgMIgeeAgYBgv6W+tP0AO1d5m7hV98Y34TdE92b3DDbntp81kjSi9Kn1KrZXd053sHfxd/24BLlYudu6FvrmO7i8Gnz9PZL+FT0kfhADLQfbCoaKEsU5gIFC7QfvyxpNmA+LUGRQnM+HC4QHXceaC87P+BFH0IkNsUmaRysGIsVNBXhFqAUAxFSDRkF8fc37IXot+l16LLipNf4zUrPC9bc2OzUZc3zxyDEa8Lpw7nG1sxa1h/eAeCP3LfXdNXz2Vjmx/Rv/9YEvAYzCR0NYxBbErIViB0GKKwvVDG5LmormStIL28x/i8VLeYr6iq2KAQmuh93GBwTmA2zCQMF0f5P+5z3ufO877jn6d872oTXjNhu18/WDdY80zbUr9E5zpHQ+NJG2L/bWNzk35Pg9eI66QHrFOxy8GDz3/Xz+Ff8jf3O+IwAtBfuKM8yTi41F+oIQBWDKc4zTTtLQpNFFEcZQTguxxw3ISQzbUAVRBw9xy+LIM8WwxJRDigPFRCOCkgGQwKk+f3sr+ET3j3fS98y2uvNhcXSyS3RJtSk0HLJ6cUPxITD18VBykLTTd4C5jXnHeQz4dDfPeVC8o0ASQzYEVwTcxXSF1Ma7RsxHmMlQTCNN1U3LzTyMJYuRy/5L8QsSin/KMcmpyJXH5gYkBCmCTEC6P3E+q310fGf7UnqNOem34DYktF7zTHRAdIG0qHT/NHO0k3QU86K0UrSXNgz3kjfa+Qb6LHq1O2Q7RHw3fRo9ir7UQAqAYQBAQXSGIgvpDSlMCYeUgkHE5ItXjrUPXdDOEdySF5CljBLHoYbgC2tPn9BfTydL2ogjROdDNkK5Ad8CJIFB/4g/Uz5C+293gvV29Vs2YHW/M3JxI3Ex8wB0t7RGcwixh3G6sX4xiXM19QY4O7nKO4h8Gnrf+jA6cLy4ALhEWUbyxxnHUMhOCIfIokjdCZ6Lnw4ODskOOI0+DCyLZUrcCm1JnsjvyDhGxAWwBIRDS4E7PtW9DLwBu1n6Lrl9uE24Pffotj80e7MgMhJzBnOY9DI1QrVvdbm1cvTeNaz1bnbYuOk5nXvEPO08cfz4/Il9Pn40/v/AHr/6QDsE6QkWTXOPNomuBJHE9UdcSz6OcxBb0a5TsJOazyTJqcdkCLnLZs6aT11NZArOh2pDn4FGASYAx38OPtN/Wr4A/II5ZPWxtJT1oPW38u0wazD5clx0JrToM1JyknLfskVyVvKhNEZ3aHnIvLI9Qb2rvR27xbyJP3hC9wYlB8YJOAlxCdcKYEmGyY1LHQyrzWaN8w05DAUMGQt/Sk9JT8fYxpKFLkQlg76CTgG5/9x903xKemB4Y3dXNst3eXdptx223fSJc2MzBrIqs1E0uXUv9oW2aPdEd792aff/eCD5QvunPG79Bj1JfUL+Xv7LP7RABv8XAL4FcMnQTdkNHUh8hM/GKAmcSxTM4Q7BUHuStRKczmpJNwebyewLoUzGTX2Le8hXBmTEocJAgX2AUr7K/cx98313euy32/aRNrs2jfVR8qSwr3DW8y603vUndGl0Y3RGc7ry1TOkdUy4OLtZ/cZ+gf6Ava88z/4MgNQEfMamyDhJUspEyrzJ8oknibNLMgyjjYwNaEw8SxwK9goQiNCIIkcshUrEckMxAeXAS78y/hT8jDtS+jH357avNkp2mTaFtg+1RDTe88d0JjP+8051dTXk9xy4b3cjODp4IvivesC7dLx6PO+84r4qPjJ/G8Arftu/q8N5SC8MAc1XCgSFEsSoCHvKeEwyDhmPDdFtkrnPowpIx1MIOUoNDB9NPEv1yRuG9kRVAdaAUD+FPnE9Xf3iPZQ73zkNNpv1/7YntaEz+vGg8XCy1HRe9W31GvSmtTo06zS6dOa1rfelugM9C3+ev+t/Zb7pfsRBCYPjRjUHwMl2Sr7LD8r1CmJKCIrjzAlMw8zdjBeLIgpmyZmI5sfyxinEXUM0QdaA1r/ePrP9Gbw+OqW4xXcqdb41AvUUdXc1sLU1NPl0CXNYswWzCfR69Yi26TfJeA84kHkHOZ664Ht+u+E9Xj4iPvf/rYAegDP/gkKpx48LVQ4nTI4HQkWFh9aKT0xXTjsPbdF1kzLRI0wVSD7HTYmAC6xMf0ukyb5HXYSGQZ0/jf5W/VH8njyavJ67JTj0tdR0VjT09OTzrzFisJ/xy3OetMc1KzR2dOU19TWx9aV2HXe0Ono9aUAhQSuBO4DwAIsCCQQ5xiPImQqHzHIM0MyHy7IKg8sGDD2M3I1ETRWL4opTSVYIN8anxWbD9AKIAfGAlP9QvVf7knrr+aM4UrbDNRw0njQDtI31arQxdI40OLJQMs8yCjPF9Z92KDhI+Er4szkWOPk5o7oLe2d9Ab3DPzQACj8E/2+CjcfHzRKOnsxqh3CFd4jYSzyNE8+GkSyUUJWCEpXNOkhUiFmKf8xxDdMNa8tUCLAFP8H1/7E+UHz0O7F8Djys+xN4MnTc815z6DRYcnXvd+5Y770xv7MXs+Q0YzTUNQB0xDRytLi2eTlGPIi/4QKQwovBTgCUQRLDxEc4yUmLUk0bDl1ObQ1mS8zLmIyaTbTOCQ40DN4LVUnMCKYHb0YpBJYC24FEAH/+kH1ke6w56jmK+IF2wbWUs6/zd/NeM4r03XPHtBHzaDHJcsCyRvPPdYZ2MbigeVq5S3nd+P85ATpt+239qf3IPeNAJoMuSSnOS01GyfiFykVSCK7MDk7nEAITjlajFXjR7sxliLLJXUvKTm7PBM6dzEkIR0RZgcrAfH5kPXu8xbztvP963bbXc5czGbQvc3nxIe8kLkjwJjHychuyivNrc8P0sLPL87B0XDayOZ/8wECgwl+CEQGnQS0CtoVZSBBKuUxmjnXPgA8czVwM4M1YzlAPFE6ZDa1MlYuIidTIO8blhaVEmMLWwE2++X09O6q6Sbk8uAh3dfWe9EFzZzLvM/iz8rOYMxZyHvLn8lly1jRX9Of3DDfJ+HL45vgUuUR57Hp9vGJ9YP3xPgEBGMdFTCDNU4uUhkxFRomDTAtN7o9l0WUVPdbMlE3OgYpzyemL9A3JDroNvIviCOAFisL5wHu/K/0DOwx65brR+dx3K3PjMrxzYHQs8jqun+0T7jrvzjGq8iJy8PS9Nb60yjQyM8g1Sjix/Hp/YUI3Q6xCwMJ4g0YFk4gXSn6L2w3qz1tP7o8izegNm47ITxgN40z2i54KWYm+iGDHKUZExQxCRv+nfTk7//s/+id5azgbd8r2CXOM8ufxAnJN8w3ys3OGsmfy9/Lq8f+0JLSXtgj3j3dC+MK45zjjOmi68bwEPai9e4FQSB1L0E3ASrsF7EaICpmNro2RT6uSgVXXWJiUkk52C4gL8w3gjt3Ot84xzKRKIYbCxAzBtD+Yved7pvs7+wp5j3Y/cwkzEbPwM2GwZiy9q/utpK+IsNFw4PFUc6Y0szN+8mzzMzUk+KS847+lwWDCgEJKQnSDucXjiJMK4kzlDxeQktBkT2OOnE6NT77Pqg64zUIMjku+iqJJdYdZRiVECMG2v3L9TbwZuvX58PkU93/2frTSsvFyD3FRMeQyA3IqMpvxSjFjcmsytrQeNV21kXakdsM3WfhWeJv5yDoO+vCAMUTxCpLNxQlNRhdGdIhIy7yNh8+AEgwXZNorlg9QjQ0PTM+OzlB3EApPdw6tDU+KfEXpgq2Awb7tfWJ9OLwM+qj3UHSlM3MziLOV8G7s7OvJbSKu2i9D7tIvwjKks5hzGfGgcO6zDPcZ+rx8+r9OgfUCWELXA0kEe4Z+CSnLy45WUCrQw9Bgjp4OIA6aTr5ODQ28zL1MSkwNSnHHg0W7w+1CnECxfhU8o/sLeuI5qvfndxY05DQrMpww97HaMYcy8rK18U+y1/It8nazV/NcNKA13rbheAa4wjn3+re6v7/Nx5hLoc2wCaNFFcX4CbONQA29D0lTkBeOmpMWOs8ODE2M8c+BUJSPRc6oDZ9MmIochk2DbkEE/3x9JXwse3L5KTYdtDizpHRi9BUw8ixEq3sspS4MLysvEDBd80d1B/QfMjpxeHM+9tS7ab4vAHzCUgLQw3sEgEY6x+bKBcxyjv0QOw+6DqcN8Y4VDwgPAA16C5zLt8pICTnHhIW9xHKDQ0DDvmq8MTp5ubH49ffZ95U2R7Sncmvwm7E0sOOxeHHk8dszSvMMcx3zNTIXNAo1iPaRuDX4k/k2ulNAM4d0izcLYYh1hCXGDsueDV/OOVBKlJcZc9pfVVhOjgxSzpgRLdELz+6Ods2MDHKJMMWsgufBuH/TfYy8Q7s2ePM2drR3tB+073Pl8DbsJOthLMJuXy6vblOwOTNsdMJzXvDvMMR0GvhX+/I9gX/mgiNDkwRyRKDGEwjXi2CNIk4VzodO4Q64zqnPOc9cDxkNR4upikLJTkh+ho9E6gQOAz+AZf2WerY5A/kkOFD3T3V8dHkzmzIN8Nrve2/QMa1yWfLvMYIwznFEMhezAjTcdee2bjeCPB/CP4bhyebHmcPSxPwIMIs7zJMOG9FjVpMaslgPEerN1Y5YkRCSnhF7T7iPO49LjeeJUgWcQ6kCjwFGf2o89bp0eNA3sjYYNfV0yTIOrmJsRayDbbEueu51bw+x5vPNc3jw3C/ecdd2DPn8e5a9L383AZqDDYOWRArFwgkPS4qM580QzZ5Oeg5QjxgPqg8wzp/NPMszChyJmIlbx5NFW8PpgfIABr3/OtV5qjiheFd3YnTZMqvxLnCrMKewffBYsQ2wsvBOcGlvbfB7cikzjXQ59g88MgG1Rn6HGwKWv8iCkAdUSsEMWs2eEaHXZVnXledPpo1qj6wTBRQXUgGQ2dGOUe6OwAqexyxFnsSggubAVP4vPPc7OHhiNs/2qvVwcf6t6awyrL9up29kLgCu5LF5cpyxnW8j7hoxIvXyuSb6QXv3Pl/AecErQUuCN8TUCFpKs4uVTEiNzM6wTlhO+E7ZTvKOCswbiqYKx4s/yggIaIYpxICC1UCyPS36bTrHOte5nbe6tLqzlzJW8WFxIu/vcErxSvCxb5nvibA8L/cxvrcvPQxBVsKn/vV76j6iwwoGi0fXiUnNzhMJliuTa05+zSUPplLik5+Ro5BvkJ/RWJAnzLbKGkl6iKSHHkQtQG09p/x5+05693pIeRJ1wfJG74yuam5X7otvEDA78Y3y+3Gsr93u6DBCNA12hngjuPl55Xx+/m7/rMCRgdVEEIZzh0BIBIi+CmNMuQ2yTiQM1stCyveJY0ioiJCIogl9iNyG+kRIga5/hv3MPCr7Izneemf6Kfg3Np106DPGdBBzi3MSstIyyDNvNFd3tbvLv0GAtX3ke0/8sj9fQpdEDsTfyCbNHlCET0ULOAlji7lPJtBRTiEMKMyfzvZPF8woCXzI1gncyXUFhYE+vjE+Lv89Ps/9f7tBudg3pzU+MsCyPjHmssY0YbThNOB0GjLzcoS0NDW1tr620beoORk61fuD/A49fD/KAv2D2UOUwwxEUQZOx15HgUfrCEvJLUfhBgLFVQWjxs4HCsWLhADDRgLrgN++f7zffP09gP44fK/6uzkheSl5RHl3+Pg4SPh2ud69HH/wwGf+brvbO8d+w8HOgm3BCQEmhDJIXMnlx4uEgERDx1oKREqhh+fFwkbviOnKIAjqBp2GBMbsRzSFZQGxfs/+4sAMwTPAP748/Fn7hLsV+aa4CHfpuGj5l3oYeVC4e3dfd5z4n7lPeaZ5VrlZedA7BTx8fKm9BP5hv6jAvcBtv3n/M4BcwmNDs4NuAo7ChAMHwyzCaoG7QSWB1AM2gzUCLkDJQBd/7f/cv77+4f7uv4KAsAA+fvJ+DD6Jv4e/xv7bvf0+t0EnAxmDEgGYQDGAKoG0An+BjoDaAN3CBMPmhFWDccGpwTTBxEMswwACdcEWQTMB+MKAgniA3QBegNpBjMFOP8b+eL3h/yNAPv+aPpI93L4W/tl+1j4qPVY9/b7aP4p/Y/5oPdz+ff7bv2m/c39//7P/8b/CP9r/rH/ywHLAsUCEgL+AccC+ALBAskBCQGbAYYBJADl/iz/mwD1ASQCFQAN/XP7Kfsi+4z7w/v0+//8Fv7x/ZT7hfh990f5NPwZ/VT7L/nL+L366vsX+hr4ofhh/GMAMAD7/JL60/s3AD8DfgL//6T/bQLzBVsHvAWxA9UEcQgyC5IL8ghEBr4Gqgi9CaUIMQZLBcUGTAisBwkFfAIoAiUDdgOIAVz+9/xZ/aT+1/6K/SP9E/7p/+sA2f/g/RT9j/5IALIAkwD9AJEC6wQkBioFaQOxAnUDbAQWBHUCiwF4AvsDdgTdAuf/u/1Y/YH9i/y7+qb5PfrV++n82vvt+Hn2lvUG9ub2gvcI+Kf4nPk4+rv5qfjg92f4C/pk+7D7NftF+/78QP8AABT/3/2q/X3+Cf93/sf9gP4yAHUBggGTAFkALAGoAZsBzgGSAiQDGwPdAtcCFwSwBYEFfwQ/BAEFCwbNBYsENwRtBeAGpgZzBEAC5gEIA6QD7QLnAUcBdQGoAb4AyP8ZAIcBRwMLBCwDgwGFAP0AYwLlA3wEwwP/At8CLgN7A6cDAQSrBI8FlwU8BFwCAgHgAJ4BWgJ0AnwBpf8Y/v78+ft3+x/7yPrJ+kf6lvhw9jf1cPXr9nT4o/jI9+T2sfYP9xT3pPZK9sD2L/iD+T36lvod+2v8//21/s/95vv5+gb8cf5mAYgDJgQFBHUDJwJeAPv+qP5FAMsDRwfTCA4IBAZwBDMETQTcA0kDfgNaBdUHDAmQCFUHjwabBmIG7QQ0A5ECqwMLBh8IpwhoB1AFVgP8AXUBOwEXAcgBSAOYBMMEIAOzAFD/tP8VAZYBBQGaAMcALwHiAHj/5/1t/QP+mv52/vH9s/3q/Wf+hv4E/jv9dvwP/PL77fvP+0370fqw+p36Nvpv+f74SPk6+uL6Lfoe+ZP4sPh7+R76QPpb+sH6J/tV+zf7yPqS+gn7LvyZ/cL+//7a/n7/7ABuAucCHgIwAVcBUgIwA8kDXwTRBYAHsgf4BWAD0gHnAVUDKQVrBjEHUgfoBisGNQVOBL4D3wNTBN0EJAW0BA8EzgMwBMQEowSOA+cBiQA4AO8ATQKzA0wExgOEAgwB3v9P/0f/jP9KAHoBNQLkAZwA//4Y/k3+Bf9E/5/+8P3k/Uf+ef7P/Zr81vu4+8f7wPuo+wb8Bv3s/Rj+JP16+yn6Tvki+fr5WvuZ/Aj9ZfzZ+iv5DfiI9/f3WPkD+yP8Efzi+o/5Nfmy+YX6a/s7/Av95f2t/i3/qv94AIgBuwJ7A60DugPsA6kE/gWCB3UIRghVB2AG9gUlBp0GUgcyCAoJMwkGCDcGzgRVBL8EHgUJBesE5ASnBNsDmwKTARwBAwHAAP//Yf8k/z3/h/+W/6//u/9i/+v+qf6+/gn/TP+S/xoApgC2APH/tP4g/nX+M/+g/6f/3P84AFwA7v/+/iD+t/2L/T/9Ev0+/dD9Kv6X/XD8cvsg+xb7r/os+iv6Bfso/Kv8N/wX+xr6hfkC+a342/jp+a/7Tf37/Yb9SvwJ+1b6Gvov+sf6Afzp/SIAzAFJAqEBsgBfAPgAMgJaA3AE1wXKB7MJnwpKCi0JpAhQCYMKHQtqCqsJsglBCp4KjwmdB/wFNwX1BCkE8wIoAlwC/QK4AjkBEP83/VT8Mfyg/JP9iP7G/jT+IP3c++b6ZvqD+of7UP30/kj/UP7p/CD8OfyX/B39zf3T/sT/yP8k/6f+9/62/yMALADm/87/wv8f/2z+Xf7m/pT/lP+Z/kv9WfzP+5P7nvv++4v80fx3/IL7Qfoc+ZL4C/kg+kv7Cfzi+0z76/oO+2T7zPur/Nb9Cv+r/2j/zP7P/lAAlwJwBG8FPQVsBLsDYAOhA8gEswbBCEsKngqyCTIIvQbVBeAFtAbxBzEJngmsCBMHkwVWBGYDnALCATMBPgFVAfcAOgCI/0r/O/99/uL8QPtY+qT6rvu0/Lb9aP6y/kz+Hv3c+wP7CPvr+3b9Rv9jAEwACP+o/SP9ef0f/kP+WP4W/0UA8QBLADv/7v6//+cAFwEsABf/6P6A/+7/HABbAKUAzQBnAGL/bf4X/kv+kf6t/qD+S/69/RP9svzd/C79Lv2t/A38t/vI+yD8n/xC/cH96P2x/U39Rv3w/TP/egBaAesBKgIvAlcCuwKHA7UE2QXFBkYHJgeGBs0FxAXEBgkIhwjtB9cGEgbIBVgFbgSmA5YDFAQKBMECyABC/9X+H/8U/5T+KP69/VT9wfwg/BP8Xfx//HX8c/z8/NT9Nv76/X/9SP1i/U399fzF/Gr9Cf+yAJgBRQHi/17+T/0A/Xb9dv6r/7gAfQGeAQMBw/9j/s397v1O/ov+g/5l/nD+rv7h/vX+5P50/lD9vvur+pP6afuh/Ib9FP5S/uL92/xj+xD69Pkj+wb95P7+/3cAegAMAJH/XP92/8v/hwCwARYDQwTFBLMEqgQOBV4FRQXfBJkEGQUXBuEG2gYMBjAFdQS8AxoD3gITA2oDlwM2A2UCUwEhAG3/Y//7/8AA5wA/ADL/YP7b/Vn9G/2c/RT/wgBgAZkACv/X/aX94v0i/n3+Lf8+ABgBIAFvAML/a/9G/0D/Ef/h/vT+QP/B/3UAIQFyAf4At/9v/pr9Q/2q/VX+Bf8HAMEAgAAg/yj9xvte+9X7svwk/Xj9zv3j/Z39xfzh+3775vvv/LH9u/1r/Sr9Of2q/Q3+BP7h/Qb+ev4c/6X/2P8BAIcAPwGYAUsB3ADxAMIBEAMmBKQE6gQ6BVYFLgXhBK0E2wQiBUoFQQUDBdsEjQTsAzUDngJFAh4C8wGSASkB4gCQAAMAMP9g/tv9+f2J/jL/kv9A/6T+5/0+/RT9Sf3e/bn+sv+dABMB3AASACn/sv7W/l//3v9DAMkAXgGtAVkBgQCu/wX/wP72/kr/mP8aAKUAwwBbAIP/kP74/f39aP7Q/if/ef/A/8T/Zv+m/sX9Sv0U/Sf9ev2+/UL+3f4a/93+Mf5m/eT86vx9/Uz+7f5c/57/tf+f/1f/Gv8d/3b/HQDIACMBcAHQAeYB5wHQAY4BmwG6AfYBVgJuAmcCRgL1AYIB3wBsAFYAfwDkADsBRgHmAD8Ae/+0/nb+tf41/+L/ewDkAPsAsgApAKn/Xv8i/zD/lf8yAOcAagG2AcEBtQGaAScBswBxAHsACAGxAQoCTgJtAikCxgEmAWUAIABDAJIAygDvAOcAzQDrANUAiQBLAAoAxf+L/5j/wP/F/7P/xP/M/7b/w/+P/17/Wf8p/xb/N/9u/yAAEgFnATcB/QDlANkAaADF///+vf5q/1AAbgG+AfwAMwCv/18AEwGG/wb9YP4IB3gR/BEHBW71yfDo+fAEKAT5+kb2sPkO/5EA7v3L+Wb3Ifdw9sr2VPnz+n/5WvSR8ur4o/5F/NLzNfB99ez8/APFB2QD4voz/bsMdhq2F9QF4PtD/7UHShHqDt8FYQLSBFYM8Qgn+7j9swJ3+sr+CQQdALEDJf8k+H3+YwOJAar+5/lT9dP6hwIqAxH/IfcM+xYFr/8v+0v8LvlL/0ICD/18A2ADoP1bBNgAjvhmAxUJQv+N+8b+9gCdBG4MmwSk9TcB6Qp0Akz/tf95AbcFFwZw/y/6cf2lAWUBaf7e+LP5d/4D/AcA4/2X9uIA/f6s9j798v8R+w34kv5n/jT6lwUnBOr22fqJAZMEzv3B+GYFsgALAAgItfsAAcsFJf2fAmsFkgG0Ae0EswFhAU8IpwkzBJ7+8wO8BUwGlgntARICrwmvChsG/wIzA9oE0wUN/7kA2ATuATwDUv4y/ckE2wLJ+If2QPtw+bf5Vfps93L7LP3Z+oP7MvqN+fn49vRG+ej/6P+w/8b72/yaA8cDaQHR/T38H/1S/Dr/NQbFCGsEiQDw/20D8gZgART8SP50/fL8PwgUC2384/sQAbr8KwDDANn64/lE+/n61/uQAl8DUADw/OP2G/so/34AgQEe96H2dAHiAyUHSQOj+Oz7s/zx/roJQAMR/NH9ngA8C1gNVAWQ/0b9ZQEoCAcIowHg/r//TwVyC+0JKAXG+vb0E/9pCJgHnwAm99T2qQMJC6ED9PlD9qz3iv/LB+IAu/Xs92r+vAPIBVQDtP7P9r34jwJIAqsBXgHW+sX8eQLxBJ0Fcf5T+uH9fgH2AmIAUv5u/av9DAH2A+0Chv7P++D76P+yA27/HPu5+0z9EQA4AEf8yfoP/M/8wfuD+q37x/vM/Kb9OPwE/rr8S/yT/0H9mfzK/Fv9ogHHAS4BfgApAc8FXQQmACgDPgYzAuYB/Ac0CGIEkgThBmsFdQO6Bf4GYQW0BNoGywj7COcHtgNIARADwAQqBLgArf+dArcCaQD4/zP+tPxDANL+fPik+Hf5yPqT/Zf7Zvpk+lv5gfqY+6v6hvmE+sX7D/wV/ln/NfxR+YD7Hv9PADX/7PxE/ckAAwEF/r7/PQNWAYb/xf/v/ygCpQOpAjYADAGHBHED/wJYAgv///8qAgADRAMlAHP8Vf2wAOwCuwE8/kn8Ivtn/hUE5gF0+4P5ufv3/1wEAAPC/B/5qPz3ATUCXQPWAI76p/6KBdMHEwgeAov89gDkBYMFOAbgBB8BfAK+BhcJLwvWB4b+V/0OA7AHkAcwAZL/yQPYBrYFvgA+/mT9Bf4GAcsAz/06/nYBywCp/TT93vyN+zT8R/x1+7/8pfwF/Ez8Bvyu/DD9gv7G/G74TPwjAQwA/ABW/0L7cv9GBPwCiABS/o7+MwJlA/v/BQHUAbT9cwBiAQz/OALUAIn9FP7W/hL/TP5D/ff7LPu4/MP+d/1H/NT7E/pF+4v8B/yE+jr63Pxp/Lr68/lk+0oAXgHp/kf99v7VAUIBUAEvAosBpQLbBB4GxQYXBjYDDgEiA6YHngn6Bj8C8f+aA3kIagfdA/oBzAATAVEDTARRAqQAKAC1AGMCwQJmAv3/F/z1/c8B8wFfAUf/0f1i/3UB4wGH/4v+qP7t/rEBiQJKAXD/JP6PANMCCAKfAKf/Cf/MAMQDbQOVADj+t/03AFcD/gF3///9ufsW/jABhP8G/tr8tPva+6z8l/yu+/r6Y/ny+fX8dP3v+qr3Y/ZN+PL7G/4z/M/5y/kg+in8I/6i/Nb7lPwW/pcA7QF4AqkAv/+QAl8EswUVBfcCowPoBDcGSgZfBXMFCwTWA4sFEwV7BP8DQQJmAhIEUAQoAn//BQCzAVgBWwCZ/9v/QABs/+T++/7l/t7+Z/58/c790P6x/m7+sv5I/vz9Yf8kAC//kf8AADP/FQCnAZgBnQAvAMgARwEzAQcBNwH6ANf+x/6rAmsDxAAm/779BP4NABYBUQBD/uz9yP4M/lr+R/9M/Wf8r/wY+9r8HP+N/dH8Xvsh+1P+qP5k/gP/h/y1+5H+0wHRA98B9P72/ocAfALXAm4B/wApArQDaAVRBUoCuQCUAcgCEQTwAgMBpQGKAj0DRgOQAa8A4wAbAZ0Az/7Q/U3+wP8vApACigAf/y/+/P7m/33+Xv46/nz+2QBIAdoAWgCB/8//+v9MAJIA2/91/9z/ywBAAhIDiQL/AXMByACxAJ8AdQDjAPwBtAILAxwCOQDO/87+3v2Q/l7+ov5r//j+k/5n/gL+lP0a/QH8cfs2/A78fPsj/Bv9NP4b/5r+Nf10/J/8DP1n/dv9If+VAOsAUQG3AbkACABHAFwA0AACAtgCEAJvARACGAJZAqoC3QFTAUQBegFSAd4A4gD6ABkBygDEAM4AV//A/n3/C/9p/70ANgCw/1n/E/9cAEEAlf83AMf/Zv+CAEABFAE1AToBLwFLAVoBvQESAaMA8QCvAJwBeAJlAkACcgFiACcARQEuATAAKADU/1IADAG3AEQA0P65/QL+PP7B/qL+d/09/eL98P6r/0/+vPxt/FL89PzH/Q3+yf1//bT+DwAgADX/Sv5x/i7+u/5qAMcARwGQAf8AYwGIAawAKAAdAH0AVAHdAQ0CPAJnAsoBlQBwAG0APgBkACgApADNAcwBTwBd/9f/GADa/wH/Xv7s/r3/dgBfAJX/4P4x/oL+2/5g/hH/mf9A/9n/AgDU/xUADv8c/nv+Wf/QAOYAXv+T/nH+1v/SAdwAL/9c/+b/BQGmAj4CKgBu/7v/dAC1AYMB4QCyAGkAUwGtAV0BiwHv/73+yP+YAHQBUgGK/+X+D/8OAMkBuQDv/vL+m/54/7QAlv+//rL+M/5I/hT/oP9A/0T+Fv7B/v/+7v+2ACD/TP5z/yIAiwADAfQAEQB//y8AHAGFARkBdACYAA4BvwE+AiEB2v8zABsBnQHXALz/IQDYAFgBbQHIAI0ALQDL/woA1f/U/2AAMgA1AJ8AAADB/2IAKgDK/wsADQDf/xgANgB2AAYB4wCYAGEA3v/3/2EASAAnAE8AXgBkAOv/OP95/3//uv6V/r3+c/6z/m//R/+q/lX++f2m/cv9UP6M/gf/sP+R/4r/oP8c//b+YP/n/2YAkwC7AEsBswFxAVMBKAEDAZcBvAHCAfABZgFNAfABVQIFAlgBoAAsADwAAwAfAJkAAADo/3IAnv/o/gT/pv6u/vz+xv7f/uX+pP6R/j3+D/5l/pr+Ev+e/2P/M/8Y/xz/1P85AF4AXwA+APEAegF6ARcCQQJ0AW4BCwLLAX8BsQGvAcMBGQIHAqsBHgFdACYAAQCg/4v/Tv8F/xT/J/88/xf/Uv6E/Xn9cP0A/Sr9rf3N/SD+hv48/vv9M/4E/nj9uf2L/jj/7P8qAAgABgAiAJAAogBwAOYAcgHMAR4CLwJxAnACxwGkAaoBfgGdAV8BRAGGAVsBJwEDAcMAdQAUAMT/uf+//4n/Rf8j/w3/GP9V/0L/2/7M/rv+kv7Y/vL+0/4j/03/H/9Z/4P/Yv9y/2r/Z/+n/wMAkgDPAHMAbgC8AJUAygAwAdoAlgDnACYBQQGfAaoBKAGwAGkAaQBtALQAGgEEAQwB0QBLAGEAGgBT/xj/Nv/u/9sAiwACAAgAu/+h/3P/v/54/qD+u/7M/gj/Uv+N/4n/Jf+R/gL+KP61/tH+4f79/jX/3/9GAAgAjv8O/+D+W/8NAEsA/v/B////jwAyATcBdgDZ/+f/PABOAG8ApwCAAKgALQFbASwBeQDx/wUA4v8QAKEAggCBANMAtACxAOoAigD+/+X/wP++/+X/6f9OALcAyQDTAJMAIADU/3r/Qv+N/+r/JQCAAJkAYwAeAPf/7f+v/xD/yv5e/+D/CwAUAND/yf8GAN//Wv/V/tr+e//k/+L/8/8QACoAZwCCADAA2P+q/6D/+v+BAM4AjwBJAIEAiQCRAHIAqf+B/+H//P9ZAHEAz/+U/8X/gP9v/5b/Bf/C/gz/wv7f/pn/l/9q/1T/QP+e/67/g/9T/9b+5v6o/4AAwwB/AHQAkAB9AGQARgD4/wUAiQDdAEABmwGaAYMBTQH1AKkAggBmAHIAxAAOAV8BjAFnAS4BqQARAN3/0v/a/+b/MwD0AFMB+QCDANT/Kf9C/2r/M/9K/4j/lv/t/z4ACwB0/6b+cf7K/sT+xv74/iD/gP+u/23/U/9G/8L+QP46/vD+FQBTAMf/aP+H/y0AewD9/0b/Gf+3/3cAzwCXACsA//8nAJUArABLAAMAKwBhAHYAswDMAJEAQAAyAH0ApgClALQAfQBhAI4AawBKAFYATwBqAH4AbwBQAA0Azv+H/0//mf8CAPz/4P/Y/93/CAApAO3/L/+//gX/e//T/9D/uf/Z/wIAHADo/23/Qv9b/3L/rP/u/ywAMwDx//3/TABmAA8Ak/+H//b/bQCgAIkAVgCQAO4AyQBHAM7/y/8cAGkArwChAGoArgDWAFAACwADALL/rf/F/+L/PgBaAPH/Z/9l/6P/f/8q/+j+8v5a/6L/jv9c/1//X//z/qv+4v5d/9X/8//4/ygAMgA5AEQAEADy/zEAcwCVAN0AHAEzAUoBQwEdAfsA/gAGAdwAuADhADcBiAGJARYBiQBUAIEAkgArAML/tv8VAHEAYgADAGX//P4Q/zv/HP+4/pz+x/7y/kT/fP9d/zP/Gf/8/jD/Xf9C/2j/mf+f//3/fQCUAEAA7//e/yUAtwDcAIIARgBtAOQAKQEFAa4AVgBUAIMApQCaAFEAIwAsAF8AiABeAPr/dP86/4z/0f/C/3v/R/9K/3z/n/9w/yv/Av8M/1b/cf9A/wD/Av9Q/6z/2P+k/1n/Z//A/+v/1P+w/7f/MgCNAIIASwAYAF0AmgCZALcAogB1AFsAawCXAI4AWgBSAIAAfgBHABUABQAJAOv/p/+B/6X/3//a/8H/sP+I/3X/hv9v/1X/Yf9e/2L/rP/6//D/2//J/63/vv+6/8z/7//s/wsANgCRANwAqAA+AOD/4f9NAJIAggByAIIAuAAFAd8AWAASAPX/DgBfAJYAjwBwAGoAbQCMAJcALQCy/5v/5f86AE4ALQACAAEANAA4AN7/hv99/7v//v8WAPT/0P/z/w8AAwDP/3n/dv+N/5T/sv/Q//X/BgD9/93/v/+7/6D/iv+B/7n/FAAsADAADADs//j/4f/N/7f/wP/r/wQAKgBCAEEAQQBFADoAIQAKABEAPgA9ACsAUgB7AHUAbgBiAB8A3//g/9v/5P/f/9T/9P8EABkA3f+K/7T/x/+s/3T/Pv+C/9//6P/A/4f/Zf+W/83/tP+C/3P/tP/1/xwALgASAAAA//8jACcAAwADAAEAMgB2AIwAkAB4AGwAXQBKAFUAVgAwABYAHwBcAIgAdQBnAEAAGAAGANX/of+M/4z/kv+x/7j/q/+X/3n/gv98/2z/dP9l/4H/tv+//9D/+P/o/7f/qf+9////JgAPAP//MAB/AI4AbQBQAEQAUwBqAFsALAAYACgAPgBNAEoAPgA5ACAA9//p//P/5v+9/6v/z/8DAPr/0P+Y/27/lv+1/6L/cf9a/5b/2f8IABYAAADe/9b/EQAoABkAGwAhAD8AdQCwAOIA3QCLAFgAcwCgALQAdQA3AF0AnQDHAK4AMgDP/97/EwA+ACwAyf+g/7v/4v/x/6T/RP8K/xL/Yf+I/2f/GP8M/0v/bv+E/0n/Bf8v/2D/d/+L/5T/mP+q/83/3//s//7//f8UAF0AoQC1AJ0AlgCeAIkAmACiAJkArACiAKEArgCwAK8ApQC2AMkAvACIAGIAZgBzAJUAjQBvAHYAewCCAHEAOQAYAA0AFgArAB4A9v/k/97/3//r/+T/tv+R/67/vv+9/7//l/+I/6H/vv/c/8T/lv9z/1j/cP+f/7z/kf9O/1b/sv/y/7//dP9P/0H/bv+//8T/gP+I/7f/2f/o/7L/dP9S/3b/2f8ZAC0AGQA+AG8AbgBxAEYALAA1AE0AmQDXAO8A9wDVAKMAqAC3AJ8AfQBVAFUAgQCvALAAgQBNABAA/P8PAAAA2f+x/5v/tv/c/8v/kP9X/zf/Uf9e/2X/d/9w/27/bf+F/6D/nP+m/57/lf+4/+n//v/S/73/4f8GADwASAAjABcANQB8AMAAvgCRAIIAqQDGAMIAtwCNAHUAmACsAJIAbABUADgAKwA5ADgAMgAQANj/y//D/67/qP+m/6f/sf+Y/37/a/9c/2X/av+N/4z/cv+M/6L/qv+F/23/lf+5//z/IAAOABEAGwA5AGUASwAQABYAQQBoAIkAfwBZAEYAYwCQAIQAZwBDABMAFAA8AFMATAAfAAQADAASAAsA7//P/7r/wP/d/+7/6v/P/7f/s//D/9v/yf+Y/3r/l//G/9D/v/+9/8T/zf/Y/9H/qv+H/4f/mP+w/8v/xv+8/7P/rv/D/6//hf9+/4T/tf/O/8z/vP+h/9L/7v/n/wcA+P/q//b/+f8DAA0AHAA5AFoAYABnAHcAhACIAG0AVABcAHYAmgChAKIApgCWAJMAmAB1AEcARwBOADUANABAADUAOQAwAAcA7f/A/6H/mv+R/5P/f/+U/7v/qv+P/2r/S/9c/37/hP+C/5v/uP/b//D/3//S/8//5v/7/yIARQBTAHMAawBhAIAAfgBlAEkATABqAHUAcgBiAEIAQABTADcAGQAWAB4ALQAaAPn/7f/9/wAA7P/b/6j/lv+k/6D/n/+S/5P/qP+1/8T/sv+f/6H/n/+v/9T/6P/p//T/+f/z//v//f/6//v/BQAXACkAPQBSAFsAVQBYAGQAUAA1ADYASABQAEsAXABpAFUARAA/ACcA/v8BAPr/9f/9//b/DgAHAAMA9P/T//D/7v/n/9X/tf/o/xMAEAAAAOL/xv/O/+z/5f/S/9n/BAAcACkAMgAnACMADwALAAUA8//4//T/BgAiADEANAAfABYA+v/g/+X/9f/s/9L/0f/3/xUADQD//+f/1f/Z/8H/pf+i/6n/tv/K/8P/v/+z/6f/vv+3/7H/xP+z/8f/8f/w/+7//P/6/9z/0f/n/xcAOAAnABEALQBYAFgAQQA5ADsAPwBPAEoAKgAeACQAMQAvACAAIwApABgA/f/x//n/7f/R/8b/z//t/+v/y/+w/5n/q//B/63/hf9+/7X/2//n//H/8f/v//3/HAAUAA0AKAA1AEYAVABkAI4AjABcAFcAYAB3AJEAawBVAH0AjwCJAG8ANQAbADAAPQBVAE8AHAAUAB8AJAAMAMf/r/+x/7P/yf/I/8b/rv+Y/57/kv+k/5j/dP+D/5T/pP+0/63/o/+x/8H/uf++/8n/xv/b/wAAFgAbABgAHwAqABkADAAXAB8ANAA7AB4AEQAnADQAOQA2ADAAMQAfABgAEQAGACgAMgAuABsAAAAGAAcA+f/q/+T/1f/H/97/3P/J/6//m/+K/4r/nv+Q/5X/j/9//4//k/+g/6b/lv+W/5n/r/+5/63/lv+T/7P/w//R/9n/z//J/9X/8v8BAP//AAAaAEMAWQBtAGgAPgA+AE4AUwBcAFMAZwB1AHcAmACGAGMAXwBMAE0AZQBjAFcATwA7ADsAWQBLAC4AHgAOABIABwAHAAYA2//M/8z/s/+h/53/qf+n/7L/z//Q/8n/5P/x/8j/t//L/8z/7P8DAAgAJQAiAAwADQAOAAUA+v8DABoAIQA8AE4ARABIAEQAMQAUABEALQA1ACsALQA3AE4ARwApAB4ACgANAC8ALQAxAC0ABwATADsARgA/AC4AHQAPACEALgAgABkAIAAXAAMAAgAFAP7/7v/M/8j/0P/e/9z/vv/G/8r/v//J/8//zv/L/+D/8f/s/+n/2P/S/+z/CAAOABoAHAARACoAPAAnACAAJAAlACwAQwBTAD0ALgAgACAALAAdABAADAATABgAAwAAAPX/2f/P/8b/tP+X/5n/pv+Y/6T/ov+U/6r/qv+j/6//tP/K/9//3P/0/xAACAD8/wUABQAFABcAGgAqAC4AHgANAAYAIAAtACcAEAAMACIAGgAcADQAMgAXABoANwAgAAkA/P/t//r/CgAIAPz/AgD+//P//P/y/+z/6//U/9X/5P/9/wsABAD1/+n/4v/V/9r/5v/o/+//8f/0//X//P/2/+H/7v/6/+//AAD7/+n/5f/i/wcAEwADABcAJwAmACAAAwD4/x4ALQAgAB8AGgAjACEACgD0/+T/3//R/+r//f/6////6//j/+P/1//N/7z/tv++/8v/z//L/7f/qf+5/7j/tf/H/8T/vP/C/7//xv/Y/9z/3f/k//L/CwATABEAGwAyAEIAUwBSAEsATgBWAGMAZQCFAJUAgAB6AGEAWQBQAEoAVQBHAFkAUwAtADcALAASAAgA/f8AAAoA8//b/9P/v//V/9j/tP+i/5v/nf+K/5H/pf+r/8D/yf/E/8L/3f/u/9r/3f/2/w0AJAAsAD4AUABCADkAUwBYAFIASgA4AEEAQwBHAFEAPwAwAC4AKAAPAPr/+f/i/83/5P/p/9L/uf+k/6f/sP+5/7n/qv+z/7X/u/+1/7r/0//J/9H/0f/C/8b/vf/e/wsAIgAxADIAQgA9AB4AHwAsACUAHgArAD4ATgA3ADQAQwA4ACwACQATACgACAAPAAwA///9/+H/z//E/7//yP/L/8j/yf/Y/+X/6P/i/9j/5P/j/9P/4//8/wYAFAATAAcAEAAeABcA9v/0/wAABAAnACgACAD0/9//3v/i/+//7P/P/9L/0v/H/93/1//I/9T/2//p//D/4v/I/73/vv/D/+//+//s//j/CwAdACYAIwARAAQAHQA+AFUAVwBdAHIAcwBwAG8AZgBFABYADwAvAEcARgAvACgAIgAOAAEA9v/g/8z/y//a/9T/wv/J/8H/pP+u/7D/kf+M/5L/iv+h/7//vP++/7X/wf/a/8n/x//b//v/HQAoAB0AEQAlADoAUQBbAGUAhwB3AGYAXABKAGsAcwByAGkAWABpAF4AQgAfAAcABgAAAA4ABgD3/+r/2f/K/7j/sv+g/6P/qv+m/7z/xf/K/9T/xP/K/9X/2//i/9v/4P/4/xUAEwD///f/DAAlAB8AGwAqACMAIABGAFUAOgBCAEYAKwAeABMABgDw/+H/7f/6////8f/x/+j/2v/f/8X/v/+5/7H/2P/q//X/DQABAOb/6v/y/+7/7//t//j/EQA1AEUAOgA0ACsALQAyADIAOQAzACMAJgAvACAACwAAAPD/+P/4/+z/8P/m/9b/yf/G/8X/xP/W/9j/x//M/9L/0v/D/77/xv/E/9P/4f/r/wAAEQAoAEYAVgBaAGkAeAByAHMAhQCFAH8AhwCOAIUAdABsAFcARQBIAEYAOwArABMAFAANAPX/8//y/+3/7P/D/6r/p/+p/7H/ov+x/7P/oP+s/63/o/+J/47/tv++/9r/7f/y/w0AEQAQAB4ADgD6/wwAKwAqACUAIwAXABMAJAA1AB0AAAD2/93/1//g/+H/3//M/8X/y/+9/6z/rf+t/6P/rf+r/6b/tv+2/7j/uv+0/8L/0f/T/9D/4f/z//v/BAAeAC0AKAArADYANAAtADYAOAAsAEEARAAzADEAJQAmACIAAwD6/+7/8P/v/+3/4//G/+D/7P/c//X/5v/O/7//tf/B/8j/yv/Y/+X/6P/8/xAAEAAEAPj/+/8DABIAKwAtADUAPQAyADAAOAAnAAwAEgAbABEAGwAiAB4AKAAbAP3/AADt/9P/zP+8/8z/y//P/+f/2v/J/73/s/+y/8j/0//I/9f/7v8EAA4AAwACAAQADgALACQAOwA3AEkARQBGAFwAWABQAD0AMwA5ADEAMAA0AB8AFAAlABgACAAOAAQA9P/j/8//0P/g/+L/0//S/9D/yv/N/8v/0P/l//L//v/6/wMAFgAbACUAIQA3AFcAUgBKADkAOgA8AD4AQwAzAEgAUgBBAE0AQgAxACoAGgAbACAACQD6//f/6//7//b/2//J/7T/sf+h/53/pv+m/7L/wP/B/7X/xv/M/73/wf/J/9r/7P/0/wIADgAPABQAKgApACAAFAAGABoAHwAlADUANAA0ADYALQASAAcAAwDq/9b/5f/1/+b/1f/M/9P/2P/X/9b/w//D/8f/0P/N/83/4//l//D/7P/Z/9j/zv/i//3/BAAQABoAMwA3ABgAGgAnAB0AHAAjADEARQAxADcATgBIAD4AIwAvADQAEQAZABcADgANAPT/6f/l/+H/5v/n/97/1f/j/+7/7P/o/+D/8P/x/+P/8/8BAAYADwANAAMACQAXABIA/P8CAAYAAAATABIA/f/v/9//3//i/+7/7f/S/9X/1v/K/+H/3v/X/+3/8f/6/wAA8v/h/93/2//k/wsACwAAAA8AFwAiACsAKQAUAAUAHAAvADkANQA6AEoASQBGAD8ANwAdAPH/5/8AABYAEQD8//j/9//q/+T/3v/R/8b/yv/a/9f/yv/Y/9z/y//c/+P/xv+8/8L/uf/E/9f/1P/P/8j/0f/o/+D/2P/t/wUAGAAhAA8AAAAVACUANwA8AEQAYwBWAEMANQAiADQANQA7ADMAIwAzACoAFwAAAPb/7v/i//L/7//n/9b/z//B/7D/w/+y/6v/rv+q/8D/yP/U/97/zv/R/9n/5P/q/+n/6P/s//3/BAADAAAA+v/7/wAADQAbAB4AIAA0AEMAQgBHAEYALQAnAC8AKAAgABIADwAPAAgADQD4/+X/7P/i/9r/2v/N/8r/z//F/8b/3v/a/8z/0f/U/97/3P/d/+3/6f/w//z/8v/n/+7/BgALABQAKAAmACYAOgA8ABwACwARAAkAGAAhACAAMgAoAA8ACwADAPf/7f/o/+//7//7/wAA/f8GAAIAAADw/+j//f8EAAcAEgAZADIAOAAvADcALwArAD0APQA/AD4AKgAyAFEAWwBQAE8ARQAuADwAQQA2ADQANgAtABsAGwAbABoAFADx/+f/5v/p/+v/1f/S/9T/0P/U/9b/1//U/+H/5f/c/9j/0P/O/9r/7P/p/+//9P/m//P/AQDu/+f/8//7//v/CgAbABAADwADAAAACwD6//L/+/8AAAUA+v/9//z/7v/w//H/5f/R/9L/6f/p//D/8//l/+///f/7//H/9P/9//r/9/8DABYAEwAGAA0ADQANABQADgAGAAgACAD+/wAACQATABMA/P/6//D/6v/u/+z/7//f//f/FQABAAgA/v/t/+T/4P/p/+f/7f/y//v/CQAAAPf/9f/e/9P/1v/W/+T/9f/u//T/9//p/+b/5//l/+H/4f/l/93/7f/9//H/+v/8/+7//f/3/+n/6f/l//j/+/8CABsAIAAVAAoAAgD9/xUAIQAJAAgAFgApACQADwAIAPz//v/5/woAFgAJAA8AAwAAABIACAD6//L/9/8CAAAAAAAIAPn/8/8HAAUAAAADAA4AFQAQABIADwAaACIAEQAaAA0AAgAKAAEABAAKAAsADAAIABYAFAALAA8ABwABAA0AEQAJAAoAAwD//wAA+P/3//P/9//2/+r/7v/3//7//f/5//f/7v/m/+3//v/w/+L/9/8KAAgAAwALAAcA9P/+//j/8f/7//7/AgD+/xIADAD4/xMADgAIAAAA6P/+/xMADQAFAPz/8f/7/woAAgD0/+z/BwAVABEAFAALAA8ABgABAPn/7P/5/+3/7/8CAAMACQAAAP7/9P/m/+3/8v/w/+j/3f/1/wMA/v8EAAAA///0/97/1v/X/+T/2v/h/+7/7//v/+7/AAD8//r/BwD4//j/BAAAAP7/BwAMAPn/8P/1////BAAAAPP/+P8NAAcAAgAJAAcACQACAPD/5P/g/+T/6f/r//T//P8FAAcA/v/4/wAA/v/v//H/+v8JAAYA///+//f/CgANAPz/7P/m//3/BgAOABEAFAAaABEAHwARAAUADgAAAAAAAgD5/woAFAAAAP7/AQD9/wEA5v/Y//v/9f/0////4v/Y/+j/8v8HAAcA9P/3/wAABwAGAPT/9P/4//7/GQAnACgAGQATAB8AHwAqABsA/f8GAAoA///3/+//8P/0/+v/2P/S/97/0//S/+X/6v/o/97/4//l/9H/z//F/8b/3v/T/8P/w//S/+z/AAAQABkAJwAuADYAOAAtAEUAWABmAHIAagBsAGoAWQBRAEIAPAA9AD8ANQA3ADMAGAAUABoABwACAAsA/v/0//j/9f/3//j/8//6//n/7P/s/+b/2P/g//v/+//v/+3/BgAdAAwABgAMAPv/8v8MABYA+P/8/wAA9v/z/9//1f/K/8T/2v/u//X/4P/y/wMA9v/7/+j/5v/n/97/9/8BAAAAAwD8//P/9f/0/+v/7f/q/+3///8MAAoABwAOAA4AEAAYABIADwANAAUABgAOABYAFwAXABgAIQAfABsAJgAkACYAIQAdACMAJwA0ADIAJAAVAAsACwDx/+f/8P/k/+L/2f/Z/+H/3//j/+j/7f/o/+P/8P/m/9b/6P/l/9f/6//y/+b/2//a/9z/3v/t//X/+v/9/+n/7//w/+T/7P/0//z/AQDq/+T/4v/W/97/3P/r/+f/1//j/+b/5P/U/87/4//o/wAACQAAAA0ABQAAAAoA9f/Y/9v/7P/0//P/6f/k/+///f8NAA4AAgD///j/+P8EAAwAFQAPAAwAIAAiABsAGwAhACIAJwAvACsALQAuAC8ALgAuACwAKwAkAA4AFAAWAAQABgANAA8AEQAKAAMA+v/1//X/6v/d/+P/3f/a/+D/0v/S/8r/wv/G/77/yP/B/7z/w/+5/9T/3v/c//L/7P/o/+r/3//b/+j/6f/u//3/+v8MABkAFwAcABAACQABAAQAFAASABwAGgATABMAEgAMAP//AAADAPv/BQANABUAIQAUAAkAEAAEAP7////8/wAA+P8KAB0ADAAKAAgABQAPABUAFgASABkAJgAvADMAJgAdABoAJAAdACEALAAeACQAHwAPABwAHAARAAAA9v////f/8P/3/+7/7f/2//D/8f/2//b/9f/q/+b/7P/6//z/7//5//X/6//5//n/9f///wUABQACABUAFgALAB4AEQALAB4AFwALAAAA/v8AAAAAAADw//X/AQAAAAUA/f/7//7/+v/9//n/6//c/+H/7//t/+f/7//5//D/6v/t/+7/7//1//H/+f8EAAQAEAAJAAsADAAIABQAEAAUAAkABQAYABwAIAAWAAkA9//u//3/7//q/+z/9//9//z/AAD0//T/7P/Y/87/yf/W/9T/zf/a/+j/7v/p//H/5P/T/9n/6//x/+j/5P/1/wkACQADAP3/+P/9//r/8//2/wIACgATAAcABgAJAP//CgADAP//EgAAAAAAFAAQAAsABgAUAAgA8/8EABMAGAAQAPr/AAASABUAEgAUABoAEwAcACQAFwAVABcAJQArACcAMwA2AC4AKgAiABwAGQARAA4AEQAbABAABgAHAP//AgAAAO3/5//o//z/BgD5/wAABQD//xAAFAAEAA0ADwAIAAsAAgD4/wQA/f/x/wAA/f8GAA0A9v/1/wQA///0/+z/6P/t//j/8f/7/wEA8//v/+7/9//0/9X/z//h//D/9P/u//j/9v/m/+n/7f/u/+z/6f/u/+//8f/8//3/8v/+/wEA6v/s//z/8v/z/wEAAAD8//r/AAAKAAAA9v8AAAYAEgARAPL/4//8/wIACwAHAPz/DQAFAP7/+//q//n/+v/7//T/6f/y//L/6P/e/+X/3f/Q/+f/4//a/9X/2P/T/9D/4f/U/9//4//a/+n/6////wMA8f/u/+z/+P/8//v/7f/i//X//f/9//v/9P/v//H/AAAHAAUAAgAIABcAGQAcABkAAQABAA4ACgAHAPr/+f/9//3/CAD2/+r/+P/z//v/AgD5//n//v/8/wAAEQAIAPn/AQAHABAACgAJABYACQAIABEABAD1//T/BwAMABAAHgAZAA8AJQAsAA0A+v/+//P/+v8AAP3/CQAKAPn//f/6/+r/4v/i/+//7P/z//3/+f8NAA8ABQD8//n/DAAPAAoACgAKACQAKgAfACkAIQAeADMAMQA6AD0AIgAhAD0ARAA0ADUAKQAMACAAJgAZABoAFgAIAP3//v8GAAoAAgDu/+3/9P/7//r/6f/m/+z/8v/1//v/+v/4/wgACwAIAAIA8f/u//r/CQAFAAIABQD9/wkAFwAKAAIAAwAEAP7/BgATAAEAAwD3//v/DgD6//H/7//0//3/8P/5//f/6v/v//b/7v/b/+H/9f/w//P/8//p//j////4//n/9//7/wAA9//6/w0ACQD1//r/+P/2/wIA/v8BAPv/7v/s//T/AwAEAAAA8v/1/wAA+v8AAAcACQAAAP7/GQAPAAEA/P/5/wMADAAIAP//AgD+//z/EAAIAPv/+f/p/+j/7P/z//n/9//x/+n/4//i/+P/4f/h/+P/3//h/+L/6v/0/+j/8P/7//b/BgADAPz//P/9/xkAIQAWACcAMgArAC0AGgAIACQAKAAQAA8AEAATAA0AAgD6//D/5//c//D/+f/y//P/6//o/+3/7//u/+r/4//l/+n/8/8AAO3/4v/4//v/AAAIAP3/9/////3/AwATABEACwAPABUAIAAjAB4AGgAmACwAMAAtACYAIgAeACIAGgAkACYAEgAPAAMAAgAAAPn////0//z//f/m//H/8//n/+j/5v/q//L/6f/g/9v/1P/m/+r/4v/h/9//5//f/+L/7f/x//z/AQD///X/BQAQAP///P8BAAEACgAEAAoAFwAIAAAADQAPAAkAAwD0//P/9v/6////8//t//L/+f/1/+z/6//a/9H/6P/u/+f/3//V/+D/7f/0//r/8v/6/wAA///5//3/BQD7/////P/1//z/7v/7/xIADQAPABAAFAATAAIAAwAMAAUA/f/8/wEADAD+////DQANAAsA//8OABoABAALAAoAAAAEAPj/7v/t/+3/+f/9//n/9v/3////AgD+//j//v/7//L//P8AAP//AgD6/+//8//4//P/3//d/97/3f/y//H/4P/X/8n/1P/e/+L/5f/Q/9b/3//a//D/6f/j//T/8//+/wUA/f/z/+//8v/8/xgAFAAIAAkAEwAeACMAJQAeAAwAHgA0ADEAJQAfACAAIgAjACAAHAAOAPf/7f8AAAwAAQDz//P/9v/1/wAACAD2/+j/7P/9//3/7P/w//L/8f8CAAcA+//x//j/9P/+/w4ABAAFAP//BAAWAAkABAAHABAAHgAeABIAAwAMABIAHgAiACMAOAAmABwAFgAFABgAFQAWABAAAwAYABUACwAEAPr//f8AAAkAAAD6//n/8//3//n/9//t//L/9//z//v//f8AAAQA/f8EAAsACwAPAA0ADAARACAAGQAGAP7/CwAYAAsABwAPAAIA/v8ZABkA//8FAAoAAAD+//r/9v/o/+H/6f/3/wAA6//t//T/7v/7//H/7P/m/97/9P/9/wEABgAAAPX//P8LAAgAAwD6//j/BAAQABIACgAIAAEABgAWABUADgAIAPj/8/8AAP7/9//1/+///v/9//n/BwAAAP3/9v/4//7//f8LAAsAAQADAAMACAD9//f/AgD9//z/9//4/wQACAAOABUAGQAWABUAHgAUAAgAFQAKAPz/CwAWAA4AAQD9//v//f8KAAoABAACAPL/+v8AAPL/9v/7/wAACQD1/+7/7v/s//b/6f/0/+//2//q/+z/7P/d/9r/8f/t//r/+//t//n/8f/t//f/5P/Q/9P/3//i/93/1P/N/9D/2//p/+f/3f/a/9H/0f/d/+f/8P/k/9//8//4//j/AgAHAAIACAALAAsAEgARABEACQABAAoAFAARAAIACAALAAEABQAMAAgAAgACAAgABQABAAcABgD4//z//P/4//7/9P/5//z/7v/0//D/9//y//D/8f/l////AQD6/xQACAD//wAA9P/5/wUA///+/wEA+v8GAA0ACwAIAP3//f/1//f/BQD//wQA/f/1//j/+f/8//T/8//y/+b/9f/8//3/AQD2/+//+v/8//n/9f/y//P/7/8AAA8ACAABAPz/AAAJABQAFgAIAAkAEwAdACQAFwATABMAGgAaACAAIgAcACMAGgASACQAJAAiABoAEQAXAA8AEAAZAA8ADwAcABwAGQAdACMAHwAXABMAEgAaABcACgAQAAMA9v/7//X/8f/2//H/7//t//j/+f/s//n/8f/h//L/8//o/+r/5//r//H/7//q/+r/9v/w/+z/8v/7/////P/7//v/+//y//X/AwD0/+3/+v8DAP//9/8AAAAA9P/8//L/6//z//f/9//v/wEA+f/u/wkABwAHAPr/5v/7/wwACwADAP3/9v8CABUADwAHAAAAFQAdABcAIAAZABkAFAASABAABwAPAAMAAAALAAcACgAIAAUA/v/3//v/AgABAPj/6f/z//7/9//7//b/+P/0/+H/3v/i/+r/3//h/+r/6v/o/+z////8//n/BwD6//T//f/5//T/+v/9/+v/5f/t//r////7//P/+P8IAAUAAAACAAAAAwAFAPv/8//x//P/9//7//z//P8BAAMAAAAAAAMAAAD1//f/AQAMAAcAAAD+//r/CAANAAEA9P/s/wAACAALAAsACAALAAkAFgAMAAYADgAAAP/////1/wIABAD5//z/AAAAAAAA6//m/wEA+//8/wQA9P/1//////8OAA4A/v/8//3/AAABAPT/9v/4//j/DAASAA4AAwD7/wIABAAOAAYA8f/6//f/6//p/+L/6P/v/+b/2v/g//b/7P/l//f//f/9//n//f///+//8f/t/+3//v/2/+f/4//u//z/BgANABAAHQAcABoAGgAPACEAJAAoAC0AHwAhACQAGgASAAoACQAMABIABwAFAAQA+v8AAAYAAAD+/woABAD+/wQAAQAFAAcAAAAEAAUA//8AAP//9P/z/wgABQD8//j/AQAMAP7//v8GAPn/9P8FAAoA7//1//v/7f/p/9//3P/W/9D/2//o//H/4v/q//X/8P/6//L/9v/y/+z/AAAFAAsAEAAHAP7/AQAKAAgACAACAAAACQATABQADAANAAsAEAAdABkAGQAXAAUABAARAAkABAALAAUAEgAOAAkAHAAXABMADgAKAAsACwAZABsADAALAAwACwACAAAABQD7//T/8v/1//z/+//+/woADQAFAAgADgACAP//CQAEAPb//P8EAAAA+v/7//f/9P/5/wAAAwAAAO//8//5/+v/8v8DAAUACQD3/+7/9P/1//r/5//w//L/4f/r/+z/7f/j/+P/+P/1/wIA///v/wAA/P/0//3/7P/Y/97/7f/u/+n/5P/d/93/6v/+//v/7//p/+L/6v/y//X////4//j/BAAIAAwAEQAUABAAEQAMAA0AGwASABMAEgADAAwAFAANAAMAAgAFAP////8GAAEA+//z//X/8//t//T/8v/m/+f/4v/f/+T/3//r//L/4//l/+T/6//p/+z/7//f//b/AAD2/wwABAD7//z/9f/6/wAAAgABAAAAAAAIAAsACgAAAPT/8v/w//P/AAD3//n/8//n/+3/7//t/+3/7f/x/+//+/8BAP//BwACAAAADQAIAAQABAADAA8ADQASAB8AHwAeABoAFAASAB8AIQATABIAFwAfABwAEQALAAIAAgAAAAgACwABAAUAAQD9/wUAAwAAAPr/9v8BAPf/9/8FAPX/9/8GAAUACQAPABEACgAGAAUABgAVABcADAARAAwAAgAIAAYA//8GAAoABgAAAAgADAD//wgAAQD3/wEA+//1/+//7f/w//D/9f/v//T//v/z//z/AAAAAAUABQAJAAsABwABAP//AwADAPz/BQAOAAAAAAAEAAAAAQAHAP7//f8DAP//BAAAAP7/+f/3/wQAAwABAPj/8P/3//3/AgD8//f/6v/n//r/8v/v/+//+v8AAPv/BgABAAQAAADx/+z/7P/5//H/6f/x//b/+//3/wEA/f/v//H///////b/7P/t//f/8//w//H/7P/s/+n/5f/o//H/8//2/+3/8f/3//T////7//r/DAD+//j/BAADAAEA/P8IAAMA8/8AAAwAEAAMAP7//v8GAA0AEgATABUADQASABkADwANAAkADgARAA0AEwAXABQAEAAJAAIA///9//3//f8BAPz/9f/9//3/AQABAPP/7//w/wAACwADAAYADQAJABgAHwARABkAGgAQABQADAADAA0ABAAAAAsABQAKAAkA/P/+/wwACQAAAPv//f8DAAgAAAAFAAUA+f/7//v//v///+r/5f/2/wAABgADAAYAAwD3//z/BQADAPz/9//8//r/9f/4//X/7//3//P/4//q//7/9f/w//z////+//3///8DAPv/9//7/wAACQAFAPT/6//2//z/AwABAAAADgAFAAEAAAD3/wUAAwAAAP3/8v/3//3/9f/q/+z/5f/i//P/6v/k/+D/4//h/+P/8f/j/+v/7//o//X/8//+/wAA8f/x/+z/8//2//j/8P/l//X/+f/6//z/+P/0/+3/9f/9//7//P///wUAAAAFAAwA/P/3//z/9//3//P/8P/x//H//P/1/+3/9//y//n/AAD8/wMACAAEAAUAFAAQAAUACwAJAAYAAwAGAA0AAQACAAUA/f/2//r/BgAFAAkAFgATAAkAFwAfAAYA/P8DAPr/AwAFAAQAEQAJAP//AwAAAP3//P/7/wEA//8HAA8ADQAXABQAEQAKAAgAFAATABAADwAPACAAJAAZACIAHwAVAB8AIgApACkAFQAVACIAIQAbABgAEQAAAAgADwAHAAQABwADAPT/9P8BAAUABwD6//T/+P/8/wAA8//0//b/7f/u//H/9v/0//r/AgD9////9//t//v/AAD8//3/9//x//r/BAAAAPj/+//8//b//f8KAAAA/P/2//T/AAD5//n/+//8/wQA/f8FAAkAAAABAAEA///y//b/BgD9/wAAAADy/wAABQD9/wAA/v8AAAEA+v/9/wYAAgDv//L/7//s//f/7v/v/+n/3//g/+j/8v/6//z/8P/2//7/8//4/wIABAD1//b/CwADAAAA+f/4//3//v/+//v/AQD8//j/BQABAPv//P/t/+j/6//u//P/9P/t/+r/5P/e/+X/4//h/+T/5P/n/+r/8f/6//X/+/8DAAEADwAMAAYACQAFABoAHQATACAAIQAcACIAEQABABMAEwAAAP//AQACAP//+//0/+v/5v/e/+v/8v/x//L/7v/t//P/9v/x//b/+P/5//j/AAALAPr/+v8KAAcAEAAVAA8ACwANAAoADgAfACEAGwAdABsAIAAiAB8AGQAhACYAJAAdABsAGQASABIACAAOAA8AAAAAAPT/8v/0/+r/8f/s//T/9f/i//L/9v/w//b/9P/2//7/+f/3//H/5v/z//X/8v/2/+7/8f/r/+///f/9//3/AAAAAPX/AgALAPf/8//8//v/AAD9//3/BAD5//T/AQAAAP//+v/t//b/9f/4////+v/5//z/BAAAAAAAAwDx/+n/+f/+//7/+P/w//j/AAABAAkABQAJAA0ADQAHAAgADAADAAUAAAD5////9f/8/wsABAAEAAcACQAJAPn/+f8BAPv/9P/w//b/AQD0//X//v/8//r/8P8AAAcA9////wAA+f/7//L/7P/v//X/+f/8//7/+//7/wMAAwAAAPz/AgAAAPj//v8AAP/////2//D/8f/z//L/5P/m/+b/5P/2//b/7P/o/97/5v/t//L/+P/r/+//+P/2/wMAAAD8/wQAAwAHAAgAAgD7//r/+f/8/w4ACAABAAMABgALABEAEAAMAAIACwAbABwADwALAA8ADQAMAA0ADgAGAPn/8f8AAA0ACwACAAMACAADAAoAFwAFAPr//P8AAAEA+P/4//j/8//8//7/9f/y//3/+//9/wUAAQADAAIACAAMAP3//P/7/wAACQAGAP7/9v/4////BwALAA8AFQAIAAgABgD//wsACAAGAAMA+f8BAAMA/P/5//H/8v/6/wAA//////7/AAD/////AQD5/wAABAD//wEABQALAAoAAwABAAQACAAIAAkABAAEABEACgABAP3/AQANAAAA+/8DAPv/9v8EAAgA+v///wYA///5//j/+v/y/+z/7f/0//z/8//5//r/9P/9//T/+f/4//P/AAAGAAwADwAMAAYABQAMAAYAAwAAAP//BwARAA4ACAAJAAQABQAOAAoACQAKAPr/+f8DAP3/+P/9//r/BAADAP3/CQAGAAIAAAAAAAEA/v8JAA4ABAAIAAQACAAEAP7/CgAEAP//+f/8/wUABgAOAA8ADgARAA8AFgAPAAYAEwAMAAAABQAJAAgAAQAAAP7//f8IAAgABAAEAPX/9v/9//H/9P///wEACAD4//L/+f/5////7//5//f/4v/t/+3/7P/m/+T/+v/1//z//f/0/wEA+f/y//r/5//Z/+D/6P/k/93/1//O/9D/3v/r/+T/2f/a/8//0f/c/+L/7v/i/+H/8v/w//L//v8EAP//BAAEAAAACwAEAAUACAD4/wAABgD7//n//////////f8BAP//+f/6/wAA///5/wcACQD4/wAA/v/z/wAA/v8AAAYA/P/8/wAAAQAAAA0ACQD2/wsAEgALABsAEAAKAAYA/P8CAA0ACgAEAAMAAAAIAA8ABQD9//f/8//u//H/+P/1//z/9P/u//L/8P/x/+r/8P/x/+j///////X/AgD+//n/BQAFAP7//P/9/wUABgANABwAFQANABEADAAIABYAEAAJAA0ACQAQAA4ABAAIAAAAAAAGAAkADgAQAAsADAAKAAsAEQAJAAEAAQD9//H/+/8HAPz/+v8FAAQABAAOABEACQAJAAwACgAVAB0AGQAhABAABAAUAAsAAgAOAAkACQAFAAwAFQAHAA4ADAD+/wEA+//z//H/7v/0//X/7//q/+7/8P/m//T/9v/v//n/9f/4//j/8//6//D/6P/p/+v/7v/z/+7/6//s/+X/6v/0/+n/8v/0/+j/+P/z//f/+//x//v/AQD9//n//P/9//z/AAD8////7f/w/wUA+f/7//P/+f8AAPv/DQAEAAcABAD7/wIAAAALAAYAAAAFAAIADgAGAAcADQAIAAQABgANAA8ACQABAAwADQAFAAUA/v8AAPj/+v8JAPr/+v8BAAAAAgD0//v/BAD//wYABgAHAAcAAAAIAAkA//8CAAUABgAPABgAFQAMABEAFwAVABsAEgARACIAGgAYAB8AGAAOAAsAEQAUAAUAAgAGAPf/8v/0/+//7//i/+X/6//k/+v/9P/1/+3/7//q/+H/5//j/+7/7f/g//D/8P/1/wEAAAD8//v/AQAGAAMAAAAFAAwAAgAAABEAEgD//wQACQD9/woABgD7//r///8MAAAA/f8QAAsAAwAKAAsADQANAAAA+f8EAAQA/P8CAAgABQD//wkAEAADAA0ADQAAAAUABAD+/wIAAgD+//v/8v/w//D/6//o/+z/8v/q/+v//f/1/+v/7f/2/wAA9f/x//j/7v/0/wQAAAD+/wUA/P/x//v/+v/5/wIA9f/w//T/7P/3/wAA9f/x//L/+v8CAAgAAQAEAAoABAD6//7/AQDy/+//8v/t/+7/7//q/+X/6v/n/+H/4//k/+j/4v/i/+7/+f8DAAYACwALAA0AGgAjACEAGgAaACcAJQAiAC8AMwAyADcAMgAqADQAPgA+AEgASABCAEMAQgBEAEIAPAArACUAIAAMAA8AGQASAA0AEgAJAP7/8v/Z/87/zf/S/8z/tf+y/7P/uf+5/6//sv+0/7b/t/+t/7T/wv/T/9D/zf/S/8v/2P/e/+H/4f/O/+v/+v8MABoA9P8EABwAHgAMAOX//f8BABIARAAzADAAPwBYAG8AYgBwAIEAawArAAgAGgAgAAsAKwCJAH8ATwApAN//yv/T/7b/Yf9x/5j/uf/D/4//BAAoAKsAQQFAAc8BpgHdAd0Ajf4j/8UBeQKCAHf/7/xrAY0PXhEkBVr1KO6f9e/+OAW7AQT28+1o8GH+TQHh+oj6yvQd+LsGvAR0/ZUCPARv/aECOQraBD4FNwXM/Nn/nAsvDHMH0AUw+qn/OBGWAmv6PAMVArP9vP1+CLUE/vq//AH9kwLd/UH+lQQ/9HL2ngcd/oP12/5p+pP5xQUn9gH6RRCJ+dbwqP9y/aIEOAhd+pX0b/oyAoENYQtI9Wb6cQbB+GsJWxpb+6b0WAlk/x0DmxOV+kHzRgLq/NQFwAIr/L8PNf336sIIOw+4/yb/YPpo+6gC9/7fBL4EH/bN/MYD/vax+2UFJfir+SP+tve8BVwCs/Rz/sT6Rf12DBD76PVTBmH5Yve7DKEPAvtr8ZkDUwehBToKCP/Q82r6eBBMEP/7pPr0AysBnvq8BvsNwfwg85z+QwUPBNgERQIrAFH5J/ofA6//JwS1CYr5pvLyAVUFxALVBeb6LO4K+1QN6f2E/K0IQ/Lv9KYEyv+WB1MEue8j9q0MhgY7/sj8/ftPBln9gv9aClMBvQWi/tL3+AqCCJn+rgWoAW7/1gUjATAA8wGtCG4O9Pap7+YFiAdXApb9zPGs9oD/jABtA975DuyS/HMKufiu/y8Cx+5N/6EBpPtYCWEDm/4N+W/89Q4dCPn61Pql+ZL9kxDDE6v81/TZ/LgFlQheAy8D3/nw8xoB0AsxC+D7CvxB//H0zwOaBQr8bwMAAJjyh/ITDuIMvv08/XXv1/zAAbQCzAzx98v4Tfw1/hAMNAIj/XIB0Pb+62EJZRtr/jr0/vKD9moN8RbZAM7w1vvy+GsB+AurAdUDMvlr91IFEQnrCoD6u/Ll+QAGHhEx/nb31v6I+rAGEAxG+rL1lAElABz+xwDd+XcEFAmI99D3fQSmBoMB2v0l8hz8LhHhAb373fuJ/DcJUwAv/+AAdPsvAbECsgFI+7D+cQRs/HcBkwU0/cn9pgWf/hL3rgWACMD5FfxvBin+YfqWB2ECL/kAAOj+tPr+AwwIlfmG+sQHiP/0+i0ECATX/Zr6pfvEApsHXAHB/Gn/C/+C/G4ERgv1+QnyrAPbCen/kfoxBewDIvVG/EwEhwQJBKj7+PtVBOAFofxy+hwCQf9b/o8BYv9l/vwA4QZkA1T2MfcUBZwHxwE+/T32wPzuCJYDqwCjApr4MPriCIwE+/pBAXkBofrEAukF+P24AEcAo/wvACX/yf1+A4QDIfr7+WQAPgM7BsgAgvno/I8AzwJWA8L8av/pALX2LwN2EFj/7vVt/R7+bAC3BBoBkgEM/F/4hAdmCS7+NP2F/mL94gLsAwv8cv9NA8j9UP3JBBUD7/2CATz6M/wwBN/7gv/MAwb/BgNqBP361fuNBSQAbPst/Xb8vgO8B/7/lQAXA8r63v4hBFD81Pof/lMC5gSTBI3/efxrBM4AuPdf/cb//fxCAm8GkQJ6/j4A1AG++wb9rQPiANj/ef7Y/J0AiwKGAs/+rv3DAAoAxv4H/xoAmP83ADQBVf9OAnMCCv29/10BVf9uAxQB5fx5/379bgDPBJ//+P0qAV4DxAEj/kD8wv3qAW4BagHpAY3+lgB7A/r/k/z0/P793/89A90Czf13+/3/BgFv/ngBlACj+6b89AD7AiECYwIl/gD6uP9rAjwDLQNM/HL9PQF//y4CfQJ8/3D/Ev2+/SQCdgBc/14AZv5H/sz/RQEtAj4BLv/K/Y/9a/8hBaMErvwO/PT/AgCtAWoDJwHK/+z+5/0i/wYCNQKD/nL90/1Q/20CdAIyAZL+SPsa/ZoBpwFGAbEBEP5Q/Zj/4QDRAscCkv8i/Zn+rf/tAsQE6P3O/dcBAAB+ASID1P66+7//xAGOAFICSACj/Wz+Xf4S/roAYwMKAAr/VwBK/oH+jv+s/7n/iwDw/7v9zAEiBfD+Jvyg/kL9jP+UAscBvwLi/3H9e/8mADr/Lf4wAHgBIv+j/10DhAIGAMYBMwDV/OH98f9xABv/DP5LAOADcQOkAZ//X/yh/On+qgDn/8/+2AFgArf/OQEQAoL9ufxrAPIALwAOAIT+2/0ZAaECWgHMAKP+5f1s/9YA7gH8/9r8wP2GAQUD3AJ1AF38O/7RAp4BKwD6Aa//fP3C/vn+3QBCAdQAEAHH/pEAJAGg/d//cgA6/U/+w/4IALUDpQOHAXr+bf/kAV/+q/7RAFb+kP1Z/zECIAQ9A7X/cv2r/b/9EgCWAEj+0P43/yYAMgLLAbsBygA6/rD+Kv94/pgA/gGI/+v9BgD1AukDVgJJ/vz7F/+VAH7/OAGF/7P92wCbAY8BugBg/tr++/5+/bv8ev5AAsUC5P9C/6cARQC+AGkBSP7Z/GT/YwCSABgCjwKRAQoA9f9zAR8A6P21/jr/af7Z/0gCMwJuAd0AhP9h/lT+8f5L/+n/n//N/kX/ZwCAAr0CqP+O/cj9iP5u/3T/Zv+RAIwA+ADXAbAAbgCqABH/A/18/g4CEALZAHQAt//E//X/QQD0ALX/hf7//6wA7v+s/14ArwCy/67/l/+S/4kA+v6w/bn/GwGSAU0BAgCF/23+0/5uAKv/9P5o/wcB5AAvAOEBgADJ/lAAawDn/sT/mQCP/+IAvQCvAOYCmAHx/3/+CP5f/5b/bgAEAUIBsgFNARsAZf+S/9P92Pyd/vT/fgAgAYYBPQHfAEQA3/83/yb+gf5J/xgA7QBMASQB0QDvAOj/Kf9l/5X+pf7Y/1sAZwBGAc8A3f7l/xkAPv5m/o3+e/9HAWQB2wDSAKoAyf9X/+H+4P6m/6v/UQBnAZEB4gBlAI8AMgDY/1T/NP+u/1f/TP+Z////TAAtAO0AjwDh/nf/5P9z/34AcACu/1j/OP9SAP8AqQELAskA5P8a/xj+5P5xAAcAr//AAMIA6wDBAf0Aiv+a/6b/9/6k/83/3P4E/w4AaQGaATIBggCE/4H/RP66/f3+Fv+j/9X/v/9TAWgBCACDAG0A5v6c/+b/wP44/+b/j/84/+EA0gHtAEcBpADs/lj+U//w/0D/1v/R/2n/wAA3AbcAfAAeALv/b/8T/yT/m/+w/3T/rf/lAMMBegG0ABkAVP9x/ib/2//l/7AA3wBjAUoCIQKMAWoAmv/W/24AXwBdAOsBZQKjAd8B/gHPAWwBiwC3/3f/dwD9Ae4BlQB3AHsBowFvATQBXf+i/jMA8/+b/8oAJQHOANr/4f6z/kr/sf/9/t39SP2C/Xn9qP11/dD8L/2+/Bn9VP3U+/n7g/uZ+ub63vrj+538vvwW/ZX85Pwn/ZP86vzd/EP89Pwj/sT+kv+2/yf/tP9SAPMABwKFAXoAbQA4AasCYgPjAj4CcwLvAicDyANaBCQFRwWDBLIFuwblBcQFWwZyBgEGIwfLCRsLlQreCdMJlAmXCVMKrQplCT8HvgbeBhcHZAeeBcsCNwEzAXwBJQBm/TT7n/lH+WH5Nfj899L2RvTP80fz4PGy8fLxSvA87/DwLvHS76XvLO8o7v3uyO/i77zxuPJE8/H0jvaV+E75Q/oE/AL8vfyK/pz/tADFAuIDmwOoBVoH2gYrB50GUwYQB1gGnwa3BksFOAbgBqQFngUoBlMIcA2sEtEV/BbiFmIWShecGToaTxgrF4IXhRhqGr4acxl5GPAXcRfVFcUSMg34BjkCx/wJ+Rj4Bve09dXzbPLt8HLu4Oyi6vvmEeRa4nbgiN5w3gvfFeAU4uHjieXk5vXnLuhl5ynnhOd26HLqo+xK72nywPTn97b7z/4RAnkDzAN9BbQGRQdJCLIJBAtbCzIL4QzEDooOVQ7GDOcK5goqCncJAwl1B9QDBgCoAKUG6hHrHN8g1x0LGE0XhRtuHhkcGxQCD+URRRe/GVEXShKYEOkTKhcNFk4QpwjgAcn7VfXj8ELx+vLG8wzzZe8I7pnwVfIV8LjpveRk4xHjsOLV39PbjNtK4G3n2uzV743wA/EB80nzG/My9a/2UPbS95H6mfzLAIYF9ggdCysOHhJMExAVfxSYD5cMJwswCkkJNgdXBtMGLAUeBDoEmgEW//X9RvvI9mPzYfBT7azrseoz6+Hp2ufF6UPuTfZwAd0I6Qe1BcgHDwzwEQoVqRIRELsUoB1aIsMj+yJtItslFCowK94orySRH88ZghNEDf8JuAr1CTEGygGu/Fj7Mvv7+Lj1kO7C6eTomuYX4g7dpNj61tPa7d2m4Gzir+Fq467kc+af54jpueuk7DzwpvCs8hH3KfpH/woDxwZKDB0SvBNaFOoTiA9JEMwQBA8ADo4K3gg3CcAJmAc5BaoDMgBUAAv/hfkp9Wbw0O107UbroegB5/zjY+PT6hT1eABICe0I2wXJB3QNMhKrFTMTzg2CEtEa9x+mI8chmyBtJ1IuqjBkMIArEiQ2HzYZXBBdDMkKuwboBCgCwfuq+Zn7hvlo9afwE+tA6Fvlg+Bu2VrUENRY1TLaXd1e3W3fkuHn5AHplOs77KztlPGn8qjyH/T29dD5H/9UBGcIYg7QE0oX8ho0GqkYbhgtGFUVXBGVDloIfQf5BogDIQMAANb/df6b+1P5//To8kTu++pK5wPiWd+J3bLcbtpF3Gvhguwp+tX+JAIaA+0Eng3hFacXmxSsFUkYSx36InQhFCHCJA4rITIhNYk1XTPHL+kroSZpIPUZFxX0ENUKmALX/GD7jvnf91n1PO+E6/vqA+gb4gDbENX90uHUS9aD1dzULtVw2Jvc3eC05HXmR+u37w/xOfOK9Ab2R/rg/skAmQXkC2YO7xKGF3AYIRpUHTcenx2bG30WghIdEJQM+AjVBqQDoQCE/1L8y/hm9mv0evEH7xvtJegd5UbjyN/v3GHaqdhZ2/7jTew09Ff56fiP/o4I9g8iFzcZrRbDGOEeTiLdI6AjCCHqJMcsjDCGMvoxvi9wLfIrWCkKJBIhLhzWFF0O0wVx/pb6Dfgz89Puq+xK6fznNObD4KTbONl82QjaidqD2KfVgtbT1xvauNxp36Hjm+c57Mzu4/CK9Pj3av2EAhAGWwloDTMR9BKmFboXTRmoHKsdNhzGGoQYHBXAEiQRSw2VCpEIPASMALv76PY89H3yvfBx7WTqJeaP4w3jAOEB4NLdrNvF25jfCedt7WPzxfbq+LD+jwcSEPAU+xajF0ob6yBdJDomvySbIwkn1ysQL3gvsC5gLW4rHipQKKMldSLvHlwZpBE1C/IEj/+U+w32vO/f6t7nsOTU4fXdtdkp2R7aTNuU22/a7Ngn2CPZM9q62/Ld8uAb5JXmCun36z3wQvWb++4ArARhCUMOhhJxFIMW0xixGq8dCx41HDMahBhCFg8UTxIfD2QNOgujB6wD3f6c+zj5j/fR9K3wk+y46BPmHOMb4XzfZt2U20Tav9qA3ILhi+h77rvyL/dt/vQFxw0gFMsWFRkwHWsiACXLJLAjgSMMJogpmSsZK58pzCgDKVQpFSgeJusjmSBmHGwXNBCsCWkFjv8V+STz0OwG6FblC+K/3R7b0Nnp2Vnb2tou2VXZwtpx3LDedeDP4FTiXeUN513o9+op7unxzPbH+rj9XQJ8B5sMdxF9FTQZUBwNH6gfyB5dHI0ZDxhyFQATvg9KDBcJwAWrAxQAOP3f+tf4GPcB9NXxku4R7OHpA+cT5QLj2OF032Tdytsz3BzhXeZX7FPxnPWO+68DrQzWEg8YjBu9HosjDCcTKHomdSVqJcgmVyhRJ8sl9iP1IjEiryD5HgQd5Ru2GXIWGBIuDQIJNgT+/vX4A/OG7aroiOSs36PbLdkL2RTaatqX2r7a2dvx3a7gjuId5B/n/ul27HHu8e898WLz2fbd+cL8vf//AgYHFAuGDpoRERXRGN0bgh2qHRcc9xn1F08VIBKpDhILVAecBIABwv2c+3X5hvf59SP05PFs72/t4+r26EvnneXq5Ivjv+FB4EvgYuIY58Hsy+/T8jT3/fwfBaMM6RDJE8YYrB7HIxon2CaVJRAm5ScXKSwoGyW5IU0gaB/bHVgcXxppGDYXNRVzEfsN5ApZBy4EAgAg+gv1bPEZ7YvoUuTg35LdbN1x3LjaA9rD2aLaFd7G4CXiNOWk6CjrBO6I8JXxCPSu97/5Ffyt/pUAbAPIBjMJUQtJDpMQzBLcFdcWGBf8F3YXeRYNFq0UthGhD/wMkwjqBfAC+v5a/Df5HvVi8uLwKO5K7PfqWOhT5/bmGead5Zvl3uS141/ksuVA6fvtSvDL8uP2VvxFA0kKmg7GEScXeBwnIZUkCiW1JOgl2CdLKNUnISbXI3EjhSLiH28dBxtrGLIW5BTkEOwMKgrlBrADPACS+/H2vfN28CPsL+g25BLh5t+d3pjcO9u92qraH9xJ3sPfjuJ65grq3u3R8Yv0fPdS+5T9df/qAcsD5wXhCJ0KQQsLDmQQ8hGvFN4VqxXwFZYWChZuFVIUThE1D+MMzwmKBuoCMv9R+3L4A/Uq8vfvFe2T6xPqhuhj5xfmxeQu5JXkzOPu4sbiV+NZ5gHrVO+s8l/2kvo0AHMH4gzVEA4VlBmZHhkjQyVkJfgl/SYPKGQp1SjDJu4k+yKfIKgdtxpPGFkW7xNiEPsM9AlTB7UEHgHB/Kn4z/Wv8pPuselw5PvghN+k3iXdANty2aDZetth3WXf6eHm5Ljo9uzk8Bn0bffA+rf9vAA5A0sFigcJCkEM4A3FDwMSBBQJFl0XYxdEFz4XwhajFfQT/xBqDdUKowfSA08ArvyQ+c/2VPR/8evuuOxC6orokua+5HPj2OG84Jng5+Bq4G3gROEu487n7ewT8Wf0z/f4/AcE1ApID3kTHBgRHcciySY7KNkoJSqEK3wsYCwOKpQnqCWGIzshdB6AG+UY1hbiEx0QuQwQCbQFQAJl/Uf4UvTP8Ljsr+hT5Pnf+N1M3R3c5drJ2VDZpNpJ3VDfN+FF5IjnXet8757ycPUD+ST98gCwBOcHuwrtDbQQjhLFE3wVHReLGL4Zaxn5GMwYQxgLF00VuBJVD7EMCAnNBBoBLP3D+aj2F/Tx8OHtqOsP6STnGuUj48ThnuBp35HeAd8u3xLgQuHN4cvjNOev60rw1PQ4+Rf+IAWMDFsT2Rj1HI0h2yZtK7Utai4XLgIuAS/RLhItoyoSKKglKyMMIP4bmRi2FQsSBw6fCdAErgAK/Wn4nfPt73jsdemB5mvihN4K3HDaYtmN2HjXE9en2O3a/dyq32zinOVX6lTvH/Ow9sz6sf7UAgcHTAobDeUPYhJTFCkWpxfiGGQaixvhG1kbnRpCGWoXnBXIEs4P4wxwCaEFcQH4/GL4FPUQ8tTuJuwI6WHmlOQ3477hZuCJ38DeEN+F3+rfs+BC4cnhleIW5evoOu5I9Kb4U/2BA0ELqBN6GtMeDiIZJ6QslzD+Mcow5i+eMJcxdDBILTQpfiU8I1EgMhwYGIgURhHhDZkJAARz/5T7Pffc8gLuk+l55lbk2eCe3IzZQNf31lTX1tat1rfXM9pd3fjgH+Sa54zscvHQ9cX5JP1sAIsEaQgzC/MNrBCPEzgWiBiDGgsc2h0fH54feR85HkYcMBrQF5gUFxEXDZYISQSz//z6mfay8hzvpeto6Evl++Jm4QngG9983mferN7f3sLeXd6O3hjfNN9h327go+Ny6R/wDfZ8+5gBqAlsE9YbYCF5JaspvS5RM0U1TDSaMqAyaDP5MkMw/it7KPIlVyNOH0EaPxZvE+YQpQyqBvMAQ/xN+GnzSO1O5wPjPuAg3SXZ9NSM0r7S59Ov1BLVHNZ92EvcPOB74w/nr+sg8Uz2cfpq/YsAoQSRCAsM0g6MERkVOhnAHM8exCCjIhskTyXqJMsiASA/HesZqxWkEPgK0gUuAW78Nffq8Wvtv+kZ53rkvuGy3/3dCt1b3MTbVtvO2q7aVNpR2uPaP9vU2yfcCd214FDnFe9P9rz8jwNgDBUXEyE8KAotHDHtNWw62jsQOgg3PzUJNVk0sTGYLe8pLidLJEMgHRuCFl4TRhBjC4YEkP0v+Kjzk+4m6Jnhvtxm2WLWedK7ztvMgM2pz5jRqNMb1qnZc97K4qTm9eoS8FP1L/pK/mcB5QR2Cb4NaBHzFPgXBBuYHnUhMiPAJP8l9yacJ60mXCQ0IUsdlRhxE8MNEAcEAXv7Bvbp8ALs+Oed5Knis+A23qHc4drI2X/ZIdnG2IvYkth52JLYudg12X/a2dup3Zrhhui18dT73QQMDN8T8h13KLgwazVIN2U5yDy8Ppg92jkPNuw0JzWPM0AvMCpFJiwjfh8iGhYUkw8vDEAHAQC69yfw6epc5ofgR9rg1HzRnM/JzW7LLsokzKvPqNN517fa8N7S40PoyOtw74T0SvqY/zcD7gWVCUcOMxOCF+gaXB6AIikmsSjvKSsqRipKKv0okSWCIcQcXxfDEToLfASA/gn6UPWA8FDsoufc5BjjZ+Hn33rdUdsw2fLXC9fK1TfVstTY1FnVM9YA2KTadN0Q4LHi3uaj7/r6yQUxDtYTIRpqIkAs8zMbNz04ojlEPBc+Bj1pOUE2mDW1NWo0wTA2LGgomiQdHygYKxFcC2QGkP949mTsGuT43sXaKtYQ0WPNLczCzJvNmc04zlvQTtRN2EHbQt6Q4YHlAekU7NLv3PSN+74BewZeCuYOuxSkGu4f1CMeJ1AqhSyCLUEtVCz1KrUoNyXrIDocUhccEmkMlgYZAfX8Qfky9QjxFuxu53PjQeCC3ZLaydeb1DLSjdBmz1jPsM8U0cTSe9S91n7Zutx533zhNeMb5yrv8/qkBzYRlxcpHTAljS9gOKs9rT/yQA1DqURFQwg/Mzt+ORA5TTcQM7UtIin1JIYedxVcDAcGuQH4+3DyvObs3A3X2dMh0KjLsciIyFrKuctNzBbNcc8v07bW09lU3cLhPeYX6l3tfvH599r/Wgd0DY4SVxeRHKYh9iWvKbUsCy8cME4wyi/gLvQsdSlWJd8g8xyAGBoTlQy5Bbr/5/mI9P3uSeqs5TbhEN1+2MPVf9Nd0vPQvM7dzWrN0c4v0InREdNp1KzWGNly3F3fY+Lw5APoLe9c+mgI7hTDHQ0jICg6MKQ49z5UQTtBrUHSQpVC1D+iPOk63DooOgg3dTJxLqEq9SMTGUgMLQIC/L32x+6s42fZINNE0DDOnMvbyYDKyMyJzqbO8s16zrLQ9dK61FfXyNv64Wfope1T8jz4MQAuCaARRhgnHaYgiSMtJoooKCsdLXQuKC9eLyEvoi0rKyMnjCLhHaEYuBJDDHcF5P2o9nrvv+kM5hLjeeD93PnZa9dl1ubVR9Tv0rTQds8Tz1nPO9B40TrU19Y42rfd1eGp5mHqCO0a7wv1m/+7DQgb+SE2JbMoKS8ONzY9tj9gQL5CG0UjRRZCST5qPOw7CjoQNf8uvinFJMAcbhD0Au742fMt8HDqJeI62tXUUtE/zknL+8l0ytvLa8yCy3nLUc37z2/SOdWN2ejfmuek7k/0tfnc/5UGfg0/FFkagx8DI/EktyYAKdEr4y7VMHoxtDEBMawutSq8Jb0fQhm0ErgLjAW+/8L5aPMS7UDouuTI4q/gCt4u29vXYdWv0tXQs89Az6bPDNDj0erTRtdg24DeVuG049fmpuk37J3tvu2i8A35LAc+FmkiHSl/LHIxrTdKPSRAHEGVQYpCt0LqP2U8NDoUOiI5ZTVuML4r2CfpIQ4XGQiQ+gXyBe3L6HHjdt222NLVp9IXz93Mfsw8zRDN7cunyqDKIswBzlvQDdTh2tLjpeyy9FH7+AAoBtsKSw8rFEgZEx00H88gRyMZJ48rPS+kMVUzGjThMsYuuigEIhkbaRR0DdYG4gFf/sz6wfUL8Brr4ue85ZriaN672ZDVxtLG0GTP4M69z7bRRtQi18jZtty23/bh7uIU41HjX+QT5gjnNejY7Af4UwleG+EnKC0KLwMxhTSLN083ITYUN9M5gTsFO8k5JjrQPNQ9bjomNCcuyiifIG0TVQMF9kbvie0w7M3oyOQC4q7fwttl1hfRrs0NzPHJ7sYvxZbGMMqLzqDSXtet3qLnNfC19t/6R/09/6EBvgSYCbIP5xVtG5og3SU1KyEwVTMJNUI12DPJMFIsxCa2IPMa8hS0D/kLgAnwBg0Dgf3a9qLwKOo25Pneidpx1+vUJtPH0YLSHdS31UvXpNeU2IbZGtuP3LXdJt9E4EriTOSe59/qfewS7+D1kQPHFDokuys1K4QpdyrALSEwLjECM7o3hT1cQL8/JT6zPqo/5jxZNXMs2iVqIPwXWwru+7Xyu/B78oHyg+8R6wPmSN951pbN68dyxubGUce3x5HJkc290g3XWdpJ3k/jpOhZ7SXxK/Tk9pH5f/0vBDoNuRZeHpgjoCdxK6MtBy6nLRMtXS0yLRwruSc5JXwjuCACHGAVyw+ECwcHmABr+JDweerY5hLj79+p3RTcCtu02CPWxtPP00fUWtSG1LvTFtUs1ybaRd3M3/LhjeOW5rjoIOs37HTsCfLC/okQEiCDKPEnUiT2JC0oDyw+Lw8zEjk5QLVDAULxP8A/w0CnPgQ3QC1kJj0i3Bv4EJQDwfpZ+en68fng9PDtV+Zc3nHUTcrHxDTF/MgczO7MDc2Tz6bTidZd2HvZD9t13mbiB+a/6qTwFvej/lIHXhAHGQgfdSHlIkgkzCWfJ7spoCyBMMczUTMeMFEsKylFJt8gJhnSEagMOghlAxL9M/bU8UDv6esu57jiPt502hjXJ9OK0C3QJtLX043US9Tv0yHVpNah2W/cCd6A3xHirOUl6DXqbOrN7Ob20AYIF+ogoyKnHyEfjSIoJ9osEDOEOrxCqUdfRslCeUHBQXhAmjrgMc8qXSdDJAkdiRHvBh4C0QB4/gL5xvDX57nfaNerzlTJi8lXza/Q+tDAztjMec0GzyPQx9De0fjU3dmU38Pl4Oxq9Pf7oQOTCp8QdxVXGAka+hupHo4ioCdZLdEyUDYPNugxsyw+KIskkCAVGyYVmRDwDRML9gaOAdj79vbK8Zzr8+Sj3zzb4Nel1XzTjNIS09fUbNWh1IrTJtJP0lrUgNg93Jze5eCi4xHnNuno6RLpiuuK9hgH4BYLIO8hTiBQIfwl/irOL8k0KzvgQS5FSUPEP8w+yT9tP1o6HDI1K1EnWSNaG/YPXAbxAiQDwAEd/LPy7ujg4GrZGdLLzcbN6s9n0R/QssxvymbLOs7L0H/SXtSG1/bbMOHq5gTtdvPd+oUC+AjbDewQhRJ0FDkYHB2yIpIo4y3VMSYzPTG5LHAoriWKI5og+htPF/ETwxGrDrEJnQPP/Qb5kvO67HDlj99l2xjZ5teg1nLWNtc92MnXOdbK1OnT89Rh177aAd0t3rzfSeLy5aroQurd6h/vNPuGC9wZjyCNH8kbiBuhH9skGypPL1c1NzvlPRE8NzkAObw6Hjt6Nt4t1yXkICQdkRdeEAoLsAqKDDMLOgQM+QPuVeZT4bLcC9l5103XX9fQ1brSAtGT0lnW2Nno2vvZD9pk3JbgHObd68Dxr/jU/6sE9gb8BzQJAQ0sE/MYLh0NIDkiaCShJXgksCGhH78exh1pG/oWqhKNEKkP1w1+CUEDhv1W+dX01+7J6BLk0eHw4TviYuFg4Dzgb+A84ALfwNw622jbbt1J4AniaeND5sjqV+++8WnxR/F09rkBzA2gFFAUFxCJDsYSmxlgH+kiiCUtKRgtOC7hKwMpsygbK2YsNSmDIlwcsRl2GeAXEhMDDvYLUAwrC1QFrvsk81bvVO6W7Gbou+P24Svj0+Rc5CDiDOH24t7lQubP4y3hWuFG5cXqwu5v8S71ffrf/xMDoQPuA20GFAttD0MR7BAgEfgT/RcjGmcZxBYeFB0TwBI/ES8PbQ1SDFcLwAilBE4AdvyC+dD2uPPz8LPvG/Cf8LPvkO2f60/rUeyx7C7rgejL5nTnQ+kn6kzqluuU78T0Z/cr9gLzvvL+9zH/fQMQA3AAcgAjBaoLExAaEfEQARMZFwoaNxn/FVQUkhZ9G6kd8Rq4FnsUQRXgFrkVnxHfDukOcg+mDUMImQJbAHgB2wGY/n35IPZG9oz3mfYu80XwY/Dv8kb0q/Fy7TTrduwY8N7yPPNh8+X1Bvp2/Xv+zf2P/tMBCQWpBRUEBgNmBb0JAgzNCtAHJAZwB7EJGwnLBbACgwGNAlQEnwQ7A+oBAAFmAMX/X/5b/df8Qfxg+7L57fcA9yT36vZI9U7z8/F28dbxCvIq8ZfwD/EL8hLzUPPI8mLx4O/87wfyRfW6+D37nvwk/mIAMAN8BbEGQwiKCsAM1Q21DY8NnQ4dEUsTuhMNExMT/xODFKoTfBGxD1cPUxA2EXsQdQ4UDHgKZQnPB38FEQNXAZsA1P/F/W379Plo+Uj5N/gI9kj0HfQY9Tn2xvba9tT38fnu+xD9R/1L/QP+Wf8AAGv/uv7U/sf/DAFkAbMAYwC1ADQBPQEzANb+Qf51/rv+m/6N/jH/RQDFAPT/U/4T/ab80vxz/Nr6VfmT+DD4vPeY9l313PQ29b71K/V/893xPPFT8brww+5C7BLr7Ow08Vr1mvf39xf4BvpY/fL/EwEPAncERAi4C9UMZQxgDZ4QSxQTFgYVIhNKE1oVkBZnFTYTkBIxFCkWUhZaFMsRThDSD80ORwwtCdYGYQUnBHcCOABE/mj9Lv2B/MX6O/hW9vT1q/aV9//3PPgR+a360fta++756fg1+Xn6a/tA+3z6ePqh+0P9dv5B/yEAtQDgAI0A5//M//n/QwC3ADcBGgIRA64DcQMuAl0Ab/6+/If7gPpQ+Vr4Uvcy9lT1Y/T3853z9fJu8ovxTPBl7wjv9+4V7wjvqO4d7gzure/p8tj2p/ky+gT6uPrY/KD/1wHBA4wGuwquDm8QVxBpEJgSLRaTGMUYfheXFt0WRBcPF6gWTRdOGVYbhhsNGU8VNBI0EMgOqgxVCRgGtQMfAq4Ae/5z/IT7rvsL/Nj67PfX9DfzTvNN9BH1WvXJ9TX2O/aW9f70Z/WA9tj3bvgf+Mr31/fI+Fv66PtC/Tb+tf7t/vr+8P4c/2//8//GAI8B8wGWAa8A1f/J/nn9+fti+oL5Xflf+SD5QPhE93r2wPX19P/z9vIq8tfxnfFN8TbxXPHB8UHyW/LV8UPxufGs81H29/fd91n33/cR+qr9MQF5BDsIKgxUD7QQlxCiEGYSrBVfGEcZCxn1GBsaxxuZHCodOx6/HxUhciAdHWYYJxR1EZIPOw05CkYHRgUdBOoCMAE1/+L9d/3V/O76vvdl9GPy//F98tDyzPIw89zzVvQQ9L/yyPH78dryvvO2803zj/PE9NL2r/j7+QX75PvQ/GT9W/0j/Sb9vP23/oH/2f/x/ysAbAA/AFP/x/1P/HX7QfsE+zz6Hvn29w/3QvZ29aH0HfRf9Nn0HvXg9EX0HvRG9Db0hvMd8uPw1vAR8qPzr/RI9XD29Pic/EkAawO8BmIKzg02EAgROhE+EtUURRgHG6McTB3mHQEfhx8qH3ge2h3qHdAdSxxkGfgVLhMkETYPzwzUCUcHtwVMBIUCZQBp/oD9MP1i/G36Vfeu9FbzDvND8yHzA/NW87/z9PNI8+rx0vA68Ofveu/y7uXuj+/x8H/y5fN19S73AvmW+nz7nftF++/6IPtD/Ij9if5B/4X/7v8BAG7/WP7e/Ab8uPt1+9v6pPmH+LP38PYW9jf1+fSE9Ur2c/bI9ez0qPTg9JD0W/O/8fHwkfEZ8/v0oPZS+K/6tv00AZkE5wd8CwAP/RHuE8UUZRW0FuIYThscHQ8egx7kHh0fjB47HdkbNBsqG14aRhhOFYgSkBDiDuMMeQqICEcHKgaeBCUCuP8U/kL9rvyv+3T6EPnv99T2Z/VV9M7z7PM+9NTzY/KU8A/v3+0l7Xzs3+vo66rs9u1270jxQ/M79Ub34/gO+qr62foU+y77UPtt+4z7DvzI/MD9af4+/lb9/Pv++nf6RfpL+jT66/lJ+V/4nPdV99H3E/l1+gn7uPoD+on5Uvnp+Bb43PYE9mD2/fcL+s77Uv2W/gEACwJPBMoGgAlZDDsPaRFDElwS9hLbFKAX0BmdGpAaZho4GpMZVBgrFwcXCRjMGBcYRRZgFBoT4xHsD1QN5wpyCW4IwQZZBPMBXgCt/x3/Rf4S/Wb7qfmS9xT1OfNs8p/yqPKA8aXvte0h7O3qL+oh6qPqd+s77Nrsvu1E7yPxCPOx9Az2XvdJ+I/4jfiD+L74I/mm+WX6hfsH/R/+N/6y/SL9kvw5/AX8pPt8+5/77vs0/DH8PPxZ/Jr81fyq/Gb88vt1+yb7mPry+Qj54fd19/v3Wfkm+5v8h/1K/r3/ngF7A38F3QfMCncNCA+zD3YQQxLHFAEXJxjCGHUZ+hnzGSsZHRizF3IYNhnrGAAY3hbaFSwUhxHZDr4Muwv2CmMJIAfaBDEDugFaAE7/aP5z/cD7E/kk9trzb/I+8eXvn+7B7SLtcOyq6+Hqfeqm6ujqQusi7F3tmu6n73zwnvEo88P0Gfbi9nD3IPjd+Fj5gvnZ+b36AvzJ/Nr8wfzD/AD9Ff3r/AD9bf0G/l3+Uf4b/gP+TP6c/rf+gf4C/o/94Pzs+876l/nV+Ir45PgF+k77YPzv/B/9W/0z/uz/CAJmBPwGRwntCv8L0wz1DegPSBI0FD8VyhVkFvgWNhfqFmQWfRZwF1AYRxhDF9IVZxTnEk0Rrg8SDtcMwgv+CZgHagUZBJADDgPkATIAXf47/NL5NveZ9K3yefGU8L/vlu6C7fjsw+x67PLrvOsY7JHsHO2D7cftpO4L8GDxjPLR8431EPfE93f4WPlh+pD7KvxD/GH81/yr/S/+lP4y/8D/ZgDeAMwAcwAhAPv/wv+E/4//5/9KAA8ARf96/r/95/wj/FX7c/o/+k76avoB+7T7WfzW/CD9h/2l/o4AYQKoA74EHwZ+B8YI5QkVC/4Mmw7kDzARNBKZE1YUTRSVFM0UsRSsFN8UABX0FCUUbxKeEC0Pbw7pDQoNfwt+CWgHHwUSA5UBngDR/8b+WP0v++D4//Zk9UX0b/Ox8mvycPIA8vbwpO+87vru3O/i8L7x8PEl8rbyJvOF8xv0CfVa9o73Gvgh+Av4P/jj+H352/mK+vr7L/1b/QP98/yW/Xz++f4N//f++/7c/gf+Fv3h/D/98f1H/uz9mv2V/bT9p/0X/Z78i/x6/Hv8vvwX/WX9zP13/gD/c/9mAGsBZgLDA/kEEgZEBxYIBgkqCiULVQx8DZwO9w/rEGsR0BFOEpUSYRLJEcAQAhBUDz8OcQ29DEUMTQwuDFQL/gkkCVwI2AYUBT8DOgGJ/xn+ufyT+4n65vlt+YX4yPfO9zP4/vdM9/z2o/ZX9jj2T/Vn9Mv0fvWS9Xv13vXv9oL3s/ZT9oL32vd294T4Sfgb99f4k/hk9TD4BP0J/FH8Qv55/JX7QPwD/Qv9R/vJ/zkE8fty+YoBLf9u+0D+uvy1/QYA5fxd/aH9MvpJ/XX/wvpa+9T9JP2C/qL9wf2DASgBcAEGBEQD2AM9Be8DHgWBBrQFIwjjCb8IKAqAC4cKwwoQC4YK9QupDCwLrgsRDCIJRAhRCjcJgwjzCgIKigiJCQoI9QayBtUD8QOLBJkB/wHBAfn9C//U/xb82fyq/gf9B/75/aj7AvwV+4D50Pn698L2Wfjw9lb1CfdZ9zb3yPf29zj4+vbH9+P5mPZD9mT7Tfpb9xz5WftW+1z66/vg/OP7mfzI/Z7+Vf7y+wz9OwK0/vn63wDt/uX8OACU/Y//IAKs/u/+kgGhAOL9bf5TAPf+G/37/rv+2P+7BJj/Hv8HB/UBdv6fBKUDKABMAoYCPwOTBRcDEgQ4CBIFfAL2BjUH8gMkBDIEjQXrBXoDxgI/BZEFbQFeArkEYwQ6BWYEoQTgA04CxgRnAjD+VQMvBD/++wBOArb+nQFYApMALQP8Aev/LgBeAJABuf76/UABrwEs/4z/FAH/+tP+BQNS+6D/2QOq/oz8KQCH/OL3pQEG/c/2eAFb/+H4rfww/av5dfz1+uT57P+V+9v6Mf6S+/X8T/xo+yj8zP0q/tf4uf2RA8f6ovn4/6v+gP2q/f38u/71AY4A6v6CBAUCiwDBB4QABQKJC8gAwwHkCpgCJ/8PCd8HxPsaBJwHXP6oBMcErQK0/S4CiQnJ8pb9dwpj8kD5LgWo/O32Gv/KAXL5m/tB/K8Bff2I9XgB2QI8+C31XQlSBnbrCgOCEN/51fxBAlH/tApWBVz2CAZbBnn8KgakALYFtgUB9nwLZg0l8d0Afg0N+S/+cwfh/zsAR/ywAK4FXPb3+z4HuPrl/a//lPQSAzYHs/Of9AEICgYP8aP46wcWBqf6QPfQCjQEevZ9/98EMAWG+/36XgauC/H7mfdTC9r+Hf4wDfX/tfihBF8PXAM0+kYD5QzqADj6Zwz6/wD9NAeN+okCAAtn/ub7wgcQAY78XwBa/WIDQ/gh+aYEDfsd/V7/WPi//AMCRfoo/ID8QP01/UT2fwYC+2P09QpVASb07PugC4AAFPih+nMEywwu8RcHzw0P8IYJpw5j+ub3UA2lBL3xRQt5BID9S/w++CoTQ/to6hERI/7h5/4LsQSn5vr/5w4U7X/tqRQPANjjYgUWBpn0AgOr/Dv9QAWP/j0F3/7a/VoLrPzu/CIQr//h9l4LpAsA/d/9QgZPAcMJ/Qet8qUKVw539e8GTw4p+Or+2hNt/J30eBB0BHXwVQcHCZvxuwofA0fu5Q40/gTuUQfdCkbwzuXNFhkMVdL1AxMin9qA8Tcj6OWL8gYbD+lC9P8Y+Pou7+cHFgc99tME6gIs8e8SFAW44vcamg+e2LMNXSTu4LrxKy/b7KHkUi848PHjWCZE9xrmABaoCT7mzPlmH1X1QNwVHOQR5NLl+aEoJ/OO4F4PJgYE87YJ5PsX5/kUogw44uUDwhBnAHvtLv25Hfv9geRb/Fovdf5CydckzBrC2tcFOA/J+M4JM/uj8gEhRfkN6rYh3fs/7bYUmwsv6tAKYw9l5HsepgXC4fYcQfzQ9D0KmwUn9z7xHCN48FLa9jv58SjCFTyS/SfW/yGi5hIJ4wfE3MknrOFw8qAyOMhU+/c0stC383cjvu+FAPvs2w2kHETFgx/OFUzd6x9y6G4FfSoB2Nj0sTbW8D/YLDl1/ZXKbTPQE0XA3x66LkKxiQ25RAW71/MMMsLhwfq6A8LuVx1/5I/m3jBB7MXe8w91CKf+NPP97vQYQBjH0DQENTfm5Zvd3yskGiHGrQquM8LWcPWaJ1T8xuECETQrCdWe6oVNKu5SuYNG4yOzqs4a4jv61IHqyxr6JungXstbPJ8YTMz38SgViSAS27XXRUBiANi0bh/oLnPUvd7/GL0jJ970xUxFfRpVkw4oQDw2sREFvy+L3ePdXzpyDl60UCVCNb3J/fC6Otn1hN9rGH3+gR2M6YvUVFqd7gqncUmALY+i+PkCUVrtuMDoBSw/y+o5toQ0rhhbviUcdgXD4xEqY9Lo7eRBNONv2qYLgSJvAo7LoAjoPCfy4NBKF4QrtgZS10QGVjfn4/jwOSQR+eIA4gIn8S4z4vpoyQY1Vgvq8iEDSfBJJcbyfueZJbUBC+KsETwMeOIkHDwDRdPzEW8dz+bc5CkfLPze5kAj3OUh5udK6Nj9vzBMp/q64yYLZtceJUkckMEcAEkcC+43/G0AeQaE+R7dhzFzCuOzSC45LqK5WghbN/Xm0PSt9voPcBwz0RUPsxA93zkO6hfv7OjKzDtEH/mbWBbgQFvOgeESHj3v5hJ9AM2wfEwFElSZTzkhH+3J7/5AFyMDnfuo7Sf9ukGu16jQyl0y+HLKOxheKBf/E9UhEzQeSwZl8EHwDB6ECpYIMOKu9/VE193ayp9DqCEQsAL9m1Xg4e7HpjFDH9u84/F3VHbtLLBYKvswBdSs6yEelQl46On1SBd5DpbkuvQhLsXpLtNWO0//p77UK98XHbgTKOgvt569/qdeGND0smpLgRz6r5MMlS3o8SbhZwUCHBf4F+pfCHkUYOohBWgKi+e8HND3POZ1H+QCm+oJBK8NFeqVCqcVvMqXAUxC8N76r05EyTsSh9IA/XPGu9m5MlIvEzG4HAxoNC7ZeOYMOc7v3tE8OzQKHLp1I4VIV8Q6y6FTRCTJrtz5amXn3mSyUWElCAO+7S/p+yrt1y7w85LKpDJvL9e6N+taPHERf8J7/fw3guOc8iwc3e4U7rglLwhLwtcaujcT0KHiIytBE9/X0e4TLUsEs76tHQU/Yafq9KlYcckE4/Qf7vUlDw3hBPjQLafTqvjxNVDTNuejPgDxudLxGzkZTvas2pkEgkGp39++5UPAH9O4rQZWM8voS9iFHLMbjMph7e1DZ+khtSQyFyC9wvH5wSY445Tj8DY+7JTPmydNARj/rf3S0Z0riDf7qY3vpXMcyRW1+HFMBO2kZyz2QL3Z9dZSPr8IHMpwM3P8lOfwLo3bJ/xELpDlZu8TFtf50gJ5BCnfiyXl9dLaPjSd55cC7gVP4IIpevl66PUEvxNK/mPlphupEEbNl/2LVuq7hdtWc8mgbuotfgmpQcxLbv7XN75MYnfbW8aNTPnsiuN5GUr+++y0CJQTp+8w8gcSSxlL2k/0czMt8CflPhDZBTD7Ogng6UMAkjNWxl/pC1S11HDN5T+C9o/TBD2Y3YfAXm7n32WqKFUy+ibZSAmwAnMaCN5K5gw01AbSzgICHSnbA1vWbAAEQFzh6dqKO5f5meq0GVr2zgdBETXdWh3+HbDF6hvAI37aAAC/EJ4EG/cb/eX1AQ4vGFTRbf3JJ9nv0OlaC+0DNPy5CWDTfCOPMgiSvh9QS/W4ZARIE/7svhKOELzRUf8NRk/J5eXzP6biIu0PHpH1d+OFHD0I09buHj//JONqJdn1YOP3GOYI+OCmDB8dSs8DBsNCiMvh1HpQcgsLsUoPEkRA2k7YATR+ATjbIRDcCuzu4//RBLX03gZ17Zr9OSX02QTycBcXBWnzpNjKRPLwtKDhbDsP85hmK98mXe1Q7pIDYx9y8Sz0tRVk+cEAChdh7vfkDjjhEanAcxDJKDEChOaj6jUoahOP3/Xq6CkED07YChB/+1YHsB7N0P75HxwKCAMF2L+BCtFqkrS2pn59IhD1ldgnAiWQ3k8DjAD+/jEHhuWJCUUx0sEd3shaMt+gxyY2QPP75U0Tg+pbFVcJgsLJLvsJksg9QmnfnsLOYlEBBK5GKS0onuPK+NoE8hdd/ensJwqo9jgfxfdz0KczifZv3WAyv96m6KwrcdpA/1ceT9hM9lgVWwXF7BTr+htmGUzMhvgGRwrkH9FiI2gcVe5b328gGSIB0Fn9IDJR4X8A/hXt0l0vQBB9tB8pJzkgvGbv4EoP3sruHya35ngIfgALA50RcucQC4cQFe55DEQOrOQMAe0VdgPk8vHkth3YJ9u/OON8XOrkpbqhOBn+w+7mBeLkCBiCDvDOBwc3KP/N8wVNK67H5vZIJxsCcOd661MJQh50+/rSzxjZFv7owQAoAKcUXPo26ooRlQ4SAzTyMwfAAj7/WxuK2+z/2TVn1H/y0jkk7ujdMxbZCdgH9Oq035FHpPUBp8JNVCFgp4Yayyno3KUA9AJr+eoNV/W3+KgIIAba/ejhDBnjKvu02vgSTejTge/uFYTp2Ro2BTPfTACsH2v5DOGeHGEEtPOF/6X+DRwo9xDxG/q7I1oaM6bqKAZS4qYv6lVGiQx7zILuMS+3FmDPbu8PPlzYv+bLOPjZqvzRD0Hlwx1O9oviQiCf5rL/NSYNsiobeUK8qST5ejND/jLiSugBIcQcztIG4SA95wLfzWQOLRtVBlvdcAEOMv3lXd8xHvkTWetm7EIbbgSN8Y8QKe56BsIf6+XU5o4nDRRn0yMIVgrqBa0K6d3wGWkG7urTEOQFFPiZ8qsPqQDLCZ3qq/DaRuvMbt49RXLjvO7EE5Ty6giaEn3d1/sIMqvZTOmILKju+/b5B0T5RxNY7+7ufSF69RT0jQkE51spkwtgsg8nTTTHxYDmWy5zESLSVPqdLp75XtWNHlMVMc65JgUJ5r0XQgkLcK+QOh8Yi7f+I9UfjsyTDt0YD+GhAH0dDfZN258UaiDkz/gFHzBdwfgGnz2eyub7sBUy8SAaaduf9MA+ttFj+Aomw9PlIdH3u99ANznNEgAtRDC9/ugfSt71MMx5AlUlqySYtuvmiGbq2zzUAyhU95YRxu+F4NNHcutItltb+gcuoOFF9R/vrBgs3CN2uqEhnCY1x3YKUCeH5jnpAyfiACHUtC8n9uva+0EI0A/s20qyzW7qZiIs+4wIiu0v5lwulgGc1PwilfDQ99UpXNVj8zYuGQFiwmUYu0BXuxD0jTip5OPtKR6160XyOyAC55j3OQyv/xsKHtwKCE0xY9J64Xc+8vPD3vkRb/rVGfXoqe6bPcLRXO09SFfNNum0RTDaDedIKIj7aQRA5CjyxES146zMUTFR/Hv9/v1V29Y3nv1Fz4UmwfSh9JkrOdQi7AZHF9do3zE2+PCm8QX9IgFdIvPvl9wTHg0TLt7VCc8N8PCJCugGavf9+ngT+wwc4fvuJC28CBDGih1pFPrUACr09/zcUSkr74L73RGa3t8gRw2VwrktLBbZw/UqF/+r2bkz8umA4EMt4vAi7T4Tz+17CTYEged5D5777QNu8+HqGzTy5oLX0i6F8ML3ZSHyybYEUEgcydbqRCxJ6n0QC/0H4x0vavXy4/8vveqT5yovSu7374keOelU/Zwqy+Yz4PwfdhoX7UvNrC72JdioASrmIuW8MCik97/ohDOI0OX1tDs+w0wUdy1SmNQ6aD1Uo9kRShyZAvwAW93xIfQF2dp4OCr0x8eUR1n4ntzjGyvmDyRi+D/PZkIz69bVD0QI45/WMDUc7Kj8nRkoxJUvKigelXE9MS6tnh9BYfk/1oJS2byE8w1MjcHCBCwv6b/pEn8vabVsIzgTpLmhTh3lpNY7P1u8VDEuDsCeGGGL5sm/QmfSxgzUr2zivETb2mQirp4J0TMVq99QQOyHvJpmb9HG5m5CgMGGEEUwq78cF1kNyOy4FI7dryV1CVHGDyae/nD13BsizfAFNzIxxPkIfDEjxtP6dDG47pjpqxcf8sUA8BF+4SckuAZLzz8lqRmC3RkGqBzi20AHWy6n2V3yxRra/Jz+5fwq+pEHZ/0v/doO0u2R8TQfgPJE7UMftuUx9G4sNuXj+mkQNN/2JXcP2LfRI5ss28JQGfsG+eBUN8zbFvUCIxTbbCDA9/Db0yL3/hrzvQzo+ffiSiMGDufL0xSaARQC1RG+zBoh6BZByVUc/RlT5Irw1BJqF+Hz+9weDF84ptKs6GcyoefIC+YAWO46EhPuAh566QXeUUHb5RDnEiZF3hH8nDFb4XjbuCiWA833GgTp2iEejCT8zlf7khrjA6cG/uFz/dU0a+0i4NkYzvXyEmQZirVxED9J6NJg7JYOgf8JGAfvVuSsHs8CTefyGAfrKPnULprRQPOGKE/3V/ys8Nn4ChkjET3dpOxzM6r6lOoeB9P1URpY+I/oPAmg+7wbdvAd3PkfJwTd9hT8I/UCBIYGgQhC5jr7XR+d8YDvhgcJEZD/Gem3AcQT5BC04TzovylFDRruSOxgBHAk3fQk8G8Bt/28H1nsDNsHL2sM1Nkd+/gQIxPw8WbhkhG+ECrrLQ0U9G/onTYU8sDPgiXtFq7mpez3DkQIlQhO/ejjVg9LEJQHIvPt4j4kGhSC2A77xSLV9An9hwnX25QvDwxsyVsiCvLKAVcnBM6V+YouNfBT3/sfxQzP6UT/IPWEHDIFatqWCHMBGQu7BqzeLAlIEoD4tgPB5SIH8iOP3Vr1wAtpBT0N8eqK7xsTzhZz4PUFcAaR4qk8jd8b1wc9iOqS+ecK9+6UD5cSPNdl+/ZFusRw8F0/3MoQFZEbm8ubG74T5dnEGB3/GOJqNJrcAerfPunhCO4OD3sQZfO/7m0cevhd7fACzSYc4LbftEL1527p8Rgt9PAExg368xHmfxbkH9rhc95DM4gBZ9nNL2jZyfzTPWG/QAJeO2jTrOztNb7mA+jzLJHhfPvAGSPsGBHm8OjvpyNX+mXoQwOqDYr1zf4LE0jrXfXFCVYSy/7V0gUV5xjQ4fUJbRGz45b+VSU85UL9wgmo4KMpOu2f7z0q/cp9GD4svr08D3Ap78yrBvYhO97jCwD9EPtiGW7a2BrkE4/McxJxGIf1z/jB+Ej2iCIYAtLNACxO/77m5yHG5AwQnwcB37IM+g0oBYjlIg+9BOjxWiFy5Jj7wRMd9u8AsfynDiTvOf2qHZnzj+nPDOEfIt7J8PctMO635xcZbQMi7oUGrv2CDPkOcsj/FvI2BcgM96QUUP+0FX3aSfUUNLDnVu5BG1bljAkAHoPKhfz1O5vlUuFXGff4eBVi/KXRai66Af7gOhcP8lj3MhRJDFfbegJXKw/ZHf2FIbDmjOmgHq0E7d4YHWfwNe89M63UyfQbQWfNauizSTvIQe8gWi+uOvGLSsHS2hew8z7hUzKd5YQFSAwk2ucbtBD12N8Q+Bk31uka+gJE2dQ9uemX1lkzUe4T7dwoZux46f8gRfj0BjH/9N9DH0MEcfGYAE74nRjy/8vj1wn9ICjtft+SIlwPh9w0Bf4iueA85/8yvvcO5/kJve9dJl7/ScXaMWAOC8K0IAAdac9gDFgYFOCwDaISuO345sEWTChcvkUHFjnEwhER/yRqyeYJ3SJL318HdgrI1Dg5GAa+qv1AWSLnteULHSEC7vMFMgC54/wbTRNz35QFaQeC+mMMnvqQ9GgFghDV9dLywxEN8yIIhhM42u0AAh8a/tLw0uwnDRgps95V3a5BTOZb0uFRIN4oxdVRJfAA0fM1BeZv7wY3pdJy8XA8mNuU7BUpIukb/5oZu+Gm/Lcg5vf746gLjx1R8wvXOBXkMJHWFucQLjn1p+deIB74F+QLIZT4vusuGKz2Lf2zBsnzHAWXDWD1XfKEE0b67Oy8HQD0k+oYKnvbjPBYSMrZZNRBKwcQGd6aEHEPb7v+NAsqe7CkHOAOC96FMd32CL5BQYgQ3rYYNyf8ctMxPgLuFcbXOq4a5bj4GVUnv8/n94kn0QljyRcJVDGU4AT5TBk85ZP46zFp5iPYUy6hAzXcCBfiFP/QHA0ZI4faFhIhAnXb9COpFWHaMfWsHgj47vR7IgLp5dH7PPkbDbu8AvoZ2Qo3CjbKAwH+PrvyVth5Ap0SwBTU9jTeDgx9Enz8gQVJ69H7vheB8GEHNxLW1A8J4y9V1R3u5TNx5vbnvC+83uD1rjV2zRkDjyQF2K8Uuv/i9GkbFdor/gE5X97q3W01R+fM9IAkrtF9JhH0N89YYxLNYMnEUN3kpfHREuzqYgzsCGHt7QfeA/3ttCAw+hHXeyDQBvXx2AMd+P0EkP/NCI8KyeMr+5sjQPcz7YkQd/Xh/iETIu3U/CoZaO8l87kRqPc2Dfb94OEyHBf9ufWWFkTkNfd3GGcKwPq634L/oDJS9MDH5TG5EXu5FDSLGZW5GCKUGcrZ0Q8dBATxHByv8XXjpSkr+RHdniny/QjY2SHUAF/jhyJW98/naxN39wgKcgih4R8O9Qt24l8X9Q8D28YJXwaS/s8NQue+CP4Iq+StF8gMGN0gDx4QUtnuGuQSV8/pITUHDskaK3cX+NVdC4b/kPFgII38JuVtDmgDavR6D94FS+sy/dkOyQHM98gKuf4y7sUTM/Qb+MEssdUW7FQ9i9vK79Exztka/b0p8c6dCpEo1MzID6AYq9gNEMoPzfOZBKP8nPdECfMHHf3a/q/vWw9cEvnd6wskE93rvgPHAJL/agZh+Mv/nQgW9jH8eRC2+K75ggR6/GAFXfr3A54IqusiB2UPIOxmBewH0O+ODl8Dge7AB74DJv2oAtD8aP/pCN32k/hiEwv6I/jsBEL7EgkJAIH+vf3P9HMOowcc8qkAswP/+sMGpAGO9Z8BQQbLADX3wgJIBwz31wMWAe/4bgWF/Rb7wQwM/nPw+Alb/pv9ew7F80P7MgbR+zEFowXO+g/9Wf86+DwQ5wUE70AKAvkM/KEPA/wsAaz72fwQBakCkgEs+eIFzf3i+6EKl/m1/XQEtQG4/6353QL1AJIBuwDj+hgGTv1n95IGIgP5+3v/gALG/d/4VAc/BFn3IAYL/IL5GAwV/Cb78QXx/bj7TwV7BMn4UALVAND8XwWS/A8ATgBkAL0G9vbW/eYHN/4DATj+bf2uAQgBOwDp+xcCGQNS/e79fv+9AnD9PgIA/r33cwt7/8v1PQOdAewBQ/3S/kMCzP13/skBZQXB+Sn70gbzAMQAUv7X/gMBev/ABEz8RACoBWj3AQKBBHr8uQXN/ED5mQVNBG79I/9lAkz7ygCNBSH8TAFkAb/7eP7lBIAEpPjDAO8B7fsQCIr90PkwBVMAT/4ZAD0BEP5SAUgBOPtnBAICLP1k/xD+4AI8A3b+JPtoAq4Dbv0KARoAoADm/XIA4gXJ+3j8KwIZAv/+rP8JAv77YADIA3v+5/ynAL0B0/2+AUb/yf3mAFP/OgQO/WH54wa1AsL3OgAjBov7x/z/Bdv+vfu/AkkB+v5I/c//pwbd/Ln6tgSpAGb+OAH8ABf9AABIBPT+av5j/H0CawVy+mv/CAGXAAsCr/wkAfT/+v+bApj7Gf+jBaX/P/tzACgCowJf/5/6lAUBA1X4nQIdBGv9OAA3AHr+dgGUAq79Ov79ATAAjgGW/oH9lgK3/8MA8/36/94D4voIBAD/HvtOCdL54v45Bqj44wH/AnD9vf0AAXwCsP2t/y7+cAFHASn8mAOZ/sT63wVgAaf5SQIcAm38DgLe/+v9JAPV/Yv9mgQh/0L9lwDz/l4BZ/+gAJgAAvvjAyYCdfuCAUj+m/87BC/9mv0yAm0AmP/O/5cAAwDT/6//wABdAdj9QwNS//36yAV5Ae79e/1gAdoEn/o0AzoBvvoRB/r+lfuaAyEC9/4s/tUBBgG1AHX+Wf/YAxv81ACRAhz8YgMz/lgA9AJe+hAEQAEz+8YCrAFw/ZL+UQPC/tP+/ADN/T0CqP/V/8f+vvwPBeP/gvtBATgCDP0u/s4Fi/5u+yYBVwLMAQb7JACOA1v9vAHU/lQA0QJ++yQCWQHu/eYCBf5U/ZID1wJI+oQACAWj+yMClv/J/mMEcfpWAkwDifqxAtcApf2EAV4A1f+HACj+9gAnAxj9CACDAY/+/wEGAOv9XQHSAij8FQAFBWr6TAJoApr7WwNF/SwCowH3+78D6PxQAvACCfpoAkEBo/8VAIT9zQHeAUb+/f7CAFgAMP+y/zQBdf2mABwDdvstARcCU/5/AIj9FgIuAQr9vwBJAEn/5/9WAcv+0/5eAhr+eAAxAs/7/gEPAqD8ygJQ/tH+MAR1/e3+zAB3ATMA4fx8AmkA4/1iAar/Uv9oAXj/j/5MApD+xP56A6v9w/5RAvj+Kf9uAr//3PylA/n/ZP0BA0f+tgCnAN/+7wHt/RoC0/+K/boDRv8i/yn/OAE4AoL85gAHAP3/kAEB/YcAZAHHALv++f3HAVUA0gA+/Zf/1AMB/JsAMwKj/KoAugBN/zT/EwAIAHoAIQD0/FACDAGO/UoA1P/sAZv9pP8NAsf8bALE/hX+LQR8/fL9HwKqABP/Nv9i/wAAUAOL/lf7ygQ6AkP6OwMOAuT7zQOdABn8agJQAvv8vP8ZA6n9LgCEAVv+/ABP/+gA/P8F/rgBzv+cAH/++/1/BMz+6/ywAq/+kf+CAlL9ZP/RAST/EAEl/8b9/gItAfr7DQEtA2b8twAZA2z86/89AQAAtQCg/fwADAHJ/kcBaP4RAAUCE/4ZADMAlf+fAej9aQCNAZj9RQPE/dT8qgZv/Wr8zQIBAHj/ZQBMALL9KgIpAX793wC9/igCxf8m/d8BAAATAcf9/f54AwD+w/64ASb/2P/hAVr9BwC1Ao39uQDY/8//zAHk/pwAIQB2AAr/TQAtA2j8m//BA7L9xP/ZAcX9CQH9AYf9YAGQAKT+cgLV/nT+FAPlAID8fgGeAvH7ogMzAVj5+AS7ASn8FQKh/kcA8wEP/ncA/ADR/rj/VwK1/3n8ygIlAl/8dgBEAZT/T/9h/6EBFf+t/5kA4f6rAVsAk/6m/9oB8wBA/XgAWgE+AJb/3P0MAuEBZf33/goCbwDZ/VUAlgB7/7AAO/7IABUBVf3IAuD/6/3aAS7+fwF1AcH9aP+eACoBy/6mAOD+tP6BA3/9S/5HA1f+Xv/kAQD9ugDhAkj8y//BAar/CABf/83/UADJAZL9av8vA/z9ZABa/07/FwM9/+z9V/+qA4L/JPxKAvX+iQAKAff8TAGL/1z/HAFl/7X/XP/1ANH/BgA5APf+TALf/hv/mgE9/pQBnQDq/o8Aff/3ASX/Ef9kArP9PwHTAqz8IAHiAeL95gBcAd//6/5dAHoBnP6rAH7/jf4YAlP+NwBBAWX+IgKk/vr+GQIv/qEAXAAN/1gAQv8sAqH+aP2qA97+g/6jArT9FP9GA2MAuP7z/xcAyv/f/vv/qAJWAPf+9f5o/jEAFP+MAFQCZQBfAMH+ov6iAL3/X/7NAa0CuP7vAGD/4/24AGP+PgGLAYf/BgHj/0sAeP09AFABaP2sBO8AOfyAAoH+lfxbAO4A7wEwAJD+0gGQ/lv9lQPf/Wb+wwRh/9H+/wDuAGr+x//xAhL+pgBpAfr+1wHw/o7/fgAF/y7/6f63Aff/KQCvAEL8lQAmAWD9CgG3ATv/2P5rAJT/r/7dAK3/l//iAAYBWgAV/lT/egGpALj9t/+xAXb9cP+QALX+MABjAHv/rP9RAkP+eP9NBDj8jf/5Agv8/P/U/7b9qQIEAX3/hQJcAMH9wv/c/Iv6Kf+G/ff9dgMkARn/3/1V/aT7av3iB00KlhBXDsn+/f/T+Jf1QANwBDcHpgoyCKYBlfv9/4P+lv2T+1f0Y/mc9/T2Kv1I+b77tPtg+Sf8yf5GCi8Jev5O/aX3SvZQBhcSzAg5A58HIP7J8pX77wfJAGYBng3b/wn64waz/TH9ZQYm/Nz8ZwZUBeQBcgNR/5v3xQNNBBcAsAVn/cwFRgFY8gb5Yf12CvEAwvm4CXv80/jrA9f5hvXKBxoGdfOX+YsDxQIU+ZH/UQ1sAwUCwwGL/tD9x/moBSEJIfjL+4AO/QBr/vQRM//B9SP/zP1r/8v0Lv2JDP330fKQBPIDcfwBAl8DH/lj9pD92gR5A7QAkgRZBaz7YfZw/xkDcQeA/lnxiQPd/aj3mAmx/i4BnQh9/aYDeAJZBScRLv3I77T5hQCpCn8KYQN0+73wyvw7Aj0BkRWoANXgL/My/AwAlgqzAIP9w/9P+Ub4qAVNDiYCavBi778FrQij/isLhAoi+2L4WQNNDP8Mxg7fBY711e4k+vYEgQFSAyMHxwlr+UXs2wJwACMA0hWo/9Ht8/iH/uEGrANZ/nsJsACB8ZYBvge3+ar9gwPO98nv/gAADnX5W/ggCKH3zvbiBNX81wRiCNby3/kACEP+/wC3BIL/2wPq/3/92gtQBgP3nAHaAYH8RQq6BeP9FQW3AG73DfzMBFgAwv3GBuQENfpr+QX6MAB/CJwCJf1f9uf5ygmvBS34M/fg/L/9mQmsDcb5fvw/BJD4rPi+B3QNjwWg/yD88/8XArIBIAq3BDUAUgYkA6ECiP6T/OsGAgOG/XMDiv+R+f0AywixAE75EP8lAe8AlwO5/8f6Wf2W/Zv7SAOiBkYCJgPq+sn2OAJe/ej4lQAe+2v51QI6ArX5gfY/+8cBSP9E/GD9BPrd+jz4Cfo+/J31OQGa/ln3rwGd+sb67PoF9S//Nf+M+FX8sv739ur3Tv5Z+gX/IwLt++H9BgDG9xj2NQO3AhD+awWoADP9TArQDo8HNQzmFEcTRBORFe4YlhhNE5MVbRc5FPMYih46F3UT4BGOCkwOLwxtBpcKNwXf/iz7rPU89fj0dPNB8jzxd+4H7a3tAOwd6cjmOens6RLo4eyv7QnmA+QG6AXne+ec7IPsDuwh7YLs2+wb7ZfvKfda+F72EP9L/7v5kf07AHQCkAFAB4oMyQQ1B60HqgF7BU8JzAbnATwCIQOaAtX9TPRo+FgKehyJKIMwUi2/IKAfjyNAKJUv3C00Keki/RXxDo0OahH+Grof+Rz9FtcMuwPw+rz06fBk7OXpa+jd50DjPtzj2DnYct205tTr7uqk6gjnZd1l3NDgiOOu6zjz0fTG9Ez0GPjr/JYC8wz9DgQP8A48CCsJXwejBJgKDg7DErUS3BLTFNENAA+NEHMKQAyZCzgC1vnl9JntF+fC6sbr+Ogh7nPtjebm4zLj3eON4eHhzOQH4k7fX9wy3ATgMeUD6STnBexQ/G8V5yoBNcg6wTQ+NX5A10SOSO5KAU9gSRg+Yz74N+80oz1+QJU9SzJ3IkkaaBK3AozxK+W63CLW49TF0FXGub2Lt2+5x7w9wlfIUsULyQ3H/rtawS/MqtFm3QjthvCj8fP9VAlaEEscLSYgJtIrwDKZLl0poScPK8oqdyeTLPUvnSxbKfMmZh9WFlUTlg9YBuf6ofOp6eHZPdjP2TTRa9C90MbN0M3AzMjRyNEOzM7P9M6+y9HODNKB1GHWpdz54ezkXu009Rz4kPa08+H6Xg1SJbs/+kvFSwlSSlaxW7xqQ3PtcpFwEWnEWoxISz14PKE5/DM+LNwephHvCIL+autt3PfOJMJ0xDC+T62VolCYbZZImSWbJ6U0s9a+nMJ2wCTHr80l06XncvY5/bcFEgdjDngZCyH+LFs5wUK5SoVP4kvVRoNFYkFxPA43vjFbL5onUBzjGAYPdQG3A8b/RPQx8eznKds61ILNG8eVxbjEu8NzxdK/Rb/uyabIXMfb0RLWdtRD17/aMd5e5BLpdO1475DzLfvP+eL85QLf/BT6/P6wC8UjmjozTmddU1vVWxxpUHDDeEJ6D3GrbHNet0bONEMqmSRsIT4cBg0g/3r7mvHq4RTWYMikwHa9n7VXsK6k75fRlvWW65dDn7iua7ymxLPO9dPK1z7m7fb0/9EKnhUsGkkg4yOFKP0xzThbQohLmU27TwtTslBZShxDzDsSOEMxgSfcHloQ2wJe+WXtWeSr4fnegNm300PKGcUWxljD/sZuyaDF9sj8yWLKo8uOzsvY6tqM357mpuRs6q/vN/R6+MD2wP2YAUwAkQBH/Vn7SPfP9H71tf0KF6wv1ECjS/ZLnlIbXwpoeHKIdqpy8GoRWjhBIC2CI4wdwxhmDe7+Y/bQ8LjssOFq1WjPYsljxgfGL73Yst2wmqiEo0ul4Kf5t2LDNshpz4vTb9yZ6gT6UgdoFTIe8CKHKI8mHCsyM9o1ojoqPGA8FD+SP6E68zZfNbEyrzK2LgwoYSB1E4YGIfio68vnweHr1SzOTMaYvii/iMCkw2fJLs331M3Y4db33Cjk2OOP5pftbu5Y7+ny6+8J7RHvWfJS9i75Bv7eAQ795/k6/NP63fnd+or4rvj+BM4YhimLNek6EkEzTgVYkV/0Z6ZqlWkXYlFPcDowLE4nPh7tCkn9I/Ge5R7fZNYjz07JDseLymLJ08NQxZ7HK8JhwFa8Jrg3wy3LBMtezhHSjtj04S/qY/YZCIMWtR+cJxQrkS+5OfE9Dz7AP1M/Zj7FOi80ky2ZKScnniPYIfkdEhpRFrEN7gMa+h/zU+7I587dDNOByi/DH8BYvtvA0MZWylLR09an20fk3un/7Qv15fqD/S7/0v1s+6b4TfVh9Er0zvSs9Ln0BvO17o3uZ/C58O/wDfI69W0AhBNgI6guNTc6PxhJqlEDW9JismYrZ7Vfx1KOQ9Y0uSrUItoWsgVH9kzqFOIi18nJAcdOxYbDXMXiwXLB/sU6xhDDYMR4xjDI/NGu1gXVxtgS3UjiXOr88+D+LAzmGckgHSU9LA009DxqQsxCsUNERJc/XTc2MpUsGSbNIp8bDhTzEPsLoQOH+0H1CvAf7M7l9d+a2k7SDM2oxsvCsMXix6jL7M9o1WTc7+Gn6P7u9vQV/PQCGgaXBp4GYwMdATL/gPon+dP4Evaj8mvtm+qQ6wTrq+lE6Q7qau1l+KsKjRnWJdcxnjluQnFO5VjwYEloYGjpYBJXWUZNOaIxjyTCF/QIGfc+6CndUtIlyIPDWMF/wxzD777awovGeMlUzIvLMc4Q1EHbhd0V3Vvhx+M/5lvtRPV1/nEL1BacHOoiJSreMuY+bUTVRRZJ80VBPxI68zFtKK8i9RqRDj8HpACF+Q31je1q6SfoA+Zu4/jfjN0s2SzWjNI/z0rP0M+p1D7Wjtjs3+XjPumV8SX6xf5fBJIJHAoVDNAIpwdnB2MAlf0l+774hfQC7YDpvOXN4hvjy+Hd3rrfR+Uf8HIBQhLMIO4sHDcKRTJSNlt/Z5Nw8W6Ya+FgMk4PQgQ35SkQHQALNfms7Vrf5dAty5TEccDjwuXBZcGNw6bHbMtuydrIlc1s0hLXt9oR2x/dtd6Q4M3nbO3X+O8HyQ8WGSEgLibBM0FAyEVKSoNOJU11STxA0jRFL+MkTBpfFD8J1/5X+a7xken35avjcuEy333bEtkP1vLQss0EzYvOW9ID1WnYQt5A4CPkm+vB7xf2NP0YAnkGtAiGCnsKrAg+CKsHKQUXA7YAyPqH9VLwn+k05g7kjuCT3MTaKuHl7wb/ew7QHkcqjDUQQ+5OX1spZ3Vthm59ZwFYyEyYQjs0kikiGkoHnPgW6GXYv8owwO69YL4zu/S5a72PwefFcMhoyyHQSdWw3KDfz+Ca5VHm0eV26QTtAPP2/64IqQqUEP4YxSKJKgQxQjxkRGhHu0bkQOM5VjZmMjUoxx/KFl0LswRU+/vwzOuy6bPmjuKF4ArcIdqs2pLWU9SI08XUc9iW2azb8N/F5CTpz+yr8Kv2af/FBNUGeQi5CgoO9wsoCJwHigYoBB3/nfmT8t7qj+g55m7gxNtm2tPateAF7HH47gmfF6Aghi6hOXxHgVktYr1nlG0JaN5ap1C2RWg6Cy8VH+0N1/pc6V7b68uaxADEP780vGS9xL4qwKXCi8ezzanSHNgY3/TiteYk64nqbu1g8ubzW/qjAYYGVQugDrITYxsMIt8oljRRPOM91EB1PAI2TTXgMYcr5iLBGhcTVQiW/n32CfDq6wDomOFI3JPbuNl51z7VGdM11HfUl9ae2lXbJN4l5cTpQepS7qX3pf23/UYAWAe+CZIJ+gnDBvsFZgggBYb/vf39+Tnzr+5C6hbmuONl4MXdMt1235zrc/2HCX0UTyHFKwY4xUfIVChftmkQbc5mxlq1TfZHtkGIM0cjfRGj/0zvmd76zePEjsRawJK5t7Y1tZC4GcBfxDbIMdEQ2TzfF+e86BzrefPT9Ab0WvhA/aUDRgmqCv4LuxHlGXwhpydSLXQ1HTtBOrs24zMQNIUy/Cy5JY4cWxSLC/ABC/mU72bqT+gO4oDaP9gG2LXWXday1LDU3teM2a3bXN0a31/lqutH7lDxbfbI+sX/HgX5BnoJiA0+DVAKuAg9B2MF8wJ2/Zf3C/PI7brqmuZS4IXesdsJ2O/c0edx9VUFgBFNGbglJzXaQcpRImEvapRwEW7QYK9VgU9dRgc8lS7KGAkFb/Md3inOKcULvii6FrcYsDqus7SvuE6+RMc6zTXVkt7A43DnKu1b8vX2jvlN+Jn+igjPCrcNyRBlE5gbWCL/JXEtzjUbOm07tzfXMhw0xTISLEAl2RtSEqUJSP8I9D/s5eqt57jgUttH19vWath61yDWxNZ/2APb89vG2uDfk+e56X3tCvLL9Jz7jQFoAm8FGwuJDckNzwtoCIYIHwePAhwA0/rY8xryT+4K5efg8t9I2S7W1dk33lDr6PzQBlAQBh42LLw7Z0uwWIhmnXEacCNn8143Ve1M3UUUN7ojgxKl/S7nkde1ybu/R706t/qvBK3Vqzeyhbr1vWTGktHz2FPhjuc86tLxPvoV/Pb8lAHuB7cMuQ5wELcTTRh9Hl0l8So3MIA2aTpNOC00STMpMuIt5Cc6Ht8SQwtcAzv4+e+w6zHozuTG31jaXdhd2AvYsdb51B7XgdpU2orbEN+O4gLpoe5I8DD0t/n2/NIA2ATYBqIJpwy2C00J8AjbBywGLAQF/6v53fUS8O3pjOWu4IfcB9l81pvbZOdW9BUDBg9jF0Um0zZ/QppTBWUCbadxaG5mYV5YAFNxSVY99iypF+gCRO6d2pbL8b8zuby227BOqfKptbBMtte8pMUazijYJ+IG6BPuV/Vb+pb+4wDiAkoJkg6EEJkTgxVCF/MdgSWHKActlzRINZgx4i+OLDwpxieZIxYaSg9GB5X/Ific8qTuaev956Dku99X3aPeLt1D3bve8dyY3c7fNt834Dzky+Vl6GLusvC88xf5N/yQAKgESQmVDiMO1gsBDHoLqAjEBDgC6/4G+JvwR+qO5H/ghNwy2LDWFNnH4HnupPuZBfYSsSGJLRk8TEygWopo5XA3bztmnVwEV4JPs0IeNQAk4wzN9gXl8NOHxbe9kbcSryGot6ZNqVGuELaKvebFLNBg2b7iKOoc8aD7bQIsBKQIdQ/xE+AX5RpRGhIcmyB9IxoniSpELaIvAS1RKOIm+iRpInUg4RjuDngKzQQG/az5MPUl79rrxeYJ4TXfwt+Y4APgEd7h3NrcAd1v3SbfJ+LW5WvqJu/w8Yb0efhn+xD/1QRJCYcN0xFTET4OoQyACdAFSAM6/9T6nfVA7izoB+OL3SbaLNcC1aXa8+W98Ez9qwk3FHwiqTGEPq1N5VxvZkNqfWfQXrtXXVLxSPM9Dy+PGbwF//Ou4DTQf8U9vpG27q0AqNynrqsVsem4o8GuyhrWP+AG5xHwOvr3/70FTAyrD+YUOhuSHSUe+hymHeUjdidGJwIqKCu6KLsmgSKPHsMfbh98Gf4RbQr6Ay3/ZflQ9KXysfDT62nnIeQ44evhK+MN4W7gpeA+3z7gLuEP4NLinedU6pjt5++d8af2m/pq/IoBgAe+CiUMxwrOCAkJTgjnBQAEsf/0+C70DO/h57jjeuDR2RjXDdpV3rnq8vnDAFUKoxglI/kxVUQ2UWFe9mi+Zk1gDlzWVR9Rx0ohO4EoTRZqAebtO97O0P3GjL5stMmsJ6k3qXqv4rbzu8XDic201rvgb+ly8cT7jAOYB0MNKhO9FwgcwxxFG4Md0CFAJE4mTyixKOgntSWMIlUhBiJgIaYdbha8DaMHeANW/tb50/Wo8Gfs9uey4rPg9+Ao4cTg2t0/3Kjeyt6c3cLgs+P65ZbrMO/B8ET1lfgT+v/9jQK0BgALiQwKC0kJUge8BWoFHQOb/mP7b/cI8Qbsyecw4/3g4txS2XjgQ+xi9rIBJgmFD34fiC/1ORJLmlurYeVkWmFWV51UT1RnTAZAAi5aGDwHwPWc4unV4MtAwcO4ha7TpZGnQ60msSW4zb/Jx3HUVN5U5D/vdvr5AGsHpQzaEDMY1hz4Gw4cwB02IRcm9ia9JbsmYCe0Jjkm5yQOJDAl5yHRF0gOQggxBL0Aavss9ffwR+xs5WTgZN1l3PfeFN9p3D7dcN6A3ijgYeAy4djm4OuZ7lXyB/Rf9dD5Ef0RAJwFyAk/C+sKSQiFBgYIZwjVBbkCmv1v9wPzu+0V6WjnhuJl3G/eJ+QP67P4FwOtB/UTSCLrLWY/VE/YWVNkIGVRXU5a71fwUtRMND4nKh4YIATj74ngUNMbyKu+47JrqFqkcKVNqiexh7fovqrJEtRU3MDmc/GQ+lcEBgtSD2gWWRxMHs8eYB6GHxAkJScPJzAnBCe/JfAjKSE/IIQhlCDJG9cTnQs5BtgCjP6o+MDzM++O6aHk3N8e3fXe5t8L3mLdNd3o3ZTgleFT4j7mwumz7HjwD/J49Lr4Yfqf/G8BVgUQCH0JegjTBpkGUgZxBdADZ/+e+pj3n/Ii7e7qZudt4lHgI99c5IXx8PrOAsMNZRXOH+MwSj6nS3hbB2FiX7ddaFeiUk5SfUoXOwIqGhUoAULybeId1KTKY790syirjKV1poKtm7K6tzLBfsof1Grff+hx8sz94ASUCkgSVRgRHY8hDyLlINUiGCXmJu8oJyhbJrMl/yKIH3sebx1fG5wXPA8XB1MDvf6i+d713u946lvnxuIR4J/gSuC+4HnhEuAu4SjkjORV5rDpzerD7XjykvTP9i75pfmO+7b+rwAlBPQHSAeHBRcFZQNtAxUEagA7/aH7o/Vq8JHuHOoW5zXka92j3q/o2vDr+pAFCwrIE9cjZi9qPlRPOVciXd1ezVa9UrhTeE6IRWg3aiLrEEcBHu8e4crVv8kAwDq10amap8Wr466ftKC7xsFfzGHXH9456Dr1A/48BqENpBE2GaogXCHBIaUijiNfKGkq9CY7JpYmyyNbIbceORzVHMAawhLKCtgEbQD+/cr5qvPi74Tsfuce5H3i1OFd5MHl9eIs4nbjaeTt5uHn3efD67/vQvF/87X0zfQj+E/7Gvzi/7IESwY9BjQEawLUBPkGUQU+A8//bPoJ9w3zje0D6zznaeAT35/iCuia83D9GwFNCvsWhCLsMn5C80ydV1xcgFh8VqBVbVJCT3xEFDFwH8sO6vys7UbfttECyP28hbDXqsSq2axWsq63urxPxurQhdl/45Pt0Pb0AMcIdw7xFZcc4B84IfUgjCGTJQ8pCCkRKJ8mhSS2IiMgrx3MHCAb6xUZDjIGQQCS/Zb6vvQ08KnsHuh65ZXjuuF446rl7uQ05fblEea86HbqH+qN7B/vkfBQ83r0pvTq9qj4GfrM/UgBxwMYBhgG7QQ1BW8FOwXXBBkCyv0U+oT1ovCg7fTp7uSX4aLfXuKH7FP2Lf64BzUPvxhGKT043EROU5lb1FsuWvpVIFJuUY1L4z3nLLUYfQW79pbn/Nj8zVbCaLbprSuoyadfrT2yTrfuv7TI0dKg3vbnS/Ej/LUE6guiE7AZZB4+IuMiWiLZI4wmRinWKTgnRyTjIRgfpxz0GhgZqxUTEJYIHQFy/EH5kPXG8X3tuulm5zLlHeS85OHk3OSH5fflaOfL6S/rVew47ZXtt+8B8+f0c/YP+Kv4//lv/Ib+LgG7A+4DUgOOA60D2APTA+AB5P5R+2b2IfMk8efsEelZ5azgWOIG6zr0cf31BD0KUhTEInUwwT8gTjpWX1riWbZUwVJqU9hOb0RtNCIgPg78/tXujeA01ObGGLsYseSocqfbqpeu/LO/uu3CXM7t2UbjoO0G+SMD2QylFJIagiHgJXwmgScMKY4rjS4fLmUqYCb+IlEgXB6nG9cXvhN0DS4FKP5A+TD2zPPR7+LqROfZ5JPj0+N75OHl2ed66HHpx+t27TfvsfB+8KbxafST9RT2N/at9Db01PVZ9yX6cv3l/bz9Bf4k/TX+SgHuAZQALf5v+dT1p/TW8QTv8uvt5FXhGOa87bD3WwF8BVQL4RcsJeczOkR6T/pWRltIWNNUaVWSU61N7EEnLnMaiQpP+gzrBt2BzQPAjLVVq9GlP6aJqNKsELJYuCbDbtAZ3BznN/Jh/O4GGhEyGS0h3yfgKrMrpiunLHovnTBALtwpwyTFIIMexBv1Fz8U9w5HB8f/yvnC9czzzvDb68Dnw+RB4/HjouT85Jnm/efK6CPrY+2v7k7wdfDD8FvzX/WJ9tj3IPeF9ZL2s/g0+zj/FQGHAIMAX//o/sIBSAPqAQ0AsPu/9u70TvLT7rPs8eYM4M3gsOb87t36egLaBWIPLxyaKTA7rUlSUp1ZjlqcVslWv1Y0UvpKsTuMJhIVZAWi9R7oLtl3yW69gbIuqraoB6pErLawTrVIvD7ITdS33hPqUPRI/QEHiQ+xF2Qg6SUJKF8pxCpPLXwwGTFSLkcqZia7Iwwiah8yGwwV4QxDBKX8Tvdj9Fnxbeyy5rThx96M3o/fkeBA4gTkXuUH6GTrVu5B8X3yB/N29fr3s/m4+xX8Ufrh+ZL6s/vT/qUAGwDw/3r+4PzV/vYALQD2/n37zvVt88bxge6+7D/osOAG4D3lRuzb+DACfARCDR4adyYOOUNJa1GUWRVce1eZV0lYHVR7TjtASCpyGG4I7/cp6+rcPcyTv2209KqxqBqqRawzsV+2JbxUxuDRFtzR5sjwu/nKA84MHhSQG1ghayRwJrIo8Cu1L4IxRy8AK4YnRSXAI4shSh0MF2QP5AYk/8v5F/Yr8iLtIue54cjex94Z4CzhaOKm49rkaOer6hDukPE580v0t/bX+On6Cv2//Cf78voW+yv8Hf9ZALT/P/+6/QT9W/8UARYAjf7w+n31+/Io8ertkuul5bPcuNuo4Zbptvb0//QBCwvJGLUmxTqqS+hU9105YIBbo1v/WwRYEVImQssq8RcgB3X21OhT2dPIz7yLse6nwaWop+6qbbC/tZS8P8hh1E3elOhG8mT7tgXCDvUV7By9Ibkj6SQKJ/AqjC+QMbEumSlxJrolTSWMI5EfshhsECwIXwAW+/L3aPMJ7Wbmj+Dx3cXe299m4A7hWeHw4qXm+ukw7R/whPBp8Vj01/ap+eD7xfri+PD47vmx/H0AaQHLAHEA3P79/m0CNQQxA1UBU/yn9rr0TfKr7gPszOQZ3NHcmuOW7JT5cgBiAsoNuhyeK+0/uU6CVqJedV6NWVVb61oHVVhM0TgGIdoPNP/q7nPhzdCDwB61UKpmo/mj7KZEq5ixB7hZwe3Ov9um5ivyrfwjBlsQnxiQHj8kYie9J8UowCrxLA4v6C0cKbUk9CGvIBcgAR3tFloPHwe7//355/U48gHtoua14C/dhN3i39/hbeOf5ADmLOk67c/wYPRo9rj2Gvju+Tz7efy/+0H5yfe694v4p/p4/A/8OPvu+tn6RP2DAK4Aof8//TT4y/V/9f7xQe7+6FXg4N435vntX/eW/x4CJgpyGhMqzDvSTAhVSFuSX8Bc7VyKX09aWlAVQCco8hQaBnH0OOSM03jAvbIfqRmh9Z9JokSkyKltscq6isn92Hvkq+8S+18FNBH1G4UiOSj4K24sgS2DL6wxsjPzMXUrgiWwIs4gRh+IG7kTSgs4A5X7PvZQ8uPtfeiP4pLdktsA3fffxOK35GzmVend7QPzMfcy+q77D/yR/f7+OP9C/5T9WPoj+D/31/aP93P4e/fm9jr3FPcj+cj7nPvV+mb5VPbs9N/0R/K17dnoFOTB5EztifaS/W0DoQeAEH4grTBhQPxOr1bzWYVc71ubWzxdQ1jgSic5oSMuEA0CqfId4ePPnL1WrtalqaArn62hYqMtp2Ww0rvWyczYaOQc7y37IAeAEzUfXSa9KkkuKy9eMCAzlzShNJwxNSteJdMhoB9xHZ8YKBA2B5f/UvlU9cnxr+zt5sLhlN4N3knf8OBj4ivkvuZO6p7uEfOh9rX4GPoC+0T8Tf64/iz9kvpj99/1oPb797z4cPjV9ub08PQX97z51/vB+wX5IfZN9NryEfLm73Dqh+W35JvoofGQ+wQBbgUbDbYX6ieQOu1H1VFNWBJZtFnLWnZZCFdXTyI/ZyxMGhYJIPvi7Azbk8kTupStbafRpb+lWafVqRauR7fdw73QRt3X56fxYP2dCfcUFB4gJLYoQyz+LuQxaTReNQw0SzBmK70nnSUxI9IeTBf3Dc4FmP8n+3n3+fHZ6m/kxN8z3pnfM+HO4avhBuIG5bXp3e2x8Wn0KfUv9mD4e/pg/PT8BPua+H73V/e0+ML6m/pM+cP4+/c4+d38nf0k/M/69fZR9Jz13/N/77bqh+K233TnHfB1+Iz/FgBEBdMUwSRgNgdH6EzvUEdWDFbGWAhdIlgxT/BAPSsdG54PswDd8k3iC82Cvnq1X67CrUetuKrzrNmxqbn6xgTTpdt95LPspfYABLsOrhVSG1QeIiE3Jjkrji8lMnUwQixZKbUoxSn3KREl0huGEi8Lwgb/A1P/gvdA7rTlEOCb3q7fPeAM3yjdcdzH3ofkpuqC7mrw3/Ao8lL21vqz/cL+IP3E+nv6iPs7/bL++P0R/BD7sPu1/XT/vP+c/Zb5Lfc39mD1dfWa8afo/uHh3hniM+/B+ln/VwO6BmYQ9iXeOeNHBFQZV+pVuliOWMNXdVjATgA9jCpzFR8F9vpI7Grbi8uNuiWwe62Pq4CsnK8LsXW2ysCdyw7YW+Oa6n7y/fttBT0PLBbjGCQbqR1YIKsk6ShCK4QrkCgJJbsklyZyKOQmTh9eFUAN4gfsBEoBk/rp8cjo1uF235Lf4N+839DddtzX3ljjyOit7WnvQvB88hL1sPh9/GP9Rfz8+o/5KPow/QT/3P4p/rf8Nfyx/iUB7wCS/yT8zPfy9nf21fMB8SrqdeE94X/nju8z+hf/7P4JBy4VDSYeO/ZIV076U4pVFlb3W/FcqVaZTP84KCN4FIQGxvg961vX4cN5t96uVaw4rkKuP69Gs5O56cQz0wnfQ+gi8A/4IwKUDFoU0BgjGp0aphxuIDglayhSKKslGSJNIaEkXSi8KA0kaRtfEzQP7QzQCUIEo/rC75TnfuJv4YziXeGA3tXbqtpi3mnlcOpG7X/uhu6B8Xv2ZPlJ+yD7nPjr95f4N/m9+h37YPn89yb4b/mT+zz9J/xG+Xn3J/Z39cT2+fQT7groA+Sj5TPxp/ur/wwD7gSiDLsgwTM4Qe9MN1B2UONVpFgEWjtcilOSQnIxiR0EDtQE3PUa40/RRb6zsdatp6qOqR6rMqtvr8a5lMQ+0TreA+dP8Oj7RQbkD3MX5RqOHQkhsiOHJm4pCCrgKGEmfiOaI1Mm1SdcJaceixadEAEO9Av5BjL/q/XJ60jlW+K54Dngi94H27nZf9sz3zvlJOqg68jtvfBD81D3d/o3+637ffuX+ln7Mf2B/Vn9D/14+477w/0W/iX9OPz7+AH3Xvjq9s7zxvDA6cvlG+sE8gL51f+o/3UB2g08HLIsCz2GQkxFLksaTYlRTVhaVThNokGcLvQfvhZ8CQX8Ceym1l/Hp74Pt9a0qrO2rz6wd7SbukTGLdJu2gLjpuuS9EwAlwq5EBMWNhoAHSohBCV9J4UpJCnDJtsl5yabKDApmCV3HhMY+hNYEWEOggiT/wr25O3b53HkHuNj4WXepdug2VPa2d5f46bmbemi6pHs2/Cv9I73Jfqz+nv6kPtx/Jb9Lf9B/73+u/7t/pr+9f2F/Zr7OPln+In2T/Q981rutOjA6CzrevKO/E3+Af+pBS8OHh7bMEA5VT7MQ4BEC0m1T9FOq0z4Rro38ymAHywTFAo////sbt3R0UbHJMOGwN+6pbgmua66n8FDysHQXti2327mWvBx+nwBRwdxC/8OyRSxGoMePSFtIk4iJyMEJXInASrvKWMmlCGiHZMb4hntFY8OOgW5/N/10PD67CjoHuMm35TbbtpC3CLeIeBT4oLjUeai6kDt7e/N8j/0efbg+PH5ivta/Tz+Uf98AOgAMwGyARMBM/9S/gD9Mfo++Zj2RPBZ7FTpX+l/8rT6W/15AOQBHAhRGuEqNDUfPiA/nD4gRTtI60j9Sg9DNDV0KV0aBA8+Cq/+Ye9c4qXT/8r5yRrGScPRw/zBjcRIzJrRptiW4DTk4ulE8lf4X/7oAqIDNgaEC+kPlBQtGPUYlRrbHNoeQyMHKMQpZihCJOgfGR6WHSob8hQbDNUCVPvS9u7yJu5W6fnjW98L3p/ekt9C4dLh2uFw5LTnV+o47Zzubu/c8VX0C/YX+Lb5iPpX/Ib+gf8OAaUC0AESAbUASf5o/Sn9k/jZ83LvkulX6i/x1PU0+oL9IP58BkMW2CM5MZ86BzwdQDFGE0hGSzFLC0KcNzAr3RvIEVIIZPpZ7RHf89CWytrGcsKpwRvBd8Fwx57OV9WZ3RvkL+lk8MH3t/0NA0YFLgUjB0MKpg1qEf0SRxPtFMAXmhubIOIkhCYzJvIkhyP5IvEh8B3oFlUO3QWX/9j6+PRG7r3n9+Eu3wPfvt6h3qreUt7x31jjf+aZ6d3rxexG7gLxjvMY9on4cPlw+t38pf4tAAQCpQGNALsAeP8s/k/+g/se95XzY+5I7LrwGvXd+MP87fyMADMNRBvzKFQ0czcrOnxBvkbAS/ZO3UgzP1w1iyhBHhEV8wYz+EbpWtlEz1LJU8KtvdC69bjLvJzDrMn30OrXYN7l5yvyX/pQAeIEFgbeCc8OIxPsFlcX3hU8FmIYWhwUIXUjpiNqI88iMSPGJAQkPCCgGhETBgzsBmkBv/ql8zLsSuY848Hgdt5K3WTc9Nyn35Din+SA5nvoT+pr7fTwu/JM9Nr1wvb3+Br8wv2J/kD/o/5k/oz/4f7B/Yr9vfrc99D1APGa7yX0RvhK/bIBQgHUBIUQLB2OKjE1/jZdOeo/aUToSX5M5UWNPas0zCi0H5IWJgjT+Xjr3NvY0eXK2cK5vX+5j7b4ubG/u8RXy+bRvtgC4wPuw/b+/VsCNAWHCu8QPRZfGe4YTxfsFyQbXx/TIuAj+CK/IrYjNyV7JoIl3yHKHA8XKBH9C9gG2v82+EDxGuva5obj998Q3Yjbedtd3HHd9d3h3gPhUuNK5lnpCevp7JjvMvJ19VT5ofuJ/Gf9n/2Y/l8AOACP/zX/tPwG+iH4YvWF9mX8HgHdBNIGvwZxDGcYhSQzL8M0aTQjNkA7lj+pQyVDPDtcMmYpzB9qGNgOJAHS81zmSNoJ02nMNsVIwCC86Lp9vmnCpcaBzCPS59mF5Abu//Vw/LgAPgYGDvQUHhpyHKgbERz0HkYi0SVjJ+MlpCSOJAYlfCaFJnsjMR/1GTIUqg/XCnsEEv5V99LwDuyA59fiVd/B3Izb3tsN3G3bS9tf3K3eZeLN5bHnMekR6ybuifLe9n/5EPoW+mH6dvuN/WL+8/2y/Yj75/gc+Zf6+v4XBhUJPgkuCywP+Bg6Jl4tly/uMBExDTWdO+083zp2NrctlCafIQIaXxKQCbL8jPGg6DzfwNiO0mfKGMaPxBHDA8U/xxrIC83w073aq+OQ6sLu8/T++38DuQzVEqMU0RZfGSEdmCNTJy8n4Ca8Jc8lgSjbKMQmTiSBH/kaSxiIE8cNXggvAej6ovYE8W7rBOcM4iDf0t7t3arcetsq2u/am95K4rfkkuYB5yPouuyF8Xz0a/aW9aHzo/QE9lH2efd29svzf/P88mPzofkFAUQHmg64EQQUIR43Kh01nD5WP6Y8DD/qQElCS0PGO/0w/CjLHiMWxQ95BAL5GvBj5dbdlNmq0njN78rOx3DI7MqryirMR8/t0SXYid8A5LDo1ezt78X28/73BIsKtw1mD1gUuhpyIMUl+ichKMopzSuULfsubi3JKRsmoiE4HdsYaBJLC6QEyf2499jxMOsQ5WXgKt1d2xDa9dcr1i3Wztf02l/exeC24ujkKejF7Ijx0/RG9tz2VfdH+DD6Mftc+oz5jPeo9Kf0s/YT+8QBsAW4B2QLHxHcG8Mp1DIWN1U6ejzIQPNGfEilRSFARjdHL8kovh9lFQYKePzs8OHnXN4H1nrOmMZwwubBbMEEwvXC/sOvyLjPsNaR3WDi0+Vm68zyF/rnAEYFvAZGCXIOFRUmHJMgCSLdI/ImfSuKMK4yFDL3ME8vei1nK+MmcCBQGrYT9gxoBi7+Z/UY7vznG+M432naP9Uo0qnQRNHv02nVFdY+193Y9Nwm40Lo9uvK7vDvovGM9Wf4EPoB/GX7Ofrg+hn64/rX/2UEsQjUDNgNvxCFGXojQS2gNCs1hDXsOfI9cUJrRMw+dTdPMVUq6CSTHm8T7QdG/eHxfuku4n3YmNCBykHFsMOzwmXAKsBuwVjE/sre0YjWIdtr38rkMO799/b+tgPaBacIVg8pF5cdXiF1IU8hTiSlKOks3i8UL7gskivqKuAqHyrqJf0fnBp0FbsQVgujA3j7q/Th7vjp5+RT3gnYCNRG0orS4dLe0evQPdEG1FDZyN4T48Xlyecp68PvS/T69zn5jvjL+I35kvo2/KP7X/rH/IcBogdTDkgRQBN9GtIkKjD0OVY8mTsGPpBBY0ZsSctD6zkFMRkoFSK0HAISEAX+9yPrGeP+3ePWvc/3yALD5cEUw0zDbMRfxQfHscx108nYqd054T3lKu079nf94wJLBbkHLA5tFtYdwSKQIwEj+SQkKfMtSDE2MIos1SmOKOQo2igXJdweoxhQE9EPDwymBRL+0Pa38ETs9+ep4uzc4tfB1OPT5tOu0/bSetJg1MnYRN5f49fmt+nS7czz6/rbAPUD2gRbBVsGHAhKCQYIIgW5Abn+Kf2w+2T5qPhk+pL9GgLWBIwFIwqpEuwceCe5LKQtIzAhNJQ5/j49Pi44GjHrKEsimx3PFeMKlv5J8Qvnh+Do2UvTz8xkxrrDgsTYxTDIAssrztLTLNvR4Qboee3y8RD4Mv/XBA8JIAvyC4kOxBLVFp0Z4Rl+GJ0Y8xobHs8gwiBqHuwcwRzIHfsedx2/GeIVmRJYEDEOqwqQBef/3/q19uLyfu6s6X/lRuIe4Ajf/d243DPc0Nz73lviYeUT6NPq2u1o8oT3q/s6/8EBBQRfB1MK9guYDFgLYwmLCCkHhQVeBO8A7Pwo+v/2L/bs+EH7p/yj/dn84v5mBlQOohUYGhoZpxlNHhwjIijoKSQllR/SG5QYhxfVFGMNeQWm/XP2JvN08Hjr8OZd4rPetd4O36feZt8P4Lvh1uV56W7rpe3973HzNPmh/ZP/lQC7ANECvgfeC6kNow1PDEQMFw9jEm0UrBTQEikRcRHGElsU3hQAE1UQvA7eDcMNjw1rC1MIeAW1AosAmv78+/X49PUJ837weu6U7BPrHeoU6aboFumn6dXqiuxF7mvw0/JY9RL4dvpr/Hz+TgBrAWgCKgMZA8AC/QFwAOz+uv2P/Kr70vpk+fP3q/e0+C/7cf7vAHMDqQZcCtUPUhZuGzgfIyIBJO4l+yeaKLEn5yS4H/YZahQ9DgsIPgHQ+JXwNOmD4ubdRtqh1l7UQdM904vV4dhe3CfhUOaF66zxPfcP/GQBSgZuCloOxxCmEa4ShhMUFN0USRSpElQR3A84D2UPrw5+DY0MowtoC+ALiQvVCngK5Am4CYEJVAjeBooFPwQtA+ABcP/D/F/67Pcr9p30U/Kq71/ttuuq6mTqUOr06cXpReqW657tAvAS8mb0BfeO+cb8t//YATYEKwYmB/AHcQiCBxUGegT/AAv9z/lW9rLzGvIQ71frrukF6k/u9PUm+5L+2gJMCL0SiSDjKXIu1DCmMSc1vDrROzk4YjFPJ9ke7xgTEdsHvv218eznRuHp2unV19GmzYPMXM5M0FLT19b+2evfduep7TPz2/YI+Rv9LAJQBowJTgr9CGoJ2Au3DiISTRMXEpoSohSyF8Ebqh16HZgd4B1hHjMfHB7cGmkXOhOcDmsKnQSb/ST3ovAO64jmS+Eg3EzY5NVq1ZzWyNfZ2CDbq97v46fqxvAQ9g379P+1Bd0L2xBbFNsWlxhPGhocDR1RHa8cOxsOGuEYOxc7FdYSGhBxDdAKxAdmBKMA6vwN+kT30vM28IjsDul55i3k0uGF3+nc2tr82czZetrX2+Hcmd7U4enltOuh8iX5///5BvINIBaQHiAm3SzjMXI1zTh0O/I8ED3nOow2/TCvKuAj0xy6FKALMQKf+CzwF+mj4hLdKNj005HR6NDV0NLRwdMC1pDZft0L4Q7l7+gP7dvxDPaX+c38Ff+MARoFTAhCCw4OsA9eEfwTshaBGTYcsh11Hkkfux9SIN4g+R/kHSUbdBffE7wQsAzKB5oC8fya9wPzxu7d6hrneuO/4ADfzt293WzeUd9R4f7jxuYl6uXt8PF19jL7sP+uAy0HUwqfDdAQbRN4FXQWyBYlFzQXMBfXFn8VpBO1EZgPnA2jCwUJRgbIAxsBuv5l/KX5Nvcs9TvzlPH37z7uBe1j7PbrFOxr7J3sXe2b7vbvx/H18xv2Sfh9+p780P4JAQoDzwRDBlEHRAjzCHAJBAokCuEJqwlSCQ8JHwkXCeMI1QjbCBIJkQktCsgKWAvDCxYMggzHDLsMTQxuC3sKOQmSB6gFSQPeAKD+Y/wJ+nH31vSl8vrwsu+37vHtT+3Z7AztyO2x7u7vsPAv8SryLfOn9DT2NfcM+Nj4E/q2+6j99v8HAkAE1wagCccM3g+mEiYVORcnGbManRsLHKAbbhoHGT0XwxTdEXMOrAoaB4cD6f9d/MT4fvXC8mzwT+6r7HvraOr26S3qcOoO6xbsQO3A7lPwEvIx9BX2CvgA+u/7JP74/7QBcwMDBaAGDQiRCd4KuQuQDD4Nww1CDrIOsA4YDkcNaAx5C14K7ggmB/0ExQLdAPP+4Pzo+tT47/Zt9T/0W/Nh8rDxZ/FV8b7xXfLY8n/zdfSV9Qr3tvgb+lr7tvwy/sv/dwEQA4sEAwZBB2sIxwn8CuwLwAxEDYwNtg2NDUENowyWC2UK5wgbB1QFtQMYAmAAh/6y/A77qPmH+HL3e/ad9d70sPSW9H30x/Ql9ar1mPa+98P4+Pl4+9v8h/5fANsBYAPnBDIGfwd+CAIJdAmjCXYJVgniCN8H2QbmBeoEIgRfA2YClgEGAVYAxP93/yP/9P7r/q7+Tf7U/W79TP0U/c/8d/zH+yr71/rj+hT7FPsN+xf7Yvsb/B79G/68/h//zP+wAIwBYQLoAikDbAO8AyMEhQTKBPkEMQVwBbAF8wUXBiQGJgYVBgYGtgXPBOgDLwNfAmgBCQBu/rz8TftF+iD5DPjR9qb1+fR/9Iz0vvS19Mn03fQm9dz1uPZI97n3Q/h6+Lj4Ovnu+eD6tfuk/JH9dv4VAIUCAQWTB0MK6wsSDtkRdBXVGEwb4BtMHLIdKB/WHy4fwRvWFhQT5Q++DBsJ2QLC+unz7e6564rp0eWr4Erc/dms2pndKuBA4QXiteOg57Dtd/PD99f6Mv1YALIEAgn2C0MNkA3CDe0OMBBzEEMQdw/iDjAPcw8+D10Oag0QDT0Nfw3UDCEL6AjtBu8FJAWPA6wAkPyr+P31SPSn8ivw0ex26UDnyOZ651Tou+j86BXqeuwp8Iz0kvjm+wL/aAIoBhgKTg1dD90Q4BHuEtcTCxTmE24TBRO7EngSFhIHEb4Prw6yDZEM+Qq6CNUFkgJE/yH81Pgi9W/xve0t6j/nAeVo43riBeJA4iXjm+Tu5tHpEO2X8AD0QfdD+lf9vwAiBGQHRAqqDBkPthGDFKoXdBq2HOYeXyBOISsiXiJ9IZ8fMxxkFyISJAyABXP+pva67tHnP+KK3RbaoNdp1rjXm9rm3p/kauqg8Gn3Ff4+BR4McBAOEwMVtRVQFrIW3RQ1ESAN5AiGBbQD2gFa/8D8Yvpb+Y368vzH/oH/lv8WAOsBYAQfBrQG3gVJBDwDnQLJAWMA+v0c+774/PYb9sf1GvWi9NH0cvW59qn4vPqD/F3+YQAuAt0DCgWuBTAGTQY2BggGZgVyBFIDhgIfAtQBkAH4AFUAEABEALQA+wAyASYB7gDdAMsAvgCQAAUAVf+a/v39of1T/fv8wPyJ/Hz8wfwT/V79yv1s/gD/fP8EAGYA1AB3AQICgwLzAjwDigPSAxUEYQR8BFwEKQTUA3EDDwN/AsQBCAE+AHz/u/74/WD94vyM/F/8Kvwc/EX8ifz6/J/9Hv6L/iX/tv9WABMBnwEAAlUCjAK3Av0CGwMOA+UCkgIuAs4BbQEGAYkA0f8y/7v+I/7b/Z39Q/0Z/fH87/wC/VP98/1n/sz+Hv99/w0AlAD7ADEBUAFOATgBRgFSASwB2ACCADwA+P/q/9P/jf9d/yf/Jv9d/1v/NP8h/yX/Hv8d/xL/2f6w/q/+p/6i/rv+2P4H/0L/kf8QAGIAtQAiAWoB5wFAAjsCRwJHAhoCBgL+AbwBbQEKAZwAZwBFAEEAHgDU/57/cf+A/5P/gP9k/yb/9f7a/sT+rP6L/lf+PP5Y/o7+5/5J/47/6/+HACgBwwFXAr0C/wIkAzADLgPyAn4C5gFBAZ4AAQBq/9/+ZP4A/sj9qf2u/eH9Pf6d/gL/eP/L/xgATwBmAHMAQQD9/6D/RP8Q/8v+gv45/gX+//0n/mf+ov73/l3/wf8IADsAbgCXALQAlQBYAAcAk/9S/yv/Bv/z/sr+sf7K/jv/BgCtAD0B3QFrAgMDywNqBGcEKgTnA3EDHgOtAuQBAgEEAOn+Av58/Qn9mPw0/NT7iPuR++z7XPz0/Hf9vf0b/rD+ev9pAFIB8AFIAr4CIwOpA3sE7wQTBSEFCgUPBRcF8QS+BGcEwQP2Ai8CWQF/AIb/cf5i/UX8a/u6+h761vm1+cX5Afpj+iD77fvo/Nj9hv5X//X/UgCyANgAmgBPABgAhf/2/nv+vf0f/a78YPxQ/JD8EP2t/Xn+RP8MACcBdALHA94EkQUOBlYGtQYeB3cHrgdaB+kGhAZVBoEGdgYzBpYFwAQGBDADPQImAdX/L/5U/I361/hc9zb2JPUv9I/zM/Nl8yP0JPWx9nD4EfrT+6n9sf/hAQUE6gVLBzoI6giVCVAKxgq9CiAKJQkbCB8HQgZTBUgE2wIUAa7/nf65/QH9FfwA+/f5SvkU+SP5ZPl7+Xb5oPn7+cX66vv7/OT9nP5c/2wAtgHyAgwE8AR5BcwFHQZgBnsGRgaxBecE8wPXArgBqgCW/3X+Vf0e/BT7Tfqx+XL5S/lI+V/5dvnU+W36QPse/Av9E/7w/uP/BgE7AlADMQTzBHQF3wUoBmIGdwYnBqUFzQTLA9kC2wHfALr/gf5W/Rv8Evt1+v75n/l3+V/5i/kh+gT7G/wp/Tv+V/+VAPoBTQOcBMAFjgY7B+EHVAiTCJYIOwiLB7cGugWSBF0DDQKMABD/pP00/Ab7B/oL+VP4t/c59yn3Z/fW9374a/lx+n/75PyS/lAAAQJ1A6gE0wX+BgMIzQhBCSoJmQj2Bz0HXgZOBegDeQLaAEr/Bf6d/GL7N/og+Yf4CviX92T3ZPfB93f4NPnx+eD67PtB/er+jgASAnYDrASzBcEGvAdFCHMIPwiJB68G2QXXBJMDCQJUALD+Pv0P/C/7evrp+ab5wPkl+uD65PsF/S3+X/+XAKkBuALPA60EYgXmBQ8G+gXZBasFbQXjBA4EEAPjAdQA3P/B/r/9w/yV+3j6uvk2+cv4jvhv+H74wPhA+e352foM/Dz9e/66/+QAHQJHA1YEPAXIBfcF+AXdBZ4FagUUBWoEjgOiAtcBIgGGAAYAc//Z/lD+9f3Z/dX93f3f/dP90f3w/Sf+Wf6a/un+K/9J/1v/ff+O/77/+v8TACgAIQANACMAUgCAAJ4AowCOAHUAbwB8AJUAjgB0AD0A6f+q/4j/ef9y/0v/9/69/rL+zf4n/4n/6/9BAIsAAgGgAV8C7AJXA5wDiwNzAyYDyAJ7AtoB8ADh/+j+Cv5L/a/8Avx5+xH7rvqa+tj6VPvd+1T87PyN/S3+Ef/r/6wAhwEaAoICBwOMAw4EcQTCBN0ExAStBIAERATpA34DAgNJAo8B3QAlAH//zf4Y/nD96/x+/CX88fvt+/r7D/xM/KL8/Pxv/fL9Wv7C/in/aP+x/wUAQQCCALQA1QD5ABoBSwGHAcQB7QEdAlsCmQLfAgEDDgMoAzEDKwMdA/oCxAKeAmQCBwKfAR0BwABfAAYAyv9c//n+kf5P/iT+7f3R/XH9DP3L/JD8mPyi/J78nfyN/Ij82vxu/QT+sP5H/9D/iwB2AUoCGQPwA0QEWgR9BFoEKwTzA1gDdAJyAUsAQv+M/uX9RP2n/P/7kvuJ+8z7Lvy6/Er9sP0//vr+tf+QAHkBLwKPAvoCewPaA1MEmwSbBIgEOQS5AzIDqwL5ARABEwDm/rn95PwA/Br7ofpB+uz5zvny+Wj6H/sW/CT9WP6b/6YAxQHqAu0D3ASIBeMF3gV0BfAEaQTSA/8C1wGvAID/bP6u/RD9kPwJ/KH7ePtu+877Wvzc/G/94v1Y/vH+mv9OAAgBpgHyASgCdwLSAk0DxAMBBPADnQNCA+4CsQJ2AgICVwFtAIX/5f5l/vP9j/0Y/Yb8KvwL/CT8dPyt/OL8C/08/b79af4J/4T/9f9aAL8ANQHBAUUCnQLKAtUC4gLtAtUCoAJHAuIBVwHYAG8A6f+L/yH/vf6A/lD+cf6S/sP+Bf8z/6L/CgB/AAkBVAGCAZcBqwHOAewB3gGuAWoB+QCtAGwAJQDf/27/8f5l/gH+0/2J/T797vyf/GT8X/yF/Lf8HP2Y/RL+0/7E/7gAuAGeAm0DOQTWBEUFfQV4BToFtwQcBDMDCALmAKD/XP43/Rf8FftR+r/5Y/lM+XL53PmO+mb7gfy7/QH/TwB3Aa8CzQPGBLMFSAarBtIGxAayBlgGzgUaBTMEPwNDAj4BJAAW/xj+Hf06/JT7Pvsn+xf7FftU+6j7IfzV/JL9SP70/pX/LADBAGkB7QE8AmcCcgJkAlMCOQLvAZYBOwGzADMAxf9n/zP/Bv/r/sj+qP7e/hj/ZP/p/2kAvwD9AFYBsQHoARQCNAImAuABhgEkAbMAIwCf/xj/gf70/ZT9Q/3i/OT8F/1M/an93P0D/kv+x/5q////dACVALoA9ABAAcIBEAIoAjoCMwICAgICJgIDAswBZwHEADMAzv9z/wv/mv4M/pn9PP3x/Pn8I/1Q/ZL9/f1s/uf+mP9XABEBrwEiAlUCcgKkAqACgwJSAtEBOgGsAC0Azv9d/+v+lv5S/jb+Rf5u/rj+Gf+B/+T/VwDwAHUB5AFbAq4C3QLqAtYCyAKpAlkC5gFWAa0AAABd/6v+7/0p/VT8wPtW++/6w/ql+pr6u/rs+mX7Gfzk/NP9xP7E/8cAzwHkAuQD1QSZBTQGvgYGBzAHKAfaBoMG4AURBTkE/wKuAXQAOP8R/vn87Pv8+jr6mvlO+Uz5afnp+WX63fqj+3f8h/2r/rH/tAB1ARQCmgIhA7YD7QPbA58DTgMJA50CNQLXAUMBpgAJAJv/UP/+/rv+c/5X/l7+b/6z/vX+MP+O//f/TACtAA4BOwFiAYgBkwGeAZgBYwETAcIAZgAVAL7/WP8I/7f+ef5C/gH+8f0P/jL+Xf6W/sX+FP+A/9X/MAB+AM4AHQFJAWYBewGHAXMBRQEUAdEAjgA6AOX/jv8w/9v+nP5e/hr+6f3D/a39pv3E/fT9Gv5r/rb+Cf95/9f/SwCkAOMAJwFpAZkBrQHGAc8BygHOAdIB2QHnAfUBBgIaAicCQQJCAjACGQL5AcwBkgE/AdwAqQBXAPX/vP9V/yv/LP8R/1H/b/9g/7H/vf/O/1kAbgBuALIAMABo//H+2f3U/En84vpb+Uz40vbe9S72mPYD9833cvh6+Vj7gf3g/+MBXAMOBbkGSgg+CisMiA2EDtwOdA5LDiUOFw20C8wJ+wZ2BCMCoP/K/eP7m/nL90f2//Ql9Izz1PJL8nfyuPKv83b1Dvcp+av79P2TAEEDQAUOB7wIpQlSCucK0QpoCrIJcQgNB8QFWgSxAt8A9f4y/bb7fvqr+Sb5ofiO+Nz4cPmy+v37BP0T/if/IQAqAVgCMgPdA0wEVAR4BJcEjgRpBAgEWQNvAmEBKQAs/3L+lf30/Gn8xPt/+077VvvX+4T8Hv2G/Q/+mP5K/0wAOQFDAh0DjAPoAx0EOQQ8BCYE0AMbAzcCCAH//2P/rP4l/sv9OP30/N78y/w7/cP9HP6C/tz+IP+f/zkAxABwAeYBHAJLAlgCcQJlAhoCkAHiAFIAoP8P/8b+a/4w/hf+If5U/pH+xf72/kj/sv8tALgALQGOAdcBGQJKAmMCVwIPAp4B5gAzAK3/Ev+b/kH+7P2n/Xb9Xv1u/cX98P0L/mH+o/7//mr/1f+BAB4BfAHTARcCRAJyAnkCXgI1AuYBfwHxAHsAIACz/1f/y/48/uP9jv1k/V39Zv1x/YT9zP0l/rP+TP+y/y0AtwAQAWEBygEXAkECVQJSAjAC7AGsAVkB6QCZADsAy/93/zv/Cf+//oz+c/5e/nP+dP5w/oz+o/7E/t/+Dv9E/3H/sv/b/yMAZwCZAM0A7AAsAVgBfwGgAZkBuAG0AagBwAHLAecB1QGnAYoBSAELAeIApACQALAAjQCUAOMA1QDnAP8AlwA1ANL/Mv+8/rH+t/6Z/nf+Lv7V/Z79a/0B/Wb82PuN+5X7DPyv/Gj9Pv7q/pb/KACXAC8BfgGyATACrgJsA10EJwWyBQEGBgaeBQ0FOAQEA/EB7gD+/1z/1v5f/gL+gf3m/Fj8tvsI+236/fnE+dv5aPo5+z78Zv2Q/rD/jwBXAfMBXwLPAhIDbQMBBJoEJAVoBYgFMwWKBMoDuAKtAX8AP/90/vX9j/2O/cn95P0q/iz+DP4g/g3+T/66/jD/1v+jAI4BKwKgAs0CmgJfAu8BggEzAcAAYgAcANH/g/8S/7X+Vf61/Rr9lfws/PL7z/v1+378O/1J/o3/dADjAAEBxwCZAAgBxgGwAq0D5AOWA2IDDQPMAtkCxgJzAuMBGgFeAO7/sv+S/5n/hP+G/6D/Vf8J/7f+Pf7R/Z/9h/1M/WD9Sv3f/L/8pvzT/DD9/PyU/Dr8pfty+6v7VfvD+i/6KvmQ+ML4rviS+CP5Ufli+UP6/fmW+BH4Pfhn+zkEwg8gGgchESGqG64WyROsE0YXxxqHG8oauBdDE9UQlA4gCkoEsPwP9GjtfOj04+jhLuI/4+LlWuia6KXnyeWa4znkl+jN7vf1svy5AVoGLAs+DxAT+hUzFvQULxMlEWUQZRABEEIPlw2aCucGjQJ6/ZP4cfSO8UnxLfOW9RT40/mM+lX7Nfzw/B/+IP97/1EA9wEeBBkHrgl4CokKcwkWBwIFYgJ8/4n9KvyR+zP86fxI/Gv7Ovq3+Kv4vfhh+Mb4vPjH+Kv60vz6/gsCwQPoBE0HnQheCFYH7QOY/wz+Af/ZArIJzg05DA0HX//7+Dj4aPp5/Fz9RPv59/D2ePgx+5X++P8K/q77IPl29474gPrS/Nb/NQIQBK0FhwUOBNoCngEXATMCJAMwA2sD1gIDAswCagP9Ai0CLQDY/Tv9rf0o/uX+Bv9//pb+Bf8l/2j/Sf+k/rr+M//1/2kBWgK2AnoDIwSnBJIFvQXSBCcEUANzAvYCwwPaA8UDMQP3AUABRgG+AC0Anf9g/nz9Cf06/T/+NP92/wj/N/4Y/Tv89PsB/Ez8vPxG/eH9Pv6C/sL+nf7W/hb/hP5x/sr+5/6J//n/I/8k/qr8Wfqe+Rz6+PmF+vb6/PgP+FH6eP2FA5MKwgvOCRIIPQSQAkkFawfSCnwQQhJVER4Rzg22CCwGGAPKAI8CcQJI/5X9f/sd+b35gPqR+Rz5q/em9PHyDfPg8/r1cfm//BH/KADA//v+i/8yAbIC7QPBBdwGRwblBQ4FFgSmBHUE2ALhAToBZP/L/Tv9Lv2w/mEAdADz/7//sv44/ej8DP2d/YT+kv6u/r//eQAjAFH/nP4K/jL9a/yt+2X7q/tW+6P6W/pd+sL5hPiX90j3d/dU9zr20fWs9kn3TvdE9tz1oPe6+YL7Mv70APsBrgIFBZUMbxuBKbYsIyYYHQgVoxFYEoIS8hTkGT4aDRXgDjQH8P53+P/x1+337VztfunW5p3msOex6mvsZexh7Zjtaesd62/uAfQe/NwCGAfZCjANzw0+DbAMigyEDa0Oyw74Dl0ONgxUCekFjAKwANr+nPtp+Cr11/LA8p70C/j++yf/UAAHAT8CuQLlAhEDYwMeBdgHjwncCgIMEAsOCUAG6QKBAAT+zvuP+jH67PnL+GH3U/W081Pz+PK88+X1IfdS+I/5rPk3+of6cfsZ/Kf7EfxH+0n7Kfx++uX4GPgp9s30HfSQ8SXu3+vy6oHnxeKm3fbW7+Bz/fAX8CvjMkAmGhfqElcSHhnsLgdCEkebScRG9TlrMoMqSxtbFCoS2wi2/ALxguOa2hDZu9i93OPhMtxTz1vEJb0EwBvMB9jo5d70R/6fAbgAsf+6Au8HfA6YGJ4fKyMXKHQoHSVzJbIk6R5uHIYYqwveAPv7IffH9yT+ef87AcwCO/uy8u/t+OkQ6TrtUPDD9kEAZQLcAv4CAQJQ/+787/xK+un6oPwz+s/88wAa/qb9N/ou9SX2HfBG8PPx4e/b8pfuQ/Az8pDtNe9S7WnqAO5D7gfrCu3Y6zziQ9m66jsQEi7HSV9ADRzCFPMP1QkTGhAruDeWSqtMhTzkMvEnNRPXAT37GfruAMYAWO895Mnfzdxn3Ezbpdiy03vO5sWsxUTSoOCN7+/6oAP/C54Oygz6DIUOQxOYHb8l/SqTL/Yr0yF3HHkWrA9wD2oKrgDs+B3v+Ocv6c/tM/Lh9Wv1OfG27LPpqeez6sPyTvrhBJUMEw4IEXIR8A2LDE0LQQqzC/8J9wfTB/4G1gXUAZ78nvdR81fuxOrY6QDrJe1b64nt/+7q7JbtpulE6AjsKu718KryvvD/7xTudOxL8Nbxh/WZ85fqYOgO6Mz4cReuK742pjYNKKQZOBadFtohaTn+R3xKEEjIPUQuDiHyEekEdQElAO77O/Q86unfItm31hDWF9ia2NDS58vdynjN6dad6GX20wDjCFoJDAj3B28I6ArpDx8Z0SMOKh4rhiePH3EWFQ80CoIH5wWvA6n+8/hE98L2Qff6+HX43fjW9970TvWP92P6KP84A5UEyQUNBRUDqQGpACQBoQCF/7f9evqO9e3wgu3I7IPtmOxP8EXuV+ms6qjmFejj7ZTuRPKz8/rvVO5n6rrnrOsX7RTyBfRL76fsxed19UUU/ivNOx0+yS5EINUfdR91Jmc8F0jXR+1FuzqSKXgcJw+jBH0CKwLZ/H/wIuQI2xnUTtMW1hvYSNvf2ITRLtF80dPUmuI279D6nQbACiEK7AlXChEMvhBmGdsjZinwKLQmGiB6Gd0WXhJREPoN/gbxAJb6ePd/9834cvz9+0X6Sfi08VbvnvLD9GL3B/v4/Hb8M/7x/n/9mP0t+V/52/gP8yT18fIk8MXyJvJd8sTxmu667fXpPeWc6CzpYOse7Wrqm+ti4vXh3ueg45Xqwe/96Jrh/OsQDK8vs1LnXLhAKyrJJVYeLyeWO35JNltsYYVQcjnVJ60Ssf4a9a7vAPPm87Ln49fRzQfMVMx0ztXPRM1iyZfF18TFzbPfPfDt/p8L/g7NDRkOwAuyDh8YjR90KwszvzMwL8wfahZ2EN4LPw+qDYUIDAFT9rDuj+1z8+r54P1C/uz5KfTj8ILvNvM0+mH9fwJXA9sAkwPAAVj/9f/Y/BL7t/nT8sTy+fBW7CfzPfDX8MXwquWn5AvbF93z5WbkLu+57YbpmukI3wbdRt3g3Wnmuejq5XrmEfYTHs1Ah1XnWe09QCeeJYMlWzD/TT5j9WaMaI1VczcXIa8IK/dV8lT1I/Zn7vHePc+CxX3BPsSRxW/HEsc2wDvAL8Ndy5zg6fJhAe0OYQ/RDIMMtwukEL0W9CK1MN02cDncMj8nVB5TGD0UrhCiDnIK1P9G9sXzvPEG9d76t/k0+C30EO2W6Qzr0u7z8x36SPx7/GT+QvsK9/r3xvQV9rz2UPSZ96fu8+678THtxfTY7gLsEuv44ZDlkOM15eHs5Ovc7ULroOLg45Lhg98r6dnj9d2y8A4V+DxdW9ZhmkO9K14oIiFqKeZAMVSVY0trFFngPIcpIBG1/Rr1NvH78WfvReNT0erH9ca+xSnHgciHxHXBO78Hv+jIUdkr7TH9ZwecDs0OWA4+Dq0PGRdZI4AwEDkgPpw4PizYJCMdvxZ4FX4ToAyEBaIA2/jp8vrzu/Pf8UHy2u2t6D7nTOc+6wXyYPZq9pL5Afnm9J74/fcO9PT24/hk9lX1UvNl8knwKO5L8rvrH+yn7JXijedO4ADf1+Xm3Qvh298o4OzgG90D4hTXMNyAC/w5jGBhdq1afTBwI+ciaShwQYFcMWsWd1NrfEk6LHYQGvzX8ZTx+vO+7yzmhNAcwVvBMsOBxu7HZMN+vUe6g7j+vurS8egv/HoKzw3FC48J6wY2B9MNxxwrMDo/YEUERJQ48SdhH2kZLxN2EkoRvghT/xL8R/cv9UP3SvOB78rpy+Dz3k3f2OLA667yFfXS8aL1hfMO6+Lwnu1t8Lj5Mvr+/rP3C/X98ZDrTu/Z6Rruc/BX6ELs/el94vrjseP84bnhvN+63JXLM9XCB94vgF8DdCJKaSvWIe0W5iTlQnlUG2z/f95utVKVOeQXFf8o9ozzDfoIAZv2htqgxFW+47qcwpPGpbsfu/G6bbcZwcbQheDc8UkAqwPVAXwDvQPHBTEPcx6OL0s9wUadQLMyFyxTIYAewSEFHc4a6xN3B3b8wvQC8onyGPTo8bHsfuZk4yzgVeH15oDnje0o8eLrGO3f733rdPGQ9OTvx/rO9TP0r/VD5oTsX+ke6orv6eWS7PDkQODn5/Thd+J66DXi0M6X0VT1AyJVU0xxclOpKkElqhvzIt5BO1KFZvV8fnNAVsI/4CD1B0gE/ACcBWcMDfsl2C/AVLiKu9zFfclLwSG4+bcUtIW3Wsn31azpAP0rALMB8wKZ/4oB7A0MHfsthz5JRdw/uTOVKUUkJiI3In0hkxzZE+0Hkfrr7xbrM+9O81TwVO0p5vveU92H3ZDjw+ju73Dw/uza74vngezw8RLvU/gH9gP5Jvbt7Y/uZuOk5Rbpp+So56PjhNzw3zTjnOED6q7mC9eG1473zSWtSdFpc1bpKgUsuymjJyhBzlGVWiZxRXO8VL87+yJICKICJwTGAIcApvTe2MbGasN3wj3GBcxZwmO5ZboUtA62jsXr1wzrW/tJBmsG3AIwAQIC1gpIHkU0Vj+mRLhAGDRZLjcnXB/YHQwbwhZ0EfsIi/579Svyxe8O7FjrzeZI4dbf1N/x4YToOO6E67zvQu+D63LyWPD79ND2V/WA/EL0ufAz8TfoBOj17cHpW+Yw5OjaFdvO2H3dieCu2YXc8tan+EkvgUK1VBlGaxuFGx8y/TOeQqpgqGQ9bpV3b1hBN6wmRhT9CqYRtBBAAWTzdt7aydLLBc2HxJ3BabxttDG0HLbotZzC29hj6An15vsO+Vf48PpMADgQoCIfMxJAsz4DOfA1hzBDK1QpXCcWHwwbWhTSA1X9B/kv88rypO/e5nbeDtzE1qvWqd9+5FLleuqc7KDj1+ry61DovPT18ST7S/0e9Wf3f+q26wPr/ue98ILqfOUm6eLj6Npn4gzZM8r33+wEjy3FTPhS0zBCFaEesh1hKQFDpUyOXaJz72sLUYw+DSXuEtYUNhJgDqAIRfSn3/LX6NUi1YTUjc5Twte7KLcPsB+048CH1LPn7PXh/Gn4L/ZU9Gb7LA1lHT4xtzlDOto6fzHILXEtaCZqJMUhERi3EBQL+ABf+SX3ofIF7+vpkuR74A/cDOG+4J7idOmS4zXlcuf05ITn0+w68GTyKfjE9Mjyne136sTr2uUA7rXoMebw7OzfZuAP4sTX5tJ/7boZXDpqXAdVeCXzET0WThmSLt9Hg033YiZ1IGDJRggwdRHsCEIQCwwtCSoEn/GC38TbJt3c2q3aDtAmvwe837sxt0nAytFm4Kr1UQE+/I71C/Ae8kD+UQ63IbIygjgoOtY2+ixsKI4lCiB4HSsafRIlDGoDZft496fzy/S57dbmA+Tm2tPerOH+4DrmSua25u3nzej36eTve/FL81P2GfBO8HrqyOpC7M7ms/E+7oPq8evx4vDdNNql3H7VtdDJ5xoLXzCgUg5NhCZ2HXga/RtpN5tAaElDZTlw52MJU644lR1nGOAWRRCVDvUE6+v+2i3Zf9dc2ZPZj8obvaS+wrkItHS9L8cz2WvzIPvT+G342fMr9xEBegtFHjguDTaNOTg1iC+nLngsSyhuJWogIBlVEcUHcv4j+7P7Jvp49BPuo+df4GzeNt3k3IzgWeQz5VjmTuev5HDrNend58vx9+rK7T3vSudu6u/qNusQ6HTlaeW74kHgjeJv4sfe8t4n2aPzKyOqPcZTlEUpHfQXAygXLuQ5ykrJVKZobHKqXjxBzynbGoQVxhfYEdYFuPnd5SLWl9h/3DPYB9JlxR295bvLuJ61VLmezJjjJPVJ+sb0svKE88D7DwdbE0YiMy1UM9Awqy+iMBcuDi/1KiEiux2oFGgHjQOBAp8AlgPIAKf1te0P6TLjdeAn4dTkgeeo6m3qCOMo50XnzuZ97YXpm+xX7YLpWuaQ4D/gTeA+4xXjzOKv3lzfp+GX2pPj9N4d2G/v6Q8sNetPZlDINHAi9yd/K/c0TUJrSnJZFW5/aClPbjuPJfQYqBjUEwALf/9f7cneg9tR3jzgG9v+0OnD5r2ju7GzeLK2vN3R2+Yy8zH1Ze7z7jT0YPuPB/MVPiZZMX82VDWQMYYxtTAHLrconSHdGTMTCA42B64G5gaQAbz8y/FS6hrnY+G64ynjP+NC513mZ+bS4pLjzen17KLty+3M7O7nQebC4NHgfeK24O/qROZV3xDgRtrs2b3ZGN3k21jahOvcCHEsHEuLS64zUip2J6otbkGeQWpFd1uUaddm5FY7PyEqiCW+JCUaGg2z/Snr/93e2RTceuEq4ezTycVAwTi6jrNKte+4fcj94tzvN+0q6h3ro/NQ/SsDJQ6KGb4jCC0YLUgpJC1iNWs39TLcKYUf8RZeDgEJ6QfXB2kIoAZK/9/1V++T66Hknd+H4Wbi8eBF4xnlUuM566XulupA6qvjf+Te4kXeduDy3tbi5OJw4vji2d2u3F/gXeFt37HmuOLv4fb6IhiiN8hIckKTMd4sNjV5NvY6SD8lRtBZQGcuXchHgDeCKRgkxSAcFKkG1Pjf6J/eCN2O3AncOdnNz1fI0cUOv3+2lbZPvirOy96H5OXmTeok8SL8MQPUB6wQxRsbIqonGCv8KegvRzafNYQxvCl5IBoZsBShDmoL4wtBCMAFsAON+jDy8O+96Tjkf+X74krhyeRC403k1ed95O3lfuVN4q7kWeLH3+rdJ90+34vgvODS3i/ejN4s4U7js+ff68DsJ/Bz7qj8dhzSM1BFTUTzMaotQjmqP04/YTybO3lH71RUVFFEVTHnJqIi9R8EFaEC9/VW7QfmseR+4z7eR9o82LvUb9CCzHXFZcG3xvnP+dlp3pzdIOJs7LT46QKbBmoI/w2KFNcYCxpBGK4ZCCGUJ/QoRidtI0Ie/BzUGZIQQwoBBqcC5QLOARb9iPrW+mf4AfXF79Pm2uEQ4zziluMC6f/ofeyf8JTtFOqw5OPgBd/z3ozg/+DS46/nluvY7UDtoOs17p7z6vRU9UL0Hvf4AzMUBSHiJVknyylXL5Q1/DR0MPcrZiqgLuAyUDA3KN0gYh08HTodlBeGDCMDNv4I+5v22u7p5qDlPeou79vwQuz/5U7khuVh5zfpguqX6+HuuvLL85v0+/WU+N379v26/j/94/xg/2MCFgYCCqULjwx0DIQHYwJe/s37F//hBDoKHQ1jDPgJXAdUBeMDvgEX/6X+mP7aAE8ECARWBEoETgMUA28B3P3N+eT44/n2+wL/g/9A/QL5S/NS7uLs1O2y7jfvo+8X8P/vlO/07QTst+yr7h/xCfSn9an3Efrz/A0CZwaxCYMKugf9BZ0F6QagCdELzg0+EIITuhVLFloWqhVfFFwVYBYRFnIXsRVcExcTLhJoEzITohEuEc8P/Q0zC+QG3gKcAAP/Hf55+6n3WPWP8i7yfvLf8RjydPH98CLwwO4s7Qrs2OyM7nXw6PGj8gvztPS69zX7Iv7E/90AhgE/AjwB0f9PAFYBoQSDCKEIhgapA0AAof56/c788fyw+6H7tvqT98r0BfEs7svtxO6e8MTxp/CW7gLtAe2U72bz9fcF+4P8vf01/kkA2QJlBN4FEAiwC+8P+RIUE1wTlhXlGOwccR6+HPkZDxivF1QYShkHGiIZTRaTE9UPswvHB+AD+QJXAyoETQNt/fr20/Ky8VHzWPQE9Dzz4fKR85bzR/PO8/DzY/Xe9vj1sPV79Un1RffX+FL5T/n8+Hn6X/35AA0DTAKpAM39nPue+i36Cvwd/9IC3wUGB44G/gONAGL96/pL+gv7Bvsd+0j7V/qR+oz6bfiK9arxWu2J6pnqNOyB7bHuYe8N8NnxUfSN9kf4jvpB/RIATAPpBQUJ+wzUETcYax0/ICQgPR3iGn8acxtKHdkeBx/IHrYduhphFugRKQ6gCl4IZgaHA+wBvAAaAP//Uv4D+yz2dPFN75vvS/Ec9K/2Wvg/+T/4AfZ78xHyF/MQ9pH6mf4BAAP/AP0l+5j6JvsI+6v6HPtq/JX9wf2Q/Tz9w/0i/3n/Qf/9/2oBlwK3Ap4BXwBkAKkAnv/x/cj79/n7+HP3a/XN8grwkO3i65/rB+xL7F3rmOkK6HHoQ+pR7JHvbfKV9tv7s/+tA5gG9gjNCyoOBhBkEUkTxxUzGbkdcSGvIuohyB48GkMXGRQ+EpYTqxW1GEsaRRgOFBwPVAp8BpwEsAMnA9UC+gAR/WX52vax9Lr0TvWE9OjzS/OK8oXyofNi9Mv0TfYa9yn3X/d49gH28vfI+9n/sgGJAHj8Xfih99/4NfziAOMDsAVJBu4EyAJGAdAAGgEMAowDvQNmAksBG/9J/SL9vPud+bP2LPPx8MTvcO9L7yrvEO+h7SLrBOlz5/zneupB7HnuDvGV82T3UfrZ+0P91v5YAUMFjAmFDPkNYA4fDygRGBTnFiIY/BgTGo8a2RqgGfIWEBUSFHgUUBZlFxQYnhfrFBMSWg5UCmcHPAQVAiEBZwD2/+f+cv2Y+3D5T/iF9qLzQ/IN8fzwBPMG9F/1rfY098D3ffZr9T/1h/Zs+kX9yP7a/+7+Rf5c/sD9c/6s/50AHgLKArIDtwMhAjwB8v98/x0Ag/+E/2AA0gBwAWIAd/3E+jj4wPZ59Qz0GvS68y3zhPKE8J3u1ux16wvrcevX7DPuRu4S7nLude8z8l/1ovcx+rT9xgGVBUgJDgzfDfkPwBBXEBERqxIFFW8YWBvVHHMdHR0XGzAY/hURFEMT4BMSFJAUGRVFFFsSEBCfDcoKRQh9BdQB4f7B/Kv6gvlV+RP5NflM+QD4sPVn88Xx3PCU8RPz8fNZ9W/24fZU+GD5Cvnd+DL5qPlh+uD6jvpy+uP7kP1+/rD/hwAqAaYCRAMWApYAO//C/lwAEQM+Bb8FKQRGAYT+2vwK/D/7H/ro+I33/fUw9F3yR/Hl8OnwlfBN7+rtLOxG6tXpSerF6ojrpOvF6xHuTvJW9xT8Tf+2AAsBzwH9ApYE2webCywPwxLgFBQWNBczGJQZ2hrTG88bYBqRGKcW6hVeF5kZmhtuHDAbjRiCFL0PkQsPCFsGygV8BIkCmf9G/Jj53/fU96X4BvlR+F31XvES78DuhPBH8z/1VfYo9g/1TvOR8Z7xKPMG9qX5Lvy//bv+rP5H/nP+KP+SAMoC3QRWBvYHSwmMCUUJPQhmBu8EFgRPA9ICnwKoAar/L/16+iD4//Zy9nb1mPR3893xFPDp7dPsO+2d7izwffD67+Lu+u337SXuWu+X8cfzvvU490/4hfkj+/P8mf7AAJcDWwbbCEwKqQpVC0oMaw10DyUSIxWdGNUb8B2uHrYd2xpgF28VLRX6FYcXEhhWF0sWVRQeEXkNeQrQCAUIwQb0A7n/ofvF+OH28fU59uz2uvYC9pf0YfLs8KTvl+4k7/vwZ/MH9dr1dvZd9335Zvse/Bf9Yv60/24BbQKIAqsCRQJ0AdMAyAAvAlwEEwacBo0FdAO2AAv+KPw0+8f7If0K/mb+af1w+9L5g/jw9wv4y/cv96v25fa798H4cvnC+Jr3afYx9NfxB/C47tbuY/Bo8hf0efQx85fwTe6N7knxcPVC+T/73vyN/rv/HAHXAesCMAY7CvQNmxD8EUQT/RRxF4AZfxotG8wa4hmKGeIY8Rc0F54WjxaVFl4ViRL8DiEMhApwCfUHcAXqAjUBrP9a/gP9GPx8/F/9lP1v/In6n/jr9sn1MPW19Bn0MvNi8m7y4PKa8yD0QvRE9an26fcr+JP38fcu+dz6uvvB+7P89v4BAq4EvgYoCWwL4gsYC/oKrgsuDJ8LywnxB5kGYAUZBOsBWwDe/2v9HPgf8p3wMfQk9tvyt+xA5xPlquXu5Dvik+CM4xHp0+mc5wzm9uPV4urjfun686z9YAK4AW7/GwI9CeYNKw0wCxsPcRcVHWceMx08H+Mm+i1PMJYsACYjIhcghx3QGywckh0nHV8ZLBSVDuAJ9QbRAp3+ZfsK9xry6eve5rnlz+YE6Ubqwuot61bpBubr4xzk+eaq6k3s3Owe7sjxHfcz+iD9IAH+BMIIjQoCDKsOWxLmFloaFhzZHJscsRpyGNkWNxdBGOwWDhRLDwMLnwefAkP9t/dx88fwB+476qPmxOOB4WTgON653HfbjNqn263cUt+J4W3ineIb4oLjmOXJ53fp4uoe7Hju1PHO8yr2NPYx9SL47gGiE/Ql/zG4Mh0sHCqPLQgxxDGVLyQv0jTgOjQ66zRlL3Es3StAKBEeqw+nAR32Pu6O7CTuSe/A7iXr0eai4z7gyNpU1eHSu9Nh1uTWzdZo2rrije2v9pj8JP+0/3D/3f4xAFUEuwrmEMIUvBeWG2QfOSBDHjMcoBvPHDQcEhipEyoSaRXDGZYZyxTMDTYHEQK5/O72IfKS7szrmeo86qnqJuzW6yrrLumD5vvktOC13QHdLd/J5CDpKOum61Ptle4F8hHz2vHo8xzyEfN/8ynzdfbY+Cb9zv0r/0EAaP7b/Gn76/o/+PH40vV0+vUP2CMrNSE4dCykI68kcSd2I74fbhsVHhgoxSs0J/UhDSFEHh0cHRXUBBf3pOpE4CzgIue964Ht9euY5xPpMOzG6cfkj+Bs4HDkKuj56IDrkfMT/usImxC7EbQPNwzhBmEFxQiaC5AONw8eDEkOfxOBFB4T3Q40CZEHvgf6BFUC+gHDA+wILA6wDvwJYQTQ/UP4W/jM95/1nfS58j/yy/U4+YH5q/h79QTz2vDV7RTsY+ks6rfsFe9a8oPzh/Lq8bHxee/n8Bbwb+5Y8KPtnu6q8M3xzvSM9gP3B/Wd9W71xvTW9MX17/RD8jj3e/zqDu0qmDWeOE011SsvLQ41xy+4JgomcCT3KEsu8SiSIh8haCCDG5YVYAkP9ornWd1v2QTgquZI5aPiA+Jb4uXmA+jB4iPgRuC34YDkmuZ36bLwfft3BjoRrBczF5sT2w54DKMQ6BRkEpcOxAsUCr8O2xINENoNPgwGCE8GmgRuANr/BgFOAZED9AVCBXYCZP9X/EH78/t3+YD0q/Fd8ebyGfZk9x32mPU69U71mvSq8v/wQO5T7bzuU/AB8yv2C/eU94v4+fbD9gf19vFo8cDvIvDw8H7wPPGk8hHzyvKP81DyefDE7uLuJu9e7uXvluyg8n0L4yOQN6hCfDsZM784jjk3MlcuByjMJPwqES9JKqglGySbHYEW9hA3BNLyWuML1eTO3dQm2l7a7tkX2SHdt+VA6SnohOdl5wDp6ez878zyevllAhoN8RjUIA0kDSLPHD8bOhwAGsQV/Q4WBrIELgjxB1MGoAMZ//z8i/2X+1v4iPY69QT25vgD/NL8UPw0+5v6LP1Z/vT9XPzi+W36yvwp/9H+J/2M+yX7oPsm+776SfcX9mz2EvUK9QL0SPRS9Mb1X/YU9DfyC+9J7QTsrO1y7tHuJ+9/6wzusu7n7iLyePA973LvR/Gy8TD0lffX9jz1i/tED/QiATrBRkI8FzmVPEc6gToROP8roSbHKOMinB4dHTcZfRVCESUM5ALr96To7tXyzQ3REtWU1+PWXtOD2CLkpur07xX0J/WR93r5TvpF/FwARgbzCzcTzRudICcgVh0uGnMY1BflEjkJw/7P9wT1LfOk8lzx7/Be9C34Nfv9/E780fpq+x78Lv1L/7f/rwGDBMYHTAtzDE0N3QvKCXUJYghuBZYBIP1h9230bvLt8AHxE/Fn8mrxRPHC8XbvA+1g6xrrh+ux7pbvK++s8Orx0/Sb9T73lPev9WH0NvIL89rx2PEk8+vwP/A481X1nvRT+c32DO8q+fwNqSSLO9FEPDmhNAM+lD2LPN87hC8eJ7EoqCEPGJ4YuBPaCyAK1QX3/bTz1+NF097MtM8j04nS1s970CzX4uIi7qr2//sx/Zz9vf67AK8EKQh7CZoMWxKtF7gb/Rv3GXIZHBiBFUkQJgbe/IL3BPS08lzyWvCp7tTw8PRA+Sz+DgFoAbMCcQSBBGIEiwLW/24AiALlBfQJUAtwC9MLUwo9CEcGgwDi+Sn1ovBS7irupO2L7AntLO8K8QDzivXh9KvxHvHX74vvifKU837zLfQc9Tn2Tvki+7X8f/6U+4X7Mfxh+f336Pbs82fwl/KT89vxfPUY9HHr4u23AeoZOTQ5RYU8zTJYOTY+pD78P6s1JijnJWkfcRVEFE4SKQphBaID5f7290DquNcIzQXPKNWQ1B/P/MpEzD/WZuVR8179mAJcAz0D1QVRC0YO5QxIDA8OHBJBF54YuhYdFxYZCxp8GNYQwAVi/MT0rO/D7PzoHOYH5ivoQe5h9mD9SwO8B4gK0wxZDrAMdAm9BusD7QO3B3oLOg3QDXUNLw2PDqwNcgcj/1f3u/BI7BjqfOj35pTmvOcN68Hwf/Z/9/f0YvNz8t/yw/Nj8ujvSe8p8CbylPZk+kP9gf7k/XT+JP4P/RX7WveG8tnuxu3V67LqrOzL7QLqR+g07sH6eBdnNhI+gzsRO/s3ez0DSC1ANDLiK10e8hHuEbQPXAt+C8IGiwDAAIL8xu7j4fnamdi62c/XDNCcyyLPkteK41Lwlfly/nEA6QFwBt8OZhbPGBYXCRUtFbcWbRiBF5sUqxOhEk0QLQ3fB9cBSf1L+Vf0qe9O69Xnm+ec6knwE/d5/WkCxwUZCjwPhBJ8EicPVAq6Bn8FFQU3BDoDMgOoA7YDfgQ+BLQBGv8F/Ab4tvR98FDpuONl4lXjBefE62Puv+8j8jPzrPPD9pP4Svny+c34s/Zo9Nbyd/It9Nn2AfoM+/35TPvB+tj4wvdK9H7vReyF66fq6+tS8MXwN+0L8lUCUxh9NQtIlEQiQ95HAUndTYdNaj0JL3YkjBSfDD0MxwY+AJL6r/Tw8yX1v+4F47Pat9cK12HV688QySPIws7C2bnmwvGU+UEAqgd5EZMbtyKDJl8l5CCtHvcdShygGjsWMBAUDgYNbQkABan/8vlr9j7zw+2S6APlveKM4wXodu4n9bD7yAAlBRYLRBHGFB8U3BBkDGcIpQZjBLgAu/0n/HH7ZPzG/rn+u/xc+tL2EPS68sXvPep+5nPlWOXA5+Hqouxr74PzoPWe92H7IP0z/tb/4//F/9T/5v5y/iP/bf+8/0H+Tvus+iP6t/lZ+t35qPfq9BbzevDV7XPtDur14OXev+md/NUabDM0NmQ58EMZTNpYyF8vU/BEIjkyJl4aoRbPDUEF0P2X9f/0k/jr9FzrlOMg4OHfod4Y1wvMsMURxrXLa9Vx3tPk8uqr8WX76AjSFUYf5iPKIxokKCZ8JpckTR74FCwOXQmnBBUA4/u++PT2d/W88ibv9Ovf6Uzow+jU617ucPH29OX3l/0tBSoLDQ/AEFEQuA/OD6cO2AvyB+UDcQA0/ub9Z/3M/A79J/wI+076OPh89Q7zL/Ec8CDu3Otf62Drme3G8cfzlvZN+9D9IQDzA4IF6AUeBmcDFAExAKX+4Py8+iz5w/fr9Rn05vKw8evu2uy564rpJOh26SPqS+rX6xXnLuX99doM7R8uMMk0NjZpRx1aEmCTYzVeT0zgPu0zgiWBHKET5QG/8pLtkety6tbnkuC02vbZU9lb1BjM5cSxwY3Dsslj0G3VZdrI4YLsZ/qzCQwWax2FIWwk/Sd1LHwvNC3VJaIdtRafEfMMywYtAMf68/ZX8xXwMe7c7Ybu6+6J76jvpe818QzzjfYR/Lv/oQEaBMIGDQrHDksR+xCUEP0NywkvB+IEXwK1ACL/Rf2S/KP8jvtk+u35n/gt9m/zEvHx7pvtMO6H7xLyifa6+Ij43PkT+9f7i/5+/5v99PxB+2n5MPs+/AH8Xvs6+IT1jvQH807xF/Ao7bDq+eok6gnpTupH68LoN+b+5rTrlv6uGBklSStIM4Y6LkyaYTxl+F/KWpRLMT3uNogrXh8FFIoAcPBL64Lo1uSN35jZgtex2A3Y+9IpzMfIhcrXzmbTsNYW2Draqd9m6R/3pAWtEW8YDRywIrkr+DSRO7o5aDIuK3gkux7uGPcQoQYN/OPyk+sy54nlP+Ve5a3mNOne6tztSfKA9cT59Pwz/Vj99/zV/VgAFwONBi4IOwi9CEYJOAqdDJQOygz7CdoGEAJa/+78qfif9Gfx1u5Z6xvpYOgi5zfpKe0273bxGfQW9QP2RPni+ln7wv26/Tb9Yf1K/Ib9w/4O/3n/vv0h/O/7HfvY+Cj3gfWZ8WHvhO7q6wLrv+tF6fbkQuUy66T3BgzBHM0isykcNrNEb1aIYpFgQlmQUcVGFz5EOFEtvhwKClj4ie3X6WLmH98013/T8tNA1e/UMNJwz3DPntAj0Z/RQNN61jjbk+Fj6TTzKv7XB/0P6xfSIaYsJTQpNg4zSi7EKhgouySSHpgVywoF/wD1mu7Q6q3oMuf35AfkreZ068HxU/jz++38t/wz+xj6vfpN+zz78frS+e35qPyIAOYEoAj+Co8MXA1QDZYMJQt0CP0E/gBr/GH4sfQe8VDuXOzd6ivqxeuG7lnxuPT69ij5v/yi/y4B4gFWAZX/Mf06+t731/bQ9RT1GvQG887zfPTy8zXzs/Ia8nLx3/Go8QDxWPJ88Qnt+e2r9pYDKhYiI3ojgCiqNE1B7lFMWklUVE4hSHQ+NzrTNf4oHxpwCJj2HO/x65DmIOAn2IvTydOg1MDUjNNP0nLTfdVF1n/XZdlP2+bf++Vs7HP12P73Ba8LphLgG7slsi2OL9gsDisbKtoofCVOHhEV5AryAO345PKk7svrgOjm5EPkP+a66XbvRfQD97H5PPuW+7D7dfuw+pT5CvmH+JX4D/sE/3UDQQgmDCUOQg+xDxUPzA6DDZgKFge4AZH8xfjJ9PHxWO+h63jp6+kX6wLt6u6G7wHygvbC+hj/7gEbA2gDhgGD/sT7k/hg9cLyz+8d7r/uHO+37n7uue747sjvCPLs8mnz1vTm8XDu7PMG/rMJfRfOG8obfSenNdZCnFFKVKpPfE9NTLpIhkmEQikzqyLHD5ACPv2Y9enr4OD01YPRjdDmzxHQV84zzBPNbM6Wz4LSoNTF1gzbMN9x5HXrRPLB+HD/0Ac8EbsZ5R+iI9Enyiy1MMExpi6FKdAjkh3cF/wSUw1KBvb+Bvc48Ynv3O4B78Xvb+8n7/PvbPEj86j0bPTx8dDucOxg67TroO3Z7znyAvaq+Y79VwLlBfUIbQuhC/ILaQxxCwYLYQkvBQoCYv5/+VD3d/U88+jz4PNb8w/2gPh6+hD9b/0f/ST9kfvv+Fz2oPMd8f3uKOxU6cbn++bF5kborepm6xvt3O+Z8D3zmfQx8qf2ggIqDhoaCCOjJdAuNEAgTGdWQl2hWOtUz1NPTnlLVUcpOOEl1BX7BhD/hvj56zbfMtPJyXXGysQExLjEPMQgxHfGiskSzirUqNfH2dvcJuB35d/rmPHU94v/tggIEZsXih2jI7gq5zAQNJY0QTOkMJksBCfBIBoa5BEQCEr++fWy8OntdOub6fToGune6WjrNO3O7g/wAu9y7ATrkOqu6zbtc+277S/vq/Ll917+mAT2CMEMPg/SEAsTwhPiEjoRLg6rCkEIKQXFAFr9+/i09T31yfPt8xv1H/WA9rr3IfgX+YL50Pcs9hn13fJM8qTwZez26UDnb+Vf5g3nV+fx5+7pdeyQ7unwsfIs+P0EGxLnGisityc/MD9AH01BU/pWtVShUGBQGE+xSzdGTjljJ+sYfw7SBicAx/RH5jHandFtzZnMrcu8yUjHTcQMw2vFvMmPzvrRVNKB0rrV39sg48fp3+7O8zL7/QOiDIwVqh1EJPooUStQLFMtaC7VLfEqqiZFIS0bXxS9DIIFtv8t+1L3u/Nc8CLuie1p7q3wbvJ38krxVu9a7i3vPvAr8PHuTO1H7E/tSvAE9GL42fy5ALsE2QjtC9wNag6aDcUM7AvqCtAJcwdJBMkAzvwY+o/4G/eb9v71pvQB9GHzLPNu9F/1tvWu9Wz0Q/Nz8qjwb+4g7MjpfOjw55XnWue453Hph+q96xbwGfeKAqwPCBcOHOAjRC6HPJdJP06VTnNOqUyJTAJNIUlEQmo3zSgOHXgVFg+fB8D8mO/G5ADextl+18fUi9BIzBfIFcaSx+TKIM5Az3vOEs600DfWVNzB4bvlm+rl8Xr6xgMDDE4THhqhH/YjDCdzKfEqMiu4KUkm/yLNH44ceRkoFXAQBAy6B4MDVf/B+xz53fdB91n2QvU49GXzNPKI8G3u8uvJ6bznIuYC5n3nBurD7D3v7/GU9bz5pv09ASEESAbWB9MHTgfmB4kI8whWCPQF1AOJAlkB4v83/o38GPtm+l/5pvgO+Rv5pvh994z1hPPn8aPvdezt6ojpP+iv6H/o5ehf6qTq7ur07575dQMhDaURSRMeHSUqrTbbQVpE40PhRmVJuEv9TQpKpkBfNjkq/CEPH8kYCQ+9An31uu1q6ozmr+H328/Uds+TzGjKSMu+zKzL9snDyCrKCM/N1JfY3don3n7iWugT7171g/zoA2YKGxA4FVQaPB+zItojBSTkI8EjIiQeI6kgtB3DGS8WhRMoEdkOKQwgCRMGgwM0AWv+O/vs96z0pfGC7gfrfec65KThAOCk35PgmuKa5Q/pfO2j8nz3C/w0/3sBJQQ+BmsHugfpBrAFKwWFBKoDgwOgAn0BpgCD/7X/bwAzAE7/7f3n/KH8G/xp+hP40/VB9FTzZvLk8Prtuuup6nrpROkh6MLneuyQ9DL99gNtCBUOyxh0JosxMjnrPCU+6UAhRGVG3keNRew9YDTWK8klbiLNHJsSdQfL/Vz30vPs72zqlOR73pbY6NQB0zbS8tGMz/DLcMpUy3bN2M/00NPRMNX02bveT+RR6h7x0Pi0/5IF0AtVEr8Xrxs4HgcgGiKZIxskMSTxI6EjCSO+ITsgCh/bHSwc/RkGFxwTmg5QCcwDO//s+hj2dfAS6nrkiuB73qLdp9zz27vbodyc39PjHOjw65TvIvPp9gn7Tf5xALAB5AGDAWIBhAFkAcABIwIbAhIDWARdBZsGJAfRBpYGDgb7BFMEHAOzAGH+t/v1+L/2SfQe8fvtl+uo6PzlcuUz52ntvvVg+k79KALFCUwWfiNYKnYtxS8IMhs3JjyLPUA8wjeFMKAqbyfKJFshvxqMEMoHxALE/1n94/gX8j3sCuiG5EHiW+Bt3TjaktbR0lbRtdEl0pbS69IC1CfX7dr43ULhx+Vt62LxOfY7+nD/ywUEDLwQZxPwFQoZDhyfHjMgwiGfI8kkoiSyI2ojCCSjJHIj6R8ZG8sVuBBFC+0Esv6E+Ary7uvh5oLjW+Lp4Wngtt4A3tnePeHT47Xlyueg6qXt3fCf8+T1Wvgi+u76NPvR+wb9YP7Y/jH+wP5cALYCrgU3B8AIugo1DFoNSQ1MDO4KRgmMBlgDhwA+/eT5efYI8z/wxe3B6jnpY+td79n00vio+Yf9PwW9DvkX0xx5HjchryWiKrEvnDJjMqMw9SxCKfknUievJDAf9RePERIOnwuOB2UCs/yA97LzAvBG7DLpGuaC4sXectti2XzYbdfk1f/UZtXu1sTYddqv3PPf8ONi5+/p9uwW8VL28fsGAZEFGQq4DqISLhbAGdwceR/JIPggICELIswjniSbI5YgmBxIGScW6BK2DkMJAgT1/iT6/fVN8krvLu1t68Pp1+h+6Hfojug06LTn5Oek6Dzp+ena6jDsYO4z8CnxuvGn8iv0IPbe9zX5pvt4/ioB6wOkBZoHLgp0DGkOlg/bD40PZg7jCzAJpwbxA0oBO/5c++/4pfYz9K7ygPOH9VH4qfnX+G76Qf+gBdMLXg87ES8UQRhwHLYg6iN5JR8mHSWkI88jjCSNI4wfcRkAFCoRkQ+MDNkHigJB/tj74vmx94T1APMt8FntwOr76Enoh+cu5ijlu+Tg5AvlxuTl5PHljOe16CPpoOnk6krtF/DU8mr18Pfp+rz9tgA6BHsHcwqNDOgNuA8qEtEUCBdwGNUY5xgtGRkZeRjSFsoTIhBwDJMIsATTAJX8u/hh9dbxD+9B7QXsgevp6gvq5umP6lHrAuxl7Kvs0O2Q7w/xXfJs80H0qvV19/n45Prq/Gb+6/+QAZED+QUICFkJQAouCwsM1AwJDYsMAAw1C6EJhgdwBZMDGwIsABH9HPqr+C35IfoG+lv5Fvmt+g7+7wFZBRAI3gqnDSsQ5xJLFvkZfRxPHfUcvxxnHdsdAh2EGkIXMxRyEc8O1gvlCFIG+APXAcr/1f0Q/Ir64PgL93j1/vPp8unxmPAk71ntmesu6lfp7+hN6JTnzeZt5mfmQeZu5gjnV+g/6knsHu4B8Azzvfa6+sX+EwJaBW8INgtTDrMRjRVSGcMbkxxaHMQbpRqkGN8V/hFEDbAIBQR6/9f7+fjO9s/02PL+8QvyA/IO8g3y0PFa8onzMfRg9Kr0I/Wm9aT24vej+AH54vhc+Nf3GPiT+e/6tftZ/Ar9SP7V/3sBrAKcAwcFQwaEB2kIfQhwCCMIzAdJByIGXAR3AgABwv/8/t3+G/9X/4r/1v+BACkCqQObBNUFyQbfB10JzwqfDIIO3g8NETYSeRPNFDMVbBQgEyoSqxG/EGMPxA08DCELGAoLCbwHCAYWBBoCCwBs/dv6y/ig9oD03fKF8T3w3+6s7fvs9+tx6ovpPunB6CroCuhA6EzoEOnT6lbsfe1b75byE/aK+Av7Uv7eAW0Fagj3ChsNoQ7mD7wQqBCoDwgPFA82DoQMJQt3CrQJGQibBrUFagSWAhYBBADE/k39C/zL+pn5IvlN+VD5lvib98f3xfjm+I345Pg4+QL5+viG+Sn63/qz+wT8vPzj/cn+RQBcAWwBsQE/ArACDQNJA6EDTwRiBCME7QOtA64D+wJaApQBcwAPAEH/C/+J/6H/cv/W/5EA2v8oAfMD1wMGA+gDbwTxA6gGjwd4BaMHwAa2BDkI6AcPBQMGYAVfBbEJQAeGAqEGBAikBR0HqAZQA3oC5AKGAM/+oACyARv/lPyT/Hn7n/xx/1/7ivde+Qn4OPW89RP11/TD9YXzZfN89i32QvYy+uL60vkD/W3+gP09AGgCSwGPAkYFgAUXBykJWQgoCW8L+wkUCOkIkAdaBaEEiwIAAWsAef8Y/r/9Nf+o/gP9i/ze/KP9M/zC+Sn7Bf4n/J37Dv4s/J/8/v+uAC4BUAB+/7b/gAEqA9T+sPyfAFgA4vxC/uMBTAEp/4r/JgAS/xP/RwB6/vr8Pv4Z/p/8lfzS/VL9If1r/mn9TP3T/rP/0v9y/ur/dwEiAMIBKgN7Ap0CKgPLBP4D4AGuA54EawItAhYDZgLCAd0CggPOAU0CswPbAqsEuASWAV0BWQHbAHT/J/5J/5n9Cfsu/Iv89/rw+gn8Rfvf+Nb4YPoQ+qv6APy6/AT+FP5l/ub//gHvA40DPgPZAggCXAOTBD8FDAYwBjEHnQdfBwoJrgmYCLYHKgY4BSYEEwL/AMT/Xf6e/a/88PuT+wL8lvxd/Ez8Qvww/CP8rvv8+/n7JftM+4r7AfzB/An97/14/nL+Gf+2/7gAlQFNATUB0gCOAIoBoAFKATABhADIAGYBqQEaAtMBKgGjADcAKwDQ/+P+aP4F/kr9T/2t/a39Av6W/qH+zP5U/0z/Rv8v/6/+0P69/lv+jf6z/jj/EgCJABEBfgGzAeMB2wHKAaEBYAEcAewADwErAQ0BvQBLAOn/f//+/iv+P/1k/G/7s/on+vv5Mfo4+m76Bvu5+6j8QP1s/eH9Rf6t/lr/q//C/8j/jf/A/7cAugGdAhcDBQN5A7UEPwaCBxwIXwhvCGwIpAjvCJ4IxwfsBrMFhASmA60CvgHxAMP/jP78/Y79QP0p/QH9ofwj/P371fvD+9H7lPtM+1f7EPwv/W3+pf9/ADoB+gHxAtUDLgTyA1ADsgI5AvkBrQFbAVcBLAHkALkAfQBcAGAAOgDv/2r/vf5N/ub9h/2I/cf9B/4m/mb+r/4S/7X/GwAvACMA/P/H/2z/Df8S/3j/w//O/4//NP8o/23/4/8/AGMAMQCu/1X/JP/4/tj+jv44/gH+E/5W/pz+4f7M/pj+Vf7N/YL9Y/1N/TL9//wt/bH9Tf7I/vT+/f4P/0L/VP/3/mf+BP4L/o7+Xf8UAJEABQGhAX4CeANQBJIEUwRHBJUEAwVbBUwF8QSABDEEJAQOBMYDOQN3ApkB1AB+ADsAxf8a/1/+zf11/ZX9w/2T/Vb9K/07/ZH9Kf7C/if/k//9/4UAJQGxAR0CVgJ3ApcClAJ8AmgCOwLMAVkB5AB1ABsAt/9S/xj/Tv+8//7/AwC//23/Z/9y/zv/z/4p/qf9eP15/cf9+/0s/nn+rP7X/vT+7f7A/sH+1v6q/oP+iv7f/mH/EADLAB0BUwGDAaQBvgGhAWUBDgGeADoACAADAAQAKgBJABYA6//0/9H/q/9f/6X+Gv7z/ff9E/4b/hH+Ev5L/pv+vv6n/lX+9f2s/ZT9jP13/ab9J/6r/kb/8v+GACUB1gFwAt4CFwMvA2YDmgOSA5ADZQMvA3MD2gMpBGoEMASxA3IDUQM1A+0CDgK6AGv/df4p/kv+IP6p/ST9xvwQ/c39hP7+/iz/Xf+t/zYAHgHsAUgCQgIzAkACNwLtAT8BZADA/yz/gf7b/T391/z6/JH9Nf6f/tn+CP9H/67/6f+1/1P/1v6I/pX+z/4Q/x//K/9b/4r/mv+M/3n/Sv/6/q/+jP6B/pz+6P44/53/HgCiAPEA+gADAQABBwEkAekAdwARAMX/5f8eACYAEwDe/8D/q/9l/zH/9v6U/i/+3v27/a/91P0n/m7+k/6H/lT+Uf6M/q3+k/40/qn9bf2Z/RH+o/78/kT/x/+NAIoBmwJkA6wDvQPUAwoEMgQfBO8DtgPNAxYEbATLBM4EpQSMBFQE7AM4A1QCawGQAPb/Zf+3/i/+z/2l/eL9Kv4//jb+J/4y/on+Cf9S/2v/Xf9B/2X/uP/k/+H/o/9F/9v+e/5G/hH+3f3h/eL97/0y/mv+sf7//i3/Wf9a/0n/T/9Q/3D/nP/L/+f/1v/I/67/sv/l/9z/jv8s/9j+sf7D/gf/UP+X/9j/BQBmAPgAigH7ARkCBALfAbIBnwF9AUMBBgGsAF8APgA+AEsAQABDAEYARQBdAG0AYgBSAGwAmAClAJ4AigBkAEQAIADd/3j/G/+5/kz+8/2q/Wj9Qf05/Wb9pP3m/Uf+mf4E/4z/BQCFAOAALAGGAcoBMwKxAhQDeAPLAw4ERQSJBNkE9gTCBDwEkgMSA6QCJwKdAQABcgAmAAQAAAD4/9f/v/+P/3T/eP9N/yf/3/6Z/n/+bf6Q/qL+qf7I/vb+K/85/zH/CP+h/hT+sP1j/QD9sfxr/GT8tPw1/cX9Tf7n/lz/4v+QABIBgwHLAc0BvwGsAX4BTgEtAe0ArwBxACQA8//J/5f/ZP9O/z//Lv8//0P/S/9m/3r/if9u/1n/Wf86/xf/6f7T/t7++P4s/1n/iv+8/+v/NQBzAKwA8gD6AOIA3gDRAKcAZgAYALT/Vv8I/6b+Sf7i/XH9Lv0a/SX9UP2f/Qb+hP4M/8P/pgCQAVYC1AI/A38DnQO3A5EDOwPHAm0CVwJoApsCwgLeAg4DOANhA3QDKgOYAgICZgHMAEQAwf9O/xH/Hf9k/6H/wf/b/8X/rP+m/3X/Kv+v/jz+IP42/mr+qv7Q/tH+9P4t/zr/MP/Z/lf+8v20/av9sP2w/a797P1u/vn+hf/1/zEAYgCcANkA6gC/AH4AQwAKAOD/t/90/xz/vv6Q/mz+NP71/az9nP2l/cv9B/4y/pf+B/+O/zQAjAC6ANcA/gAxAVoBYwE0AQQB6wAiAYMB0AEAAhUCTQKVAuACDgPUAmACyQElAY0A/v9N/3T+zf1a/RP9Cv0Z/Sj9Of1Q/YX91P0Z/k/+bf6W/ur+SP/b/3EA4ABbAdoBXALaAk8DnQPJA/EDAwQHBOcDsQOCAzAD4gKKAjEC5gGBARwBtwBcACwA/v/I/4z/M//M/nP+Tf48/gv+z/2Y/W39e/3M/Sf+Zf6P/rX+/v50/9v/AwDh/3v/HP/k/qX+Yv41/vD9x/3q/TX+s/4s/3L/oP/V/yUAbgCBAIAAdgBFACIAEAAXAE4AVABJAEIAEAAJAAwAAwD6/6v/Of/c/rX+2/4e/z//Ov9C/2X/3v+NABIBcAGoAc0BPQLOAlUDzAPLA6ADmwOTA5EDYgO8AsgB1gAFAH//DP9P/pf96PyT/NP8AP0j/Ur9Sf1Z/Zj95f0S/iL+Bv7x/ST+gP4C/4D/6/+BACQBxAFmAtsCKQNTA1gDcwN2A1QDNAMAA9QCvAKGAiICygFsAdgAZQDv/0v/sP4q/uT9xv2+/d799/0j/m/+yP4b/2L/jP+R/6b/tv/J/+b/4v/9/y8AOwAxACMAFAALAAcA6v/R/6v/d/96/5r/vv/a//T/NQBqAIcAwADOAJsAcAA1AAEA3P+R/17/L//r/tL+3f7c/sr+q/5x/kD+Hv4C/vn9xP2Y/aH9uf39/V7+0v5G/9b/nABjASgC7QKyA24EAgVzBb8FzgWQBR4FiQS2A88CyQGhAI//lf67/e78KfzS+437RftI+0P7PvtY+3T7sPse/Kv8Kv2s/VX+9/6J/ykAnAD8AHoB0QEYAkwCZAKHArEC2AL9Ag0D/wLvAs0CpgJ2Ah4C5AGdAUMB7QCFADMA4v+V/2H/Rv8//0D/V/9+/7T/0//s/+3/3P/s/+7/DwAjACAAOgAyAAIA/f8gAN7/bf8n/7H+X/4W/qj9if2f/aP9sP2//Qf+V/5j/pn+Bv+X/w8AZQC3ANkASwFkAQMBEAHfAHQAKwDj/8n/wv9e/9/+XP64/dn96f2E/Yj9WP2B/T/+Xf7v/tn/Qf/9/0IBBAG/An0ETAYBB5sFygbLBjIJkwic/0MIrBqgE2oAZP3b/Uz+5ASE/tf71f5z+wkFUwJL8nf0A/7D9ofr5faZ+n72BPUP8RgCLgF08Q76BQQSBiz64voFC3IEB/tC/dAF/QU0AXADmP3XAoQD8/5/B4X6V/3eDPsEqP2K+VILGBAW+K39sQkgA1cAcQKWAjkKLwfF9GwJyA2I8GgDowXQ93AAFfzQA+H9Uvi9B/f/f/i8AOQAAPrd/ZH1mvomCjH2I/ixBRoCvvweAmUFAPj7B+0EQ/XrBRQJjPrX8mYM1QVQ7tICXQM8/EP5//wLAynztvgg/4L8XgBW+kb9Jf0kAA4FVPovAxwG5fv5AvcH4wSS/2UFCguQA3j8uARZD+T8ZgA4EFT9ogT+DNb5MAKTBD37VAhmAuD3Bfwn/PkDNPxI7Qf8KQ2U733ooxXb92frsxJH7775hQ+G5qr95BO48J3wNRSlAv7oJg92B3bq7wbcB+fzwwWLChPxBAM3EGX0fAB/DF7/kf9D/tcCOwoj+yv5Ew3tAXX3JgK1CaAE0+7v/8ATUvp68pYDVgr7/0n9gQO6AsP+UgH9Ahn8wwFz/Eb7IwfO/NgA6/3c+WUL6fvI8noFOgC79Hn/ugEA9zT9AwQR+PL3AQWK+6f6qgOa/IQB9gUbAcz8zwH2CDgBiQDAAwcCSgJ/BQAAU/3pCiUFqfoX/w0BwQEzBh8CC/kVBK8HLP2x/bEIEQOK9ZAInQYv+yIHMwBO+28CkghjARL79v3g/5kFwvhh/B0IWfVV/B0LB/gm+aELav1d9e79WQLbA7T1KvvzBA7+PQKt/vH+kAGd/uYDdfwV/u4FJfug/4UE1f4AB+sE0vb2/bMNagCV9FEFUQVy/IwDWP1f+r0LsP9M8hMICANy+dcDrPq8/EkJev+D+ikBLQPDB5oC3PuN/1wAQgWc/VT6xAUMBm8AlPhYB+UEU/X5BZj9x/v7AEL13AO5AEv2xPqu9ucAqwiy+0vx0/neBK/7EPofBGT8e/znBH0CHAN2/QQCmQZN+gsDRwWU/MX/B/qO/jEK7ADN+fYBDPz893UHFgfE/ET4LP+tCAUGygUo+7H7VQpwAmcE/QSI/LoE4gAF/e4FzQUb/D36SQZK/gb5dAkt/t/z4APVA4P6vf+1AUf6rPpEAJIEgQPO9jL0RQiBCbf3SfqnAGsF+gAP9KP/BgYSAGj+RPz+AN0AUAKj/kf7vwdq/Ur1igffBsf7Gf/VAcwFJQc5+Yf7qwdeA/v8I/sLA+YEV/7c/U39ZgH0A/f7KPo8BrACl/au/2EHZwKm/Pn/XwSiAZ389fpQBjYEsvp1ADgDigTMALD/y///+eUE5gNN+NL8ivt7BRwIZPTR+G4EnwdX/iX1OgMtBb//P/yn+/4DFQBE/UX+9QGqBEj9Mfy9/v//yv7z/iwBjAJ2/mj4AgPfBB4BOAdl/p752gQPD6QHdvbM/cMJHQKr/ncD2gF2/qH+WP0DATIHTP989mP4yvtTASkFOv979Hj3jQL0A/AC/P4397P2KgTlBrX5qgG4BLf2FP7PB3oD2wBp+kz4ywA2BAsL+QZv+2z/1f49BaIMwwTw+aH2qwTjCcMAyPxOAi0AWf40BQH66/80Axbx3vosBpYIdQJK+Of5H/8WCZcCPfbD+oUBUQIH/yr+7wXvCpn91vnBAkYB1v8r/ov9tgIfByMBTf7/BAT/mPzDAF3+LP+oABkAMP2t+zr99QIlBN76vPw6AeP8AP68/Z75If+mAxv7KvrxAb8Amf42AcIAK/7LALABD/6d/aP+zwSFCbQDNQN0BI7+XwEpA4/9pANeBkL7W/tFBeUEPwKYAWf8agBiBbr6tvqLBAr7ZfhnB2MGBP2Q+pz6vf3nBOsFofYp8kUB/gQe/Y/8DwB/AEYC8wC9/toAywFsAYj9pvx0AiMHCAR4/LT++APfBEcCFf3j/Pb9aQCzArH+xvzf//QAAAA+/jb9XQOOBPf7j/zOAL0A4QO1BLwAPv7R/0wD6QEo/ob9FQEjBXoBtP7u/4kAlgJ5/6n8kP4lAXkBTvus+ZD+ngCU/8v81Ps1/wcCcv5C+tj7FAFQBMIB8PzI+3EB9QSKAlz/OP66As8C8/5v/w4C8AI8/RH+rAF9AL8EuQDX+Ar93ACJ/6wAPP9t/DUCDgSpAFgAAf3o+6T+VwCMAXIA1wK5BXX88v16CWQCrf1C/aj8FwQ/At7/0P+b/iwBy/4e/7gC4/25+YAASgH7/LIDKwXp/N/50v98AwAC6gHY/UP9mAJIBQwEtf/X/DP/6wPT/3X9FgKu/wz9B/8AA4wAJ/tm/cz96f8bA6L/J/xh/OP/ggGkAEsAnQDxAGD/fQBuAqcAIAFbAXEAqQOmA/L+rv7IApcCsQBsAoEAAP/2/8P+c/8+/6L+2/6b/af9b/6j/qYAHQHO/Kr6z/tnASgEZ/53/QT+qQJiBuD+hP6r/xb+bAA4AKAAkAELAOD8Jv/5AhYCvgH4+wX66P8cAEYAIwGXAJcBQAGxAQ0DLwJ1ACT/ev9iAfcBFQHt/60ALAU5BEf9Xf4sAHz+YQJo/9/5zv48AQj/tvwn+1j+kAFb/sv5zvy7AcsAGP4U/54D7gSLAkcAzP6vAccEMwFe/oAADwKIAtT/FP6NAS4AGf9xAYb+mPuf+0n9Nf9NAWsBvf0J/uL+xP3D//UBjgHM/qv+WACxAXMDgP8F/QUCzgJaAC//fv51AI4AAQFGBFIEVgLj/yn9Tvx3AMMEiQDE+2T9HAAqAKL+HgCwAvL/4v3r/3P/kv6A/s39T/41AOQClgBT/OX9Xv4b/vIBlQI7ATn/FP2dANsBDwIUBAAAdvxg/icBlAA7AaIDvQCN/vUA3wJCAD//Lf+U/UYC0QI7ALkA5/4e/+3+wgC7Av3/Of7S/Mv9EgE1Ao7/NP53AJ3/t/2u/qoAQwBhAKcCywHlAPMAmQCwACQASQGxAoQBe/9Y/p7+kP9AAP//TP82/zT+H/29/TT+Z/4U/+/+Dv6o/kz+Wfxt/fD/dgJ3A4YBHgAmAKoARgDfABwDHQMZAcH/hQBZAzMEmABH//IA2wBYAJP+PP57/8n+H//+/1j/0f2Y/En9r/5y/80AqwDv/nf/KADD/4r/FgBwAAAA6ADzAOAAAAE+/9z+oQBXAs4AYv7B/mAAAgJbAg8C9gBDAU8Btv7K/+8A/wBPAmEAEwA+AeYAlwC9/vf9Wf5n/yEAE/45/dH9W/6b/5//Xv7f/x0B4/2H/kIBPgBXAPj/7P5PAP0CmgMOAlwBgwF+AqQCjAJAAvAAxAH5ARkB3wHxAYgAAP8S/lj+aP/I/mv9WP3t/QH/XP+F/jT9Nv0t/gX/if+C/oD+Tf9UADMCYwELASQCFwFEAEcAtACdAacB9v8O/5wBnQLiAN7/H/8q/0X/7v6Y/vz9Hf59/34A2f5i/U7+S/4m/g3/Ev42/n8Aw/8v/+//q/8/ABn/I/3a/dX/TgA+/6T/4gDOAMr/JABCAJ//uQCoACQBHQKMAaEChAJpAaIBMgFQAcIBwgHUAYYBfgHtACgAyQCGAFT/+/4n/23/h/+4/8H/GAAjAKL/LAA1ACEAkAAJAeoCVAPkAWcCSANUAyEEnAQxBXkGeAVfA8IDuASMA2IC7AKxAtQA9/8JAZUBRwCZ/lz9XPx4+wj8RP0G/av8Uvyg+z37Bvud+sr5TPrb+6X82vu3+qH6SfqU+7D8Rvuc+1n7tvgX+az7XPss+xD89flS+ov98fx2+5b8Sf3F/Lr9C/58/vQAJAEjAaQBUgFMAkgBmACaAmEDEAODAvwBWAHaAfUBFwAYADMATP91/4H/rv/y/3/+Z/0N/i/9Yf14/Yn7YP1J/pD9Lv/m/t7+7P/P/xUA8wF6BNUEtAVFCJEJWwvrDGsNiw6rD1YRsBK4E+0UIBTzEzAVkhSSE80SOhEZD/kMdwyHC18IRQYXBGEAuf6Q/Un6t/ee9kP1NfNP8cHuV+zU7PjsQOyF6/fpr+p66hDqDexV7M7s7uxi7OPtcu9S8azyD/Mp9UT3E/ho+WT7AP4FAK8AEgNoBacFOgatBo8IhQrcCd8JkQp/CnIJEgkVCdYHrwckBtAELwXPAjwBiQAU/0H+V/0//B37Sfoo+Z/5//nS+OP4O/hF92/3PPjA+Ff5bPqy+g/8k/w3/bj/6v+y/+j/LgHLBAwKJBDpEfUQUg9UDYwQWBVpGIcaEho3Ge8Y2RnlGs4Zfhd+FeETWhGsENUPfQznCXUHxgUxApH9lvrH9cL0+fUN8ybxfu/+68joiOYS5w/oc+cT58LmG+f7577oZemp6fHqouwx7pDv3PEu9aj1gvd4+wD80vzY/4gCGwQsBogIrQmUCuMK6wtiDO0LawwRDPcLugt6C2MK3AfmBqcFCQQyAmMAmP9I/jP94vtU+vb4d/cY9lr1qvQk9EX1fvST8wb1c/RO9OX1Vvb79uL3WviK+en68fsZ/e3+tgCQAWIDLQUnBxAKBAsADNYMDAyJDY4UDR46Iq8f2RcED2MPRxgZH2EgMR7fGM8VohY3FT4TPBFrDTMKggiCBzUGtgSUAOH8wfu69wv0uPGk7ZvrB+6s73ftYevR5kXikeNi5B/ly+eN6PboMOov6/7r9u0A8PDvVPHj82r2+/qE/Z/+XgF1A7IEKQU+BogICAvHDmIR6BCgD8MOsA7BDvsO0Q/pDRMMsAzCCuYJtglsBXMCKAE9/4z+df3w+lb5a/jM9NjxavJX8MLtVu8d8FDvwe8s72PuIu/v7kvwE/Jd8/z0RfRX9m/3ZPhh/M/7Af7q/4v+DwHCAUYCCQR3BBcGHAieCEAKkAyBDLALeAvEDJwJMQk5FbMehCatKHIYOgojChURyRx5JlAkBhwHGNATChM3FZ8QNA0vCfAEFge+B7QHRwPw+pX2gfQx9Ifua+ki7ITtpu/S8P/p3eIn4LLdYt8J5HnmBOn+5wDmoeZY6JXrCewS7CvtDvCJ9lz6Uf0TALoAOQNsBDAEdQbpCcoO9BNtFq4WBxdbFzEV/xP/FugXzRX9FE4TshO4FGcR6Q9nC24F7QQEAlABOAGs/Qj9jfn59NfycO5e67vrz+vF6/frveoQ6Y3nJ+cx50Hnrei66TTrqO3b8Bjz0vK29Lz1ivXf+Rz8H/4JA4QDaQQFBq8FeQYIBpQH5wlaCeEJQwvJC8sL0AtZDKwLPwqsCtQHWAbIDCwTeR5SJjUZhQleBJUEqRFgI34jdB3nGckRLBBnEz0U2xHNDCcL0QkaDeEPxgl6BE79ofqb+0b0dfLm9B707fag90DwMui143TfOuDE5Z7oVOmC6LblCuMo5HjlCOYO6HDnH+rI77jyFvbz99D4Nfpq+9/8wv/4BKcJVw7dERAS+BE1EqESXxSOF+gZwBpNGn0YkRjAGJkXmBZaEywQhQ/mDmINSAxWCokFzwGk/vL5I/hk97z0tPJo8bLuAuzS6p/oFuZh5jnnh+U55bjmO+d96Mnprut17C7st+137tvx9PW694f6C/s9/PX+CgBRArIDhwWkB+QGyAezCKcImQm8CQoLhQoiCRgLDgo8CIwKWglIBMEGGxGFGGYdrB1hDogA/gUQENIZ0iM8IuYYyBOdEdAQlhSiFuUSDQ4DDfoPqA/wDZQK8AKG/4/+PPy++B73wPlc+Sj54vbc7ADm5OIK4ibm3+n16dnn8uWC4t7f5eG645rkTubG5kfpC++y8Cbxs/Nx9L72Ofgr+oD/kgOFCVQN/wy7DRENag1zEAoUkheZGeYZEhh7FuIWHxezF24XZRQIEh0Rew89DlQN5wrbB60E9wC5/Zj77/qw+S33B/Vo8rXv2e1q7W3tt+z+6nHoiOhs6RjqfuwG7R/tT+6L7hDvy/A581v1ZvY491b59vm5+rT94P7wAFICgALiApQBCwRdBSQF2wbrBIcEDgW3BEYFNARhBI0FnQVtBGkEjQM8/6UC3w1CExkUURIVB2v+VAakEgAZix3AHBAUChJRFRMUEBeIGOEUKxSMFEsXERaaEBQO9QmFB84HoQWcAa3/hgBn/sH7/fhU8QjqXehp6QvqRewU65blwuJ/4NffPeEo4o7jyePS4wTm3ehO6Q3qceyZ7Wvw2vO39gv7a/71ALEDswVqBtkGPQnwDUASuBRHFtwVwBQRFdMW6xggGWQZKBk0F9oW1RYJFS0TVRFFDlsMPwxCC9sIJgaCA4L/Afy8+SL3bfaS9nz1i/Oe8N/s7Ol66QLqs+pw68zqW+ke6R7q/uom7KHtu+6U78/w0vJF9ND1Yfc0+Oj56fp+/P3+hv9eAQoDdAK0AtoC/QIjBK0EkgUTBwsGxAWhBikFAwW1BREFzQJMBAUMUBCnE14U7whrAK4F7gyeFE4cHBo4FSkSARDuEvYTpxQuFPAQwxNMFYwUzxKWDA8JpQZmBmwHUAO3AUECpv8V/iX7uvMV7mbsxeyv7m7viu4663vmiuNE4kHj6eNd5NzlWOb/5/3oW+i66M/pkusQ7rnx2/QZ97r54vyB/3UAQAIkBHgGhgo4DtQRohP1EwcUbBSCFo8X5hixGjwaOhqNGvkYHxcNFnAUEhNCEvMQMg+iDIQKHAjeBMkCYACG/Zv7jPoq+aH2U/Rx8cDuFu4L7tXtMO2g7Jbr9+ki6dPonelL647sh+117gnvUu8f8IXxW/NX9TD3Gvm9+u77fv3Y/iD/WwBMArIDzAQrBXsFawXUBeEGawY1BnAGjwbYBoQFiARBA1v/fQC+CH4NJA5PDFgD6Px0AUcJmQ8LFMYTWw/GDIkNPw9XERISJxLrEgwUKxboFXgRSA41DfMKIAuLDAAKUwiOCL8G1AMqACr7t/ad9Xf2fff09/z0WPBx7BTpIuic6Gjo+ei/6SbpKumb6a7oLOiQ6Mvps+zc7w3ysPOa9Xj35/jv+TH7+P0DATwEJwhGCn8KgArECqsLJw40Ec4SHhSvFMUT+BJmEhESlhFPEZQRghG8EPsO1AzGCm8JAwgPBlQFnAQSAzUBBf+0/FT6qvh79z73avcY9h/0ifKU8ajwb+/j7v3uCe+p7+LwS/G38IPvGe8r8J7xaPNe9NH0oPX99dz2UfiQ+dD5UPoU/GX9P/52/lv+f/6F/zcBSQGAATMChwISAxkDPgPCAbAAdgVaDLEO3A2WCUICkgJXCWEPIxXKFroS5w0hDuMPzxByE2UThROOFG8UYRW4EpgORw3xC38L3Az6C7oJXwk1B6oDMgBl/JT5BPjy+Vz7FPqV96fxb+1V7EDsdu6C78/ube5B7Tjs1uxm7K/r4uxa7lnxQ/Qv9Wr1VPVA9mr3g/nU+zH9z//4AacD+QSaBA4EWQQ+BvQIVwu/DLUMEQzBCwsMGAwZDCAMSQwYDaMNmw0VDNQJkAiiB84HNAiAB9IGngXyAx4CbQAw/9z9UP0d/aP8CPw7+vj3Zvak9Yv1U/W39E/08vOv88vzPvNm8i/yffJi81X0+PQf9Vv1TfVy9df2lffU+Br6Vfqc+1r8u/zq/JT8Z/1o/mL/nQAqATABywHoAfsBWgL3AawBHwCLAi8JtgtwDG4JzAAm/okEZQpmD9oS4w5ZC+AJqgmwDBcNtQ7LD3QOxBBYEYUO7wshCrkJ2AqNDDwNGgupCL0InAapBMoD6v/O/jgALwFyAeP+Ift79yT1x/V792r3Uvdn9obzx/Kp8s7x2vCe8E/ycfPj9EX1JPNU8r/y/fMI9pf3YPik+I75VftR/Pf7Ifz9/Hv+qgG9BJcFPQVFBWIFLQbPB1MIpQjKCbcKiAvQC/wKvQm1COEI6QkiCuAJPgnEB7gGCQYkBUEEPQOOAiECCQKaAaT/zP2a/GH7Rvtk+436y/n4+K/3rfbS9WX1ZPU99VH1Y/Uv9Q71n/RH9L/0GPWi9Zr2yfZd93/4+fhp+br59Pmb+tv7Y/14/t7+Nf+K/5T/dQCKAX0B8ADaANYCNwaqCRML7wYrAhgCLQT0COAOTg8vDBYKjQgtCXYL5QyoDY8Nlw7ID7AOjA3ACx8K5ArEDNsNZAwGCyMKVwhmCNwHAQVkAwADJwOWA+ECfADz/FH6UPk4+bL5kPlw+Gn2ovT886fykvH18RXyrvLY8z3zgPFu8Gfw1PHg8371N/bp9QT25vYI+Jj58/pr+1n8XP4FADUBGwJ7ArcCegM0BXkGSgcwCD0IlggnCdoIlAiCCMMILglcCbIJPgkECAwHCwaHBXMF7AQWBEQDnAKhAYUAyP/Z/gH+Kv3w+yT72vpu+or5b/jP90P3wPbM9p/2GvbK9cL1rfWj9Q72F/ZM9j33y/dy+Gz5EPpe+sz6t/ux/NL94f6V/3oAOQGrAbYCmQOSA68DlQO2A9QELQYYCOoIYAdCBRcE3gTtBgkJewmtCCUI0wYvBugGfAc6CKoIoQimCKQIAggaBwsHVgfkB0kI1gesB3gH4AbUBmwGnAVQBdsEmQTuBG8E9ALTAb8Ad/80//v+Sv7v/cT8O/tc+kj5Mfhm9+/2NPcX9yT2U/XU9In0cPTg9EH1UPWR9XL1MPal9xH4cPgg+Qv6e/uo/Dv9uP1z/on/2QCzAXkCOANsA+8DpgQlBTsFQwV3BYEF4wWFBeUELgXmBIEEAwRNAw0DZwLKAXsBQAHxAB0AfP/7/j/+tv3//GX8dfyI/Ef8tvvL+mf6lfrU+ij7RftC+/36sfre+vz6ffty/Nz8D/1P/Yf93/02/mv+hf4K/xkA2ADzAAwBhQHoARUCPgJjAsQCfwPyA/MDXQSwBIsEZgQUBFEEwwT6BJEEpANIBN8ElQQdBAID2wLSAgwDwQMSA3QCzwFqAWUCYwJvAeMARQD7AIUCBAIJAXwAg//7/ywBUAG8AAQAVP/L/o//lQB3ANz/xf4c/m/+Lv+3/xn/Qf4V/tD9lP2c/df9ZP6e/kr+LP4J/qD9hP3X/Yz+/v4b/yT/6/48/6//qP+j/3T/eP/F/w4AZwBxAGYAaQBRAF8AXAA1APf/rf/l/x8AAAAsAD8A9P+u/yf/lv6A/or+d/6d/vT+Nf/5/lX+7/3U/QT+Yf5g/lv+cf6f/iL/kf+h/0z/9/4p/0n/dv9PAB0BcQExAVoAy/8AAJYAEAE7AYQB4QHGAUQBoQBlAMcAUgHLAb4BmAGLAUUBUwFZAWYBbQH6APcAZAH0ATQCaAHBAMIA2QAXARABpACVAKsAqwC6AJEAJgB9/zb/pP8tAK4AaACs/4z/y/9DAGEAxv9l/2//lf8vAI8AQgBSAHUAVAAaAML/of+N/7r/JQBsAIoADwB1/1//mf/u/+n/ev///uP+Vv/j/woAy/+M/4f/rv/L/5r/S/8p/0T/vf90AKsAKgC6/3X/Uf+A/3n/Gf/o/jb/pP/a/8//Wv/C/nL+jf7W/r/+nP7T/jv/xP/f/2r//f69/qj+/f6i/1YAtwCnAKkAsAC3AN8AnABaAI0A+QBzAbABrgFgAfgAvgCPAKAA3QD8AOoA7ADQAFwA/f+A/wz/NP+8/wUAAADR/1L/2P6M/j7+Rv5o/n3+mv55/jn+9P24/br9xv3O/ef9Af4r/lv+if6U/pn+w/7i/h//ef/H/wkAGQAkADoAbwDaACYBUgFsAYoBwQGzAXABZgGdAR4CaAI6Ah4C9wHJAcgB0QHYAbIBagFiAbIB8AHJATcBdQD9/wcAWwCLAJoApACCACwA8//L/1X/G/9X/3z/sP+9/4//c/9X/yL/Af8t/1b/T/9e/5f/wf+5/6L/f/92/5r/pv+b/5f/vv8RAEMATQAoAOf/y//r/zgAfwBxADEABAAPAEUAbACdAMQArQCJAGcAWgBvAIAAkQDQAPMA6gDbAKoAkwC5APEABgHRAJ8AZgBLAIQAogCdAFsA4v+d/1j/Ff8s/4v/2//O/1b/l/4D/ub9EP5R/rL++/7t/r3+bf7//c791/0N/mj+2v5A/1n/Rv/4/tf+CP8W/03/rP8YAG8AXgBLAFAAZQB9AIUArwD0AEkBggF5AWYBTAEqATcBcAGYAcMB8QH1AeYBxAGfAVEB9QDuABcBRQFJAQwB0wB9ACUA7f+2/7D/t/+7/5z/N/8B//r+7P7O/qL+b/5L/n7+yf7Y/tP+qP5g/jn+aP6n/rr+0f7f/hf/dP+X/4T/Xv8//07/e/+2/xMAbwCZAMEA0gCZAEIAEAAHAEYA1QBOAXIBQwHdAIQAhACOAHEAkwC2APQALwELAeQAggA7AEkAUABbAFYAZACIALMAqQAnAJL/L/8r/1r/pP/b/5H/Lf/p/tf+yv6H/nH+if7L/iH/KP/n/ov+df6z/vD+Rf+e/8n/GAB0AIgAeQBmAHMAtgAhAZABwAHLAbABnwHEAd0B4gG8AaQBzAH2AQ8CDALUAYoBVgFLAT0BFgEAAQoBFgEFAc0AbgD0/6v/mv+y/+v/+P/K/43/Uv8g//P+6/4b/0v/Yf9E/wH/y/6k/qH+2f4H//P+2/7i/tL+sf6b/or+tv7h/vb+Gv8F//P+2/7W/jL/bf9k/0L/NP97/8T/4//d/8D/vf/r/zcAagBgAFYAdQCIALEA1ADEAL0AsADGAN0A2gDTAKAAkgCtAM0A0QCZAIMAfgCVALgArwBsAAgA6P8KAEAAdACCAE0A9P+m/1j/Gv8N/wH/GP9Z/2T/Uv8N/6D+X/44/l7+m/6X/sf++/7v/tn+uf6P/nD+mP76/mn/x//b/6P/j//C/+v/DgAwAE8AnADxACsBLwEOAQEBGwFPAXsBoQG7AcgB6gEHAhQC5gF/AVcBcQGrAdsB4QHNAZgBbgFMAQQBsgCCAI0AtQCxAHQAHACi/17/d/+F/27/Fv+z/or+dv5a/kX+Nf76/en99/3L/ZL9S/0q/XH91v0g/hf+yP2x/cT90/0b/jj+NP6T/vL+Qv+K/23/PP8W/zX/v/9BALoAAwEtAWgBiQGQAV8BVAG2ARUCXQKFAoECYQJPAk8CPwJUAnQCVwI2AkkCbQJIAtQBhwFtAVsBZwE6AfMA1wCFACUA5f/B/8D/q/+T/2n/If/e/qX+iP6E/q3+xv6O/kn+B/7I/dL9/P0o/k/+c/6N/nf+Vv5Z/mb+mf7t/lX/nf+3/+v///8JADcAbgC8AA8BeAHfAQsCLgI3AhgCKgJeAocCmwKYAqMC2gLjAqACXQJDAiIC/gHxAbUBUAEPAeIA0wCxAG0AMQC//0z//P64/o3+VP5j/nT+N/73/YL9E/3O/ML8+vwl/WX9mv2A/Uz9QP01/SH9S/2o/S3+qf7v/gL/A/8b/yr/bv/5/2UAzAAjAS8BHQEbASQBWAG3AQcCUgJZAigC+wHBAbcB0gENAksCQAIUArkBQAH6APIAFQEcAR8BCgGxAEMArv9i/2z/hf+//9X/qP9P/9X+iP5w/nL+kf6d/ob+if6M/lP+Gv4T/in+WP6C/pb+r/62/pj+hv6i/rr+1v4o/3T/o//N/wAAGwAQAA0ANQCgAPoAMwF4AZwBpAGQAY8BzAEUAnECqwKrArcCngJ0AnsCbgJvApgClgJzAkwCCgKqAXQBegFuAUABDQHOAHUAIgD4/8j/gP80/wz/A//p/sv+rP6B/lv+Q/4p/gD+0v29/df97/3+/RD++/3w/Qr+DP4C/iL+Xv61/gL/G/8X/wn/C/80/5P/6f8QADUANAAlADMAJgA5AHEAqQDuAOwAmwBkAD0ANQB0AKMAqACiAGoAMQAZAAEA9/8FACMALQAXAAIA5f/I/8z/z//H/7j/n/+T/4//mf+a/37/cP99/4D/iP+N/3T/g/+y/7z/0v/k/+D/7//1/wcAKABEAGsAcwB6AJ8AsAC3AJ8AlQCzAMQA5QDtAN4A0gC8AKoAuwDwANsAogCVAHAAYABHABwAMgBaAGUATgAWABoAHADm/9H/+v9VAFkAIQAyAEUAnACaAPH/2f8HABsANgDa/9n/PwDz/7r/e/8Q/4P/jv8f/z3/wf6J/nT/3/6w/Tz+RP40/rv+Hf49/gEA2AGDAHb9M/6T/xYAFQA6+fP6EBCiErr/qvXa7Qz6bxF5C3MD2f/Y+P79pf5J/2oF2QPdAYj8S/hQ/VcClgS9ASb/MP4F+uT7TgHuBDAGCgGZ/EL8L/4nAUoCagFb/4v+sP7O/sT+7/6f/4T/2v9WAB8AMv8D/4gA0gCxAKEAlgAtAXEACACFABwBRwKfATEAAAAHADMBwQEdAbEATwArATsADf+VAFEAWQCLALP+JP+G/9b+NAABAFf/jP8X/j3/KgA0/7EAtf9R/wcB4/+fABgBNQC8AbMAnP8WAeAABgK+AUr/RgDr/6b/2gB8/ywArQAG/4b/LP8M//7/9f4g/8v+c/7w/z//3v64/g3/lv+V/lX/h//E/9P/SP+CABkACABUAFb/1P+8AOEApwDw/1v/OwCCAJX/2f8/ALQArABH/2z/tgChAPL/XwApAV8Avv9T/zsANwLAANL/F/8x/y8CXwBe/0oAHP8MATIALP4tAPT/Cv84/wf/ev82/zr/w/7u/VP/sv6A/tX/iv5Q/+n/D//R/0D/kv8BAUwAW/9WAO0AagBLAYgBDwHhAEwADQFqAfcAbQFmARoB5gBCAO3/1AD6AYQAHf/T/5v/DAAwACP/1v8NAPz/+v7q/PD+1AB9/9X/1P/d/ykBgf+z//kAVf40/44BdAEuA4kBZf78/yn/cv/cA7IDTgGi/tX9RQB5AOoBZAPk/2P95v4AAAgA2ADt/8f+/P/4/hT9fP6w/7UA0wC4/UX9Uf4o/zIBYP/U/hIAU/3a/YsAGQBo/5//tf8B/h/+QQF9AcT/wQBpAVX/SAD//Zn6dgmgENT/1Prk/PT+ewmsBqAB9QMAAML/DwAa/iYB/AL7/3H7AvuW/F/9E/6V/XP+Kf1s+vD7av06/04ANf78/U/+8P1u/nEAnwG//4v+6/5AAZ8BPgBlAYcAlABpAmkCMAEkACUC1wJcAvoBOQAwApoDPAJaAlUBuQHOA3ECcf/v/h4CWAMZAUP/rP3o/gwBXwAL/7P9k/2I/2v/Uv20/jL+OvwfAI0AH/3z/RX+hf1IAJoAMv5f/nv+mP/HANn/dQAw/3r+IwG9ALX+R/9/AZUC7v/g/ND/GQOgAgwBMv3d/vYBnv9QAvsC5/77/6L/1P2OANACDwG2/+4AdP/D/GX9SwCwA4kC9f3t++X9pQLmAVf8uP7rA4wA+/wo/oz/2QOUBIL8HvtKAhcEWQF2/ff8tQM1BDP+lP3b/zwCLQFH/h0AaQJEAiT+0/mu/pkEEQNd/kH7y/3RAEv/hv60/wwA2f6M/T3+SP9JAFYA2/1s/x8B4/3w/iYArAAzA/T/HP5/AGUB5wJkAzkB4v4L/8kAGQM4Bc4Cvf1c/kYE7QV+AaL9tv6GAggEUAL4/vj9zgANAuz+V/1WAe0BMf1E/Wr+2/6BAQ3/PP2p/jb9iP0D/iT/lgJ8ATX9wvz2/Wn+ggDm/+cA7wLo/Zb97gHbAnsBGv25/eYFTQbE/Jn7GQF6AwcEeP+L/YYAvf8W/xYA0AADAZUAeP4P++796wPnAtn93vu3/VH/Nv9SAPQBlwDJ/sn+JP0u/t0CZALc/2AAkAFlAIv+eQFcAmEAKQK7ADf+YAHeA+sA4v6gABkBQAHLAOf+2P4/AVwB4f++AdP/hP3H/lb98v72AbIBqwA0/iv7vPzRAE0Bz/8U/m0AfgDW+yT+QwAHAQ8DAf6m+ioA2gJUAVQCSACF/Zf/KwE3AfEB/QH7AKIBXwAw/v3/BwIIAwsCOgB9/g3+aAG3AXz/sf8UAK//o/47/qD/jQHaAO390/wJ/n8AUQF7/0z/kv/C/fj9WACkAv4BC/0t/Kb+VQCSAxEB8/yB/4gAF//M/tz+tgHfA8f/Gf2y/5cApACkAIn/pQCKAdb/NP51/ywCQgHE/zcAUf9e/9f/cAChASIAkv/1AHoAf/6y/joBwACKAHwCkADZ/WL9Lf6LAX4EpQLL/Q38L/7qAGQDEALB/qD+Vf5n/lb/IQCFA+8B3vzM/af+gf/dAd0AVgFoARj9j/wdABwCnwFSABkBIgBa/mH/rf4aAD0DAAGj/hP/n//F/7T/SgDLALkABgCV/Rb9TQEtA44BbAE3/x/8Pf47AdAAqgBzAu4Bqf4X/pH/GAB1AewBkP9r/j8ArQGLAd0AkP9//8gADQDI/koAIQJOAS7/S/5V/1gA5P/w/uz+jgC+AZ3/Gv2T/roA+v/e/kb/WQDgAEgA5f4D/wQBnQB4/jL+pgA3BI0CGv2t/dUAaP/I/70BnwCiASsB5P1Z/of/GwAdAO3+bv8YACgAhQAD/2T9bf8nAXz/Gv9E/+v+RAFqAQn/vv5K/iD/kAHHAVoBxADN/tb9Ev9pAfMCNgGH/ygAYQB3AekB1v8s/z0AzwCYAPP/TQBsAVUBrgBB/5z9E/+yAFAALAF8AY3/iv4c/x3/xv71/9IAGgBgAM//IP7f/gIAQABCAID/nf8FACv/Uf8PASkCoQEn/1z9gv+lAVgA1f8iATMBIQCE/sD9Hv8SAeoByAAq/6P+U/9eAGYASADr/1z/Qf8b/6f/VwCaAFoAjP/j/5oA7/+S/0sA1gBeAQEB6f8XAKYA+QASAbAAZQAkAGAAFgFCAT4AJf+i/8gAVAGmAGX/+/5g/zgAkABqAB0AWf/x/qP+Lv+KACMAOP9r/83/qP8k/xH/M/9Y/x0AzwDs/8X+9f5W/1kAVAFzAMP/6/+q/9H/8f/u/6YA8ACXAFQA6f9M/5n/dgCuAAcB6gAAAEf/Iv8vABEB7wAtABj/Tv+AAKsAIAAiAL3/yf4d/yEAmwDKACAAQ/+l/zYAOAD7/zX/Af/C/24AogBkAC4A2P/U/n/+fv9HALAA0gBAAKz/Ov9r/3MATABe/8X/JgAaAP4AVAFSAHX/Gf9J//f/hwCoAFQA4v/D/9//8f94AHsAGf8q/2gAVABHAKQAEQBo/wYARADf/2wAaADN/63/i/++/zcAhABjAIX/0v4V/2n/r/8sAEQANABSAMP/hf6M/tz/qwDwALEA8f8AAAMA2v4Q/2EAxQCVAKT/Uv8aADcAwP9F/2X/5v9AAJcApAAiANH/6f9g/1P/UgCRACkADAA3ABMArf/a//n/6v83AA4Aov/F/ywAdwCNAHAA8f9Q/2b/VQA9AV8BswDQ/3//+/+RALMAwgDTAJAAWgBMABQA3f8MAFYAUwAmADIADwCA/5//+//N/93/t/8k/1r/QACoACAA7/5u/gr/vP9DAAIAr//+/6b/vf4y/tb+DwB+ADkAvv9y/6z/w/8a/1z/fwC+AKsAXgDH/yAAxwB+ADQAkwCUADUA8/9TAE0BRwFAAG3/Uf8GALQAgwAtAGMATAC6/4v/rf/z/xEAnf+l/2oAcACz/0b/b/8MAH4A7P9d/+v/bABVABMA9P/Z/13/Hf+1/5kAAAFqAIH/b/8CAD8A2v/n/30ATgDl/2X/NP8gAJ8AJQCq/2L/H/9n//f/+v8MAOP/c/9V/13/jf+M/7L/HQBwAJsASACi/1v/2P+ZANQAmQBNAOH/xP8PAB8AAADQ/wgAWAA4APv/a/83/2z/mP8wAIIAEwBk/wD/8P5u/1AAUgDy/9n/lf++/2EAbAADAK7/kP88ACcBXAH0ADQAYP9e/ygAlgBhAUACnwGkAFYAbABvAHIAmAD6APgBFAJWAaoA7f8CAFMAjQD8AB4B9wAzAJL/pP/n/zcAXwByAMj/6P6+/qf+Rf9rAF8Aa//J/o/+kf4D/2//Rv8J/8n+VP6v/lX/LP/m/lf+1v0t/iP+7v2E/tH+Uv4U/sL9tv19/iX+ov0A/hH+qP46/wr/4f7k/qX+jP5M/6D/x/8CAIn/6v++AKcAkwDAAHMAcQA5AYcB5wFHApwBVwGkAXsBowFOAokCggJkAogCKwOlA9gDcQMOA1YDCwQQBcAFbAaPBg0G8QWnBfMFTAcwCGIITQigB3gG2QVqBRgFLgXHBMkDyQIrAlIB/P/9/sL9qfwk/IH7+fqa+j76gvnd+JD45ffe90f4Wvjg+Cf5Z/hQ+A/5Kfnk+c76PPqN+Uz5IPm/+Yf78/wB/Vj8T/vH+kj7avyP/V/+o/5i/lf+VP4d/jj+av6T/un+I/83/x3/lf5T/nv+Qv4Y/rX98vwV/Zn9k/2a/Zn9Cv21/KD8z/uI+xX8bvyF/bj+F/95/3X/Sf7+/XgAdwSnCXwOIhDsD5QPkw9AETAVyBkKHrwgDyA5Hu4ccBv6GbAY2xbVFEsT0g8DCw8HwgJq/lj67/UP8sPvvO3D6+XqrOk16MjmZ+UV5c/lceeZ6Tzsyu698F7yQ/Pk8/n0S/bX+P/7TP7y/ywA5P8XAF8AjQDSAKwBSQJiA54EAwXtBN0DkQKDAYYBrwFTAUYBigDg/+v+Zv2p+/b53PiB9/b26PbH9kn3PveC9tz1o/XP9Zj2DPh4+b364Pu1/If9Nf7w/sX/pQDSAckCOQShBVUGSwe0B3gHxgfoCcMNWBPwGBsatRjkFmoVBRdwGvIcNh5jH2Qe2hs6Gk0WhRHpDV0KNwhDB48EL/92+jz2bvIb8L/sSOkq55rmW+f/6JHqU+qP6dboYunQ6yPu6vC18+r11Phw+238U/0U/gD+Zf8nAugDPgXRBYMEewT/BMcDIgPMAhEC/QHsAtoCOgLgAYL/W/1s/Lj7vfri+YX5VvhF+Mn3sPaL9rf1qvTE83b0vPUo94/4Zviu+JX5cvrn+i38s/11/jcAVwEEAjcDHgSlBMsFXgfRB0YIkAhDCLkIJglJCOIInQ0PFWYd9iEhH9EYbxSvE8oWjBvqHU8eQx0gGj4WMxIoDR8H/QG+/rj9Cv10+d/zEO9y7HbrTOqn5+fkMORg5XDoxOwg8N7x3fGZ8CfwUfHg8w/3S/oe/UD/9AAnAagADAA9/7T/dAGeA6AEuARoBJQDLANvAk8BOAASALgATwGGAsgCyQHu/0/9Vvsi+qD5PPkt+WH5Yfkk+bD3v/VF9Hrzv/M49U330viH+bL5fPmo+bP6vvsO/ZX+PQDhAd0CrwN9A1MDJAOoAjkD2gPDBC4FlAWVBYwFegYUBqAF9QTaA9cDjgdeEEQaLCLIIvAbARXAEVQSgBVcGXsb4BzQHBoZ8RPcDYgGHQCu/Lv78Ps3+2X3RfI774/tHuvB6CrmVeR65XDo0OsY70XxcPF08RryBPN59A324fg//HL/PAJlA18DfAKUAQABegHrAuEDjgRNBeoFQAXRA7oBev9L/xMAFQGeAtsD3gNAA/MBiv/t/YH84/ot+rL6Efzz/Or84Poe+B/2kvR28wjzy/Mb9dn2+feV+O74kPgs+BH41vmo/JP/hwEwApACEwMJBLYDRQRcBM8DcwRhA50CLQIdArkBrAHPAToADQH6AJP/Uv9P/hb8nftBAoANbR7lLJUrrCElF3wQ4hGpGOkdZCKTKGsoJyLxGm0RHgjdAez8kPoW/fD9A/j28E7rGef45SbjbN5S3eXeSOBC4k/lHuhR64/ss+py6sLsdfDB9E75lP7GBOAJVgsVC0wK8AmLC04NlQ4tEbQTOxOqERAPAAsUCVsI1AZYBvQGQgbiBP8C9P5d+1j5I/dO9Z70SfRq9IL1LvXK80Tz6vLw8i/zffM49Lv1/vY491r3K/eU9xj4rvgl+qT7L/0i/kH/8/91AIAArP98AFkBqgLJAz4EEQQ8A+sCywCuAO//B/7j/Zf7Lfqz+Nz3M/eA9874R/f/+Iz52fhV+uX5LPhv+GcBGRBAJWQ3oDWOKv4ecBftGTQiZSmmL103Lze4LtMlyRkiDSIENP32+hz+LP519Qbrt+Nx3kHcwdcX0bHPedFj0wzWCNqF3v3iq+Un5QLnEezZ8Nr1D/sEAjILKBLBFNsUZBSSFAcWoxe3GGAbPB2UG4sZYhbWEWIOjwu5CFsHwgdJBv8D0wF3/f34ePU38mLvKe7t7UHuF/Cu8J3vke4C7mzuDvCR8uX01vc2+iD7e/yu/ZD+dv+HAMQBPgN7BMoDUQMXA7YCMAMRA/oCowGc/5b8N/q7+qL62vsY/Iv7pvpb+Bz3ofTJ9Yb2b/Zl+A33d/dS93X3wPdu+Kv6l/no+8n8iPw1/9P+pPwR/cAI+xrGL9Y8pDM9JVAc1hj+HCwkryrjML43kTVXK5siLRdNCjcA6vnT+gz/lfwd8UXmcOGJ3x7e6Nie0hPS49Pu1IjXOdy64ZPm1uiM6STte/I69uX57v4ZB/8Q/xZTGeIZChlVGD8X/BVdFjsYqBihFmMU8BChDCkJvAWSA3MC+wDr/pH83fqM+Mr17fOM8sbxRvEW8anxlfJi8+/zQ/Rn9az2Wfce+db62/sM/Qn+Pv8UAXYCJgLfAXcCAQNUAxQDRgJoAZQAZ/+H/lf9x/zn+zT6z/mJ+D/4APcD9Vz0EfNR9DT0m/Rb9Wz1GPfc9Vf3jPcx+Kv6dPhU+RD6ift+/Sj+WP/b/eX/eAC9/9AABP2F+dP+Xw87I7oytzQeKGIefRzCHKoghSfHLCoyqzTwLlwmih77E54HOAEHAFUAVv7T9C3qh+Rg4ozfX9s52FXWh9X50wvUa9gV3tbiruZ26m3vsfTl9m74+PwoAzgKARHuFS0ZTRvXGtgYOxiRFy4XdRdWFiwUYBFMDa0IvAVuA2YAAP5M+sj2N/bb9ef0O/Ps8Ebv9u417+ruU/Cd8hf0yfXU9lH4bvqo+0D8jv1jAKwClgQyBosGwAb4BdcE9gTpBSMG2gQ7AzoCkgEpAID92foZ+qr5Uvny+E/3dvbv9EDzbvGw8HfxLvGK8gzyjPIg9AT0mfXO9eH3B/kN+qf6ivn8/K39Hf+HANj/ywCcALYBYQAiAUz/vPotAs8S2ClyO8M7Vi3gHlYbbBrRHe0kCyucMh02qjCRJrgcYg8KAJj3aveO+xH9D/Ux6WTjCuGZ3izb4tdw17vXQNcm1zLcmePU5+Dqb+2K87D67/wD/Y/+qQTPDB0UwhjCGmkcfRqsFscTaRGuELgPaQ3HCpgI1gTU/0v8Hfkl94v2ePQi8rHxLvEI8PzvIPAb8QDzL/Tn9av4i/s0/XT+IwBpAt8FqQfjBzwIugiLCe4J1Ar7CuoJHgjdBLQC1AENATYA1P4H/Sv6L/do9P3xufIw9Ij03/RR9NTzk/Ij8gnxdu8B8ZDxp/MK9hz31Pcb9//3FPjz+uj8Bf1V//X+KwCKAB0BIAJkAvMDgwIkA2MCqAG/A74C+P8Y/J/+3wkOH40zFDWGK/QfnBf2FkQbHx+pI4AtMzIRLpMnwh3VEN4DM/pV94771P4v+fbu6ufV5CzjEN+W2QLZrtpg2iza7duw4B/nxOv07F3wzfZK+Qb6nPtv/3MHQg8VFCwWZBeqFlYTUxARDjcOAg/bDSwMXAkkBdsAPP5S/OX6rfpo+Sn4RfhS95L1+PWN9/34/fru+6P8W/5x/xQAUQEqA1UEPAUXBiQGrQYcBisEDQOEAgACsgAz/6L9tPxI/O75zPeX9qf1vPXZ9TX1JPTF8x7zWvMp9fH2X/g9+Xb64PoK/Hf8CPtK+077Ufyq/br/UgG8AEoBEf9b/kb/Bf8GAKL/sQCLAMsASAG9/2cA3P5l/pv+WP31/FL8lPvg9sbzEvfDA6Abty/gM+gqWB/hFiMVhhmKHtcmeDHwNTUyNCv6IPsS8wRo+kX4Qf2E/3T4i+wF4y/e8ttF2LvUldRt1TfUwtOm1j3cS+Ms6NHqfu/L9Qj5W/ma+lT/mwhhEtYYPhz/HDobVxjBFfITwhR7Fv8VAhRGELYKmAU7Ain/7Px7/NT7Y/sJ+uT1VfKi8Uryv/Li8qDymvPG9oH42Pji+Rv7MP3W/xoCogOWBJEEMgSsBREH/wYYBrIETgRWBIADzQFjAJ3/Ef5F/KX6q/lM+ar3nfXM9Pz1effq9+T3Jvfd97f45/hr+X75CPsL/KT8x/yH/Kv8w/uJ/Pj7Cfwj/aP8G/2Q/HD9Z/3o/cb9JPt3/OP7NfyA/bX8q/uc+tv7Cfqi+oP5QvTj+BgHWxwFL0M1zSu5HeoYLxZJGEAfRyWjLWM0wzLWKZAgZhOOAyD7APnX+6T/NPuj7w/nu+KH3s3bSNmE1mfWkdeV1+HaA+FK5EToXO1/8mD4YvuZ+7T8PAIaCtESqRpmHlwgNh8XHF4ZhRbGFNwTcRQ2FGcS5Q6NCNAC6v27+TT3EfaM9bf0e/Nw8Mbt5ew97KLsg+3A7lfxvPSk9+f5WPzE/lgB1QP3BSIIgAnYCcEJNAqMCyEMIAviCG0G0QTbAjEA+v1i/DX7OPlO9gL0DfPS8lXyv/FF8fbxBfNU8xH01PRe9tH3IPnl+vz70v3w/sH/oQBpASECqQFKAnwBHAGlARABggFwATMCWgG9AFf/g/uM+9z67/rZ+337nvpL+f35DvhP+Dn4ufTL93wDrhcCK1E0Mi5KIOAZ5halF0QcgSFQKTIwADDFJ/oeDBS4BSb7mPWa9qH6svgB7/vlRuJ+30PdB9s02PrXc9lq2W3b1OGa5xLtl/IT93H8OwAKAc8BygUlDI4TchoDHtofbh+UHOUY2BSlEU0PpA7TDdML3Qi/A6z+SPod9hrzLfKh8unyfvJT8I/u4+7J78/wovFL87z2i/pF/Qn/KQHOAwkGSgdQCB0KpwunC+oJFAglCLQI1wdiBa4CygDv/q78WvqO+GT3K/a59MXzCfTY9Ob0fvTM9Pz1H/el96j3ivfu+E37bP1x/4cARAFuAWEBCgFiAHYA5f8GABUAmv8H/+X9Uf2I/EH9wvxr+8n6bPhs92/2EfaA9nv3qPgn+Cf5tfgv+DD5g/mi+Sz6lgChDe0hqzS0OL8xbyZ/He8akx2gIasn/DBzNEUwNyiOHAoP4AEX94Hx3/Oo9lvyrupk40Deddtj2KDU2tQK2BPZVtq+3Ufjnuq58EH0YPjX/kkDTAWBB+IKbhHoGA4eliAhITgfGxvMFpUSRhCND8ENdgsYCCkDOf5L+k32yPI/8f7vYu8970vtI+tD69Tsh+798CTzA/Xj98D54vqY/SgBNAQWB4EJ7ApMDH0M7wrmCb0JSgldCHQHkAa6BVkEUQG1/a360/ci9XPz/fJE88DzXvNx8oPyYPOz87nzLfQp9cv2a/iW+b76q/xO/jX/GQB5AE0BpgFvARQBrQD5AJwA6wDtAKUAjgCI/9H+fv0S/QP8wfox+l/4Wfhm+P745vk9+tH6bPoQ+/z6AvwH/hn+1f5gBHgTUSf0N/47eDGMJeMeLx15H54kHyusMT00kS3QIXwVZgjA+6jy9+9x8nP0L+9h5MXbb9fT1BPThNI608jWrNqA3BXgPuZf7FjxN/aB+9QAEgZgCRQMzRBqFlIb+B4VIY8g+x04GmMV+xGfEBEP0gyyCckEz/6M+cT1a/NK8ozx7fD08PTw2O887o7tru528Q/1vfg2/PX+KQBJAA8BxwOrB0kKKguQC6gLeQugCv8IoAdyBroEDwKq/6X+Y/1D+zv4XfVk9GjzsvH97wfvXO928Nfxc/Kv80P1yfXq9q74c/oP/FH9uv3C/tMA7gG3AtsDRgUFBl0GkQViAxQC8gBYAJYAGgIBA3YC8AHn/yf/+/3V+2L6nPgm+Xz5M/oD+6r6xPrX+Yr5K/mZ+ef6hfyT/uP+tADXB3UXVStIOf058C7QIroaWBj4GhQhyilmMZ4yTyqRHYkPpgBQ89frsexq8czzyu0748Db7tYE0/vP4c/L09nZT9033ojhiue87XryivZi+98BTAd9CSoMZBCeFSkbSh8pIT8gvxzmFpARUQ8CD/YOpQ1HCtsE9v4f+s32cfXB9ET0U/T185jy4u9y7U3toe6m8N3yM/UC+EP6rPra+ff6hv4wAvUEbAZyB5EI8gg6CF0HmgfpB1gHUwZ4BWAFjQQbAmD/d/1u/NL6kfja9vn11fVZ9TT1NvbY9z759/hJ+Gf4F/mZ+cP5wfo2/Jf9kf5u/4gAvwFoAgMCmAHqAQ0DfwOAA7ECewEcAaIASAHoALQAnQAb/7z+Uv2N/Mb77frN+aD30/gf+UT5Jfqf+aH5uvqz/Fb80P3P/kP90wM7FHQpejq8PGwt8RrdE/oTMxl6InwpbC4bMIgnLBgFC43++/EM7NDtv/Kh9wP0I+f53P7XHtUY1EXVgtja3Jvgg+H846fpLO6X8X30efnRACMG6wjbCp8OLRR/Gd8cjx0THc4YZBKPDkIMSwz2DLYK9AbFA1n/LPlF9QHzpPGt8nby//DQ8SfyUfB479TvQPHA9PT3F/ke+//9Lv+yAOYCBQW4B1wJXglrCYgKNwtSC+EL5gueCy0KDQexBJsDwAJrAcX/WP4c/cH7afkn94H2BfZa9eL0yfSW9ab2Kfcr9/j3afla+gP7q/t5/IX9cv43/1cAkQGAAiUCIAFFAE3/T/83/0r/AP97/g7+pPx1/O/66PlF+sb5TPoP+kT6a/n5+DD4p/US9x74UfkT+5/77vth/Jn+Pf5p/3kAVv4lAsYOhSIANQM9/TQuJUoc0hhmGgMh6idPLk8yMi4MIjQV6wdi+dbvte2X8Ib10PR562bhYNos1dTRmtHP02TX2dvg3YPg+eWU6nDuFvIe92b91wKxBggJ7gy8EXkWGhvfHT4fKx1KGPITBhFvEJkQChAZDggLtwaIAE77rfcj9WT0XfTN9P71R/b9887w3e557iDwEfPV9eP41fsf/aX9x/4+ANEBhQM0BUUHxQkxCx4LEgtWC+QKdwlNB00FbQSnA/AB2P8C/jj80vkk99r0z/O/8xnzIPLp8bbyQvSq9T72WPbk9sX30fi7+uD8Rf44/4v/sv/BAJABbQHwAMIAVwEmAs4CGALOABsA9P61/tv+vP5//tD9Cv1h+y77//oP+q761/mz+LX4ZPm5+eH5V/sL+0n8E/99/1IA7ABG/23+qwbkF80r4TuuO6otISG9GlMZEB5bJQgrIzHHMZ4n1BqbDhUATvQ07xTvyvP99rLvv+JZ2YDTjNBD0UfSG9TP2M/b5tym4GHli+lI7uzyIfib/jgEnwfjChQPMBQKGlkepCARIG0cMxjRFDoTNxMBFCsTDRC1C9oEHv5j+WD1wvJX8lzzefQ99RbzIO546nLoQeif6nfu8vJN9zn63/oT+yL8Gf15/uAAQQRsCJILmww6DOoL0wvrCsIJ9AjKCCMIwwWmAsj/aP5o/TD7zfj89rr1OvSQ8mnxzPH+8831DPfX9//3efgV+U76JPxt/ogA4QF2A6QEnQXwBasFcQUCBZAFUQWcBDcDHAGbAPT/JwDP/3T+3Pw3+3j6Fvnj+Sb5A/h4+I32j/Zq9lX2MvYQ90P5Lfks/B79ZPzR/fv9l/21/oYHlxT6JpM3RTckL8AkZxtkGVsdzCJCKd0xvTGLKVwgFBPbBKT5xfGe71j1X/k/80LqH+E62DrUKNJO0APU6Nnk2/TdpeFP5cXptu2078bzcvsNAfYECgn3DMkSjxjMG40cARyFGQ0W3hOaETQRqxEsEOQNtgmwA6T9+Pjl9B/yKvKa8sfzrPRO8snuhexG60jrmu3Q8Ev0Q/gj+p36EvwK/hsAawIvBSEICQsqDXMNSA1TDbAMBQwHDDsMCwy5CqkHbgRjAsAAKf9K/ZT7MPoe+O/1JfQ285vzBPQd9A/1mvbr95z4c/hA+OT4Gvp1+638wP3k/j3/Yf/V/8f/PwBEAIv/B/8o/uv9Ff6X/tv+8/7K/rb9q/x0+m/5Pfka+Sj6Gvrd+jX7Ovtd+l/43PgU+WT6UPyi/dz+IgDkAUcBlQLtAgUChwieFj4pjTdDOtAvfyKeHOsZ0RsmIswo4S7bMMwpjRwBEaYERvja8Rjx5PSF+DP1s+r34PTa3tVJ067T0tW02ZjdZd8w4u/m8elE7BHvE/P0+O79egFZBTYKfg9+FKYXHRnTGRQYShVVE/QRmRHEEYYR+w93DSEJuwJ1/Z/5nPa39Wb2N/co+LP3+vMJ8JHt1+tD7DTu6vAH9fD4xfpg+zb81fyS/f/+5QBIBIUIVwuEDBENOQ1KDSAN3guQCuwJ3giJB08G1gRDA0QBO/4u+z/5k/eP9bPzTfLe8bzyyvMz9DP08fPu87P0N/bO9xj5Ffrm+hT8Pf1S/ib/sP9gAB4BJAJwAh4CUgEsACYAUgCeAHgAs/+v/of95/wR/Fj86/vz+qH6Sfky+Qb5o/gK+Qj6+Prj+m37xvrI+nn8O/5bALoBEQSyCKcUqCUhMb0ziSw+IfUayhvCH+gl9i1gMfQuDyjEHMUQNAYb/O/0fvWp+Q/64/SM6rXebtad0ebOtNDE1bzZJtxe3aHeo+H55C/nmuqi8Fj30/3QAokGIwujD3sTIxcSGnIbfhtnGoMYWBgZGeYYKxiLFXEQwwoOBtkBFP8G/pL8Mfue+VT2gPJS72/sm+rZ6m7s9+5g8eDxP/Ez8fjx9/N292f7Ev8IAssDdQSxBdUHNgk+CkwLYwywDd0NZQyECjgJPghdB/MFkwMnAaD+Gvzq+XX4BfgZ9/v1bfWv9Dn09/NM89vyi/MC9S72SPeh+Iz5WvpR+8D7jvwY/l3/egATAoADIwTcBCIEwgKaAjAC6QGmAfMBPAJSAkYCpQAyABz/T/1z/LT6kvq5+qL6efpk+mv7+vr3+g37ivrc+xL+8f/zAbUD5gQAC6sYrCgBMycyticOG2oVRxcUHVkl7SyfLzcrDyLrFaQJ8/459vzyivbK/C39ePW26ffdMdZ70r/RetS82g7go+HT4QbiteID5JDml+of8SL5Dv/hAjQGFArfDdAReBU2F+cX/hbSFLETXhTuFb8WtRWgEXQLogVjAfj+IP5//vf+9v0O+5H2uPG17k7t6Owi7uLwmvTe9j/22/Pj8Uzy5PTj+D/97QAvA+EDGwTzBDMHmgkhCxgMPwwxDJUL/QmLCBsIhAjiCIEIZAapAqP+yfrN96b20/Zg9z34cvh+9+/12vPP8bzwXvH18jP13PeD+d/5NPk2+Fb31Pf9+Yb8e/8JAq4DcQRiBMoDxwJHAmAC1QKoA+QE7AVmBgUGKgQiAkYAy/6V/Xj8T/xO/Fn8H/zq+6v7gfqS+Ub4UPcA+P35IPxt/Wv+dP8EBSISjCFuK/0qTiLFF+sSSxVYG3AkaS2gMBAtoiSuGVIPIwYP/oH62P04A9QCR/s/72bjfdv81u3V+9i63ofiNeLw3zfesd7/383hveUW7MfzOPov/twAugOvBgIKNw4TEpAUwBVMFbcUeBZ2GOUY6xcEFF8OygnQBhMFwwQDBQQEGwJM/3761vXc8mvwg+9o8PvxbPQf9uL03fHK773v8PH19av5Jvwe/rP+W/5o/yMB+gJwBboHAQp1DOYNUA3oC+EK3glhCfgIzQc8BhsEWwGB/i38YPqn+AT3+PUZ9Sr0cfNB8lLxEPFj8Wry6vN19o/4tflf+uL56PkW++z8Ev/cAPsC4AOsA+oDcgKCAgIEbAQdBhQGLQaPBcADpgOlAUoC8AF4//H+SvsB+mj6n/mc+av5qfka+OL4CvnK9vf3Tvh49Sr5WQUPE90jFS0hJBUYGBFMDZ4RjB2RJ0sv7DVUMOkhOxcSDKIBnP89Ae0FeQ2sDFcAi/Ha5ZfcJdlS2mrcZeIA53vl7eE2377dtN2138/iZulL8oP4ZfyW/YX+3QCCA58HywvPDowQBRK/E40VVxiuGBMWtBMkEIEMpQuJC+sK9Ap2Ch8IxQXYAh39wvdh9BXy6fK89ZP3yfcm9o7yBu/E7aLt+e6H8kL25PmL/Kj84vu7+9f7tvw2/7sCYgZ2CV0KWAm+CF4IjQfXBgsG4QWyBtcGuwXpA6UB3/9w/rz8gvvB+vH5DvmA+A34hvdg96P2w/VL9gP3Ifc799/2wvbX91b5V/ow+zT83/zU/Yz+wv46/wsAgQFOAjED2wMrBJ4EvAPCAyADHwPIA2gBhgAaAK//ggAYASQBfP/5/iX9P/r/+XD4uffl/lENURxkJ8wmXxpREEsN+w6EFjch9ij8LAMsZiLHFtcO5gZJALL/oALOBiYJwQJ49lHrmuJK3bjc4t995BboG+g75eTilOGG4NbgEeMq6E3vnPRV+Bz7Zfz5/TEAtAKnBhYLkg1vD/kRxRMtFc0VMhSeEXcP6Az7CqsLmQxvDNYLDwlmBbYCXP97+8T4OPeW9mD36vfw9nX1IPNE8Lfu6O4h8CjyTPTz9e735fnz+mL7tfuO/IL+UQFuBIYH0QmuClMKjgn2CLcILggABycGxgWgBTkFywOwAa//AP5y/Fv7Z/pD+ZD49veW96L3X/eC9kP1CfQe82/znvQJ9pf30Pjl+T36Q/rX+ff54/sx/uwArgLZAyAE8gMuBBUDJwRRBLIDlgQhA9gC/gJnAl4BDwE8AZ//DgDt/iL8a/vC+lL4hvfa/cAGNxUSI60h4hnUEV8KkArAEoQb+SMXLc0sMCSaHKITjQmuBCYDUgQEDKQQ7An9/pTzwucY4vrhq+Jw5+/rTeqI5nbj+eCr3yHgvuAu5PjqbfCL9In2WPcb+UT7/f2BAWsFFAhCCyAOSw9BElkUCxQOFLMS3A8jD7gP1A4ED+kPsA5lDU8L+AXDAJ79d/or+Wz63Pq1+tL5KvYf8orvne1J7RDv3fHx9Fn3nPeD9pP12/Ra9Zn3Lvuz/6wDcAWYBX8FJAV3Bf4F4wXpBp8IQAkQCdsHKgUbA+4BRgDG/8L/nP5h/Rz8hPp++fP4uveM9gD2lvVO9Xn1b/UG9RL2svaB9gn3m/bE9sb4ufpj/Ov+IgC2AJQBPwAbAVcCVQMTBkUGHweOB44GNQWIA6ADpAKtAqgDIwNmAjoC0f/w+/37IfmI+aoFsBNjIMIl3h1sEG4K3QuvDrQX9CGxJk4p0SWsGX0PxQkUAn7/sAT8CcsN8gsGAALy/unV5IbiR+Xo6FXrQuzo6dLl2uNX4nrgJeGU5J/qWfCi8871EfcR+Ar6mPzo/hcDBgePCNcLdw8GEW4SwRLQEJEPsg+DDmEOdhAYEbQQoxBPDnIKVwdbA/r/gP+a//v+Jv72+0H4s/R18SzvQ+/V8CvyAPNN80rznvPE86TzaPSJ9jj56Ps9/qz/KwHDAnMD8APdBOsFGQc2CI8IqAi0CE0IVgfvBSwFlgQVBPcDBgOzAWYArf71/Jf7cfpd+Sz44fa59bL0C/R282zy6PFD8r/yBfRr9eD1+vYi+Fj59/rY+zP9dP7G/1kBjwLaA4UE/QQxBDwD+gNABVEGZgeNCLQGggXhBNMAa/91/kT75vzgBsYUlyDPJXYdyw6eCFUJWA7kGZkk+ShqKuAkwBfqDT4IpQKOAQkGSQvdDn4MawBM8Z7nM+Oi4kDme+pB7Vruj+vZ5ibjsuAM4PTgUuSD6pXwP/R+9Y709PLZ84L23vkO/8sDxQYCCtcMtg2SDgkPhw35DMUNaQ77EFQUBxUfFNkR3w2LCnUIkwZ5BccFSgWRA0UBL/34+OL1OfP08YDyFvPa8v7xR/BI73Hvp+8V8P3wp/K59Mn2qPiX+vD8zf4rAHIBDANWBUAHcQg2CdwJpQofCxILywp9CvMJKQkiCPUG2wWoBCADUAHw/2n+XPxZ+rb3S/Wl80zyXvGy8N7wwvBG8GTwsu8c8E/xUvJH9Gb1lvdo+cz6ff2H/s8ANQKZAiME8QOVBeIHSwnVCsYLngsNCqMJOQgZBggGDAWWAsQEgw0zF3shGyWRGzsRaAw2C3cQQxoKIV0k0iUYH/MS9ArTA9L9b//YA/gHbgsfBz76vO2G5qTit+Oo6IXsjfBi8p7uD+n85Mji/OI55orrJvLr9wr6tfip9crzofRV9//76QGTBmMJAwv8CjsKRwoWCjkJGAokDOENuRC4EhMSXBD+DSQLLAnTCFQIjgdCB8wFkgNnAYv+ZPus+Hz2OPUw9T/1m/Sn833yY/H98IPw/e/y8E3yl/OZ9UX3gfiu+YX6wvrO+3H+pgCEAuIDawRjBVMG0QbcBt8GTwdNCCEJRAkKCX0HfAUEBPgClQL9Ac0Aif5L/LH6iPjS9t/1t/Rm9Gv0YvPO8t3xRvGY8c/x9fM99db2dPjs97X5b/qZ+1X+j/6W/xgB/gLgBKgGpwgfCCwICAljBzYGUwYpBIYFHw9pGkUkyCdxHyUSYwuFDEUSAx1EJtQosictITMVtAsJBnoBlwHMBckKTQ2sCJj8HO4q5CDgIuGp5cbqAu8s7/HqE+WG32Lc4dwX4L7l4e1Z9Oj2sfZC9KTxE/Jm9Rf69wB0BuII9grMCw4Mrgz4DMkMtw35D4kRPBS+FrwWqBWUEscOygxIDP0LngskC1oJFAdEBBYAd/yj+Sn38vUJ9mL2Hfaa9JPxzO6J7WDtEu7x7vnvHvHh8Y7yQvNc9ML1OPf3+PH6gf28/wsBWwK5A3EFSAdhCAUJmAllCjMLlwu3CxALwglVCLkGbwVjBGQD7AEAANT+7fym+hD5XPat9L7zzvJ68t/wGvH+76Xu4/BD8OPx2PMP8230UvQa9hj4//nX/W3/7AFmAhQC8AJwAQQEvweCB9kJWg3jD1ka4CbcJjQhgRpEEGsQfRwiJMYpuzD3K4gggxocEVMI4QkSCoMKNhEIEtoIvPsI7XXhsuBF5XLpIe/87wTswuVO3M3WmtZg2DjdiOSw6mPvyfG57SLpjOnJ683x6vqcAaIG0wpmCp8HmAePB1MIygxIELcThhi5Ga0XzhQBErgPUw+xEFIQyhCiEeIOjQuYB/MC3v8//qf98PzW/Of7OPjD9B3y1++V7+DvT+9B72bvB+947ivu2+4L8JTxfPP+9JD2jfgg+ib7rfwI/wYBrQK5BOoFIAetCSwL9Av9DKcMeQu/Ch4KMQnACLwHigUIBFMCIQBi/vv7Gfrr+Pz3Tvd59Wv0ofKg8F/xM/Hl8fzyB/KB8evwQPGG8kf06/bO+RX8R/1X/hH+Av1L/rQAjwBeApEHjAu8Fr4jmSM6H3oatxK+FC8hHilvLrM0IjClJbIgzBgTEdkSGBScFNAZchhuDH/+qPBz5qjmzOom7sHxhfAM63XjTto41dDUetZ628XiEOgj64PrB+Y04ZDiQ+Vv65P1jfzhAbYGvwZXBJUEhwWeBu0LuxHcFTEaQhvNGP4VdhS7E9ITcRWLFhwXOBcLFcYQWQvABtcDIwJbAr0CWgEC/zX7rvaC87fxvvD272/vG+9m7lDt4euv6rrqBuzi7aDvGvGh8uLzsfSI9c/2qvgT++f9WQB/AmkEZQXMBSEG5gbZB9wICAo5ClAKMAp6COwGhwWYA7gCGwJKACz/lv5K/B76ffgK9t/0T/Ws9P3zvfQ09FTz8/JP8W3x5fLZ87b28Pi3+Ob6/PtQ+a76S/ty+XgCABH0GbAhkCDIEewKFhD0FIEg4S4jMXcwnTDhJW8byBnlFQ0WYB5dIukinR/rEEUA4/VI8F3yhfci+ej4dvRP6tPgzdnF06TT0Ncn2z3hQubd4w7g2Nzx2F7bVOJ758nuJPXx9pP5dPs7++j8FAB2A+8I2Q8rFFYWqhdjFngVDhcYGLUZ6xtVHKEczhsZGc8VmBE1DnAMhQseC+4JQQdOA9n+nfrL9qnzo/HW7x/uNu0E7O/qGOqz6LLnf+ds6Mnp2Oox7Lrtxe9U8sn0n/aH+PP66Px3/xECHAQ7BjsH6gdnCPcI6gkhCrMKHwvcChwLGgrABzUHdQWHAzIEaQKBAa4AdP0i+wL4Gvdu9qD1/fYl9pD1zvTB8qvxKPBE8ATzQfM08xv1EfMW+KkGdQ0hEEcQKAYpAhENGhZtHjkqqisNJ0kmqCEYGuQaKx51H3sn9yx/J4geERG5Apf+hAApBDEJ2geRArr6Ze705X3gWd3331Hkiueo6JzmCd/G1qXUqtS71wTg2eTh5ibsMO2U63nuYe9p8CH3Sf6CBOgKwg70DqYOmhCqEkQVLxpKHUsf3yHSIVYgWR2UGWUX8hWPFlEXLBXAETQNuweWA5MATv0K+kv3GvWC8qrvruyf6OblIeWL5LDkJuVA5ZPleebK53fpJuvP7MvupvDF83738vm6/Nb+2wCZA+8EuwblB1sIzgqeC3kLkAxPC/0JhwkgCKMIKgidB/YGuQK/AT0AyPyY/Wn84/rL+nH4UPfC9ebzZPWs9GPzs/WK8xbzbv0KB38LbQ6gB9P7p/7PCEMPhxq9IjIgch9WHwoXRhKJFQ4XiBxbJsQovCTLG1MO8gT8AoYHAQ42D4gNMgjo/Rf1se1M6K7neerY7cfuEe6Q6SHhRdxh2qzazuDm5Tbn2ent6QHoMenK6T7qku5H9F35yf7XAnED9wN2BrUIiQzcEYgUTBa7GBcaFRvsG20b3hl9GV4aMRodGQ4X8xK6DogM5QqoCNAGIATJ/w38ivjz82rwtu5v7brsZOzu6szoCeeM5QHlreU75wjpTuqR6yftru7a7zLx/fL19L73vPpf/Oj9CwBzAfQCTwT2BAcGngbSB2gJ5wiLCaMJ3wYFBhkFWgS8BHUECgWTAs8A9AB2/Zr7kPt8+tv3VvcU/kMDQgkhElkItfp3/vT9QgRbGNoatRiJHaMXGxDFDjwNFQ4ZFLEc+iD/HrcYdgz4APD8LQG2CKwK1QveCJP+k/nR81Tr1esx70Hxk/Tz9EHwfemB5I3gB+CJ5RTqg+xq7lftU+x37ILr7uuW74X0ffqV/y4B9gGSAkEDTwUqCIoMiBD4E3cX0Bh9GcEY/RUVFHQUmReOGoYbXxpJFiESvw7HCi0INQd3BqcFXQNS/zP6w/Rz8DbtBuwB7T3tM+wr6u7mgeSw4+jjg+Q35k/p2eq07Bvv/e5X8NHy+fO/9vj5nPyf/nj/cwG2AZMCFQbfBTgHzQiXB7cHnwWDBfUFRwWHBy0GygMFAwQB6v9B/mL+h/+U+136Xf4LAM4IEBTSDOwCrgIj/fMBMhP0FbgXrR+4G+cUWBO3DhQMcRJZGUYesyJjH/MUUQn6AAMCAwgNC+4NtwxBBSYAJ/hJ7dDqduwr7p3xT/Ku7n7pEORy3qHbPt8F5Ffn3+oQ62LqwOpO6fToR+y+8YP3tfyQ/8cABwMOBW4GIgkfDakQFBQoFzsYlxlSGikYWhamFewWgxnqGf8YIBbDErsQPQ1fCuMIhgdBB30FXgJC//L6E/c49NbxDfGe8fLwT+7D69boSebQ5THm9uYt6DPq7erc6h7sA+zd7H3uiO8b8yf1EPjP/Jz8Kf4ZAKv92P7ZAPsBfARcB4QJnQcSBwMGjwKXA/MDaQVsB5UEmgRpAVL9awcKDh8Mzg8aCHP7bgPDC+oMGxhXG0kTaRT5EigLKgvbDq4RVBgdH7MdcRcXDUACLwD/AQMJ7xFaEOALBQfC+2nz1vHx74/xT/jS+c/2ZfM06zfjx+Ao4X7kpegH66bqzehV58HknORC5sToM++k89r1IPin98T3wfqS/roC5wcMDKoNBxCwErUTBRXOFTMWUhjBG6Uerx4SHdEaORgVF38WqhUFFDgSRxDPDJQJGgaiAQv+avtF+Zr3TfUG8pTuJet46c/obOfV5kfmruWP5l3nhOdl5+zmI+hm6RjrE+/p8CzzRfYd9xL4SPhJ+eD6Mf0vAsEEPAX7BQAFCwSUA9oEmQcPBiMGMQjiBPQKbRdjFCsPSQ52Ao4CwxOBFQoXex93GOYSWBRiDmEKTA7DEq8WHBycHAUVjgqDABX+NQP0BzAOfg6vBrMDU/1P8gfwBfC88Jj2iflS9oLxYezu5G7gm+O/54jrP+9g7TXqS+rn6DznL+lq7OTwb/ZS+Ej3iPeV+Pf50v2sAgoGwQnPC/wKpQywDgMPZhBMETYTtBbnGHYY0BUhFCQTnRIHE2MSqRErEYQPCg2cCQEGSQNsAB7/xv7n/Nb6d/et85Xwg+4R7mjs5es77GLqSekK6ZfnR+ci6SHq3OuP7VXuLu9l7m7wW/L38kb3UPle+rr85/wQ/hj/rf98A3QFqARJBtAEyQAgCQ0UIxMSF9ITkAMiCIsRjRJOHGAhZxy8GWQadxPwDNgQcRKbF0ogWiBqGwQQ0wO5/xn/AwXcDjkOQwoJByr8mvIH7mbrdO079Ej6w/iA843s5OLR3jjhJuVo6zHvNO4j7R7qHufQ5pDmW+mo8Ef3+/mj+nn4JfXL9lX7j/+iBA4JSQpIC1MNXw1mDSkOFg/WEQYWYRmxGbkXZRXNExITthNlFCcT+hLkEtwPyAxiCe4D5QDrAOL/Cf/P/Sf5TfRX8Vvu1exX7PrqRepL6TfoYefL5Y3lcuZe5xvqF+yR6xzs/usk7Zzw1PN394f3Ufm6+/P6p/2P/0MBawERAXUFmQYqDlkbthWmDCAPggczCmkfcB6DHHomoh7+GIwabRNDEWEWFx2DIrUjqSDCFY8JZwOyBKQLBA+SEMoODwYyAWL7nfBl7rTx3/SV+Tz5ZPL96SHkyeBd4AfmtOrb6wzsZejV5DrkgOO84xbo/+0M81X2HPRD8BbwjPKR9k385wGFBGIHTQlnB90H9QmYCjIN+RFjFiEZKBrVF50TzBIPFKsUmRWoFRYVsBQ5EmwOygl4BTcEsAMNA0ICj/9v+3v3WfR68TjwXe+c7XbsQeyI67vpBOmA5/Lmi+jT6Hnpj+nf6SPsLO1E7Zfv2vCe8CvzI/Ve9+34hfnN+mb5mAFVEDIQGgwNDR8CtwLIF+0XHxkaJWoeVBy2HeUWxBNkFbcdsiPsJjUpNSGtFCIMmgpgDuETJRkbGAkRPwwDBf349/Ro9bf3Uv6t/lv5X/EC6XLjm98h46XonOp67GvoJuIF4bjfeN/O4lLnUe1Q8W3xju6/6xTuYfKL+FD/RQLYBX4HOga4BxAJnArmDrQSABbTGLcYVhYiE/YRJxOjE2wUtRMxESsQBw6kCiMHAQTLAqQB9ADV/z/8LPnK9iP0KfNG8irxJ/ED8CDwVvC17pruJ+4f7uztPe+T8aPwn/Lv8zPzp/RB9Yj2C/fY9m75zPgI9sL/zQeXBloMuAbQ+aL/mwm9C+0UEh3GFdgXcxheDfYOlhDsFbcgeyImJMceCBJMDG0JZwnIEoMYTBYME5MLXANR++f2Vvc8+YsAjQKK/Pb1QuzT5ezlNegv7WTxMfG17qDquuZI5a3lTOja7KXyjvY99jb00fG28UL1T/pq/+gCEAXwBeEE4AROBmkHLQokDcIOhhA/ELgOFA0lC8ELfwxzDJwNDg1BC3sJ9QXMAgUBrP/e/7H/eP5h/Vj6C/d79BbyEfID8gLy2vLy8RLxyfAZ7+Xs4u2l73bwkfPy9HT0xfSR9eb2lfd7+G36B/oS+Z4CEAssC5cPvAlJ/vgDUA0gEDgYVx5pGJgZ2hkMEDUQCBL6Fd4e4h88ID8big/NCr8H2Qf7D68TlhHMDZoH3gA8+Vf1DPX39qv9YP8H+tjz0+tG5mfm/ei27e3xWfJt8OTsUOrW6VHqnuyI8I/2ovpa+ub4bPZN9jH64v6iAkAFkgdhCMAHxwcWCHYIUwpaDKQNFg9xDswMJQukCKIIQgluCLQIHgjCBfkD/QBs/bT8FfzS+w78zfll90j0JvKv8dLwWPJg8u3whPCD7mDtSe1+7XzvxPDO8IHyrvJI8Q/z3vSW9r/4cPmp+aT43/59CokKjwikCXsBTANHE1oVjhVPH/IbMRgyHGkVoxLlFvMa3CL3IxMiMB1uEWoLAQwQDgcReRSNEpoLcgcuAZ73LPU/91X5P/6G/XD2EPA06rjnKej06njuK/Ay8Fvtaepi6Bbo7uk17dLyJvdh+Dz2n/LJ8mP28/ovANsDpgSBBggHOgSyBN8GMgmfDX8QbhF2EW4PYQxuCi4KNAy4DhQOSgxbCgcHfgTDAXD+jf2+/bb8xfqY9+7zJPFp743uju2U7PDruuns5xroH+hJ6FXoMelE6sHqsOuA7F7ure9c8hP1VPSz+hYGSQfNBdAIkwHKAlsUthXJGGQiYx0mHCYdBxlrGNwbdCHqJbsnaCXjH9YWlQ+uEFMTlxUFGKcUuwzaB1oC3vn192T5g/pP/fX67PNl7QHpqOf/53Lqb+3w7Uftj+uo6DDo4+mP66LuI/O/9rH3lfaa9HL0g/h8/esBewS0BPUF+wUyBXsGGgjlCZYMGg5TDRsNSgwYCosJSAmcCQcKaAjOBpsEPwJRAcf+rfxf/AT7OvrR+Nz1AfQS80/yqfJx8n/wTfC37+LufvAT8YvxffLT8kP0tfVV9aP2g/e89YL8VQW7BTgJ0QjI/vIA5QkaDM8T8xkTF20WwxVXETUPNREoFWobKR5zHCcZkg+FCQ4KkAkjDnwTjhBPCxQHkv+1+QP6VPrX+0kA8f8A+gv07u6T7Nzuq/Jw9fv13fTp8lPwiO6/7vHxa/Uy+FL7g/pv9xz3Svfz96P8MgGSAXQCXAIEAKcA1QJoBOcFqwcPCLcGJgY5BfQE+gXDBtwGDwW1A/kCRwGDALX/Lv6l/fz8n/un+UT4Cfh89k/2CPYU8w/zhfM98vfydfNX8gPys/K486j0VPUJ9/32bPYL+yL/0v8EAw8EVwBPA08JOQoODwcU4xLfExAVaxJPEu0UshemG74cIhs5GJQSog99D8gO4hCSE70QVgwvCKoAZ/zx/Mv8dv5yAN39EPlb9L/v1+0Q78fwSfIj8yzyOfAC7kfrHOsG7cHu3fGY8+vy1PLL8r7yOvSw9rX4wPqY/Kj9jP7f/3IBtwImBGYFYQYQB3sHQgjaCFcJbwnaCBUILgdyBjIGQgXOAyAD3wGWALv/oP7y/Cv7g/rM+BD45fgC+JX3gfez9gX28fXi9if4C/kI+lL7V/tD/R0CbwNoA9IFhgQCBHwK5AwuDWkSlRIYEJoRwxCcDkUQyBK9E/sU1xQKEeAMngm7B4oIAAlDCakI+AQ+Akn/nvqM+S/65vk4+9T6UPcd9ZLz0fFu8mn0rfT59NX1MPQF88vz9/Ph9Lz25Pd8+Bb5Gvn8+ND59/oi/H79Tf5u/uX+Df/p/qr/fQCaAIwAuwD3/1P/FQCT/3H+k/4D/tr8Ef1E/VH8y/uD+zP61fmf+nX6Ffvg+1v7y/oV+iP6wvoe/Dr+8v4k/9L/wf/U/88A3QG7A0IFbwZGCI4IHgp9DDYLCQsFDdoMWw7ZER0RjxDTEb0PNA7ODZAM2QxjDYsN5wxrCs4HJAWoAgkCnQLAAuYBxQCe/tL7tPqX+Xv4ivks+pf5afne9/T1wPWA9bv1k/br9mr3mfdT99n2kfa+9lz3YPhB+Vb67voL+zb73Pon+/P7ivzB/ZL+aP6Z/oX+MP6F/oD+if62/pf+0/6t/l/+If6M/Wb9d/3x/Hn8mPyw/Nj8NP3g/DH8u/to+277Afwn/db96f30/XP9Uv0J/qT+lv/wAPcBwAJJA38D4AO+BNgFSAcZCYcKQwtQC8kK+wr+Cw0NUg6eDjEOVA6FDVoMqQuwCsYKBQsbCvYIkQc/BkcF+wNJAgQBGQCi/7P/7f7t/ez8Avu1+X/5x/iM+Kb5dvkC+Vr55feI9tD28/Z79+z43vkF+uf5cPkt+Sz5efmV+oP7GfzV/Kv80vu++0X8ivw//eT9V/1x/fX9a/1i/Yz9Tf2f/fn9vP2H/ZL9Tv1H/c/9Bv4k/ln+4/2m/VL+lf4U/77/iv8YAMIAogAzAc0B/AH8AuUDPATjBP8E5wSNBUcGAwfSBxsIyQfzB1IIaQjSCPIIrwiWCJYIfgjnB/EGOgaxBS0FFAW7BM4DBAMLArYAxf9R/6L+OP5F/rT91fwZ/En7pfqD+qz6iPpB+mb6tfqo+tv6B/tc+jf6wPrT+k/7c/zZ/OP8KP2K/Af8qvw6/ef90v4n/yv/LP/t/sX+Bf9U/7T/IgAhAOX/rv9L/wT/Cf8c/0H/Iv+b/lX+PP4U/v392f3c/dz9y/3X/Zf9fv31/TP+M/5s/s3+Pf+5/xcATQCkAFAB6gFFAt0CtgNtBOcENwVsBYgF6gWKBucGWQfnB+AHkAcgB2AG+QUeBj0GQgZMBrcFXgT/Av0BkwGDAaEBRQEnAE3/OP4O/cf8X/wW/Eb8vfsw+/T6DPrS+VL6DvpS+r36/fnI+f/5gfm6+eb6mvsL/BT8N/u/+iT7DPxR/R/+cf6T/kL+DP4a/l7+J/8kAMIA/wAjAcIACgARAGsApwBOAaYBbQGjAcYBWwEKAcEAngASAcEBNQJaAjUC0gGpAaEBngErAqIC0wJkA2sDAAP/AuYC0gJGA5QDaANWAxsDpQKUArwC7QIOA9ECdAIbArMBdwFYAV8BuwEzAjUCwAEoAWIA8f8nAEgAaAD/ADoBuQDl/67+p/16/cj9aP74/iT/1/7R/bn8Ifwg/Lb8bv39/Sb+5f1o/c/8fPy1/FT9xf3l/RL+Gv4R/hv+vv2o/Sr+aP6w/gD/v/6R/ov+af6Z/vv+Iv8v/0H/L/9N/6H/hv9o/57/7v98AN8AngBSADkA+/9cABYBPgGkAeIBiAEvAbwAZABxAN8AewH0AQUCbwGrADcAPAC0AFQB0QEDAvUBwAF1ASYBEAGeAZ0CawPDA3kDxwJVAkgCrgJ7A/cD3AOTAxwDdAIJAqwBRAFVAbkBxgFPAVsALf9I/uD99/09/i3+7P14/cX8KPx2++b6CPuH+877/fvo+237EPvx+iz7rPs0/L/8zfzI/AD9Q/3Y/WL+rf73/lz/xv8yANYAVAGAAXYBjAGuAcMBOAKHAocCnwKvAoYCPQIxAjICQAJcAhYCtQEnAZwAfwBoAG4AZgD5/4//Qf/v/sT+t/7F/uf++/4b/zn/I/8m/0v/Vv+A/7X/sv+0//j/UgBVAAwA0f+j/+f/lADTAL0AxQCxAKEAmwCgAAwBsgFiArYCVALmAZ4BUQG1AbUCSANOA7QCiQGuAMMAigEZAjkCCwJdAZUARAA0AP//DQBmAF8AMADJ/zP/6P7p/hH/Of9H/wz/lv48/iL+Pv5M/iz+D/4B/ub9sf1i/Sr9Uf2y/dz9uv1w/ST9+fwl/Zv9D/5o/n/+XP5q/pL+wf5C/9v/RgCHAKAAngCpAP0AYgHBAf4BEQIQAu0B/wEuAlACVQILAtABhAFZAWsBYAF9AUkBrQAiAHv/8f4M/9H/hwC9AFMAK/8I/rT9Jv79/gwA8QAbAbIA4f/m/pz+Kv9AAIYBgALWAlICTgEqANT/mACiAcACUwMXA1wCNAFsADEAkwBaAd4B8wFQAWQAi//c/uH+VP/L/wkAy/8x/5D+M/4x/mf+rv4Z/zf/x/5L/v/9BP5t/uD+L/8r/+X+m/5q/pz+HP+1/wgA0/+j/3L/PP9a/7r/JwBnAK0AyQBrABgA9P/f/wEAbgC2ALoAnQAoANn/7f8MABkAAADB/47/e/+B/6v/5P/o/8r/iP8r//n+Gf9s/8n/HQAoAO//kv8U/9v+NP+9/x8AYwA7AOH/kf82/0L/e//X/0YAZwBRACwAFwADABwAXABxAIEAhgCHAIIArwD6AAkBEQEEAQsBEwEJAT0BbAGaAcABswGPAVkBQQFDAUABUAF4AYMBagEzAdEAdABDADsAOwA7AEAAGwDG/1b/5P6i/pj+p/6x/r3+sf6P/l7+Lf4D/vD9Af4x/nX+tf7+/ir/Dv/d/sL+4f4c/47/GQB3AM4AyQCGAHMAYwByALkABQF2AecB1wF5AQMBZgA4AGUAfgCVAIoAOwDJ/3r/LP/i/s7+vv6o/qv+2/7s/sj+r/6e/p/+wf7S/u3+Kf94/9b/HwA3ABsA4//J//P/RwC0ABIBOwE8ATIBCQHBAJoApgDSABgBXwFlAR8BswBgAEoAWwCcANcA5wDiAI4AOgD///D/MgBoAJsApQB3ADkA6//g/xgAcQDTAPkA7QCwAFMANQBFAFsAmADKAOEA3wCMAFEAOQADAOH/3/8SADAABgDK/3L/F//c/rf+uP7X/vj+/v7F/m/+MP4X/jz+fP6k/qX+i/5S/hz+O/6J/tP+Ef8i/xn/Dv8K/xf/IP9b/7T/6v8RAA0Azv+S/3j/j//I/x8AbQB8AHQANADx//7/DwBNALoAGAFmAWcBHgG6AH4AlgD7AI4B2gHyAdYBlAFbASgBGgFBAYgB1gH7AcQBQQHgALIAuADiAP0A8gClAEMABwDg/8j/vP+i/5j/l/+B/2P/N/8Q///+Gv9X/1D/C//l/tn+2/4U/zX/H/8Z/yP/Hf8u/zz/L/82/1L/iv+//7//tv+0/9//NABbAFkAVwBsAIEAnwDRAPkAMAFOAUcBOAEJAQEBBAH/AAoBFwEeAe8AlQAtAOn/5P/s//b/2P+I/xv/x/6I/lr+Yv5a/k3+PP4Q/uj9uP2//fX9N/6I/pj+hv5k/kL+b/7R/j//lf/J/+D/5/8AABwATQCuAA0BZwG0AdMBvwGtAa4BywEMAlACdgJcAigCAgK8AYsBiQGHAY4BmwFxAQkBlAAfAN//2//l/woAIQDp/33/If/M/pb+mv63/vP+H/8X/+T+kf5F/i/+av7H/iP/ZP9t/0v/MP8t/yP/V/+//wAASQBYAEIAVABdAIIAywAeAVEBPgEcAQIBDAFGAYQBtwGyAYEBSwH3AMMAygD8ADgBRgEbAcMAPgDW/8T/2/8HAC0AAwCU//r+ef5c/oP+yv4E/wb/2P5z/gz+0P3P/Q7+bf67/sj+s/6a/oL+gf6R/s/+IP9t/5f/lP+n/7D/wf/x/wkALQBfAKQA8AAgAUoBUQFFAUkBTwFsAbQB6AHuAfYB5wGTAUcBLQEtAU4BeAF+AUsB/QCeAFQAQgBEAE8AVQAkAN//lv9e/0j/VP9u/2f/Xv81//T+4f7I/sj+7P76/hP/KP8f/wr/B/8X/zL/Vf+J/7j/w//I/9D/w/+6/9L/DAA+AHQAnACLAGIANQA+AGEAkADTAOkA5QCqAF8ALwAOAEwAjAClAL4AgAAHAJ3/Zf9d/4P/uv/Q/8n/k/9L//7+xP7B/uD+E/87/1j/Y/8z/xX/C/8H/zD/cv+p/8z/5P/r/8H/r//K/+7/PgB+AJwAxwC8AKYAiABjAIkAtwAKAVUBSQEZAdUAogCIAJ4AzADsAAYB6ACnAEwA6v/K/97/GgBIAF0ALgC9/3T/Ov8w/3j/qv/F/8j/oP9r/zD/Gf8w/1L/j//Q/+H/2P/D/6//n/+n/9n/BQBFAGwAYgBoAEoANQAwACsAUABzAJcAsACsAJ4AdABWAEEAQgBWAHUAiQBlAEQAFwDf/8j/vf/b//H/9f/a/5H/Z/9S/0v/Y/+Z/8v/2v+5/4T/Zf80/zT/g//R/wEAFQALANr/kf9//4//yP8XAFIAawBMAD4AGQDy/y0AYgCHAKEAiQCMAIUAWQBAAC4AMABSAGkAYwBJAC0ANgAuABUAEQAMAAUA+f/+//P/3//m/9b/0f/k/+j/5P/Z/9r/1//g/wEAGAAZAAMA5f/v/wUAHwBPAF4AYABOABYA8P/r/+7/9f8bADMAMwAYAOv/2f/G/8//8v/6/wsABwDR/5X/dP9g/1D/XP9u/4X/j/94/07/Pv9J/0L/Tv90/4f/jf+K/3v/av9h/3L/l/+5/9j/7f/6////AAALAC4ATwBWAHAAjQCdAKgArgCvALcA3gDuAO0A4gDKANIAxgCtAKMAnwCWAJMAoQCDAFgAKwDo/8L/sv+4/97/8f/T/6f/av8h//j+5P75/kj/bP9q/1X/B//b/uD+6P4x/3L/h/+x/7L/nf+K/2v/h/+x/+b/PQBxAI4AjwCOAKMAsgDlAPwA9gAiATQBJAEgASQBIwETAfoA3gDTAN4AywC0AKwAmgBsACsAAADi/8T/xv+8/6j/mv9j/yX/+f7t/v7+GP8//0j/N/8d//v+8f7z/iP/Zf+L/6z/tv+y/8H/1P/t/w8APQBoAHwAewCAAH4AfQCWALwA3AD3ABUBCQHqAN0AyQDGANIA3ADyAOsA0QCuAGoANwAiACMAIAALAPn//f/v/63/b/9a/0X/Pv9d/2n/Qv87/y//GP8R//n+AP8J/xD/L/9H/1v/U/94/6D/n/+4/7H/vf/P/9f/DQAxAEUAYgBpAGMAbgB4AHAAeQB8AIUApwC2ALAAogCVAIIAdAB3AHYAcwBzAGEARAAuABUA+f/q/+b/8//2//P/7v/T/7r/nv+S/5v/pP/B/8z/wP+v/5n/j/90/3P/kf+h/63/pP+l/6n/qf+8/9T/8v8OABsAJwAfAAcAFAAcABwATQB7AHwAcABrAFkASgBaAGoAhgCTAHgAcQBdADUAKQAsADEAQAA3AC8AIQD7/+D/wP/E/8v/yv/k/93/xv+W/2n/b/9x/47/q/+7/9L/xf+o/5r/h/90/43/vP/W/+L/3f/D/6z/tP/S/+b/AgAjACIAHgAeAA4ADQAIABgAQwBTAGgAeAB2AHAAaQBrAGgAcgB3AHIAegB0AGkAXwBBACEAGQAQAAAA/f////f/5f/U/8T/pP+O/5T/m/+g/67/rP+o/5X/Z/9j/2n/fP+n/7T/yP++/67/pf+S/7n/2f/7/zEALgAgABgABAD+/xgANwBaAIYAhwCIAH4AYQBhAF8AaAB2AH8AhQBrAFcAQgAoABoAHwAjABEADgD//8n/u/+//7v/w/+//7H/u/+2/6X/jf97/3v/cP+R/7P/ov+b/5L/iP+M/5j/qP+5/9n/8P/9//7/6//g/+j/CgAhAD0ATwA+ADwAMAAkAD8AUABdAGMAWQBZAEQAKgAsACUAMQBMAFEAVgBNAD0AMgAUAAgAFAAsADMAJwAyABwAAQD6/+D/1//k//b/AAAJABcACAD8//3/6v/o/wIADwALABAADAAAAAAAAAAAAAkAGQAjAB0AEwAfACYAJwA1ADQALQAbABEAIAARAAgAIQAwACIAEwARAAAA5//k/9j/3P/c/9L/0f+2/77/vP+u/8X/uf+4/67/n/+3/7j/sf+o/6T/pf+s/8P/vv+4/77/2v/k/+f/+P/1///////5//v/AgAVAAwADgAaACEALgAlAC0AJAAVAB0AKQApABMA/P///wsAEQAZABYADAAHAPT/4v/l/+7/9P8AAPn/+v/2/+b/8v/t/+7/CwAJABIAJwAhABQAEAAkACMAIgA/AGEAeABxAFoAXABlAGMAXQBvAH8AcgBzAGkATgA5AC0AMAAkAB4AJgAhAA4A9P/b/8r/w/+y/63/tP+y/6P/k/+I/3v/gP+A/3b/b/9x/4n/kf+M/5z/qv+y/8f/2//Z/93/7f/0//n/9P///ywAMwAtAEEANQA9AE0ANAA8AF8AZABeAFQAOwAvADcAMABFAFEAOQA+AC8AIwAZAOj/5//4//r/CgD9//z/8v/a/9b/x//Y/+D/2//n/+L/3f/a/9b/2P/g/+T/1//h//b/7P/r//b/AAADAAYABgAEAAQABwAUAB8ANAAzABEABAANAA4AGgAiACEALgAsAB0AFAACABAAHQAcAA0A/v/+//T/4f/O/8//0f/E/9D/vf+g/4n/e/91/3n/jf+H/43/hf9u/2//Zv92/5H/ov+4/7n/v/+y/6P/n/+h/8T/3f/w/wUACAAHAAAA9//9/xYAMQBWAHoAdQB3AHgAWABaAGgAbwCCAIcAkgCIAG0AbQBTAEIAUgBKAEgATgA8ACgAGwAJAAUAEAAFAAIAAgDu/+P/yv/H/9f/zf/O/83/t/+e/6P/vP+2/7r/zv/Z/+D/+/8FANz/zf/i/97/9f8JAA8AJQAnABcAHAAmACIAEwARAB4AIQA2AEUARwBWAEsAMQAVAAwAIQAqACUAIAAYABsABQDs/+7/5f/w/w0ABAAHAAEA2v/S/+v//f/9/wEA9P/P/9j/4f/S/9r/7f/u/+j/6//t/+r/8v/y//D/+f8RABcAEwAjAB4AEgAaACYANQBKAFkAUABJAEQANwA2AEIAVABaAGQAZABWAFkAWwBJAEAARQBEADwAPQA6ACYAIAARAAoADQD6/+7/5v/i/+T/zv/O/9D/u/+s/6D/jP9v/3T/iv+D/4//lv+N/53/mv+Q/5r/nv+6/9b/2P/t//r/6//b/+b/8P8DACAAGAAbABQAAAD7/wEAGQAiACYAHQAZAB4ACgAKACAAKgAaAA8AHwAGAPP/7P/l/+7/9//p/9j/6P/d/9L/7//p/9//5//Z/9v/4//v/wAA///2//X/7f/q////AwAGABkAFgANAAQABAARAA8AHQAsADEAQgA2ACkAHwARADUASQA+AFUAaABeAFoAQAAeADkAQAArADcAOQA3AC4AFgD8/+n/4f/b//j/AAD9/wAA7v/i/9f/0f/Q/9P/2//a/9f/0v/M/7v/tf/L/8z/zf/Z/83/w//F/7f/uf/U/9//4P/p/+z/8//1/+v/7P8DAA0AFAAUAAsACAAJAAgABgAfACgAGgAcAAYABQAAAPv/DQAJABgAGgAAAA0ABgD6/wQAAwAFABMABQD2//T/5f/1/wEA9P/s/+n/6P/a/+n//P/8/wYADgAMAAYAGgAgAA0AGgAsAC4ANwAvADgATQA/ADIARgBHAEUAOgAkACMAGwAWABkAEAAOAAsAAwDv/+L/6P/X/8X/0//W/8n/vP+v/7T/vv/P/9z/1f/e/9r/0//O/9b/5//d/+n/4f/O/93/2f/s/w8AGAAeACQALwAqAA8ADAAaAA4AAAAGAAoAEAAAAPn////4//P/3P/q//7/5//u/+v/3f/Y/8L/v//E/8n/2f/e/9z/3P/k//D/9f/y//f/CAAIAAIACwAVAB0AKgArACIAKAArACcAGgAdACwALwBAAD0AJQAWAAMACAARAB8AKQATABoAFQD9/wgAAAD+/xMAFwAgABkAAQDr/+H/3P/h/wUAAgD0//r/+P/4//n/+//2/+r/+/8KAAcA/v///wkADgAPABMAFAD8/9//2//q//3/AQDz//n//v/w//T//P/x/+v/8v/6/+//2f/d/+P/1f/e/+X/0v/L/83/uf/B/9L/xP/A/7b/tv/C/7n/vf/S/+z/AAD+/+X/z//V/+H/+v8LAB4AQAAyACkAHAD+/xcAJQAyAEEAPgBNAEcAMwAiAB4AJAAsAEQAQwA7ACoAFgAGAPb/AAD//wYAEQAIAAoABAABAP//8/8DAA8AGQAcAAYA+f/2/wIABQABAAAABAAPAAMA+f8CAP3//f8aACcAFgAiACUACgABAP3/+f/0//P//P/8//z/8//y/+z/7f/3/+b/5//d/9H/4//e/+L//f/9//D/+P/4/+r/5P/h/+r/9f8IABIABQACAAMABgAHAAkAFAAZABAADQAMAPL/3v/k/+D/9f/+//z/CwD//+r/5f/g/93/3f/p//H/7v/4//X/9f/z/+7/9P/p/+f/7//1//3/AgAZADEAOgA7AEcATgBBAEYAUQBPAEYAPgBKAFMAUgBQAEMAOwA7AD4AOgAxACYAKgAoABUAHAAmACIAJgAJAP3////5//j/5f/t/+z/1f/Y/9P/zP/H/8z/4P/h/+n/6//o//T/7//k//D/6//c/+r/9v/m/9v/2f/S/9L/4//4/+r/2//Z/8z/y//M/8v/1v/U/9v/3v/Y/97/3//d/9j/2P/Q/8j/1f/S/9X/3P/Q/9f/4v/i/97/4//w//z/+v8GAA8A/v/2/wAA/f///xQAHAASABcAEgAHABYAHwAsADUAJwAqACgAJgAmAC8ALwAaADQASAA4AEMANgAgABgAFgAZABoAHAAZABsAIAAcABcADADy/+j/7v/v//j////u/+r/5f/Q/8//1f/R/9j/4P/a/8//0P/N/8r/3v/o/+r/AwD+//P/7v/d//j/BQAJACYALgAjACMAHAAOACoAMQAbACAAJAApACAADAAAAPX/8//q//v//f/w//P/5//d/9z/1f/K/8L/xf/K/8L/wv/N/7f/qv/F/8n/z//h/97/0//M/8T/yv/o//3//f8FAAQAAAACAP//AwAdADMAQAA8AEEAQQA6AEIAPwBMAGAAVwBPADoANAAvACsANwA0AEAAQgArACwAJAAdACIAIgAkACIAEQACAPn/8v/6//b/8//z/+D/2v/Y/9f/3P/d/93/5//m/9z/6f/l/+L/6//x//z/AAD+/wAABAAKABAAHQAbABsACQD7/wgAAAAAAAYADgARAAwADgD+//v/+v/i/9L/1v/k/9f/yP/G/8z/0//R/+L/4P/Y/9j/3P/d/9T/1//i/+3/7//t//L/6v/u//7/AAAGABEAHAAeAAQACQAVAAcAEwARABIALAAPAA0AIwAVAAwAAAARAA8A/P8MAA4ADgAPAPj/7f/1//z/+/8AAAUA+v///wYA/P/7////CQAIAAAACQAQABEAEQAKAAMAAQD+//r/7//0//f/8v/7//T/6//j/87/zf/V/+L/8P/n/+7/9//u//7/CAAFABgAHwAbABsACQD2/wAABgAGAB4AHgAVABgABgAAABgAGgAXABEAAwAEAAIA+/8IAA4ABwAMAAkAAADs/8n/xf/T/97/7v/q/+//8P/n//D/9f/1/+f/2//j/9z/0v/Y/9n/1//g/9z/zP/O/+L/1f/X//H/7//x/+v/5//s/93/5f/v/wAAGQAPAPr/4//n//v/DwAnADsAWwBUAEsAQAAiAD8AUABeAG4AYgBsAGUASwA5ACsALAAwADwAMgAkABUA+v/x/+//6v/r//f/9v/u//L/7v/o/+n/4P/o//T/+P/9//T/6//t//3//P/y/+7/AAAVAAcABAARAAIA+f8QABsA//8KABEA/P/2/+j/5P/d/9b/4f/u//7/6//7/wUA9P///+j/4f/h/9r/9v8AAAIABwACAPf/9f/8//f/+//3//n/CgAVABoAFAAVABYAFAAaABgAFwAXAAkA/v8CAAYABAAIAAoAGAAbABgAIgAYAA4ABQAEAAoADQAgACUAGgAPAAEA/P/p/+H/7P/m/+D/0v/R/93/4f/s//P/+P/5//n/AgD1/+L/8f/t/+H/9P8AAPv/7v/r/+b/5P/x//f///8CAO7/8P/z/+j/8//8//7/BADx/+z/7P/d/9//1//i/+T/2v/n/+X/3P/M/8P/2f/h//b/AAAAAA4AAwD4//z/6P/R/9v/7P/x/+7/5f/g/+X/9P8GAAYA//8EAP7/+v8CAAkAFAALAA4AIwAeACQAMAA4AD4ARABJAD0ANgA5ADUANwA2ADEANgAsABYAGAAUAAoACgAOAAwACAAHAAIA8v/l/+j/6v/g/+T/4f/c/97/yv/H/8n/wv/F/8P/z//G/73/u/+v/8r/1f/Y//L/6f/a/93/2v/d/+//7P/w/wAA+f8LABUADQAQAAYAAAD9////CgAMABYAEwALAAgABAAEAAMABgAFAPn/AQAEAAcAEQAGAAAACgAIAAIA/P/z//T/7v///xAAAgAAAAMABgANABcAGgAVAB0AJgAsAC0AIgAgACIAMQA2AD0AOgAqAC4AJAAcAC8AMgApABcADgAVAAoAAgALAAIA/v8OAAsABgAHAAQA///v/+7/9P8AAAEA8f/5//L/4v/n/97/1v/h/+r/7P/s//3/+P/q//n/7//j//j/+f/v//D/7f/u//D/8P/s/+z/+v/8//f/9f/6//z///8BAAAA///z//D/+//x/+7/+v8IAAYAAAAJAAgA/f8AAP7/AQAIAAwADgAAABAAEQAIABsAFQAXAA8AAAAMABUAEAAFAAAA9P/3/wQA///7//n/EwAYAAwAFQANABIACwD+//P/6//1/+z/6//5////AgD7////9P/l/+v/9P/6/+//3//t//z/+f8AAAMAAQD6/+v/5f/m/+7/6//y//D/8v/u/+v/AAD6//j/CAD2//T/AQD3/+//+f8DAPH/7v/+/wgAEwARAAMABAAOAAsABgAPABkAFAAUAA8ABAADAAQACwAOAA4AFgAaABgADwAIAAYABwABAAIACQAMAAUAAAAAAPr/AgAGAPn/8f/x/wAADAAJABEAHAAcACMAKAAZACAAKAAaABkADQD7/wgABQD4/wAA/P/+/wAA4v/h//3/7f/f/+L/1f/O/9b/1P/i/+f/2v/e/9z/3v/d/8T/yP/V/9r/7P/t//v////z//r//P8FAAMA+v8CAP7//f8DAAAA//8FAAEA6v/x/wUA9P/0/wAA+v/5//P/9P/3//D/8P/1////BwAEAOn/0v/n/+7/9f8AAAQAHwAdABUAEQAAABUAGAAfACEAFwAiACMAFQAHAA8ABwD7/xIACAD9//T/7f/j/93/7v/e/+D/5//i//P/7P/t//L/5P/l/+P/6v/q/+n/4f/S/9//6P/t//P/7f/n/+n/8f/1//3/AAAIABQADgAVAB8ABwACAAkAAQACAP3//v8DAAQACwD6//D////3//7/BgAAAAMAAQD+/wAABwAFAAEABgACAAIA+v/8/w4AAAAAAAMA9P/s//H//v/8/wMAGQAaABYAKQAqAAwA/v8EAP3/BQAIAAoAGAAQAAIABAADAPz/9//0//z//P8EAAoACAAQAA4ACgD///v/CQAGAAEABAAJAB8AHwAQABgAGgAYACYAIwAjAB4AAgADABwAJQAeACEAGwAAABMAHAAPAA8ADQAGAPb/8//+//3/AADu/+b/6f/p/+//5//l/+X/4v/l/+z/7//0/wAABAAEAPz/7//u//P//P/9/wEABQABAAYADAAIAAUADgASAA4AFwAiABwAHQAUABQAIAAXABAADwAVABoABwAGAAkA+//5//v/6//a/+D/8//z//b/+P/z////BwABAAAA+f/+/wYA//8FABMABgDw//P/8f/z/wAA/v/8//L/5f/i/+n/8f/4//r/7P/u//H/5v/p//X////y/+//AwD3//H/6//m/+v/7f/u/+r/8v/u/+r//f/9//X/9v/r/+r/8P/8/wUACAAEAPv/8//v//P/8//z//b/8P/v/+7/8v/7//H/9P/7//z/CgADAPn/8f/0/w8AFgAOAB0ALQArACcAFAAIACcAIgARABYACgAKAAkA/f/w//P/9P/l/wAAAwD2//j/8f/n/+f/8f/z//b//v///wIAAQAAAPj/7/8CAAsADAAXAAwAAQD8//P/9/8EABEADwAHAAwADwAKAAQAAAAHAAwAFgAUAA8ADQAFAAQAAAAFAAwA///+//b/8//z/+//9//v//b/+f/q/wEACQD+/wcABgD//wMA+P/t/+z/6////wMA/P/+//j/8P/p/+//+v/8/wUACAAMAAQACQAAAPT/9P/8/wgADgADAAsAEQAFAP3/AgAGAAIABQADAAAA/v8BAAAA8v/w//P/9v/2//n/+f/r/+X/7f/p/+v/5//j//X/+//8/wYABgANAAsAAwAAAAQADwANAAwAAwD8//3/7//0/wMABAAOABMADgANAPv/9v/8//P/6//r//r/BgD9/wUADwAGAAEA+/8IAA8ABwAWABIACQAKAPj/7P/v//D/9f/+/wAA+/8AAAMAAQD2//L/+//5//v/BwAGAAwADAAEAP///P/5//L/7P/u/+3/8f/9//b/6v/n/97/4f/r//H/9v/p/+3/+f/t//f/+//5/wcACgANABEABwD9//j/7//v/wMABQABAAMACwARABMAEQAKAAAADAAUAA8ADAAJAAcACQAIAAQAAgD2//H/8//6/wIA///0//j/9f/v//D/9//2/+//8//3//f/+P/8/wAAAwAIAAwABAAAAAQA//8CAAYA+v/z//f/AwAFAAIAAgAAAAYABAADAPj/7v8BAAQACgAIAA8AIQATAA8ACQD9/w4ABQACAAAA9f/4//r/+f/y////BAD+/wkAAQD4//T/7//v/+3/+f/4//f////5//z////6//z/+f/6/wAA/v8AAAEA/f/0//b/+v/8/wMABgD//wMABwD///v/9v/7/wAABwANAAoABQADAAMA/v/3//P/8//8/wMAAQAAAP///P/x//H/9//1/wUADgAEAAgAEQAGAP3/+v/4//b/AwAOAA0ABgAKAAMA9P/v//T///8CAA0AFgAVAA4AEwAIAPX/8f/8/wAAEQALAAgADQAAAPf/9f/2//X/+v/+////AwAKAAgAAQD///v//v/7//z////8///////+/xEAFgAQACAAJAAWAB0AHgAVAAgA+v/9/wcAEAAPAAcACAD8/wMABgD+//r//v8BAPf/9/8BAAEACAD3//D/9//z//r/8v/v//b/8//x/+//8P/1//3/DAAPAAYA///+/wEABAD///7////9//3/AAD///v/AAD+//n/AAANAAkAAQD6//z/BAD///v//f8AAAcAAAABAAQA+v/9/wAA9f/q/+v/+f/6//z//v/2//3/BgACAP7//P8AAAQA/f///wYAAADw//L/7//t//n//P/0//L/8//v//P/9f/9/wAA8v/3//T/7v/s/+7/9v/q//j/BwD3/wEA+//0//f/8v/5/wAAAwAAAP7/DAAKAAEAAAD3//H/8//z//z/CAAAAPz//v/0//T/9v/1//v//P/3//L/+//8//L//f/+//3/BwAAAPX/7f/x//7/+////wwAFQAUABEABgADACIAHgANAA0AAgAGAAUA9//y//j/AADz/woACwD5//v/9P/x//X/+P/6//r/AAACAAAA//8AAPj/9f8EAAoACwARABEACQABAAAA//8HABQADQAGAAUAAQD9//P/7f/y//P//f8AAAUACQD+/wIA/f/x//r/+f/9/wMA/v8EAAMA///7//j//f/4/wEADQAKABEADQABAPr/9f/0//T/AAABAP7/BQAJAAIA/v8AAAIA+f8AAAUAAwAEAAEAAAD1//r/+//1/wYADQAGAAMA+v/6//v/9P/x//P//P8IAAcAAwAEAAAACQAJAAMABwALABIABwAAAAAA+f/0//D/8f/5////BgD5//r/+//s/+v/8//y/+//8f///wQAAwAJAAUA/f/1//H/8f/0/wEA9v/1//v/9//v//L//f/8/woAGgAHAA8AEgD8//H/8//5/+3/9v8DAAMACQALAP//9v/5//f/9f8DAA0ACgANAAUA9//s/+3/7//x////DgANABQACwD6//X/8//t/+3//P8FAP7//v////T/9v/3/+//5//w////AAD+/wAAAAD+////CAAAAAMAEAABAAAAAwD2//f/+f/2//r/BQAHAAUAAQD7/wYAAwD+/wEA/P/8/wEAAgAFAAEA/f/9/wAAAAD//wAACQAGAAkAEAAKAAoACAADAAMACwAOAAEA//////n/+f/3//j/+v/5//7/+v/5//z/+//8/wAAAwAAAAIABgAAAPz////4//X/9//2//P/9v////7/AAAEAAYADQAKAAoADAAJABMACwAIAAYAAQACAAEAAQAAAAIABgAAAAAA/v/5//r/9//6//r//f////3/AAD+//7////9/////f8AAAEA/v/+//7//f/7//3/AAAAAAIABgADAAMABAABAP///P8AAAEAAAACAAAA/v/9//v/+//4//j//P8AAAUAAAACAAEA///+//r//v/+/wAACAACAAMAAgD+//3//P/+//3/AAACAAAAAAABAAAA///+/wAAAAABAAMAAAAAAP7//v/+////AAABAAMABwADAAEAAgAAAAAA/v8AAAAAAQAEAAAA///+//v//f/7//j/+v/8//3/+P/5//z/+v/7//3////+////AgD///z/AAD7//f/+f/8//v//f/+//v//P///wAAAAD///3///8BAAAA/v8BAAAAAQD8//n/+//3/////v/7//3/+//4//T/8v/z//H//v8BAAIABwADAAQAAAD5//v/9v/1//z//P8AAPv/9P/u/+3/8//6/wEAAwAAAAQAAgD8//X/8//x//D///8DAAAABQAKAAkABgACAAEA//8EABEADQAEAAYAAgD1//H/+P/4////CwAGAAUACAAAAPT/7//u//X/AAADAAEAAwACAAAA+v/5//b/8v/5//z/AAD///z/9P/n//L/8f/y/wcACQAAAAUAAQD3/wEA/v/4//r/AAAXABUAEQANAP3//f/4//7/AgD6/wMABQABAP//+//7//z////+//7/CQAEAAUABgAAAAAA/v////z//v8CAAAAAAABAAIAAAD+/wAAAAAEAAkABQADAAQAAwADAAIAAgAAAAIACQACAAIAAQD+/////v/+////AAACAAAAAAAAAAAAAAD//wAAAAAEAAUAAgADAAMAAQAAAAAAAgADAAYABQABAAIAAAD///3/+//+/wAAAQAAAP//AAD9/////v/7//7//P/9/////P/9//v//P/8//z////+/wAAAQD//wAA///+//7//f/+//7///8AAP7///8AAP/////+/wAA//8AAAAAAAAAAAAAAAAAAP//AAAAAAEAAQAAAAAA//////7//f/+//7///8AAP7///////7/AAD+//7///8AAAIA///+//3//f/9//z//f///wAAAgD9///////9//3//v////7/AAABAAAAAAAAAAAA/v/8//7//v///wMAAAAAAP7////9//3/AAAAAAEABgAAAAEAAQD+//3//P8AAPz/AAADAAAAAAABAP///f/+/wAA/v8BAAYAAgABAAAAAAD//wAAAgADAAUACgAEAAQAAAAAAP///f////7/AAABAP7//v/+//3//v/9//3/+//+/wAAAAD/////AAAAAAAAAgAAAAEABAAAAAAA///+/////v/+/wAAAQABAP///////wAAAAD9//3//v///wAA/////////f/9//3//v/+//3/AAD//wAAAQD//wAA///+////AAACAP7//f////3//////////////wEA/v/9/wAA/v/////////+/wAAAwAAAAAA///9//7//P/9//r/+v8AAP7////+////AwAAAAAAAAD+/wIA/v////7//f/+//3//v/9/wAAAQD8/////v/8//v/+//8//z/AAD+//7/AAAAAAEAAAD//wAA/////wAA//8AAAAA///9//3/AAAAAAEAAgD+/wAAAQD///7//P///wAAAQACAAAAAAAAAAAA///8//z//P/+/wAA/v/9//z//v/3//f/+v/6/wMABwACAAcACQABAAAA/P/7//z/AgAIAAUAAAABAP//+f/0//X//P/8/wMACAAHAAQACgAFAPr/9f/8////CAADAAUABwAAAPv/+P/6//n//P8AAAEABwAMAAwABwAGAAMAAgAEAAcACAAFAAUAAgD9/wkADQAGABUAGgARABkAFwARAAoA/v/+/wgAEQAQAA0ADQD7/wMABwD+//z/+//+//n/+f8BAAIABgD7//X/9v/1/////P/5/wAAAAD8//7//v8CAAcACwALAAMA/P/8//z//P/3//X//v8AAAEABgABAPz/BQAFAP7/AAAIAAcACgACAAgADQAAAP///f/9/wIA/v////z/+P/6//z/9f/s/+//+f/2//z//f/5/wEABwD//wEA//8BAAoABAAFABEACgD8//3/+f/2/wAAAAAAAPr/9f/0//b/+v/6//v/+P/7//7/9//3//v/AAD4//X/AAD4//j/+f/4////+v/3//f/+f/3//P//v/+//f/9//y//P/+v8AAAcABAAAAAAA+v/0//v/+f/z//j/9f/w//b//f////v//P/6//n////7//X/9f/9/wgACQACAAsAFAAUABIABAD//xIACAD9/wMA/P/6//7/+P/w//j//P/u//v////3//f/9P/x//H/+v/8////AAD//wUABQAFAAEA/P8GAAsACwAQAAoAAwAAAPz/+/8AAAkABgD+/wEABQAAAP///f8AAAIACQAFAAIAAwAAAAAA/f///wIA+f/7//n/+f/4//X//P/z//j/+v/u/wAACAD//woABwD+/wQA/v/2//b/9P///wAA/P8AAP7/+v/2//f//v8AAAYACAALAAUACwAFAPr/+P///wcADAADAAcADAAEAP3/AAACAAIAAwAAAAAAAAADAAEA+f/5//n//v8AAAEAAAD1/+7/9P/z//T/8P/p//b/+//3/wAA/v8AAAAA/P/5//v/AgAEAAQAAAD+/wAA9P/5/wUA//8IABEACwAQAAMA+v/6//L/6f/n//f/BAD7/wUADQACAPz/9v8AAAEA//8KAAcABQAIAPr/6//s/+//8v/+/wIA//8DAAUAAADz//H/+P/4/wAACwAIABEADwAEAP3/+f/3//X/9P/2//T/9f////n/7//u/+f/6P/y//r//P/1//j//P/z//f/+//6/wMACAAFAAkABAD7//n/8v/x////AwACAAUACwANABEADQAKAAMACQASAA0ACgANAAgABAADAAAA///3//T/9v/6/wAA/v/4//z//f/7//3/CAADAPz//f/9//7/+//7//7/AAACAAEA/P/5//7//v8AAAUAAQD//wAABgAFAP3/AAD8//3////8//P/8P8AAAMABQAIAAsAFwAQAA0ADQAEABQADgANAAoAAAADAAIAAAD9/wMACgABAAgAAwD7//n/8f/0//b/+//9//3/AQD8//7////7//7//f8BAAUAAQAEAAUAAAD5//3//v/8/wMACAADAAMABwABAPr/9f/9/wAAAgAIAAYAAQD///v/9v/w/+3/8v/+/woAAgAIAAgA///7//b/+P/5/wEAEAAJAA4ADQABAP7//P/+//r/AwAIAAIABQAHAAIA/f/9/wAAAAAEAAcAAQD///z/+v/5//v//v///wQADgAHAAMABgD+//7/+v/9//7/AQAIAAQAAAD+//v//f/4//L/9v/5//n/8//y//f/9P/2//z////9//7/BAAAAPv/AgD7//P/+P/5//n/+//8//j/+f/7//3////+//n//f8AAP3/+//9////BAD9//n/+v/0//v/9f/1//b/8f/x/+3/7f/t/+r//P///wYACAACAA8ACAD//wIA9//y//P/9f/8//X/7//r/+z/9f/6//3/+v/4//j/9f/2//P/9//y/+7//f8AAAAAAAAEAAcABAAGAAEA/v8BAAYABAAAAP//AAD8//T/+//9//v/AAAAAP7/AgADAAAA+//5////AgD///7//f///wQA/v8AAP3/+P/9//n////+//b/8f/v/////v/7/wwABQAAAAUA/f/7/woAAwD+/wEA/v8LAA8ACgAJAAIAAQD8//7/CQABAAcABwABAAAAAAD+//7/AAADAPz/BwAFAAQADgAGAAQABwADAP3//P////3/9/8AAAgAAAAAAAMAAAAFAA0ACQABAAUACQAIAAsABgAEAAYADgAGAAcABwD//wMAAQD8/wEABQADAAAAAAADAAAAAQAAAPz//v8GAAYABgAHAAkACAACAAIABQAJAA4ABQADAAQA/v////r/9f/8//7////7/wAAAAD5/wUA///1////9//3//j/9P/5//X/9//0//T//P/4//7/AwAAAAUAAgD7//r/9v/x//L/+f/8//n//f8CAPz/+f/5//7/+//9/wEA////////AAD2//n//P/5/wMACQADAAEA///8//r/+P/x//L/+v8BAAAA/v8AAPv/AQAAAPj//P8CAAoAAwD9//3/9//y//D/8f/4/wAACAD//wEAAQDz//D/+P/6//f/+f8CAAYABgAHAAQA/v/4//f/9v/8/wgAAgABAAAA/f/1//f////6/wMADwACAAoADAD9//b/+f/+//P//P8GAAUACQAIAAAA+//7//v/+f8CABAADQANAAkAAAD4//n//v8BAAsAGgATABUADAABAPz/+f/4//f/AAAHAP///f/+//r/+//7//j/8v/4/wIAAgD9/wAAAwD//wEACgAEAAsAFAAGAAMAAwD6//n/+P/1//z/BAAGAAIA/f/7/wIA/v/3//f/+P/4//z/+//9//7/+P/1//n/+v/6//j//P/+////AwD//wEAAQD8//z/BAAJAAAA+v/8//n//P/9//3//P/9/wAA9//2/wAA+v/5//7//P/5//7/BwADAP7//f/4//n/+f/3/+3/6//9//z//P/8//3/BwAEAAMAAAD5/wYAAAD+//7/+P/3//n/+v/2/wEABQD7/wMAAAD1//P/8v/y//L/+v/4//n/AAD9/wIAAAD9/wEA/////wIAAAAAAAEAAAD2//f/+//7/wIABgD9/wEABgD+//v/+f/8//7/BAAHAAUABAADAAUAAAD7//j/9//+/wIAAQD+//z//v/z//T/+f/2/wUADQAFAAwADwACAAEAAAD9//v/AQAKAAcAAQACAPz/+P/1//b//f/+/wgADgAKAAUACgAGAP3/+f///wEACgAFAAgABwAAAPz/+f/7//r//f8BAAMABwAIAAYAAwACAAAA//8CAAYABQAEAAEAAAAAAAYACQAEAA0AFAAKAAwACgADAAEA/P///wIABgAIAAIAAgD7/wAAAAD9//7//P////7/+/8AAAAAAAD6//n/+//4/wAAAAD8/wEAAAD8//3/+///////AgAEAP7//f/9//z//P/2//f//P/8/////v/9//v////8//j/+v8BAAUABgD//wYABgD9//v/9//5//z//P/8//j/9v/6//v/9//v//D/+f/4//3//v/3////AwD7//v/+/8AAAgABgADAAsABwD6//n/9f/1//7/AAAAAPz/+//7////AQAAAAAA/P///wIA/v/8//v/AAD3//j////3//z//v/8/wAA/P/4//r/+//6//b/AAACAP7////5//r///8AAAUABQAAAAMA/v/4//3/+v/0//j/9//0//r/AAD////////7//v////8//f/+/8BAAYACAAEAAoADgANAAwAAwAAAA8ABwD+/wMA/v/6//3/+v/2////AgD2/wAAAQD6//r/+P/2//b//v8AAAEAAgACAAUABAACAAIA//8GAAsACQALAAcAAgD///v//f8AAAcACAABAAUACAACAAAA/v8AAAEABgADAAAAAgAAAAAA///9////+f/5//v/+//4//b/+//0//X/+v/z/wEACQAAAAUAAwD7/wAA/P/4//j/9/8AAP7//P////z//P/5//z/AAAAAAYABAAEAAIABQAAAPz/+v/+/wQABwAAAAQABgAAAPr/+v/8//z//v//////AAAAAAAA/P/3//j/+//9/wIAAAD6//X/9//z//P/9P/y//z/AgD8/wEAAwABAP///P/7//3/BwAKAAcABQABAAEA+P/5/wAA/v8DAAgABAAGAP7//f/6//X/8P/w/wAACgACAAwADQAEAAEA/v8DAAAAAQAIAAEAAAABAPf/7v/v//L/9v///wMAAAACAAMAAgD5//n/AAAAAAYAEAAKABAACwADAP///P/7//r/+//8//n/+v////z/9v/1//T/9f/7/////v/3//n//v/2//v//P/8/wQABgACAAQAAQD7//v/9v/3/wAAAQACAAEABAAGAAcAAwD///v/AwAGAAUAAgAAAAAA///9//v/+//3//j/+v/8/wAA///4//z/+v/4//j///////v//f/+/wAAAAABAAQABAAGAAgAAAD8/wAA/f/+/wAA+P/1//r/AQABAP7//v/8//3//f/9//b/8v8AAAEAAgABAAQADgAIAAYABAD9/wcAAQAAAP//+f/5//z//P/2////BAD9/wUAAQD6//n/9v/1//T//f/5//v////6/wEAAQD8/wAA/f/+/wIAAAAAAAMAAQD5//n/+//8/wMABAD7/wAABAD8//r/+P/6//3/AwAGAAUAAgABAAUAAAD9//r/9//9/wIAAAD9//3//v/0//j/+//4/wUACwACAAgACwACAAEAAAD+//z/AAAHAAUA//8BAP3/+f/3//r/AAAAAAgADAAJAAQACQAFAP3/+v8AAAEACAADAAUABgD///z/+P/6//n/+////wAAAwAFAAQAAgAAAP////8AAAEAAQAAAAAAAAAAAAYACQAFAA0AEgAJAAwACgAFAAAA/P///wEABQAGAAAAAgD7/wAAAQD+/////f8AAP//+/8BAAAAAQD6//j/+v/3/wEAAAD8/wEAAAD9//3/+/8AAAAABAAGAAEAAAAAAAAA/f/4//n//f/9/wAAAAD9//r/AAD9//j//f8CAAUABQD9/wMABQD8//r/+f/4//r//P/8//n/9//8//3/+v/0//P/+v/6//7////4//3/AgD8//z/+//+/wQAAAAAAAQAAQD5//n/9v/0//3/AAD+//z//v/8/wAAAQAAAAAA+/////3/+f/4//f//P/1//n/AAD6/wAA+//6//7/+v///wEAAgAAAP3/CQAHAAAAAAD4//n//P/5////AwD9//7//v/2//j/+f/1//f/9//2//T/+//8//b/+//8//n/AAD+//f/9v/7/wAA/v8AAAYACAAKAAgAAwD//xAADgD9/wAAAAABAAEA+v/6//3//f/y//z/AAD5//r/9f/3//3/+//8//7/AAABAP//AAACAPz/+/8DAAYACQAIAAsACgAFAAQABAAHAAwABwACAP///f/8//n/9v/6//r/+//6/wAAAAD5/wAA/f/2//7/+//9/wAA+v/9//3//v/+//7/AAD5////AQD+/wcABQAAAAAA/f/5//v/AQD9//r/AAAEAAEAAAAEAAMA/P8AAAAA///+//r/+v/3//3/+//3/wQACQAFAAAA+f/9/wMAAQD7//n//P8EAAUAAAAAAP3/CQANAAYACwAMAA8ABwD//wAA/P/7//f/9v/8//3//f/4//n/+P/x//L/+//+//z/8//9/wMA//8EAAUABgADAPr/+f/7/wAA+f/4//7//v/7//3/BgADAAUADAABAAQABgD+//7/AAADAPn/9f/7//7/AAAAAPz/+v/+//z/+/8AAAAAAAACAPv/9//3//j/+//8//3/AAABAAkABgAAAP7//f/6//j///8BAPv/9//7//X/+P/9//T/8P/0//n//P/7//z///8AAP//BgABAAQACwAAAP3/AAD3//v//f/5//7/AQD+////+f/2/wUAAQD+/wAA/f/+//3/AAAEAAAA/f/7//7/AwD+//n//P////3/BgAHAAYABgADAAYADgASAAoAAQABAAEA/P/4//b/+f/6//j/8//3/wIA/v/8/wYACAADAAYACAAEAPr////5//P//f/8//P/8P/8/////v8GAAkADAANAAoADAAIABQAEAAPABEACQAOABEACgAIAAUAAQD+/wQA/v/8//7/7//0//3/9f/1//v/+P/4//7////9//7//P8AAAIAAAAAAP///v/8/wEABAABAP//AwAIAAAABQAKAAIAAAAFAAgA/P/+/wAA+v/4//L/9f/0/+7/9f/9/wMA+v///wUA/v8EAP//AAAAAP7/BgAFAAoACwAEAAYABQAEAAEABQACAP7/AwAGAAUABAAFAAIAAAAGAAMAAAACAPz/9//9//////8AAAAACQAHAAAABgADAAMAAQD///7///8IAAkAAwAAAPz////6//P/9//2//b/7//u//P/7//y//n/+//4//j//v/9//b//f/6//P/+f/8//n/9//5//r/+v/9/wAAAwABAPn/+//+//v/+v/9/wAACAD+//r/AAD2//v/8//1//X/6v/v//H/8f/u/+r/+f/6/wIABAD//woABAD//wIA9f/w/+//8v/5//L/7v/t/+//+P/8//3/9v/4//f/8v/3//n/+//4//X//f8AAAAAAAAEAAYABAAHAAQAAwADAAUABQAAAP//AAAAAPr//P/+//7//v////z//f///wEA/P/7/wAA///7//z/+v/8/wIA/P//////+f/+//n//v/+//b/9f/z/wAAAAD7/wwABQAAAAYA///+/wkABQAAAAIA//8HAAoACAAGAAAA///6//z/BQACAAUAAwABAAIA///+////AAADAAAABwAFAAUACwAEAAIACAAGAAIAAQAAAAAA/v8FAAkAAgAFAAIAAgAJAAwACwADAAYACgAIAAwACQAHAAcACQADAAEAAQD//wIAAQD9/wEABAAEAAAA/v8DAAAAAAACAP7//v8EAAUACAAHAAgABgAAAAAABAAHAAkAAAABAAIA/v8AAAAA/f8DAAQAAgD9/wEAAwD7/wYA///3/wAA+P/2//L/8P/0//L/9v/x//P//f/3/wAAAAD//wIA/f/5//7/+P/y//T/8//5//b/9//+//X/9//1//j/+//8/wAA/f/7//z/AAD4//f/+//8/wAAAQD8//z/AAD8//n//f/3//n//v/+/wAA/P/+//z/AQABAPz///8BAAkABAD2//P/8v/z//T/9P/2/wEABgD6/wAAAAD4//f//P/9//v//P8AAAMABAADAAEA/P/8//z/+f8AAAkACQAJAAAAAAD8//z/AAD5/wMADwAEAAkADQACAP///v8DAPv//P8HAAQABAAFAPr/9P/2//b/9////wYACAALAAsABgD9//7/BAAHAA4AGgATABcAEgAIAAEA/v/8//r/AAADAP3//f8AAPr/9f/0//P/8//5///////5//z/AgD8/wIABwAFABAAEgAJAAgABQD+////+v/6/wIABgAGAAEAAAAAAAQAAAD7//j//v////v/+P/2//f/+f/2//b/+f/2//L/8//6//7//f/6/////v/4//f//f8BAP7//f/9//7/AAABAAIAAQACAAUA+//6/wMA/v/+/wAA+//1//f//v/8//b/+f/3//X/+f/7/+//7P/+//3//f/+//z/BAAGAAAA/v/5/wMA///9////+P/4//7/+//x//3////x//3//P/z//P/8f/u/+//9v/y//n/+v/2/wIAAAAAAAUA/v///wEAAAABAAMAAQD7//v/+//8/wAA/f/z//T/+f/2//r//f///wAAAgAAAAUAAAD8/wIAAAD9//v/9//7//z/AAD2/+//+v/2//r/AAD7/wQAAwAAAAQABAABAAcABgACAAUA/f8CAAsA/P/8//3/+f/2//j/AAAAAAcADQAJAAUAEAATAAMA/P8JAAMAAgABAAIACQAGAAEAAAD///3/+//7/wAAAQAHAAYAAwALAAoABQAAAAEABAACAAAAAAAAAAwADgAGAA8AEgANABEADgASABEABAAFAA4ACwAIAAkACAD+/wgABgACAAQAAAABAP7/+v8CAAIABQD///z/+f/2/wAA+//7/wEA+v/6/wAA/v8BAAQABAAFAAIA/P/8/////f/5//v//f/9////AAD+//r//v/+//r//P8BAAAAAAD4//7/AQD5//3/+//8/wEA+v/8//7/9//3//n/9v/v//L//P/6//z/+//3/wAAAgD+/wEA/f/+/wgAAAACAA0AAwD6////+//6/wAA///+//v/+P/2//n//f////3/+v8AAP//+f/5//r/AAD2//T/AQD9//z/+v/7////+//9//3/AAD///n/BAADAPz//v/2//n//P/+/wUAAgAAAAEA+//1//n/+v/3//r/+v/2//n///////3////+//z/AAAAAPn/+////wIAAwABAAUACAAJAAUAAAD+/wkAAwD7/wEAAAD7//3//P/5///////z//r//v/+//7/+v/7//r//f8AAAMABAAHAAUABAAIAAAA+/8FAAYACgALAAUAAgAAAPz/AAAFAAgABQADAAEAAwADAAAA//8EAAUACQACAP7/AQD9/wAA/v/8//7/+P/+//z//P/6//X//P/4//3/BAD3/wEABgD+/wQAAgD8/wUAAAD7//j/9P//////+v////z/+//2//r/AAD//wQAAAD///v/AQAAAPf/9P/9/wAAAwD//wEABAAAAP3//v/9//7/AAAAAAAAAQADAAMAAQABAAEAAQABAAgAAwD7//n/+f/4//z/+f/2/wAABgD8/wMABAAAAAAA/v/5//r/AAAAAAAAAQD9////9//5/wAA+/8BAAgABgAHAP///f/7//j/9f/x/wAACwAAAAYABwD///v/9f/9//r/+/8DAP///v8CAPr/7//w//X/+P///wMAAQABAAIAAgD4//n//v/8/wMADAAHAAwACQAAAPz/9f/1//b/9//8//j/+P8AAPv/9P/x/+3/8//6//7//v/4//r/+//2//j/+f/6/wQABgADAAMAAAD6//j/8v/y//3/AAAAAP//AgAEAAYAAgAAAPv/AQAMAAYAAAAAAAAAAAD9//3////3//j/9v/8/wIAAAD6//z//v/+/wEADgAJAP3/+//8/wAA/P/2//j/+v///wAA+v/5/wAA/////wMAAAD9////AAD9//P/+v/5//j/AAD///f/+P8BAAQAAgAFAAcADQAIAAIABAABAAwADQAGAAMA//8DAAYAAgACAAAA/P/5////AAD//wAA+//9/wEA/v/9/wAA///9////BAAJAAYAAAABAAYACwAKAAkACAAGAAoACgAIAAMAAQACAPz//v8BAPz/+f/9/wAA/P/+/wAA+//2//n//P/5//T/8f/4//z/+v/9//n/+v////v/AwADAP//AwAGAAsAEAAMAAYACQAMAAcADAAGAAAAAgAGAAcACAAIAAIAAAAIAAkABwAFAPn/+v8AAP//AAABAAAABAAAAP7/BgAGAAMAAAD4//r/AAAGAAcAAgAAAP//CgAMAAMAAQD9/wAA///9/wAA/P/+/wEABgAGAAkADwAHAAIABgAEAAIAAgADAAQAAAD+//z//v/+/wIAAAD+//n/9f/7//n/9P/5//7/BwD7//n////2/wEA+//3//f/6//w//P/8P/r/+r/9f/y//n/+v/z//7/+//y//n/7f/n/+//8v/x/+3/6v/l/+b/8v/3//v/9//v/+//8v/z//j/+v/u//L//P/5//7/AQAAAAAAAAAAAAMABwACAAEAAwD6//z/AQD6//r/+v/7/wYAAgAAAAAA/f/8/wEA/P/1/wAA///y//X/9P/v//X/8v/z//j/8//4//n/+v/3//n/+//y/wIACAADABUADAAEAAQAAAADAAoADgAIAAYACAAFAAMAAgD///v/9v/v//j/AQAAAAcAAwAAAAIAAQD8//n//P/8////CAAFAAUAAwD+////BAAEAP3/+f/4////AQALAAwA///5//z//f/+/wUA/v/w//f/+P/7/wAAAAAFAAoAEQAQABIADAADAAMA/f/8/////P/+/wIAAgABAP3//P/8//3//f/8//3///8AAP//+//8//3//v/+////AAAAAP7//f/7//z/+//7//v/+v/7//z//P/8//v//P/8//z/+//8//z//P/8//7/AAAAAP//AAABAAUABwAIAAwADwANAA8AEAAWAAwA+v8=\" type=\"audio/wav\" />\n",
              "                    Your browser does not support the audio element.\n",
              "                </audio>\n",
              "              "
            ]
          },
          "metadata": {}
        }
      ]
    },
    {
      "cell_type": "markdown",
      "source": [
        "#### With higher diffusion steps (more diverse)\n",
        "Since the sampler is ancestral, the higher the stpes, the more diverse the samples are, with the cost of slower synthesis speed."
      ],
      "metadata": {
        "id": "oZk9o-EzCBVx"
      }
    },
    {
      "cell_type": "code",
      "source": [
        "# start = time.time()\n",
        "# noise = torch.randn(1,1,256).to(device)\n",
        "# wav = inference(text, noise, diffusion_steps=10, embedding_scale=1)\n",
        "# rtf = (time.time() - start) / (len(wav) / 24000)\n",
        "# print(f\"RTF = {rtf:5f}\")\n",
        "# import IPython.display as ipd\n",
        "# display(ipd.Audio(wav, rate=24000))"
      ],
      "metadata": {
        "id": "9_OHtzMbB9gL"
      },
      "execution_count": 67,
      "outputs": []
    },
    {
      "cell_type": "markdown",
      "source": [
        "### Speech expressiveness\n",
        "The following section recreates the samples shown in [Section 6](https://styletts2.github.io/#emo) of the demo page."
      ],
      "metadata": {
        "id": "NyDACd-0CaqL"
      }
    },
    {
      "cell_type": "markdown",
      "source": [
        "#### With embedding_scale=1\n",
        "This is the classifier-free guidance scale. The higher the scale, the more conditional the style is to the input text and hence more emotional."
      ],
      "metadata": {
        "id": "cRkS5VWxCck4"
      }
    },
    {
      "cell_type": "code",
      "source": [
        "# texts = {}\n",
        "# texts['Happy'] = \"We are happy to invite you to join us on a journey to the past, where we will visit the most amazing monuments ever built by human hands.\"\n",
        "# texts['Sad'] = \"I am sorry to say that we have suffered a severe setback in our efforts to restore prosperity and confidence.\"\n",
        "# texts['Angry'] = \"The field of astronomy is a joke! Its theories are based on flawed observations and biased interpretations!\"\n",
        "# texts['Surprised'] = \"I can't believe it! You mean to tell me that you have discovered a new species of bacteria in this pond?\"\n",
        "\n",
        "# for k,v in texts.items():\n",
        "#     noise = torch.randn(1,1,256).to(device)\n",
        "#     wav = inference(v, noise, diffusion_steps=10, embedding_scale=1)\n",
        "#     print(k + \": \")\n",
        "#     display(ipd.Audio(wav, rate=24000, normalize=False))"
      ],
      "metadata": {
        "id": "H5g5RO-mCbZB"
      },
      "execution_count": 68,
      "outputs": []
    },
    {
      "cell_type": "markdown",
      "source": [
        "#### With embedding_scale=2"
      ],
      "metadata": {
        "id": "f4S8TXSpCgpA"
      }
    },
    {
      "cell_type": "code",
      "source": [
        "# texts = {}\n",
        "# texts['Happy'] = \"We are happy to invite you to join us on a journey to the past, where we will visit the most amazing monuments ever built by human hands.\"\n",
        "# texts['Sad'] = \"I am sorry to say that we have suffered a severe setback in our efforts to restore prosperity and confidence.\"\n",
        "# texts['Angry'] = \"The field of astronomy is a joke! Its theories are based on flawed observations and biased interpretations!\"\n",
        "# texts['Surprised'] = \"I can't believe it! You mean to tell me that you have discovered a new species of bacteria in this pond?\"\n",
        "\n",
        "# for k,v in texts.items():\n",
        "#     noise = torch.randn(1,1,256).to(device)\n",
        "#     wav = inference(v, noise, diffusion_steps=10, embedding_scale=2) # embedding_scale=2 for more pronounced emotion\n",
        "#     print(k + \": \")\n",
        "#     display(ipd.Audio(wav, rate=24000, normalize=False))"
      ],
      "metadata": {
        "id": "xHHIdeNrCezC"
      },
      "execution_count": 69,
      "outputs": []
    },
    {
      "cell_type": "markdown",
      "source": [
        "### Long-form generation\n",
        "This section includes basic implementation of Algorithm 1 in the paper for consistent longform audio generation. The example passage is taken from [Section 5](https://styletts2.github.io/#long) of the demo page."
      ],
      "metadata": {
        "id": "nAh7Tov4CkuH"
      }
    },
    {
      "cell_type": "code",
      "source": [
        "passage = '''If the supply of fruit is greater than the family needs, it may be made a source of income by sending the fresh fruit to the market if there is one near enough, or by preserving, canning, and making jelly for sale. To make such an enterprise a success the fruit and work must be first class. There is magic in the word \"Homemade,\" when the product appeals to the eye and the palate; but many careless and incompetent people have found to their sorrow that this word has not magic enough to float inferior goods on the market. As a rule large canning and preserving establishments are clean and have the best appliances, and they employ chemists and skilled labor. The home product must be very good to compete with the attractive goods that are sent out from such establishments. Yet for first-class homemade products there is a market in all large cities. All first-class grocers have customers who purchase such goods.''' # @param {type:\"string\"}"
      ],
      "metadata": {
        "cellView": "form",
        "id": "IJwUbgvACoDu"
      },
      "execution_count": 70,
      "outputs": []
    },
    {
      "cell_type": "code",
      "source": [
        "# sentences = passage.split('.') # simple split by comma\n",
        "# wavs = []\n",
        "# s_prev = None\n",
        "# for text in sentences:\n",
        "#     if text.strip() == \"\": continue\n",
        "#     text += '.' # add it back\n",
        "#     noise = torch.randn(1,1,256).to(device)\n",
        "#     wav, s_prev = LFinference(text, s_prev, noise, alpha=0.7, diffusion_steps=10, embedding_scale=1.5)\n",
        "#     wavs.append(wav)\n",
        "# display(ipd.Audio(np.concatenate(wavs), rate=24000, normalize=False))"
      ],
      "metadata": {
        "id": "nP-7i2QAC0JT",
        "collapsed": true
      },
      "execution_count": 71,
      "outputs": []
    },
    {
      "cell_type": "markdown",
      "source": [
        "### Streaming Data"
      ],
      "metadata": {
        "id": "VrC7gj8JrdIs"
      }
    },
    {
      "cell_type": "markdown",
      "source": [],
      "metadata": {
        "id": "Dkf9N3I4hXvR"
      }
    },
    {
      "cell_type": "code",
      "source": [
        "!pip install datasets transformers"
      ],
      "metadata": {
        "id": "tcNy0l4thUI9",
        "colab": {
          "base_uri": "https://localhost:8080/"
        },
        "outputId": "05d6e932-b02a-48f2-de51-60a52d27b3bf"
      },
      "execution_count": 72,
      "outputs": [
        {
          "output_type": "stream",
          "name": "stdout",
          "text": [
            "Requirement already satisfied: datasets in /usr/local/lib/python3.10/dist-packages (3.2.0)\n",
            "Requirement already satisfied: transformers in /usr/local/lib/python3.10/dist-packages (4.46.3)\n",
            "Requirement already satisfied: filelock in /usr/local/lib/python3.10/dist-packages (from datasets) (3.16.1)\n",
            "Requirement already satisfied: numpy>=1.17 in /usr/local/lib/python3.10/dist-packages (from datasets) (1.26.4)\n",
            "Requirement already satisfied: pyarrow>=15.0.0 in /usr/local/lib/python3.10/dist-packages (from datasets) (17.0.0)\n",
            "Requirement already satisfied: dill<0.3.9,>=0.3.0 in /usr/local/lib/python3.10/dist-packages (from datasets) (0.3.8)\n",
            "Requirement already satisfied: pandas in /usr/local/lib/python3.10/dist-packages (from datasets) (2.2.2)\n",
            "Requirement already satisfied: requests>=2.32.2 in /usr/local/lib/python3.10/dist-packages (from datasets) (2.32.3)\n",
            "Requirement already satisfied: tqdm>=4.66.3 in /usr/local/lib/python3.10/dist-packages (from datasets) (4.66.6)\n",
            "Requirement already satisfied: xxhash in /usr/local/lib/python3.10/dist-packages (from datasets) (3.5.0)\n",
            "Requirement already satisfied: multiprocess<0.70.17 in /usr/local/lib/python3.10/dist-packages (from datasets) (0.70.16)\n",
            "Requirement already satisfied: fsspec<=2024.9.0,>=2023.1.0 in /usr/local/lib/python3.10/dist-packages (from fsspec[http]<=2024.9.0,>=2023.1.0->datasets) (2024.9.0)\n",
            "Requirement already satisfied: aiohttp in /usr/local/lib/python3.10/dist-packages (from datasets) (3.11.9)\n",
            "Requirement already satisfied: huggingface-hub>=0.23.0 in /usr/local/lib/python3.10/dist-packages (from datasets) (0.26.3)\n",
            "Requirement already satisfied: packaging in /usr/local/lib/python3.10/dist-packages (from datasets) (24.2)\n",
            "Requirement already satisfied: pyyaml>=5.1 in /usr/local/lib/python3.10/dist-packages (from datasets) (6.0.2)\n",
            "Requirement already satisfied: regex!=2019.12.17 in /usr/local/lib/python3.10/dist-packages (from transformers) (2024.9.11)\n",
            "Requirement already satisfied: tokenizers<0.21,>=0.20 in /usr/local/lib/python3.10/dist-packages (from transformers) (0.20.3)\n",
            "Requirement already satisfied: safetensors>=0.4.1 in /usr/local/lib/python3.10/dist-packages (from transformers) (0.4.5)\n",
            "Requirement already satisfied: aiohappyeyeballs>=2.3.0 in /usr/local/lib/python3.10/dist-packages (from aiohttp->datasets) (2.4.4)\n",
            "Requirement already satisfied: aiosignal>=1.1.2 in /usr/local/lib/python3.10/dist-packages (from aiohttp->datasets) (1.3.1)\n",
            "Requirement already satisfied: async-timeout<6.0,>=4.0 in /usr/local/lib/python3.10/dist-packages (from aiohttp->datasets) (4.0.3)\n",
            "Requirement already satisfied: attrs>=17.3.0 in /usr/local/lib/python3.10/dist-packages (from aiohttp->datasets) (24.2.0)\n",
            "Requirement already satisfied: frozenlist>=1.1.1 in /usr/local/lib/python3.10/dist-packages (from aiohttp->datasets) (1.5.0)\n",
            "Requirement already satisfied: multidict<7.0,>=4.5 in /usr/local/lib/python3.10/dist-packages (from aiohttp->datasets) (6.1.0)\n",
            "Requirement already satisfied: propcache>=0.2.0 in /usr/local/lib/python3.10/dist-packages (from aiohttp->datasets) (0.2.1)\n",
            "Requirement already satisfied: yarl<2.0,>=1.17.0 in /usr/local/lib/python3.10/dist-packages (from aiohttp->datasets) (1.18.3)\n",
            "Requirement already satisfied: typing-extensions>=3.7.4.3 in /usr/local/lib/python3.10/dist-packages (from huggingface-hub>=0.23.0->datasets) (4.12.2)\n",
            "Requirement already satisfied: charset-normalizer<4,>=2 in /usr/local/lib/python3.10/dist-packages (from requests>=2.32.2->datasets) (3.4.0)\n",
            "Requirement already satisfied: idna<4,>=2.5 in /usr/local/lib/python3.10/dist-packages (from requests>=2.32.2->datasets) (3.10)\n",
            "Requirement already satisfied: urllib3<3,>=1.21.1 in /usr/local/lib/python3.10/dist-packages (from requests>=2.32.2->datasets) (2.2.3)\n",
            "Requirement already satisfied: certifi>=2017.4.17 in /usr/local/lib/python3.10/dist-packages (from requests>=2.32.2->datasets) (2024.8.30)\n",
            "Requirement already satisfied: python-dateutil>=2.8.2 in /usr/local/lib/python3.10/dist-packages (from pandas->datasets) (2.8.2)\n",
            "Requirement already satisfied: pytz>=2020.1 in /usr/local/lib/python3.10/dist-packages (from pandas->datasets) (2024.2)\n",
            "Requirement already satisfied: tzdata>=2022.7 in /usr/local/lib/python3.10/dist-packages (from pandas->datasets) (2024.2)\n",
            "Requirement already satisfied: six>=1.5 in /usr/local/lib/python3.10/dist-packages (from python-dateutil>=2.8.2->pandas->datasets) (1.16.0)\n"
          ]
        }
      ]
    },
    {
      "cell_type": "code",
      "source": [
        "# Import all necessary libraries\n",
        "from datasets import load_dataset, Dataset, DatasetDict\n",
        "from transformers import AutoTokenizer, TrainingArguments, Trainer, DataCollatorWithPadding\n",
        "import pandas as pd\n",
        "import torch\n",
        "\n",
        "# Load the tokenizer for the German BERT model\n",
        "tokenizer = AutoTokenizer.from_pretrained('bert-base-german-dbmdz-uncased')\n"
      ],
      "metadata": {
        "id": "zLGQXnBWl4KQ"
      },
      "execution_count": 73,
      "outputs": []
    },
    {
      "cell_type": "code",
      "source": [
        "# from datasets import load_dataset\n",
        "\n",
        "# # Load a dataset in streaming mode\n",
        "# dataset = load_dataset(\"facebook/multilingual_librispeech\", \"german\", split=\"train\", streaming=True)\n",
        "\n"
      ],
      "metadata": {
        "id": "hSczJ3Qsrblw"
      },
      "execution_count": 74,
      "outputs": []
    },
    {
      "cell_type": "code",
      "source": [
        "# # # def preprocess_data(batch):\n",
        "# # #     # Tokenize the transcript\n",
        "# # #     tokenized = tokenizer(batch['transcript'], truncation=True, padding='max_length')\n",
        "\n",
        "# # #     # Process audio into mel-spectrogram features\n",
        "# # #     mel_transform = torchaudio.transforms.MelSpectrogram()\n",
        "# # #     mel_features = [\n",
        "# # #         mel_transform(torch.tensor(audio['array'])) for audio in batch['audio']\n",
        "# # #     ]\n",
        "\n",
        "# # #     # Map accents to numeric labels if necessary\n",
        "# # #     accent_map = {'german': 0}  # Add more accents as needed\n",
        "# # #     accents = [accent_map.get('german', -1) for _ in batch['transcript']]  # Use the same label for all\n",
        "\n",
        "# # #     # Add fields to tokenized dictionary\n",
        "# # #     tokenized['mel_features'] = mel_features\n",
        "# # #     tokenized['accent'] = accents  # Explicitly add the accent field\n",
        "# # #     tokenized['speaker_id'] = batch['speaker_id']  # Keep speaker_id as-is\n",
        "\n",
        "# # #     return tokenized\n",
        "\n",
        "\n",
        "def preprocess_data(batch):\n",
        "    # Tokenize the transcript\n",
        "    tokenized = tokenizer(batch['transcript'], truncation=True, padding='max_length')\n",
        "\n",
        "    # Add a hardcoded accent value if missing\n",
        "    accent_map = {'german': 0, 'english': 1} # Example mapping for accents\n",
        "    if 'accent' not in batch:\n",
        "        batch['accent'] = ['german'] * len(batch['transcript'])  # Default to 'german'\n",
        "\n",
        "    # Map accents to numeric labels\n",
        "    labels = [accent_map.get(accent, -1) for accent in batch['accent']]\n",
        "    tokenized['labels'] = torch.tensor(labels, dtype=torch.float)\n",
        "\n",
        "    return tokenized\n",
        "\n"
      ],
      "metadata": {
        "id": "zjUd4g4UssJK"
      },
      "execution_count": 75,
      "outputs": []
    },
    {
      "cell_type": "code",
      "source": [
        "# from transformers import AutoTokenizer\n",
        "\n",
        "# # Initialize the tokenizer outside the function to avoid repeated initializations\n",
        "# tokenizer = AutoTokenizer.from_pretrained('bert-base-german-dbmdz-uncased')\n",
        "\n",
        "# def preprocess_data(batch):\n",
        "#     # Tokenize the text\n",
        "#     tokenized_batch = tokenizer(batch['transcript'], padding=True, truncation=True, max_length=512, return_tensors=\"pt\")\n",
        "\n",
        "#     # Handle accents if they are part of the dataset\n",
        "#     if 'accent' in batch:\n",
        "#         accent_map = {'german': 0, 'english': 1}  # Define your accent map as needed\n",
        "#         accent_labels = [accent_map.get(accent, -1) for accent in batch['accent']]\n",
        "#         tokenized_batch['accent_labels'] = accent_labels\n",
        "\n",
        "#     return tokenized_batch\n",
        "\n"
      ],
      "metadata": {
        "id": "dUoVPieG5Ydn"
      },
      "execution_count": 76,
      "outputs": []
    },
    {
      "cell_type": "code",
      "source": [
        "# Load a dataset in streaming mode\n",
        "streaming_dataset = load_dataset(\"facebook/multilingual_librispeech\", \"german\", split=\"train\", streaming=True)\n",
        "\n",
        "# Apply preprocessing to the dataset\n",
        "tokenized_dataset = streaming_dataset.take(500).map(preprocess_data, batched=True)\n"
      ],
      "metadata": {
        "id": "Fh5ZdK3ll-M_",
        "colab": {
          "base_uri": "https://localhost:8080/",
          "height": 81,
          "referenced_widgets": [
            "2855afdabf944407a64c348dd764176b",
            "6b97f8e18c564f4ca0bfc8ccfd2ec4b7",
            "824823c43ac2475f9bf3d6d1bcfd7327",
            "c9bc19d02c5646dea1618caba5d6434b",
            "ee70caac7e0a49fb8d8bb417a0b1a24f",
            "11378668428f45cd93530642d362da52",
            "68eb583aab704fd9a1b589fc99ec1745",
            "444965ce3d3442a9915b7225f5a6bebf",
            "61f887606bd64d59bdb08918febcf6ba",
            "7e54e75d3418407d9a3214c7d5efc1a7",
            "d5c44668697447bc8fa45f9e720d6740",
            "5c9b3272b59c41b183b467b06108edcb",
            "54f6492beefd4e758df815c7b6f80988",
            "031a238233ba4759b610bfc689a0960f",
            "c9cae3aec2f34dd4a152867e8ca78868",
            "408d307a203941d6ada36a6f3134de9a",
            "a1a68cec63a44af5b9627d2ae6d9c2ba",
            "5cce8e6263d24d32b11498d7103844e1",
            "b6e518d8f583463f83c40609708b7117",
            "5bf52e3c87844856a58c9cc939cf93f2",
            "038848be59624faabfe5ade59682c0aa",
            "5ad8c703425c4ac5a2d17ba99f17031e"
          ]
        },
        "outputId": "3e8570e4-3f3b-432a-e861-d28b993daba5"
      },
      "execution_count": 77,
      "outputs": [
        {
          "output_type": "display_data",
          "data": {
            "text/plain": [
              "Resolving data files:   0%|          | 0/48 [00:00<?, ?it/s]"
            ],
            "application/vnd.jupyter.widget-view+json": {
              "version_major": 2,
              "version_minor": 0,
              "model_id": "2855afdabf944407a64c348dd764176b"
            }
          },
          "metadata": {}
        },
        {
          "output_type": "display_data",
          "data": {
            "text/plain": [
              "Resolving data files:   0%|          | 0/63 [00:00<?, ?it/s]"
            ],
            "application/vnd.jupyter.widget-view+json": {
              "version_major": 2,
              "version_minor": 0,
              "model_id": "5c9b3272b59c41b183b467b06108edcb"
            }
          },
          "metadata": {}
        }
      ]
    },
    {
      "cell_type": "code",
      "source": [
        "# import pandas as pd\n",
        "# from datasets import Dataset\n",
        "\n",
        "# data_samples = []\n",
        "# for i, sample in enumerate(dataset):\n",
        "#     data_samples.append(sample)\n",
        "#     if i == 20:  # Collect only the first 21 samples\n",
        "#         break\n",
        "\n",
        "# # Create a DataFrame\n",
        "# df = pd.DataFrame(data_samples)\n",
        "# df[\"accent\"] = \"german\"\n",
        "\n",
        "# hf_dataset = Dataset.from_pandas(df)\n",
        "# # Print the Data\n",
        "\n",
        "# df.columns"
      ],
      "metadata": {
        "id": "Ih5-1wdCrnf6"
      },
      "execution_count": 78,
      "outputs": []
    },
    {
      "cell_type": "code",
      "source": [
        "# !apt-get install tree"
      ],
      "metadata": {
        "id": "m7PnZKxJ42Dd",
        "collapsed": true,
        "colab": {
          "base_uri": "https://localhost:8080/"
        },
        "outputId": "c123b51d-c930-42f4-8359-9729f54dc7bb"
      },
      "execution_count": 79,
      "outputs": [
        {
          "output_type": "stream",
          "name": "stdout",
          "text": [
            "Reading package lists... Done\n",
            "Building dependency tree... Done\n",
            "Reading state information... Done\n",
            "The following NEW packages will be installed:\n",
            "  tree\n",
            "0 upgraded, 1 newly installed, 0 to remove and 49 not upgraded.\n",
            "Need to get 47.9 kB of archives.\n",
            "After this operation, 116 kB of additional disk space will be used.\n",
            "Get:1 http://archive.ubuntu.com/ubuntu jammy/universe amd64 tree amd64 2.0.2-1 [47.9 kB]\n",
            "Fetched 47.9 kB in 1s (88.5 kB/s)\n",
            "Selecting previously unselected package tree.\n",
            "(Reading database ... 124173 files and directories currently installed.)\n",
            "Preparing to unpack .../tree_2.0.2-1_amd64.deb ...\n",
            "Unpacking tree (2.0.2-1) ...\n",
            "Setting up tree (2.0.2-1) ...\n",
            "Processing triggers for man-db (2.10.2-1) ...\n"
          ]
        }
      ]
    },
    {
      "cell_type": "code",
      "source": [
        "# Take 500 samples and preprocess\n",
        "data_samples = list(streaming_dataset.take(10))\n",
        "data_dict = {key: [d[key] for d in data_samples] for key in data_samples[0].keys()}\n",
        "dataset = Dataset.from_dict(data_dict)"
      ],
      "metadata": {
        "collapsed": true,
        "id": "qASZUeJHmFvQ",
        "colab": {
          "base_uri": "https://localhost:8080/",
          "height": 339
        },
        "outputId": "4b607306-2944-4d46-e502-b8466f932f8f"
      },
      "execution_count": 84,
      "outputs": [
        {
          "output_type": "error",
          "ename": "AttributeError",
          "evalue": "module 'numba' has no attribute 'core'",
          "traceback": [
            "\u001b[0;31m---------------------------------------------------------------------------\u001b[0m",
            "\u001b[0;31mAttributeError\u001b[0m                            Traceback (most recent call last)",
            "\u001b[0;32m<ipython-input-84-20fb7b4c3233>\u001b[0m in \u001b[0;36m<cell line: 2>\u001b[0;34m()\u001b[0m\n\u001b[1;32m      1\u001b[0m \u001b[0;31m# Take 500 samples and preprocess\u001b[0m\u001b[0;34m\u001b[0m\u001b[0;34m\u001b[0m\u001b[0m\n\u001b[0;32m----> 2\u001b[0;31m \u001b[0mdata_samples\u001b[0m \u001b[0;34m=\u001b[0m \u001b[0mlist\u001b[0m\u001b[0;34m(\u001b[0m\u001b[0mstreaming_dataset\u001b[0m\u001b[0;34m.\u001b[0m\u001b[0mtake\u001b[0m\u001b[0;34m(\u001b[0m\u001b[0;36m10\u001b[0m\u001b[0;34m)\u001b[0m\u001b[0;34m)\u001b[0m\u001b[0;34m\u001b[0m\u001b[0;34m\u001b[0m\u001b[0m\n\u001b[0m\u001b[1;32m      3\u001b[0m \u001b[0mdata_dict\u001b[0m \u001b[0;34m=\u001b[0m \u001b[0;34m{\u001b[0m\u001b[0mkey\u001b[0m\u001b[0;34m:\u001b[0m \u001b[0;34m[\u001b[0m\u001b[0md\u001b[0m\u001b[0;34m[\u001b[0m\u001b[0mkey\u001b[0m\u001b[0;34m]\u001b[0m \u001b[0;32mfor\u001b[0m \u001b[0md\u001b[0m \u001b[0;32min\u001b[0m \u001b[0mdata_samples\u001b[0m\u001b[0;34m]\u001b[0m \u001b[0;32mfor\u001b[0m \u001b[0mkey\u001b[0m \u001b[0;32min\u001b[0m \u001b[0mdata_samples\u001b[0m\u001b[0;34m[\u001b[0m\u001b[0;36m0\u001b[0m\u001b[0;34m]\u001b[0m\u001b[0;34m.\u001b[0m\u001b[0mkeys\u001b[0m\u001b[0;34m(\u001b[0m\u001b[0;34m)\u001b[0m\u001b[0;34m}\u001b[0m\u001b[0;34m\u001b[0m\u001b[0;34m\u001b[0m\u001b[0m\n\u001b[1;32m      4\u001b[0m \u001b[0mdataset\u001b[0m \u001b[0;34m=\u001b[0m \u001b[0mDataset\u001b[0m\u001b[0;34m.\u001b[0m\u001b[0mfrom_dict\u001b[0m\u001b[0;34m(\u001b[0m\u001b[0mdata_dict\u001b[0m\u001b[0;34m)\u001b[0m\u001b[0;34m\u001b[0m\u001b[0;34m\u001b[0m\u001b[0m\n",
            "\u001b[0;32m/usr/local/lib/python3.10/dist-packages/datasets/iterable_dataset.py\u001b[0m in \u001b[0;36m__iter__\u001b[0;34m(self)\u001b[0m\n\u001b[1;32m   2095\u001b[0m                 \u001b[0;31m# `IterableDataset` automatically fills missing columns with None.\u001b[0m\u001b[0;34m\u001b[0m\u001b[0;34m\u001b[0m\u001b[0m\n\u001b[1;32m   2096\u001b[0m                 \u001b[0;31m# This is done with `_apply_feature_types_on_example`.\u001b[0m\u001b[0;34m\u001b[0m\u001b[0;34m\u001b[0m\u001b[0m\n\u001b[0;32m-> 2097\u001b[0;31m                 example = _apply_feature_types_on_example(\n\u001b[0m\u001b[1;32m   2098\u001b[0m                     \u001b[0mexample\u001b[0m\u001b[0;34m,\u001b[0m \u001b[0mself\u001b[0m\u001b[0;34m.\u001b[0m\u001b[0mfeatures\u001b[0m\u001b[0;34m,\u001b[0m \u001b[0mtoken_per_repo_id\u001b[0m\u001b[0;34m=\u001b[0m\u001b[0mself\u001b[0m\u001b[0;34m.\u001b[0m\u001b[0m_token_per_repo_id\u001b[0m\u001b[0;34m\u001b[0m\u001b[0;34m\u001b[0m\u001b[0m\n\u001b[1;32m   2099\u001b[0m                 )\n",
            "\u001b[0;32m/usr/local/lib/python3.10/dist-packages/datasets/iterable_dataset.py\u001b[0m in \u001b[0;36m_apply_feature_types_on_example\u001b[0;34m(example, features, token_per_repo_id)\u001b[0m\n\u001b[1;32m   1633\u001b[0m     \u001b[0mencoded_example\u001b[0m \u001b[0;34m=\u001b[0m \u001b[0mfeatures\u001b[0m\u001b[0;34m.\u001b[0m\u001b[0mencode_example\u001b[0m\u001b[0;34m(\u001b[0m\u001b[0mexample\u001b[0m\u001b[0;34m)\u001b[0m\u001b[0;34m\u001b[0m\u001b[0;34m\u001b[0m\u001b[0m\n\u001b[1;32m   1634\u001b[0m     \u001b[0;31m# Decode example for Audio feature, e.g.\u001b[0m\u001b[0;34m\u001b[0m\u001b[0;34m\u001b[0m\u001b[0m\n\u001b[0;32m-> 1635\u001b[0;31m     \u001b[0mdecoded_example\u001b[0m \u001b[0;34m=\u001b[0m \u001b[0mfeatures\u001b[0m\u001b[0;34m.\u001b[0m\u001b[0mdecode_example\u001b[0m\u001b[0;34m(\u001b[0m\u001b[0mencoded_example\u001b[0m\u001b[0;34m,\u001b[0m \u001b[0mtoken_per_repo_id\u001b[0m\u001b[0;34m=\u001b[0m\u001b[0mtoken_per_repo_id\u001b[0m\u001b[0;34m)\u001b[0m\u001b[0;34m\u001b[0m\u001b[0;34m\u001b[0m\u001b[0m\n\u001b[0m\u001b[1;32m   1636\u001b[0m     \u001b[0;32mreturn\u001b[0m \u001b[0mdecoded_example\u001b[0m\u001b[0;34m\u001b[0m\u001b[0;34m\u001b[0m\u001b[0m\n\u001b[1;32m   1637\u001b[0m \u001b[0;34m\u001b[0m\u001b[0m\n",
            "\u001b[0;32m/usr/local/lib/python3.10/dist-packages/datasets/features/features.py\u001b[0m in \u001b[0;36mdecode_example\u001b[0;34m(self, example, token_per_repo_id)\u001b[0m\n\u001b[1;32m   2043\u001b[0m         \"\"\"\n\u001b[1;32m   2044\u001b[0m \u001b[0;34m\u001b[0m\u001b[0m\n\u001b[0;32m-> 2045\u001b[0;31m         return {\n\u001b[0m\u001b[1;32m   2046\u001b[0m             \u001b[0mcolumn_name\u001b[0m\u001b[0;34m:\u001b[0m \u001b[0mdecode_nested_example\u001b[0m\u001b[0;34m(\u001b[0m\u001b[0mfeature\u001b[0m\u001b[0;34m,\u001b[0m \u001b[0mvalue\u001b[0m\u001b[0;34m,\u001b[0m \u001b[0mtoken_per_repo_id\u001b[0m\u001b[0;34m=\u001b[0m\u001b[0mtoken_per_repo_id\u001b[0m\u001b[0;34m)\u001b[0m\u001b[0;34m\u001b[0m\u001b[0;34m\u001b[0m\u001b[0m\n\u001b[1;32m   2047\u001b[0m             \u001b[0;32mif\u001b[0m \u001b[0mself\u001b[0m\u001b[0;34m.\u001b[0m\u001b[0m_column_requires_decoding\u001b[0m\u001b[0;34m[\u001b[0m\u001b[0mcolumn_name\u001b[0m\u001b[0;34m]\u001b[0m\u001b[0;34m\u001b[0m\u001b[0;34m\u001b[0m\u001b[0m\n",
            "\u001b[0;32m/usr/local/lib/python3.10/dist-packages/datasets/features/features.py\u001b[0m in \u001b[0;36m<dictcomp>\u001b[0;34m(.0)\u001b[0m\n\u001b[1;32m   2044\u001b[0m \u001b[0;34m\u001b[0m\u001b[0m\n\u001b[1;32m   2045\u001b[0m         return {\n\u001b[0;32m-> 2046\u001b[0;31m             \u001b[0mcolumn_name\u001b[0m\u001b[0;34m:\u001b[0m \u001b[0mdecode_nested_example\u001b[0m\u001b[0;34m(\u001b[0m\u001b[0mfeature\u001b[0m\u001b[0;34m,\u001b[0m \u001b[0mvalue\u001b[0m\u001b[0;34m,\u001b[0m \u001b[0mtoken_per_repo_id\u001b[0m\u001b[0;34m=\u001b[0m\u001b[0mtoken_per_repo_id\u001b[0m\u001b[0;34m)\u001b[0m\u001b[0;34m\u001b[0m\u001b[0;34m\u001b[0m\u001b[0m\n\u001b[0m\u001b[1;32m   2047\u001b[0m             \u001b[0;32mif\u001b[0m \u001b[0mself\u001b[0m\u001b[0;34m.\u001b[0m\u001b[0m_column_requires_decoding\u001b[0m\u001b[0;34m[\u001b[0m\u001b[0mcolumn_name\u001b[0m\u001b[0;34m]\u001b[0m\u001b[0;34m\u001b[0m\u001b[0;34m\u001b[0m\u001b[0m\n\u001b[1;32m   2048\u001b[0m             \u001b[0;32melse\u001b[0m \u001b[0mvalue\u001b[0m\u001b[0;34m\u001b[0m\u001b[0;34m\u001b[0m\u001b[0m\n",
            "\u001b[0;32m/usr/local/lib/python3.10/dist-packages/datasets/features/features.py\u001b[0m in \u001b[0;36mdecode_nested_example\u001b[0;34m(schema, obj, token_per_repo_id)\u001b[0m\n\u001b[1;32m   1402\u001b[0m     \u001b[0;32melif\u001b[0m \u001b[0mhasattr\u001b[0m\u001b[0;34m(\u001b[0m\u001b[0mschema\u001b[0m\u001b[0;34m,\u001b[0m \u001b[0;34m\"decode_example\"\u001b[0m\u001b[0;34m)\u001b[0m \u001b[0;32mand\u001b[0m \u001b[0mgetattr\u001b[0m\u001b[0;34m(\u001b[0m\u001b[0mschema\u001b[0m\u001b[0;34m,\u001b[0m \u001b[0;34m\"decode\"\u001b[0m\u001b[0;34m,\u001b[0m \u001b[0;32mTrue\u001b[0m\u001b[0;34m)\u001b[0m\u001b[0;34m:\u001b[0m\u001b[0;34m\u001b[0m\u001b[0;34m\u001b[0m\u001b[0m\n\u001b[1;32m   1403\u001b[0m         \u001b[0;31m# we pass the token to read and decode files from private repositories in streaming mode\u001b[0m\u001b[0;34m\u001b[0m\u001b[0;34m\u001b[0m\u001b[0m\n\u001b[0;32m-> 1404\u001b[0;31m         \u001b[0;32mreturn\u001b[0m \u001b[0mschema\u001b[0m\u001b[0;34m.\u001b[0m\u001b[0mdecode_example\u001b[0m\u001b[0;34m(\u001b[0m\u001b[0mobj\u001b[0m\u001b[0;34m,\u001b[0m \u001b[0mtoken_per_repo_id\u001b[0m\u001b[0;34m=\u001b[0m\u001b[0mtoken_per_repo_id\u001b[0m\u001b[0;34m)\u001b[0m \u001b[0;32mif\u001b[0m \u001b[0mobj\u001b[0m \u001b[0;32mis\u001b[0m \u001b[0;32mnot\u001b[0m \u001b[0;32mNone\u001b[0m \u001b[0;32melse\u001b[0m \u001b[0;32mNone\u001b[0m\u001b[0;34m\u001b[0m\u001b[0;34m\u001b[0m\u001b[0m\n\u001b[0m\u001b[1;32m   1405\u001b[0m     \u001b[0;32mreturn\u001b[0m \u001b[0mobj\u001b[0m\u001b[0;34m\u001b[0m\u001b[0;34m\u001b[0m\u001b[0m\n\u001b[1;32m   1406\u001b[0m \u001b[0;34m\u001b[0m\u001b[0m\n",
            "\u001b[0;32m/usr/local/lib/python3.10/dist-packages/datasets/features/audio.py\u001b[0m in \u001b[0;36mdecode_example\u001b[0;34m(self, value, token_per_repo_id)\u001b[0m\n\u001b[1;32m    189\u001b[0m         \u001b[0marray\u001b[0m \u001b[0;34m=\u001b[0m \u001b[0marray\u001b[0m\u001b[0;34m.\u001b[0m\u001b[0mT\u001b[0m\u001b[0;34m\u001b[0m\u001b[0;34m\u001b[0m\u001b[0m\n\u001b[1;32m    190\u001b[0m         \u001b[0;32mif\u001b[0m \u001b[0mself\u001b[0m\u001b[0;34m.\u001b[0m\u001b[0mmono\u001b[0m\u001b[0;34m:\u001b[0m\u001b[0;34m\u001b[0m\u001b[0;34m\u001b[0m\u001b[0m\n\u001b[0;32m--> 191\u001b[0;31m             \u001b[0marray\u001b[0m \u001b[0;34m=\u001b[0m \u001b[0mlibrosa\u001b[0m\u001b[0;34m.\u001b[0m\u001b[0mto_mono\u001b[0m\u001b[0;34m(\u001b[0m\u001b[0marray\u001b[0m\u001b[0;34m)\u001b[0m\u001b[0;34m\u001b[0m\u001b[0;34m\u001b[0m\u001b[0m\n\u001b[0m\u001b[1;32m    192\u001b[0m         \u001b[0;32mif\u001b[0m \u001b[0mself\u001b[0m\u001b[0;34m.\u001b[0m\u001b[0msampling_rate\u001b[0m \u001b[0;32mand\u001b[0m \u001b[0mself\u001b[0m\u001b[0;34m.\u001b[0m\u001b[0msampling_rate\u001b[0m \u001b[0;34m!=\u001b[0m \u001b[0msampling_rate\u001b[0m\u001b[0;34m:\u001b[0m\u001b[0;34m\u001b[0m\u001b[0;34m\u001b[0m\u001b[0m\n\u001b[1;32m    193\u001b[0m             \u001b[0marray\u001b[0m \u001b[0;34m=\u001b[0m \u001b[0mlibrosa\u001b[0m\u001b[0;34m.\u001b[0m\u001b[0mresample\u001b[0m\u001b[0;34m(\u001b[0m\u001b[0marray\u001b[0m\u001b[0;34m,\u001b[0m \u001b[0morig_sr\u001b[0m\u001b[0;34m=\u001b[0m\u001b[0msampling_rate\u001b[0m\u001b[0;34m,\u001b[0m \u001b[0mtarget_sr\u001b[0m\u001b[0;34m=\u001b[0m\u001b[0mself\u001b[0m\u001b[0;34m.\u001b[0m\u001b[0msampling_rate\u001b[0m\u001b[0;34m)\u001b[0m\u001b[0;34m\u001b[0m\u001b[0;34m\u001b[0m\u001b[0m\n",
            "\u001b[0;32m/usr/local/lib/python3.10/dist-packages/lazy_loader/__init__.py\u001b[0m in \u001b[0;36m__getattr__\u001b[0;34m(name)\u001b[0m\n\u001b[1;32m     81\u001b[0m             \u001b[0msubmod_path\u001b[0m \u001b[0;34m=\u001b[0m \u001b[0;34mf\"{package_name}.{attr_to_modules[name]}\"\u001b[0m\u001b[0;34m\u001b[0m\u001b[0;34m\u001b[0m\u001b[0m\n\u001b[1;32m     82\u001b[0m             \u001b[0msubmod\u001b[0m \u001b[0;34m=\u001b[0m \u001b[0mimportlib\u001b[0m\u001b[0;34m.\u001b[0m\u001b[0mimport_module\u001b[0m\u001b[0;34m(\u001b[0m\u001b[0msubmod_path\u001b[0m\u001b[0;34m)\u001b[0m\u001b[0;34m\u001b[0m\u001b[0;34m\u001b[0m\u001b[0m\n\u001b[0;32m---> 83\u001b[0;31m             \u001b[0mattr\u001b[0m \u001b[0;34m=\u001b[0m \u001b[0mgetattr\u001b[0m\u001b[0;34m(\u001b[0m\u001b[0msubmod\u001b[0m\u001b[0;34m,\u001b[0m \u001b[0mname\u001b[0m\u001b[0;34m)\u001b[0m\u001b[0;34m\u001b[0m\u001b[0;34m\u001b[0m\u001b[0m\n\u001b[0m\u001b[1;32m     84\u001b[0m \u001b[0;34m\u001b[0m\u001b[0m\n\u001b[1;32m     85\u001b[0m             \u001b[0;31m# If the attribute lives in a file (module) with the same\u001b[0m\u001b[0;34m\u001b[0m\u001b[0;34m\u001b[0m\u001b[0m\n",
            "\u001b[0;32m/usr/local/lib/python3.10/dist-packages/lazy_loader/__init__.py\u001b[0m in \u001b[0;36m__getattr__\u001b[0;34m(name)\u001b[0m\n\u001b[1;32m     80\u001b[0m         \u001b[0;32melif\u001b[0m \u001b[0mname\u001b[0m \u001b[0;32min\u001b[0m \u001b[0mattr_to_modules\u001b[0m\u001b[0;34m:\u001b[0m\u001b[0;34m\u001b[0m\u001b[0;34m\u001b[0m\u001b[0m\n\u001b[1;32m     81\u001b[0m             \u001b[0msubmod_path\u001b[0m \u001b[0;34m=\u001b[0m \u001b[0;34mf\"{package_name}.{attr_to_modules[name]}\"\u001b[0m\u001b[0;34m\u001b[0m\u001b[0;34m\u001b[0m\u001b[0m\n\u001b[0;32m---> 82\u001b[0;31m             \u001b[0msubmod\u001b[0m \u001b[0;34m=\u001b[0m \u001b[0mimportlib\u001b[0m\u001b[0;34m.\u001b[0m\u001b[0mimport_module\u001b[0m\u001b[0;34m(\u001b[0m\u001b[0msubmod_path\u001b[0m\u001b[0;34m)\u001b[0m\u001b[0;34m\u001b[0m\u001b[0;34m\u001b[0m\u001b[0m\n\u001b[0m\u001b[1;32m     83\u001b[0m             \u001b[0mattr\u001b[0m \u001b[0;34m=\u001b[0m \u001b[0mgetattr\u001b[0m\u001b[0;34m(\u001b[0m\u001b[0msubmod\u001b[0m\u001b[0;34m,\u001b[0m \u001b[0mname\u001b[0m\u001b[0;34m)\u001b[0m\u001b[0;34m\u001b[0m\u001b[0;34m\u001b[0m\u001b[0m\n\u001b[1;32m     84\u001b[0m \u001b[0;34m\u001b[0m\u001b[0m\n",
            "\u001b[0;32m/usr/lib/python3.10/importlib/__init__.py\u001b[0m in \u001b[0;36mimport_module\u001b[0;34m(name, package)\u001b[0m\n\u001b[1;32m    124\u001b[0m                 \u001b[0;32mbreak\u001b[0m\u001b[0;34m\u001b[0m\u001b[0;34m\u001b[0m\u001b[0m\n\u001b[1;32m    125\u001b[0m             \u001b[0mlevel\u001b[0m \u001b[0;34m+=\u001b[0m \u001b[0;36m1\u001b[0m\u001b[0;34m\u001b[0m\u001b[0;34m\u001b[0m\u001b[0m\n\u001b[0;32m--> 126\u001b[0;31m     \u001b[0;32mreturn\u001b[0m \u001b[0m_bootstrap\u001b[0m\u001b[0;34m.\u001b[0m\u001b[0m_gcd_import\u001b[0m\u001b[0;34m(\u001b[0m\u001b[0mname\u001b[0m\u001b[0;34m[\u001b[0m\u001b[0mlevel\u001b[0m\u001b[0;34m:\u001b[0m\u001b[0;34m]\u001b[0m\u001b[0;34m,\u001b[0m \u001b[0mpackage\u001b[0m\u001b[0;34m,\u001b[0m \u001b[0mlevel\u001b[0m\u001b[0;34m)\u001b[0m\u001b[0;34m\u001b[0m\u001b[0;34m\u001b[0m\u001b[0m\n\u001b[0m\u001b[1;32m    127\u001b[0m \u001b[0;34m\u001b[0m\u001b[0m\n\u001b[1;32m    128\u001b[0m \u001b[0;34m\u001b[0m\u001b[0m\n",
            "\u001b[0;32m/usr/lib/python3.10/importlib/_bootstrap.py\u001b[0m in \u001b[0;36m_gcd_import\u001b[0;34m(name, package, level)\u001b[0m\n",
            "\u001b[0;32m/usr/lib/python3.10/importlib/_bootstrap.py\u001b[0m in \u001b[0;36m_find_and_load\u001b[0;34m(name, import_)\u001b[0m\n",
            "\u001b[0;32m/usr/lib/python3.10/importlib/_bootstrap.py\u001b[0m in \u001b[0;36m_find_and_load_unlocked\u001b[0;34m(name, import_)\u001b[0m\n",
            "\u001b[0;32m/usr/lib/python3.10/importlib/_bootstrap.py\u001b[0m in \u001b[0;36m_load_unlocked\u001b[0;34m(spec)\u001b[0m\n",
            "\u001b[0;32m/usr/lib/python3.10/importlib/_bootstrap_external.py\u001b[0m in \u001b[0;36mexec_module\u001b[0;34m(self, module)\u001b[0m\n",
            "\u001b[0;32m/usr/lib/python3.10/importlib/_bootstrap.py\u001b[0m in \u001b[0;36m_call_with_frames_removed\u001b[0;34m(f, *args, **kwds)\u001b[0m\n",
            "\u001b[0;32m/usr/local/lib/python3.10/dist-packages/librosa/core/audio.py\u001b[0m in \u001b[0;36m<module>\u001b[0;34m\u001b[0m\n\u001b[1;32m     16\u001b[0m \u001b[0;32mimport\u001b[0m \u001b[0mlazy_loader\u001b[0m \u001b[0;32mas\u001b[0m \u001b[0mlazy\u001b[0m\u001b[0;34m\u001b[0m\u001b[0;34m\u001b[0m\u001b[0m\n\u001b[1;32m     17\u001b[0m \u001b[0;34m\u001b[0m\u001b[0m\n\u001b[0;32m---> 18\u001b[0;31m \u001b[0;32mfrom\u001b[0m \u001b[0mnumba\u001b[0m \u001b[0;32mimport\u001b[0m \u001b[0mjit\u001b[0m\u001b[0;34m,\u001b[0m \u001b[0mstencil\u001b[0m\u001b[0;34m,\u001b[0m \u001b[0mguvectorize\u001b[0m\u001b[0;34m\u001b[0m\u001b[0;34m\u001b[0m\u001b[0m\n\u001b[0m\u001b[1;32m     19\u001b[0m \u001b[0;32mfrom\u001b[0m \u001b[0;34m.\u001b[0m\u001b[0mfft\u001b[0m \u001b[0;32mimport\u001b[0m \u001b[0mget_fftlib\u001b[0m\u001b[0;34m\u001b[0m\u001b[0;34m\u001b[0m\u001b[0m\n\u001b[1;32m     20\u001b[0m \u001b[0;32mfrom\u001b[0m \u001b[0;34m.\u001b[0m\u001b[0mconvert\u001b[0m \u001b[0;32mimport\u001b[0m \u001b[0mframes_to_samples\u001b[0m\u001b[0;34m,\u001b[0m \u001b[0mtime_to_samples\u001b[0m\u001b[0;34m\u001b[0m\u001b[0;34m\u001b[0m\u001b[0m\n",
            "\u001b[0;32m/usr/local/lib/python3.10/dist-packages/numba/__init__.py\u001b[0m in \u001b[0;36m<module>\u001b[0;34m\u001b[0m\n\u001b[1;32m     72\u001b[0m \u001b[0;34m\u001b[0m\u001b[0m\n\u001b[1;32m     73\u001b[0m \u001b[0;32mfrom\u001b[0m \u001b[0mnumba\u001b[0m\u001b[0;34m.\u001b[0m\u001b[0mcore\u001b[0m \u001b[0;32mimport\u001b[0m \u001b[0mconfig\u001b[0m\u001b[0;34m\u001b[0m\u001b[0;34m\u001b[0m\u001b[0m\n\u001b[0;32m---> 74\u001b[0;31m \u001b[0;32mfrom\u001b[0m \u001b[0mnumba\u001b[0m\u001b[0;34m.\u001b[0m\u001b[0mcore\u001b[0m \u001b[0;32mimport\u001b[0m \u001b[0mtypes\u001b[0m\u001b[0;34m,\u001b[0m \u001b[0merrors\u001b[0m\u001b[0;34m\u001b[0m\u001b[0;34m\u001b[0m\u001b[0m\n\u001b[0m\u001b[1;32m     75\u001b[0m \u001b[0;34m\u001b[0m\u001b[0m\n\u001b[1;32m     76\u001b[0m \u001b[0;31m# Re-export typeof\u001b[0m\u001b[0;34m\u001b[0m\u001b[0;34m\u001b[0m\u001b[0m\n",
            "\u001b[0;32m/usr/local/lib/python3.10/dist-packages/numba/core/types/__init__.py\u001b[0m in \u001b[0;36m<module>\u001b[0;34m\u001b[0m\n\u001b[1;32m      5\u001b[0m \u001b[0;34m\u001b[0m\u001b[0m\n\u001b[1;32m      6\u001b[0m \u001b[0;32mfrom\u001b[0m \u001b[0;34m.\u001b[0m\u001b[0mabstract\u001b[0m \u001b[0;32mimport\u001b[0m \u001b[0;34m*\u001b[0m\u001b[0;34m\u001b[0m\u001b[0;34m\u001b[0m\u001b[0m\n\u001b[0;32m----> 7\u001b[0;31m \u001b[0;32mfrom\u001b[0m \u001b[0;34m.\u001b[0m\u001b[0mcontainers\u001b[0m \u001b[0;32mimport\u001b[0m \u001b[0;34m*\u001b[0m\u001b[0;34m\u001b[0m\u001b[0;34m\u001b[0m\u001b[0m\n\u001b[0m\u001b[1;32m      8\u001b[0m \u001b[0;32mfrom\u001b[0m \u001b[0;34m.\u001b[0m\u001b[0mfunctions\u001b[0m \u001b[0;32mimport\u001b[0m \u001b[0;34m*\u001b[0m\u001b[0;34m\u001b[0m\u001b[0;34m\u001b[0m\u001b[0m\n\u001b[1;32m      9\u001b[0m \u001b[0;32mfrom\u001b[0m \u001b[0;34m.\u001b[0m\u001b[0miterators\u001b[0m \u001b[0;32mimport\u001b[0m \u001b[0;34m*\u001b[0m\u001b[0;34m\u001b[0m\u001b[0;34m\u001b[0m\u001b[0m\n",
            "\u001b[0;32m/usr/local/lib/python3.10/dist-packages/numba/core/types/containers.py\u001b[0m in \u001b[0;36m<module>\u001b[0;34m\u001b[0m\n\u001b[1;32m     21\u001b[0m     \u001b[0mSimpleIteratorType\u001b[0m\u001b[0;34m,\u001b[0m\u001b[0;34m\u001b[0m\u001b[0;34m\u001b[0m\u001b[0m\n\u001b[1;32m     22\u001b[0m )\n\u001b[0;32m---> 23\u001b[0;31m \u001b[0;32mfrom\u001b[0m \u001b[0;34m.\u001b[0m\u001b[0mmisc\u001b[0m \u001b[0;32mimport\u001b[0m \u001b[0mUndefined\u001b[0m\u001b[0;34m,\u001b[0m \u001b[0munliteral\u001b[0m\u001b[0;34m,\u001b[0m \u001b[0mOptional\u001b[0m\u001b[0;34m,\u001b[0m \u001b[0mNoneType\u001b[0m\u001b[0;34m\u001b[0m\u001b[0;34m\u001b[0m\u001b[0m\n\u001b[0m\u001b[1;32m     24\u001b[0m \u001b[0;32mfrom\u001b[0m \u001b[0;34m.\u001b[0m\u001b[0;34m.\u001b[0m\u001b[0mtypeconv\u001b[0m \u001b[0;32mimport\u001b[0m \u001b[0mConversion\u001b[0m\u001b[0;34m\u001b[0m\u001b[0;34m\u001b[0m\u001b[0m\n\u001b[1;32m     25\u001b[0m \u001b[0;32mfrom\u001b[0m \u001b[0;34m.\u001b[0m\u001b[0;34m.\u001b[0m\u001b[0merrors\u001b[0m \u001b[0;32mimport\u001b[0m \u001b[0mTypingError\u001b[0m\u001b[0;34m\u001b[0m\u001b[0;34m\u001b[0m\u001b[0m\n",
            "\u001b[0;32m/usr/local/lib/python3.10/dist-packages/numba/core/types/misc.py\u001b[0m in \u001b[0;36m<module>\u001b[0;34m\u001b[0m\n\u001b[1;32m      4\u001b[0m \u001b[0;32mfrom\u001b[0m \u001b[0mnumba\u001b[0m\u001b[0;34m.\u001b[0m\u001b[0mcore\u001b[0m\u001b[0;34m.\u001b[0m\u001b[0mtypeconv\u001b[0m \u001b[0;32mimport\u001b[0m \u001b[0mConversion\u001b[0m\u001b[0;34m\u001b[0m\u001b[0;34m\u001b[0m\u001b[0m\n\u001b[1;32m      5\u001b[0m \u001b[0;32mfrom\u001b[0m \u001b[0mnumba\u001b[0m\u001b[0;34m.\u001b[0m\u001b[0mcore\u001b[0m\u001b[0;34m.\u001b[0m\u001b[0merrors\u001b[0m \u001b[0;32mimport\u001b[0m \u001b[0mTypingError\u001b[0m\u001b[0;34m,\u001b[0m \u001b[0mLiteralTypingError\u001b[0m\u001b[0;34m\u001b[0m\u001b[0;34m\u001b[0m\u001b[0m\n\u001b[0;32m----> 6\u001b[0;31m \u001b[0;32mfrom\u001b[0m \u001b[0mnumba\u001b[0m\u001b[0;34m.\u001b[0m\u001b[0mcore\u001b[0m\u001b[0;34m.\u001b[0m\u001b[0mir\u001b[0m \u001b[0;32mimport\u001b[0m \u001b[0mUndefinedType\u001b[0m\u001b[0;34m\u001b[0m\u001b[0;34m\u001b[0m\u001b[0m\n\u001b[0m\u001b[1;32m      7\u001b[0m \u001b[0;32mfrom\u001b[0m \u001b[0mnumba\u001b[0m\u001b[0;34m.\u001b[0m\u001b[0mcore\u001b[0m\u001b[0;34m.\u001b[0m\u001b[0mutils\u001b[0m \u001b[0;32mimport\u001b[0m \u001b[0mget_hashable_key\u001b[0m\u001b[0;34m\u001b[0m\u001b[0;34m\u001b[0m\u001b[0m\n\u001b[1;32m      8\u001b[0m \u001b[0;34m\u001b[0m\u001b[0m\n",
            "\u001b[0;32m/usr/local/lib/python3.10/dist-packages/numba/core/ir.py\u001b[0m in \u001b[0;36m<module>\u001b[0;34m\u001b[0m\n\u001b[1;32m     20\u001b[0m \u001b[0;34m\u001b[0m\u001b[0m\n\u001b[1;32m     21\u001b[0m \u001b[0;31m# terminal color markup\u001b[0m\u001b[0;34m\u001b[0m\u001b[0;34m\u001b[0m\u001b[0m\n\u001b[0;32m---> 22\u001b[0;31m \u001b[0m_termcolor\u001b[0m \u001b[0;34m=\u001b[0m \u001b[0merrors\u001b[0m\u001b[0;34m.\u001b[0m\u001b[0mtermcolor\u001b[0m\u001b[0;34m(\u001b[0m\u001b[0;34m)\u001b[0m\u001b[0;34m\u001b[0m\u001b[0;34m\u001b[0m\u001b[0m\n\u001b[0m\u001b[1;32m     23\u001b[0m \u001b[0;34m\u001b[0m\u001b[0m\n\u001b[1;32m     24\u001b[0m \u001b[0;34m\u001b[0m\u001b[0m\n",
            "\u001b[0;32m/usr/local/lib/python3.10/dist-packages/numba/core/errors.py\u001b[0m in \u001b[0;36mtermcolor\u001b[0;34m()\u001b[0m\n\u001b[1;32m    351\u001b[0m         \u001b[0;32mglobal\u001b[0m \u001b[0m_termcolor_inst\u001b[0m\u001b[0;34m\u001b[0m\u001b[0;34m\u001b[0m\u001b[0m\n\u001b[1;32m    352\u001b[0m         \u001b[0;32mif\u001b[0m \u001b[0m_termcolor_inst\u001b[0m \u001b[0;32mis\u001b[0m \u001b[0;32mNone\u001b[0m\u001b[0;34m:\u001b[0m\u001b[0;34m\u001b[0m\u001b[0;34m\u001b[0m\u001b[0m\n\u001b[0;32m--> 353\u001b[0;31m             \u001b[0mscheme\u001b[0m \u001b[0;34m=\u001b[0m \u001b[0mthemes\u001b[0m\u001b[0;34m[\u001b[0m\u001b[0mnumba\u001b[0m\u001b[0;34m.\u001b[0m\u001b[0mcore\u001b[0m\u001b[0;34m.\u001b[0m\u001b[0mconfig\u001b[0m\u001b[0;34m.\u001b[0m\u001b[0mCOLOR_SCHEME\u001b[0m\u001b[0;34m]\u001b[0m\u001b[0;34m\u001b[0m\u001b[0;34m\u001b[0m\u001b[0m\n\u001b[0m\u001b[1;32m    354\u001b[0m             \u001b[0m_termcolor_inst\u001b[0m \u001b[0;34m=\u001b[0m \u001b[0mHighlightColorScheme\u001b[0m\u001b[0;34m(\u001b[0m\u001b[0mscheme\u001b[0m\u001b[0;34m)\u001b[0m\u001b[0;34m\u001b[0m\u001b[0;34m\u001b[0m\u001b[0m\n\u001b[1;32m    355\u001b[0m         \u001b[0;32mreturn\u001b[0m \u001b[0m_termcolor_inst\u001b[0m\u001b[0;34m\u001b[0m\u001b[0;34m\u001b[0m\u001b[0m\n",
            "\u001b[0;31mAttributeError\u001b[0m: module 'numba' has no attribute 'core'"
          ]
        }
      ]
    },
    {
      "cell_type": "code",
      "source": [
        "# tokenized_dataset = dataset.map(\n",
        "#     preprocess_data,\n",
        "#     batched=True,\n",
        "#     remove_columns=['original_path', 'begin_time', 'end_time', 'chapter_id', 'file', 'id']\n",
        "# )\n",
        "\n",
        "\n",
        "# Now use this function with dataset.map\n",
        "tokenized_dataset = dataset.map(\n",
        "    preprocess_data,\n",
        "    batched=True,\n",
        "    remove_columns=['original_path', 'begin_time', 'end_time', 'chapter_id', 'file', 'id']\n",
        ")\n",
        "\n"
      ],
      "metadata": {
        "id": "GsUp6WKouW0W"
      },
      "execution_count": null,
      "outputs": []
    },
    {
      "cell_type": "code",
      "source": [
        "# @title\n",
        "!tree"
      ],
      "metadata": {
        "id": "T4bGr_C85G7T",
        "collapsed": true
      },
      "execution_count": null,
      "outputs": []
    },
    {
      "cell_type": "code",
      "source": [
        "# Split into train, validation, and test sets\n",
        "split_dataset = tokenized_dataset.train_test_split(test_size=0.3, seed=42)\n",
        "validation_test_split = split_dataset['test'].train_test_split(test_size=0.5, seed=42)\n",
        "\n",
        "# Organize splits into a DatasetDict\n",
        "final_splits = DatasetDict({\n",
        "    'train': split_dataset['train'],\n",
        "    'validation': validation_test_split['train'],\n",
        "    'test': validation_test_split['test']\n",
        "})\n"
      ],
      "metadata": {
        "id": "oUMoxWpbmJel"
      },
      "execution_count": null,
      "outputs": []
    },
    {
      "cell_type": "code",
      "source": [
        "from transformers import TrainingArguments\n",
        "import wandb\n",
        "\n",
        "wandb.login()\n",
        "\n",
        "training_args = TrainingArguments(\n",
        "    output_dir='./results',\n",
        "    run_name='my_specific_run',  # Set a unique run name\n",
        "    num_train_epochs=5,\n",
        "    logging_steps=10,\n",
        "    evaluation_strategy='steps',\n",
        "    eval_steps=50,\n",
        "    per_device_train_batch_size=4,  # Reduced batch size\n",
        "    per_device_eval_batch_size=8,   # Reduced eval batch size\n",
        "    warmup_steps=500,\n",
        "    weight_decay=0.01,\n",
        "    logging_dir='./logs',\n",
        "    learning_rate=1e-5,\n",
        "    save_steps=500,  # Save checkpoints less frequently\n",
        "    save_strategy='steps',\n",
        "    load_best_model_at_end=True,\n",
        "    remove_unused_columns=True,  # Ensure unused columns are dropped\n",
        "    report_to=\"wandb\",  # This will ensure that the training progress is reported to wandb\n",
        "    fp16=True,  # Enable mixed precision training\n",
        "    gradient_accumulation_steps=8,  # Accumulate gradients to simulate a larger batch size\n",
        ")\n",
        "\n",
        "# You can now pass these training arguments to the Trainer\n"
      ],
      "metadata": {
        "id": "_LvxIGz2twp3"
      },
      "execution_count": null,
      "outputs": []
    },
    {
      "cell_type": "code",
      "source": [
        "# # Load the model\n",
        "# from transformers import AutoModel\n",
        "\n",
        "\n",
        "# model = AutoModel.from_pretrained('bert-base-multilingual-cased')\n",
        "# assert isinstance(model, torch.nn.Module), \"Model not loaded as a PyTorch module\"\n",
        "\n",
        "from transformers import AutoModelForSequenceClassification\n",
        "\n",
        "# Replace AutoModel with a classification model\n",
        "model = AutoModelForSequenceClassification.from_pretrained(\n",
        "    'bert-base-multilingual-cased',\n",
        "    num_labels=1  # Adjust for the number of labels (e.g., 1 for regression, or >1 for classification)\n",
        ")\n",
        "\n"
      ],
      "metadata": {
        "id": "7y4zj2J_sMyt"
      },
      "execution_count": null,
      "outputs": []
    },
    {
      "cell_type": "code",
      "source": [],
      "metadata": {
        "id": "5wsQ7RcBRCyJ"
      },
      "execution_count": null,
      "outputs": []
    },
    {
      "cell_type": "markdown",
      "source": [],
      "metadata": {
        "id": "gj5Aw1-Ix7vP"
      }
    },
    {
      "cell_type": "code",
      "source": [
        "# Print a sample from the tokenized dataset\n",
        "print(final_splits['train'][0].keys())  # Verify that input_ids, attention_mask, and labels are present\n"
      ],
      "metadata": {
        "id": "nB_u3Qq_sQQA"
      },
      "execution_count": null,
      "outputs": []
    },
    {
      "cell_type": "code",
      "source": [
        "# Take the first example from the tokenized dataset\n",
        "for example in tokenized_dataset.take(1):\n",
        "    print(example)\n"
      ],
      "metadata": {
        "id": "1HjWfThGgwel"
      },
      "execution_count": null,
      "outputs": []
    },
    {
      "cell_type": "code",
      "source": [
        "# Initialize the Trainer\n",
        "trainer = Trainer(\n",
        "    model=model,\n",
        "    args=training_args,\n",
        "    train_dataset=final_splits['train'],\n",
        "    eval_dataset=final_splits['validation'],\n",
        "    data_collator=DataCollatorWithPadding(tokenizer=tokenizer),\n",
        ")\n",
        "\n"
      ],
      "metadata": {
        "id": "KviV3AVEuhCK"
      },
      "execution_count": null,
      "outputs": []
    },
    {
      "cell_type": "code",
      "source": [],
      "metadata": {
        "id": "46O1dQIUdi8U"
      },
      "execution_count": null,
      "outputs": []
    },
    {
      "cell_type": "code",
      "source": [
        "# Start training and evaluate on the test set\n",
        "trainer.train()\n",
        "evaluation_results = trainer.evaluate(final_splits['test'])\n",
        "print(evaluation_results)\n"
      ],
      "metadata": {
        "id": "ZTMP9wk-sV6F"
      },
      "execution_count": null,
      "outputs": []
    },
    {
      "cell_type": "markdown",
      "source": [
        "### Let's test it"
      ],
      "metadata": {
        "id": "wYDxl-Q93VPv"
      }
    },
    {
      "cell_type": "code",
      "source": [
        "# import os\n",
        "# print(os.listdir('./results/checkpoint-132'))\n"
      ],
      "metadata": {
        "id": "gs90UOZM4OlN"
      },
      "execution_count": null,
      "outputs": []
    },
    {
      "cell_type": "code",
      "source": [
        "!ls ./results"
      ],
      "metadata": {
        "collapsed": true,
        "id": "thNDu5453mjc"
      },
      "execution_count": null,
      "outputs": []
    },
    {
      "cell_type": "markdown",
      "source": [],
      "metadata": {
        "id": "Qqb50Isz4yJi"
      }
    },
    {
      "cell_type": "code",
      "source": [
        "from transformers import AutoTokenizer, AutoModelForSequenceClassification\n",
        "\n",
        "# Load the model from the checkpoint\n",
        "checkpoint_path = './results/checkpoint-5'\n",
        "model = AutoModelForSequenceClassification.from_pretrained(checkpoint_path)\n",
        "\n",
        "# Load the tokenizer from the original pretrained model\n",
        "tokenizer = AutoTokenizer.from_pretrained('bert-base-multilingual-cased')\n",
        "\n",
        "print(\"Model and tokenizer loaded successfully.\")\n"
      ],
      "metadata": {
        "id": "PpQDYjT23Uyy"
      },
      "execution_count": null,
      "outputs": []
    },
    {
      "cell_type": "code",
      "source": [
        "german_text = \"Guten Morgen! Wie geht es Ihnen?\"  # Example German text\n",
        "inputs = tokenizer(german_text, return_tensors=\"pt\", truncation=True, padding='max_length')\n"
      ],
      "metadata": {
        "id": "7m5XElgY3bt4"
      },
      "execution_count": null,
      "outputs": []
    },
    {
      "cell_type": "code",
      "source": [
        "# def inference_accent(text, accent, noise, diffusion_steps=5, embedding_scale=1):\n",
        "#     # Preprocess the input text and accent\n",
        "#     inputs = preprocess_data(text, accent, tokenizer)\n",
        "\n",
        "#     # Move inputs to the correct device\n",
        "#     input_ids = inputs['input_ids'].to(device)\n",
        "#     attention_mask = inputs['attention_mask'].to(device)\n",
        "#     accent_tensor = inputs['accent'].to(device)\n",
        "\n",
        "#     # Perform inference\n",
        "#     with torch.no_grad():\n",
        "#         outputs = model(\n",
        "#             input_ids=input_ids,\n",
        "#             attention_mask=attention_mask,\n",
        "#             accent=accent_tensor,\n",
        "#             noise=noise,\n",
        "#             diffusion_steps=diffusion_steps,\n",
        "#         )\n",
        "\n",
        "#         # Example: Extract mel-spectrogram or similar output\n",
        "#         wav = vocoder(outputs.mel_features)  # Replace with the actual vocoder used\n",
        "\n",
        "#     return wav\n"
      ],
      "metadata": {
        "id": "ZAlP7IyL9tkH"
      },
      "execution_count": null,
      "outputs": []
    },
    {
      "cell_type": "code",
      "source": [
        "def inference_accent2(text, noise, diffusion_steps=5, embedding_scale=1, accent=None):\n",
        "    # Process the text\n",
        "    text = text.strip()\n",
        "    text = text.replace('\"', '')\n",
        "\n",
        "    # Apply accent-specific transformations before phonemization\n",
        "    if accent:\n",
        "        text = apply_accent_adjustments(text, accent)\n",
        "\n",
        "    # Phonemize the text (phonemizer does not depend on accent, so pass the transformed text)\n",
        "    ps = global_phonemizer.phonemize([text])\n",
        "    ps = word_tokenize(ps[0])\n",
        "    ps = ' '.join(ps)\n",
        "\n",
        "    # Tokenization\n",
        "    tokens = textclenaer(ps)\n",
        "    tokens.insert(0, 0)\n",
        "    tokens = torch.LongTensor(tokens).to(device).unsqueeze(0)\n",
        "\n",
        "    # Adjust embedding scale based on accent\n",
        "    if accent:\n",
        "        accent_map = {\n",
        "            'german': 0.8,  # Example scale factor for German accent\n",
        "            'english': 1.2,  # Example scale factor for English accent\n",
        "            # Add other accents and their respective adjustments here\n",
        "        }\n",
        "        embedding_scale *= accent_map.get(accent, 1)\n",
        "\n",
        "    # Perform the inference\n",
        "    with torch.no_grad():\n",
        "        input_lengths = torch.LongTensor([tokens.shape[-1]]).to(tokens.device)\n",
        "        text_mask = length_to_mask(input_lengths).to(tokens.device)\n",
        "\n",
        "        t_en = model.text_encoder(tokens, input_lengths, text_mask)\n",
        "        bert_dur = model.bert(tokens, attention_mask=(~text_mask).int())\n",
        "        d_en = model.bert_encoder(bert_dur).transpose(-1, -2)\n",
        "\n",
        "        s_pred = sampler(noise,\n",
        "                          embedding=bert_dur[0].unsqueeze(0), num_steps=diffusion_steps,\n",
        "                          embedding_scale=embedding_scale).squeeze(0)\n",
        "\n",
        "        s = s_pred[:, 128:]\n",
        "        ref = s_pred[:, :128]\n",
        "\n",
        "        d = model.predictor.text_encoder(d_en, s, input_lengths, text_mask)\n",
        "\n",
        "        x, _ = model.predictor.lstm(d)\n",
        "        duration = model.predictor.duration_proj(x)\n",
        "        duration = torch.sigmoid(duration).sum(axis=-1)\n",
        "        pred_dur = torch.round(duration.squeeze()).clamp(min=1)\n",
        "\n",
        "        pred_dur[-1] += 5\n",
        "\n",
        "        pred_aln_trg = torch.zeros(input_lengths, int(pred_dur.sum().data))\n",
        "        c_frame = 0\n",
        "        for i in range(pred_aln_trg.size(0)):\n",
        "            pred_aln_trg[i, c_frame:c_frame + int(pred_dur[i].data)] = 1\n",
        "            c_frame += int(pred_dur[i].data)\n",
        "\n",
        "        # encode prosody\n",
        "        en = (d.transpose(-1, -2) @ pred_aln_trg.unsqueeze(0).to(device))\n",
        "        F0_pred, N_pred = model.predictor.F0Ntrain(en, s)\n",
        "        out = model.decoder((t_en @ pred_aln_trg.unsqueeze(0).to(device)),\n",
        "                            F0_pred, N_pred, ref.squeeze().unsqueeze(0))\n",
        "\n",
        "    return out.squeeze().cpu().numpy()\n",
        "\n",
        "def apply_accent_adjustments(text, accent):\n",
        "    \"\"\"\n",
        "    Apply accent-specific changes to the text before phonemization.\n",
        "    Example: Replace phonetic patterns, adjust pronunciation etc.\n",
        "    \"\"\"\n",
        "    if accent == \"german\":\n",
        "        text = text.replace('th', 't')  # German pronunciation of 'th'\n",
        "    elif accent == \"english\":\n",
        "        text = text.replace('r', 'ʁ')  # English pronunciation of 'r'\n",
        "    return text\n"
      ],
      "metadata": {
        "id": "F8d2OK7ZQysK"
      },
      "execution_count": null,
      "outputs": []
    },
    {
      "cell_type": "code",
      "source": [
        "# Pass the inputs to the model\n",
        "with torch.no_grad():  # Disable gradients for inference\n",
        "    outputs = model(**inputs)\n",
        "\n",
        "# Get logits (predictions before applying softmax)\n",
        "logits = outputs.logits\n",
        "\n",
        "# Apply softmax to get probabilities\n",
        "probabilities = torch.nn.functional.softmax(logits, dim=-1)\n",
        "\n",
        "# Get the predicted class\n",
        "predicted_class = torch.argmax(probabilities, dim=-1).item()\n",
        "\n",
        "print(f\"Predicted class: {predicted_class}\")\n",
        "print(f\"Probabilities: {probabilities}\")\n"
      ],
      "metadata": {
        "id": "Y5a2W8y83e6V"
      },
      "execution_count": null,
      "outputs": []
    },
    {
      "cell_type": "code",
      "source": [
        "import torch\n",
        "\n",
        "# Check if GPU is available, otherwise use CPU\n",
        "device = torch.device(\"cuda\" if torch.cuda.is_available() else \"cpu\")\n",
        "print(\"Using device:\", device)"
      ],
      "metadata": {
        "id": "mW3OPL7S7OV_"
      },
      "execution_count": null,
      "outputs": []
    },
    {
      "cell_type": "code",
      "source": [
        "_accent = \"german\""
      ],
      "metadata": {
        "id": "Cr9VUZ9NPyzJ"
      },
      "execution_count": null,
      "outputs": []
    },
    {
      "cell_type": "code",
      "source": [
        "help(global_phonemizer.phonemize)"
      ],
      "metadata": {
        "id": "o9wHC5eMQUNq"
      },
      "execution_count": null,
      "outputs": []
    },
    {
      "cell_type": "code",
      "source": [
        "text = \"Guten Morgen! Wie geht es Ihnen?\"  # German text\n",
        "noise = torch.randn(1, 1, 256).to(device)  # Generate noise\n",
        "\n",
        "# Use the imported function\n",
        "result = inference_accent2(text, noise, diffusion_steps=5, embedding_scale=1, accent=\"german\")\n",
        "\n",
        "# Play the audio\n",
        "import IPython.display as ipd\n",
        "display(ipd.Audio(result, rate=24000))\n"
      ],
      "metadata": {
        "id": "3cB4LFCo5lLu"
      },
      "execution_count": null,
      "outputs": []
    }
  ]
}
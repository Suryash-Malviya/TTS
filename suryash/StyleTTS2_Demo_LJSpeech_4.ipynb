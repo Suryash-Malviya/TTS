{
  "nbformat": 4,
  "nbformat_minor": 0,
  "metadata": {
    "colab": {
      "provenance": [],
      "include_colab_link": true
    },
    "kernelspec": {
      "name": "python3",
      "display_name": "Python 3"
    },
    "language_info": {
      "name": "python"
    },
    "widgets": {
      "application/vnd.jupyter.widget-state+json": {
        "b94898295b3642dc8ed804557fb795eb": {
          "model_module": "@jupyter-widgets/controls",
          "model_name": "HBoxModel",
          "model_module_version": "1.5.0",
          "state": {
            "_dom_classes": [],
            "_model_module": "@jupyter-widgets/controls",
            "_model_module_version": "1.5.0",
            "_model_name": "HBoxModel",
            "_view_count": null,
            "_view_module": "@jupyter-widgets/controls",
            "_view_module_version": "1.5.0",
            "_view_name": "HBoxView",
            "box_style": "",
            "children": [
              "IPY_MODEL_00c49d50cb8c42f0b4844b87bd5d0e47",
              "IPY_MODEL_997f07bd149048ceb692449376579aca",
              "IPY_MODEL_5528086232d44512875bc4c7393a2594"
            ],
            "layout": "IPY_MODEL_b64d51886a3147b69eed364b24c7d230"
          }
        },
        "00c49d50cb8c42f0b4844b87bd5d0e47": {
          "model_module": "@jupyter-widgets/controls",
          "model_name": "HTMLModel",
          "model_module_version": "1.5.0",
          "state": {
            "_dom_classes": [],
            "_model_module": "@jupyter-widgets/controls",
            "_model_module_version": "1.5.0",
            "_model_name": "HTMLModel",
            "_view_count": null,
            "_view_module": "@jupyter-widgets/controls",
            "_view_module_version": "1.5.0",
            "_view_name": "HTMLView",
            "description": "",
            "description_tooltip": null,
            "layout": "IPY_MODEL_019d117786f44eed894c8f3617720111",
            "placeholder": "​",
            "style": "IPY_MODEL_73a7b068d6b44d0bb9e096ea532c20bf",
            "value": "tokenizer_config.json: 100%"
          }
        },
        "997f07bd149048ceb692449376579aca": {
          "model_module": "@jupyter-widgets/controls",
          "model_name": "FloatProgressModel",
          "model_module_version": "1.5.0",
          "state": {
            "_dom_classes": [],
            "_model_module": "@jupyter-widgets/controls",
            "_model_module_version": "1.5.0",
            "_model_name": "FloatProgressModel",
            "_view_count": null,
            "_view_module": "@jupyter-widgets/controls",
            "_view_module_version": "1.5.0",
            "_view_name": "ProgressView",
            "bar_style": "success",
            "description": "",
            "description_tooltip": null,
            "layout": "IPY_MODEL_65ecafb734274989b64cf0b05c94e1ea",
            "max": 48,
            "min": 0,
            "orientation": "horizontal",
            "style": "IPY_MODEL_05d0b90fdb3c49cead8214331e82ac2d",
            "value": 48
          }
        },
        "5528086232d44512875bc4c7393a2594": {
          "model_module": "@jupyter-widgets/controls",
          "model_name": "HTMLModel",
          "model_module_version": "1.5.0",
          "state": {
            "_dom_classes": [],
            "_model_module": "@jupyter-widgets/controls",
            "_model_module_version": "1.5.0",
            "_model_name": "HTMLModel",
            "_view_count": null,
            "_view_module": "@jupyter-widgets/controls",
            "_view_module_version": "1.5.0",
            "_view_name": "HTMLView",
            "description": "",
            "description_tooltip": null,
            "layout": "IPY_MODEL_6a76f996f2b24d22ba47984e426c8f34",
            "placeholder": "​",
            "style": "IPY_MODEL_b77e163903a84a5bbabbb2ca62156e64",
            "value": " 48.0/48.0 [00:00&lt;00:00, 702B/s]"
          }
        },
        "b64d51886a3147b69eed364b24c7d230": {
          "model_module": "@jupyter-widgets/base",
          "model_name": "LayoutModel",
          "model_module_version": "1.2.0",
          "state": {
            "_model_module": "@jupyter-widgets/base",
            "_model_module_version": "1.2.0",
            "_model_name": "LayoutModel",
            "_view_count": null,
            "_view_module": "@jupyter-widgets/base",
            "_view_module_version": "1.2.0",
            "_view_name": "LayoutView",
            "align_content": null,
            "align_items": null,
            "align_self": null,
            "border": null,
            "bottom": null,
            "display": null,
            "flex": null,
            "flex_flow": null,
            "grid_area": null,
            "grid_auto_columns": null,
            "grid_auto_flow": null,
            "grid_auto_rows": null,
            "grid_column": null,
            "grid_gap": null,
            "grid_row": null,
            "grid_template_areas": null,
            "grid_template_columns": null,
            "grid_template_rows": null,
            "height": null,
            "justify_content": null,
            "justify_items": null,
            "left": null,
            "margin": null,
            "max_height": null,
            "max_width": null,
            "min_height": null,
            "min_width": null,
            "object_fit": null,
            "object_position": null,
            "order": null,
            "overflow": null,
            "overflow_x": null,
            "overflow_y": null,
            "padding": null,
            "right": null,
            "top": null,
            "visibility": null,
            "width": null
          }
        },
        "019d117786f44eed894c8f3617720111": {
          "model_module": "@jupyter-widgets/base",
          "model_name": "LayoutModel",
          "model_module_version": "1.2.0",
          "state": {
            "_model_module": "@jupyter-widgets/base",
            "_model_module_version": "1.2.0",
            "_model_name": "LayoutModel",
            "_view_count": null,
            "_view_module": "@jupyter-widgets/base",
            "_view_module_version": "1.2.0",
            "_view_name": "LayoutView",
            "align_content": null,
            "align_items": null,
            "align_self": null,
            "border": null,
            "bottom": null,
            "display": null,
            "flex": null,
            "flex_flow": null,
            "grid_area": null,
            "grid_auto_columns": null,
            "grid_auto_flow": null,
            "grid_auto_rows": null,
            "grid_column": null,
            "grid_gap": null,
            "grid_row": null,
            "grid_template_areas": null,
            "grid_template_columns": null,
            "grid_template_rows": null,
            "height": null,
            "justify_content": null,
            "justify_items": null,
            "left": null,
            "margin": null,
            "max_height": null,
            "max_width": null,
            "min_height": null,
            "min_width": null,
            "object_fit": null,
            "object_position": null,
            "order": null,
            "overflow": null,
            "overflow_x": null,
            "overflow_y": null,
            "padding": null,
            "right": null,
            "top": null,
            "visibility": null,
            "width": null
          }
        },
        "73a7b068d6b44d0bb9e096ea532c20bf": {
          "model_module": "@jupyter-widgets/controls",
          "model_name": "DescriptionStyleModel",
          "model_module_version": "1.5.0",
          "state": {
            "_model_module": "@jupyter-widgets/controls",
            "_model_module_version": "1.5.0",
            "_model_name": "DescriptionStyleModel",
            "_view_count": null,
            "_view_module": "@jupyter-widgets/base",
            "_view_module_version": "1.2.0",
            "_view_name": "StyleView",
            "description_width": ""
          }
        },
        "65ecafb734274989b64cf0b05c94e1ea": {
          "model_module": "@jupyter-widgets/base",
          "model_name": "LayoutModel",
          "model_module_version": "1.2.0",
          "state": {
            "_model_module": "@jupyter-widgets/base",
            "_model_module_version": "1.2.0",
            "_model_name": "LayoutModel",
            "_view_count": null,
            "_view_module": "@jupyter-widgets/base",
            "_view_module_version": "1.2.0",
            "_view_name": "LayoutView",
            "align_content": null,
            "align_items": null,
            "align_self": null,
            "border": null,
            "bottom": null,
            "display": null,
            "flex": null,
            "flex_flow": null,
            "grid_area": null,
            "grid_auto_columns": null,
            "grid_auto_flow": null,
            "grid_auto_rows": null,
            "grid_column": null,
            "grid_gap": null,
            "grid_row": null,
            "grid_template_areas": null,
            "grid_template_columns": null,
            "grid_template_rows": null,
            "height": null,
            "justify_content": null,
            "justify_items": null,
            "left": null,
            "margin": null,
            "max_height": null,
            "max_width": null,
            "min_height": null,
            "min_width": null,
            "object_fit": null,
            "object_position": null,
            "order": null,
            "overflow": null,
            "overflow_x": null,
            "overflow_y": null,
            "padding": null,
            "right": null,
            "top": null,
            "visibility": null,
            "width": null
          }
        },
        "05d0b90fdb3c49cead8214331e82ac2d": {
          "model_module": "@jupyter-widgets/controls",
          "model_name": "ProgressStyleModel",
          "model_module_version": "1.5.0",
          "state": {
            "_model_module": "@jupyter-widgets/controls",
            "_model_module_version": "1.5.0",
            "_model_name": "ProgressStyleModel",
            "_view_count": null,
            "_view_module": "@jupyter-widgets/base",
            "_view_module_version": "1.2.0",
            "_view_name": "StyleView",
            "bar_color": null,
            "description_width": ""
          }
        },
        "6a76f996f2b24d22ba47984e426c8f34": {
          "model_module": "@jupyter-widgets/base",
          "model_name": "LayoutModel",
          "model_module_version": "1.2.0",
          "state": {
            "_model_module": "@jupyter-widgets/base",
            "_model_module_version": "1.2.0",
            "_model_name": "LayoutModel",
            "_view_count": null,
            "_view_module": "@jupyter-widgets/base",
            "_view_module_version": "1.2.0",
            "_view_name": "LayoutView",
            "align_content": null,
            "align_items": null,
            "align_self": null,
            "border": null,
            "bottom": null,
            "display": null,
            "flex": null,
            "flex_flow": null,
            "grid_area": null,
            "grid_auto_columns": null,
            "grid_auto_flow": null,
            "grid_auto_rows": null,
            "grid_column": null,
            "grid_gap": null,
            "grid_row": null,
            "grid_template_areas": null,
            "grid_template_columns": null,
            "grid_template_rows": null,
            "height": null,
            "justify_content": null,
            "justify_items": null,
            "left": null,
            "margin": null,
            "max_height": null,
            "max_width": null,
            "min_height": null,
            "min_width": null,
            "object_fit": null,
            "object_position": null,
            "order": null,
            "overflow": null,
            "overflow_x": null,
            "overflow_y": null,
            "padding": null,
            "right": null,
            "top": null,
            "visibility": null,
            "width": null
          }
        },
        "b77e163903a84a5bbabbb2ca62156e64": {
          "model_module": "@jupyter-widgets/controls",
          "model_name": "DescriptionStyleModel",
          "model_module_version": "1.5.0",
          "state": {
            "_model_module": "@jupyter-widgets/controls",
            "_model_module_version": "1.5.0",
            "_model_name": "DescriptionStyleModel",
            "_view_count": null,
            "_view_module": "@jupyter-widgets/base",
            "_view_module_version": "1.2.0",
            "_view_name": "StyleView",
            "description_width": ""
          }
        },
        "ad6c7a7da93e441b94854d5d155999aa": {
          "model_module": "@jupyter-widgets/controls",
          "model_name": "HBoxModel",
          "model_module_version": "1.5.0",
          "state": {
            "_dom_classes": [],
            "_model_module": "@jupyter-widgets/controls",
            "_model_module_version": "1.5.0",
            "_model_name": "HBoxModel",
            "_view_count": null,
            "_view_module": "@jupyter-widgets/controls",
            "_view_module_version": "1.5.0",
            "_view_name": "HBoxView",
            "box_style": "",
            "children": [
              "IPY_MODEL_d3182a27aac240cca26d911775a65def",
              "IPY_MODEL_3635d2839853438e98fd7e2573fff5de",
              "IPY_MODEL_236d6e664f4345bc9e8a91cc3d046055"
            ],
            "layout": "IPY_MODEL_34b38b687dc24e929b40289b03606444"
          }
        },
        "d3182a27aac240cca26d911775a65def": {
          "model_module": "@jupyter-widgets/controls",
          "model_name": "HTMLModel",
          "model_module_version": "1.5.0",
          "state": {
            "_dom_classes": [],
            "_model_module": "@jupyter-widgets/controls",
            "_model_module_version": "1.5.0",
            "_model_name": "HTMLModel",
            "_view_count": null,
            "_view_module": "@jupyter-widgets/controls",
            "_view_module_version": "1.5.0",
            "_view_name": "HTMLView",
            "description": "",
            "description_tooltip": null,
            "layout": "IPY_MODEL_d71aef15733d4b5194cd6fe9b9386133",
            "placeholder": "​",
            "style": "IPY_MODEL_6a91bb172f144c84aaf0426a0c58630e",
            "value": "config.json: 100%"
          }
        },
        "3635d2839853438e98fd7e2573fff5de": {
          "model_module": "@jupyter-widgets/controls",
          "model_name": "FloatProgressModel",
          "model_module_version": "1.5.0",
          "state": {
            "_dom_classes": [],
            "_model_module": "@jupyter-widgets/controls",
            "_model_module_version": "1.5.0",
            "_model_name": "FloatProgressModel",
            "_view_count": null,
            "_view_module": "@jupyter-widgets/controls",
            "_view_module_version": "1.5.0",
            "_view_name": "ProgressView",
            "bar_style": "success",
            "description": "",
            "description_tooltip": null,
            "layout": "IPY_MODEL_33a02b85c5434f6a902cfb5351360687",
            "max": 433,
            "min": 0,
            "orientation": "horizontal",
            "style": "IPY_MODEL_79898916ce444c05819121baaf0403f8",
            "value": 433
          }
        },
        "236d6e664f4345bc9e8a91cc3d046055": {
          "model_module": "@jupyter-widgets/controls",
          "model_name": "HTMLModel",
          "model_module_version": "1.5.0",
          "state": {
            "_dom_classes": [],
            "_model_module": "@jupyter-widgets/controls",
            "_model_module_version": "1.5.0",
            "_model_name": "HTMLModel",
            "_view_count": null,
            "_view_module": "@jupyter-widgets/controls",
            "_view_module_version": "1.5.0",
            "_view_name": "HTMLView",
            "description": "",
            "description_tooltip": null,
            "layout": "IPY_MODEL_48ef94dbe1a34c8ca2023d62f0cf5dde",
            "placeholder": "​",
            "style": "IPY_MODEL_d122cd376a6d4681ace811ce5d99e4ec",
            "value": " 433/433 [00:00&lt;00:00, 4.25kB/s]"
          }
        },
        "34b38b687dc24e929b40289b03606444": {
          "model_module": "@jupyter-widgets/base",
          "model_name": "LayoutModel",
          "model_module_version": "1.2.0",
          "state": {
            "_model_module": "@jupyter-widgets/base",
            "_model_module_version": "1.2.0",
            "_model_name": "LayoutModel",
            "_view_count": null,
            "_view_module": "@jupyter-widgets/base",
            "_view_module_version": "1.2.0",
            "_view_name": "LayoutView",
            "align_content": null,
            "align_items": null,
            "align_self": null,
            "border": null,
            "bottom": null,
            "display": null,
            "flex": null,
            "flex_flow": null,
            "grid_area": null,
            "grid_auto_columns": null,
            "grid_auto_flow": null,
            "grid_auto_rows": null,
            "grid_column": null,
            "grid_gap": null,
            "grid_row": null,
            "grid_template_areas": null,
            "grid_template_columns": null,
            "grid_template_rows": null,
            "height": null,
            "justify_content": null,
            "justify_items": null,
            "left": null,
            "margin": null,
            "max_height": null,
            "max_width": null,
            "min_height": null,
            "min_width": null,
            "object_fit": null,
            "object_position": null,
            "order": null,
            "overflow": null,
            "overflow_x": null,
            "overflow_y": null,
            "padding": null,
            "right": null,
            "top": null,
            "visibility": null,
            "width": null
          }
        },
        "d71aef15733d4b5194cd6fe9b9386133": {
          "model_module": "@jupyter-widgets/base",
          "model_name": "LayoutModel",
          "model_module_version": "1.2.0",
          "state": {
            "_model_module": "@jupyter-widgets/base",
            "_model_module_version": "1.2.0",
            "_model_name": "LayoutModel",
            "_view_count": null,
            "_view_module": "@jupyter-widgets/base",
            "_view_module_version": "1.2.0",
            "_view_name": "LayoutView",
            "align_content": null,
            "align_items": null,
            "align_self": null,
            "border": null,
            "bottom": null,
            "display": null,
            "flex": null,
            "flex_flow": null,
            "grid_area": null,
            "grid_auto_columns": null,
            "grid_auto_flow": null,
            "grid_auto_rows": null,
            "grid_column": null,
            "grid_gap": null,
            "grid_row": null,
            "grid_template_areas": null,
            "grid_template_columns": null,
            "grid_template_rows": null,
            "height": null,
            "justify_content": null,
            "justify_items": null,
            "left": null,
            "margin": null,
            "max_height": null,
            "max_width": null,
            "min_height": null,
            "min_width": null,
            "object_fit": null,
            "object_position": null,
            "order": null,
            "overflow": null,
            "overflow_x": null,
            "overflow_y": null,
            "padding": null,
            "right": null,
            "top": null,
            "visibility": null,
            "width": null
          }
        },
        "6a91bb172f144c84aaf0426a0c58630e": {
          "model_module": "@jupyter-widgets/controls",
          "model_name": "DescriptionStyleModel",
          "model_module_version": "1.5.0",
          "state": {
            "_model_module": "@jupyter-widgets/controls",
            "_model_module_version": "1.5.0",
            "_model_name": "DescriptionStyleModel",
            "_view_count": null,
            "_view_module": "@jupyter-widgets/base",
            "_view_module_version": "1.2.0",
            "_view_name": "StyleView",
            "description_width": ""
          }
        },
        "33a02b85c5434f6a902cfb5351360687": {
          "model_module": "@jupyter-widgets/base",
          "model_name": "LayoutModel",
          "model_module_version": "1.2.0",
          "state": {
            "_model_module": "@jupyter-widgets/base",
            "_model_module_version": "1.2.0",
            "_model_name": "LayoutModel",
            "_view_count": null,
            "_view_module": "@jupyter-widgets/base",
            "_view_module_version": "1.2.0",
            "_view_name": "LayoutView",
            "align_content": null,
            "align_items": null,
            "align_self": null,
            "border": null,
            "bottom": null,
            "display": null,
            "flex": null,
            "flex_flow": null,
            "grid_area": null,
            "grid_auto_columns": null,
            "grid_auto_flow": null,
            "grid_auto_rows": null,
            "grid_column": null,
            "grid_gap": null,
            "grid_row": null,
            "grid_template_areas": null,
            "grid_template_columns": null,
            "grid_template_rows": null,
            "height": null,
            "justify_content": null,
            "justify_items": null,
            "left": null,
            "margin": null,
            "max_height": null,
            "max_width": null,
            "min_height": null,
            "min_width": null,
            "object_fit": null,
            "object_position": null,
            "order": null,
            "overflow": null,
            "overflow_x": null,
            "overflow_y": null,
            "padding": null,
            "right": null,
            "top": null,
            "visibility": null,
            "width": null
          }
        },
        "79898916ce444c05819121baaf0403f8": {
          "model_module": "@jupyter-widgets/controls",
          "model_name": "ProgressStyleModel",
          "model_module_version": "1.5.0",
          "state": {
            "_model_module": "@jupyter-widgets/controls",
            "_model_module_version": "1.5.0",
            "_model_name": "ProgressStyleModel",
            "_view_count": null,
            "_view_module": "@jupyter-widgets/base",
            "_view_module_version": "1.2.0",
            "_view_name": "StyleView",
            "bar_color": null,
            "description_width": ""
          }
        },
        "48ef94dbe1a34c8ca2023d62f0cf5dde": {
          "model_module": "@jupyter-widgets/base",
          "model_name": "LayoutModel",
          "model_module_version": "1.2.0",
          "state": {
            "_model_module": "@jupyter-widgets/base",
            "_model_module_version": "1.2.0",
            "_model_name": "LayoutModel",
            "_view_count": null,
            "_view_module": "@jupyter-widgets/base",
            "_view_module_version": "1.2.0",
            "_view_name": "LayoutView",
            "align_content": null,
            "align_items": null,
            "align_self": null,
            "border": null,
            "bottom": null,
            "display": null,
            "flex": null,
            "flex_flow": null,
            "grid_area": null,
            "grid_auto_columns": null,
            "grid_auto_flow": null,
            "grid_auto_rows": null,
            "grid_column": null,
            "grid_gap": null,
            "grid_row": null,
            "grid_template_areas": null,
            "grid_template_columns": null,
            "grid_template_rows": null,
            "height": null,
            "justify_content": null,
            "justify_items": null,
            "left": null,
            "margin": null,
            "max_height": null,
            "max_width": null,
            "min_height": null,
            "min_width": null,
            "object_fit": null,
            "object_position": null,
            "order": null,
            "overflow": null,
            "overflow_x": null,
            "overflow_y": null,
            "padding": null,
            "right": null,
            "top": null,
            "visibility": null,
            "width": null
          }
        },
        "d122cd376a6d4681ace811ce5d99e4ec": {
          "model_module": "@jupyter-widgets/controls",
          "model_name": "DescriptionStyleModel",
          "model_module_version": "1.5.0",
          "state": {
            "_model_module": "@jupyter-widgets/controls",
            "_model_module_version": "1.5.0",
            "_model_name": "DescriptionStyleModel",
            "_view_count": null,
            "_view_module": "@jupyter-widgets/base",
            "_view_module_version": "1.2.0",
            "_view_name": "StyleView",
            "description_width": ""
          }
        },
        "80736c8ddb1747cb9a5884812da1f6c5": {
          "model_module": "@jupyter-widgets/controls",
          "model_name": "HBoxModel",
          "model_module_version": "1.5.0",
          "state": {
            "_dom_classes": [],
            "_model_module": "@jupyter-widgets/controls",
            "_model_module_version": "1.5.0",
            "_model_name": "HBoxModel",
            "_view_count": null,
            "_view_module": "@jupyter-widgets/controls",
            "_view_module_version": "1.5.0",
            "_view_name": "HBoxView",
            "box_style": "",
            "children": [
              "IPY_MODEL_ac9664cfbd8840ae95efbcc304d32ba4",
              "IPY_MODEL_b0b06c2991434fc29e084ad00ad83bf9",
              "IPY_MODEL_01c7680faa6048a494c6ef80093b4064"
            ],
            "layout": "IPY_MODEL_35b2dea0d2d1443d8a9a054125f5dcfe"
          }
        },
        "ac9664cfbd8840ae95efbcc304d32ba4": {
          "model_module": "@jupyter-widgets/controls",
          "model_name": "HTMLModel",
          "model_module_version": "1.5.0",
          "state": {
            "_dom_classes": [],
            "_model_module": "@jupyter-widgets/controls",
            "_model_module_version": "1.5.0",
            "_model_name": "HTMLModel",
            "_view_count": null,
            "_view_module": "@jupyter-widgets/controls",
            "_view_module_version": "1.5.0",
            "_view_name": "HTMLView",
            "description": "",
            "description_tooltip": null,
            "layout": "IPY_MODEL_a541b7bc923b4e498f756ef22e92af25",
            "placeholder": "​",
            "style": "IPY_MODEL_a8ced8651ab7440abb0ef4fdc1c78ee8",
            "value": "vocab.txt: 100%"
          }
        },
        "b0b06c2991434fc29e084ad00ad83bf9": {
          "model_module": "@jupyter-widgets/controls",
          "model_name": "FloatProgressModel",
          "model_module_version": "1.5.0",
          "state": {
            "_dom_classes": [],
            "_model_module": "@jupyter-widgets/controls",
            "_model_module_version": "1.5.0",
            "_model_name": "FloatProgressModel",
            "_view_count": null,
            "_view_module": "@jupyter-widgets/controls",
            "_view_module_version": "1.5.0",
            "_view_name": "ProgressView",
            "bar_style": "success",
            "description": "",
            "description_tooltip": null,
            "layout": "IPY_MODEL_53c21609b2df40d896522dc63dbcc7af",
            "max": 247333,
            "min": 0,
            "orientation": "horizontal",
            "style": "IPY_MODEL_e638d5dc4cdc4954b9405542c0344a07",
            "value": 247333
          }
        },
        "01c7680faa6048a494c6ef80093b4064": {
          "model_module": "@jupyter-widgets/controls",
          "model_name": "HTMLModel",
          "model_module_version": "1.5.0",
          "state": {
            "_dom_classes": [],
            "_model_module": "@jupyter-widgets/controls",
            "_model_module_version": "1.5.0",
            "_model_name": "HTMLModel",
            "_view_count": null,
            "_view_module": "@jupyter-widgets/controls",
            "_view_module_version": "1.5.0",
            "_view_name": "HTMLView",
            "description": "",
            "description_tooltip": null,
            "layout": "IPY_MODEL_0d208ac13aec4e8989dbf5bf81dbbf02",
            "placeholder": "​",
            "style": "IPY_MODEL_3b4fa7aeee284a928d2c6c9d983033d1",
            "value": " 247k/247k [00:00&lt;00:00, 713kB/s]"
          }
        },
        "35b2dea0d2d1443d8a9a054125f5dcfe": {
          "model_module": "@jupyter-widgets/base",
          "model_name": "LayoutModel",
          "model_module_version": "1.2.0",
          "state": {
            "_model_module": "@jupyter-widgets/base",
            "_model_module_version": "1.2.0",
            "_model_name": "LayoutModel",
            "_view_count": null,
            "_view_module": "@jupyter-widgets/base",
            "_view_module_version": "1.2.0",
            "_view_name": "LayoutView",
            "align_content": null,
            "align_items": null,
            "align_self": null,
            "border": null,
            "bottom": null,
            "display": null,
            "flex": null,
            "flex_flow": null,
            "grid_area": null,
            "grid_auto_columns": null,
            "grid_auto_flow": null,
            "grid_auto_rows": null,
            "grid_column": null,
            "grid_gap": null,
            "grid_row": null,
            "grid_template_areas": null,
            "grid_template_columns": null,
            "grid_template_rows": null,
            "height": null,
            "justify_content": null,
            "justify_items": null,
            "left": null,
            "margin": null,
            "max_height": null,
            "max_width": null,
            "min_height": null,
            "min_width": null,
            "object_fit": null,
            "object_position": null,
            "order": null,
            "overflow": null,
            "overflow_x": null,
            "overflow_y": null,
            "padding": null,
            "right": null,
            "top": null,
            "visibility": null,
            "width": null
          }
        },
        "a541b7bc923b4e498f756ef22e92af25": {
          "model_module": "@jupyter-widgets/base",
          "model_name": "LayoutModel",
          "model_module_version": "1.2.0",
          "state": {
            "_model_module": "@jupyter-widgets/base",
            "_model_module_version": "1.2.0",
            "_model_name": "LayoutModel",
            "_view_count": null,
            "_view_module": "@jupyter-widgets/base",
            "_view_module_version": "1.2.0",
            "_view_name": "LayoutView",
            "align_content": null,
            "align_items": null,
            "align_self": null,
            "border": null,
            "bottom": null,
            "display": null,
            "flex": null,
            "flex_flow": null,
            "grid_area": null,
            "grid_auto_columns": null,
            "grid_auto_flow": null,
            "grid_auto_rows": null,
            "grid_column": null,
            "grid_gap": null,
            "grid_row": null,
            "grid_template_areas": null,
            "grid_template_columns": null,
            "grid_template_rows": null,
            "height": null,
            "justify_content": null,
            "justify_items": null,
            "left": null,
            "margin": null,
            "max_height": null,
            "max_width": null,
            "min_height": null,
            "min_width": null,
            "object_fit": null,
            "object_position": null,
            "order": null,
            "overflow": null,
            "overflow_x": null,
            "overflow_y": null,
            "padding": null,
            "right": null,
            "top": null,
            "visibility": null,
            "width": null
          }
        },
        "a8ced8651ab7440abb0ef4fdc1c78ee8": {
          "model_module": "@jupyter-widgets/controls",
          "model_name": "DescriptionStyleModel",
          "model_module_version": "1.5.0",
          "state": {
            "_model_module": "@jupyter-widgets/controls",
            "_model_module_version": "1.5.0",
            "_model_name": "DescriptionStyleModel",
            "_view_count": null,
            "_view_module": "@jupyter-widgets/base",
            "_view_module_version": "1.2.0",
            "_view_name": "StyleView",
            "description_width": ""
          }
        },
        "53c21609b2df40d896522dc63dbcc7af": {
          "model_module": "@jupyter-widgets/base",
          "model_name": "LayoutModel",
          "model_module_version": "1.2.0",
          "state": {
            "_model_module": "@jupyter-widgets/base",
            "_model_module_version": "1.2.0",
            "_model_name": "LayoutModel",
            "_view_count": null,
            "_view_module": "@jupyter-widgets/base",
            "_view_module_version": "1.2.0",
            "_view_name": "LayoutView",
            "align_content": null,
            "align_items": null,
            "align_self": null,
            "border": null,
            "bottom": null,
            "display": null,
            "flex": null,
            "flex_flow": null,
            "grid_area": null,
            "grid_auto_columns": null,
            "grid_auto_flow": null,
            "grid_auto_rows": null,
            "grid_column": null,
            "grid_gap": null,
            "grid_row": null,
            "grid_template_areas": null,
            "grid_template_columns": null,
            "grid_template_rows": null,
            "height": null,
            "justify_content": null,
            "justify_items": null,
            "left": null,
            "margin": null,
            "max_height": null,
            "max_width": null,
            "min_height": null,
            "min_width": null,
            "object_fit": null,
            "object_position": null,
            "order": null,
            "overflow": null,
            "overflow_x": null,
            "overflow_y": null,
            "padding": null,
            "right": null,
            "top": null,
            "visibility": null,
            "width": null
          }
        },
        "e638d5dc4cdc4954b9405542c0344a07": {
          "model_module": "@jupyter-widgets/controls",
          "model_name": "ProgressStyleModel",
          "model_module_version": "1.5.0",
          "state": {
            "_model_module": "@jupyter-widgets/controls",
            "_model_module_version": "1.5.0",
            "_model_name": "ProgressStyleModel",
            "_view_count": null,
            "_view_module": "@jupyter-widgets/base",
            "_view_module_version": "1.2.0",
            "_view_name": "StyleView",
            "bar_color": null,
            "description_width": ""
          }
        },
        "0d208ac13aec4e8989dbf5bf81dbbf02": {
          "model_module": "@jupyter-widgets/base",
          "model_name": "LayoutModel",
          "model_module_version": "1.2.0",
          "state": {
            "_model_module": "@jupyter-widgets/base",
            "_model_module_version": "1.2.0",
            "_model_name": "LayoutModel",
            "_view_count": null,
            "_view_module": "@jupyter-widgets/base",
            "_view_module_version": "1.2.0",
            "_view_name": "LayoutView",
            "align_content": null,
            "align_items": null,
            "align_self": null,
            "border": null,
            "bottom": null,
            "display": null,
            "flex": null,
            "flex_flow": null,
            "grid_area": null,
            "grid_auto_columns": null,
            "grid_auto_flow": null,
            "grid_auto_rows": null,
            "grid_column": null,
            "grid_gap": null,
            "grid_row": null,
            "grid_template_areas": null,
            "grid_template_columns": null,
            "grid_template_rows": null,
            "height": null,
            "justify_content": null,
            "justify_items": null,
            "left": null,
            "margin": null,
            "max_height": null,
            "max_width": null,
            "min_height": null,
            "min_width": null,
            "object_fit": null,
            "object_position": null,
            "order": null,
            "overflow": null,
            "overflow_x": null,
            "overflow_y": null,
            "padding": null,
            "right": null,
            "top": null,
            "visibility": null,
            "width": null
          }
        },
        "3b4fa7aeee284a928d2c6c9d983033d1": {
          "model_module": "@jupyter-widgets/controls",
          "model_name": "DescriptionStyleModel",
          "model_module_version": "1.5.0",
          "state": {
            "_model_module": "@jupyter-widgets/controls",
            "_model_module_version": "1.5.0",
            "_model_name": "DescriptionStyleModel",
            "_view_count": null,
            "_view_module": "@jupyter-widgets/base",
            "_view_module_version": "1.2.0",
            "_view_name": "StyleView",
            "description_width": ""
          }
        },
        "494c09a407d14689a987855882e0031a": {
          "model_module": "@jupyter-widgets/controls",
          "model_name": "HBoxModel",
          "model_module_version": "1.5.0",
          "state": {
            "_dom_classes": [],
            "_model_module": "@jupyter-widgets/controls",
            "_model_module_version": "1.5.0",
            "_model_name": "HBoxModel",
            "_view_count": null,
            "_view_module": "@jupyter-widgets/controls",
            "_view_module_version": "1.5.0",
            "_view_name": "HBoxView",
            "box_style": "",
            "children": [
              "IPY_MODEL_35b8d8582c3f4681be76844a31944e86",
              "IPY_MODEL_7902a65329594415afd6675c04bbd0b1",
              "IPY_MODEL_581ae55b85a241d98dbbe64f993ff8f6"
            ],
            "layout": "IPY_MODEL_2a88750bca4a4337a981a396d7873c61"
          }
        },
        "35b8d8582c3f4681be76844a31944e86": {
          "model_module": "@jupyter-widgets/controls",
          "model_name": "HTMLModel",
          "model_module_version": "1.5.0",
          "state": {
            "_dom_classes": [],
            "_model_module": "@jupyter-widgets/controls",
            "_model_module_version": "1.5.0",
            "_model_name": "HTMLModel",
            "_view_count": null,
            "_view_module": "@jupyter-widgets/controls",
            "_view_module_version": "1.5.0",
            "_view_name": "HTMLView",
            "description": "",
            "description_tooltip": null,
            "layout": "IPY_MODEL_42372d81b76244d3ae64ba015c3f83d0",
            "placeholder": "​",
            "style": "IPY_MODEL_21d144ac43fc4115920ad96eed17f9f3",
            "value": "tokenizer.json: 100%"
          }
        },
        "7902a65329594415afd6675c04bbd0b1": {
          "model_module": "@jupyter-widgets/controls",
          "model_name": "FloatProgressModel",
          "model_module_version": "1.5.0",
          "state": {
            "_dom_classes": [],
            "_model_module": "@jupyter-widgets/controls",
            "_model_module_version": "1.5.0",
            "_model_name": "FloatProgressModel",
            "_view_count": null,
            "_view_module": "@jupyter-widgets/controls",
            "_view_module_version": "1.5.0",
            "_view_name": "ProgressView",
            "bar_style": "success",
            "description": "",
            "description_tooltip": null,
            "layout": "IPY_MODEL_abb9494620f44728a0636b29da4ce52c",
            "max": 486583,
            "min": 0,
            "orientation": "horizontal",
            "style": "IPY_MODEL_021e33bd2c634c90a7d8ba65b27f0915",
            "value": 486583
          }
        },
        "581ae55b85a241d98dbbe64f993ff8f6": {
          "model_module": "@jupyter-widgets/controls",
          "model_name": "HTMLModel",
          "model_module_version": "1.5.0",
          "state": {
            "_dom_classes": [],
            "_model_module": "@jupyter-widgets/controls",
            "_model_module_version": "1.5.0",
            "_model_name": "HTMLModel",
            "_view_count": null,
            "_view_module": "@jupyter-widgets/controls",
            "_view_module_version": "1.5.0",
            "_view_name": "HTMLView",
            "description": "",
            "description_tooltip": null,
            "layout": "IPY_MODEL_cea1dbe52e3a4db7956cd34e6b1b9e2e",
            "placeholder": "​",
            "style": "IPY_MODEL_e4bb3ef735e44c05b1d786eedfbb4bf7",
            "value": " 487k/487k [00:00&lt;00:00, 5.02MB/s]"
          }
        },
        "2a88750bca4a4337a981a396d7873c61": {
          "model_module": "@jupyter-widgets/base",
          "model_name": "LayoutModel",
          "model_module_version": "1.2.0",
          "state": {
            "_model_module": "@jupyter-widgets/base",
            "_model_module_version": "1.2.0",
            "_model_name": "LayoutModel",
            "_view_count": null,
            "_view_module": "@jupyter-widgets/base",
            "_view_module_version": "1.2.0",
            "_view_name": "LayoutView",
            "align_content": null,
            "align_items": null,
            "align_self": null,
            "border": null,
            "bottom": null,
            "display": null,
            "flex": null,
            "flex_flow": null,
            "grid_area": null,
            "grid_auto_columns": null,
            "grid_auto_flow": null,
            "grid_auto_rows": null,
            "grid_column": null,
            "grid_gap": null,
            "grid_row": null,
            "grid_template_areas": null,
            "grid_template_columns": null,
            "grid_template_rows": null,
            "height": null,
            "justify_content": null,
            "justify_items": null,
            "left": null,
            "margin": null,
            "max_height": null,
            "max_width": null,
            "min_height": null,
            "min_width": null,
            "object_fit": null,
            "object_position": null,
            "order": null,
            "overflow": null,
            "overflow_x": null,
            "overflow_y": null,
            "padding": null,
            "right": null,
            "top": null,
            "visibility": null,
            "width": null
          }
        },
        "42372d81b76244d3ae64ba015c3f83d0": {
          "model_module": "@jupyter-widgets/base",
          "model_name": "LayoutModel",
          "model_module_version": "1.2.0",
          "state": {
            "_model_module": "@jupyter-widgets/base",
            "_model_module_version": "1.2.0",
            "_model_name": "LayoutModel",
            "_view_count": null,
            "_view_module": "@jupyter-widgets/base",
            "_view_module_version": "1.2.0",
            "_view_name": "LayoutView",
            "align_content": null,
            "align_items": null,
            "align_self": null,
            "border": null,
            "bottom": null,
            "display": null,
            "flex": null,
            "flex_flow": null,
            "grid_area": null,
            "grid_auto_columns": null,
            "grid_auto_flow": null,
            "grid_auto_rows": null,
            "grid_column": null,
            "grid_gap": null,
            "grid_row": null,
            "grid_template_areas": null,
            "grid_template_columns": null,
            "grid_template_rows": null,
            "height": null,
            "justify_content": null,
            "justify_items": null,
            "left": null,
            "margin": null,
            "max_height": null,
            "max_width": null,
            "min_height": null,
            "min_width": null,
            "object_fit": null,
            "object_position": null,
            "order": null,
            "overflow": null,
            "overflow_x": null,
            "overflow_y": null,
            "padding": null,
            "right": null,
            "top": null,
            "visibility": null,
            "width": null
          }
        },
        "21d144ac43fc4115920ad96eed17f9f3": {
          "model_module": "@jupyter-widgets/controls",
          "model_name": "DescriptionStyleModel",
          "model_module_version": "1.5.0",
          "state": {
            "_model_module": "@jupyter-widgets/controls",
            "_model_module_version": "1.5.0",
            "_model_name": "DescriptionStyleModel",
            "_view_count": null,
            "_view_module": "@jupyter-widgets/base",
            "_view_module_version": "1.2.0",
            "_view_name": "StyleView",
            "description_width": ""
          }
        },
        "abb9494620f44728a0636b29da4ce52c": {
          "model_module": "@jupyter-widgets/base",
          "model_name": "LayoutModel",
          "model_module_version": "1.2.0",
          "state": {
            "_model_module": "@jupyter-widgets/base",
            "_model_module_version": "1.2.0",
            "_model_name": "LayoutModel",
            "_view_count": null,
            "_view_module": "@jupyter-widgets/base",
            "_view_module_version": "1.2.0",
            "_view_name": "LayoutView",
            "align_content": null,
            "align_items": null,
            "align_self": null,
            "border": null,
            "bottom": null,
            "display": null,
            "flex": null,
            "flex_flow": null,
            "grid_area": null,
            "grid_auto_columns": null,
            "grid_auto_flow": null,
            "grid_auto_rows": null,
            "grid_column": null,
            "grid_gap": null,
            "grid_row": null,
            "grid_template_areas": null,
            "grid_template_columns": null,
            "grid_template_rows": null,
            "height": null,
            "justify_content": null,
            "justify_items": null,
            "left": null,
            "margin": null,
            "max_height": null,
            "max_width": null,
            "min_height": null,
            "min_width": null,
            "object_fit": null,
            "object_position": null,
            "order": null,
            "overflow": null,
            "overflow_x": null,
            "overflow_y": null,
            "padding": null,
            "right": null,
            "top": null,
            "visibility": null,
            "width": null
          }
        },
        "021e33bd2c634c90a7d8ba65b27f0915": {
          "model_module": "@jupyter-widgets/controls",
          "model_name": "ProgressStyleModel",
          "model_module_version": "1.5.0",
          "state": {
            "_model_module": "@jupyter-widgets/controls",
            "_model_module_version": "1.5.0",
            "_model_name": "ProgressStyleModel",
            "_view_count": null,
            "_view_module": "@jupyter-widgets/base",
            "_view_module_version": "1.2.0",
            "_view_name": "StyleView",
            "bar_color": null,
            "description_width": ""
          }
        },
        "cea1dbe52e3a4db7956cd34e6b1b9e2e": {
          "model_module": "@jupyter-widgets/base",
          "model_name": "LayoutModel",
          "model_module_version": "1.2.0",
          "state": {
            "_model_module": "@jupyter-widgets/base",
            "_model_module_version": "1.2.0",
            "_model_name": "LayoutModel",
            "_view_count": null,
            "_view_module": "@jupyter-widgets/base",
            "_view_module_version": "1.2.0",
            "_view_name": "LayoutView",
            "align_content": null,
            "align_items": null,
            "align_self": null,
            "border": null,
            "bottom": null,
            "display": null,
            "flex": null,
            "flex_flow": null,
            "grid_area": null,
            "grid_auto_columns": null,
            "grid_auto_flow": null,
            "grid_auto_rows": null,
            "grid_column": null,
            "grid_gap": null,
            "grid_row": null,
            "grid_template_areas": null,
            "grid_template_columns": null,
            "grid_template_rows": null,
            "height": null,
            "justify_content": null,
            "justify_items": null,
            "left": null,
            "margin": null,
            "max_height": null,
            "max_width": null,
            "min_height": null,
            "min_width": null,
            "object_fit": null,
            "object_position": null,
            "order": null,
            "overflow": null,
            "overflow_x": null,
            "overflow_y": null,
            "padding": null,
            "right": null,
            "top": null,
            "visibility": null,
            "width": null
          }
        },
        "e4bb3ef735e44c05b1d786eedfbb4bf7": {
          "model_module": "@jupyter-widgets/controls",
          "model_name": "DescriptionStyleModel",
          "model_module_version": "1.5.0",
          "state": {
            "_model_module": "@jupyter-widgets/controls",
            "_model_module_version": "1.5.0",
            "_model_name": "DescriptionStyleModel",
            "_view_count": null,
            "_view_module": "@jupyter-widgets/base",
            "_view_module_version": "1.2.0",
            "_view_name": "StyleView",
            "description_width": ""
          }
        },
        "16dfdb0e99634f90bef5992a03bda2b5": {
          "model_module": "@jupyter-widgets/controls",
          "model_name": "HBoxModel",
          "model_module_version": "1.5.0",
          "state": {
            "_dom_classes": [],
            "_model_module": "@jupyter-widgets/controls",
            "_model_module_version": "1.5.0",
            "_model_name": "HBoxModel",
            "_view_count": null,
            "_view_module": "@jupyter-widgets/controls",
            "_view_module_version": "1.5.0",
            "_view_name": "HBoxView",
            "box_style": "",
            "children": [
              "IPY_MODEL_bee03c76b0244fac86026080ab0d22ff",
              "IPY_MODEL_d485e4785771445f97855454918a10dd",
              "IPY_MODEL_fa969e6a87774fe492d7625128718987"
            ],
            "layout": "IPY_MODEL_c8c3256acb874522bde4756c169a0480"
          }
        },
        "bee03c76b0244fac86026080ab0d22ff": {
          "model_module": "@jupyter-widgets/controls",
          "model_name": "HTMLModel",
          "model_module_version": "1.5.0",
          "state": {
            "_dom_classes": [],
            "_model_module": "@jupyter-widgets/controls",
            "_model_module_version": "1.5.0",
            "_model_name": "HTMLModel",
            "_view_count": null,
            "_view_module": "@jupyter-widgets/controls",
            "_view_module_version": "1.5.0",
            "_view_name": "HTMLView",
            "description": "",
            "description_tooltip": null,
            "layout": "IPY_MODEL_73b76a8329b7445c9e6033659c9145a9",
            "placeholder": "​",
            "style": "IPY_MODEL_526943a98dad423da35edbcb188c289f",
            "value": "README.md: 100%"
          }
        },
        "d485e4785771445f97855454918a10dd": {
          "model_module": "@jupyter-widgets/controls",
          "model_name": "FloatProgressModel",
          "model_module_version": "1.5.0",
          "state": {
            "_dom_classes": [],
            "_model_module": "@jupyter-widgets/controls",
            "_model_module_version": "1.5.0",
            "_model_name": "FloatProgressModel",
            "_view_count": null,
            "_view_module": "@jupyter-widgets/controls",
            "_view_module_version": "1.5.0",
            "_view_name": "ProgressView",
            "bar_style": "success",
            "description": "",
            "description_tooltip": null,
            "layout": "IPY_MODEL_4e1caba6aac84bc783f8451adc6c5a42",
            "max": 18106,
            "min": 0,
            "orientation": "horizontal",
            "style": "IPY_MODEL_bbc6e277e2ce49b39932cd0a2fbf3fff",
            "value": 18106
          }
        },
        "fa969e6a87774fe492d7625128718987": {
          "model_module": "@jupyter-widgets/controls",
          "model_name": "HTMLModel",
          "model_module_version": "1.5.0",
          "state": {
            "_dom_classes": [],
            "_model_module": "@jupyter-widgets/controls",
            "_model_module_version": "1.5.0",
            "_model_name": "HTMLModel",
            "_view_count": null,
            "_view_module": "@jupyter-widgets/controls",
            "_view_module_version": "1.5.0",
            "_view_name": "HTMLView",
            "description": "",
            "description_tooltip": null,
            "layout": "IPY_MODEL_fce49dcf47c44926bb8032bc32ea0ea3",
            "placeholder": "​",
            "style": "IPY_MODEL_4478e9e170de4209a1091eacac4e0581",
            "value": " 18.1k/18.1k [00:00&lt;00:00, 294kB/s]"
          }
        },
        "c8c3256acb874522bde4756c169a0480": {
          "model_module": "@jupyter-widgets/base",
          "model_name": "LayoutModel",
          "model_module_version": "1.2.0",
          "state": {
            "_model_module": "@jupyter-widgets/base",
            "_model_module_version": "1.2.0",
            "_model_name": "LayoutModel",
            "_view_count": null,
            "_view_module": "@jupyter-widgets/base",
            "_view_module_version": "1.2.0",
            "_view_name": "LayoutView",
            "align_content": null,
            "align_items": null,
            "align_self": null,
            "border": null,
            "bottom": null,
            "display": null,
            "flex": null,
            "flex_flow": null,
            "grid_area": null,
            "grid_auto_columns": null,
            "grid_auto_flow": null,
            "grid_auto_rows": null,
            "grid_column": null,
            "grid_gap": null,
            "grid_row": null,
            "grid_template_areas": null,
            "grid_template_columns": null,
            "grid_template_rows": null,
            "height": null,
            "justify_content": null,
            "justify_items": null,
            "left": null,
            "margin": null,
            "max_height": null,
            "max_width": null,
            "min_height": null,
            "min_width": null,
            "object_fit": null,
            "object_position": null,
            "order": null,
            "overflow": null,
            "overflow_x": null,
            "overflow_y": null,
            "padding": null,
            "right": null,
            "top": null,
            "visibility": null,
            "width": null
          }
        },
        "73b76a8329b7445c9e6033659c9145a9": {
          "model_module": "@jupyter-widgets/base",
          "model_name": "LayoutModel",
          "model_module_version": "1.2.0",
          "state": {
            "_model_module": "@jupyter-widgets/base",
            "_model_module_version": "1.2.0",
            "_model_name": "LayoutModel",
            "_view_count": null,
            "_view_module": "@jupyter-widgets/base",
            "_view_module_version": "1.2.0",
            "_view_name": "LayoutView",
            "align_content": null,
            "align_items": null,
            "align_self": null,
            "border": null,
            "bottom": null,
            "display": null,
            "flex": null,
            "flex_flow": null,
            "grid_area": null,
            "grid_auto_columns": null,
            "grid_auto_flow": null,
            "grid_auto_rows": null,
            "grid_column": null,
            "grid_gap": null,
            "grid_row": null,
            "grid_template_areas": null,
            "grid_template_columns": null,
            "grid_template_rows": null,
            "height": null,
            "justify_content": null,
            "justify_items": null,
            "left": null,
            "margin": null,
            "max_height": null,
            "max_width": null,
            "min_height": null,
            "min_width": null,
            "object_fit": null,
            "object_position": null,
            "order": null,
            "overflow": null,
            "overflow_x": null,
            "overflow_y": null,
            "padding": null,
            "right": null,
            "top": null,
            "visibility": null,
            "width": null
          }
        },
        "526943a98dad423da35edbcb188c289f": {
          "model_module": "@jupyter-widgets/controls",
          "model_name": "DescriptionStyleModel",
          "model_module_version": "1.5.0",
          "state": {
            "_model_module": "@jupyter-widgets/controls",
            "_model_module_version": "1.5.0",
            "_model_name": "DescriptionStyleModel",
            "_view_count": null,
            "_view_module": "@jupyter-widgets/base",
            "_view_module_version": "1.2.0",
            "_view_name": "StyleView",
            "description_width": ""
          }
        },
        "4e1caba6aac84bc783f8451adc6c5a42": {
          "model_module": "@jupyter-widgets/base",
          "model_name": "LayoutModel",
          "model_module_version": "1.2.0",
          "state": {
            "_model_module": "@jupyter-widgets/base",
            "_model_module_version": "1.2.0",
            "_model_name": "LayoutModel",
            "_view_count": null,
            "_view_module": "@jupyter-widgets/base",
            "_view_module_version": "1.2.0",
            "_view_name": "LayoutView",
            "align_content": null,
            "align_items": null,
            "align_self": null,
            "border": null,
            "bottom": null,
            "display": null,
            "flex": null,
            "flex_flow": null,
            "grid_area": null,
            "grid_auto_columns": null,
            "grid_auto_flow": null,
            "grid_auto_rows": null,
            "grid_column": null,
            "grid_gap": null,
            "grid_row": null,
            "grid_template_areas": null,
            "grid_template_columns": null,
            "grid_template_rows": null,
            "height": null,
            "justify_content": null,
            "justify_items": null,
            "left": null,
            "margin": null,
            "max_height": null,
            "max_width": null,
            "min_height": null,
            "min_width": null,
            "object_fit": null,
            "object_position": null,
            "order": null,
            "overflow": null,
            "overflow_x": null,
            "overflow_y": null,
            "padding": null,
            "right": null,
            "top": null,
            "visibility": null,
            "width": null
          }
        },
        "bbc6e277e2ce49b39932cd0a2fbf3fff": {
          "model_module": "@jupyter-widgets/controls",
          "model_name": "ProgressStyleModel",
          "model_module_version": "1.5.0",
          "state": {
            "_model_module": "@jupyter-widgets/controls",
            "_model_module_version": "1.5.0",
            "_model_name": "ProgressStyleModel",
            "_view_count": null,
            "_view_module": "@jupyter-widgets/base",
            "_view_module_version": "1.2.0",
            "_view_name": "StyleView",
            "bar_color": null,
            "description_width": ""
          }
        },
        "fce49dcf47c44926bb8032bc32ea0ea3": {
          "model_module": "@jupyter-widgets/base",
          "model_name": "LayoutModel",
          "model_module_version": "1.2.0",
          "state": {
            "_model_module": "@jupyter-widgets/base",
            "_model_module_version": "1.2.0",
            "_model_name": "LayoutModel",
            "_view_count": null,
            "_view_module": "@jupyter-widgets/base",
            "_view_module_version": "1.2.0",
            "_view_name": "LayoutView",
            "align_content": null,
            "align_items": null,
            "align_self": null,
            "border": null,
            "bottom": null,
            "display": null,
            "flex": null,
            "flex_flow": null,
            "grid_area": null,
            "grid_auto_columns": null,
            "grid_auto_flow": null,
            "grid_auto_rows": null,
            "grid_column": null,
            "grid_gap": null,
            "grid_row": null,
            "grid_template_areas": null,
            "grid_template_columns": null,
            "grid_template_rows": null,
            "height": null,
            "justify_content": null,
            "justify_items": null,
            "left": null,
            "margin": null,
            "max_height": null,
            "max_width": null,
            "min_height": null,
            "min_width": null,
            "object_fit": null,
            "object_position": null,
            "order": null,
            "overflow": null,
            "overflow_x": null,
            "overflow_y": null,
            "padding": null,
            "right": null,
            "top": null,
            "visibility": null,
            "width": null
          }
        },
        "4478e9e170de4209a1091eacac4e0581": {
          "model_module": "@jupyter-widgets/controls",
          "model_name": "DescriptionStyleModel",
          "model_module_version": "1.5.0",
          "state": {
            "_model_module": "@jupyter-widgets/controls",
            "_model_module_version": "1.5.0",
            "_model_name": "DescriptionStyleModel",
            "_view_count": null,
            "_view_module": "@jupyter-widgets/base",
            "_view_module_version": "1.2.0",
            "_view_name": "StyleView",
            "description_width": ""
          }
        },
        "ab18f8d2f07c43d39da19b9c9b288c5f": {
          "model_module": "@jupyter-widgets/controls",
          "model_name": "HBoxModel",
          "model_module_version": "1.5.0",
          "state": {
            "_dom_classes": [],
            "_model_module": "@jupyter-widgets/controls",
            "_model_module_version": "1.5.0",
            "_model_name": "HBoxModel",
            "_view_count": null,
            "_view_module": "@jupyter-widgets/controls",
            "_view_module_version": "1.5.0",
            "_view_name": "HBoxView",
            "box_style": "",
            "children": [
              "IPY_MODEL_0b3520bb1fd1484eb5c392bb0a91f957",
              "IPY_MODEL_169d98fb889c4b2a8e42d93e386202e5",
              "IPY_MODEL_dcca517c7b844616959352a11925aa81"
            ],
            "layout": "IPY_MODEL_19542f33003644958c0604f5e7e93c89"
          }
        },
        "0b3520bb1fd1484eb5c392bb0a91f957": {
          "model_module": "@jupyter-widgets/controls",
          "model_name": "HTMLModel",
          "model_module_version": "1.5.0",
          "state": {
            "_dom_classes": [],
            "_model_module": "@jupyter-widgets/controls",
            "_model_module_version": "1.5.0",
            "_model_name": "HTMLModel",
            "_view_count": null,
            "_view_module": "@jupyter-widgets/controls",
            "_view_module_version": "1.5.0",
            "_view_name": "HTMLView",
            "description": "",
            "description_tooltip": null,
            "layout": "IPY_MODEL_7fca0e197fa84dc5b7d4b3d03b3bde99",
            "placeholder": "​",
            "style": "IPY_MODEL_9175ef7f228d4e3fb4a009126721539a",
            "value": "Resolving data files: 100%"
          }
        },
        "169d98fb889c4b2a8e42d93e386202e5": {
          "model_module": "@jupyter-widgets/controls",
          "model_name": "FloatProgressModel",
          "model_module_version": "1.5.0",
          "state": {
            "_dom_classes": [],
            "_model_module": "@jupyter-widgets/controls",
            "_model_module_version": "1.5.0",
            "_model_name": "FloatProgressModel",
            "_view_count": null,
            "_view_module": "@jupyter-widgets/controls",
            "_view_module_version": "1.5.0",
            "_view_name": "ProgressView",
            "bar_style": "success",
            "description": "",
            "description_tooltip": null,
            "layout": "IPY_MODEL_c871489f679b446b8f104eebb7c9d3d0",
            "max": 48,
            "min": 0,
            "orientation": "horizontal",
            "style": "IPY_MODEL_0b9f94a3fc1040fd9ef5b83787587c5a",
            "value": 48
          }
        },
        "dcca517c7b844616959352a11925aa81": {
          "model_module": "@jupyter-widgets/controls",
          "model_name": "HTMLModel",
          "model_module_version": "1.5.0",
          "state": {
            "_dom_classes": [],
            "_model_module": "@jupyter-widgets/controls",
            "_model_module_version": "1.5.0",
            "_model_name": "HTMLModel",
            "_view_count": null,
            "_view_module": "@jupyter-widgets/controls",
            "_view_module_version": "1.5.0",
            "_view_name": "HTMLView",
            "description": "",
            "description_tooltip": null,
            "layout": "IPY_MODEL_4a2abcdac9e84053a03c327fa6c24153",
            "placeholder": "​",
            "style": "IPY_MODEL_c1d3cbd2e0304888add6827db369aa5a",
            "value": " 48/48 [00:00&lt;00:00, 34.94it/s]"
          }
        },
        "19542f33003644958c0604f5e7e93c89": {
          "model_module": "@jupyter-widgets/base",
          "model_name": "LayoutModel",
          "model_module_version": "1.2.0",
          "state": {
            "_model_module": "@jupyter-widgets/base",
            "_model_module_version": "1.2.0",
            "_model_name": "LayoutModel",
            "_view_count": null,
            "_view_module": "@jupyter-widgets/base",
            "_view_module_version": "1.2.0",
            "_view_name": "LayoutView",
            "align_content": null,
            "align_items": null,
            "align_self": null,
            "border": null,
            "bottom": null,
            "display": null,
            "flex": null,
            "flex_flow": null,
            "grid_area": null,
            "grid_auto_columns": null,
            "grid_auto_flow": null,
            "grid_auto_rows": null,
            "grid_column": null,
            "grid_gap": null,
            "grid_row": null,
            "grid_template_areas": null,
            "grid_template_columns": null,
            "grid_template_rows": null,
            "height": null,
            "justify_content": null,
            "justify_items": null,
            "left": null,
            "margin": null,
            "max_height": null,
            "max_width": null,
            "min_height": null,
            "min_width": null,
            "object_fit": null,
            "object_position": null,
            "order": null,
            "overflow": null,
            "overflow_x": null,
            "overflow_y": null,
            "padding": null,
            "right": null,
            "top": null,
            "visibility": null,
            "width": null
          }
        },
        "7fca0e197fa84dc5b7d4b3d03b3bde99": {
          "model_module": "@jupyter-widgets/base",
          "model_name": "LayoutModel",
          "model_module_version": "1.2.0",
          "state": {
            "_model_module": "@jupyter-widgets/base",
            "_model_module_version": "1.2.0",
            "_model_name": "LayoutModel",
            "_view_count": null,
            "_view_module": "@jupyter-widgets/base",
            "_view_module_version": "1.2.0",
            "_view_name": "LayoutView",
            "align_content": null,
            "align_items": null,
            "align_self": null,
            "border": null,
            "bottom": null,
            "display": null,
            "flex": null,
            "flex_flow": null,
            "grid_area": null,
            "grid_auto_columns": null,
            "grid_auto_flow": null,
            "grid_auto_rows": null,
            "grid_column": null,
            "grid_gap": null,
            "grid_row": null,
            "grid_template_areas": null,
            "grid_template_columns": null,
            "grid_template_rows": null,
            "height": null,
            "justify_content": null,
            "justify_items": null,
            "left": null,
            "margin": null,
            "max_height": null,
            "max_width": null,
            "min_height": null,
            "min_width": null,
            "object_fit": null,
            "object_position": null,
            "order": null,
            "overflow": null,
            "overflow_x": null,
            "overflow_y": null,
            "padding": null,
            "right": null,
            "top": null,
            "visibility": null,
            "width": null
          }
        },
        "9175ef7f228d4e3fb4a009126721539a": {
          "model_module": "@jupyter-widgets/controls",
          "model_name": "DescriptionStyleModel",
          "model_module_version": "1.5.0",
          "state": {
            "_model_module": "@jupyter-widgets/controls",
            "_model_module_version": "1.5.0",
            "_model_name": "DescriptionStyleModel",
            "_view_count": null,
            "_view_module": "@jupyter-widgets/base",
            "_view_module_version": "1.2.0",
            "_view_name": "StyleView",
            "description_width": ""
          }
        },
        "c871489f679b446b8f104eebb7c9d3d0": {
          "model_module": "@jupyter-widgets/base",
          "model_name": "LayoutModel",
          "model_module_version": "1.2.0",
          "state": {
            "_model_module": "@jupyter-widgets/base",
            "_model_module_version": "1.2.0",
            "_model_name": "LayoutModel",
            "_view_count": null,
            "_view_module": "@jupyter-widgets/base",
            "_view_module_version": "1.2.0",
            "_view_name": "LayoutView",
            "align_content": null,
            "align_items": null,
            "align_self": null,
            "border": null,
            "bottom": null,
            "display": null,
            "flex": null,
            "flex_flow": null,
            "grid_area": null,
            "grid_auto_columns": null,
            "grid_auto_flow": null,
            "grid_auto_rows": null,
            "grid_column": null,
            "grid_gap": null,
            "grid_row": null,
            "grid_template_areas": null,
            "grid_template_columns": null,
            "grid_template_rows": null,
            "height": null,
            "justify_content": null,
            "justify_items": null,
            "left": null,
            "margin": null,
            "max_height": null,
            "max_width": null,
            "min_height": null,
            "min_width": null,
            "object_fit": null,
            "object_position": null,
            "order": null,
            "overflow": null,
            "overflow_x": null,
            "overflow_y": null,
            "padding": null,
            "right": null,
            "top": null,
            "visibility": null,
            "width": null
          }
        },
        "0b9f94a3fc1040fd9ef5b83787587c5a": {
          "model_module": "@jupyter-widgets/controls",
          "model_name": "ProgressStyleModel",
          "model_module_version": "1.5.0",
          "state": {
            "_model_module": "@jupyter-widgets/controls",
            "_model_module_version": "1.5.0",
            "_model_name": "ProgressStyleModel",
            "_view_count": null,
            "_view_module": "@jupyter-widgets/base",
            "_view_module_version": "1.2.0",
            "_view_name": "StyleView",
            "bar_color": null,
            "description_width": ""
          }
        },
        "4a2abcdac9e84053a03c327fa6c24153": {
          "model_module": "@jupyter-widgets/base",
          "model_name": "LayoutModel",
          "model_module_version": "1.2.0",
          "state": {
            "_model_module": "@jupyter-widgets/base",
            "_model_module_version": "1.2.0",
            "_model_name": "LayoutModel",
            "_view_count": null,
            "_view_module": "@jupyter-widgets/base",
            "_view_module_version": "1.2.0",
            "_view_name": "LayoutView",
            "align_content": null,
            "align_items": null,
            "align_self": null,
            "border": null,
            "bottom": null,
            "display": null,
            "flex": null,
            "flex_flow": null,
            "grid_area": null,
            "grid_auto_columns": null,
            "grid_auto_flow": null,
            "grid_auto_rows": null,
            "grid_column": null,
            "grid_gap": null,
            "grid_row": null,
            "grid_template_areas": null,
            "grid_template_columns": null,
            "grid_template_rows": null,
            "height": null,
            "justify_content": null,
            "justify_items": null,
            "left": null,
            "margin": null,
            "max_height": null,
            "max_width": null,
            "min_height": null,
            "min_width": null,
            "object_fit": null,
            "object_position": null,
            "order": null,
            "overflow": null,
            "overflow_x": null,
            "overflow_y": null,
            "padding": null,
            "right": null,
            "top": null,
            "visibility": null,
            "width": null
          }
        },
        "c1d3cbd2e0304888add6827db369aa5a": {
          "model_module": "@jupyter-widgets/controls",
          "model_name": "DescriptionStyleModel",
          "model_module_version": "1.5.0",
          "state": {
            "_model_module": "@jupyter-widgets/controls",
            "_model_module_version": "1.5.0",
            "_model_name": "DescriptionStyleModel",
            "_view_count": null,
            "_view_module": "@jupyter-widgets/base",
            "_view_module_version": "1.2.0",
            "_view_name": "StyleView",
            "description_width": ""
          }
        },
        "5b3a363ba43244acb5b1749a9c7ac970": {
          "model_module": "@jupyter-widgets/controls",
          "model_name": "HBoxModel",
          "model_module_version": "1.5.0",
          "state": {
            "_dom_classes": [],
            "_model_module": "@jupyter-widgets/controls",
            "_model_module_version": "1.5.0",
            "_model_name": "HBoxModel",
            "_view_count": null,
            "_view_module": "@jupyter-widgets/controls",
            "_view_module_version": "1.5.0",
            "_view_name": "HBoxView",
            "box_style": "",
            "children": [
              "IPY_MODEL_deaf8e1e381a444bba8b194f06461acf",
              "IPY_MODEL_969f8f1c527a4442a022597f6cbdd2cd",
              "IPY_MODEL_4171f59d886848a88599553c441a19fc"
            ],
            "layout": "IPY_MODEL_75ded1db06014094862a887cbf025076"
          }
        },
        "deaf8e1e381a444bba8b194f06461acf": {
          "model_module": "@jupyter-widgets/controls",
          "model_name": "HTMLModel",
          "model_module_version": "1.5.0",
          "state": {
            "_dom_classes": [],
            "_model_module": "@jupyter-widgets/controls",
            "_model_module_version": "1.5.0",
            "_model_name": "HTMLModel",
            "_view_count": null,
            "_view_module": "@jupyter-widgets/controls",
            "_view_module_version": "1.5.0",
            "_view_name": "HTMLView",
            "description": "",
            "description_tooltip": null,
            "layout": "IPY_MODEL_9f21e51063d64e6f84e62650ff8acb5d",
            "placeholder": "​",
            "style": "IPY_MODEL_f0a1dbea5cd84021884299c85d6c0665",
            "value": "Resolving data files: 100%"
          }
        },
        "969f8f1c527a4442a022597f6cbdd2cd": {
          "model_module": "@jupyter-widgets/controls",
          "model_name": "FloatProgressModel",
          "model_module_version": "1.5.0",
          "state": {
            "_dom_classes": [],
            "_model_module": "@jupyter-widgets/controls",
            "_model_module_version": "1.5.0",
            "_model_name": "FloatProgressModel",
            "_view_count": null,
            "_view_module": "@jupyter-widgets/controls",
            "_view_module_version": "1.5.0",
            "_view_name": "ProgressView",
            "bar_style": "success",
            "description": "",
            "description_tooltip": null,
            "layout": "IPY_MODEL_983d0bb7abb44d92897a4fd59dce7d30",
            "max": 63,
            "min": 0,
            "orientation": "horizontal",
            "style": "IPY_MODEL_797d9291dc88488b91624c4dfe89b9c2",
            "value": 63
          }
        },
        "4171f59d886848a88599553c441a19fc": {
          "model_module": "@jupyter-widgets/controls",
          "model_name": "HTMLModel",
          "model_module_version": "1.5.0",
          "state": {
            "_dom_classes": [],
            "_model_module": "@jupyter-widgets/controls",
            "_model_module_version": "1.5.0",
            "_model_name": "HTMLModel",
            "_view_count": null,
            "_view_module": "@jupyter-widgets/controls",
            "_view_module_version": "1.5.0",
            "_view_name": "HTMLView",
            "description": "",
            "description_tooltip": null,
            "layout": "IPY_MODEL_1ea1cb5839534d198c3a2ddc2219378b",
            "placeholder": "​",
            "style": "IPY_MODEL_be83ada53c764e088634004ee6a8e925",
            "value": " 63/63 [00:00&lt;00:00, 944.80it/s]"
          }
        },
        "75ded1db06014094862a887cbf025076": {
          "model_module": "@jupyter-widgets/base",
          "model_name": "LayoutModel",
          "model_module_version": "1.2.0",
          "state": {
            "_model_module": "@jupyter-widgets/base",
            "_model_module_version": "1.2.0",
            "_model_name": "LayoutModel",
            "_view_count": null,
            "_view_module": "@jupyter-widgets/base",
            "_view_module_version": "1.2.0",
            "_view_name": "LayoutView",
            "align_content": null,
            "align_items": null,
            "align_self": null,
            "border": null,
            "bottom": null,
            "display": null,
            "flex": null,
            "flex_flow": null,
            "grid_area": null,
            "grid_auto_columns": null,
            "grid_auto_flow": null,
            "grid_auto_rows": null,
            "grid_column": null,
            "grid_gap": null,
            "grid_row": null,
            "grid_template_areas": null,
            "grid_template_columns": null,
            "grid_template_rows": null,
            "height": null,
            "justify_content": null,
            "justify_items": null,
            "left": null,
            "margin": null,
            "max_height": null,
            "max_width": null,
            "min_height": null,
            "min_width": null,
            "object_fit": null,
            "object_position": null,
            "order": null,
            "overflow": null,
            "overflow_x": null,
            "overflow_y": null,
            "padding": null,
            "right": null,
            "top": null,
            "visibility": null,
            "width": null
          }
        },
        "9f21e51063d64e6f84e62650ff8acb5d": {
          "model_module": "@jupyter-widgets/base",
          "model_name": "LayoutModel",
          "model_module_version": "1.2.0",
          "state": {
            "_model_module": "@jupyter-widgets/base",
            "_model_module_version": "1.2.0",
            "_model_name": "LayoutModel",
            "_view_count": null,
            "_view_module": "@jupyter-widgets/base",
            "_view_module_version": "1.2.0",
            "_view_name": "LayoutView",
            "align_content": null,
            "align_items": null,
            "align_self": null,
            "border": null,
            "bottom": null,
            "display": null,
            "flex": null,
            "flex_flow": null,
            "grid_area": null,
            "grid_auto_columns": null,
            "grid_auto_flow": null,
            "grid_auto_rows": null,
            "grid_column": null,
            "grid_gap": null,
            "grid_row": null,
            "grid_template_areas": null,
            "grid_template_columns": null,
            "grid_template_rows": null,
            "height": null,
            "justify_content": null,
            "justify_items": null,
            "left": null,
            "margin": null,
            "max_height": null,
            "max_width": null,
            "min_height": null,
            "min_width": null,
            "object_fit": null,
            "object_position": null,
            "order": null,
            "overflow": null,
            "overflow_x": null,
            "overflow_y": null,
            "padding": null,
            "right": null,
            "top": null,
            "visibility": null,
            "width": null
          }
        },
        "f0a1dbea5cd84021884299c85d6c0665": {
          "model_module": "@jupyter-widgets/controls",
          "model_name": "DescriptionStyleModel",
          "model_module_version": "1.5.0",
          "state": {
            "_model_module": "@jupyter-widgets/controls",
            "_model_module_version": "1.5.0",
            "_model_name": "DescriptionStyleModel",
            "_view_count": null,
            "_view_module": "@jupyter-widgets/base",
            "_view_module_version": "1.2.0",
            "_view_name": "StyleView",
            "description_width": ""
          }
        },
        "983d0bb7abb44d92897a4fd59dce7d30": {
          "model_module": "@jupyter-widgets/base",
          "model_name": "LayoutModel",
          "model_module_version": "1.2.0",
          "state": {
            "_model_module": "@jupyter-widgets/base",
            "_model_module_version": "1.2.0",
            "_model_name": "LayoutModel",
            "_view_count": null,
            "_view_module": "@jupyter-widgets/base",
            "_view_module_version": "1.2.0",
            "_view_name": "LayoutView",
            "align_content": null,
            "align_items": null,
            "align_self": null,
            "border": null,
            "bottom": null,
            "display": null,
            "flex": null,
            "flex_flow": null,
            "grid_area": null,
            "grid_auto_columns": null,
            "grid_auto_flow": null,
            "grid_auto_rows": null,
            "grid_column": null,
            "grid_gap": null,
            "grid_row": null,
            "grid_template_areas": null,
            "grid_template_columns": null,
            "grid_template_rows": null,
            "height": null,
            "justify_content": null,
            "justify_items": null,
            "left": null,
            "margin": null,
            "max_height": null,
            "max_width": null,
            "min_height": null,
            "min_width": null,
            "object_fit": null,
            "object_position": null,
            "order": null,
            "overflow": null,
            "overflow_x": null,
            "overflow_y": null,
            "padding": null,
            "right": null,
            "top": null,
            "visibility": null,
            "width": null
          }
        },
        "797d9291dc88488b91624c4dfe89b9c2": {
          "model_module": "@jupyter-widgets/controls",
          "model_name": "ProgressStyleModel",
          "model_module_version": "1.5.0",
          "state": {
            "_model_module": "@jupyter-widgets/controls",
            "_model_module_version": "1.5.0",
            "_model_name": "ProgressStyleModel",
            "_view_count": null,
            "_view_module": "@jupyter-widgets/base",
            "_view_module_version": "1.2.0",
            "_view_name": "StyleView",
            "bar_color": null,
            "description_width": ""
          }
        },
        "1ea1cb5839534d198c3a2ddc2219378b": {
          "model_module": "@jupyter-widgets/base",
          "model_name": "LayoutModel",
          "model_module_version": "1.2.0",
          "state": {
            "_model_module": "@jupyter-widgets/base",
            "_model_module_version": "1.2.0",
            "_model_name": "LayoutModel",
            "_view_count": null,
            "_view_module": "@jupyter-widgets/base",
            "_view_module_version": "1.2.0",
            "_view_name": "LayoutView",
            "align_content": null,
            "align_items": null,
            "align_self": null,
            "border": null,
            "bottom": null,
            "display": null,
            "flex": null,
            "flex_flow": null,
            "grid_area": null,
            "grid_auto_columns": null,
            "grid_auto_flow": null,
            "grid_auto_rows": null,
            "grid_column": null,
            "grid_gap": null,
            "grid_row": null,
            "grid_template_areas": null,
            "grid_template_columns": null,
            "grid_template_rows": null,
            "height": null,
            "justify_content": null,
            "justify_items": null,
            "left": null,
            "margin": null,
            "max_height": null,
            "max_width": null,
            "min_height": null,
            "min_width": null,
            "object_fit": null,
            "object_position": null,
            "order": null,
            "overflow": null,
            "overflow_x": null,
            "overflow_y": null,
            "padding": null,
            "right": null,
            "top": null,
            "visibility": null,
            "width": null
          }
        },
        "be83ada53c764e088634004ee6a8e925": {
          "model_module": "@jupyter-widgets/controls",
          "model_name": "DescriptionStyleModel",
          "model_module_version": "1.5.0",
          "state": {
            "_model_module": "@jupyter-widgets/controls",
            "_model_module_version": "1.5.0",
            "_model_name": "DescriptionStyleModel",
            "_view_count": null,
            "_view_module": "@jupyter-widgets/base",
            "_view_module_version": "1.2.0",
            "_view_name": "StyleView",
            "description_width": ""
          }
        },
        "c73b72051346411a9e742dfef55206df": {
          "model_module": "@jupyter-widgets/controls",
          "model_name": "HBoxModel",
          "model_module_version": "1.5.0",
          "state": {
            "_dom_classes": [],
            "_model_module": "@jupyter-widgets/controls",
            "_model_module_version": "1.5.0",
            "_model_name": "HBoxModel",
            "_view_count": null,
            "_view_module": "@jupyter-widgets/controls",
            "_view_module_version": "1.5.0",
            "_view_name": "HBoxView",
            "box_style": "",
            "children": [
              "IPY_MODEL_d16bcc82dba94edb9239fc3733c16df9",
              "IPY_MODEL_cef5d33e1ac44a78beb57361718644fb",
              "IPY_MODEL_fc146f2d0cf04e3fadac329e9f9338eb"
            ],
            "layout": "IPY_MODEL_e0b3889b7afd4c7e9608a3f521b55fff"
          }
        },
        "d16bcc82dba94edb9239fc3733c16df9": {
          "model_module": "@jupyter-widgets/controls",
          "model_name": "HTMLModel",
          "model_module_version": "1.5.0",
          "state": {
            "_dom_classes": [],
            "_model_module": "@jupyter-widgets/controls",
            "_model_module_version": "1.5.0",
            "_model_name": "HTMLModel",
            "_view_count": null,
            "_view_module": "@jupyter-widgets/controls",
            "_view_module_version": "1.5.0",
            "_view_name": "HTMLView",
            "description": "",
            "description_tooltip": null,
            "layout": "IPY_MODEL_83d8c215b32a4f67bab2afc73a8c7c0d",
            "placeholder": "​",
            "style": "IPY_MODEL_cc4ae0123f224fec82404993f812fa3e",
            "value": "Map: 100%"
          }
        },
        "cef5d33e1ac44a78beb57361718644fb": {
          "model_module": "@jupyter-widgets/controls",
          "model_name": "FloatProgressModel",
          "model_module_version": "1.5.0",
          "state": {
            "_dom_classes": [],
            "_model_module": "@jupyter-widgets/controls",
            "_model_module_version": "1.5.0",
            "_model_name": "FloatProgressModel",
            "_view_count": null,
            "_view_module": "@jupyter-widgets/controls",
            "_view_module_version": "1.5.0",
            "_view_name": "ProgressView",
            "bar_style": "success",
            "description": "",
            "description_tooltip": null,
            "layout": "IPY_MODEL_42f4cc0b63bd434097e2ce81646069c6",
            "max": 10,
            "min": 0,
            "orientation": "horizontal",
            "style": "IPY_MODEL_85549585768d4af987fb757cd67fd2e4",
            "value": 10
          }
        },
        "fc146f2d0cf04e3fadac329e9f9338eb": {
          "model_module": "@jupyter-widgets/controls",
          "model_name": "HTMLModel",
          "model_module_version": "1.5.0",
          "state": {
            "_dom_classes": [],
            "_model_module": "@jupyter-widgets/controls",
            "_model_module_version": "1.5.0",
            "_model_name": "HTMLModel",
            "_view_count": null,
            "_view_module": "@jupyter-widgets/controls",
            "_view_module_version": "1.5.0",
            "_view_name": "HTMLView",
            "description": "",
            "description_tooltip": null,
            "layout": "IPY_MODEL_8be3efda4bc14628b334827be46ba357",
            "placeholder": "​",
            "style": "IPY_MODEL_e33f69cf9da54cc184c95332d0cb11e5",
            "value": " 10/10 [00:00&lt;00:00, 133.89 examples/s]"
          }
        },
        "e0b3889b7afd4c7e9608a3f521b55fff": {
          "model_module": "@jupyter-widgets/base",
          "model_name": "LayoutModel",
          "model_module_version": "1.2.0",
          "state": {
            "_model_module": "@jupyter-widgets/base",
            "_model_module_version": "1.2.0",
            "_model_name": "LayoutModel",
            "_view_count": null,
            "_view_module": "@jupyter-widgets/base",
            "_view_module_version": "1.2.0",
            "_view_name": "LayoutView",
            "align_content": null,
            "align_items": null,
            "align_self": null,
            "border": null,
            "bottom": null,
            "display": null,
            "flex": null,
            "flex_flow": null,
            "grid_area": null,
            "grid_auto_columns": null,
            "grid_auto_flow": null,
            "grid_auto_rows": null,
            "grid_column": null,
            "grid_gap": null,
            "grid_row": null,
            "grid_template_areas": null,
            "grid_template_columns": null,
            "grid_template_rows": null,
            "height": null,
            "justify_content": null,
            "justify_items": null,
            "left": null,
            "margin": null,
            "max_height": null,
            "max_width": null,
            "min_height": null,
            "min_width": null,
            "object_fit": null,
            "object_position": null,
            "order": null,
            "overflow": null,
            "overflow_x": null,
            "overflow_y": null,
            "padding": null,
            "right": null,
            "top": null,
            "visibility": null,
            "width": null
          }
        },
        "83d8c215b32a4f67bab2afc73a8c7c0d": {
          "model_module": "@jupyter-widgets/base",
          "model_name": "LayoutModel",
          "model_module_version": "1.2.0",
          "state": {
            "_model_module": "@jupyter-widgets/base",
            "_model_module_version": "1.2.0",
            "_model_name": "LayoutModel",
            "_view_count": null,
            "_view_module": "@jupyter-widgets/base",
            "_view_module_version": "1.2.0",
            "_view_name": "LayoutView",
            "align_content": null,
            "align_items": null,
            "align_self": null,
            "border": null,
            "bottom": null,
            "display": null,
            "flex": null,
            "flex_flow": null,
            "grid_area": null,
            "grid_auto_columns": null,
            "grid_auto_flow": null,
            "grid_auto_rows": null,
            "grid_column": null,
            "grid_gap": null,
            "grid_row": null,
            "grid_template_areas": null,
            "grid_template_columns": null,
            "grid_template_rows": null,
            "height": null,
            "justify_content": null,
            "justify_items": null,
            "left": null,
            "margin": null,
            "max_height": null,
            "max_width": null,
            "min_height": null,
            "min_width": null,
            "object_fit": null,
            "object_position": null,
            "order": null,
            "overflow": null,
            "overflow_x": null,
            "overflow_y": null,
            "padding": null,
            "right": null,
            "top": null,
            "visibility": null,
            "width": null
          }
        },
        "cc4ae0123f224fec82404993f812fa3e": {
          "model_module": "@jupyter-widgets/controls",
          "model_name": "DescriptionStyleModel",
          "model_module_version": "1.5.0",
          "state": {
            "_model_module": "@jupyter-widgets/controls",
            "_model_module_version": "1.5.0",
            "_model_name": "DescriptionStyleModel",
            "_view_count": null,
            "_view_module": "@jupyter-widgets/base",
            "_view_module_version": "1.2.0",
            "_view_name": "StyleView",
            "description_width": ""
          }
        },
        "42f4cc0b63bd434097e2ce81646069c6": {
          "model_module": "@jupyter-widgets/base",
          "model_name": "LayoutModel",
          "model_module_version": "1.2.0",
          "state": {
            "_model_module": "@jupyter-widgets/base",
            "_model_module_version": "1.2.0",
            "_model_name": "LayoutModel",
            "_view_count": null,
            "_view_module": "@jupyter-widgets/base",
            "_view_module_version": "1.2.0",
            "_view_name": "LayoutView",
            "align_content": null,
            "align_items": null,
            "align_self": null,
            "border": null,
            "bottom": null,
            "display": null,
            "flex": null,
            "flex_flow": null,
            "grid_area": null,
            "grid_auto_columns": null,
            "grid_auto_flow": null,
            "grid_auto_rows": null,
            "grid_column": null,
            "grid_gap": null,
            "grid_row": null,
            "grid_template_areas": null,
            "grid_template_columns": null,
            "grid_template_rows": null,
            "height": null,
            "justify_content": null,
            "justify_items": null,
            "left": null,
            "margin": null,
            "max_height": null,
            "max_width": null,
            "min_height": null,
            "min_width": null,
            "object_fit": null,
            "object_position": null,
            "order": null,
            "overflow": null,
            "overflow_x": null,
            "overflow_y": null,
            "padding": null,
            "right": null,
            "top": null,
            "visibility": null,
            "width": null
          }
        },
        "85549585768d4af987fb757cd67fd2e4": {
          "model_module": "@jupyter-widgets/controls",
          "model_name": "ProgressStyleModel",
          "model_module_version": "1.5.0",
          "state": {
            "_model_module": "@jupyter-widgets/controls",
            "_model_module_version": "1.5.0",
            "_model_name": "ProgressStyleModel",
            "_view_count": null,
            "_view_module": "@jupyter-widgets/base",
            "_view_module_version": "1.2.0",
            "_view_name": "StyleView",
            "bar_color": null,
            "description_width": ""
          }
        },
        "8be3efda4bc14628b334827be46ba357": {
          "model_module": "@jupyter-widgets/base",
          "model_name": "LayoutModel",
          "model_module_version": "1.2.0",
          "state": {
            "_model_module": "@jupyter-widgets/base",
            "_model_module_version": "1.2.0",
            "_model_name": "LayoutModel",
            "_view_count": null,
            "_view_module": "@jupyter-widgets/base",
            "_view_module_version": "1.2.0",
            "_view_name": "LayoutView",
            "align_content": null,
            "align_items": null,
            "align_self": null,
            "border": null,
            "bottom": null,
            "display": null,
            "flex": null,
            "flex_flow": null,
            "grid_area": null,
            "grid_auto_columns": null,
            "grid_auto_flow": null,
            "grid_auto_rows": null,
            "grid_column": null,
            "grid_gap": null,
            "grid_row": null,
            "grid_template_areas": null,
            "grid_template_columns": null,
            "grid_template_rows": null,
            "height": null,
            "justify_content": null,
            "justify_items": null,
            "left": null,
            "margin": null,
            "max_height": null,
            "max_width": null,
            "min_height": null,
            "min_width": null,
            "object_fit": null,
            "object_position": null,
            "order": null,
            "overflow": null,
            "overflow_x": null,
            "overflow_y": null,
            "padding": null,
            "right": null,
            "top": null,
            "visibility": null,
            "width": null
          }
        },
        "e33f69cf9da54cc184c95332d0cb11e5": {
          "model_module": "@jupyter-widgets/controls",
          "model_name": "DescriptionStyleModel",
          "model_module_version": "1.5.0",
          "state": {
            "_model_module": "@jupyter-widgets/controls",
            "_model_module_version": "1.5.0",
            "_model_name": "DescriptionStyleModel",
            "_view_count": null,
            "_view_module": "@jupyter-widgets/base",
            "_view_module_version": "1.2.0",
            "_view_name": "StyleView",
            "description_width": ""
          }
        }
      }
    }
  },
  "cells": [
    {
      "cell_type": "markdown",
      "metadata": {
        "id": "view-in-github",
        "colab_type": "text"
      },
      "source": [
        "<a href=\"https://colab.research.google.com/github/Suryash-Malviya/TTS/blob/main/suryash/StyleTTS2_Demo_LJSpeech_4.ipynb\" target=\"_parent\"><img src=\"https://colab.research.google.com/assets/colab-badge.svg\" alt=\"Open In Colab\"/></a>"
      ]
    },
    {
      "cell_type": "markdown",
      "source": [
        "### Install packages and download models"
      ],
      "metadata": {
        "id": "nm653VK4CG9F"
      }
    },
    {
      "cell_type": "code",
      "source": [
        "# This is a new part for testing"
      ],
      "metadata": {
        "id": "56OsJTblNYcC"
      },
      "execution_count": null,
      "outputs": []
    },
    {
      "cell_type": "code",
      "source": [
        "from google.colab import drive\n",
        "drive.mount('/content/drive')\n"
      ],
      "metadata": {
        "id": "DRtJp4cd2EiK",
        "colab": {
          "base_uri": "https://localhost:8080/"
        },
        "outputId": "73f4ee16-20be-45a6-db72-4ab39778adc7"
      },
      "execution_count": null,
      "outputs": [
        {
          "output_type": "stream",
          "name": "stdout",
          "text": [
            "Drive already mounted at /content/drive; to attempt to forcibly remount, call drive.mount(\"/content/drive\", force_remount=True).\n"
          ]
        }
      ]
    },
    {
      "cell_type": "code",
      "source": [
        "%%shell\n",
        "# Setup the project directory and ensure that we do not repeat cloning or installations if they already exist\n",
        "mkdir -p /content/drive/MyDrive/StyleTTS2\n",
        "cd /content/drive/MyDrive/StyleTTS2\n",
        "\n",
        "# Clone the repository if it doesn't already exist and setup the environment\n",
        "if [ ! -d \"StyleTTS2\" ]; then\n",
        "    git clone https://github.com/yl4579/StyleTTS2.git\n",
        "    cd StyleTTS2\n",
        "else\n",
        "    cd StyleTTS2\n",
        "fi\n",
        "\n",
        "# Check if dependencies are already installed, install if not\n",
        "pip freeze | grep SoundFile || pip install SoundFile torchaudio munch torch pydub pyyaml librosa nltk matplotlib accelerate transformers phonemizer datasets einops einops-exts tqdm typing-extensions git+https://github.com/resemble-ai/monotonic_align.git\n",
        "dpkg -l | grep espeak-ng || sudo apt-get install espeak-ng\n",
        "\n",
        "# Download models using git-lfs if they aren't already downloaded\n",
        "if [ ! -d \"Models\" ]; then\n",
        "    git-lfs clone https://huggingface.co/yl4579/StyleTTS2-LJSpeech\n",
        "    mv StyleTTS2-LJSpeech/Models .\n",
        "fi\n"
      ],
      "metadata": {
        "id": "IDFdg_sW2Bh3",
        "colab": {
          "base_uri": "https://localhost:8080/"
        },
        "outputId": "cb9fab2c-5804-4ca4-ad47-33d55ee9a860"
      },
      "execution_count": 1,
      "outputs": [
        {
          "output_type": "stream",
          "name": "stdout",
          "text": [
            "Cloning into 'StyleTTS2'...\n",
            "remote: Enumerating objects: 372, done.\u001b[K\n",
            "remote: Total 372 (delta 0), reused 0 (delta 0), pack-reused 372 (from 1)\u001b[K\n",
            "Receiving objects: 100% (372/372), 133.98 MiB | 22.20 MiB/s, done.\n",
            "Resolving deltas: 100% (199/199), done.\n",
            "Updating files: 100% (48/48), done.\n",
            "Collecting git+https://github.com/resemble-ai/monotonic_align.git\n",
            "  Cloning https://github.com/resemble-ai/monotonic_align.git to /tmp/pip-req-build-kw11wwos\n",
            "  Running command git clone --filter=blob:none --quiet https://github.com/resemble-ai/monotonic_align.git /tmp/pip-req-build-kw11wwos\n",
            "  Resolved https://github.com/resemble-ai/monotonic_align.git to commit 78b985be210a03d08bc3acc01c4df0442105366f\n",
            "  Installing build dependencies ... \u001b[?25l\u001b[?25hdone\n",
            "  Getting requirements to build wheel ... \u001b[?25l\u001b[?25hdone\n",
            "  Preparing metadata (pyproject.toml) ... \u001b[?25l\u001b[?25hdone\n",
            "Requirement already satisfied: SoundFile in /usr/local/lib/python3.10/dist-packages (0.12.1)\n",
            "Requirement already satisfied: torchaudio in /usr/local/lib/python3.10/dist-packages (2.5.1+cu121)\n",
            "Collecting munch\n",
            "  Downloading munch-4.0.0-py2.py3-none-any.whl.metadata (5.9 kB)\n",
            "Requirement already satisfied: torch in /usr/local/lib/python3.10/dist-packages (2.5.1+cu121)\n",
            "Collecting pydub\n",
            "  Downloading pydub-0.25.1-py2.py3-none-any.whl.metadata (1.4 kB)\n",
            "Requirement already satisfied: pyyaml in /usr/local/lib/python3.10/dist-packages (6.0.2)\n",
            "Requirement already satisfied: librosa in /usr/local/lib/python3.10/dist-packages (0.10.2.post1)\n",
            "Requirement already satisfied: nltk in /usr/local/lib/python3.10/dist-packages (3.9.1)\n",
            "Requirement already satisfied: matplotlib in /usr/local/lib/python3.10/dist-packages (3.8.0)\n",
            "Requirement already satisfied: accelerate in /usr/local/lib/python3.10/dist-packages (1.1.1)\n",
            "Requirement already satisfied: transformers in /usr/local/lib/python3.10/dist-packages (4.46.3)\n",
            "Collecting phonemizer\n",
            "  Downloading phonemizer-3.3.0-py3-none-any.whl.metadata (48 kB)\n",
            "\u001b[2K     \u001b[90m━━━━━━━━━━━━━━━━━━━━━━━━━━━━━━━━━━━━━━━━\u001b[0m \u001b[32m48.2/48.2 kB\u001b[0m \u001b[31m1.7 MB/s\u001b[0m eta \u001b[36m0:00:00\u001b[0m\n",
            "\u001b[?25hCollecting datasets\n",
            "  Downloading datasets-3.2.0-py3-none-any.whl.metadata (20 kB)\n",
            "Requirement already satisfied: einops in /usr/local/lib/python3.10/dist-packages (0.8.0)\n",
            "Collecting einops-exts\n",
            "  Downloading einops_exts-0.0.4-py3-none-any.whl.metadata (621 bytes)\n",
            "Requirement already satisfied: tqdm in /usr/local/lib/python3.10/dist-packages (4.66.6)\n",
            "Requirement already satisfied: typing-extensions in /usr/local/lib/python3.10/dist-packages (4.12.2)\n",
            "Requirement already satisfied: cffi>=1.0 in /usr/local/lib/python3.10/dist-packages (from SoundFile) (1.17.1)\n",
            "Requirement already satisfied: filelock in /usr/local/lib/python3.10/dist-packages (from torch) (3.16.1)\n",
            "Requirement already satisfied: networkx in /usr/local/lib/python3.10/dist-packages (from torch) (3.4.2)\n",
            "Requirement already satisfied: jinja2 in /usr/local/lib/python3.10/dist-packages (from torch) (3.1.4)\n",
            "Requirement already satisfied: fsspec in /usr/local/lib/python3.10/dist-packages (from torch) (2024.10.0)\n",
            "Requirement already satisfied: sympy==1.13.1 in /usr/local/lib/python3.10/dist-packages (from torch) (1.13.1)\n",
            "Requirement already satisfied: mpmath<1.4,>=1.1.0 in /usr/local/lib/python3.10/dist-packages (from sympy==1.13.1->torch) (1.3.0)\n",
            "Requirement already satisfied: audioread>=2.1.9 in /usr/local/lib/python3.10/dist-packages (from librosa) (3.0.1)\n",
            "Requirement already satisfied: numpy!=1.22.0,!=1.22.1,!=1.22.2,>=1.20.3 in /usr/local/lib/python3.10/dist-packages (from librosa) (1.26.4)\n",
            "Requirement already satisfied: scipy>=1.2.0 in /usr/local/lib/python3.10/dist-packages (from librosa) (1.13.1)\n",
            "Requirement already satisfied: scikit-learn>=0.20.0 in /usr/local/lib/python3.10/dist-packages (from librosa) (1.5.2)\n",
            "Requirement already satisfied: joblib>=0.14 in /usr/local/lib/python3.10/dist-packages (from librosa) (1.4.2)\n",
            "Requirement already satisfied: decorator>=4.3.0 in /usr/local/lib/python3.10/dist-packages (from librosa) (4.4.2)\n",
            "Requirement already satisfied: numba>=0.51.0 in /usr/local/lib/python3.10/dist-packages (from librosa) (0.60.0)\n",
            "Requirement already satisfied: pooch>=1.1 in /usr/local/lib/python3.10/dist-packages (from librosa) (1.8.2)\n",
            "Requirement already satisfied: soxr>=0.3.2 in /usr/local/lib/python3.10/dist-packages (from librosa) (0.5.0.post1)\n",
            "Requirement already satisfied: lazy-loader>=0.1 in /usr/local/lib/python3.10/dist-packages (from librosa) (0.4)\n",
            "Requirement already satisfied: msgpack>=1.0 in /usr/local/lib/python3.10/dist-packages (from librosa) (1.1.0)\n",
            "Requirement already satisfied: click in /usr/local/lib/python3.10/dist-packages (from nltk) (8.1.7)\n",
            "Requirement already satisfied: regex>=2021.8.3 in /usr/local/lib/python3.10/dist-packages (from nltk) (2024.9.11)\n",
            "Requirement already satisfied: contourpy>=1.0.1 in /usr/local/lib/python3.10/dist-packages (from matplotlib) (1.3.1)\n",
            "Requirement already satisfied: cycler>=0.10 in /usr/local/lib/python3.10/dist-packages (from matplotlib) (0.12.1)\n",
            "Requirement already satisfied: fonttools>=4.22.0 in /usr/local/lib/python3.10/dist-packages (from matplotlib) (4.55.1)\n",
            "Requirement already satisfied: kiwisolver>=1.0.1 in /usr/local/lib/python3.10/dist-packages (from matplotlib) (1.4.7)\n",
            "Requirement already satisfied: packaging>=20.0 in /usr/local/lib/python3.10/dist-packages (from matplotlib) (24.2)\n",
            "Requirement already satisfied: pillow>=6.2.0 in /usr/local/lib/python3.10/dist-packages (from matplotlib) (11.0.0)\n",
            "Requirement already satisfied: pyparsing>=2.3.1 in /usr/local/lib/python3.10/dist-packages (from matplotlib) (3.2.0)\n",
            "Requirement already satisfied: python-dateutil>=2.7 in /usr/local/lib/python3.10/dist-packages (from matplotlib) (2.8.2)\n",
            "Requirement already satisfied: huggingface-hub>=0.21.0 in /usr/local/lib/python3.10/dist-packages (from accelerate) (0.26.3)\n",
            "Requirement already satisfied: psutil in /usr/local/lib/python3.10/dist-packages (from accelerate) (5.9.5)\n",
            "Requirement already satisfied: safetensors>=0.4.3 in /usr/local/lib/python3.10/dist-packages (from accelerate) (0.4.5)\n",
            "Requirement already satisfied: requests in /usr/local/lib/python3.10/dist-packages (from transformers) (2.32.3)\n",
            "Requirement already satisfied: tokenizers<0.21,>=0.20 in /usr/local/lib/python3.10/dist-packages (from transformers) (0.20.3)\n",
            "Collecting segments (from phonemizer)\n",
            "  Downloading segments-2.2.1-py2.py3-none-any.whl.metadata (3.3 kB)\n",
            "Requirement already satisfied: attrs>=18.1 in /usr/local/lib/python3.10/dist-packages (from phonemizer) (24.2.0)\n",
            "Collecting dlinfo (from phonemizer)\n",
            "  Downloading dlinfo-1.2.1-py3-none-any.whl.metadata (1.1 kB)\n",
            "Requirement already satisfied: pyarrow>=15.0.0 in /usr/local/lib/python3.10/dist-packages (from datasets) (17.0.0)\n",
            "Collecting dill<0.3.9,>=0.3.0 (from datasets)\n",
            "  Downloading dill-0.3.8-py3-none-any.whl.metadata (10 kB)\n",
            "Requirement already satisfied: pandas in /usr/local/lib/python3.10/dist-packages (from datasets) (2.2.2)\n",
            "Collecting xxhash (from datasets)\n",
            "  Downloading xxhash-3.5.0-cp310-cp310-manylinux_2_17_x86_64.manylinux2014_x86_64.whl.metadata (12 kB)\n",
            "Collecting multiprocess<0.70.17 (from datasets)\n",
            "  Downloading multiprocess-0.70.16-py310-none-any.whl.metadata (7.2 kB)\n",
            "Collecting fsspec (from torch)\n",
            "  Downloading fsspec-2024.9.0-py3-none-any.whl.metadata (11 kB)\n",
            "Requirement already satisfied: aiohttp in /usr/local/lib/python3.10/dist-packages (from datasets) (3.11.9)\n",
            "Requirement already satisfied: pycparser in /usr/local/lib/python3.10/dist-packages (from cffi>=1.0->SoundFile) (2.22)\n",
            "Requirement already satisfied: aiohappyeyeballs>=2.3.0 in /usr/local/lib/python3.10/dist-packages (from aiohttp->datasets) (2.4.4)\n",
            "Requirement already satisfied: aiosignal>=1.1.2 in /usr/local/lib/python3.10/dist-packages (from aiohttp->datasets) (1.3.1)\n",
            "Requirement already satisfied: async-timeout<6.0,>=4.0 in /usr/local/lib/python3.10/dist-packages (from aiohttp->datasets) (4.0.3)\n",
            "Requirement already satisfied: frozenlist>=1.1.1 in /usr/local/lib/python3.10/dist-packages (from aiohttp->datasets) (1.5.0)\n",
            "Requirement already satisfied: multidict<7.0,>=4.5 in /usr/local/lib/python3.10/dist-packages (from aiohttp->datasets) (6.1.0)\n",
            "Requirement already satisfied: propcache>=0.2.0 in /usr/local/lib/python3.10/dist-packages (from aiohttp->datasets) (0.2.1)\n",
            "Requirement already satisfied: yarl<2.0,>=1.17.0 in /usr/local/lib/python3.10/dist-packages (from aiohttp->datasets) (1.18.3)\n",
            "Requirement already satisfied: llvmlite<0.44,>=0.43.0dev0 in /usr/local/lib/python3.10/dist-packages (from numba>=0.51.0->librosa) (0.43.0)\n",
            "Requirement already satisfied: platformdirs>=2.5.0 in /usr/local/lib/python3.10/dist-packages (from pooch>=1.1->librosa) (4.3.6)\n",
            "Requirement already satisfied: six>=1.5 in /usr/local/lib/python3.10/dist-packages (from python-dateutil>=2.7->matplotlib) (1.16.0)\n",
            "Requirement already satisfied: charset-normalizer<4,>=2 in /usr/local/lib/python3.10/dist-packages (from requests->transformers) (3.4.0)\n",
            "Requirement already satisfied: idna<4,>=2.5 in /usr/local/lib/python3.10/dist-packages (from requests->transformers) (3.10)\n",
            "Requirement already satisfied: urllib3<3,>=1.21.1 in /usr/local/lib/python3.10/dist-packages (from requests->transformers) (2.2.3)\n",
            "Requirement already satisfied: certifi>=2017.4.17 in /usr/local/lib/python3.10/dist-packages (from requests->transformers) (2024.8.30)\n",
            "Requirement already satisfied: threadpoolctl>=3.1.0 in /usr/local/lib/python3.10/dist-packages (from scikit-learn>=0.20.0->librosa) (3.5.0)\n",
            "Requirement already satisfied: MarkupSafe>=2.0 in /usr/local/lib/python3.10/dist-packages (from jinja2->torch) (3.0.2)\n",
            "Requirement already satisfied: pytz>=2020.1 in /usr/local/lib/python3.10/dist-packages (from pandas->datasets) (2024.2)\n",
            "Requirement already satisfied: tzdata>=2022.7 in /usr/local/lib/python3.10/dist-packages (from pandas->datasets) (2024.2)\n",
            "Collecting clldutils>=1.7.3 (from segments->phonemizer)\n",
            "  Downloading clldutils-3.24.0-py2.py3-none-any.whl.metadata (3.0 kB)\n",
            "Collecting csvw>=1.5.6 (from segments->phonemizer)\n",
            "  Downloading csvw-3.5.1-py2.py3-none-any.whl.metadata (10 kB)\n",
            "Requirement already satisfied: tabulate>=0.7.7 in /usr/local/lib/python3.10/dist-packages (from clldutils>=1.7.3->segments->phonemizer) (0.9.0)\n",
            "Collecting colorlog (from clldutils>=1.7.3->segments->phonemizer)\n",
            "  Downloading colorlog-6.9.0-py3-none-any.whl.metadata (10 kB)\n",
            "Collecting bibtexparser>=2.0.0b4 (from clldutils>=1.7.3->segments->phonemizer)\n",
            "  Downloading bibtexparser-2.0.0b8-py3-none-any.whl.metadata (5.4 kB)\n",
            "Collecting pylatexenc (from clldutils>=1.7.3->segments->phonemizer)\n",
            "  Downloading pylatexenc-2.10.tar.gz (162 kB)\n",
            "\u001b[2K     \u001b[90m━━━━━━━━━━━━━━━━━━━━━━━━━━━━━━━━━━━━━━━━\u001b[0m \u001b[32m162.6/162.6 kB\u001b[0m \u001b[31m6.1 MB/s\u001b[0m eta \u001b[36m0:00:00\u001b[0m\n",
            "\u001b[?25h  Preparing metadata (setup.py) ... \u001b[?25l\u001b[?25hdone\n",
            "Requirement already satisfied: markdown in /usr/local/lib/python3.10/dist-packages (from clldutils>=1.7.3->segments->phonemizer) (3.7)\n",
            "Requirement already satisfied: lxml in /usr/local/lib/python3.10/dist-packages (from clldutils>=1.7.3->segments->phonemizer) (5.3.0)\n",
            "Collecting isodate (from csvw>=1.5.6->segments->phonemizer)\n",
            "  Downloading isodate-0.7.2-py3-none-any.whl.metadata (11 kB)\n",
            "Collecting rfc3986<2 (from csvw>=1.5.6->segments->phonemizer)\n",
            "  Downloading rfc3986-1.5.0-py2.py3-none-any.whl.metadata (6.5 kB)\n",
            "Requirement already satisfied: uritemplate>=3.0.0 in /usr/local/lib/python3.10/dist-packages (from csvw>=1.5.6->segments->phonemizer) (4.1.1)\n",
            "Requirement already satisfied: babel in /usr/local/lib/python3.10/dist-packages (from csvw>=1.5.6->segments->phonemizer) (2.16.0)\n",
            "Collecting language-tags (from csvw>=1.5.6->segments->phonemizer)\n",
            "  Downloading language_tags-1.2.0-py3-none-any.whl.metadata (2.1 kB)\n",
            "Collecting rdflib (from csvw>=1.5.6->segments->phonemizer)\n",
            "  Downloading rdflib-7.1.1-py3-none-any.whl.metadata (11 kB)\n",
            "Collecting colorama (from csvw>=1.5.6->segments->phonemizer)\n",
            "  Downloading colorama-0.4.6-py2.py3-none-any.whl.metadata (17 kB)\n",
            "Requirement already satisfied: jsonschema in /usr/local/lib/python3.10/dist-packages (from csvw>=1.5.6->segments->phonemizer) (4.23.0)\n",
            "Requirement already satisfied: jsonschema-specifications>=2023.03.6 in /usr/local/lib/python3.10/dist-packages (from jsonschema->csvw>=1.5.6->segments->phonemizer) (2024.10.1)\n",
            "Requirement already satisfied: referencing>=0.28.4 in /usr/local/lib/python3.10/dist-packages (from jsonschema->csvw>=1.5.6->segments->phonemizer) (0.35.1)\n",
            "Requirement already satisfied: rpds-py>=0.7.1 in /usr/local/lib/python3.10/dist-packages (from jsonschema->csvw>=1.5.6->segments->phonemizer) (0.22.3)\n",
            "Downloading munch-4.0.0-py2.py3-none-any.whl (9.9 kB)\n",
            "Downloading pydub-0.25.1-py2.py3-none-any.whl (32 kB)\n",
            "Downloading phonemizer-3.3.0-py3-none-any.whl (103 kB)\n",
            "\u001b[2K   \u001b[90m━━━━━━━━━━━━━━━━━━━━━━━━━━━━━━━━━━━━━━━━\u001b[0m \u001b[32m103.8/103.8 kB\u001b[0m \u001b[31m7.5 MB/s\u001b[0m eta \u001b[36m0:00:00\u001b[0m\n",
            "\u001b[?25hDownloading datasets-3.2.0-py3-none-any.whl (480 kB)\n",
            "\u001b[2K   \u001b[90m━━━━━━━━━━━━━━━━━━━━━━━━━━━━━━━━━━━━━━━━\u001b[0m \u001b[32m480.6/480.6 kB\u001b[0m \u001b[31m16.8 MB/s\u001b[0m eta \u001b[36m0:00:00\u001b[0m\n",
            "\u001b[?25hDownloading einops_exts-0.0.4-py3-none-any.whl (3.9 kB)\n",
            "Downloading dill-0.3.8-py3-none-any.whl (116 kB)\n",
            "\u001b[2K   \u001b[90m━━━━━━━━━━━━━━━━━━━━━━━━━━━━━━━━━━━━━━━━\u001b[0m \u001b[32m116.3/116.3 kB\u001b[0m \u001b[31m9.6 MB/s\u001b[0m eta \u001b[36m0:00:00\u001b[0m\n",
            "\u001b[?25hDownloading fsspec-2024.9.0-py3-none-any.whl (179 kB)\n",
            "\u001b[2K   \u001b[90m━━━━━━━━━━━━━━━━━━━━━━━━━━━━━━━━━━━━━━━━\u001b[0m \u001b[32m179.3/179.3 kB\u001b[0m \u001b[31m14.0 MB/s\u001b[0m eta \u001b[36m0:00:00\u001b[0m\n",
            "\u001b[?25hDownloading multiprocess-0.70.16-py310-none-any.whl (134 kB)\n",
            "\u001b[2K   \u001b[90m━━━━━━━━━━━━━━━━━━━━━━━━━━━━━━━━━━━━━━━━\u001b[0m \u001b[32m134.8/134.8 kB\u001b[0m \u001b[31m10.6 MB/s\u001b[0m eta \u001b[36m0:00:00\u001b[0m\n",
            "\u001b[?25hDownloading dlinfo-1.2.1-py3-none-any.whl (3.6 kB)\n",
            "Downloading segments-2.2.1-py2.py3-none-any.whl (15 kB)\n",
            "Downloading xxhash-3.5.0-cp310-cp310-manylinux_2_17_x86_64.manylinux2014_x86_64.whl (194 kB)\n",
            "\u001b[2K   \u001b[90m━━━━━━━━━━━━━━━━━━━━━━━━━━━━━━━━━━━━━━━━\u001b[0m \u001b[32m194.1/194.1 kB\u001b[0m \u001b[31m16.5 MB/s\u001b[0m eta \u001b[36m0:00:00\u001b[0m\n",
            "\u001b[?25hDownloading clldutils-3.24.0-py2.py3-none-any.whl (1.7 MB)\n",
            "\u001b[2K   \u001b[90m━━━━━━━━━━━━━━━━━━━━━━━━━━━━━━━━━━━━━━━━\u001b[0m \u001b[32m1.7/1.7 MB\u001b[0m \u001b[31m49.0 MB/s\u001b[0m eta \u001b[36m0:00:00\u001b[0m\n",
            "\u001b[?25hDownloading csvw-3.5.1-py2.py3-none-any.whl (59 kB)\n",
            "\u001b[2K   \u001b[90m━━━━━━━━━━━━━━━━━━━━━━━━━━━━━━━━━━━━━━━━\u001b[0m \u001b[32m59.9/59.9 kB\u001b[0m \u001b[31m5.0 MB/s\u001b[0m eta \u001b[36m0:00:00\u001b[0m\n",
            "\u001b[?25hDownloading bibtexparser-2.0.0b8-py3-none-any.whl (39 kB)\n",
            "Downloading rfc3986-1.5.0-py2.py3-none-any.whl (31 kB)\n",
            "Downloading colorama-0.4.6-py2.py3-none-any.whl (25 kB)\n",
            "Downloading colorlog-6.9.0-py3-none-any.whl (11 kB)\n",
            "Downloading isodate-0.7.2-py3-none-any.whl (22 kB)\n",
            "Downloading language_tags-1.2.0-py3-none-any.whl (213 kB)\n",
            "\u001b[2K   \u001b[90m━━━━━━━━━━━━━━━━━━━━━━━━━━━━━━━━━━━━━━━━\u001b[0m \u001b[32m213.4/213.4 kB\u001b[0m \u001b[31m16.2 MB/s\u001b[0m eta \u001b[36m0:00:00\u001b[0m\n",
            "\u001b[?25hDownloading rdflib-7.1.1-py3-none-any.whl (562 kB)\n",
            "\u001b[2K   \u001b[90m━━━━━━━━━━━━━━━━━━━━━━━━━━━━━━━━━━━━━━━━\u001b[0m \u001b[32m562.4/562.4 kB\u001b[0m \u001b[31m32.8 MB/s\u001b[0m eta \u001b[36m0:00:00\u001b[0m\n",
            "\u001b[?25hBuilding wheels for collected packages: monotonic_align, pylatexenc\n",
            "  Building wheel for monotonic_align (pyproject.toml) ... \u001b[?25l\u001b[?25hdone\n",
            "  Created wheel for monotonic_align: filename=monotonic_align-1.2-cp310-cp310-linux_x86_64.whl size=1418905 sha256=8e3cbd8ec7b664e457fc5f76c51c675c9378938b9b1a1a4365eb3d10ca53e4e8\n",
            "  Stored in directory: /tmp/pip-ephem-wheel-cache-c9ispqxh/wheels/62/6e/e2/2758abe7d7bf44cf150d943471be9836770e7c40c1daf4b7bd\n",
            "  Building wheel for pylatexenc (setup.py) ... \u001b[?25l\u001b[?25hdone\n",
            "  Created wheel for pylatexenc: filename=pylatexenc-2.10-py3-none-any.whl size=136816 sha256=61ef540a1719aee4df6512f1c9d80cbaa88772c42181b25aac0f32a7e96e423e\n",
            "  Stored in directory: /root/.cache/pip/wheels/d3/31/8b/e09b0386afd80cfc556c00408c9aeea5c35c4d484a9c762fd5\n",
            "Successfully built monotonic_align pylatexenc\n",
            "Installing collected packages: rfc3986, pylatexenc, pydub, language-tags, dlinfo, xxhash, munch, monotonic_align, isodate, fsspec, einops-exts, dill, colorlog, colorama, bibtexparser, rdflib, multiprocess, clldutils, csvw, segments, datasets, phonemizer\n",
            "  Attempting uninstall: fsspec\n",
            "    Found existing installation: fsspec 2024.10.0\n",
            "    Uninstalling fsspec-2024.10.0:\n",
            "      Successfully uninstalled fsspec-2024.10.0\n",
            "\u001b[31mERROR: pip's dependency resolver does not currently take into account all the packages that are installed. This behaviour is the source of the following dependency conflicts.\n",
            "gcsfs 2024.10.0 requires fsspec==2024.10.0, but you have fsspec 2024.9.0 which is incompatible.\u001b[0m\u001b[31m\n",
            "\u001b[0mSuccessfully installed bibtexparser-2.0.0b8 clldutils-3.24.0 colorama-0.4.6 colorlog-6.9.0 csvw-3.5.1 datasets-3.2.0 dill-0.3.8 dlinfo-1.2.1 einops-exts-0.0.4 fsspec-2024.9.0 isodate-0.7.2 language-tags-1.2.0 monotonic_align-1.2 multiprocess-0.70.16 munch-4.0.0 phonemizer-3.3.0 pydub-0.25.1 pylatexenc-2.10 rdflib-7.1.1 rfc3986-1.5.0 segments-2.2.1 xxhash-3.5.0\n",
            "Reading package lists... Done\n",
            "Building dependency tree... Done\n",
            "Reading state information... Done\n",
            "The following additional packages will be installed:\n",
            "  espeak-ng-data libespeak-ng1 libpcaudio0 libsonic0\n",
            "The following NEW packages will be installed:\n",
            "  espeak-ng espeak-ng-data libespeak-ng1 libpcaudio0 libsonic0\n",
            "0 upgraded, 5 newly installed, 0 to remove and 49 not upgraded.\n",
            "Need to get 4,526 kB of archives.\n",
            "After this operation, 11.9 MB of additional disk space will be used.\n",
            "Get:1 http://archive.ubuntu.com/ubuntu jammy/main amd64 libpcaudio0 amd64 1.1-6build2 [8,956 B]\n",
            "Get:2 http://archive.ubuntu.com/ubuntu jammy/main amd64 libsonic0 amd64 0.2.0-11build1 [10.3 kB]\n",
            "Get:3 http://archive.ubuntu.com/ubuntu jammy-updates/main amd64 espeak-ng-data amd64 1.50+dfsg-10ubuntu0.1 [3,956 kB]\n",
            "Get:4 http://archive.ubuntu.com/ubuntu jammy-updates/main amd64 libespeak-ng1 amd64 1.50+dfsg-10ubuntu0.1 [207 kB]\n",
            "Get:5 http://archive.ubuntu.com/ubuntu jammy-updates/universe amd64 espeak-ng amd64 1.50+dfsg-10ubuntu0.1 [343 kB]\n",
            "Fetched 4,526 kB in 2s (1,887 kB/s)\n",
            "debconf: unable to initialize frontend: Dialog\n",
            "debconf: (No usable dialog-like program is installed, so the dialog based frontend cannot be used. at /usr/share/perl5/Debconf/FrontEnd/Dialog.pm line 78, <> line 5.)\n",
            "debconf: falling back to frontend: Readline\n",
            "debconf: unable to initialize frontend: Readline\n",
            "debconf: (This frontend requires a controlling tty.)\n",
            "debconf: falling back to frontend: Teletype\n",
            "dpkg-preconfigure: unable to re-open stdin: \n",
            "Selecting previously unselected package libpcaudio0:amd64.\n",
            "(Reading database ... 123632 files and directories currently installed.)\n",
            "Preparing to unpack .../libpcaudio0_1.1-6build2_amd64.deb ...\n",
            "Unpacking libpcaudio0:amd64 (1.1-6build2) ...\n",
            "Selecting previously unselected package libsonic0:amd64.\n",
            "Preparing to unpack .../libsonic0_0.2.0-11build1_amd64.deb ...\n",
            "Unpacking libsonic0:amd64 (0.2.0-11build1) ...\n",
            "Selecting previously unselected package espeak-ng-data:amd64.\n",
            "Preparing to unpack .../espeak-ng-data_1.50+dfsg-10ubuntu0.1_amd64.deb ...\n",
            "Unpacking espeak-ng-data:amd64 (1.50+dfsg-10ubuntu0.1) ...\n",
            "Selecting previously unselected package libespeak-ng1:amd64.\n",
            "Preparing to unpack .../libespeak-ng1_1.50+dfsg-10ubuntu0.1_amd64.deb ...\n",
            "Unpacking libespeak-ng1:amd64 (1.50+dfsg-10ubuntu0.1) ...\n",
            "Selecting previously unselected package espeak-ng.\n",
            "Preparing to unpack .../espeak-ng_1.50+dfsg-10ubuntu0.1_amd64.deb ...\n",
            "Unpacking espeak-ng (1.50+dfsg-10ubuntu0.1) ...\n",
            "Setting up libpcaudio0:amd64 (1.1-6build2) ...\n",
            "Setting up libsonic0:amd64 (0.2.0-11build1) ...\n",
            "Setting up espeak-ng-data:amd64 (1.50+dfsg-10ubuntu0.1) ...\n",
            "Setting up libespeak-ng1:amd64 (1.50+dfsg-10ubuntu0.1) ...\n",
            "Setting up espeak-ng (1.50+dfsg-10ubuntu0.1) ...\n",
            "Processing triggers for man-db (2.10.2-1) ...\n",
            "Processing triggers for libc-bin (2.35-0ubuntu3.4) ...\n",
            "/sbin/ldconfig.real: /usr/local/lib/libtbbbind_2_0.so.3 is not a symbolic link\n",
            "\n",
            "/sbin/ldconfig.real: /usr/local/lib/libtcm_debug.so.1 is not a symbolic link\n",
            "\n",
            "/sbin/ldconfig.real: /usr/local/lib/libtcm.so.1 is not a symbolic link\n",
            "\n",
            "/sbin/ldconfig.real: /usr/local/lib/libumf.so.0 is not a symbolic link\n",
            "\n",
            "/sbin/ldconfig.real: /usr/local/lib/libtbb.so.12 is not a symbolic link\n",
            "\n",
            "/sbin/ldconfig.real: /usr/local/lib/libur_adapter_opencl.so.0 is not a symbolic link\n",
            "\n",
            "/sbin/ldconfig.real: /usr/local/lib/libtbbmalloc.so.2 is not a symbolic link\n",
            "\n",
            "/sbin/ldconfig.real: /usr/local/lib/libur_loader.so.0 is not a symbolic link\n",
            "\n",
            "/sbin/ldconfig.real: /usr/local/lib/libtbbbind.so.3 is not a symbolic link\n",
            "\n",
            "/sbin/ldconfig.real: /usr/local/lib/libtbbmalloc_proxy.so.2 is not a symbolic link\n",
            "\n",
            "/sbin/ldconfig.real: /usr/local/lib/libhwloc.so.15 is not a symbolic link\n",
            "\n",
            "/sbin/ldconfig.real: /usr/local/lib/libtbbbind_2_5.so.3 is not a symbolic link\n",
            "\n",
            "/sbin/ldconfig.real: /usr/local/lib/libur_adapter_level_zero.so.0 is not a symbolic link\n",
            "\n",
            "WARNING: 'git lfs clone' is deprecated and will not be updated\n",
            "          with new flags from 'git clone'\n",
            "\n",
            "'git clone' has been updated in upstream Git to have comparable\n",
            "speeds to 'git lfs clone'.\n",
            "Cloning into 'StyleTTS2-LJSpeech'...\n",
            "remote: Enumerating objects: 20, done.\u001b[K\n",
            "remote: Counting objects: 100% (16/16), done.\u001b[K\n",
            "remote: Compressing objects: 100% (13/13), done.\u001b[K\n",
            "remote: Total 20 (delta 1), reused 0 (delta 0), pack-reused 4 (from 1)\u001b[K\n",
            "Unpacking objects: 100% (20/20), 3.22 KiB | 660.00 KiB/s, done.\n"
          ]
        },
        {
          "output_type": "execute_result",
          "data": {
            "text/plain": []
          },
          "metadata": {},
          "execution_count": 1
        }
      ]
    },
    {
      "cell_type": "code",
      "source": [
        "!tree"
      ],
      "metadata": {
        "collapsed": true,
        "colab": {
          "base_uri": "https://localhost:8080/"
        },
        "id": "F4d_amMuTTa0",
        "outputId": "b1b19537-8df2-4bb6-b9bf-0422445ce8e8"
      },
      "execution_count": 30,
      "outputs": [
        {
          "output_type": "stream",
          "name": "stdout",
          "text": [
            "\u001b[01;34m.\u001b[0m\n",
            "├── \u001b[01;34mColab\u001b[0m\n",
            "│   ├── \u001b[00mStyleTTS2_Demo_LibriTTS.ipynb\u001b[0m\n",
            "│   ├── \u001b[00mStyleTTS2_Demo_LJSpeech.ipynb\u001b[0m\n",
            "│   └── \u001b[00mStyleTTS2_Finetune_Demo.ipynb\u001b[0m\n",
            "├── \u001b[01;34mConfigs\u001b[0m\n",
            "│   ├── \u001b[00mconfig_ft.yml\u001b[0m\n",
            "│   ├── \u001b[00mconfig_libritts.yml\u001b[0m\n",
            "│   └── \u001b[00mconfig.yml\u001b[0m\n",
            "├── \u001b[01;34mData\u001b[0m\n",
            "│   ├── \u001b[00mOOD_texts.txt\u001b[0m\n",
            "│   ├── \u001b[00mtrain_list.txt\u001b[0m\n",
            "│   └── \u001b[00mval_list.txt\u001b[0m\n",
            "├── \u001b[01;34mDemo\u001b[0m\n",
            "│   ├── \u001b[00mInference_LibriTTS.ipynb\u001b[0m\n",
            "│   └── \u001b[00mInference_LJSpeech.ipynb\u001b[0m\n",
            "├── \u001b[00mLICENSE\u001b[0m\n",
            "├── \u001b[00mlosses.py\u001b[0m\n",
            "├── \u001b[00mmeldataset.py\u001b[0m\n",
            "├── \u001b[01;34mModels\u001b[0m\n",
            "│   └── \u001b[01;34mLJSpeech\u001b[0m\n",
            "│       ├── \u001b[00mconfig.yml\u001b[0m\n",
            "│       └── \u001b[00mepoch_2nd_00100.pth\u001b[0m\n",
            "├── \u001b[00mmodels.py\u001b[0m\n",
            "├── \u001b[01;34mModules\u001b[0m\n",
            "│   ├── \u001b[01;34mdiffusion\u001b[0m\n",
            "│   │   ├── \u001b[00mdiffusion.py\u001b[0m\n",
            "│   │   ├── \u001b[00m__init__.py\u001b[0m\n",
            "│   │   ├── \u001b[00mmodules.py\u001b[0m\n",
            "│   │   ├── \u001b[01;34m__pycache__\u001b[0m\n",
            "│   │   │   ├── \u001b[00mdiffusion.cpython-310.pyc\u001b[0m\n",
            "│   │   │   ├── \u001b[00m__init__.cpython-310.pyc\u001b[0m\n",
            "│   │   │   ├── \u001b[00mmodules.cpython-310.pyc\u001b[0m\n",
            "│   │   │   ├── \u001b[00msampler.cpython-310.pyc\u001b[0m\n",
            "│   │   │   └── \u001b[00mutils.cpython-310.pyc\u001b[0m\n",
            "│   │   ├── \u001b[00msampler.py\u001b[0m\n",
            "│   │   └── \u001b[00mutils.py\u001b[0m\n",
            "│   ├── \u001b[00mdiscriminators.py\u001b[0m\n",
            "│   ├── \u001b[00mhifigan.py\u001b[0m\n",
            "│   ├── \u001b[00m__init__.py\u001b[0m\n",
            "│   ├── \u001b[00mistftnet.py\u001b[0m\n",
            "│   ├── \u001b[01;34m__pycache__\u001b[0m\n",
            "│   │   ├── \u001b[00mdiscriminators.cpython-310.pyc\u001b[0m\n",
            "│   │   ├── \u001b[00m__init__.cpython-310.pyc\u001b[0m\n",
            "│   │   └── \u001b[00mutils.cpython-310.pyc\u001b[0m\n",
            "│   ├── \u001b[00mslmadv.py\u001b[0m\n",
            "│   └── \u001b[00mutils.py\u001b[0m\n",
            "├── \u001b[00moptimizers.py\u001b[0m\n",
            "├── \u001b[01;34m__pycache__\u001b[0m\n",
            "│   ├── \u001b[00mmodels.cpython-310.pyc\u001b[0m\n",
            "│   ├── \u001b[00mtext_utils.cpython-310.pyc\u001b[0m\n",
            "│   └── \u001b[00mutils.cpython-310.pyc\u001b[0m\n",
            "├── \u001b[00mREADME.md\u001b[0m\n",
            "├── \u001b[00mrequirements.txt\u001b[0m\n",
            "├── \u001b[01;34mStyleTTS2-LJSpeech\u001b[0m\n",
            "├── \u001b[00mtext_utils.py\u001b[0m\n",
            "├── \u001b[00mtrain_finetune_accelerate.py\u001b[0m\n",
            "├── \u001b[00mtrain_finetune.py\u001b[0m\n",
            "├── \u001b[00mtrain_first.py\u001b[0m\n",
            "├── \u001b[00mtrain_second.py\u001b[0m\n",
            "├── \u001b[01;34mUtils\u001b[0m\n",
            "│   ├── \u001b[01;34mASR\u001b[0m\n",
            "│   │   ├── \u001b[00mconfig.yml\u001b[0m\n",
            "│   │   ├── \u001b[00mepoch_00080.pth\u001b[0m\n",
            "│   │   ├── \u001b[00m__init__.py\u001b[0m\n",
            "│   │   ├── \u001b[00mlayers.py\u001b[0m\n",
            "│   │   ├── \u001b[00mmodels.py\u001b[0m\n",
            "│   │   └── \u001b[01;34m__pycache__\u001b[0m\n",
            "│   │       ├── \u001b[00m__init__.cpython-310.pyc\u001b[0m\n",
            "│   │       ├── \u001b[00mlayers.cpython-310.pyc\u001b[0m\n",
            "│   │       └── \u001b[00mmodels.cpython-310.pyc\u001b[0m\n",
            "│   ├── \u001b[00m__init__.py\u001b[0m\n",
            "│   ├── \u001b[01;34mJDC\u001b[0m\n",
            "│   │   ├── \u001b[00mbst.t7\u001b[0m\n",
            "│   │   ├── \u001b[00m__init__.py\u001b[0m\n",
            "│   │   ├── \u001b[00mmodel.py\u001b[0m\n",
            "│   │   └── \u001b[01;34m__pycache__\u001b[0m\n",
            "│   │       ├── \u001b[00m__init__.cpython-310.pyc\u001b[0m\n",
            "│   │       └── \u001b[00mmodel.cpython-310.pyc\u001b[0m\n",
            "│   ├── \u001b[01;34mPLBERT\u001b[0m\n",
            "│   │   ├── \u001b[00mconfig.yml\u001b[0m\n",
            "│   │   ├── \u001b[01;34m__pycache__\u001b[0m\n",
            "│   │   │   └── \u001b[00mutil.cpython-310.pyc\u001b[0m\n",
            "│   │   ├── \u001b[00mstep_1000000.t7\u001b[0m\n",
            "│   │   └── \u001b[00mutil.py\u001b[0m\n",
            "│   └── \u001b[01;34m__pycache__\u001b[0m\n",
            "│       └── \u001b[00m__init__.cpython-310.pyc\u001b[0m\n",
            "└── \u001b[00mutils.py\u001b[0m\n",
            "\n",
            "20 directories, 67 files\n"
          ]
        }
      ]
    },
    {
      "cell_type": "code",
      "source": [
        "!pwd"
      ],
      "metadata": {
        "colab": {
          "base_uri": "https://localhost:8080/"
        },
        "id": "dykokQxwTF_k",
        "outputId": "31d54bc1-570d-4aa8-97a6-aa95651625cf"
      },
      "execution_count": 15,
      "outputs": [
        {
          "output_type": "stream",
          "name": "stdout",
          "text": [
            "/content/drive\n"
          ]
        }
      ]
    },
    {
      "cell_type": "code",
      "source": [],
      "metadata": {
        "colab": {
          "base_uri": "https://localhost:8080/"
        },
        "id": "71uSzj3sSJ9k",
        "outputId": "22d4d9c6-51bd-4919-a2b1-39b9e47da27b"
      },
      "execution_count": 28,
      "outputs": [
        {
          "output_type": "stream",
          "name": "stdout",
          "text": [
            "/bin/bash: line 1: cd: MyDrive/StyleTTS2/StyleTTS2/: No such file or directory\n"
          ]
        },
        {
          "output_type": "stream",
          "name": "stderr",
          "text": [
            "[nltk_data] Downloading package punkt_tab to /root/nltk_data...\n",
            "[nltk_data]   Package punkt_tab is already up-to-date!\n"
          ]
        }
      ]
    },
    {
      "cell_type": "code",
      "source": [],
      "metadata": {
        "colab": {
          "base_uri": "https://localhost:8080/",
          "height": 474
        },
        "id": "Woi3CEFkTCPl",
        "outputId": "82301acb-9d39-4b2c-84d1-bb6e65303ffa"
      },
      "execution_count": 29,
      "outputs": [
        {
          "output_type": "stream",
          "name": "stdout",
          "text": [
            "177\n"
          ]
        },
        {
          "output_type": "stream",
          "name": "stderr",
          "text": [
            "/content/drive/StyleTTS2/models.py:604: FutureWarning: You are using `torch.load` with `weights_only=False` (the current default value), which uses the default pickle module implicitly. It is possible to construct malicious pickle data which will execute arbitrary code during unpickling (See https://github.com/pytorch/pytorch/blob/main/SECURITY.md#untrusted-models for more details). In a future release, the default value for `weights_only` will be flipped to `True`. This limits the functions that could be executed during unpickling. Arbitrary objects will no longer be allowed to be loaded via this mode unless they are explicitly allowlisted by the user via `torch.serialization.add_safe_globals`. We recommend you start setting `weights_only=True` for any use case where you don't have full control of the loaded file. Please open an issue on GitHub for any issues related to this experimental feature.\n",
            "  params = torch.load(model_path, map_location='cpu')['model']\n",
            "/content/drive/StyleTTS2/models.py:588: FutureWarning: You are using `torch.load` with `weights_only=False` (the current default value), which uses the default pickle module implicitly. It is possible to construct malicious pickle data which will execute arbitrary code during unpickling (See https://github.com/pytorch/pytorch/blob/main/SECURITY.md#untrusted-models for more details). In a future release, the default value for `weights_only` will be flipped to `True`. This limits the functions that could be executed during unpickling. Arbitrary objects will no longer be allowed to be loaded via this mode unless they are explicitly allowlisted by the user via `torch.serialization.add_safe_globals`. We recommend you start setting `weights_only=True` for any use case where you don't have full control of the loaded file. Please open an issue on GitHub for any issues related to this experimental feature.\n",
            "  params = torch.load(path, map_location='cpu')['net']\n",
            "/content/drive/StyleTTS2/Utils/PLBERT/util.py:30: FutureWarning: You are using `torch.load` with `weights_only=False` (the current default value), which uses the default pickle module implicitly. It is possible to construct malicious pickle data which will execute arbitrary code during unpickling (See https://github.com/pytorch/pytorch/blob/main/SECURITY.md#untrusted-models for more details). In a future release, the default value for `weights_only` will be flipped to `True`. This limits the functions that could be executed during unpickling. Arbitrary objects will no longer be allowed to be loaded via this mode unless they are explicitly allowlisted by the user via `torch.serialization.add_safe_globals`. We recommend you start setting `weights_only=True` for any use case where you don't have full control of the loaded file. Please open an issue on GitHub for any issues related to this experimental feature.\n",
            "  checkpoint = torch.load(log_dir + \"/step_\" + str(iters) + \".t7\", map_location='cpu')\n"
          ]
        },
        {
          "output_type": "error",
          "ename": "AttributeError",
          "evalue": "'dict' object has no attribute 'type'",
          "traceback": [
            "\u001b[0;31m---------------------------------------------------------------------------\u001b[0m",
            "\u001b[0;31mAttributeError\u001b[0m                            Traceback (most recent call last)",
            "\u001b[0;32m<ipython-input-29-fc284acb4222>\u001b[0m in \u001b[0;36m<cell line: 21>\u001b[0;34m()\u001b[0m\n\u001b[1;32m     19\u001b[0m \u001b[0;34m\u001b[0m\u001b[0m\n\u001b[1;32m     20\u001b[0m \u001b[0;34m\u001b[0m\u001b[0m\n\u001b[0;32m---> 21\u001b[0;31m \u001b[0mmodel\u001b[0m \u001b[0;34m=\u001b[0m \u001b[0mbuild_model\u001b[0m\u001b[0;34m(\u001b[0m\u001b[0mMunch\u001b[0m\u001b[0;34m(\u001b[0m\u001b[0mconfig\u001b[0m\u001b[0;34m[\u001b[0m\u001b[0;34m'model_params'\u001b[0m\u001b[0;34m]\u001b[0m\u001b[0;34m)\u001b[0m\u001b[0;34m,\u001b[0m \u001b[0mtext_aligner\u001b[0m\u001b[0;34m,\u001b[0m \u001b[0mpitch_extractor\u001b[0m\u001b[0;34m,\u001b[0m \u001b[0mplbert\u001b[0m\u001b[0;34m)\u001b[0m\u001b[0;34m\u001b[0m\u001b[0;34m\u001b[0m\u001b[0m\n\u001b[0m\u001b[1;32m     22\u001b[0m \u001b[0m_\u001b[0m \u001b[0;34m=\u001b[0m \u001b[0;34m[\u001b[0m\u001b[0mmodel\u001b[0m\u001b[0;34m[\u001b[0m\u001b[0mk\u001b[0m\u001b[0;34m]\u001b[0m\u001b[0;34m.\u001b[0m\u001b[0meval\u001b[0m\u001b[0;34m(\u001b[0m\u001b[0;34m)\u001b[0m\u001b[0;34m.\u001b[0m\u001b[0mto\u001b[0m\u001b[0;34m(\u001b[0m\u001b[0mdevice\u001b[0m\u001b[0;34m)\u001b[0m \u001b[0;32mfor\u001b[0m \u001b[0mk\u001b[0m \u001b[0;32min\u001b[0m \u001b[0mmodel\u001b[0m\u001b[0;34m]\u001b[0m\u001b[0;34m\u001b[0m\u001b[0;34m\u001b[0m\u001b[0m\n\u001b[1;32m     23\u001b[0m \u001b[0;34m\u001b[0m\u001b[0m\n",
            "\u001b[0;32m/content/drive/StyleTTS2/models.py\u001b[0m in \u001b[0;36mbuild_model\u001b[0;34m(args, text_aligner, pitch_extractor, bert)\u001b[0m\n\u001b[1;32m    613\u001b[0m \u001b[0;34m\u001b[0m\u001b[0m\n\u001b[1;32m    614\u001b[0m \u001b[0;32mdef\u001b[0m \u001b[0mbuild_model\u001b[0m\u001b[0;34m(\u001b[0m\u001b[0margs\u001b[0m\u001b[0;34m,\u001b[0m \u001b[0mtext_aligner\u001b[0m\u001b[0;34m,\u001b[0m \u001b[0mpitch_extractor\u001b[0m\u001b[0;34m,\u001b[0m \u001b[0mbert\u001b[0m\u001b[0;34m)\u001b[0m\u001b[0;34m:\u001b[0m\u001b[0;34m\u001b[0m\u001b[0;34m\u001b[0m\u001b[0m\n\u001b[0;32m--> 615\u001b[0;31m     \u001b[0;32massert\u001b[0m \u001b[0margs\u001b[0m\u001b[0;34m.\u001b[0m\u001b[0mdecoder\u001b[0m\u001b[0;34m.\u001b[0m\u001b[0mtype\u001b[0m \u001b[0;32min\u001b[0m \u001b[0;34m[\u001b[0m\u001b[0;34m'istftnet'\u001b[0m\u001b[0;34m,\u001b[0m \u001b[0;34m'hifigan'\u001b[0m\u001b[0;34m]\u001b[0m\u001b[0;34m,\u001b[0m \u001b[0;34m'Decoder type unknown'\u001b[0m\u001b[0;34m\u001b[0m\u001b[0;34m\u001b[0m\u001b[0m\n\u001b[0m\u001b[1;32m    616\u001b[0m \u001b[0;34m\u001b[0m\u001b[0m\n\u001b[1;32m    617\u001b[0m     \u001b[0;32mif\u001b[0m \u001b[0margs\u001b[0m\u001b[0;34m.\u001b[0m\u001b[0mdecoder\u001b[0m\u001b[0;34m.\u001b[0m\u001b[0mtype\u001b[0m \u001b[0;34m==\u001b[0m \u001b[0;34m\"istftnet\"\u001b[0m\u001b[0;34m:\u001b[0m\u001b[0;34m\u001b[0m\u001b[0;34m\u001b[0m\u001b[0m\n",
            "\u001b[0;31mAttributeError\u001b[0m: 'dict' object has no attribute 'type'"
          ]
        }
      ]
    },
    {
      "cell_type": "code",
      "source": [],
      "metadata": {
        "id": "a1UvAmUuUCPN"
      },
      "execution_count": null,
      "outputs": []
    },
    {
      "cell_type": "code",
      "source": [
        "%%shell\n",
        "git clone https://github.com/yl4579/StyleTTS2.git\n",
        "cd StyleTTS2\n",
        "pip install SoundFile torchaudio munch torch pydub pyyaml librosa nltk matplotlib accelerate transformers phonemizer datasets einops einops-exts tqdm typing-extensions git+https://github.com/resemble-ai/monotonic_align.git\n",
        "sudo apt-get install espeak-ng\n",
        "git-lfs clone https://huggingface.co/yl4579/StyleTTS2-LJSpeech\n",
        "mv StyleTTS2-LJSpeech/Models ."
      ],
      "metadata": {
        "id": "gciBKMqCCLvT",
        "collapsed": true,
        "colab": {
          "base_uri": "https://localhost:8080/"
        },
        "outputId": "5854d7bc-8904-4208-ddbe-57ddc176c337"
      },
      "execution_count": 21,
      "outputs": [
        {
          "output_type": "stream",
          "name": "stdout",
          "text": [
            "Cloning into 'StyleTTS2'...\n",
            "remote: Enumerating objects: 372, done.\u001b[K\n",
            "remote: Total 372 (delta 0), reused 0 (delta 0), pack-reused 372 (from 1)\u001b[K\n",
            "Receiving objects: 100% (372/372), 133.98 MiB | 17.71 MiB/s, done.\n",
            "Resolving deltas: 100% (199/199), done.\n",
            "Updating files: 100% (48/48), done.\n",
            "Collecting git+https://github.com/resemble-ai/monotonic_align.git\n",
            "  Cloning https://github.com/resemble-ai/monotonic_align.git to /tmp/pip-req-build-qdq2467f\n",
            "  Running command git clone --filter=blob:none --quiet https://github.com/resemble-ai/monotonic_align.git /tmp/pip-req-build-qdq2467f\n",
            "  Resolved https://github.com/resemble-ai/monotonic_align.git to commit 78b985be210a03d08bc3acc01c4df0442105366f\n",
            "  Installing build dependencies ... \u001b[?25l\u001b[?25hdone\n",
            "  Getting requirements to build wheel ... \u001b[?25l\u001b[?25hdone\n",
            "  Preparing metadata (pyproject.toml) ... \u001b[?25l\u001b[?25hdone\n",
            "Requirement already satisfied: SoundFile in /usr/local/lib/python3.10/dist-packages (0.12.1)\n",
            "Requirement already satisfied: torchaudio in /usr/local/lib/python3.10/dist-packages (2.5.1+cu121)\n",
            "Requirement already satisfied: munch in /usr/local/lib/python3.10/dist-packages (4.0.0)\n",
            "Requirement already satisfied: torch in /usr/local/lib/python3.10/dist-packages (2.5.1+cu121)\n",
            "Requirement already satisfied: pydub in /usr/local/lib/python3.10/dist-packages (0.25.1)\n",
            "Requirement already satisfied: pyyaml in /usr/local/lib/python3.10/dist-packages (6.0.2)\n",
            "Requirement already satisfied: librosa in /usr/local/lib/python3.10/dist-packages (0.10.2.post1)\n",
            "Requirement already satisfied: nltk in /usr/local/lib/python3.10/dist-packages (3.9.1)\n",
            "Requirement already satisfied: matplotlib in /usr/local/lib/python3.10/dist-packages (3.8.0)\n",
            "Requirement already satisfied: accelerate in /usr/local/lib/python3.10/dist-packages (1.1.1)\n",
            "Requirement already satisfied: transformers in /usr/local/lib/python3.10/dist-packages (4.46.3)\n",
            "Requirement already satisfied: phonemizer in /usr/local/lib/python3.10/dist-packages (3.3.0)\n",
            "Requirement already satisfied: datasets in /usr/local/lib/python3.10/dist-packages (3.2.0)\n",
            "Requirement already satisfied: einops in /usr/local/lib/python3.10/dist-packages (0.8.0)\n",
            "Requirement already satisfied: einops-exts in /usr/local/lib/python3.10/dist-packages (0.0.4)\n",
            "Requirement already satisfied: tqdm in /usr/local/lib/python3.10/dist-packages (4.66.6)\n",
            "Requirement already satisfied: typing-extensions in /usr/local/lib/python3.10/dist-packages (4.12.2)\n",
            "Requirement already satisfied: cffi>=1.0 in /usr/local/lib/python3.10/dist-packages (from SoundFile) (1.17.1)\n",
            "Requirement already satisfied: filelock in /usr/local/lib/python3.10/dist-packages (from torch) (3.16.1)\n",
            "Requirement already satisfied: networkx in /usr/local/lib/python3.10/dist-packages (from torch) (3.4.2)\n",
            "Requirement already satisfied: jinja2 in /usr/local/lib/python3.10/dist-packages (from torch) (3.1.4)\n",
            "Requirement already satisfied: fsspec in /usr/local/lib/python3.10/dist-packages (from torch) (2024.9.0)\n",
            "Requirement already satisfied: sympy==1.13.1 in /usr/local/lib/python3.10/dist-packages (from torch) (1.13.1)\n",
            "Requirement already satisfied: mpmath<1.4,>=1.1.0 in /usr/local/lib/python3.10/dist-packages (from sympy==1.13.1->torch) (1.3.0)\n",
            "Requirement already satisfied: audioread>=2.1.9 in /usr/local/lib/python3.10/dist-packages (from librosa) (3.0.1)\n",
            "Requirement already satisfied: numpy!=1.22.0,!=1.22.1,!=1.22.2,>=1.20.3 in /usr/local/lib/python3.10/dist-packages (from librosa) (1.26.4)\n",
            "Requirement already satisfied: scipy>=1.2.0 in /usr/local/lib/python3.10/dist-packages (from librosa) (1.13.1)\n",
            "Requirement already satisfied: scikit-learn>=0.20.0 in /usr/local/lib/python3.10/dist-packages (from librosa) (1.5.2)\n",
            "Requirement already satisfied: joblib>=0.14 in /usr/local/lib/python3.10/dist-packages (from librosa) (1.4.2)\n",
            "Requirement already satisfied: decorator>=4.3.0 in /usr/local/lib/python3.10/dist-packages (from librosa) (4.4.2)\n",
            "Requirement already satisfied: numba>=0.51.0 in /usr/local/lib/python3.10/dist-packages (from librosa) (0.60.0)\n",
            "Requirement already satisfied: pooch>=1.1 in /usr/local/lib/python3.10/dist-packages (from librosa) (1.8.2)\n",
            "Requirement already satisfied: soxr>=0.3.2 in /usr/local/lib/python3.10/dist-packages (from librosa) (0.5.0.post1)\n",
            "Requirement already satisfied: lazy-loader>=0.1 in /usr/local/lib/python3.10/dist-packages (from librosa) (0.4)\n",
            "Requirement already satisfied: msgpack>=1.0 in /usr/local/lib/python3.10/dist-packages (from librosa) (1.1.0)\n",
            "Requirement already satisfied: click in /usr/local/lib/python3.10/dist-packages (from nltk) (8.1.7)\n",
            "Requirement already satisfied: regex>=2021.8.3 in /usr/local/lib/python3.10/dist-packages (from nltk) (2024.9.11)\n",
            "Requirement already satisfied: contourpy>=1.0.1 in /usr/local/lib/python3.10/dist-packages (from matplotlib) (1.3.1)\n",
            "Requirement already satisfied: cycler>=0.10 in /usr/local/lib/python3.10/dist-packages (from matplotlib) (0.12.1)\n",
            "Requirement already satisfied: fonttools>=4.22.0 in /usr/local/lib/python3.10/dist-packages (from matplotlib) (4.55.1)\n",
            "Requirement already satisfied: kiwisolver>=1.0.1 in /usr/local/lib/python3.10/dist-packages (from matplotlib) (1.4.7)\n",
            "Requirement already satisfied: packaging>=20.0 in /usr/local/lib/python3.10/dist-packages (from matplotlib) (24.2)\n",
            "Requirement already satisfied: pillow>=6.2.0 in /usr/local/lib/python3.10/dist-packages (from matplotlib) (11.0.0)\n",
            "Requirement already satisfied: pyparsing>=2.3.1 in /usr/local/lib/python3.10/dist-packages (from matplotlib) (3.2.0)\n",
            "Requirement already satisfied: python-dateutil>=2.7 in /usr/local/lib/python3.10/dist-packages (from matplotlib) (2.8.2)\n",
            "Requirement already satisfied: huggingface-hub>=0.21.0 in /usr/local/lib/python3.10/dist-packages (from accelerate) (0.26.3)\n",
            "Requirement already satisfied: psutil in /usr/local/lib/python3.10/dist-packages (from accelerate) (5.9.5)\n",
            "Requirement already satisfied: safetensors>=0.4.3 in /usr/local/lib/python3.10/dist-packages (from accelerate) (0.4.5)\n",
            "Requirement already satisfied: requests in /usr/local/lib/python3.10/dist-packages (from transformers) (2.32.3)\n",
            "Requirement already satisfied: tokenizers<0.21,>=0.20 in /usr/local/lib/python3.10/dist-packages (from transformers) (0.20.3)\n",
            "Requirement already satisfied: segments in /usr/local/lib/python3.10/dist-packages (from phonemizer) (2.2.1)\n",
            "Requirement already satisfied: attrs>=18.1 in /usr/local/lib/python3.10/dist-packages (from phonemizer) (24.2.0)\n",
            "Requirement already satisfied: dlinfo in /usr/local/lib/python3.10/dist-packages (from phonemizer) (1.2.1)\n",
            "Requirement already satisfied: pyarrow>=15.0.0 in /usr/local/lib/python3.10/dist-packages (from datasets) (17.0.0)\n",
            "Requirement already satisfied: dill<0.3.9,>=0.3.0 in /usr/local/lib/python3.10/dist-packages (from datasets) (0.3.8)\n",
            "Requirement already satisfied: pandas in /usr/local/lib/python3.10/dist-packages (from datasets) (2.2.2)\n",
            "Requirement already satisfied: xxhash in /usr/local/lib/python3.10/dist-packages (from datasets) (3.5.0)\n",
            "Requirement already satisfied: multiprocess<0.70.17 in /usr/local/lib/python3.10/dist-packages (from datasets) (0.70.16)\n",
            "Requirement already satisfied: aiohttp in /usr/local/lib/python3.10/dist-packages (from datasets) (3.11.9)\n",
            "Requirement already satisfied: pycparser in /usr/local/lib/python3.10/dist-packages (from cffi>=1.0->SoundFile) (2.22)\n",
            "Requirement already satisfied: aiohappyeyeballs>=2.3.0 in /usr/local/lib/python3.10/dist-packages (from aiohttp->datasets) (2.4.4)\n",
            "Requirement already satisfied: aiosignal>=1.1.2 in /usr/local/lib/python3.10/dist-packages (from aiohttp->datasets) (1.3.1)\n",
            "Requirement already satisfied: async-timeout<6.0,>=4.0 in /usr/local/lib/python3.10/dist-packages (from aiohttp->datasets) (4.0.3)\n",
            "Requirement already satisfied: frozenlist>=1.1.1 in /usr/local/lib/python3.10/dist-packages (from aiohttp->datasets) (1.5.0)\n",
            "Requirement already satisfied: multidict<7.0,>=4.5 in /usr/local/lib/python3.10/dist-packages (from aiohttp->datasets) (6.1.0)\n",
            "Requirement already satisfied: propcache>=0.2.0 in /usr/local/lib/python3.10/dist-packages (from aiohttp->datasets) (0.2.1)\n",
            "Requirement already satisfied: yarl<2.0,>=1.17.0 in /usr/local/lib/python3.10/dist-packages (from aiohttp->datasets) (1.18.3)\n",
            "Requirement already satisfied: llvmlite<0.44,>=0.43.0dev0 in /usr/local/lib/python3.10/dist-packages (from numba>=0.51.0->librosa) (0.43.0)\n",
            "Requirement already satisfied: platformdirs>=2.5.0 in /usr/local/lib/python3.10/dist-packages (from pooch>=1.1->librosa) (4.3.6)\n",
            "Requirement already satisfied: six>=1.5 in /usr/local/lib/python3.10/dist-packages (from python-dateutil>=2.7->matplotlib) (1.16.0)\n",
            "Requirement already satisfied: charset-normalizer<4,>=2 in /usr/local/lib/python3.10/dist-packages (from requests->transformers) (3.4.0)\n",
            "Requirement already satisfied: idna<4,>=2.5 in /usr/local/lib/python3.10/dist-packages (from requests->transformers) (3.10)\n",
            "Requirement already satisfied: urllib3<3,>=1.21.1 in /usr/local/lib/python3.10/dist-packages (from requests->transformers) (2.2.3)\n",
            "Requirement already satisfied: certifi>=2017.4.17 in /usr/local/lib/python3.10/dist-packages (from requests->transformers) (2024.8.30)\n",
            "Requirement already satisfied: threadpoolctl>=3.1.0 in /usr/local/lib/python3.10/dist-packages (from scikit-learn>=0.20.0->librosa) (3.5.0)\n",
            "Requirement already satisfied: MarkupSafe>=2.0 in /usr/local/lib/python3.10/dist-packages (from jinja2->torch) (3.0.2)\n",
            "Requirement already satisfied: pytz>=2020.1 in /usr/local/lib/python3.10/dist-packages (from pandas->datasets) (2024.2)\n",
            "Requirement already satisfied: tzdata>=2022.7 in /usr/local/lib/python3.10/dist-packages (from pandas->datasets) (2024.2)\n",
            "Requirement already satisfied: clldutils>=1.7.3 in /usr/local/lib/python3.10/dist-packages (from segments->phonemizer) (3.24.0)\n",
            "Requirement already satisfied: csvw>=1.5.6 in /usr/local/lib/python3.10/dist-packages (from segments->phonemizer) (3.5.1)\n",
            "Requirement already satisfied: tabulate>=0.7.7 in /usr/local/lib/python3.10/dist-packages (from clldutils>=1.7.3->segments->phonemizer) (0.9.0)\n",
            "Requirement already satisfied: colorlog in /usr/local/lib/python3.10/dist-packages (from clldutils>=1.7.3->segments->phonemizer) (6.9.0)\n",
            "Requirement already satisfied: bibtexparser>=2.0.0b4 in /usr/local/lib/python3.10/dist-packages (from clldutils>=1.7.3->segments->phonemizer) (2.0.0b8)\n",
            "Requirement already satisfied: pylatexenc in /usr/local/lib/python3.10/dist-packages (from clldutils>=1.7.3->segments->phonemizer) (2.10)\n",
            "Requirement already satisfied: markdown in /usr/local/lib/python3.10/dist-packages (from clldutils>=1.7.3->segments->phonemizer) (3.7)\n",
            "Requirement already satisfied: lxml in /usr/local/lib/python3.10/dist-packages (from clldutils>=1.7.3->segments->phonemizer) (5.3.0)\n",
            "Requirement already satisfied: isodate in /usr/local/lib/python3.10/dist-packages (from csvw>=1.5.6->segments->phonemizer) (0.7.2)\n",
            "Requirement already satisfied: rfc3986<2 in /usr/local/lib/python3.10/dist-packages (from csvw>=1.5.6->segments->phonemizer) (1.5.0)\n",
            "Requirement already satisfied: uritemplate>=3.0.0 in /usr/local/lib/python3.10/dist-packages (from csvw>=1.5.6->segments->phonemizer) (4.1.1)\n",
            "Requirement already satisfied: babel in /usr/local/lib/python3.10/dist-packages (from csvw>=1.5.6->segments->phonemizer) (2.16.0)\n",
            "Requirement already satisfied: language-tags in /usr/local/lib/python3.10/dist-packages (from csvw>=1.5.6->segments->phonemizer) (1.2.0)\n",
            "Requirement already satisfied: rdflib in /usr/local/lib/python3.10/dist-packages (from csvw>=1.5.6->segments->phonemizer) (7.1.1)\n",
            "Requirement already satisfied: colorama in /usr/local/lib/python3.10/dist-packages (from csvw>=1.5.6->segments->phonemizer) (0.4.6)\n",
            "Requirement already satisfied: jsonschema in /usr/local/lib/python3.10/dist-packages (from csvw>=1.5.6->segments->phonemizer) (4.23.0)\n",
            "Requirement already satisfied: jsonschema-specifications>=2023.03.6 in /usr/local/lib/python3.10/dist-packages (from jsonschema->csvw>=1.5.6->segments->phonemizer) (2024.10.1)\n",
            "Requirement already satisfied: referencing>=0.28.4 in /usr/local/lib/python3.10/dist-packages (from jsonschema->csvw>=1.5.6->segments->phonemizer) (0.35.1)\n",
            "Requirement already satisfied: rpds-py>=0.7.1 in /usr/local/lib/python3.10/dist-packages (from jsonschema->csvw>=1.5.6->segments->phonemizer) (0.22.3)\n",
            "Reading package lists... Done\n",
            "Building dependency tree... Done\n",
            "Reading state information... Done\n",
            "espeak-ng is already the newest version (1.50+dfsg-10ubuntu0.1).\n",
            "0 upgraded, 0 newly installed, 0 to remove and 49 not upgraded.\n",
            "WARNING: 'git lfs clone' is deprecated and will not be updated\n",
            "          with new flags from 'git clone'\n",
            "\n",
            "'git clone' has been updated in upstream Git to have comparable\n",
            "speeds to 'git lfs clone'.\n",
            "Cloning into 'StyleTTS2-LJSpeech'...\n",
            "remote: Enumerating objects: 20, done.\u001b[K\n",
            "remote: Counting objects: 100% (16/16), done.\u001b[K\n",
            "remote: Compressing objects: 100% (13/13), done.\u001b[K\n",
            "remote: Total 20 (delta 1), reused 0 (delta 0), pack-reused 4 (from 1)\u001b[K\n",
            "Unpacking objects: 100% (20/20), 3.22 KiB | 660.00 KiB/s, done.\n"
          ]
        },
        {
          "output_type": "execute_result",
          "data": {
            "text/plain": []
          },
          "metadata": {},
          "execution_count": 21
        }
      ]
    },
    {
      "cell_type": "markdown",
      "source": [
        "### Load models"
      ],
      "metadata": {
        "id": "OAA8lx-XCQnM"
      }
    },
    {
      "cell_type": "code",
      "source": [
        "!pip install datasets transformers\n",
        "%pip install munch\n"
      ],
      "metadata": {
        "id": "fwMW5xHea8YY",
        "collapsed": true,
        "colab": {
          "base_uri": "https://localhost:8080/"
        },
        "outputId": "c8045ea6-c9f7-4c47-ce30-b1fa70f65609"
      },
      "execution_count": null,
      "outputs": [
        {
          "output_type": "stream",
          "name": "stdout",
          "text": [
            "Requirement already satisfied: datasets in /usr/local/lib/python3.10/dist-packages (3.2.0)\n",
            "Requirement already satisfied: transformers in /usr/local/lib/python3.10/dist-packages (4.46.3)\n",
            "Requirement already satisfied: filelock in /usr/local/lib/python3.10/dist-packages (from datasets) (3.16.1)\n",
            "Requirement already satisfied: numpy>=1.17 in /usr/local/lib/python3.10/dist-packages (from datasets) (1.26.4)\n",
            "Requirement already satisfied: pyarrow>=15.0.0 in /usr/local/lib/python3.10/dist-packages (from datasets) (17.0.0)\n",
            "Requirement already satisfied: dill<0.3.9,>=0.3.0 in /usr/local/lib/python3.10/dist-packages (from datasets) (0.3.8)\n",
            "Requirement already satisfied: pandas in /usr/local/lib/python3.10/dist-packages (from datasets) (2.2.2)\n",
            "Requirement already satisfied: requests>=2.32.2 in /usr/local/lib/python3.10/dist-packages (from datasets) (2.32.3)\n",
            "Requirement already satisfied: tqdm>=4.66.3 in /usr/local/lib/python3.10/dist-packages (from datasets) (4.66.6)\n",
            "Requirement already satisfied: xxhash in /usr/local/lib/python3.10/dist-packages (from datasets) (3.5.0)\n",
            "Requirement already satisfied: multiprocess<0.70.17 in /usr/local/lib/python3.10/dist-packages (from datasets) (0.70.16)\n",
            "Requirement already satisfied: fsspec<=2024.9.0,>=2023.1.0 in /usr/local/lib/python3.10/dist-packages (from fsspec[http]<=2024.9.0,>=2023.1.0->datasets) (2024.9.0)\n",
            "Requirement already satisfied: aiohttp in /usr/local/lib/python3.10/dist-packages (from datasets) (3.11.9)\n",
            "Requirement already satisfied: huggingface-hub>=0.23.0 in /usr/local/lib/python3.10/dist-packages (from datasets) (0.26.3)\n",
            "Requirement already satisfied: packaging in /usr/local/lib/python3.10/dist-packages (from datasets) (24.2)\n",
            "Requirement already satisfied: pyyaml>=5.1 in /usr/local/lib/python3.10/dist-packages (from datasets) (6.0.2)\n",
            "Requirement already satisfied: regex!=2019.12.17 in /usr/local/lib/python3.10/dist-packages (from transformers) (2024.9.11)\n",
            "Requirement already satisfied: tokenizers<0.21,>=0.20 in /usr/local/lib/python3.10/dist-packages (from transformers) (0.20.3)\n",
            "Requirement already satisfied: safetensors>=0.4.1 in /usr/local/lib/python3.10/dist-packages (from transformers) (0.4.5)\n",
            "Requirement already satisfied: aiohappyeyeballs>=2.3.0 in /usr/local/lib/python3.10/dist-packages (from aiohttp->datasets) (2.4.4)\n",
            "Requirement already satisfied: aiosignal>=1.1.2 in /usr/local/lib/python3.10/dist-packages (from aiohttp->datasets) (1.3.1)\n",
            "Requirement already satisfied: async-timeout<6.0,>=4.0 in /usr/local/lib/python3.10/dist-packages (from aiohttp->datasets) (4.0.3)\n",
            "Requirement already satisfied: attrs>=17.3.0 in /usr/local/lib/python3.10/dist-packages (from aiohttp->datasets) (24.2.0)\n",
            "Requirement already satisfied: frozenlist>=1.1.1 in /usr/local/lib/python3.10/dist-packages (from aiohttp->datasets) (1.5.0)\n",
            "Requirement already satisfied: multidict<7.0,>=4.5 in /usr/local/lib/python3.10/dist-packages (from aiohttp->datasets) (6.1.0)\n",
            "Requirement already satisfied: propcache>=0.2.0 in /usr/local/lib/python3.10/dist-packages (from aiohttp->datasets) (0.2.1)\n",
            "Requirement already satisfied: yarl<2.0,>=1.17.0 in /usr/local/lib/python3.10/dist-packages (from aiohttp->datasets) (1.18.3)\n",
            "Requirement already satisfied: typing-extensions>=3.7.4.3 in /usr/local/lib/python3.10/dist-packages (from huggingface-hub>=0.23.0->datasets) (4.12.2)\n",
            "Requirement already satisfied: charset-normalizer<4,>=2 in /usr/local/lib/python3.10/dist-packages (from requests>=2.32.2->datasets) (3.4.0)\n",
            "Requirement already satisfied: idna<4,>=2.5 in /usr/local/lib/python3.10/dist-packages (from requests>=2.32.2->datasets) (3.10)\n",
            "Requirement already satisfied: urllib3<3,>=1.21.1 in /usr/local/lib/python3.10/dist-packages (from requests>=2.32.2->datasets) (2.2.3)\n",
            "Requirement already satisfied: certifi>=2017.4.17 in /usr/local/lib/python3.10/dist-packages (from requests>=2.32.2->datasets) (2024.8.30)\n",
            "Requirement already satisfied: python-dateutil>=2.8.2 in /usr/local/lib/python3.10/dist-packages (from pandas->datasets) (2.8.2)\n",
            "Requirement already satisfied: pytz>=2020.1 in /usr/local/lib/python3.10/dist-packages (from pandas->datasets) (2024.2)\n",
            "Requirement already satisfied: tzdata>=2022.7 in /usr/local/lib/python3.10/dist-packages (from pandas->datasets) (2024.2)\n",
            "Requirement already satisfied: six>=1.5 in /usr/local/lib/python3.10/dist-packages (from python-dateutil>=2.8.2->pandas->datasets) (1.16.0)\n",
            "Requirement already satisfied: munch in /usr/local/lib/python3.10/dist-packages (4.0.0)\n"
          ]
        }
      ]
    },
    {
      "cell_type": "code",
      "source": [
        "%pwd"
      ],
      "metadata": {
        "id": "ATd0oy2F3W74",
        "colab": {
          "base_uri": "https://localhost:8080/",
          "height": 35
        },
        "outputId": "cc1490a4-917e-4422-e8f6-1d33eecefff9"
      },
      "execution_count": null,
      "outputs": [
        {
          "output_type": "execute_result",
          "data": {
            "text/plain": [
              "'/content/StyleTTS2'"
            ],
            "application/vnd.google.colaboratory.intrinsic+json": {
              "type": "string"
            }
          },
          "metadata": {},
          "execution_count": 58
        }
      ]
    },
    {
      "cell_type": "code",
      "source": [
        "%cd StyleTTS2\n",
        "\n",
        "import torch\n",
        "torch.manual_seed(0)\n",
        "torch.backends.cudnn.benchmark = False\n",
        "torch.backends.cudnn.deterministic = True\n",
        "\n",
        "import random\n",
        "random.seed(0)\n",
        "\n",
        "import numpy as np\n",
        "np.random.seed(0)\n",
        "\n",
        "import nltk\n",
        "nltk.download('punkt_tab')\n",
        "\n",
        "# load packages\n",
        "import time\n",
        "import random\n",
        "import yaml\n",
        "from munch import Munch\n",
        "import numpy as np\n",
        "import torch\n",
        "from torch import nn\n",
        "import torch.nn.functional as F\n",
        "import torchaudio\n",
        "import librosa\n",
        "from nltk.tokenize import word_tokenize\n",
        "\n",
        "from models import *\n",
        "from utils import *\n",
        "from text_utils import TextCleaner\n",
        "textclenaer = TextCleaner()"
      ],
      "metadata": {
        "colab": {
          "base_uri": "https://localhost:8080/"
        },
        "id": "dGllbd0SJICi",
        "outputId": "af2fa483-10f1-45fd-ca67-655826d79170"
      },
      "execution_count": 23,
      "outputs": [
        {
          "output_type": "stream",
          "name": "stdout",
          "text": [
            "/content/drive/StyleTTS2\n"
          ]
        },
        {
          "output_type": "stream",
          "name": "stderr",
          "text": [
            "[nltk_data] Downloading package punkt_tab to /root/nltk_data...\n",
            "[nltk_data]   Package punkt_tab is already up-to-date!\n"
          ]
        },
        {
          "output_type": "stream",
          "name": "stdout",
          "text": [
            "177\n"
          ]
        }
      ]
    },
    {
      "cell_type": "code",
      "source": [
        "\n",
        "%matplotlib inline\n",
        "\n",
        "device = 'cuda' if torch.cuda.is_available() else 'cpu'\n",
        "\n",
        "to_mel = torchaudio.transforms.MelSpectrogram(\n",
        "    n_mels=80, n_fft=2048, win_length=1200, hop_length=300)\n",
        "mean, std = -4, 4"
      ],
      "metadata": {
        "id": "rvPoghXFJKqo"
      },
      "execution_count": 32,
      "outputs": []
    },
    {
      "cell_type": "code",
      "source": [
        "\n",
        "def length_to_mask(lengths):\n",
        "    mask = torch.arange(lengths.max()).unsqueeze(0).expand(lengths.shape[0], -1).type_as(lengths)\n",
        "    mask = torch.gt(mask+1, lengths.unsqueeze(1))\n",
        "    return mask\n",
        "\n",
        "def preprocess(wave):\n",
        "    wave_tensor = torch.from_numpy(wave).float()\n",
        "    mel_tensor = to_mel(wave_tensor)\n",
        "    mel_tensor = (torch.log(1e-5 + mel_tensor.unsqueeze(0)) - mean) / std\n",
        "    return mel_tensor\n",
        "\n",
        "def compute_style(ref_dicts):\n",
        "    reference_embeddings = {}\n",
        "    for key, path in ref_dicts.items():\n",
        "        wave, sr = librosa.load(path, sr=24000)\n",
        "        audio, index = librosa.effects.trim(wave, top_db=30)\n",
        "        if sr != 24000:\n",
        "            audio = librosa.resample(audio, sr, 24000)\n",
        "        mel_tensor = preprocess(audio).to(device)\n",
        "\n",
        "        with torch.no_grad():\n",
        "            ref = model.style_encoder(mel_tensor.unsqueeze(1))\n",
        "        reference_embeddings[key] = (ref.squeeze(1), audio)\n",
        "\n",
        "    return reference_embeddings\n",
        "\n",
        "# load phonemizer\n",
        "import phonemizer\n",
        "global_phonemizer = phonemizer.backend.EspeakBackend(language='en-us', preserve_punctuation=True, with_stress=True, words_mismatch='ignore')\n",
        "\n",
        "config = yaml.safe_load(open(\"Models/LJSpeech/config.yml\"))\n",
        "\n",
        "# load pretrained ASR model\n",
        "ASR_config = config.get('ASR_config', False)\n",
        "ASR_path = config.get('ASR_path', False)\n",
        "text_aligner = load_ASR_models(ASR_path, ASR_config)\n",
        "\n",
        "# load pretrained F0 model\n",
        "F0_path = config.get('F0_path', False)\n",
        "pitch_extractor = load_F0_models(F0_path)\n",
        "\n",
        "# load BERT model\n",
        "from Utils.PLBERT.util import load_plbert\n",
        "BERT_path = config.get('PLBERT_dir', False)\n",
        "plbert = load_plbert(BERT_path)\n",
        "\n",
        "model = build_model(recursive_munch(config['model_params']), text_aligner, pitch_extractor, plbert)\n",
        "_ = [model[key].eval() for key in model]\n",
        "_ = [model[key].to(device) for key in model]\n",
        "\n",
        "params_whole = torch.load(\"Models/LJSpeech/epoch_2nd_00100.pth\", map_location='cpu')\n",
        "params = params_whole['net']\n",
        "\n",
        "for key in model:\n",
        "    if key in params:\n",
        "        print('%s loaded' % key)\n",
        "        try:\n",
        "            model[key].load_state_dict(params[key])\n",
        "        except:\n",
        "            from collections import OrderedDict\n",
        "            state_dict = params[key]\n",
        "            new_state_dict = OrderedDict()\n",
        "            for k, v in state_dict.items():\n",
        "                name = k[7:] # remove `module.`\n",
        "                new_state_dict[name] = v\n",
        "            # load params\n",
        "            model[key].load_state_dict(new_state_dict, strict=False)\n",
        "#             except:\n",
        "#                 _load(params[key], model[key])\n",
        "_ = [model[key].eval() for key in model]\n",
        "\n",
        "from Modules.diffusion.sampler import DiffusionSampler, ADPM2Sampler, KarrasSchedule\n",
        "\n",
        "sampler = DiffusionSampler(\n",
        "    model.diffusion.diffusion,\n",
        "    sampler=ADPM2Sampler(),\n",
        "    sigma_schedule=KarrasSchedule(sigma_min=0.0001, sigma_max=3.0, rho=9.0), # empirical parameters\n",
        "    clamp=False\n",
        ")\n",
        "\n",
        "def inference(text, noise, diffusion_steps=5, embedding_scale=1):\n",
        "    text = text.strip()\n",
        "    text = text.replace('\"', '')\n",
        "    ps = global_phonemizer.phonemize([text])\n",
        "    ps = word_tokenize(ps[0])\n",
        "    ps = ' '.join(ps)\n",
        "\n",
        "    tokens = textclenaer(ps)\n",
        "    tokens.insert(0, 0)\n",
        "    tokens = torch.LongTensor(tokens).to(device).unsqueeze(0)\n",
        "\n",
        "    with torch.no_grad():\n",
        "        input_lengths = torch.LongTensor([tokens.shape[-1]]).to(tokens.device)\n",
        "        text_mask = length_to_mask(input_lengths).to(tokens.device)\n",
        "\n",
        "        t_en = model.text_encoder(tokens, input_lengths, text_mask)\n",
        "        bert_dur = model.bert(tokens, attention_mask=(~text_mask).int())\n",
        "        d_en = model.bert_encoder(bert_dur).transpose(-1, -2)\n",
        "\n",
        "        s_pred = sampler(noise,\n",
        "              embedding=bert_dur[0].unsqueeze(0), num_steps=diffusion_steps,\n",
        "              embedding_scale=embedding_scale).squeeze(0)\n",
        "\n",
        "        s = s_pred[:, 128:]\n",
        "        ref = s_pred[:, :128]\n",
        "\n",
        "        d = model.predictor.text_encoder(d_en, s, input_lengths, text_mask)\n",
        "\n",
        "        x, _ = model.predictor.lstm(d)\n",
        "        duration = model.predictor.duration_proj(x)\n",
        "        duration = torch.sigmoid(duration).sum(axis=-1)\n",
        "        pred_dur = torch.round(duration.squeeze()).clamp(min=1)\n",
        "\n",
        "        pred_dur[-1] += 5\n",
        "\n",
        "        pred_aln_trg = torch.zeros(input_lengths, int(pred_dur.sum().data))\n",
        "        c_frame = 0\n",
        "        for i in range(pred_aln_trg.size(0)):\n",
        "            pred_aln_trg[i, c_frame:c_frame + int(pred_dur[i].data)] = 1\n",
        "            c_frame += int(pred_dur[i].data)\n",
        "\n",
        "        # encode prosody\n",
        "        en = (d.transpose(-1, -2) @ pred_aln_trg.unsqueeze(0).to(device))\n",
        "        F0_pred, N_pred = model.predictor.F0Ntrain(en, s)\n",
        "        out = model.decoder((t_en @ pred_aln_trg.unsqueeze(0).to(device)),\n",
        "                                F0_pred, N_pred, ref.squeeze().unsqueeze(0))\n",
        "\n",
        "    return out.squeeze().cpu().numpy()\n",
        "\n",
        "def LFinference(text, s_prev, noise, alpha=0.7, diffusion_steps=5, embedding_scale=1):\n",
        "  text = text.strip()\n",
        "  text = text.replace('\"', '')\n",
        "  ps = global_phonemizer.phonemize([text])\n",
        "  ps = word_tokenize(ps[0])\n",
        "  ps = ' '.join(ps)\n",
        "\n",
        "  tokens = textclenaer(ps)\n",
        "  tokens.insert(0, 0)\n",
        "  tokens = torch.LongTensor(tokens).to(device).unsqueeze(0)\n",
        "\n",
        "  with torch.no_grad():\n",
        "      input_lengths = torch.LongTensor([tokens.shape[-1]]).to(tokens.device)\n",
        "      text_mask = length_to_mask(input_lengths).to(tokens.device)\n",
        "\n",
        "      t_en = model.text_encoder(tokens, input_lengths, text_mask)\n",
        "      bert_dur = model.bert(tokens, attention_mask=(~text_mask).int())\n",
        "      d_en = model.bert_encoder(bert_dur).transpose(-1, -2)\n",
        "\n",
        "      s_pred = sampler(noise,\n",
        "            embedding=bert_dur[0].unsqueeze(0), num_steps=diffusion_steps,\n",
        "            embedding_scale=embedding_scale).squeeze(0)\n",
        "\n",
        "      if s_prev is not None:\n",
        "          # convex combination of previous and current style\n",
        "          s_pred = alpha * s_prev + (1 - alpha) * s_pred\n",
        "\n",
        "      s = s_pred[:, 128:]\n",
        "      ref = s_pred[:, :128]\n",
        "\n",
        "      d = model.predictor.text_encoder(d_en, s, input_lengths, text_mask)\n",
        "\n",
        "      x, _ = model.predictor.lstm(d)\n",
        "      duration = model.predictor.duration_proj(x)\n",
        "      duration = torch.sigmoid(duration).sum(axis=-1)\n",
        "      pred_dur = torch.round(duration.squeeze()).clamp(min=1)\n",
        "\n",
        "      pred_aln_trg = torch.zeros(input_lengths, int(pred_dur.sum().data))\n",
        "      c_frame = 0\n",
        "      for i in range(pred_aln_trg.size(0)):\n",
        "          pred_aln_trg[i, c_frame:c_frame + int(pred_dur[i].data)] = 1\n",
        "          c_frame += int(pred_dur[i].data)\n",
        "\n",
        "      # encode prosody\n",
        "      en = (d.transpose(-1, -2) @ pred_aln_trg.unsqueeze(0).to(device))\n",
        "      F0_pred, N_pred = model.predictor.F0Ntrain(en,\n",
        "      s)\n",
        "      out = model.decoder((t_en @ pred_aln_trg.unsqueeze(0).to(device)),\n",
        "                              F0_pred, N_pred, ref.squeeze().unsqueeze(0))\n",
        "\n",
        "  return out.squeeze().cpu().numpy(), s_pred"
      ],
      "metadata": {
        "id": "m0XRpbxSCSix",
        "collapsed": true,
        "colab": {
          "base_uri": "https://localhost:8080/"
        },
        "outputId": "2787f425-91b9-4105-f0f2-6ecdcd175634"
      },
      "execution_count": 31,
      "outputs": [
        {
          "output_type": "stream",
          "name": "stderr",
          "text": [
            "/content/drive/StyleTTS2/models.py:604: FutureWarning: You are using `torch.load` with `weights_only=False` (the current default value), which uses the default pickle module implicitly. It is possible to construct malicious pickle data which will execute arbitrary code during unpickling (See https://github.com/pytorch/pytorch/blob/main/SECURITY.md#untrusted-models for more details). In a future release, the default value for `weights_only` will be flipped to `True`. This limits the functions that could be executed during unpickling. Arbitrary objects will no longer be allowed to be loaded via this mode unless they are explicitly allowlisted by the user via `torch.serialization.add_safe_globals`. We recommend you start setting `weights_only=True` for any use case where you don't have full control of the loaded file. Please open an issue on GitHub for any issues related to this experimental feature.\n",
            "  params = torch.load(model_path, map_location='cpu')['model']\n",
            "/content/drive/StyleTTS2/models.py:588: FutureWarning: You are using `torch.load` with `weights_only=False` (the current default value), which uses the default pickle module implicitly. It is possible to construct malicious pickle data which will execute arbitrary code during unpickling (See https://github.com/pytorch/pytorch/blob/main/SECURITY.md#untrusted-models for more details). In a future release, the default value for `weights_only` will be flipped to `True`. This limits the functions that could be executed during unpickling. Arbitrary objects will no longer be allowed to be loaded via this mode unless they are explicitly allowlisted by the user via `torch.serialization.add_safe_globals`. We recommend you start setting `weights_only=True` for any use case where you don't have full control of the loaded file. Please open an issue on GitHub for any issues related to this experimental feature.\n",
            "  params = torch.load(path, map_location='cpu')['net']\n",
            "/content/drive/StyleTTS2/Utils/PLBERT/util.py:30: FutureWarning: You are using `torch.load` with `weights_only=False` (the current default value), which uses the default pickle module implicitly. It is possible to construct malicious pickle data which will execute arbitrary code during unpickling (See https://github.com/pytorch/pytorch/blob/main/SECURITY.md#untrusted-models for more details). In a future release, the default value for `weights_only` will be flipped to `True`. This limits the functions that could be executed during unpickling. Arbitrary objects will no longer be allowed to be loaded via this mode unless they are explicitly allowlisted by the user via `torch.serialization.add_safe_globals`. We recommend you start setting `weights_only=True` for any use case where you don't have full control of the loaded file. Please open an issue on GitHub for any issues related to this experimental feature.\n",
            "  checkpoint = torch.load(log_dir + \"/step_\" + str(iters) + \".t7\", map_location='cpu')\n",
            "/usr/local/lib/python3.10/dist-packages/torch/nn/utils/weight_norm.py:143: FutureWarning: `torch.nn.utils.weight_norm` is deprecated in favor of `torch.nn.utils.parametrizations.weight_norm`.\n",
            "  WeightNorm.apply(module, name, dim)\n",
            "/usr/local/lib/python3.10/dist-packages/torch/nn/modules/rnn.py:123: UserWarning: dropout option adds dropout after all but last recurrent layer, so non-zero dropout expects num_layers greater than 1, but got dropout=0.2 and num_layers=1\n",
            "  warnings.warn(\n",
            "<ipython-input-31-798bbfb27cf4>:51: FutureWarning: You are using `torch.load` with `weights_only=False` (the current default value), which uses the default pickle module implicitly. It is possible to construct malicious pickle data which will execute arbitrary code during unpickling (See https://github.com/pytorch/pytorch/blob/main/SECURITY.md#untrusted-models for more details). In a future release, the default value for `weights_only` will be flipped to `True`. This limits the functions that could be executed during unpickling. Arbitrary objects will no longer be allowed to be loaded via this mode unless they are explicitly allowlisted by the user via `torch.serialization.add_safe_globals`. We recommend you start setting `weights_only=True` for any use case where you don't have full control of the loaded file. Please open an issue on GitHub for any issues related to this experimental feature.\n",
            "  params_whole = torch.load(\"Models/LJSpeech/epoch_2nd_00100.pth\", map_location='cpu')\n"
          ]
        },
        {
          "output_type": "stream",
          "name": "stdout",
          "text": [
            "bert loaded\n",
            "bert_encoder loaded\n",
            "predictor loaded\n",
            "decoder loaded\n",
            "text_encoder loaded\n",
            "predictor_encoder loaded\n",
            "style_encoder loaded\n",
            "diffusion loaded\n",
            "text_aligner loaded\n",
            "pitch_extractor loaded\n",
            "mpd loaded\n",
            "msd loaded\n",
            "wd loaded\n"
          ]
        }
      ]
    },
    {
      "cell_type": "code",
      "source": [
        "from phonemizer import phonemize\n",
        "from phonemizer.backend import EspeakBackend\n",
        "from nltk.tokenize import word_tokenize\n",
        "\n",
        "\n",
        "def inference_accent(text, accent='en-us', embedding_scale=1.0):\n",
        "    # Initialize the phonemizer with the specific language or accent\n",
        "    phonemizer = EspeakBackend(language=accent)\n",
        "\n",
        "    # Clean the text and wrap it in a list for phonemization\n",
        "    text = text.strip().replace('\"', '')\n",
        "    phonemized_text_list = phonemizer.phonemize([text])  # text must be a list of strings\n",
        "\n",
        "    # Since phonemize returns a list, we need to join it back into a single string\n",
        "    phonemized_text = ' '.join(phonemized_text_list)  # Join list into a single string if necessary\n",
        "\n",
        "\n",
        "    # Tokenize the phonemized text for further processing\n",
        "    tokens = word_tokenize(phonemized_text)\n",
        "    processed_text = ' '.join(tokens)\n",
        "\n",
        "\n",
        "    # Further processing steps...\n",
        "    return processed_text\n",
        "\n",
        "\n",
        "# Usage example\n",
        "text = \"If the supply of fruit is greater than the family needs, it may be made a source of income by sending the fresh fruit to the market if there is one near enough, or by preserving, canning, and making jelly for sale. To make such an enterprise a success the fruit and work must be first class. There is magic in the word \\\"Homemade,\\\" when the product appeals to the eye and the palate; but many careless and incompetent people have found to their sorrow that this word has not magic enough to float inferior goods on the market. As a rule large canning and preserving establishments are clean and have the best appliances, and they employ chemists and skilled labor.\"\n",
        "accent = \"de\"\n",
        "processed_text = inference_accent(text, accent)\n",
        "\n",
        "\n",
        "\n",
        "\n",
        "\n"
      ],
      "metadata": {
        "id": "Cav0kxBvJpSY",
        "colab": {
          "base_uri": "https://localhost:8080/"
        },
        "outputId": "25aa1a3e-ebb8-4af5-88b4-740bb03a3a43"
      },
      "execution_count": 46,
      "outputs": [
        {
          "output_type": "stream",
          "name": "stderr",
          "text": [
            "WARNING:phonemizer:1 utterances containing language switches on lines 1\n",
            "WARNING:phonemizer:extra phones may appear in the \"de\" phoneset\n",
            "WARNING:phonemizer:language switch flags have been kept (applying \"keep-flags\" policy)\n"
          ]
        }
      ]
    },
    {
      "cell_type": "code",
      "source": [
        "import time\n",
        "import torch\n",
        "import IPython.display as ipd\n",
        "\n",
        "# Assuming `synthesize_audio` is a function that converts phonemized text to waveform\n",
        "def synthesize_audio(phonemized_text):\n",
        "    # Placeholder: Implement the actual audio synthesis\n",
        "    # For now, let's assume it returns a random noise as waveform\n",
        "    return torch.randn(24000)  # 1 second of random audio at 24 kHz\n",
        "\n",
        "# Start timer\n",
        "start = time.time()\n",
        "\n",
        "# Generate noise (if this was intended to be used as input to a vocoder, otherwise ignore)\n",
        "noise = torch.randn(1, 1, 256).to(device)\n",
        "\n",
        "# Synthesize audio from the phonemized text (replace 'processed_text' with your phonemized text variable)\n",
        "waveform = synthesize_audio(processed_text)\n",
        "\n",
        "# Calculate runtime (for the synthesis process, adjust accordingly)\n",
        "rtf = (time.time() - start) / (len(waveform) / 24000)\n",
        "print(f\"RTF = {rtf:5f}\")\n",
        "\n",
        "# Display the generated audio\n",
        "display(ipd.Audio(waveform.numpy(), rate=24000))\n",
        "\n",
        "\n"
      ],
      "metadata": {
        "colab": {
          "base_uri": "https://localhost:8080/",
          "height": 93
        },
        "id": "uxORQ5UxgKDw",
        "outputId": "67c63930-c6d4-4a58-cacc-5d4a8b2c4153"
      },
      "execution_count": 47,
      "outputs": [
        {
          "output_type": "stream",
          "name": "stdout",
          "text": [
            "RTF = 0.007858\n"
          ]
        },
        {
          "output_type": "display_data",
          "data": {
            "text/plain": [
              "<IPython.lib.display.Audio object>"
            ],
            "text/html": [
              "\n",
              "                <audio  controls=\"controls\" >\n",
              "                    <source src=\"data:audio/wav;base64,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\" type=\"audio/wav\" />\n",
              "                    Your browser does not support the audio element.\n",
              "                </audio>\n",
              "              "
            ]
          },
          "metadata": {}
        }
      ]
    },
    {
      "cell_type": "code",
      "source": [
        "!pip install nltk\n",
        "import nltk\n",
        "nltk.download('punkt_tab') # download the 'punkt_tab' data package for sentence tokenization"
      ],
      "metadata": {
        "id": "qbs0dOMCJg0n",
        "collapsed": true,
        "colab": {
          "base_uri": "https://localhost:8080/"
        },
        "outputId": "672ea71f-2d62-41d8-ce92-c50fa7101b06"
      },
      "execution_count": null,
      "outputs": [
        {
          "output_type": "stream",
          "name": "stdout",
          "text": [
            "Requirement already satisfied: nltk in /usr/local/lib/python3.10/dist-packages (3.9.1)\n",
            "Requirement already satisfied: click in /usr/local/lib/python3.10/dist-packages (from nltk) (8.1.7)\n",
            "Requirement already satisfied: joblib in /usr/local/lib/python3.10/dist-packages (from nltk) (1.4.2)\n",
            "Requirement already satisfied: regex>=2021.8.3 in /usr/local/lib/python3.10/dist-packages (from nltk) (2024.9.11)\n",
            "Requirement already satisfied: tqdm in /usr/local/lib/python3.10/dist-packages (from nltk) (4.66.6)\n"
          ]
        },
        {
          "output_type": "stream",
          "name": "stderr",
          "text": [
            "[nltk_data] Downloading package punkt_tab to /root/nltk_data...\n",
            "[nltk_data]   Package punkt_tab is already up-to-date!\n"
          ]
        },
        {
          "output_type": "execute_result",
          "data": {
            "text/plain": [
              "True"
            ]
          },
          "metadata": {},
          "execution_count": 63
        }
      ]
    },
    {
      "cell_type": "markdown",
      "source": [
        "### Synthesize speech"
      ],
      "metadata": {
        "id": "vuCbS0gdArgJ"
      }
    },
    {
      "cell_type": "code",
      "source": [
        "# @title Input Text { display-mode: \"form\" }\n",
        "# synthesize a text\n",
        "text = \"we needed to install nltk!\" # @param {type:\"string\"}\n"
      ],
      "metadata": {
        "id": "7Ud1Y-kbBPTw"
      },
      "execution_count": 57,
      "outputs": []
    },
    {
      "cell_type": "markdown",
      "source": [
        "#### Basic synthesis (5 diffusion steps)"
      ],
      "metadata": {
        "id": "TM2NjuM7B6sz"
      }
    },
    {
      "cell_type": "code",
      "source": [
        "!grep -r \"def inference\" .\n"
      ],
      "metadata": {
        "id": "pEj0Wola6QtA",
        "colab": {
          "base_uri": "https://localhost:8080/"
        },
        "outputId": "8317abc5-4837-4889-c481-d2253fe6daa6"
      },
      "execution_count": null,
      "outputs": [
        {
          "output_type": "stream",
          "name": "stdout",
          "text": [
            "./models.py:    def inference(self, x):\n",
            "./models.py:    def inference(self, x, style):\n",
            "./Demo/Inference_LJSpeech.ipynb:    \"def inference(text, noise, diffusion_steps=5, embedding_scale=1):\\n\",\n",
            "./Demo/Inference_LibriTTS.ipynb:    \"def inference(text, ref_s, alpha = 0.3, beta = 0.7, diffusion_steps=5, embedding_scale=1):\\n\",\n",
            "./Colab/StyleTTS2_Demo_LibriTTS.ipynb:        \"def inference(text, ref_s, alpha = 0.3, beta = 0.7, diffusion_steps=5, embedding_scale=1):\\n\",\n",
            "./Colab/StyleTTS2_Demo_LJSpeech.ipynb:        \"def inference(text, noise, diffusion_steps=5, embedding_scale=1):\\n\",\n",
            "./Colab/StyleTTS2_Finetune_Demo.ipynb:        \"def inference(text, ref_s, alpha = 0.3, beta = 0.7, diffusion_steps=5, embedding_scale=1):\\n\",\n"
          ]
        }
      ]
    },
    {
      "cell_type": "markdown",
      "source": [],
      "metadata": {
        "id": "a2RAbMbL7aTj"
      }
    },
    {
      "cell_type": "code",
      "source": [
        "import time\n",
        "\n",
        "start = time.time()\n",
        "noise = torch.randn(1,1,256).to(device)\n",
        "wav = inference(text, noise, diffusion_steps=5, embedding_scale=1)\n",
        "rtf = (time.time() - start) / (len(wav) / 24000)\n",
        "print(f\"RTF = {rtf:5f}\")\n",
        "import IPython.display as ipd\n",
        "display(ipd.Audio(wav, rate=24000))"
      ],
      "metadata": {
        "id": "KILqC-V-Ay5e",
        "colab": {
          "base_uri": "https://localhost:8080/",
          "height": 356
        },
        "outputId": "e6533fc6-ff29-4ec4-810b-975094ca8fd6"
      },
      "execution_count": 58,
      "outputs": [
        {
          "output_type": "error",
          "ename": "AttributeError",
          "evalue": "'BertModel' object has no attribute 'text_encoder'",
          "traceback": [
            "\u001b[0;31m---------------------------------------------------------------------------\u001b[0m",
            "\u001b[0;31mAttributeError\u001b[0m                            Traceback (most recent call last)",
            "\u001b[0;32m<ipython-input-58-8d20bb6d8852>\u001b[0m in \u001b[0;36m<cell line: 5>\u001b[0;34m()\u001b[0m\n\u001b[1;32m      3\u001b[0m \u001b[0mstart\u001b[0m \u001b[0;34m=\u001b[0m \u001b[0mtime\u001b[0m\u001b[0;34m.\u001b[0m\u001b[0mtime\u001b[0m\u001b[0;34m(\u001b[0m\u001b[0;34m)\u001b[0m\u001b[0;34m\u001b[0m\u001b[0;34m\u001b[0m\u001b[0m\n\u001b[1;32m      4\u001b[0m \u001b[0mnoise\u001b[0m \u001b[0;34m=\u001b[0m \u001b[0mtorch\u001b[0m\u001b[0;34m.\u001b[0m\u001b[0mrandn\u001b[0m\u001b[0;34m(\u001b[0m\u001b[0;36m1\u001b[0m\u001b[0;34m,\u001b[0m\u001b[0;36m1\u001b[0m\u001b[0;34m,\u001b[0m\u001b[0;36m256\u001b[0m\u001b[0;34m)\u001b[0m\u001b[0;34m.\u001b[0m\u001b[0mto\u001b[0m\u001b[0;34m(\u001b[0m\u001b[0mdevice\u001b[0m\u001b[0;34m)\u001b[0m\u001b[0;34m\u001b[0m\u001b[0;34m\u001b[0m\u001b[0m\n\u001b[0;32m----> 5\u001b[0;31m \u001b[0mwav\u001b[0m \u001b[0;34m=\u001b[0m \u001b[0minference\u001b[0m\u001b[0;34m(\u001b[0m\u001b[0mtext\u001b[0m\u001b[0;34m,\u001b[0m \u001b[0mnoise\u001b[0m\u001b[0;34m,\u001b[0m \u001b[0mdiffusion_steps\u001b[0m\u001b[0;34m=\u001b[0m\u001b[0;36m5\u001b[0m\u001b[0;34m,\u001b[0m \u001b[0membedding_scale\u001b[0m\u001b[0;34m=\u001b[0m\u001b[0;36m1\u001b[0m\u001b[0;34m)\u001b[0m\u001b[0;34m\u001b[0m\u001b[0;34m\u001b[0m\u001b[0m\n\u001b[0m\u001b[1;32m      6\u001b[0m \u001b[0mrtf\u001b[0m \u001b[0;34m=\u001b[0m \u001b[0;34m(\u001b[0m\u001b[0mtime\u001b[0m\u001b[0;34m.\u001b[0m\u001b[0mtime\u001b[0m\u001b[0;34m(\u001b[0m\u001b[0;34m)\u001b[0m \u001b[0;34m-\u001b[0m \u001b[0mstart\u001b[0m\u001b[0;34m)\u001b[0m \u001b[0;34m/\u001b[0m \u001b[0;34m(\u001b[0m\u001b[0mlen\u001b[0m\u001b[0;34m(\u001b[0m\u001b[0mwav\u001b[0m\u001b[0;34m)\u001b[0m \u001b[0;34m/\u001b[0m \u001b[0;36m24000\u001b[0m\u001b[0;34m)\u001b[0m\u001b[0;34m\u001b[0m\u001b[0;34m\u001b[0m\u001b[0m\n\u001b[1;32m      7\u001b[0m \u001b[0mprint\u001b[0m\u001b[0;34m(\u001b[0m\u001b[0;34mf\"RTF = {rtf:5f}\"\u001b[0m\u001b[0;34m)\u001b[0m\u001b[0;34m\u001b[0m\u001b[0;34m\u001b[0m\u001b[0m\n",
            "\u001b[0;32m<ipython-input-31-798bbfb27cf4>\u001b[0m in \u001b[0;36minference\u001b[0;34m(text, noise, diffusion_steps, embedding_scale)\u001b[0m\n\u001b[1;32m     94\u001b[0m         \u001b[0mtext_mask\u001b[0m \u001b[0;34m=\u001b[0m \u001b[0mlength_to_mask\u001b[0m\u001b[0;34m(\u001b[0m\u001b[0minput_lengths\u001b[0m\u001b[0;34m)\u001b[0m\u001b[0;34m.\u001b[0m\u001b[0mto\u001b[0m\u001b[0;34m(\u001b[0m\u001b[0mtokens\u001b[0m\u001b[0;34m.\u001b[0m\u001b[0mdevice\u001b[0m\u001b[0;34m)\u001b[0m\u001b[0;34m\u001b[0m\u001b[0;34m\u001b[0m\u001b[0m\n\u001b[1;32m     95\u001b[0m \u001b[0;34m\u001b[0m\u001b[0m\n\u001b[0;32m---> 96\u001b[0;31m         \u001b[0mt_en\u001b[0m \u001b[0;34m=\u001b[0m \u001b[0mmodel\u001b[0m\u001b[0;34m.\u001b[0m\u001b[0mtext_encoder\u001b[0m\u001b[0;34m(\u001b[0m\u001b[0mtokens\u001b[0m\u001b[0;34m,\u001b[0m \u001b[0minput_lengths\u001b[0m\u001b[0;34m,\u001b[0m \u001b[0mtext_mask\u001b[0m\u001b[0;34m)\u001b[0m\u001b[0;34m\u001b[0m\u001b[0;34m\u001b[0m\u001b[0m\n\u001b[0m\u001b[1;32m     97\u001b[0m         \u001b[0mbert_dur\u001b[0m \u001b[0;34m=\u001b[0m \u001b[0mmodel\u001b[0m\u001b[0;34m.\u001b[0m\u001b[0mbert\u001b[0m\u001b[0;34m(\u001b[0m\u001b[0mtokens\u001b[0m\u001b[0;34m,\u001b[0m \u001b[0mattention_mask\u001b[0m\u001b[0;34m=\u001b[0m\u001b[0;34m(\u001b[0m\u001b[0;34m~\u001b[0m\u001b[0mtext_mask\u001b[0m\u001b[0;34m)\u001b[0m\u001b[0;34m.\u001b[0m\u001b[0mint\u001b[0m\u001b[0;34m(\u001b[0m\u001b[0;34m)\u001b[0m\u001b[0;34m)\u001b[0m\u001b[0;34m\u001b[0m\u001b[0;34m\u001b[0m\u001b[0m\n\u001b[1;32m     98\u001b[0m         \u001b[0md_en\u001b[0m \u001b[0;34m=\u001b[0m \u001b[0mmodel\u001b[0m\u001b[0;34m.\u001b[0m\u001b[0mbert_encoder\u001b[0m\u001b[0;34m(\u001b[0m\u001b[0mbert_dur\u001b[0m\u001b[0;34m)\u001b[0m\u001b[0;34m.\u001b[0m\u001b[0mtranspose\u001b[0m\u001b[0;34m(\u001b[0m\u001b[0;34m-\u001b[0m\u001b[0;36m1\u001b[0m\u001b[0;34m,\u001b[0m \u001b[0;34m-\u001b[0m\u001b[0;36m2\u001b[0m\u001b[0;34m)\u001b[0m\u001b[0;34m\u001b[0m\u001b[0;34m\u001b[0m\u001b[0m\n",
            "\u001b[0;32m/usr/local/lib/python3.10/dist-packages/torch/nn/modules/module.py\u001b[0m in \u001b[0;36m__getattr__\u001b[0;34m(self, name)\u001b[0m\n\u001b[1;32m   1929\u001b[0m             \u001b[0;32mif\u001b[0m \u001b[0mname\u001b[0m \u001b[0;32min\u001b[0m \u001b[0mmodules\u001b[0m\u001b[0;34m:\u001b[0m\u001b[0;34m\u001b[0m\u001b[0;34m\u001b[0m\u001b[0m\n\u001b[1;32m   1930\u001b[0m                 \u001b[0;32mreturn\u001b[0m \u001b[0mmodules\u001b[0m\u001b[0;34m[\u001b[0m\u001b[0mname\u001b[0m\u001b[0;34m]\u001b[0m\u001b[0;34m\u001b[0m\u001b[0;34m\u001b[0m\u001b[0m\n\u001b[0;32m-> 1931\u001b[0;31m         raise AttributeError(\n\u001b[0m\u001b[1;32m   1932\u001b[0m             \u001b[0;34mf\"'{type(self).__name__}' object has no attribute '{name}'\"\u001b[0m\u001b[0;34m\u001b[0m\u001b[0;34m\u001b[0m\u001b[0m\n\u001b[1;32m   1933\u001b[0m         )\n",
            "\u001b[0;31mAttributeError\u001b[0m: 'BertModel' object has no attribute 'text_encoder'"
          ]
        }
      ]
    },
    {
      "cell_type": "markdown",
      "source": [
        "#### With higher diffusion steps (more diverse)\n",
        "Since the sampler is ancestral, the higher the stpes, the more diverse the samples are, with the cost of slower synthesis speed."
      ],
      "metadata": {
        "id": "oZk9o-EzCBVx"
      }
    },
    {
      "cell_type": "code",
      "source": [
        "# start = time.time()\n",
        "# noise = torch.randn(1,1,256).to(device)\n",
        "# wav = inference(text, noise, diffusion_steps=10, embedding_scale=1)\n",
        "# rtf = (time.time() - start) / (len(wav) / 24000)\n",
        "# print(f\"RTF = {rtf:5f}\")\n",
        "# import IPython.display as ipd\n",
        "# display(ipd.Audio(wav, rate=24000))"
      ],
      "metadata": {
        "id": "9_OHtzMbB9gL"
      },
      "execution_count": null,
      "outputs": []
    },
    {
      "cell_type": "markdown",
      "source": [
        "### Speech expressiveness\n",
        "The following section recreates the samples shown in [Section 6](https://styletts2.github.io/#emo) of the demo page."
      ],
      "metadata": {
        "id": "NyDACd-0CaqL"
      }
    },
    {
      "cell_type": "markdown",
      "source": [
        "#### With embedding_scale=1\n",
        "This is the classifier-free guidance scale. The higher the scale, the more conditional the style is to the input text and hence more emotional."
      ],
      "metadata": {
        "id": "cRkS5VWxCck4"
      }
    },
    {
      "cell_type": "code",
      "source": [
        "# texts = {}\n",
        "# texts['Happy'] = \"We are happy to invite you to join us on a journey to the past, where we will visit the most amazing monuments ever built by human hands.\"\n",
        "# texts['Sad'] = \"I am sorry to say that we have suffered a severe setback in our efforts to restore prosperity and confidence.\"\n",
        "# texts['Angry'] = \"The field of astronomy is a joke! Its theories are based on flawed observations and biased interpretations!\"\n",
        "# texts['Surprised'] = \"I can't believe it! You mean to tell me that you have discovered a new species of bacteria in this pond?\"\n",
        "\n",
        "# for k,v in texts.items():\n",
        "#     noise = torch.randn(1,1,256).to(device)\n",
        "#     wav = inference(v, noise, diffusion_steps=10, embedding_scale=1)\n",
        "#     print(k + \": \")\n",
        "#     display(ipd.Audio(wav, rate=24000, normalize=False))"
      ],
      "metadata": {
        "id": "H5g5RO-mCbZB"
      },
      "execution_count": null,
      "outputs": []
    },
    {
      "cell_type": "markdown",
      "source": [
        "#### With embedding_scale=2"
      ],
      "metadata": {
        "id": "f4S8TXSpCgpA"
      }
    },
    {
      "cell_type": "code",
      "source": [
        "# texts = {}\n",
        "# texts['Happy'] = \"We are happy to invite you to join us on a journey to the past, where we will visit the most amazing monuments ever built by human hands.\"\n",
        "# texts['Sad'] = \"I am sorry to say that we have suffered a severe setback in our efforts to restore prosperity and confidence.\"\n",
        "# texts['Angry'] = \"The field of astronomy is a joke! Its theories are based on flawed observations and biased interpretations!\"\n",
        "# texts['Surprised'] = \"I can't believe it! You mean to tell me that you have discovered a new species of bacteria in this pond?\"\n",
        "\n",
        "# for k,v in texts.items():\n",
        "#     noise = torch.randn(1,1,256).to(device)\n",
        "#     wav = inference(v, noise, diffusion_steps=10, embedding_scale=2) # embedding_scale=2 for more pronounced emotion\n",
        "#     print(k + \": \")\n",
        "#     display(ipd.Audio(wav, rate=24000, normalize=False))"
      ],
      "metadata": {
        "id": "xHHIdeNrCezC"
      },
      "execution_count": null,
      "outputs": []
    },
    {
      "cell_type": "markdown",
      "source": [
        "### Long-form generation\n",
        "This section includes basic implementation of Algorithm 1 in the paper for consistent longform audio generation. The example passage is taken from [Section 5](https://styletts2.github.io/#long) of the demo page."
      ],
      "metadata": {
        "id": "nAh7Tov4CkuH"
      }
    },
    {
      "cell_type": "code",
      "source": [
        "passage = '''If the supply of fruit is greater than the family needs, it may be made a source of income by sending the fresh fruit to the market if there is one near enough, or by preserving, canning, and making jelly for sale. To make such an enterprise a success the fruit and work must be first class. There is magic in the word \"Homemade,\" when the product appeals to the eye and the palate; but many careless and incompetent people have found to their sorrow that this word has not magic enough to float inferior goods on the market. As a rule large canning and preserving establishments are clean and have the best appliances, and they employ chemists and skilled labor. The home product must be very good to compete with the attractive goods that are sent out from such establishments. Yet for first-class homemade products there is a market in all large cities. All first-class grocers have customers who purchase such goods.''' # @param {type:\"string\"}"
      ],
      "metadata": {
        "cellView": "form",
        "id": "IJwUbgvACoDu"
      },
      "execution_count": null,
      "outputs": []
    },
    {
      "cell_type": "code",
      "source": [
        "# sentences = passage.split('.') # simple split by comma\n",
        "# wavs = []\n",
        "# s_prev = None\n",
        "# for text in sentences:\n",
        "#     if text.strip() == \"\": continue\n",
        "#     text += '.' # add it back\n",
        "#     noise = torch.randn(1,1,256).to(device)\n",
        "#     wav, s_prev = LFinference(text, s_prev, noise, alpha=0.7, diffusion_steps=10, embedding_scale=1.5)\n",
        "#     wavs.append(wav)\n",
        "# display(ipd.Audio(np.concatenate(wavs), rate=24000, normalize=False))"
      ],
      "metadata": {
        "id": "nP-7i2QAC0JT",
        "collapsed": true
      },
      "execution_count": null,
      "outputs": []
    },
    {
      "cell_type": "markdown",
      "source": [
        "### Streaming Data"
      ],
      "metadata": {
        "id": "VrC7gj8JrdIs"
      }
    },
    {
      "cell_type": "markdown",
      "source": [],
      "metadata": {
        "id": "Dkf9N3I4hXvR"
      }
    },
    {
      "cell_type": "code",
      "source": [
        "!pip install datasets transformers"
      ],
      "metadata": {
        "id": "tcNy0l4thUI9",
        "colab": {
          "base_uri": "https://localhost:8080/"
        },
        "outputId": "a49a33de-bd32-4794-dff1-558e74a20acb"
      },
      "execution_count": 49,
      "outputs": [
        {
          "output_type": "stream",
          "name": "stdout",
          "text": [
            "Requirement already satisfied: datasets in /usr/local/lib/python3.10/dist-packages (3.2.0)\n",
            "Requirement already satisfied: transformers in /usr/local/lib/python3.10/dist-packages (4.46.3)\n",
            "Requirement already satisfied: filelock in /usr/local/lib/python3.10/dist-packages (from datasets) (3.16.1)\n",
            "Requirement already satisfied: numpy>=1.17 in /usr/local/lib/python3.10/dist-packages (from datasets) (1.26.4)\n",
            "Requirement already satisfied: pyarrow>=15.0.0 in /usr/local/lib/python3.10/dist-packages (from datasets) (17.0.0)\n",
            "Requirement already satisfied: dill<0.3.9,>=0.3.0 in /usr/local/lib/python3.10/dist-packages (from datasets) (0.3.8)\n",
            "Requirement already satisfied: pandas in /usr/local/lib/python3.10/dist-packages (from datasets) (2.2.2)\n",
            "Requirement already satisfied: requests>=2.32.2 in /usr/local/lib/python3.10/dist-packages (from datasets) (2.32.3)\n",
            "Requirement already satisfied: tqdm>=4.66.3 in /usr/local/lib/python3.10/dist-packages (from datasets) (4.66.6)\n",
            "Requirement already satisfied: xxhash in /usr/local/lib/python3.10/dist-packages (from datasets) (3.5.0)\n",
            "Requirement already satisfied: multiprocess<0.70.17 in /usr/local/lib/python3.10/dist-packages (from datasets) (0.70.16)\n",
            "Requirement already satisfied: fsspec<=2024.9.0,>=2023.1.0 in /usr/local/lib/python3.10/dist-packages (from fsspec[http]<=2024.9.0,>=2023.1.0->datasets) (2024.9.0)\n",
            "Requirement already satisfied: aiohttp in /usr/local/lib/python3.10/dist-packages (from datasets) (3.11.9)\n",
            "Requirement already satisfied: huggingface-hub>=0.23.0 in /usr/local/lib/python3.10/dist-packages (from datasets) (0.26.3)\n",
            "Requirement already satisfied: packaging in /usr/local/lib/python3.10/dist-packages (from datasets) (24.2)\n",
            "Requirement already satisfied: pyyaml>=5.1 in /usr/local/lib/python3.10/dist-packages (from datasets) (6.0.2)\n",
            "Requirement already satisfied: regex!=2019.12.17 in /usr/local/lib/python3.10/dist-packages (from transformers) (2024.9.11)\n",
            "Requirement already satisfied: tokenizers<0.21,>=0.20 in /usr/local/lib/python3.10/dist-packages (from transformers) (0.20.3)\n",
            "Requirement already satisfied: safetensors>=0.4.1 in /usr/local/lib/python3.10/dist-packages (from transformers) (0.4.5)\n",
            "Requirement already satisfied: aiohappyeyeballs>=2.3.0 in /usr/local/lib/python3.10/dist-packages (from aiohttp->datasets) (2.4.4)\n",
            "Requirement already satisfied: aiosignal>=1.1.2 in /usr/local/lib/python3.10/dist-packages (from aiohttp->datasets) (1.3.1)\n",
            "Requirement already satisfied: async-timeout<6.0,>=4.0 in /usr/local/lib/python3.10/dist-packages (from aiohttp->datasets) (4.0.3)\n",
            "Requirement already satisfied: attrs>=17.3.0 in /usr/local/lib/python3.10/dist-packages (from aiohttp->datasets) (24.2.0)\n",
            "Requirement already satisfied: frozenlist>=1.1.1 in /usr/local/lib/python3.10/dist-packages (from aiohttp->datasets) (1.5.0)\n",
            "Requirement already satisfied: multidict<7.0,>=4.5 in /usr/local/lib/python3.10/dist-packages (from aiohttp->datasets) (6.1.0)\n",
            "Requirement already satisfied: propcache>=0.2.0 in /usr/local/lib/python3.10/dist-packages (from aiohttp->datasets) (0.2.1)\n",
            "Requirement already satisfied: yarl<2.0,>=1.17.0 in /usr/local/lib/python3.10/dist-packages (from aiohttp->datasets) (1.18.3)\n",
            "Requirement already satisfied: typing-extensions>=3.7.4.3 in /usr/local/lib/python3.10/dist-packages (from huggingface-hub>=0.23.0->datasets) (4.12.2)\n",
            "Requirement already satisfied: charset-normalizer<4,>=2 in /usr/local/lib/python3.10/dist-packages (from requests>=2.32.2->datasets) (3.4.0)\n",
            "Requirement already satisfied: idna<4,>=2.5 in /usr/local/lib/python3.10/dist-packages (from requests>=2.32.2->datasets) (3.10)\n",
            "Requirement already satisfied: urllib3<3,>=1.21.1 in /usr/local/lib/python3.10/dist-packages (from requests>=2.32.2->datasets) (2.2.3)\n",
            "Requirement already satisfied: certifi>=2017.4.17 in /usr/local/lib/python3.10/dist-packages (from requests>=2.32.2->datasets) (2024.8.30)\n",
            "Requirement already satisfied: python-dateutil>=2.8.2 in /usr/local/lib/python3.10/dist-packages (from pandas->datasets) (2.8.2)\n",
            "Requirement already satisfied: pytz>=2020.1 in /usr/local/lib/python3.10/dist-packages (from pandas->datasets) (2024.2)\n",
            "Requirement already satisfied: tzdata>=2022.7 in /usr/local/lib/python3.10/dist-packages (from pandas->datasets) (2024.2)\n",
            "Requirement already satisfied: six>=1.5 in /usr/local/lib/python3.10/dist-packages (from python-dateutil>=2.8.2->pandas->datasets) (1.16.0)\n"
          ]
        }
      ]
    },
    {
      "cell_type": "code",
      "source": [
        "# Import all necessary libraries\n",
        "from datasets import load_dataset, Dataset, DatasetDict\n",
        "from transformers import AutoTokenizer, TrainingArguments, Trainer, DataCollatorWithPadding\n",
        "import pandas as pd\n",
        "import torch\n",
        "\n",
        "# Load the tokenizer for the German BERT model\n",
        "tokenizer = AutoTokenizer.from_pretrained('bert-base-german-dbmdz-uncased')\n"
      ],
      "metadata": {
        "id": "zLGQXnBWl4KQ",
        "colab": {
          "base_uri": "https://localhost:8080/",
          "height": 145,
          "referenced_widgets": [
            "b94898295b3642dc8ed804557fb795eb",
            "00c49d50cb8c42f0b4844b87bd5d0e47",
            "997f07bd149048ceb692449376579aca",
            "5528086232d44512875bc4c7393a2594",
            "b64d51886a3147b69eed364b24c7d230",
            "019d117786f44eed894c8f3617720111",
            "73a7b068d6b44d0bb9e096ea532c20bf",
            "65ecafb734274989b64cf0b05c94e1ea",
            "05d0b90fdb3c49cead8214331e82ac2d",
            "6a76f996f2b24d22ba47984e426c8f34",
            "b77e163903a84a5bbabbb2ca62156e64",
            "ad6c7a7da93e441b94854d5d155999aa",
            "d3182a27aac240cca26d911775a65def",
            "3635d2839853438e98fd7e2573fff5de",
            "236d6e664f4345bc9e8a91cc3d046055",
            "34b38b687dc24e929b40289b03606444",
            "d71aef15733d4b5194cd6fe9b9386133",
            "6a91bb172f144c84aaf0426a0c58630e",
            "33a02b85c5434f6a902cfb5351360687",
            "79898916ce444c05819121baaf0403f8",
            "48ef94dbe1a34c8ca2023d62f0cf5dde",
            "d122cd376a6d4681ace811ce5d99e4ec",
            "80736c8ddb1747cb9a5884812da1f6c5",
            "ac9664cfbd8840ae95efbcc304d32ba4",
            "b0b06c2991434fc29e084ad00ad83bf9",
            "01c7680faa6048a494c6ef80093b4064",
            "35b2dea0d2d1443d8a9a054125f5dcfe",
            "a541b7bc923b4e498f756ef22e92af25",
            "a8ced8651ab7440abb0ef4fdc1c78ee8",
            "53c21609b2df40d896522dc63dbcc7af",
            "e638d5dc4cdc4954b9405542c0344a07",
            "0d208ac13aec4e8989dbf5bf81dbbf02",
            "3b4fa7aeee284a928d2c6c9d983033d1",
            "494c09a407d14689a987855882e0031a",
            "35b8d8582c3f4681be76844a31944e86",
            "7902a65329594415afd6675c04bbd0b1",
            "581ae55b85a241d98dbbe64f993ff8f6",
            "2a88750bca4a4337a981a396d7873c61",
            "42372d81b76244d3ae64ba015c3f83d0",
            "21d144ac43fc4115920ad96eed17f9f3",
            "abb9494620f44728a0636b29da4ce52c",
            "021e33bd2c634c90a7d8ba65b27f0915",
            "cea1dbe52e3a4db7956cd34e6b1b9e2e",
            "e4bb3ef735e44c05b1d786eedfbb4bf7"
          ]
        },
        "outputId": "a437c06c-6d4e-4ef8-9cd7-d66009a92b60"
      },
      "execution_count": 50,
      "outputs": [
        {
          "output_type": "display_data",
          "data": {
            "text/plain": [
              "tokenizer_config.json:   0%|          | 0.00/48.0 [00:00<?, ?B/s]"
            ],
            "application/vnd.jupyter.widget-view+json": {
              "version_major": 2,
              "version_minor": 0,
              "model_id": "b94898295b3642dc8ed804557fb795eb"
            }
          },
          "metadata": {}
        },
        {
          "output_type": "display_data",
          "data": {
            "text/plain": [
              "config.json:   0%|          | 0.00/433 [00:00<?, ?B/s]"
            ],
            "application/vnd.jupyter.widget-view+json": {
              "version_major": 2,
              "version_minor": 0,
              "model_id": "ad6c7a7da93e441b94854d5d155999aa"
            }
          },
          "metadata": {}
        },
        {
          "output_type": "display_data",
          "data": {
            "text/plain": [
              "vocab.txt:   0%|          | 0.00/247k [00:00<?, ?B/s]"
            ],
            "application/vnd.jupyter.widget-view+json": {
              "version_major": 2,
              "version_minor": 0,
              "model_id": "80736c8ddb1747cb9a5884812da1f6c5"
            }
          },
          "metadata": {}
        },
        {
          "output_type": "display_data",
          "data": {
            "text/plain": [
              "tokenizer.json:   0%|          | 0.00/487k [00:00<?, ?B/s]"
            ],
            "application/vnd.jupyter.widget-view+json": {
              "version_major": 2,
              "version_minor": 0,
              "model_id": "494c09a407d14689a987855882e0031a"
            }
          },
          "metadata": {}
        }
      ]
    },
    {
      "cell_type": "code",
      "source": [
        "# from datasets import load_dataset\n",
        "\n",
        "# # Load a dataset in streaming mode\n",
        "# dataset = load_dataset(\"facebook/multilingual_librispeech\", \"german\", split=\"train\", streaming=True)\n",
        "\n"
      ],
      "metadata": {
        "id": "hSczJ3Qsrblw"
      },
      "execution_count": null,
      "outputs": []
    },
    {
      "cell_type": "code",
      "source": [
        "# # # def preprocess_data(batch):\n",
        "# # #     # Tokenize the transcript\n",
        "# # #     tokenized = tokenizer(batch['transcript'], truncation=True, padding='max_length')\n",
        "\n",
        "# # #     # Process audio into mel-spectrogram features\n",
        "# # #     mel_transform = torchaudio.transforms.MelSpectrogram()\n",
        "# # #     mel_features = [\n",
        "# # #         mel_transform(torch.tensor(audio['array'])) for audio in batch['audio']\n",
        "# # #     ]\n",
        "\n",
        "# # #     # Map accents to numeric labels if necessary\n",
        "# # #     accent_map = {'german': 0}  # Add more accents as needed\n",
        "# # #     accents = [accent_map.get('german', -1) for _ in batch['transcript']]  # Use the same label for all\n",
        "\n",
        "# # #     # Add fields to tokenized dictionary\n",
        "# # #     tokenized['mel_features'] = mel_features\n",
        "# # #     tokenized['accent'] = accents  # Explicitly add the accent field\n",
        "# # #     tokenized['speaker_id'] = batch['speaker_id']  # Keep speaker_id as-is\n",
        "\n",
        "# # #     return tokenized\n",
        "\n",
        "\n",
        "def preprocess_data(batch):\n",
        "    # Tokenize the transcript\n",
        "    tokenized = tokenizer(batch['transcript'], truncation=True, padding='max_length')\n",
        "\n",
        "    # Add a hardcoded accent value if missing\n",
        "    accent_map = {'german': 0, 'english': 1} # Example mapping for accents\n",
        "    if 'accent' not in batch:\n",
        "        batch['accent'] = ['german'] * len(batch['transcript'])  # Default to 'german'\n",
        "\n",
        "    # Map accents to numeric labels\n",
        "    labels = [accent_map.get(accent, -1) for accent in batch['accent']]\n",
        "    tokenized['labels'] = torch.tensor(labels, dtype=torch.float)\n",
        "\n",
        "    return tokenized\n",
        "\n"
      ],
      "metadata": {
        "id": "zjUd4g4UssJK"
      },
      "execution_count": 51,
      "outputs": []
    },
    {
      "cell_type": "code",
      "source": [
        "# from transformers import AutoTokenizer\n",
        "\n",
        "# # Initialize the tokenizer outside the function to avoid repeated initializations\n",
        "# tokenizer = AutoTokenizer.from_pretrained('bert-base-german-dbmdz-uncased')\n",
        "\n",
        "# def preprocess_data(batch):\n",
        "#     # Tokenize the text\n",
        "#     tokenized_batch = tokenizer(batch['transcript'], padding=True, truncation=True, max_length=512, return_tensors=\"pt\")\n",
        "\n",
        "#     # Handle accents if they are part of the dataset\n",
        "#     if 'accent' in batch:\n",
        "#         accent_map = {'german': 0, 'english': 1}  # Define your accent map as needed\n",
        "#         accent_labels = [accent_map.get(accent, -1) for accent in batch['accent']]\n",
        "#         tokenized_batch['accent_labels'] = accent_labels\n",
        "\n",
        "#     return tokenized_batch\n",
        "\n"
      ],
      "metadata": {
        "id": "dUoVPieG5Ydn"
      },
      "execution_count": null,
      "outputs": []
    },
    {
      "cell_type": "code",
      "source": [
        "# Load a dataset in streaming mode\n",
        "streaming_dataset = load_dataset(\"facebook/multilingual_librispeech\", \"german\", split=\"train\", streaming=True)\n",
        "\n",
        "# Apply preprocessing to the dataset\n",
        "tokenized_dataset = streaming_dataset.take(500).map(preprocess_data, batched=True)\n"
      ],
      "metadata": {
        "id": "Fh5ZdK3ll-M_",
        "colab": {
          "base_uri": "https://localhost:8080/",
          "height": 113,
          "referenced_widgets": [
            "16dfdb0e99634f90bef5992a03bda2b5",
            "bee03c76b0244fac86026080ab0d22ff",
            "d485e4785771445f97855454918a10dd",
            "fa969e6a87774fe492d7625128718987",
            "c8c3256acb874522bde4756c169a0480",
            "73b76a8329b7445c9e6033659c9145a9",
            "526943a98dad423da35edbcb188c289f",
            "4e1caba6aac84bc783f8451adc6c5a42",
            "bbc6e277e2ce49b39932cd0a2fbf3fff",
            "fce49dcf47c44926bb8032bc32ea0ea3",
            "4478e9e170de4209a1091eacac4e0581",
            "ab18f8d2f07c43d39da19b9c9b288c5f",
            "0b3520bb1fd1484eb5c392bb0a91f957",
            "169d98fb889c4b2a8e42d93e386202e5",
            "dcca517c7b844616959352a11925aa81",
            "19542f33003644958c0604f5e7e93c89",
            "7fca0e197fa84dc5b7d4b3d03b3bde99",
            "9175ef7f228d4e3fb4a009126721539a",
            "c871489f679b446b8f104eebb7c9d3d0",
            "0b9f94a3fc1040fd9ef5b83787587c5a",
            "4a2abcdac9e84053a03c327fa6c24153",
            "c1d3cbd2e0304888add6827db369aa5a",
            "5b3a363ba43244acb5b1749a9c7ac970",
            "deaf8e1e381a444bba8b194f06461acf",
            "969f8f1c527a4442a022597f6cbdd2cd",
            "4171f59d886848a88599553c441a19fc",
            "75ded1db06014094862a887cbf025076",
            "9f21e51063d64e6f84e62650ff8acb5d",
            "f0a1dbea5cd84021884299c85d6c0665",
            "983d0bb7abb44d92897a4fd59dce7d30",
            "797d9291dc88488b91624c4dfe89b9c2",
            "1ea1cb5839534d198c3a2ddc2219378b",
            "be83ada53c764e088634004ee6a8e925"
          ]
        },
        "outputId": "12be9eb1-12f6-47d1-e3b3-f629b0766872"
      },
      "execution_count": 52,
      "outputs": [
        {
          "output_type": "display_data",
          "data": {
            "text/plain": [
              "README.md:   0%|          | 0.00/18.1k [00:00<?, ?B/s]"
            ],
            "application/vnd.jupyter.widget-view+json": {
              "version_major": 2,
              "version_minor": 0,
              "model_id": "16dfdb0e99634f90bef5992a03bda2b5"
            }
          },
          "metadata": {}
        },
        {
          "output_type": "display_data",
          "data": {
            "text/plain": [
              "Resolving data files:   0%|          | 0/48 [00:00<?, ?it/s]"
            ],
            "application/vnd.jupyter.widget-view+json": {
              "version_major": 2,
              "version_minor": 0,
              "model_id": "ab18f8d2f07c43d39da19b9c9b288c5f"
            }
          },
          "metadata": {}
        },
        {
          "output_type": "display_data",
          "data": {
            "text/plain": [
              "Resolving data files:   0%|          | 0/63 [00:00<?, ?it/s]"
            ],
            "application/vnd.jupyter.widget-view+json": {
              "version_major": 2,
              "version_minor": 0,
              "model_id": "5b3a363ba43244acb5b1749a9c7ac970"
            }
          },
          "metadata": {}
        }
      ]
    },
    {
      "cell_type": "code",
      "source": [
        "# import pandas as pd\n",
        "# from datasets import Dataset\n",
        "\n",
        "# data_samples = []\n",
        "# for i, sample in enumerate(dataset):\n",
        "#     data_samples.append(sample)\n",
        "#     if i == 20:  # Collect only the first 21 samples\n",
        "#         break\n",
        "\n",
        "# # Create a DataFrame\n",
        "# df = pd.DataFrame(data_samples)\n",
        "# df[\"accent\"] = \"german\"\n",
        "\n",
        "# hf_dataset = Dataset.from_pandas(df)\n",
        "# # Print the Data\n",
        "\n",
        "# df.columns"
      ],
      "metadata": {
        "id": "Ih5-1wdCrnf6"
      },
      "execution_count": null,
      "outputs": []
    },
    {
      "cell_type": "code",
      "source": [
        "# !apt-get install tree"
      ],
      "metadata": {
        "id": "m7PnZKxJ42Dd",
        "collapsed": true,
        "colab": {
          "base_uri": "https://localhost:8080/"
        },
        "outputId": "c123b51d-c930-42f4-8359-9729f54dc7bb"
      },
      "execution_count": null,
      "outputs": [
        {
          "output_type": "stream",
          "name": "stdout",
          "text": [
            "Reading package lists... Done\n",
            "Building dependency tree... Done\n",
            "Reading state information... Done\n",
            "The following NEW packages will be installed:\n",
            "  tree\n",
            "0 upgraded, 1 newly installed, 0 to remove and 49 not upgraded.\n",
            "Need to get 47.9 kB of archives.\n",
            "After this operation, 116 kB of additional disk space will be used.\n",
            "Get:1 http://archive.ubuntu.com/ubuntu jammy/universe amd64 tree amd64 2.0.2-1 [47.9 kB]\n",
            "Fetched 47.9 kB in 1s (88.5 kB/s)\n",
            "Selecting previously unselected package tree.\n",
            "(Reading database ... 124173 files and directories currently installed.)\n",
            "Preparing to unpack .../tree_2.0.2-1_amd64.deb ...\n",
            "Unpacking tree (2.0.2-1) ...\n",
            "Setting up tree (2.0.2-1) ...\n",
            "Processing triggers for man-db (2.10.2-1) ...\n"
          ]
        }
      ]
    },
    {
      "cell_type": "code",
      "source": [
        "# Take 500 samples and preprocess\n",
        "data_samples = list(streaming_dataset.take(10))\n",
        "data_dict = {key: [d[key] for d in data_samples] for key in data_samples[0].keys()}\n",
        "dataset = Dataset.from_dict(data_dict)"
      ],
      "metadata": {
        "collapsed": true,
        "id": "qASZUeJHmFvQ"
      },
      "execution_count": 53,
      "outputs": []
    },
    {
      "cell_type": "code",
      "source": [
        "# tokenized_dataset = dataset.map(\n",
        "#     preprocess_data,\n",
        "#     batched=True,\n",
        "#     remove_columns=['original_path', 'begin_time', 'end_time', 'chapter_id', 'file', 'id']\n",
        "# )\n",
        "\n",
        "\n",
        "# Now use this function with dataset.map\n",
        "tokenized_dataset = dataset.map(\n",
        "    preprocess_data,\n",
        "    batched=True,\n",
        "    remove_columns=['original_path', 'begin_time', 'end_time', 'chapter_id', 'file', 'id']\n",
        ")\n",
        "\n"
      ],
      "metadata": {
        "id": "GsUp6WKouW0W",
        "colab": {
          "base_uri": "https://localhost:8080/",
          "height": 49,
          "referenced_widgets": [
            "c73b72051346411a9e742dfef55206df",
            "d16bcc82dba94edb9239fc3733c16df9",
            "cef5d33e1ac44a78beb57361718644fb",
            "fc146f2d0cf04e3fadac329e9f9338eb",
            "e0b3889b7afd4c7e9608a3f521b55fff",
            "83d8c215b32a4f67bab2afc73a8c7c0d",
            "cc4ae0123f224fec82404993f812fa3e",
            "42f4cc0b63bd434097e2ce81646069c6",
            "85549585768d4af987fb757cd67fd2e4",
            "8be3efda4bc14628b334827be46ba357",
            "e33f69cf9da54cc184c95332d0cb11e5"
          ]
        },
        "outputId": "23c32399-43cd-48e7-f3f0-33980b2a121f"
      },
      "execution_count": 54,
      "outputs": [
        {
          "output_type": "display_data",
          "data": {
            "text/plain": [
              "Map:   0%|          | 0/10 [00:00<?, ? examples/s]"
            ],
            "application/vnd.jupyter.widget-view+json": {
              "version_major": 2,
              "version_minor": 0,
              "model_id": "c73b72051346411a9e742dfef55206df"
            }
          },
          "metadata": {}
        }
      ]
    },
    {
      "cell_type": "code",
      "source": [
        "# @title\n",
        "!tree"
      ],
      "metadata": {
        "id": "T4bGr_C85G7T",
        "collapsed": true
      },
      "execution_count": null,
      "outputs": []
    },
    {
      "cell_type": "code",
      "source": [
        "# Split into train, validation, and test sets\n",
        "split_dataset = tokenized_dataset.train_test_split(test_size=0.3, seed=42)\n",
        "validation_test_split = split_dataset['test'].train_test_split(test_size=0.5, seed=42)\n",
        "\n",
        "# Organize splits into a DatasetDict\n",
        "final_splits = DatasetDict({\n",
        "    'train': split_dataset['train'],\n",
        "    'validation': validation_test_split['train'],\n",
        "    'test': validation_test_split['test']\n",
        "})\n"
      ],
      "metadata": {
        "id": "oUMoxWpbmJel"
      },
      "execution_count": 59,
      "outputs": []
    },
    {
      "cell_type": "code",
      "source": [
        "from transformers import TrainingArguments\n",
        "import wandb\n",
        "\n",
        "wandb.login()\n",
        "\n",
        "training_args = TrainingArguments(\n",
        "    output_dir='./results',\n",
        "    run_name='my_specific_run',  # Set a unique run name\n",
        "    num_train_epochs=5,\n",
        "    logging_steps=10,\n",
        "    evaluation_strategy='steps',\n",
        "    eval_steps=50,\n",
        "    per_device_train_batch_size=4,  # Reduced batch size\n",
        "    per_device_eval_batch_size=8,   # Reduced eval batch size\n",
        "    warmup_steps=500,\n",
        "    weight_decay=0.01,\n",
        "    logging_dir='./logs',\n",
        "    learning_rate=1e-5,\n",
        "    save_steps=500,  # Save checkpoints less frequently\n",
        "    save_strategy='steps',\n",
        "    load_best_model_at_end=True,\n",
        "    remove_unused_columns=True,  # Ensure unused columns are dropped\n",
        "    report_to=\"wandb\",  # This will ensure that the training progress is reported to wandb\n",
        "    fp16=True,  # Enable mixed precision training\n",
        "    gradient_accumulation_steps=8,  # Accumulate gradients to simulate a larger batch size\n",
        ")\n",
        "\n",
        "# You can now pass these training arguments to the Trainer\n"
      ],
      "metadata": {
        "id": "_LvxIGz2twp3",
        "colab": {
          "base_uri": "https://localhost:8080/",
          "height": 156
        },
        "outputId": "ff5a3893-1af3-4c72-a6cc-7e502bc6a38e"
      },
      "execution_count": 60,
      "outputs": [
        {
          "output_type": "stream",
          "name": "stderr",
          "text": [
            "\u001b[34m\u001b[1mwandb\u001b[0m: Using wandb-core as the SDK backend.  Please refer to https://wandb.me/wandb-core for more information.\n"
          ]
        },
        {
          "output_type": "display_data",
          "data": {
            "text/plain": [
              "<IPython.core.display.Javascript object>"
            ],
            "application/javascript": [
              "\n",
              "        window._wandbApiKey = new Promise((resolve, reject) => {\n",
              "            function loadScript(url) {\n",
              "            return new Promise(function(resolve, reject) {\n",
              "                let newScript = document.createElement(\"script\");\n",
              "                newScript.onerror = reject;\n",
              "                newScript.onload = resolve;\n",
              "                document.body.appendChild(newScript);\n",
              "                newScript.src = url;\n",
              "            });\n",
              "            }\n",
              "            loadScript(\"https://cdn.jsdelivr.net/npm/postmate/build/postmate.min.js\").then(() => {\n",
              "            const iframe = document.createElement('iframe')\n",
              "            iframe.style.cssText = \"width:0;height:0;border:none\"\n",
              "            document.body.appendChild(iframe)\n",
              "            const handshake = new Postmate({\n",
              "                container: iframe,\n",
              "                url: 'https://wandb.ai/authorize'\n",
              "            });\n",
              "            const timeout = setTimeout(() => reject(\"Couldn't auto authenticate\"), 5000)\n",
              "            handshake.then(function(child) {\n",
              "                child.on('authorize', data => {\n",
              "                    clearTimeout(timeout)\n",
              "                    resolve(data)\n",
              "                });\n",
              "            });\n",
              "            })\n",
              "        });\n",
              "    "
            ]
          },
          "metadata": {}
        },
        {
          "output_type": "stream",
          "name": "stderr",
          "text": [
            "\u001b[34m\u001b[1mwandb\u001b[0m: Logging into wandb.ai. (Learn how to deploy a W&B server locally: https://wandb.me/wandb-server)\n",
            "\u001b[34m\u001b[1mwandb\u001b[0m: You can find your API key in your browser here: https://wandb.ai/authorize\n",
            "wandb: Paste an API key from your profile and hit enter, or press ctrl+c to quit:"
          ]
        },
        {
          "name": "stdout",
          "output_type": "stream",
          "text": [
            " ··········\n"
          ]
        },
        {
          "output_type": "stream",
          "name": "stderr",
          "text": [
            "\u001b[34m\u001b[1mwandb\u001b[0m: Appending key for api.wandb.ai to your netrc file: /root/.netrc\n",
            "/usr/local/lib/python3.10/dist-packages/transformers/training_args.py:1568: FutureWarning: `evaluation_strategy` is deprecated and will be removed in version 4.46 of 🤗 Transformers. Use `eval_strategy` instead\n",
            "  warnings.warn(\n"
          ]
        }
      ]
    },
    {
      "cell_type": "code",
      "source": [
        "# # Load the model\n",
        "# from transformers import AutoModel\n",
        "\n",
        "\n",
        "# model = AutoModel.from_pretrained('bert-base-multilingual-cased')\n",
        "# assert isinstance(model, torch.nn.Module), \"Model not loaded as a PyTorch module\"\n",
        "\n",
        "from transformers import AutoModel\n",
        "\n",
        "# Replace AutoModel with a classification model\n",
        "model = AutoModel.from_pretrained(\n",
        "    'bert-base-multilingual-cased',\n",
        "    num_labels=1  # Adjust for the number of labels (e.g., 1 for regression, or >1 for classification)\n",
        ")\n",
        "\n"
      ],
      "metadata": {
        "id": "7y4zj2J_sMyt"
      },
      "execution_count": 61,
      "outputs": []
    },
    {
      "cell_type": "code",
      "source": [],
      "metadata": {
        "id": "5wsQ7RcBRCyJ"
      },
      "execution_count": null,
      "outputs": []
    },
    {
      "cell_type": "markdown",
      "source": [],
      "metadata": {
        "id": "gj5Aw1-Ix7vP"
      }
    },
    {
      "cell_type": "code",
      "source": [
        "# Print a sample from the tokenized dataset\n",
        "print(final_splits['train'][0].keys())  # Verify that input_ids, attention_mask, and labels are present\n"
      ],
      "metadata": {
        "id": "nB_u3Qq_sQQA",
        "colab": {
          "base_uri": "https://localhost:8080/"
        },
        "outputId": "016cc306-0cdc-452d-dc72-d76134697c44"
      },
      "execution_count": 62,
      "outputs": [
        {
          "output_type": "stream",
          "name": "stdout",
          "text": [
            "dict_keys(['audio', 'transcript', 'audio_duration', 'speaker_id', 'accent', 'input_ids', 'token_type_ids', 'attention_mask', 'labels'])\n"
          ]
        }
      ]
    },
    {
      "cell_type": "code",
      "source": [
        "# Take the first example from the tokenized dataset\n",
        "for example in tokenized_dataset.take(1):\n",
        "    print(example)\n"
      ],
      "metadata": {
        "id": "1HjWfThGgwel"
      },
      "execution_count": null,
      "outputs": []
    },
    {
      "cell_type": "code",
      "source": [
        "# Initialize the Trainer\n",
        "trainer = Trainer(\n",
        "    model=model,\n",
        "    args=training_args,\n",
        "    train_dataset=final_splits['train'],\n",
        "    eval_dataset=final_splits['validation'],\n",
        "    data_collator=DataCollatorWithPadding(tokenizer=tokenizer),\n",
        ")\n",
        "\n"
      ],
      "metadata": {
        "id": "KviV3AVEuhCK"
      },
      "execution_count": 63,
      "outputs": []
    },
    {
      "cell_type": "code",
      "source": [
        "from transformers import TrainingArguments\n",
        "\n",
        "training_args = TrainingArguments(\n",
        "    output_dir='./results',             # Directory for saving training outputs\n",
        "    num_train_epochs=5,                 # Number of training epochs\n",
        "    per_device_train_batch_size=4,      # Batch size for training\n",
        "    per_device_eval_batch_size=8,       # Batch size for evaluation\n",
        "    warmup_steps=500,                   # Number of warmup steps for learning rate scheduler\n",
        "    weight_decay=0.01,                  # Weight decay for regularization\n",
        "    logging_dir='./logs',               # Directory for storing logs\n",
        "    logging_steps=10,                   # Log training info every X steps\n",
        "    eval_steps=50,                      # Evaluate the model every X steps\n",
        "    evaluation_strategy='steps',        # Evaluate with this strategy: steps or epoch\n",
        "    save_strategy='steps',              # Save checkpoints every X steps\n",
        "    save_steps=50,                      # How often to save the model\n",
        "    load_best_model_at_end=True,        # Whether to load the best model at the end of training\n",
        "    report_to=\"none\"                    # Disable reporting to any integrations like WandB\n",
        ")\n",
        "\n",
        "# Note: The report_to=\"none\" is set to disable reporting to external platforms.\n",
        "\n",
        "\n",
        "\n",
        "import torch\n",
        "from transformers import PreTrainedModel, AutoConfig\n",
        "\n",
        "class CustomModel(PreTrainedModel):\n",
        "    def __init__(self, config):\n",
        "        super().__init__(config)\n",
        "        self.transformer = AutoModel.from_pretrained('bert-base-multilingual-cased')\n",
        "\n",
        "    def forward(self, input_ids, attention_mask=None, labels=None):\n",
        "        outputs = self.transformer(input_ids, attention_mask=attention_mask)\n",
        "        # Here, normally you might calculate and return a loss if labels are provided\n",
        "        # For prototyping without explicit loss calculation:\n",
        "        return outputs.last_hidden_state\n",
        "\n",
        "# Instantiate model with configuration\n",
        "config = AutoConfig.from_pretrained('bert-base-multilingual-cased')\n",
        "model = CustomModel(config)\n",
        "\n",
        "\n",
        "\n",
        "\n",
        "\n",
        "# Initialize the Trainer\n",
        "trainer = Trainer(\n",
        "    model=model,\n",
        "    args=training_args,\n",
        "    train_dataset=final_splits['train'],  # Your dataset goes here\n",
        "    eval_dataset=final_splits['validation']  # Your evaluation dataset\n",
        ")\n",
        "\n",
        "# Now you can train your model\n",
        "trainer.train()\n",
        "\n",
        "\n",
        "\n"
      ],
      "metadata": {
        "id": "46O1dQIUdi8U",
        "colab": {
          "base_uri": "https://localhost:8080/",
          "height": 356
        },
        "outputId": "34cc7226-b4e9-4b52-898b-64c0989eed7a"
      },
      "execution_count": 78,
      "outputs": [
        {
          "output_type": "error",
          "ename": "RuntimeError",
          "evalue": "grad can be implicitly created only for scalar outputs",
          "traceback": [
            "\u001b[0;31m---------------------------------------------------------------------------\u001b[0m",
            "\u001b[0;31mRuntimeError\u001b[0m                              Traceback (most recent call last)",
            "\u001b[0;32m<ipython-input-78-246fb9497684>\u001b[0m in \u001b[0;36m<cell line: 55>\u001b[0;34m()\u001b[0m\n\u001b[1;32m     53\u001b[0m \u001b[0;34m\u001b[0m\u001b[0m\n\u001b[1;32m     54\u001b[0m \u001b[0;31m# Now you can train your model\u001b[0m\u001b[0;34m\u001b[0m\u001b[0;34m\u001b[0m\u001b[0m\n\u001b[0;32m---> 55\u001b[0;31m \u001b[0mtrainer\u001b[0m\u001b[0;34m.\u001b[0m\u001b[0mtrain\u001b[0m\u001b[0;34m(\u001b[0m\u001b[0;34m)\u001b[0m\u001b[0;34m\u001b[0m\u001b[0;34m\u001b[0m\u001b[0m\n\u001b[0m\u001b[1;32m     56\u001b[0m \u001b[0;34m\u001b[0m\u001b[0m\n\u001b[1;32m     57\u001b[0m \u001b[0;34m\u001b[0m\u001b[0m\n",
            "\u001b[0;32m/usr/local/lib/python3.10/dist-packages/transformers/trainer.py\u001b[0m in \u001b[0;36mtrain\u001b[0;34m(self, resume_from_checkpoint, trial, ignore_keys_for_eval, **kwargs)\u001b[0m\n\u001b[1;32m   2121\u001b[0m                 \u001b[0mhf_hub_utils\u001b[0m\u001b[0;34m.\u001b[0m\u001b[0menable_progress_bars\u001b[0m\u001b[0;34m(\u001b[0m\u001b[0;34m)\u001b[0m\u001b[0;34m\u001b[0m\u001b[0;34m\u001b[0m\u001b[0m\n\u001b[1;32m   2122\u001b[0m         \u001b[0;32melse\u001b[0m\u001b[0;34m:\u001b[0m\u001b[0;34m\u001b[0m\u001b[0;34m\u001b[0m\u001b[0m\n\u001b[0;32m-> 2123\u001b[0;31m             return inner_training_loop(\n\u001b[0m\u001b[1;32m   2124\u001b[0m                 \u001b[0margs\u001b[0m\u001b[0;34m=\u001b[0m\u001b[0margs\u001b[0m\u001b[0;34m,\u001b[0m\u001b[0;34m\u001b[0m\u001b[0;34m\u001b[0m\u001b[0m\n\u001b[1;32m   2125\u001b[0m                 \u001b[0mresume_from_checkpoint\u001b[0m\u001b[0;34m=\u001b[0m\u001b[0mresume_from_checkpoint\u001b[0m\u001b[0;34m,\u001b[0m\u001b[0;34m\u001b[0m\u001b[0;34m\u001b[0m\u001b[0m\n",
            "\u001b[0;32m/usr/local/lib/python3.10/dist-packages/transformers/trainer.py\u001b[0m in \u001b[0;36m_inner_training_loop\u001b[0;34m(self, batch_size, args, resume_from_checkpoint, trial, ignore_keys_for_eval)\u001b[0m\n\u001b[1;32m   2479\u001b[0m                     )\n\u001b[1;32m   2480\u001b[0m                     \u001b[0;32mwith\u001b[0m \u001b[0mcontext\u001b[0m\u001b[0;34m(\u001b[0m\u001b[0;34m)\u001b[0m\u001b[0;34m:\u001b[0m\u001b[0;34m\u001b[0m\u001b[0;34m\u001b[0m\u001b[0m\n\u001b[0;32m-> 2481\u001b[0;31m                         \u001b[0mtr_loss_step\u001b[0m \u001b[0;34m=\u001b[0m \u001b[0mself\u001b[0m\u001b[0;34m.\u001b[0m\u001b[0mtraining_step\u001b[0m\u001b[0;34m(\u001b[0m\u001b[0mmodel\u001b[0m\u001b[0;34m,\u001b[0m \u001b[0minputs\u001b[0m\u001b[0;34m,\u001b[0m \u001b[0mnum_items_in_batch\u001b[0m\u001b[0;34m)\u001b[0m\u001b[0;34m\u001b[0m\u001b[0;34m\u001b[0m\u001b[0m\n\u001b[0m\u001b[1;32m   2482\u001b[0m \u001b[0;34m\u001b[0m\u001b[0m\n\u001b[1;32m   2483\u001b[0m                     if (\n",
            "\u001b[0;32m/usr/local/lib/python3.10/dist-packages/transformers/trainer.py\u001b[0m in \u001b[0;36mtraining_step\u001b[0;34m(***failed resolving arguments***)\u001b[0m\n\u001b[1;32m   3610\u001b[0m                 \u001b[0mscaled_loss\u001b[0m\u001b[0;34m.\u001b[0m\u001b[0mbackward\u001b[0m\u001b[0;34m(\u001b[0m\u001b[0;34m)\u001b[0m\u001b[0;34m\u001b[0m\u001b[0;34m\u001b[0m\u001b[0m\n\u001b[1;32m   3611\u001b[0m         \u001b[0;32melse\u001b[0m\u001b[0;34m:\u001b[0m\u001b[0;34m\u001b[0m\u001b[0;34m\u001b[0m\u001b[0m\n\u001b[0;32m-> 3612\u001b[0;31m             \u001b[0mself\u001b[0m\u001b[0;34m.\u001b[0m\u001b[0maccelerator\u001b[0m\u001b[0;34m.\u001b[0m\u001b[0mbackward\u001b[0m\u001b[0;34m(\u001b[0m\u001b[0mloss\u001b[0m\u001b[0;34m,\u001b[0m \u001b[0;34m**\u001b[0m\u001b[0mkwargs\u001b[0m\u001b[0;34m)\u001b[0m\u001b[0;34m\u001b[0m\u001b[0;34m\u001b[0m\u001b[0m\n\u001b[0m\u001b[1;32m   3613\u001b[0m             \u001b[0;31m# Finally we need to normalize the loss for reporting\u001b[0m\u001b[0;34m\u001b[0m\u001b[0;34m\u001b[0m\u001b[0m\n\u001b[1;32m   3614\u001b[0m             \u001b[0;32mif\u001b[0m \u001b[0mnum_items_in_batch\u001b[0m \u001b[0;32mis\u001b[0m \u001b[0;32mNone\u001b[0m\u001b[0;34m:\u001b[0m\u001b[0;34m\u001b[0m\u001b[0;34m\u001b[0m\u001b[0m\n",
            "\u001b[0;32m/usr/local/lib/python3.10/dist-packages/accelerate/accelerator.py\u001b[0m in \u001b[0;36mbackward\u001b[0;34m(self, loss, **kwargs)\u001b[0m\n\u001b[1;32m   2239\u001b[0m             \u001b[0mself\u001b[0m\u001b[0;34m.\u001b[0m\u001b[0mlomo_backward\u001b[0m\u001b[0;34m(\u001b[0m\u001b[0mloss\u001b[0m\u001b[0;34m,\u001b[0m \u001b[0mlearning_rate\u001b[0m\u001b[0;34m)\u001b[0m\u001b[0;34m\u001b[0m\u001b[0;34m\u001b[0m\u001b[0m\n\u001b[1;32m   2240\u001b[0m         \u001b[0;32melse\u001b[0m\u001b[0;34m:\u001b[0m\u001b[0;34m\u001b[0m\u001b[0;34m\u001b[0m\u001b[0m\n\u001b[0;32m-> 2241\u001b[0;31m             \u001b[0mloss\u001b[0m\u001b[0;34m.\u001b[0m\u001b[0mbackward\u001b[0m\u001b[0;34m(\u001b[0m\u001b[0;34m**\u001b[0m\u001b[0mkwargs\u001b[0m\u001b[0;34m)\u001b[0m\u001b[0;34m\u001b[0m\u001b[0;34m\u001b[0m\u001b[0m\n\u001b[0m\u001b[1;32m   2242\u001b[0m \u001b[0;34m\u001b[0m\u001b[0m\n\u001b[1;32m   2243\u001b[0m     \u001b[0;32mdef\u001b[0m \u001b[0mset_trigger\u001b[0m\u001b[0;34m(\u001b[0m\u001b[0mself\u001b[0m\u001b[0;34m)\u001b[0m\u001b[0;34m:\u001b[0m\u001b[0;34m\u001b[0m\u001b[0;34m\u001b[0m\u001b[0m\n",
            "\u001b[0;32m/usr/local/lib/python3.10/dist-packages/torch/_tensor.py\u001b[0m in \u001b[0;36mbackward\u001b[0;34m(self, gradient, retain_graph, create_graph, inputs)\u001b[0m\n\u001b[1;32m    579\u001b[0m                 \u001b[0minputs\u001b[0m\u001b[0;34m=\u001b[0m\u001b[0minputs\u001b[0m\u001b[0;34m,\u001b[0m\u001b[0;34m\u001b[0m\u001b[0;34m\u001b[0m\u001b[0m\n\u001b[1;32m    580\u001b[0m             )\n\u001b[0;32m--> 581\u001b[0;31m         torch.autograd.backward(\n\u001b[0m\u001b[1;32m    582\u001b[0m             \u001b[0mself\u001b[0m\u001b[0;34m,\u001b[0m \u001b[0mgradient\u001b[0m\u001b[0;34m,\u001b[0m \u001b[0mretain_graph\u001b[0m\u001b[0;34m,\u001b[0m \u001b[0mcreate_graph\u001b[0m\u001b[0;34m,\u001b[0m \u001b[0minputs\u001b[0m\u001b[0;34m=\u001b[0m\u001b[0minputs\u001b[0m\u001b[0;34m\u001b[0m\u001b[0;34m\u001b[0m\u001b[0m\n\u001b[1;32m    583\u001b[0m         )\n",
            "\u001b[0;32m/usr/local/lib/python3.10/dist-packages/torch/autograd/__init__.py\u001b[0m in \u001b[0;36mbackward\u001b[0;34m(tensors, grad_tensors, retain_graph, create_graph, grad_variables, inputs)\u001b[0m\n\u001b[1;32m    338\u001b[0m \u001b[0;34m\u001b[0m\u001b[0m\n\u001b[1;32m    339\u001b[0m     \u001b[0mgrad_tensors_\u001b[0m \u001b[0;34m=\u001b[0m \u001b[0m_tensor_or_tensors_to_tuple\u001b[0m\u001b[0;34m(\u001b[0m\u001b[0mgrad_tensors\u001b[0m\u001b[0;34m,\u001b[0m \u001b[0mlen\u001b[0m\u001b[0;34m(\u001b[0m\u001b[0mtensors\u001b[0m\u001b[0;34m)\u001b[0m\u001b[0;34m)\u001b[0m\u001b[0;34m\u001b[0m\u001b[0;34m\u001b[0m\u001b[0m\n\u001b[0;32m--> 340\u001b[0;31m     \u001b[0mgrad_tensors_\u001b[0m \u001b[0;34m=\u001b[0m \u001b[0m_make_grads\u001b[0m\u001b[0;34m(\u001b[0m\u001b[0mtensors\u001b[0m\u001b[0;34m,\u001b[0m \u001b[0mgrad_tensors_\u001b[0m\u001b[0;34m,\u001b[0m \u001b[0mis_grads_batched\u001b[0m\u001b[0;34m=\u001b[0m\u001b[0;32mFalse\u001b[0m\u001b[0;34m)\u001b[0m\u001b[0;34m\u001b[0m\u001b[0;34m\u001b[0m\u001b[0m\n\u001b[0m\u001b[1;32m    341\u001b[0m     \u001b[0;32mif\u001b[0m \u001b[0mretain_graph\u001b[0m \u001b[0;32mis\u001b[0m \u001b[0;32mNone\u001b[0m\u001b[0;34m:\u001b[0m\u001b[0;34m\u001b[0m\u001b[0;34m\u001b[0m\u001b[0m\n\u001b[1;32m    342\u001b[0m         \u001b[0mretain_graph\u001b[0m \u001b[0;34m=\u001b[0m \u001b[0mcreate_graph\u001b[0m\u001b[0;34m\u001b[0m\u001b[0;34m\u001b[0m\u001b[0m\n",
            "\u001b[0;32m/usr/local/lib/python3.10/dist-packages/torch/autograd/__init__.py\u001b[0m in \u001b[0;36m_make_grads\u001b[0;34m(outputs, grads, is_grads_batched)\u001b[0m\n\u001b[1;32m    196\u001b[0m                     \u001b[0mout_numel_is_1\u001b[0m \u001b[0;34m=\u001b[0m \u001b[0mout\u001b[0m\u001b[0;34m.\u001b[0m\u001b[0mnumel\u001b[0m\u001b[0;34m(\u001b[0m\u001b[0;34m)\u001b[0m \u001b[0;34m==\u001b[0m \u001b[0;36m1\u001b[0m\u001b[0;34m\u001b[0m\u001b[0;34m\u001b[0m\u001b[0m\n\u001b[1;32m    197\u001b[0m                 \u001b[0;32mif\u001b[0m \u001b[0;32mnot\u001b[0m \u001b[0mout_numel_is_1\u001b[0m\u001b[0;34m:\u001b[0m\u001b[0;34m\u001b[0m\u001b[0;34m\u001b[0m\u001b[0m\n\u001b[0;32m--> 198\u001b[0;31m                     raise RuntimeError(\n\u001b[0m\u001b[1;32m    199\u001b[0m                         \u001b[0;34m\"grad can be implicitly created only for scalar outputs\"\u001b[0m\u001b[0;34m\u001b[0m\u001b[0;34m\u001b[0m\u001b[0m\n\u001b[1;32m    200\u001b[0m                     )\n",
            "\u001b[0;31mRuntimeError\u001b[0m: grad can be implicitly created only for scalar outputs"
          ]
        }
      ]
    },
    {
      "cell_type": "code",
      "source": [
        "# Start training and evaluate on the test set\n",
        "trainer.train()\n",
        "evaluation_results = trainer.evaluate(final_splits['test'])\n",
        "print(evaluation_results)\n"
      ],
      "metadata": {
        "id": "ZTMP9wk-sV6F",
        "colab": {
          "base_uri": "https://localhost:8080/",
          "height": 443
        },
        "outputId": "df6da8da-2cab-4722-9529-64012814f0e4"
      },
      "execution_count": 64,
      "outputs": [
        {
          "output_type": "stream",
          "name": "stderr",
          "text": [
            "\u001b[34m\u001b[1mwandb\u001b[0m: Currently logged in as: \u001b[33msirsuryash\u001b[0m (\u001b[33msuryash-ic\u001b[0m). Use \u001b[1m`wandb login --relogin`\u001b[0m to force relogin\n"
          ]
        },
        {
          "output_type": "display_data",
          "data": {
            "text/plain": [
              "<IPython.core.display.HTML object>"
            ],
            "text/html": [
              "Tracking run with wandb version 0.18.7"
            ]
          },
          "metadata": {}
        },
        {
          "output_type": "display_data",
          "data": {
            "text/plain": [
              "<IPython.core.display.HTML object>"
            ],
            "text/html": [
              "Run data is saved locally in <code>/content/drive/StyleTTS2/wandb/run-20241211_162941-1bmilv3x</code>"
            ]
          },
          "metadata": {}
        },
        {
          "output_type": "display_data",
          "data": {
            "text/plain": [
              "<IPython.core.display.HTML object>"
            ],
            "text/html": [
              "Syncing run <strong><a href='https://wandb.ai/suryash-ic/huggingface/runs/1bmilv3x' target=\"_blank\">my_specific_run</a></strong> to <a href='https://wandb.ai/suryash-ic/huggingface' target=\"_blank\">Weights & Biases</a> (<a href='https://wandb.me/developer-guide' target=\"_blank\">docs</a>)<br/>"
            ]
          },
          "metadata": {}
        },
        {
          "output_type": "display_data",
          "data": {
            "text/plain": [
              "<IPython.core.display.HTML object>"
            ],
            "text/html": [
              " View project at <a href='https://wandb.ai/suryash-ic/huggingface' target=\"_blank\">https://wandb.ai/suryash-ic/huggingface</a>"
            ]
          },
          "metadata": {}
        },
        {
          "output_type": "display_data",
          "data": {
            "text/plain": [
              "<IPython.core.display.HTML object>"
            ],
            "text/html": [
              " View run at <a href='https://wandb.ai/suryash-ic/huggingface/runs/1bmilv3x' target=\"_blank\">https://wandb.ai/suryash-ic/huggingface/runs/1bmilv3x</a>"
            ]
          },
          "metadata": {}
        },
        {
          "output_type": "error",
          "ename": "ValueError",
          "evalue": "The model did not return a loss from the inputs, only the following keys: last_hidden_state,pooler_output. For reference, the inputs it received are input_ids,token_type_ids,attention_mask.",
          "traceback": [
            "\u001b[0;31m---------------------------------------------------------------------------\u001b[0m",
            "\u001b[0;31mValueError\u001b[0m                                Traceback (most recent call last)",
            "\u001b[0;32m<ipython-input-64-63a690855ae0>\u001b[0m in \u001b[0;36m<cell line: 2>\u001b[0;34m()\u001b[0m\n\u001b[1;32m      1\u001b[0m \u001b[0;31m# Start training and evaluate on the test set\u001b[0m\u001b[0;34m\u001b[0m\u001b[0;34m\u001b[0m\u001b[0m\n\u001b[0;32m----> 2\u001b[0;31m \u001b[0mtrainer\u001b[0m\u001b[0;34m.\u001b[0m\u001b[0mtrain\u001b[0m\u001b[0;34m(\u001b[0m\u001b[0;34m)\u001b[0m\u001b[0;34m\u001b[0m\u001b[0;34m\u001b[0m\u001b[0m\n\u001b[0m\u001b[1;32m      3\u001b[0m \u001b[0mevaluation_results\u001b[0m \u001b[0;34m=\u001b[0m \u001b[0mtrainer\u001b[0m\u001b[0;34m.\u001b[0m\u001b[0mevaluate\u001b[0m\u001b[0;34m(\u001b[0m\u001b[0mfinal_splits\u001b[0m\u001b[0;34m[\u001b[0m\u001b[0;34m'test'\u001b[0m\u001b[0;34m]\u001b[0m\u001b[0;34m)\u001b[0m\u001b[0;34m\u001b[0m\u001b[0;34m\u001b[0m\u001b[0m\n\u001b[1;32m      4\u001b[0m \u001b[0mprint\u001b[0m\u001b[0;34m(\u001b[0m\u001b[0mevaluation_results\u001b[0m\u001b[0;34m)\u001b[0m\u001b[0;34m\u001b[0m\u001b[0;34m\u001b[0m\u001b[0m\n",
            "\u001b[0;32m/usr/local/lib/python3.10/dist-packages/transformers/trainer.py\u001b[0m in \u001b[0;36mtrain\u001b[0;34m(self, resume_from_checkpoint, trial, ignore_keys_for_eval, **kwargs)\u001b[0m\n\u001b[1;32m   2121\u001b[0m                 \u001b[0mhf_hub_utils\u001b[0m\u001b[0;34m.\u001b[0m\u001b[0menable_progress_bars\u001b[0m\u001b[0;34m(\u001b[0m\u001b[0;34m)\u001b[0m\u001b[0;34m\u001b[0m\u001b[0;34m\u001b[0m\u001b[0m\n\u001b[1;32m   2122\u001b[0m         \u001b[0;32melse\u001b[0m\u001b[0;34m:\u001b[0m\u001b[0;34m\u001b[0m\u001b[0;34m\u001b[0m\u001b[0m\n\u001b[0;32m-> 2123\u001b[0;31m             return inner_training_loop(\n\u001b[0m\u001b[1;32m   2124\u001b[0m                 \u001b[0margs\u001b[0m\u001b[0;34m=\u001b[0m\u001b[0margs\u001b[0m\u001b[0;34m,\u001b[0m\u001b[0;34m\u001b[0m\u001b[0;34m\u001b[0m\u001b[0m\n\u001b[1;32m   2125\u001b[0m                 \u001b[0mresume_from_checkpoint\u001b[0m\u001b[0;34m=\u001b[0m\u001b[0mresume_from_checkpoint\u001b[0m\u001b[0;34m,\u001b[0m\u001b[0;34m\u001b[0m\u001b[0;34m\u001b[0m\u001b[0m\n",
            "\u001b[0;32m/usr/local/lib/python3.10/dist-packages/transformers/trainer.py\u001b[0m in \u001b[0;36m_inner_training_loop\u001b[0;34m(self, batch_size, args, resume_from_checkpoint, trial, ignore_keys_for_eval)\u001b[0m\n\u001b[1;32m   2479\u001b[0m                     )\n\u001b[1;32m   2480\u001b[0m                     \u001b[0;32mwith\u001b[0m \u001b[0mcontext\u001b[0m\u001b[0;34m(\u001b[0m\u001b[0;34m)\u001b[0m\u001b[0;34m:\u001b[0m\u001b[0;34m\u001b[0m\u001b[0;34m\u001b[0m\u001b[0m\n\u001b[0;32m-> 2481\u001b[0;31m                         \u001b[0mtr_loss_step\u001b[0m \u001b[0;34m=\u001b[0m \u001b[0mself\u001b[0m\u001b[0;34m.\u001b[0m\u001b[0mtraining_step\u001b[0m\u001b[0;34m(\u001b[0m\u001b[0mmodel\u001b[0m\u001b[0;34m,\u001b[0m \u001b[0minputs\u001b[0m\u001b[0;34m,\u001b[0m \u001b[0mnum_items_in_batch\u001b[0m\u001b[0;34m)\u001b[0m\u001b[0;34m\u001b[0m\u001b[0;34m\u001b[0m\u001b[0m\n\u001b[0m\u001b[1;32m   2482\u001b[0m \u001b[0;34m\u001b[0m\u001b[0m\n\u001b[1;32m   2483\u001b[0m                     if (\n",
            "\u001b[0;32m/usr/local/lib/python3.10/dist-packages/transformers/trainer.py\u001b[0m in \u001b[0;36mtraining_step\u001b[0;34m(self, model, inputs, num_items_in_batch)\u001b[0m\n\u001b[1;32m   3577\u001b[0m \u001b[0;34m\u001b[0m\u001b[0m\n\u001b[1;32m   3578\u001b[0m         \u001b[0;32mwith\u001b[0m \u001b[0mself\u001b[0m\u001b[0;34m.\u001b[0m\u001b[0mcompute_loss_context_manager\u001b[0m\u001b[0;34m(\u001b[0m\u001b[0;34m)\u001b[0m\u001b[0;34m:\u001b[0m\u001b[0;34m\u001b[0m\u001b[0;34m\u001b[0m\u001b[0m\n\u001b[0;32m-> 3579\u001b[0;31m             \u001b[0mloss\u001b[0m \u001b[0;34m=\u001b[0m \u001b[0mself\u001b[0m\u001b[0;34m.\u001b[0m\u001b[0mcompute_loss\u001b[0m\u001b[0;34m(\u001b[0m\u001b[0mmodel\u001b[0m\u001b[0;34m,\u001b[0m \u001b[0minputs\u001b[0m\u001b[0;34m,\u001b[0m \u001b[0mnum_items_in_batch\u001b[0m\u001b[0;34m=\u001b[0m\u001b[0mnum_items_in_batch\u001b[0m\u001b[0;34m)\u001b[0m\u001b[0;34m\u001b[0m\u001b[0;34m\u001b[0m\u001b[0m\n\u001b[0m\u001b[1;32m   3580\u001b[0m \u001b[0;34m\u001b[0m\u001b[0m\n\u001b[1;32m   3581\u001b[0m         \u001b[0;32mdel\u001b[0m \u001b[0minputs\u001b[0m\u001b[0;34m\u001b[0m\u001b[0;34m\u001b[0m\u001b[0m\n",
            "\u001b[0;32m/usr/local/lib/python3.10/dist-packages/transformers/trainer.py\u001b[0m in \u001b[0;36mcompute_loss\u001b[0;34m(self, model, inputs, return_outputs, num_items_in_batch)\u001b[0m\n\u001b[1;32m   3652\u001b[0m         \u001b[0;32melse\u001b[0m\u001b[0;34m:\u001b[0m\u001b[0;34m\u001b[0m\u001b[0;34m\u001b[0m\u001b[0m\n\u001b[1;32m   3653\u001b[0m             \u001b[0;32mif\u001b[0m \u001b[0misinstance\u001b[0m\u001b[0;34m(\u001b[0m\u001b[0moutputs\u001b[0m\u001b[0;34m,\u001b[0m \u001b[0mdict\u001b[0m\u001b[0;34m)\u001b[0m \u001b[0;32mand\u001b[0m \u001b[0;34m\"loss\"\u001b[0m \u001b[0;32mnot\u001b[0m \u001b[0;32min\u001b[0m \u001b[0moutputs\u001b[0m\u001b[0;34m:\u001b[0m\u001b[0;34m\u001b[0m\u001b[0;34m\u001b[0m\u001b[0m\n\u001b[0;32m-> 3654\u001b[0;31m                 raise ValueError(\n\u001b[0m\u001b[1;32m   3655\u001b[0m                     \u001b[0;34m\"The model did not return a loss from the inputs, only the following keys: \"\u001b[0m\u001b[0;34m\u001b[0m\u001b[0;34m\u001b[0m\u001b[0m\n\u001b[1;32m   3656\u001b[0m                     \u001b[0;34mf\"{','.join(outputs.keys())}. For reference, the inputs it received are {','.join(inputs.keys())}.\"\u001b[0m\u001b[0;34m\u001b[0m\u001b[0;34m\u001b[0m\u001b[0m\n",
            "\u001b[0;31mValueError\u001b[0m: The model did not return a loss from the inputs, only the following keys: last_hidden_state,pooler_output. For reference, the inputs it received are input_ids,token_type_ids,attention_mask."
          ]
        }
      ]
    },
    {
      "cell_type": "markdown",
      "source": [
        "### Let's test it"
      ],
      "metadata": {
        "id": "wYDxl-Q93VPv"
      }
    },
    {
      "cell_type": "code",
      "source": [
        "# import os\n",
        "# print(os.listdir('./results/checkpoint-132'))\n"
      ],
      "metadata": {
        "id": "gs90UOZM4OlN"
      },
      "execution_count": null,
      "outputs": []
    },
    {
      "cell_type": "code",
      "source": [
        "!ls ./results"
      ],
      "metadata": {
        "collapsed": true,
        "id": "thNDu5453mjc"
      },
      "execution_count": null,
      "outputs": []
    },
    {
      "cell_type": "markdown",
      "source": [],
      "metadata": {
        "id": "Qqb50Isz4yJi"
      }
    },
    {
      "cell_type": "code",
      "source": [
        "from transformers import AutoTokenizer, AutoModelForSequenceClassification\n",
        "\n",
        "# Load the model from the checkpoint\n",
        "checkpoint_path = './results/checkpoint-5'\n",
        "model = AutoModelForSequenceClassification.from_pretrained(checkpoint_path)\n",
        "\n",
        "# Load the tokenizer from the original pretrained model\n",
        "tokenizer = AutoTokenizer.from_pretrained('bert-base-multilingual-cased')\n",
        "\n",
        "print(\"Model and tokenizer loaded successfully.\")\n"
      ],
      "metadata": {
        "id": "PpQDYjT23Uyy"
      },
      "execution_count": null,
      "outputs": []
    },
    {
      "cell_type": "code",
      "source": [
        "german_text = \"Guten Morgen! Wie geht es Ihnen?\"  # Example German text\n",
        "inputs = tokenizer(german_text, return_tensors=\"pt\", truncation=True, padding='max_length')\n"
      ],
      "metadata": {
        "id": "7m5XElgY3bt4"
      },
      "execution_count": null,
      "outputs": []
    },
    {
      "cell_type": "code",
      "source": [
        "# def inference_accent(text, accent, noise, diffusion_steps=5, embedding_scale=1):\n",
        "#     # Preprocess the input text and accent\n",
        "#     inputs = preprocess_data(text, accent, tokenizer)\n",
        "\n",
        "#     # Move inputs to the correct device\n",
        "#     input_ids = inputs['input_ids'].to(device)\n",
        "#     attention_mask = inputs['attention_mask'].to(device)\n",
        "#     accent_tensor = inputs['accent'].to(device)\n",
        "\n",
        "#     # Perform inference\n",
        "#     with torch.no_grad():\n",
        "#         outputs = model(\n",
        "#             input_ids=input_ids,\n",
        "#             attention_mask=attention_mask,\n",
        "#             accent=accent_tensor,\n",
        "#             noise=noise,\n",
        "#             diffusion_steps=diffusion_steps,\n",
        "#         )\n",
        "\n",
        "#         # Example: Extract mel-spectrogram or similar output\n",
        "#         wav = vocoder(outputs.mel_features)  # Replace with the actual vocoder used\n",
        "\n",
        "#     return wav\n"
      ],
      "metadata": {
        "id": "ZAlP7IyL9tkH"
      },
      "execution_count": null,
      "outputs": []
    },
    {
      "cell_type": "code",
      "source": [
        "def inference_accent2(text, noise, diffusion_steps=5, embedding_scale=1, accent=None):\n",
        "    # Process the text\n",
        "    text = text.strip()\n",
        "    text = text.replace('\"', '')\n",
        "\n",
        "    # Apply accent-specific transformations before phonemization\n",
        "    if accent:\n",
        "        text = apply_accent_adjustments(text, accent)\n",
        "\n",
        "    # Phonemize the text (phonemizer does not depend on accent, so pass the transformed text)\n",
        "    ps = global_phonemizer.phonemize([text])\n",
        "    ps = word_tokenize(ps[0])\n",
        "    ps = ' '.join(ps)\n",
        "\n",
        "    # Tokenization\n",
        "    tokens = textclenaer(ps)\n",
        "    tokens.insert(0, 0)\n",
        "    tokens = torch.LongTensor(tokens).to(device).unsqueeze(0)\n",
        "\n",
        "    # Adjust embedding scale based on accent\n",
        "    if accent:\n",
        "        accent_map = {\n",
        "            'german': 0.8,  # Example scale factor for German accent\n",
        "            'english': 1.2,  # Example scale factor for English accent\n",
        "            # Add other accents and their respective adjustments here\n",
        "        }\n",
        "        embedding_scale *= accent_map.get(accent, 1)\n",
        "\n",
        "    # Perform the inference\n",
        "    with torch.no_grad():\n",
        "        input_lengths = torch.LongTensor([tokens.shape[-1]]).to(tokens.device)\n",
        "        text_mask = length_to_mask(input_lengths).to(tokens.device)\n",
        "\n",
        "        t_en = model.text_encoder(tokens, input_lengths, text_mask)\n",
        "        bert_dur = model.bert(tokens, attention_mask=(~text_mask).int())\n",
        "        d_en = model.bert_encoder(bert_dur).transpose(-1, -2)\n",
        "\n",
        "        s_pred = sampler(noise,\n",
        "                          embedding=bert_dur[0].unsqueeze(0), num_steps=diffusion_steps,\n",
        "                          embedding_scale=embedding_scale).squeeze(0)\n",
        "\n",
        "        s = s_pred[:, 128:]\n",
        "        ref = s_pred[:, :128]\n",
        "\n",
        "        d = model.predictor.text_encoder(d_en, s, input_lengths, text_mask)\n",
        "\n",
        "        x, _ = model.predictor.lstm(d)\n",
        "        duration = model.predictor.duration_proj(x)\n",
        "        duration = torch.sigmoid(duration).sum(axis=-1)\n",
        "        pred_dur = torch.round(duration.squeeze()).clamp(min=1)\n",
        "\n",
        "        pred_dur[-1] += 5\n",
        "\n",
        "        pred_aln_trg = torch.zeros(input_lengths, int(pred_dur.sum().data))\n",
        "        c_frame = 0\n",
        "        for i in range(pred_aln_trg.size(0)):\n",
        "            pred_aln_trg[i, c_frame:c_frame + int(pred_dur[i].data)] = 1\n",
        "            c_frame += int(pred_dur[i].data)\n",
        "\n",
        "        # encode prosody\n",
        "        en = (d.transpose(-1, -2) @ pred_aln_trg.unsqueeze(0).to(device))\n",
        "        F0_pred, N_pred = model.predictor.F0Ntrain(en, s)\n",
        "        out = model.decoder((t_en @ pred_aln_trg.unsqueeze(0).to(device)),\n",
        "                            F0_pred, N_pred, ref.squeeze().unsqueeze(0))\n",
        "\n",
        "    return out.squeeze().cpu().numpy()\n",
        "\n",
        "def apply_accent_adjustments(text, accent):\n",
        "    \"\"\"\n",
        "    Apply accent-specific changes to the text before phonemization.\n",
        "    Example: Replace phonetic patterns, adjust pronunciation etc.\n",
        "    \"\"\"\n",
        "    if accent == \"german\":\n",
        "        text = text.replace('th', 't')  # German pronunciation of 'th'\n",
        "    elif accent == \"english\":\n",
        "        text = text.replace('r', 'ʁ')  # English pronunciation of 'r'\n",
        "    return text\n"
      ],
      "metadata": {
        "id": "F8d2OK7ZQysK"
      },
      "execution_count": null,
      "outputs": []
    },
    {
      "cell_type": "code",
      "source": [
        "# Pass the inputs to the model\n",
        "with torch.no_grad():  # Disable gradients for inference\n",
        "    outputs = model(**inputs)\n",
        "\n",
        "# Get logits (predictions before applying softmax)\n",
        "logits = outputs.logits\n",
        "\n",
        "# Apply softmax to get probabilities\n",
        "probabilities = torch.nn.functional.softmax(logits, dim=-1)\n",
        "\n",
        "# Get the predicted class\n",
        "predicted_class = torch.argmax(probabilities, dim=-1).item()\n",
        "\n",
        "print(f\"Predicted class: {predicted_class}\")\n",
        "print(f\"Probabilities: {probabilities}\")\n"
      ],
      "metadata": {
        "id": "Y5a2W8y83e6V"
      },
      "execution_count": null,
      "outputs": []
    },
    {
      "cell_type": "code",
      "source": [
        "import torch\n",
        "\n",
        "# Check if GPU is available, otherwise use CPU\n",
        "device = torch.device(\"cuda\" if torch.cuda.is_available() else \"cpu\")\n",
        "print(\"Using device:\", device)"
      ],
      "metadata": {
        "id": "mW3OPL7S7OV_"
      },
      "execution_count": null,
      "outputs": []
    },
    {
      "cell_type": "code",
      "source": [
        "_accent = \"german\""
      ],
      "metadata": {
        "id": "Cr9VUZ9NPyzJ"
      },
      "execution_count": null,
      "outputs": []
    },
    {
      "cell_type": "code",
      "source": [
        "help(global_phonemizer.phonemize)"
      ],
      "metadata": {
        "id": "o9wHC5eMQUNq"
      },
      "execution_count": null,
      "outputs": []
    },
    {
      "cell_type": "code",
      "source": [
        "text = \"Guten Morgen! Wie geht es Ihnen?\"  # German text\n",
        "noise = torch.randn(1, 1, 256).to(device)  # Generate noise\n",
        "\n",
        "# Use the imported function\n",
        "result = inference_accent2(text, noise, diffusion_steps=5, embedding_scale=1, accent=\"german\")\n",
        "\n",
        "# Play the audio\n",
        "import IPython.display as ipd\n",
        "display(ipd.Audio(result, rate=24000))\n"
      ],
      "metadata": {
        "id": "3cB4LFCo5lLu"
      },
      "execution_count": null,
      "outputs": []
    }
  ]
}